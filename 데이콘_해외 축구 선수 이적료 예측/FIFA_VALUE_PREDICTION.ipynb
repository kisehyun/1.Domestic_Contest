{
 "cells": [
  {
   "cell_type": "code",
   "execution_count": 1,
   "metadata": {},
   "outputs": [],
   "source": [
    "import pandas as pd\n",
    "import numpy as np\n",
    "import matplotlib.pyplot as plt\n",
    "import seaborn as sns\n",
    "%matplotlib inline\n",
    "import warnings\n",
    "warnings.filterwarnings('ignore')\n",
    "from sklearn.metrics import mean_squared_error\n",
    "from sklearn.ensemble import RandomForestRegressor, GradientBoostingRegressor, ExtraTreesRegressor\n",
    "from sklearn.model_selection import KFold\n",
    "from lightgbm import LGBMRegressor\n",
    "from xgboost import XGBRegressor\n",
    "from catboost import CatBoostRegressor\n",
    "from ngboost import NGBRegressor"
   ]
  },
  {
   "cell_type": "markdown",
   "metadata": {},
   "source": [
    "### 데이터 불러오기"
   ]
  },
  {
   "cell_type": "code",
   "execution_count": 2,
   "metadata": {},
   "outputs": [],
   "source": [
    "train = pd.read_csv('FIFA_train.csv')\n",
    "test = pd.read_csv('FIFA_test.csv')\n",
    "submission = pd.read_csv('submission.csv')"
   ]
  },
  {
   "cell_type": "code",
   "execution_count": 3,
   "metadata": {
    "scrolled": true
   },
   "outputs": [
    {
     "data": {
      "text/html": [
       "<div>\n",
       "<style scoped>\n",
       "    .dataframe tbody tr th:only-of-type {\n",
       "        vertical-align: middle;\n",
       "    }\n",
       "\n",
       "    .dataframe tbody tr th {\n",
       "        vertical-align: top;\n",
       "    }\n",
       "\n",
       "    .dataframe thead th {\n",
       "        text-align: right;\n",
       "    }\n",
       "</style>\n",
       "<table border=\"1\" class=\"dataframe\">\n",
       "  <thead>\n",
       "    <tr style=\"text-align: right;\">\n",
       "      <th></th>\n",
       "      <th>id</th>\n",
       "      <th>name</th>\n",
       "      <th>age</th>\n",
       "      <th>continent</th>\n",
       "      <th>contract_until</th>\n",
       "      <th>position</th>\n",
       "      <th>prefer_foot</th>\n",
       "      <th>reputation</th>\n",
       "      <th>stat_overall</th>\n",
       "      <th>stat_potential</th>\n",
       "      <th>stat_skill_moves</th>\n",
       "      <th>value</th>\n",
       "    </tr>\n",
       "  </thead>\n",
       "  <tbody>\n",
       "    <tr>\n",
       "      <th>0</th>\n",
       "      <td>0</td>\n",
       "      <td>L. Messi</td>\n",
       "      <td>31</td>\n",
       "      <td>south america</td>\n",
       "      <td>2021</td>\n",
       "      <td>ST</td>\n",
       "      <td>left</td>\n",
       "      <td>5.0</td>\n",
       "      <td>94</td>\n",
       "      <td>94</td>\n",
       "      <td>4.0</td>\n",
       "      <td>110500000.0</td>\n",
       "    </tr>\n",
       "    <tr>\n",
       "      <th>1</th>\n",
       "      <td>3</td>\n",
       "      <td>De Gea</td>\n",
       "      <td>27</td>\n",
       "      <td>europe</td>\n",
       "      <td>2020</td>\n",
       "      <td>GK</td>\n",
       "      <td>right</td>\n",
       "      <td>4.0</td>\n",
       "      <td>91</td>\n",
       "      <td>93</td>\n",
       "      <td>1.0</td>\n",
       "      <td>72000000.0</td>\n",
       "    </tr>\n",
       "    <tr>\n",
       "      <th>2</th>\n",
       "      <td>7</td>\n",
       "      <td>L. Suárez</td>\n",
       "      <td>31</td>\n",
       "      <td>south america</td>\n",
       "      <td>2021</td>\n",
       "      <td>ST</td>\n",
       "      <td>right</td>\n",
       "      <td>5.0</td>\n",
       "      <td>91</td>\n",
       "      <td>91</td>\n",
       "      <td>3.0</td>\n",
       "      <td>80000000.0</td>\n",
       "    </tr>\n",
       "    <tr>\n",
       "      <th>3</th>\n",
       "      <td>8</td>\n",
       "      <td>Sergio Ramos</td>\n",
       "      <td>32</td>\n",
       "      <td>europe</td>\n",
       "      <td>2020</td>\n",
       "      <td>DF</td>\n",
       "      <td>right</td>\n",
       "      <td>4.0</td>\n",
       "      <td>91</td>\n",
       "      <td>91</td>\n",
       "      <td>3.0</td>\n",
       "      <td>51000000.0</td>\n",
       "    </tr>\n",
       "    <tr>\n",
       "      <th>4</th>\n",
       "      <td>9</td>\n",
       "      <td>J. Oblak</td>\n",
       "      <td>25</td>\n",
       "      <td>europe</td>\n",
       "      <td>2021</td>\n",
       "      <td>GK</td>\n",
       "      <td>right</td>\n",
       "      <td>3.0</td>\n",
       "      <td>90</td>\n",
       "      <td>93</td>\n",
       "      <td>1.0</td>\n",
       "      <td>68000000.0</td>\n",
       "    </tr>\n",
       "  </tbody>\n",
       "</table>\n",
       "</div>"
      ],
      "text/plain": [
       "   id          name  age      continent contract_until position prefer_foot  \\\n",
       "0   0      L. Messi   31  south america           2021       ST        left   \n",
       "1   3        De Gea   27         europe           2020       GK       right   \n",
       "2   7     L. Suárez   31  south america           2021       ST       right   \n",
       "3   8  Sergio Ramos   32         europe           2020       DF       right   \n",
       "4   9      J. Oblak   25         europe           2021       GK       right   \n",
       "\n",
       "   reputation  stat_overall  stat_potential  stat_skill_moves        value  \n",
       "0         5.0            94              94               4.0  110500000.0  \n",
       "1         4.0            91              93               1.0   72000000.0  \n",
       "2         5.0            91              91               3.0   80000000.0  \n",
       "3         4.0            91              91               3.0   51000000.0  \n",
       "4         3.0            90              93               1.0   68000000.0  "
      ]
     },
     "execution_count": 3,
     "metadata": {},
     "output_type": "execute_result"
    }
   ],
   "source": [
    "train.head()"
   ]
  },
  {
   "cell_type": "code",
   "execution_count": 4,
   "metadata": {},
   "outputs": [
    {
     "data": {
      "text/html": [
       "<div>\n",
       "<style scoped>\n",
       "    .dataframe tbody tr th:only-of-type {\n",
       "        vertical-align: middle;\n",
       "    }\n",
       "\n",
       "    .dataframe tbody tr th {\n",
       "        vertical-align: top;\n",
       "    }\n",
       "\n",
       "    .dataframe thead th {\n",
       "        text-align: right;\n",
       "    }\n",
       "</style>\n",
       "<table border=\"1\" class=\"dataframe\">\n",
       "  <thead>\n",
       "    <tr style=\"text-align: right;\">\n",
       "      <th></th>\n",
       "      <th>id</th>\n",
       "      <th>name</th>\n",
       "      <th>age</th>\n",
       "      <th>continent</th>\n",
       "      <th>contract_until</th>\n",
       "      <th>position</th>\n",
       "      <th>prefer_foot</th>\n",
       "      <th>reputation</th>\n",
       "      <th>stat_overall</th>\n",
       "      <th>stat_potential</th>\n",
       "      <th>stat_skill_moves</th>\n",
       "    </tr>\n",
       "  </thead>\n",
       "  <tbody>\n",
       "    <tr>\n",
       "      <th>0</th>\n",
       "      <td>1</td>\n",
       "      <td>Cristiano Ronaldo</td>\n",
       "      <td>33</td>\n",
       "      <td>europe</td>\n",
       "      <td>2022</td>\n",
       "      <td>ST</td>\n",
       "      <td>right</td>\n",
       "      <td>5.0</td>\n",
       "      <td>94</td>\n",
       "      <td>94</td>\n",
       "      <td>5.0</td>\n",
       "    </tr>\n",
       "    <tr>\n",
       "      <th>1</th>\n",
       "      <td>2</td>\n",
       "      <td>Neymar Jr</td>\n",
       "      <td>26</td>\n",
       "      <td>south america</td>\n",
       "      <td>2022</td>\n",
       "      <td>ST</td>\n",
       "      <td>right</td>\n",
       "      <td>5.0</td>\n",
       "      <td>92</td>\n",
       "      <td>93</td>\n",
       "      <td>5.0</td>\n",
       "    </tr>\n",
       "    <tr>\n",
       "      <th>2</th>\n",
       "      <td>4</td>\n",
       "      <td>K. De Bruyne</td>\n",
       "      <td>27</td>\n",
       "      <td>europe</td>\n",
       "      <td>2023</td>\n",
       "      <td>MF</td>\n",
       "      <td>right</td>\n",
       "      <td>4.0</td>\n",
       "      <td>91</td>\n",
       "      <td>92</td>\n",
       "      <td>4.0</td>\n",
       "    </tr>\n",
       "    <tr>\n",
       "      <th>3</th>\n",
       "      <td>5</td>\n",
       "      <td>E. Hazard</td>\n",
       "      <td>27</td>\n",
       "      <td>europe</td>\n",
       "      <td>2020</td>\n",
       "      <td>ST</td>\n",
       "      <td>right</td>\n",
       "      <td>4.0</td>\n",
       "      <td>91</td>\n",
       "      <td>91</td>\n",
       "      <td>4.0</td>\n",
       "    </tr>\n",
       "    <tr>\n",
       "      <th>4</th>\n",
       "      <td>6</td>\n",
       "      <td>L. Modrić</td>\n",
       "      <td>32</td>\n",
       "      <td>europe</td>\n",
       "      <td>2020</td>\n",
       "      <td>MF</td>\n",
       "      <td>right</td>\n",
       "      <td>4.0</td>\n",
       "      <td>91</td>\n",
       "      <td>91</td>\n",
       "      <td>4.0</td>\n",
       "    </tr>\n",
       "  </tbody>\n",
       "</table>\n",
       "</div>"
      ],
      "text/plain": [
       "   id               name  age      continent contract_until position  \\\n",
       "0   1  Cristiano Ronaldo   33         europe           2022       ST   \n",
       "1   2          Neymar Jr   26  south america           2022       ST   \n",
       "2   4       K. De Bruyne   27         europe           2023       MF   \n",
       "3   5          E. Hazard   27         europe           2020       ST   \n",
       "4   6          L. Modrić   32         europe           2020       MF   \n",
       "\n",
       "  prefer_foot  reputation  stat_overall  stat_potential  stat_skill_moves  \n",
       "0       right         5.0            94              94               5.0  \n",
       "1       right         5.0            92              93               5.0  \n",
       "2       right         4.0            91              92               4.0  \n",
       "3       right         4.0            91              91               4.0  \n",
       "4       right         4.0            91              91               4.0  "
      ]
     },
     "execution_count": 4,
     "metadata": {},
     "output_type": "execute_result"
    }
   ],
   "source": [
    "test.head()"
   ]
  },
  {
   "cell_type": "code",
   "execution_count": 5,
   "metadata": {
    "scrolled": true
   },
   "outputs": [
    {
     "data": {
      "text/html": [
       "<div>\n",
       "<style scoped>\n",
       "    .dataframe tbody tr th:only-of-type {\n",
       "        vertical-align: middle;\n",
       "    }\n",
       "\n",
       "    .dataframe tbody tr th {\n",
       "        vertical-align: top;\n",
       "    }\n",
       "\n",
       "    .dataframe thead th {\n",
       "        text-align: right;\n",
       "    }\n",
       "</style>\n",
       "<table border=\"1\" class=\"dataframe\">\n",
       "  <thead>\n",
       "    <tr style=\"text-align: right;\">\n",
       "      <th></th>\n",
       "      <th>id</th>\n",
       "      <th>value</th>\n",
       "    </tr>\n",
       "  </thead>\n",
       "  <tbody>\n",
       "    <tr>\n",
       "      <th>0</th>\n",
       "      <td>1</td>\n",
       "      <td>0</td>\n",
       "    </tr>\n",
       "    <tr>\n",
       "      <th>1</th>\n",
       "      <td>2</td>\n",
       "      <td>0</td>\n",
       "    </tr>\n",
       "    <tr>\n",
       "      <th>2</th>\n",
       "      <td>4</td>\n",
       "      <td>0</td>\n",
       "    </tr>\n",
       "    <tr>\n",
       "      <th>3</th>\n",
       "      <td>5</td>\n",
       "      <td>0</td>\n",
       "    </tr>\n",
       "    <tr>\n",
       "      <th>4</th>\n",
       "      <td>6</td>\n",
       "      <td>0</td>\n",
       "    </tr>\n",
       "  </tbody>\n",
       "</table>\n",
       "</div>"
      ],
      "text/plain": [
       "   id  value\n",
       "0   1      0\n",
       "1   2      0\n",
       "2   4      0\n",
       "3   5      0\n",
       "4   6      0"
      ]
     },
     "execution_count": 5,
     "metadata": {},
     "output_type": "execute_result"
    }
   ],
   "source": [
    "submission.head()"
   ]
  },
  {
   "cell_type": "markdown",
   "metadata": {},
   "source": [
    "### 이전 공유 코드와 마찬가지로 계약기간 변수를 만들어줍니다."
   ]
  },
  {
   "cell_type": "code",
   "execution_count": 6,
   "metadata": {},
   "outputs": [],
   "source": [
    "def con_period(x):\n",
    "    if x == 'Dec 31, 2018' :\n",
    "        return '2019'\n",
    "    elif x == 'Jun 30, 2020' :\n",
    "        return '2020.5'\n",
    "    elif x == 'Jun 30, 2019' :\n",
    "        return '2019.5'\n",
    "    elif x == 'May 31, 2020' :\n",
    "        return '2020.3333'\n",
    "    elif x == 'May 31, 2019' :\n",
    "        return '2019.3333'\n",
    "    elif x == 'Jan 31, 2019' :\n",
    "        return '2019.0833'\n",
    "    elif x == 'Jan 1, 2019' :\n",
    "        return '2019'\n",
    "    elif x == 'Jan 12, 2019' :\n",
    "        return '2019.034'\n",
    "    elif x == 'Dec 31, 2019' :\n",
    "        return '2020'\n",
    "    elif x == 'Jun 1, 2019' :\n",
    "        return '2019.416'\n",
    "    else :\n",
    "        return x"
   ]
  },
  {
   "cell_type": "code",
   "execution_count": 7,
   "metadata": {},
   "outputs": [],
   "source": [
    "train.contract_until = train.contract_until.apply(con_period).astype('float64') - 2018\n",
    "test.contract_until = test.contract_until.apply(con_period).astype('float64') - 2018"
   ]
  },
  {
   "cell_type": "markdown",
   "metadata": {},
   "source": [
    "***\n",
    "### Log-Transformation"
   ]
  },
  {
   "cell_type": "code",
   "execution_count": 8,
   "metadata": {},
   "outputs": [],
   "source": [
    "train[['age', 'stat_potential']] = np.log1p(train[['age', 'stat_potential']])\n",
    "test[['age', 'stat_potential']] = np.log1p(test[['age', 'stat_potential']])"
   ]
  },
  {
   "cell_type": "markdown",
   "metadata": {},
   "source": [
    "### Train Set"
   ]
  },
  {
   "cell_type": "code",
   "execution_count": 10,
   "metadata": {},
   "outputs": [],
   "source": [
    "X = train[['age', 'continent', 'contract_until', 'position', 'reputation', 'stat_overall', 'stat_potential', 'stat_skill_moves']]\n",
    "y = np.log1p(train['value'])"
   ]
  },
  {
   "cell_type": "code",
   "execution_count": 11,
   "metadata": {},
   "outputs": [],
   "source": [
    "X = pd.get_dummies(columns = ['continent', 'position'], data = X)"
   ]
  },
  {
   "cell_type": "markdown",
   "metadata": {},
   "source": [
    "### Test Set"
   ]
  },
  {
   "cell_type": "code",
   "execution_count": 12,
   "metadata": {},
   "outputs": [],
   "source": [
    "target = test[['age', 'continent', 'contract_until', 'position', 'reputation', 'stat_overall', 'stat_potential', 'stat_skill_moves']]"
   ]
  },
  {
   "cell_type": "code",
   "execution_count": 13,
   "metadata": {},
   "outputs": [],
   "source": [
    "target = pd.get_dummies(columns = ['continent', 'position'], data = target)"
   ]
  },
  {
   "cell_type": "markdown",
   "metadata": {},
   "source": [
    "### 10-Fold Crossvalidation"
   ]
  },
  {
   "cell_type": "code",
   "execution_count": 14,
   "metadata": {},
   "outputs": [],
   "source": [
    "kf = KFold(n_splits = 10, random_state = 521, shuffle = True)"
   ]
  },
  {
   "cell_type": "markdown",
   "metadata": {},
   "source": [
    "### 1) NGBRegressor"
   ]
  },
  {
   "cell_type": "code",
   "execution_count": 20,
   "metadata": {},
   "outputs": [],
   "source": [
    "ngb = NGBRegressor(random_state = 521, verbose = 500, n_estimators = 500)"
   ]
  },
  {
   "cell_type": "code",
   "execution_count": 21,
   "metadata": {
    "scrolled": true
   },
   "outputs": [
    {
     "name": "stdout",
     "output_type": "stream",
     "text": [
      "[iter 0] loss=1.7562 val_loss=0.0000 scale=1.0000 norm=1.2861\n",
      "[iter 100] loss=0.7611 val_loss=0.0000 scale=2.0000 norm=1.1141\n",
      "[iter 200] loss=-0.1028 val_loss=0.0000 scale=2.0000 norm=0.9194\n",
      "[iter 300] loss=-0.7609 val_loss=0.0000 scale=2.0000 norm=0.8144\n",
      "[iter 400] loss=-1.0723 val_loss=0.0000 scale=2.0000 norm=0.8506\n",
      "[iter 0] loss=-1.1726 val_loss=0.0000 scale=1.0000 norm=0.4586\n",
      "[iter 100] loss=-1.2344 val_loss=0.0000 scale=1.0000 norm=0.4660\n",
      "[iter 200] loss=-1.2778 val_loss=0.0000 scale=1.0000 norm=0.4740\n",
      "[iter 300] loss=-1.3129 val_loss=0.0000 scale=2.0000 norm=0.9557\n",
      "[iter 400] loss=-1.3429 val_loss=0.0000 scale=2.0000 norm=0.9620\n",
      "[iter 0] loss=-1.3300 val_loss=0.0000 scale=2.0000 norm=1.0117\n",
      "[iter 100] loss=-1.3749 val_loss=0.0000 scale=1.0000 norm=0.4872\n",
      "[iter 200] loss=-1.3933 val_loss=0.0000 scale=1.0000 norm=0.4881\n",
      "[iter 300] loss=-1.4100 val_loss=0.0000 scale=1.0000 norm=0.4890\n",
      "[iter 400] loss=-1.4252 val_loss=0.0000 scale=1.0000 norm=0.4889\n",
      "[iter 0] loss=-1.4211 val_loss=0.0000 scale=1.0000 norm=0.5029\n",
      "[iter 100] loss=-1.4549 val_loss=0.0000 scale=1.0000 norm=0.4878\n",
      "[iter 200] loss=-1.4647 val_loss=0.0000 scale=1.0000 norm=0.4890\n",
      "[iter 300] loss=-1.4750 val_loss=0.0000 scale=1.0000 norm=0.4894\n",
      "[iter 400] loss=-1.4856 val_loss=0.0000 scale=1.0000 norm=0.4902\n",
      "[iter 0] loss=-1.4884 val_loss=0.0000 scale=1.0000 norm=0.4871\n",
      "[iter 100] loss=-1.5146 val_loss=0.0000 scale=1.0000 norm=0.4813\n",
      "[iter 200] loss=-1.5276 val_loss=0.0000 scale=1.0000 norm=0.4841\n",
      "[iter 300] loss=-1.5351 val_loss=0.0000 scale=1.0000 norm=0.4867\n",
      "[iter 400] loss=-1.5427 val_loss=0.0000 scale=1.0000 norm=0.4870\n",
      "[iter 0] loss=-1.5456 val_loss=0.0000 scale=1.0000 norm=0.4920\n",
      "[iter 100] loss=-1.5548 val_loss=0.0000 scale=1.0000 norm=0.4886\n",
      "[iter 200] loss=-1.5664 val_loss=0.0000 scale=1.0000 norm=0.4871\n",
      "[iter 300] loss=-1.5727 val_loss=0.0000 scale=1.0000 norm=0.4876\n",
      "[iter 400] loss=-1.5787 val_loss=0.0000 scale=1.0000 norm=0.4875\n",
      "[iter 0] loss=-1.5505 val_loss=0.0000 scale=1.0000 norm=0.5064\n",
      "[iter 100] loss=-1.5758 val_loss=0.0000 scale=1.0000 norm=0.4889\n",
      "[iter 200] loss=-1.5847 val_loss=0.0000 scale=1.0000 norm=0.4867\n",
      "[iter 300] loss=-1.5910 val_loss=0.0000 scale=1.0000 norm=0.4864\n",
      "[iter 400] loss=-1.5985 val_loss=0.0000 scale=1.0000 norm=0.4855\n",
      "[iter 0] loss=-1.5858 val_loss=0.0000 scale=1.0000 norm=0.4965\n",
      "[iter 100] loss=-1.6237 val_loss=0.0000 scale=1.0000 norm=0.4810\n",
      "[iter 200] loss=-1.6335 val_loss=0.0000 scale=1.0000 norm=0.4846\n",
      "[iter 300] loss=-1.6392 val_loss=0.0000 scale=1.0000 norm=0.4874\n",
      "[iter 400] loss=-1.6449 val_loss=0.0000 scale=1.0000 norm=0.4882\n",
      "[iter 0] loss=-1.5696 val_loss=0.0000 scale=2.0000 norm=1.0934\n",
      "[iter 100] loss=-1.6441 val_loss=0.0000 scale=1.0000 norm=0.4868\n",
      "[iter 200] loss=-1.6566 val_loss=0.0000 scale=1.0000 norm=0.4855\n",
      "[iter 300] loss=-1.6638 val_loss=0.0000 scale=1.0000 norm=0.4856\n",
      "[iter 400] loss=-1.6686 val_loss=0.0000 scale=1.0000 norm=0.4862\n",
      "[iter 0] loss=-1.6672 val_loss=0.0000 scale=1.0000 norm=0.4856\n",
      "[iter 100] loss=-1.6801 val_loss=0.0000 scale=1.0000 norm=0.4847\n",
      "[iter 200] loss=-1.6856 val_loss=0.0000 scale=0.5000 norm=0.2431\n",
      "[iter 300] loss=-1.6894 val_loss=0.0000 scale=0.5000 norm=0.2434\n",
      "[iter 400] loss=-1.6933 val_loss=0.0000 scale=1.0000 norm=0.4872\n",
      "NGBRegressor의 10fold 평균 RMSE는 374816.8554631155\n"
     ]
    }
   ],
   "source": [
    "ngb_pred = np.zeros((target.shape[0]))\n",
    "rmse_list = []\n",
    "for tr_idx, val_idx in kf.split(X, y) :\n",
    "    tr_x, tr_y = X.iloc[tr_idx], y.iloc[tr_idx]\n",
    "    val_x, val_y = X.iloc[val_idx], y.iloc[val_idx]\n",
    "    \n",
    "    ngb.fit(tr_x, tr_y)\n",
    "    pred = np.expm1([0 if x < 0 else x for x in ngb.predict(val_x)])\n",
    "\n",
    "    rmse = np.sqrt(mean_squared_error(np.expm1(val_y), pred))\n",
    "    rmse_list.append(rmse)\n",
    "    \n",
    "    sub_pred = np.expm1([0 if x < 0 else x for x in ngb.predict(target)]) / 10\n",
    "    ngb_pred += sub_pred\n",
    "print(f'{ngb.__class__.__name__}의 10fold 평균 RMSE는 {np.mean(rmse_list)}')"
   ]
  },
  {
   "cell_type": "markdown",
   "metadata": {},
   "source": [
    "### 2) RandomForestRegressor"
   ]
  },
  {
   "cell_type": "code",
   "execution_count": 36,
   "metadata": {},
   "outputs": [],
   "source": [
    "rf = RandomForestRegressor(random_state = 521, n_estimators = 150)"
   ]
  },
  {
   "cell_type": "code",
   "execution_count": 37,
   "metadata": {
    "scrolled": true
   },
   "outputs": [
    {
     "name": "stdout",
     "output_type": "stream",
     "text": [
      "RandomForestRegressor의 10fold 평균 RMSE는 812259.6958769986\n"
     ]
    }
   ],
   "source": [
    "rf_pred = np.zeros((target.shape[0]))\n",
    "rmse_list = []\n",
    "for tr_idx, val_idx in kf.split(X, y) :\n",
    "    tr_x, tr_y = X.iloc[tr_idx], y.iloc[tr_idx]\n",
    "    val_x, val_y = X.iloc[val_idx], y.iloc[val_idx]\n",
    "    \n",
    "    rf.fit(tr_x, tr_y)\n",
    "    pred = np.expm1([0 if x < 0 else x for x in rf.predict(val_x)])\n",
    "\n",
    "    rmse = np.sqrt(mean_squared_error(np.expm1(val_y), pred))\n",
    "    rmse_list.append(rmse)\n",
    "    \n",
    "    sub_pred = np.expm1([0 if x < 0 else x for x in rf.predict(target)]) / 10\n",
    "    rf_pred += sub_pred\n",
    "print(f'{rf.__class__.__name__}의 10fold 평균 RMSE는 {np.mean(rmse_list)}')"
   ]
  },
  {
   "cell_type": "markdown",
   "metadata": {},
   "source": [
    "### 3) ExtraTreesRegressor"
   ]
  },
  {
   "cell_type": "code",
   "execution_count": 44,
   "metadata": {},
   "outputs": [],
   "source": [
    "etc = ExtraTreesRegressor(random_state = 521, n_estimators = 500)"
   ]
  },
  {
   "cell_type": "code",
   "execution_count": 45,
   "metadata": {
    "scrolled": false
   },
   "outputs": [
    {
     "name": "stdout",
     "output_type": "stream",
     "text": [
      "ExtraTreesRegressor의 10fold 평균 RMSE는 742490.4940104572\n"
     ]
    }
   ],
   "source": [
    "etc_pred = np.zeros((target.shape[0]))\n",
    "rmse_list = []\n",
    "for tr_idx, val_idx in kf.split(X, y) :\n",
    "    tr_x, tr_y = X.iloc[tr_idx], y.iloc[tr_idx]\n",
    "    val_x, val_y = X.iloc[val_idx], y.iloc[val_idx]\n",
    "    \n",
    "    etc.fit(tr_x, tr_y)\n",
    "    pred = np.expm1([0 if x < 0 else x for x in etc.predict(val_x)])\n",
    "\n",
    "    rmse = np.sqrt(mean_squared_error(np.expm1(val_y), pred))\n",
    "    rmse_list.append(rmse)\n",
    "    \n",
    "    sub_pred = np.expm1([0 if x < 0 else x for x in etc.predict(target)]) / 10\n",
    "    etc_pred += sub_pred\n",
    "print(f'{etc.__class__.__name__}의 10fold 평균 RMSE는 {np.mean(rmse_list)}')"
   ]
  },
  {
   "cell_type": "markdown",
   "metadata": {},
   "source": [
    "### 4) GradientBoostingRegressor"
   ]
  },
  {
   "cell_type": "code",
   "execution_count": 54,
   "metadata": {},
   "outputs": [],
   "source": [
    "gb = GradientBoostingRegressor(random_state = 521, max_depth = 5)"
   ]
  },
  {
   "cell_type": "code",
   "execution_count": 55,
   "metadata": {},
   "outputs": [
    {
     "name": "stdout",
     "output_type": "stream",
     "text": [
      "GradientBoostingRegressor의 10fold 평균 RMSE는 590051.6390746763\n"
     ]
    }
   ],
   "source": [
    "gb_pred = np.zeros((target.shape[0]))\n",
    "rmse_list = []\n",
    "for tr_idx, val_idx in kf.split(X, y) :\n",
    "    tr_x, tr_y = X.iloc[tr_idx], y.iloc[tr_idx]\n",
    "    val_x, val_y = X.iloc[val_idx], y.iloc[val_idx]\n",
    "    \n",
    "    gb.fit(tr_x, tr_y)\n",
    "    pred = np.expm1([0 if x < 0 else x for x in gb.predict(val_x)])\n",
    "\n",
    "    rmse = np.sqrt(mean_squared_error(np.expm1(val_y), pred))\n",
    "    rmse_list.append(rmse)\n",
    "    \n",
    "    sub_pred = np.expm1([0 if x < 0 else x for x in gb.predict(target)]) / 10\n",
    "    gb_pred += sub_pred\n",
    "print(f'{gb.__class__.__name__}의 10fold 평균 RMSE는 {np.mean(rmse_list)}')"
   ]
  },
  {
   "cell_type": "markdown",
   "metadata": {},
   "source": [
    "### 5) CatBoostRegressor"
   ]
  },
  {
   "cell_type": "code",
   "execution_count": 75,
   "metadata": {},
   "outputs": [],
   "source": [
    "cb = CatBoostRegressor(random_state = 521, silent = True, depth = 3)"
   ]
  },
  {
   "cell_type": "code",
   "execution_count": 76,
   "metadata": {},
   "outputs": [
    {
     "name": "stdout",
     "output_type": "stream",
     "text": [
      "CatBoostRegressor의 10fold 평균 RMSE는 445035.320543002\n"
     ]
    }
   ],
   "source": [
    "cb_pred = np.zeros((target.shape[0]))\n",
    "rmse_list = []\n",
    "for tr_idx, val_idx in kf.split(X, y) :\n",
    "    tr_x, tr_y = X.iloc[tr_idx], y.iloc[tr_idx]\n",
    "    val_x, val_y = X.iloc[val_idx], y.iloc[val_idx]\n",
    "    \n",
    "    cb.fit(tr_x, tr_y)\n",
    "    pred = np.expm1([0 if x < 0 else x for x in cb.predict(val_x)])\n",
    "\n",
    "    rmse = np.sqrt(mean_squared_error(np.expm1(val_y), pred))\n",
    "    rmse_list.append(rmse)\n",
    "    \n",
    "    sub_pred = np.expm1([0 if x < 0 else x for x in cb.predict(target)]) / 10\n",
    "    cb_pred += sub_pred\n",
    "print(f'{cb.__class__.__name__}의 10fold 평균 RMSE는 {np.mean(rmse_list)}')"
   ]
  },
  {
   "cell_type": "markdown",
   "metadata": {},
   "source": [
    "### 6) LGBMRegressor"
   ]
  },
  {
   "cell_type": "code",
   "execution_count": 97,
   "metadata": {},
   "outputs": [],
   "source": [
    "lgbm = LGBMRegressor(random_state = 521, max_depth = 4, n_estimators = 1000)"
   ]
  },
  {
   "cell_type": "code",
   "execution_count": 98,
   "metadata": {
    "scrolled": true
   },
   "outputs": [
    {
     "name": "stdout",
     "output_type": "stream",
     "text": [
      "LGBMRegressor의 10fold 평균 RMSE는 600903.6346210752\n"
     ]
    }
   ],
   "source": [
    "lgbm_pred = np.zeros((target.shape[0]))\n",
    "rmse_list = []\n",
    "for tr_idx, val_idx in kf.split(X, y) :\n",
    "    tr_x, tr_y = X.iloc[tr_idx], y.iloc[tr_idx]\n",
    "    val_x, val_y = X.iloc[val_idx], y.iloc[val_idx]\n",
    "    \n",
    "    lgbm.fit(tr_x, tr_y)\n",
    "    pred = np.expm1([0 if x < 0 else x for x in lgbm.predict(val_x)])\n",
    "\n",
    "    rmse = np.sqrt(mean_squared_error(np.expm1(val_y), pred))\n",
    "    rmse_list.append(rmse)\n",
    "    \n",
    "    sub_pred = np.expm1([0 if x < 0 else x for x in lgbm.predict(target)]) / 10\n",
    "    lgbm_pred += sub_pred\n",
    "print(f'{lgbm.__class__.__name__}의 10fold 평균 RMSE는 {np.mean(rmse_list)}')"
   ]
  },
  {
   "cell_type": "markdown",
   "metadata": {},
   "source": [
    "### 7) XGBRegressor"
   ]
  },
  {
   "cell_type": "code",
   "execution_count": 113,
   "metadata": {},
   "outputs": [],
   "source": [
    "xgb = XGBRegressor(random_state = 521, max_depth = 5)"
   ]
  },
  {
   "cell_type": "code",
   "execution_count": 114,
   "metadata": {},
   "outputs": [
    {
     "name": "stdout",
     "output_type": "stream",
     "text": [
      "XGBRegressor의 10fold 평균 RMSE는 581307.7105113387\n"
     ]
    }
   ],
   "source": [
    "xgb_pred = np.zeros((target.shape[0]))\n",
    "rmse_list = []\n",
    "for tr_idx, val_idx in kf.split(X, y) :\n",
    "    tr_x, tr_y = X.iloc[tr_idx], y.iloc[tr_idx]\n",
    "    val_x, val_y = X.iloc[val_idx], y.iloc[val_idx]\n",
    "    \n",
    "    xgb.fit(tr_x, tr_y)\n",
    "    pred = np.expm1([0 if x < 0 else x for x in xgb.predict(val_x)])\n",
    "\n",
    "    rmse = np.sqrt(mean_squared_error(np.expm1(val_y), pred))\n",
    "    rmse_list.append(rmse)\n",
    "    \n",
    "    sub_pred = np.expm1([0 if x < 0 else x for x in xgb.predict(target)]) / 10\n",
    "    xgb_pred += sub_pred\n",
    "print(f'{xgb.__class__.__name__}의 10fold 평균 RMSE는 {np.mean(rmse_list)}')"
   ]
  },
  {
   "cell_type": "markdown",
   "metadata": {},
   "source": [
    "### Blending Models"
   ]
  },
  {
   "cell_type": "code",
   "execution_count": 132,
   "metadata": {},
   "outputs": [],
   "source": [
    "submission['value'] = (gb_pred + rf_pred + etc_pred + lgbm_pred + cb_pred + ngb_pred + xgb_pred) / 7"
   ]
  },
  {
   "cell_type": "code",
   "execution_count": 133,
   "metadata": {},
   "outputs": [],
   "source": [
    "q1 = submission['value'].quantile(0.004)\n",
    "q2 = submission['value'].quantile(0.99)\n",
    "\n",
    "submission['value'] = submission['value'].apply(lambda x: x if x > q1 else x * 0.9)\n",
    "submission['value'] = submission['value'].apply(lambda x: x if x < q2 else x * 1.1)"
   ]
  },
  {
   "cell_type": "code",
   "execution_count": 134,
   "metadata": {
    "scrolled": true
   },
   "outputs": [
    {
     "data": {
      "text/html": [
       "<div>\n",
       "<style scoped>\n",
       "    .dataframe tbody tr th:only-of-type {\n",
       "        vertical-align: middle;\n",
       "    }\n",
       "\n",
       "    .dataframe tbody tr th {\n",
       "        vertical-align: top;\n",
       "    }\n",
       "\n",
       "    .dataframe thead th {\n",
       "        text-align: right;\n",
       "    }\n",
       "</style>\n",
       "<table border=\"1\" class=\"dataframe\">\n",
       "  <thead>\n",
       "    <tr style=\"text-align: right;\">\n",
       "      <th></th>\n",
       "      <th>id</th>\n",
       "      <th>value</th>\n",
       "    </tr>\n",
       "  </thead>\n",
       "  <tbody>\n",
       "    <tr>\n",
       "      <th>0</th>\n",
       "      <td>1</td>\n",
       "      <td>6.535701e+07</td>\n",
       "    </tr>\n",
       "    <tr>\n",
       "      <th>1</th>\n",
       "      <td>2</td>\n",
       "      <td>1.025468e+08</td>\n",
       "    </tr>\n",
       "    <tr>\n",
       "      <th>2</th>\n",
       "      <td>4</td>\n",
       "      <td>8.708519e+07</td>\n",
       "    </tr>\n",
       "    <tr>\n",
       "      <th>3</th>\n",
       "      <td>5</td>\n",
       "      <td>9.148247e+07</td>\n",
       "    </tr>\n",
       "    <tr>\n",
       "      <th>4</th>\n",
       "      <td>6</td>\n",
       "      <td>6.999558e+07</td>\n",
       "    </tr>\n",
       "    <tr>\n",
       "      <th>...</th>\n",
       "      <td>...</td>\n",
       "      <td>...</td>\n",
       "    </tr>\n",
       "    <tr>\n",
       "      <th>3823</th>\n",
       "      <td>16924</td>\n",
       "      <td>5.841319e+04</td>\n",
       "    </tr>\n",
       "    <tr>\n",
       "      <th>3824</th>\n",
       "      <td>16929</td>\n",
       "      <td>4.985170e+04</td>\n",
       "    </tr>\n",
       "    <tr>\n",
       "      <th>3825</th>\n",
       "      <td>16932</td>\n",
       "      <td>5.951643e+04</td>\n",
       "    </tr>\n",
       "    <tr>\n",
       "      <th>3826</th>\n",
       "      <td>16937</td>\n",
       "      <td>4.977167e+04</td>\n",
       "    </tr>\n",
       "    <tr>\n",
       "      <th>3827</th>\n",
       "      <td>16943</td>\n",
       "      <td>5.043036e+04</td>\n",
       "    </tr>\n",
       "  </tbody>\n",
       "</table>\n",
       "<p>3828 rows × 2 columns</p>\n",
       "</div>"
      ],
      "text/plain": [
       "         id         value\n",
       "0         1  6.535701e+07\n",
       "1         2  1.025468e+08\n",
       "2         4  8.708519e+07\n",
       "3         5  9.148247e+07\n",
       "4         6  6.999558e+07\n",
       "...     ...           ...\n",
       "3823  16924  5.841319e+04\n",
       "3824  16929  4.985170e+04\n",
       "3825  16932  5.951643e+04\n",
       "3826  16937  4.977167e+04\n",
       "3827  16943  5.043036e+04\n",
       "\n",
       "[3828 rows x 2 columns]"
      ]
     },
     "execution_count": 134,
     "metadata": {},
     "output_type": "execute_result"
    }
   ],
   "source": [
    "submission"
   ]
  },
  {
   "cell_type": "code",
   "execution_count": 135,
   "metadata": {},
   "outputs": [],
   "source": [
    "submission.to_csv('fifa0520.csv', index = False)"
   ]
  }
 ],
 "metadata": {
  "kernelspec": {
   "display_name": "Python 3",
   "language": "python",
   "name": "python3"
  },
  "language_info": {
   "codemirror_mode": {
    "name": "ipython",
    "version": 3
   },
   "file_extension": ".py",
   "mimetype": "text/x-python",
   "name": "python",
   "nbconvert_exporter": "python",
   "pygments_lexer": "ipython3",
   "version": "3.8.5"
  }
 },
 "nbformat": 4,
 "nbformat_minor": 4
}
