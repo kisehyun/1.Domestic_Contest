{
 "cells": [
  {
   "cell_type": "code",
   "execution_count": 1,
   "id": "918bca79",
   "metadata": {},
   "outputs": [],
   "source": [
    "import pandas as pd\n",
    "import numpy as np\n",
    "\n",
    "import warnings\n",
    "warnings.filterwarnings(\"ignore\")"
   ]
  },
  {
   "cell_type": "code",
   "execution_count": 24,
   "id": "a1438729",
   "metadata": {},
   "outputs": [],
   "source": [
    "train = pd.read_csv('train.csv')\n",
    "test = pd.read_csv('test.csv')"
   ]
  },
  {
   "cell_type": "code",
   "execution_count": 25,
   "id": "c007fdd9",
   "metadata": {},
   "outputs": [],
   "source": [
    "train.dropna(inplace = True)"
   ]
  },
  {
   "cell_type": "code",
   "execution_count": 26,
   "id": "243c6f49",
   "metadata": {},
   "outputs": [],
   "source": [
    "train['target'] = [1 if t == \">50K\" else 0 for t in train['target']]"
   ]
  },
  {
   "cell_type": "code",
   "execution_count": 27,
   "id": "6bb72550",
   "metadata": {},
   "outputs": [
    {
     "data": {
      "text/plain": [
       "workclass\n",
       "Without-pay         0.000000\n",
       "Private             0.219125\n",
       "State-gov           0.278125\n",
       "Self-emp-not-inc    0.295122\n",
       "Local-gov           0.300876\n",
       "Federal-gov         0.378205\n",
       "Self-emp-inc        0.545290\n",
       "Name: target, dtype: float64"
      ]
     },
     "execution_count": 27,
     "metadata": {},
     "output_type": "execute_result"
    }
   ],
   "source": [
    "train.groupby('workclass').target.mean().sort_values()"
   ]
  },
  {
   "cell_type": "code",
   "execution_count": 28,
   "id": "dd91f91e",
   "metadata": {},
   "outputs": [],
   "source": [
    "def workclass_te(x) :\n",
    "    if x == 'Without-pay' :\n",
    "        return 0\n",
    "    elif x == 'Private' :\n",
    "        return 1\n",
    "    elif x == 'State-gov' :\n",
    "        return 2\n",
    "    elif x == 'Self-emp-not-inc' :\n",
    "        return 3\n",
    "    elif x == 'Local-gov' :\n",
    "        return 4\n",
    "    elif x == 'Federal-gov' :\n",
    "        return 5\n",
    "    else :\n",
    "        return 6"
   ]
  },
  {
   "cell_type": "code",
   "execution_count": 29,
   "id": "a6a78c4a",
   "metadata": {},
   "outputs": [],
   "source": [
    "train['workclass'] = train['workclass'].apply(workclass_te)\n",
    "test['workclass'] = test['workclass'].apply(workclass_te)"
   ]
  },
  {
   "cell_type": "code",
   "execution_count": null,
   "id": "2602a407",
   "metadata": {},
   "outputs": [],
   "source": [
    "train['sex'] = [1 if s == 'Male' else 0 for s in train['sex']]\n",
    "test['sex'] = [1 if s == 'Male' else 0 for s in test['sex']]"
   ]
  },
  {
   "cell_type": "code",
   "execution_count": 59,
   "id": "c52ccc5b",
   "metadata": {},
   "outputs": [],
   "source": [
    "from sklearn.preprocessing import LabelEncoder"
   ]
  },
  {
   "cell_type": "code",
   "execution_count": 60,
   "id": "31bd2cc0",
   "metadata": {},
   "outputs": [],
   "source": [
    "le = LabelEncoder()"
   ]
  },
  {
   "cell_type": "code",
   "execution_count": 61,
   "id": "2f4389ce",
   "metadata": {},
   "outputs": [],
   "source": [
    "train['native.country'] = le.fit_transform(train['native.country'])\n",
    "test['native.country'] = le.transform(test['native.country'])"
   ]
  },
  {
   "cell_type": "code",
   "execution_count": 66,
   "id": "a051a1d9",
   "metadata": {},
   "outputs": [],
   "source": [
    "train['race'] = le.fit_transform(train['race'])\n",
    "test['race'] = le.transform(test['race'])"
   ]
  },
  {
   "cell_type": "code",
   "execution_count": 74,
   "id": "db980dba",
   "metadata": {},
   "outputs": [],
   "source": [
    "o_tm = train.groupby('occupation').target.mean().sort_values().reset_index(name = 'o_tm')"
   ]
  },
  {
   "cell_type": "code",
   "execution_count": 75,
   "id": "3bc15162",
   "metadata": {},
   "outputs": [],
   "source": [
    "train = pd.merge(train, o_tm, how = 'left')\n",
    "test = pd.merge(test, o_tm, how = 'left')"
   ]
  },
  {
   "cell_type": "code",
   "execution_count": 77,
   "id": "98fc1f4c",
   "metadata": {},
   "outputs": [],
   "source": [
    "train.drop(['education', 'occupation'], axis = 1, inplace = True)\n",
    "test.drop(['education', 'occupation'], axis = 1, inplace = True)"
   ]
  },
  {
   "cell_type": "code",
   "execution_count": 90,
   "id": "31a3cbc3",
   "metadata": {},
   "outputs": [
    {
     "data": {
      "text/html": [
       "<div>\n",
       "<style scoped>\n",
       "    .dataframe tbody tr th:only-of-type {\n",
       "        vertical-align: middle;\n",
       "    }\n",
       "\n",
       "    .dataframe tbody tr th {\n",
       "        vertical-align: top;\n",
       "    }\n",
       "\n",
       "    .dataframe thead th {\n",
       "        text-align: right;\n",
       "    }\n",
       "</style>\n",
       "<table border=\"1\" class=\"dataframe\">\n",
       "  <thead>\n",
       "    <tr style=\"text-align: right;\">\n",
       "      <th>relationship</th>\n",
       "      <th>Husband</th>\n",
       "      <th>Not-in-family</th>\n",
       "      <th>Other-relative</th>\n",
       "      <th>Own-child</th>\n",
       "      <th>Unmarried</th>\n",
       "      <th>Wife</th>\n",
       "    </tr>\n",
       "    <tr>\n",
       "      <th>marital.status</th>\n",
       "      <th></th>\n",
       "      <th></th>\n",
       "      <th></th>\n",
       "      <th></th>\n",
       "      <th></th>\n",
       "      <th></th>\n",
       "    </tr>\n",
       "  </thead>\n",
       "  <tbody>\n",
       "    <tr>\n",
       "      <th>Divorced</th>\n",
       "      <td>0</td>\n",
       "      <td>1133</td>\n",
       "      <td>59</td>\n",
       "      <td>152</td>\n",
       "      <td>742</td>\n",
       "      <td>0</td>\n",
       "    </tr>\n",
       "    <tr>\n",
       "      <th>Married-AF-spouse</th>\n",
       "      <td>6</td>\n",
       "      <td>0</td>\n",
       "      <td>1</td>\n",
       "      <td>1</td>\n",
       "      <td>0</td>\n",
       "      <td>4</td>\n",
       "    </tr>\n",
       "    <tr>\n",
       "      <th>Married-civ-spouse</th>\n",
       "      <td>6236</td>\n",
       "      <td>9</td>\n",
       "      <td>62</td>\n",
       "      <td>47</td>\n",
       "      <td>0</td>\n",
       "      <td>738</td>\n",
       "    </tr>\n",
       "    <tr>\n",
       "      <th>Married-spouse-absent</th>\n",
       "      <td>0</td>\n",
       "      <td>91</td>\n",
       "      <td>12</td>\n",
       "      <td>27</td>\n",
       "      <td>69</td>\n",
       "      <td>0</td>\n",
       "    </tr>\n",
       "    <tr>\n",
       "      <th>Never-married</th>\n",
       "      <td>0</td>\n",
       "      <td>2191</td>\n",
       "      <td>268</td>\n",
       "      <td>1956</td>\n",
       "      <td>399</td>\n",
       "      <td>0</td>\n",
       "    </tr>\n",
       "    <tr>\n",
       "      <th>Separated</th>\n",
       "      <td>0</td>\n",
       "      <td>196</td>\n",
       "      <td>20</td>\n",
       "      <td>45</td>\n",
       "      <td>193</td>\n",
       "      <td>0</td>\n",
       "    </tr>\n",
       "    <tr>\n",
       "      <th>Widowed</th>\n",
       "      <td>0</td>\n",
       "      <td>216</td>\n",
       "      <td>19</td>\n",
       "      <td>4</td>\n",
       "      <td>185</td>\n",
       "      <td>0</td>\n",
       "    </tr>\n",
       "  </tbody>\n",
       "</table>\n",
       "</div>"
      ],
      "text/plain": [
       "relationship           Husband  Not-in-family  Other-relative  Own-child  \\\n",
       "marital.status                                                             \n",
       "Divorced                     0           1133              59        152   \n",
       "Married-AF-spouse            6              0               1          1   \n",
       "Married-civ-spouse        6236              9              62         47   \n",
       "Married-spouse-absent        0             91              12         27   \n",
       "Never-married                0           2191             268       1956   \n",
       "Separated                    0            196              20         45   \n",
       "Widowed                      0            216              19          4   \n",
       "\n",
       "relationship           Unmarried  Wife  \n",
       "marital.status                          \n",
       "Divorced                     742     0  \n",
       "Married-AF-spouse              0     4  \n",
       "Married-civ-spouse             0   738  \n",
       "Married-spouse-absent         69     0  \n",
       "Never-married                399     0  \n",
       "Separated                    193     0  \n",
       "Widowed                      185     0  "
      ]
     },
     "execution_count": 90,
     "metadata": {},
     "output_type": "execute_result"
    }
   ],
   "source": [
    "pd.crosstab(train['marital.status'], train.relationship)"
   ]
  },
  {
   "cell_type": "code",
   "execution_count": 93,
   "id": "cd1f8c97",
   "metadata": {
    "scrolled": true
   },
   "outputs": [
    {
     "data": {
      "text/html": [
       "<div>\n",
       "<style scoped>\n",
       "    .dataframe tbody tr th:only-of-type {\n",
       "        vertical-align: middle;\n",
       "    }\n",
       "\n",
       "    .dataframe tbody tr th {\n",
       "        vertical-align: top;\n",
       "    }\n",
       "\n",
       "    .dataframe thead th {\n",
       "        text-align: right;\n",
       "    }\n",
       "</style>\n",
       "<table border=\"1\" class=\"dataframe\">\n",
       "  <thead>\n",
       "    <tr style=\"text-align: right;\">\n",
       "      <th>relationship</th>\n",
       "      <th>Husband</th>\n",
       "      <th>Not-in-family</th>\n",
       "      <th>Other-relative</th>\n",
       "      <th>Own-child</th>\n",
       "      <th>Unmarried</th>\n",
       "      <th>Wife</th>\n",
       "    </tr>\n",
       "    <tr>\n",
       "      <th>marital.status</th>\n",
       "      <th></th>\n",
       "      <th></th>\n",
       "      <th></th>\n",
       "      <th></th>\n",
       "      <th></th>\n",
       "      <th></th>\n",
       "    </tr>\n",
       "  </thead>\n",
       "  <tbody>\n",
       "    <tr>\n",
       "      <th>Divorced</th>\n",
       "      <td>0</td>\n",
       "      <td>1135</td>\n",
       "      <td>44</td>\n",
       "      <td>156</td>\n",
       "      <td>793</td>\n",
       "      <td>0</td>\n",
       "    </tr>\n",
       "    <tr>\n",
       "      <th>Married-AF-spouse</th>\n",
       "      <td>3</td>\n",
       "      <td>0</td>\n",
       "      <td>0</td>\n",
       "      <td>0</td>\n",
       "      <td>0</td>\n",
       "      <td>6</td>\n",
       "    </tr>\n",
       "    <tr>\n",
       "      <th>Married-civ-spouse</th>\n",
       "      <td>6218</td>\n",
       "      <td>5</td>\n",
       "      <td>56</td>\n",
       "      <td>36</td>\n",
       "      <td>0</td>\n",
       "      <td>658</td>\n",
       "    </tr>\n",
       "    <tr>\n",
       "      <th>Married-spouse-absent</th>\n",
       "      <td>0</td>\n",
       "      <td>90</td>\n",
       "      <td>14</td>\n",
       "      <td>16</td>\n",
       "      <td>51</td>\n",
       "      <td>0</td>\n",
       "    </tr>\n",
       "    <tr>\n",
       "      <th>Never-married</th>\n",
       "      <td>0</td>\n",
       "      <td>2257</td>\n",
       "      <td>280</td>\n",
       "      <td>1973</td>\n",
       "      <td>402</td>\n",
       "      <td>0</td>\n",
       "    </tr>\n",
       "    <tr>\n",
       "      <th>Separated</th>\n",
       "      <td>0</td>\n",
       "      <td>187</td>\n",
       "      <td>33</td>\n",
       "      <td>45</td>\n",
       "      <td>220</td>\n",
       "      <td>0</td>\n",
       "    </tr>\n",
       "    <tr>\n",
       "      <th>Widowed</th>\n",
       "      <td>0</td>\n",
       "      <td>216</td>\n",
       "      <td>21</td>\n",
       "      <td>8</td>\n",
       "      <td>158</td>\n",
       "      <td>0</td>\n",
       "    </tr>\n",
       "  </tbody>\n",
       "</table>\n",
       "</div>"
      ],
      "text/plain": [
       "relationship           Husband  Not-in-family  Other-relative  Own-child  \\\n",
       "marital.status                                                             \n",
       "Divorced                     0           1135              44        156   \n",
       "Married-AF-spouse            3              0               0          0   \n",
       "Married-civ-spouse        6218              5              56         36   \n",
       "Married-spouse-absent        0             90              14         16   \n",
       "Never-married                0           2257             280       1973   \n",
       "Separated                    0            187              33         45   \n",
       "Widowed                      0            216              21          8   \n",
       "\n",
       "relationship           Unmarried  Wife  \n",
       "marital.status                          \n",
       "Divorced                     793     0  \n",
       "Married-AF-spouse              0     6  \n",
       "Married-civ-spouse             0   658  \n",
       "Married-spouse-absent         51     0  \n",
       "Never-married                402     0  \n",
       "Separated                    220     0  \n",
       "Widowed                      158     0  "
      ]
     },
     "execution_count": 93,
     "metadata": {},
     "output_type": "execute_result"
    }
   ],
   "source": [
    "pd.crosstab(test['marital.status'], test.relationship)"
   ]
  },
  {
   "cell_type": "code",
   "execution_count": 97,
   "id": "18102f44",
   "metadata": {},
   "outputs": [],
   "source": [
    "train['mr'] = train['marital.status'] + train.relationship\n",
    "test['mr'] = test['marital.status'] + test.relationship"
   ]
  },
  {
   "cell_type": "code",
   "execution_count": 98,
   "id": "f8c610c1",
   "metadata": {},
   "outputs": [],
   "source": [
    "train['mr'] = le.fit_transform(train['mr'])\n",
    "test['mr'] = le.transform(test['mr'])"
   ]
  },
  {
   "cell_type": "code",
   "execution_count": null,
   "id": "f4ac822d",
   "metadata": {},
   "outputs": [],
   "source": [
    "train.drop(['marital.status', 'relationship'], axis = 1, inplace = True)\n",
    "test.drop(['marital.status', 'relationship'], axis = 1, inplace = True)"
   ]
  },
  {
   "cell_type": "code",
   "execution_count": 106,
   "id": "fc446699",
   "metadata": {},
   "outputs": [],
   "source": [
    "train['capital.gain'] = np.log1p(train['capital.gain'])\n",
    "test['capital.gain'] = np.log1p(test['capital.gain'])"
   ]
  },
  {
   "cell_type": "code",
   "execution_count": 161,
   "id": "4bd5e578",
   "metadata": {},
   "outputs": [],
   "source": [
    "from catboost import CatBoostClassifier, Pool\n",
    "from sklearn.model_selection import StratifiedKFold\n",
    "from sklearn.metrics import accuracy_score\n",
    "from lightgbm import LGBMClassifier\n",
    "from xgboost import XGBClassifier"
   ]
  },
  {
   "cell_type": "code",
   "execution_count": 109,
   "id": "21ca5ffb",
   "metadata": {},
   "outputs": [],
   "source": [
    "X = train.drop(['id', 'target'], axis = 1)\n",
    "y = train.target"
   ]
  },
  {
   "cell_type": "code",
   "execution_count": 112,
   "id": "f4ec2af3",
   "metadata": {},
   "outputs": [
    {
     "data": {
      "text/plain": [
       "0    11308\n",
       "1     3773\n",
       "Name: target, dtype: int64"
      ]
     },
     "execution_count": 112,
     "metadata": {},
     "output_type": "execute_result"
    }
   ],
   "source": [
    "y.value_counts()"
   ]
  },
  {
   "cell_type": "code",
   "execution_count": 113,
   "id": "42205993",
   "metadata": {},
   "outputs": [],
   "source": [
    "skf = StratifiedKFold(n_splits = 10, random_state = 42, shuffle = True)"
   ]
  },
  {
   "cell_type": "code",
   "execution_count": 129,
   "id": "9fcdcf67",
   "metadata": {},
   "outputs": [],
   "source": [
    "cat_features = ['race', 'native.country']"
   ]
  },
  {
   "cell_type": "code",
   "execution_count": 130,
   "id": "888c4bc9",
   "metadata": {},
   "outputs": [],
   "source": [
    "target = test[X.columns]"
   ]
  },
  {
   "cell_type": "code",
   "execution_count": 153,
   "id": "ecfdd773",
   "metadata": {
    "scrolled": true
   },
   "outputs": [
    {
     "name": "stderr",
     "output_type": "stream",
     "text": [
      "Custom logger is already specified. Specify more than one logger at same time is not thread safe."
     ]
    },
    {
     "name": "stdout",
     "output_type": "stream",
     "text": [
      "1 Fold ACC = 0.8727634194831014\n",
      "2 Fold ACC = 0.8594164456233422\n",
      "3 Fold ACC = 0.8647214854111406\n",
      "4 Fold ACC = 0.8620689655172413\n",
      "5 Fold ACC = 0.866710875331565\n",
      "6 Fold ACC = 0.863395225464191\n",
      "7 Fold ACC = 0.8793103448275862\n",
      "8 Fold ACC = 0.866710875331565\n",
      "9 Fold ACC = 0.8759946949602122\n",
      "10 Fold ACC = 0.886604774535809\n"
     ]
    }
   ],
   "source": [
    "cb_pred = np.zeros(target.shape[0])\n",
    "val_acc = []\n",
    "for i, (tr_idx, val_idx) in enumerate(skf.split(X, y)) :\n",
    "    \n",
    "    tr_x, tr_y = X.iloc[tr_idx], y.iloc[tr_idx]\n",
    "    val_x, val_y = X.iloc[val_idx], y.iloc[val_idx]\n",
    "    \n",
    "    tr_data = Pool(data = tr_x, label = tr_y)#, cat_features = cat_features)\n",
    "    val_data = Pool(data = val_x, label = val_y)#, cat_features = cat_features)\n",
    "    \n",
    "    cb = CatBoostClassifier(random_state = 42, iterations = 5000, max_depth = 4, learning_rate = 0.02,\n",
    "                            eval_metric = 'Accuracy', use_best_model = True)#, cat_features = cat_features)\n",
    "    \n",
    "    cb.fit(tr_data, eval_set = val_data, early_stopping_rounds = 500, verbose = 0)\n",
    "    \n",
    "    val_pred = cb.predict_proba(val_x)[:, 1]\n",
    "    val_cls = [1 if p >= 0.5 else 0 for p in val_pred]\n",
    "    fold_acc = accuracy_score(val_y, val_cls)\n",
    "    print(f\"{i + 1} Fold ACC = {fold_acc}\")\n",
    "    val_acc.append(fold_acc)\n",
    "    \n",
    "    fold_pred = cb.predict_proba(target)[:, 1] / skf.n_splits\n",
    "    cb_pred += fold_pred"
   ]
  },
  {
   "cell_type": "code",
   "execution_count": 154,
   "id": "60a4b18d",
   "metadata": {},
   "outputs": [
    {
     "data": {
      "text/plain": [
       "0.8697697106485756"
      ]
     },
     "execution_count": 154,
     "metadata": {},
     "output_type": "execute_result"
    }
   ],
   "source": [
    "np.mean(val_acc)"
   ]
  },
  {
   "cell_type": "code",
   "execution_count": 150,
   "id": "91a76563",
   "metadata": {},
   "outputs": [
    {
     "name": "stdout",
     "output_type": "stream",
     "text": [
      "Training until validation scores don't improve for 500 rounds\n",
      "[500]\ttraining's binary_logloss: 0.264652\tvalid_1's binary_logloss: 0.281921\n",
      "[1000]\ttraining's binary_logloss: 0.240383\tvalid_1's binary_logloss: 0.278713\n",
      "Early stopping, best iteration is:\n",
      "[903]\ttraining's binary_logloss: 0.24406\tvalid_1's binary_logloss: 0.278475\n",
      "Training until validation scores don't improve for 500 rounds\n",
      "[500]\ttraining's binary_logloss: 0.262622\tvalid_1's binary_logloss: 0.303887\n",
      "[1000]\ttraining's binary_logloss: 0.237757\tvalid_1's binary_logloss: 0.30312\n",
      "Early stopping, best iteration is:\n",
      "[742]\ttraining's binary_logloss: 0.249019\tvalid_1's binary_logloss: 0.301279\n",
      "Training until validation scores don't improve for 500 rounds\n",
      "[500]\ttraining's binary_logloss: 0.259998\tvalid_1's binary_logloss: 0.308541\n",
      "[1000]\ttraining's binary_logloss: 0.234931\tvalid_1's binary_logloss: 0.309132\n",
      "Early stopping, best iteration is:\n",
      "[712]\ttraining's binary_logloss: 0.247688\tvalid_1's binary_logloss: 0.307961\n",
      "Training until validation scores don't improve for 500 rounds\n",
      "[500]\ttraining's binary_logloss: 0.259348\tvalid_1's binary_logloss: 0.318236\n",
      "[1000]\ttraining's binary_logloss: 0.236623\tvalid_1's binary_logloss: 0.315741\n",
      "[1500]\ttraining's binary_logloss: 0.219766\tvalid_1's binary_logloss: 0.31678\n",
      "Early stopping, best iteration is:\n",
      "[1244]\ttraining's binary_logloss: 0.227773\tvalid_1's binary_logloss: 0.315498\n",
      "Training until validation scores don't improve for 500 rounds\n",
      "[500]\ttraining's binary_logloss: 0.262426\tvalid_1's binary_logloss: 0.288264\n",
      "[1000]\ttraining's binary_logloss: 0.239772\tvalid_1's binary_logloss: 0.284227\n",
      "Early stopping, best iteration is:\n",
      "[960]\ttraining's binary_logloss: 0.240945\tvalid_1's binary_logloss: 0.28411\n",
      "Training until validation scores don't improve for 500 rounds\n",
      "[500]\ttraining's binary_logloss: 0.261357\tvalid_1's binary_logloss: 0.301981\n",
      "[1000]\ttraining's binary_logloss: 0.237098\tvalid_1's binary_logloss: 0.300127\n",
      "Early stopping, best iteration is:\n",
      "[938]\ttraining's binary_logloss: 0.239394\tvalid_1's binary_logloss: 0.299815\n",
      "Training until validation scores don't improve for 500 rounds\n",
      "[500]\ttraining's binary_logloss: 0.264558\tvalid_1's binary_logloss: 0.283048\n",
      "[1000]\ttraining's binary_logloss: 0.24077\tvalid_1's binary_logloss: 0.27946\n",
      "Early stopping, best iteration is:\n",
      "[976]\ttraining's binary_logloss: 0.241708\tvalid_1's binary_logloss: 0.279133\n",
      "Training until validation scores don't improve for 500 rounds\n",
      "[500]\ttraining's binary_logloss: 0.264504\tvalid_1's binary_logloss: 0.287542\n",
      "[1000]\ttraining's binary_logloss: 0.240077\tvalid_1's binary_logloss: 0.285076\n",
      "Early stopping, best iteration is:\n",
      "[969]\ttraining's binary_logloss: 0.241487\tvalid_1's binary_logloss: 0.284733\n",
      "Training until validation scores don't improve for 500 rounds\n",
      "[500]\ttraining's binary_logloss: 0.264996\tvalid_1's binary_logloss: 0.282132\n",
      "[1000]\ttraining's binary_logloss: 0.239503\tvalid_1's binary_logloss: 0.275149\n",
      "[1500]\ttraining's binary_logloss: 0.222619\tvalid_1's binary_logloss: 0.275886\n",
      "Early stopping, best iteration is:\n",
      "[1264]\ttraining's binary_logloss: 0.229879\tvalid_1's binary_logloss: 0.274828\n",
      "Training until validation scores don't improve for 500 rounds\n",
      "[500]\ttraining's binary_logloss: 0.263922\tvalid_1's binary_logloss: 0.279711\n",
      "[1000]\ttraining's binary_logloss: 0.240536\tvalid_1's binary_logloss: 0.275379\n",
      "[1500]\ttraining's binary_logloss: 0.224315\tvalid_1's binary_logloss: 0.276053\n",
      "Early stopping, best iteration is:\n",
      "[1216]\ttraining's binary_logloss: 0.233692\tvalid_1's binary_logloss: 0.275195\n"
     ]
    }
   ],
   "source": [
    "lgbm_pred = np.zeros(target.shape[0])\n",
    "val_acc = []\n",
    "for i, (tr_idx, val_idx) in enumerate(skf.split(X, y)) :\n",
    "    \n",
    "    tr_x, tr_y = X.iloc[tr_idx], y.iloc[tr_idx]\n",
    "    val_x, val_y = X.iloc[val_idx], y.iloc[val_idx]\n",
    "    \n",
    "    lgbm = LGBMClassifier(random_state = 42, n_estimators = 5000, max_depth = 4,\n",
    "                          learning_rate = 0.02, eval_metric = 'accuracy')\n",
    "    \n",
    "    lgbm.fit(tr_x, tr_y, eval_set = [(tr_x, tr_y), (val_x, val_y)], eval_metric = 'accuracy',\n",
    "             early_stopping_rounds = 500, verbose = 500)\n",
    "    \n",
    "    val_pred = lgbm.predict_proba(val_x)[:, 1]\n",
    "    val_cls = [1 if p >= 0.5 else 0 for p in val_pred]\n",
    "    fold_acc = accuracy_score(val_y, val_cls)\n",
    "    val_acc.append(fold_acc)\n",
    "    \n",
    "    fold_pred = lgbm.predict_proba(target)[:, 1] / skf.n_splits\n",
    "    lgbm_pred += fold_pred"
   ]
  },
  {
   "cell_type": "code",
   "execution_count": 151,
   "id": "ad65fb18",
   "metadata": {
    "scrolled": true
   },
   "outputs": [
    {
     "data": {
      "text/plain": [
       "0.8665865109959165"
      ]
     },
     "execution_count": 151,
     "metadata": {},
     "output_type": "execute_result"
    }
   ],
   "source": [
    "np.mean(val_acc)"
   ]
  },
  {
   "cell_type": "code",
   "execution_count": 166,
   "id": "a091ae2c",
   "metadata": {},
   "outputs": [
    {
     "name": "stdout",
     "output_type": "stream",
     "text": [
      "[12:03:50] WARNING: /opt/concourse/worker/volumes/live/7a2b9f41-3287-451b-6691-43e9a6c0910f/volume/xgboost-split_1619728204606/work/src/learner.cc:1061: Starting in XGBoost 1.3.0, the default evaluation metric used with the objective 'binary:logistic' was changed from 'error' to 'logloss'. Explicitly set eval_metric if you'd like to restore the old behavior.\n",
      "1 Fold ACC = 0.8754141815772034\n",
      "[12:03:57] WARNING: /opt/concourse/worker/volumes/live/7a2b9f41-3287-451b-6691-43e9a6c0910f/volume/xgboost-split_1619728204606/work/src/learner.cc:1061: Starting in XGBoost 1.3.0, the default evaluation metric used with the objective 'binary:logistic' was changed from 'error' to 'logloss'. Explicitly set eval_metric if you'd like to restore the old behavior.\n",
      "2 Fold ACC = 0.8594164456233422\n",
      "[12:04:01] WARNING: /opt/concourse/worker/volumes/live/7a2b9f41-3287-451b-6691-43e9a6c0910f/volume/xgboost-split_1619728204606/work/src/learner.cc:1061: Starting in XGBoost 1.3.0, the default evaluation metric used with the objective 'binary:logistic' was changed from 'error' to 'logloss'. Explicitly set eval_metric if you'd like to restore the old behavior.\n",
      "3 Fold ACC = 0.8541114058355438\n",
      "[12:04:07] WARNING: /opt/concourse/worker/volumes/live/7a2b9f41-3287-451b-6691-43e9a6c0910f/volume/xgboost-split_1619728204606/work/src/learner.cc:1061: Starting in XGBoost 1.3.0, the default evaluation metric used with the objective 'binary:logistic' was changed from 'error' to 'logloss'. Explicitly set eval_metric if you'd like to restore the old behavior.\n",
      "4 Fold ACC = 0.8554376657824934\n",
      "[12:04:14] WARNING: /opt/concourse/worker/volumes/live/7a2b9f41-3287-451b-6691-43e9a6c0910f/volume/xgboost-split_1619728204606/work/src/learner.cc:1061: Starting in XGBoost 1.3.0, the default evaluation metric used with the objective 'binary:logistic' was changed from 'error' to 'logloss'. Explicitly set eval_metric if you'd like to restore the old behavior.\n",
      "5 Fold ACC = 0.8720159151193634\n",
      "[12:04:22] WARNING: /opt/concourse/worker/volumes/live/7a2b9f41-3287-451b-6691-43e9a6c0910f/volume/xgboost-split_1619728204606/work/src/learner.cc:1061: Starting in XGBoost 1.3.0, the default evaluation metric used with the objective 'binary:logistic' was changed from 'error' to 'logloss'. Explicitly set eval_metric if you'd like to restore the old behavior.\n",
      "6 Fold ACC = 0.8580901856763926\n",
      "[12:04:30] WARNING: /opt/concourse/worker/volumes/live/7a2b9f41-3287-451b-6691-43e9a6c0910f/volume/xgboost-split_1619728204606/work/src/learner.cc:1061: Starting in XGBoost 1.3.0, the default evaluation metric used with the objective 'binary:logistic' was changed from 'error' to 'logloss'. Explicitly set eval_metric if you'd like to restore the old behavior.\n",
      "7 Fold ACC = 0.8759946949602122\n",
      "[12:04:36] WARNING: /opt/concourse/worker/volumes/live/7a2b9f41-3287-451b-6691-43e9a6c0910f/volume/xgboost-split_1619728204606/work/src/learner.cc:1061: Starting in XGBoost 1.3.0, the default evaluation metric used with the objective 'binary:logistic' was changed from 'error' to 'logloss'. Explicitly set eval_metric if you'd like to restore the old behavior.\n",
      "8 Fold ACC = 0.8653846153846154\n",
      "[12:04:42] WARNING: /opt/concourse/worker/volumes/live/7a2b9f41-3287-451b-6691-43e9a6c0910f/volume/xgboost-split_1619728204606/work/src/learner.cc:1061: Starting in XGBoost 1.3.0, the default evaluation metric used with the objective 'binary:logistic' was changed from 'error' to 'logloss'. Explicitly set eval_metric if you'd like to restore the old behavior.\n",
      "9 Fold ACC = 0.870026525198939\n",
      "[12:04:49] WARNING: /opt/concourse/worker/volumes/live/7a2b9f41-3287-451b-6691-43e9a6c0910f/volume/xgboost-split_1619728204606/work/src/learner.cc:1061: Starting in XGBoost 1.3.0, the default evaluation metric used with the objective 'binary:logistic' was changed from 'error' to 'logloss'. Explicitly set eval_metric if you'd like to restore the old behavior.\n",
      "10 Fold ACC = 0.8793103448275862\n"
     ]
    }
   ],
   "source": [
    "xgb_pred = np.zeros(target.shape[0])\n",
    "val_acc = []\n",
    "for i, (tr_idx, val_idx) in enumerate(skf.split(X, y)) :\n",
    "    \n",
    "    tr_x, tr_y = X.iloc[tr_idx], y.iloc[tr_idx]\n",
    "    val_x, val_y = X.iloc[val_idx], y.iloc[val_idx]\n",
    "    \n",
    "    xgb = XGBClassifier(random_state = 42, n_estimators = 5000, max_depth = 4,\n",
    "                          learning_rate = 0.02)\n",
    "    \n",
    "    xgb.fit(tr_x, tr_y, eval_set = [(tr_x, tr_y), (val_x, val_y)],\n",
    "             early_stopping_rounds = 500, verbose = 0)\n",
    "    \n",
    "    val_pred = xgb.predict_proba(val_x)[:, 1]\n",
    "    val_cls = [1 if p >= 0.5 else 0 for p in val_pred]\n",
    "    fold_acc = accuracy_score(val_y, val_cls)\n",
    "    val_acc.append(fold_acc)\n",
    "    print(f\"{i + 1} Fold ACC = {fold_acc}\")\n",
    "    \n",
    "    fold_pred = xgb.predict_proba(target)[:, 1] / skf.n_splits\n",
    "    xgb_pred += fold_pred"
   ]
  },
  {
   "cell_type": "code",
   "execution_count": 168,
   "id": "d812a287",
   "metadata": {},
   "outputs": [
    {
     "data": {
      "text/plain": [
       "0.866520197998569"
      ]
     },
     "execution_count": 168,
     "metadata": {},
     "output_type": "execute_result"
    }
   ],
   "source": [
    "np.mean(val_acc)"
   ]
  },
  {
   "cell_type": "code",
   "execution_count": 144,
   "id": "4bf1927e",
   "metadata": {},
   "outputs": [],
   "source": [
    "submission = pd.read_csv('sample_submission.csv')"
   ]
  },
  {
   "cell_type": "code",
   "execution_count": 169,
   "id": "6537ddb7",
   "metadata": {},
   "outputs": [],
   "source": [
    "submission['target'] = [1 if p >= 0.5 else 0 for p in (cb_pred + lgbm_pred + xgb_pred) / 3]"
   ]
  },
  {
   "cell_type": "code",
   "execution_count": 170,
   "id": "4dc41b29",
   "metadata": {},
   "outputs": [
    {
     "data": {
      "text/plain": [
       "0    11985\n",
       "1     3096\n",
       "Name: target, dtype: int64"
      ]
     },
     "execution_count": 170,
     "metadata": {},
     "output_type": "execute_result"
    }
   ],
   "source": [
    "submission.target.value_counts()"
   ]
  },
  {
   "cell_type": "code",
   "execution_count": 171,
   "id": "36b8c6f2",
   "metadata": {},
   "outputs": [],
   "source": [
    "submission.to_csv(\"cb_lgbm.csv\", index = False)"
   ]
  }
 ],
 "metadata": {
  "kernelspec": {
   "display_name": "Python 3",
   "language": "python",
   "name": "python3"
  },
  "language_info": {
   "codemirror_mode": {
    "name": "ipython",
    "version": 3
   },
   "file_extension": ".py",
   "mimetype": "text/x-python",
   "name": "python",
   "nbconvert_exporter": "python",
   "pygments_lexer": "ipython3",
   "version": "3.8.8"
  }
 },
 "nbformat": 4,
 "nbformat_minor": 5
}
