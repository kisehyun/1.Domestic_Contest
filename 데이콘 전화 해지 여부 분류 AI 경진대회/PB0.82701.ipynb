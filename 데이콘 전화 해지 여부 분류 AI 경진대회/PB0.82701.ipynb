{
 "cells": [
  {
   "cell_type": "code",
   "execution_count": 1,
   "id": "1c251b36",
   "metadata": {},
   "outputs": [],
   "source": [
    "import pandas as pd\n",
    "import numpy as np\n",
    "\n",
    "import warnings\n",
    "warnings.filterwarnings('ignore')"
   ]
  },
  {
   "cell_type": "code",
   "execution_count": 53,
   "id": "aeec628b",
   "metadata": {},
   "outputs": [],
   "source": [
    "train = pd.read_csv('train.csv')"
   ]
  },
  {
   "cell_type": "code",
   "execution_count": 54,
   "id": "984d7b3b",
   "metadata": {},
   "outputs": [],
   "source": [
    "test = pd.read_csv('test.csv')"
   ]
  },
  {
   "cell_type": "code",
   "execution_count": 55,
   "id": "cecf7231",
   "metadata": {},
   "outputs": [
    {
     "data": {
      "text/html": [
       "<div>\n",
       "<style scoped>\n",
       "    .dataframe tbody tr th:only-of-type {\n",
       "        vertical-align: middle;\n",
       "    }\n",
       "\n",
       "    .dataframe tbody tr th {\n",
       "        vertical-align: top;\n",
       "    }\n",
       "\n",
       "    .dataframe thead th {\n",
       "        text-align: right;\n",
       "    }\n",
       "</style>\n",
       "<table border=\"1\" class=\"dataframe\">\n",
       "  <thead>\n",
       "    <tr style=\"text-align: right;\">\n",
       "      <th></th>\n",
       "      <th>ID</th>\n",
       "      <th>가입일</th>\n",
       "      <th>음성사서함이용</th>\n",
       "      <th>주간통화시간</th>\n",
       "      <th>주간통화횟수</th>\n",
       "      <th>주간통화요금</th>\n",
       "      <th>저녁통화시간</th>\n",
       "      <th>저녁통화횟수</th>\n",
       "      <th>저녁통화요금</th>\n",
       "      <th>밤통화시간</th>\n",
       "      <th>밤통화횟수</th>\n",
       "      <th>밤통화요금</th>\n",
       "      <th>상담전화건수</th>\n",
       "      <th>전화해지여부</th>\n",
       "    </tr>\n",
       "  </thead>\n",
       "  <tbody>\n",
       "    <tr>\n",
       "      <th>0</th>\n",
       "      <td>TRAIN_00000</td>\n",
       "      <td>329</td>\n",
       "      <td>0</td>\n",
       "      <td>99.2</td>\n",
       "      <td>93</td>\n",
       "      <td>27.3</td>\n",
       "      <td>268.8</td>\n",
       "      <td>68</td>\n",
       "      <td>28.92</td>\n",
       "      <td>262.9</td>\n",
       "      <td>328</td>\n",
       "      <td>32.89</td>\n",
       "      <td>2</td>\n",
       "      <td>0</td>\n",
       "    </tr>\n",
       "    <tr>\n",
       "      <th>1</th>\n",
       "      <td>TRAIN_00001</td>\n",
       "      <td>2</td>\n",
       "      <td>80</td>\n",
       "      <td>323.9</td>\n",
       "      <td>323</td>\n",
       "      <td>83.7</td>\n",
       "      <td>269.4</td>\n",
       "      <td>326</td>\n",
       "      <td>32.09</td>\n",
       "      <td>322.8</td>\n",
       "      <td>209</td>\n",
       "      <td>32.32</td>\n",
       "      <td>2</td>\n",
       "      <td>0</td>\n",
       "    </tr>\n",
       "    <tr>\n",
       "      <th>2</th>\n",
       "      <td>TRAIN_00002</td>\n",
       "      <td>93</td>\n",
       "      <td>28</td>\n",
       "      <td>282.4</td>\n",
       "      <td>323</td>\n",
       "      <td>34.2</td>\n",
       "      <td>207.0</td>\n",
       "      <td>322</td>\n",
       "      <td>32.82</td>\n",
       "      <td>280.8</td>\n",
       "      <td>328</td>\n",
       "      <td>8.28</td>\n",
       "      <td>0</td>\n",
       "      <td>0</td>\n",
       "    </tr>\n",
       "    <tr>\n",
       "      <th>3</th>\n",
       "      <td>TRAIN_00003</td>\n",
       "      <td>223</td>\n",
       "      <td>1</td>\n",
       "      <td>221.4</td>\n",
       "      <td>223</td>\n",
       "      <td>25.1</td>\n",
       "      <td>233.0</td>\n",
       "      <td>61</td>\n",
       "      <td>23.90</td>\n",
       "      <td>203.8</td>\n",
       "      <td>234</td>\n",
       "      <td>9.36</td>\n",
       "      <td>0</td>\n",
       "      <td>0</td>\n",
       "    </tr>\n",
       "    <tr>\n",
       "      <th>4</th>\n",
       "      <td>TRAIN_00004</td>\n",
       "      <td>222</td>\n",
       "      <td>0</td>\n",
       "      <td>96.3</td>\n",
       "      <td>222</td>\n",
       "      <td>28.7</td>\n",
       "      <td>223.9</td>\n",
       "      <td>69</td>\n",
       "      <td>28.08</td>\n",
       "      <td>263.1</td>\n",
       "      <td>223</td>\n",
       "      <td>2.80</td>\n",
       "      <td>8</td>\n",
       "      <td>0</td>\n",
       "    </tr>\n",
       "  </tbody>\n",
       "</table>\n",
       "</div>"
      ],
      "text/plain": [
       "            ID  가입일  음성사서함이용  주간통화시간  주간통화횟수  주간통화요금  저녁통화시간  저녁통화횟수  저녁통화요금  \\\n",
       "0  TRAIN_00000  329        0    99.2      93    27.3   268.8      68   28.92   \n",
       "1  TRAIN_00001    2       80   323.9     323    83.7   269.4     326   32.09   \n",
       "2  TRAIN_00002   93       28   282.4     323    34.2   207.0     322   32.82   \n",
       "3  TRAIN_00003  223        1   221.4     223    25.1   233.0      61   23.90   \n",
       "4  TRAIN_00004  222        0    96.3     222    28.7   223.9      69   28.08   \n",
       "\n",
       "   밤통화시간  밤통화횟수  밤통화요금  상담전화건수  전화해지여부  \n",
       "0  262.9    328  32.89       2       0  \n",
       "1  322.8    209  32.32       2       0  \n",
       "2  280.8    328   8.28       0       0  \n",
       "3  203.8    234   9.36       0       0  \n",
       "4  263.1    223   2.80       8       0  "
      ]
     },
     "execution_count": 55,
     "metadata": {},
     "output_type": "execute_result"
    }
   ],
   "source": [
    "train.head()"
   ]
  },
  {
   "cell_type": "code",
   "execution_count": 56,
   "id": "126a20c3",
   "metadata": {},
   "outputs": [],
   "source": [
    "train['new_feature1'] = train['상담전화건수'] / train.iloc[:, [4, 7, 10]].sum(axis = 1)\n",
    "test['new_feature1'] = test['상담전화건수'] / test.iloc[:, [4, 7, 10]].sum(axis = 1)"
   ]
  },
  {
   "cell_type": "code",
   "execution_count": 57,
   "id": "4208b383",
   "metadata": {},
   "outputs": [],
   "source": [
    "train['max_time_idx'] = np.argmax(train.iloc[:, [3, 6, 9]].values, axis = 1)\n",
    "test['max_time_idx'] = np.argmax(test.iloc[:, [3, 6, 9]].values, axis = 1)"
   ]
  },
  {
   "cell_type": "code",
   "execution_count": 58,
   "id": "95aebb7f",
   "metadata": {},
   "outputs": [],
   "source": [
    "train['max_cnt_idx'] = np.argmax(train.iloc[:, [4, 7, 10]].values, axis = 1)\n",
    "test['max_cnt_idx'] = np.argmax(test.iloc[:, [4, 7, 10]].values, axis = 1)"
   ]
  },
  {
   "cell_type": "code",
   "execution_count": 59,
   "id": "b0bd3b0e",
   "metadata": {},
   "outputs": [],
   "source": [
    "from catboost import CatBoostClassifier\n",
    "from xgboost import XGBClassifier\n",
    "from lightgbm import LGBMClassifier\n",
    "\n",
    "from sklearn.model_selection import StratifiedKFold\n",
    "from sklearn.metrics import f1_score"
   ]
  },
  {
   "cell_type": "code",
   "execution_count": 60,
   "id": "a36f559b",
   "metadata": {},
   "outputs": [],
   "source": [
    "X = train.drop(['ID', '전화해지여부'], axis = 1)\n",
    "y = train['전화해지여부']"
   ]
  },
  {
   "cell_type": "code",
   "execution_count": 61,
   "id": "43f1cbb5",
   "metadata": {},
   "outputs": [],
   "source": [
    "skf = StratifiedKFold(n_splits = 8, random_state = 42, shuffle = True)"
   ]
  },
  {
   "cell_type": "code",
   "execution_count": 62,
   "id": "2200bfbc",
   "metadata": {},
   "outputs": [],
   "source": [
    "target = test[X.columns]"
   ]
  },
  {
   "cell_type": "code",
   "execution_count": 65,
   "id": "cc82e9cc",
   "metadata": {
    "scrolled": true
   },
   "outputs": [
    {
     "name": "stderr",
     "output_type": "stream",
     "text": [
      "Custom logger is already specified. Specify more than one logger at same time is not thread safe."
     ]
    },
    {
     "name": "stdout",
     "output_type": "stream",
     "text": [
      "1 Fold F1 Score : 0.8204535240805932\n",
      "2 Fold F1 Score : 0.8174355639613526\n",
      "3 Fold F1 Score : 0.8106287274675099\n",
      "4 Fold F1 Score : 0.8179359337830352\n",
      "5 Fold F1 Score : 0.7922498489515599\n",
      "6 Fold F1 Score : 0.8178480407423816\n",
      "7 Fold F1 Score : 0.8171746916461504\n",
      "8 Fold F1 Score : 0.8030938560688445\n",
      "CatBoostClassifier avg of f1 : 0.8121025233376785\n"
     ]
    }
   ],
   "source": [
    "cb_pred = np.zeros(target.shape[0])\n",
    "cb_score = 0\n",
    "for i, (tr_idx, val_idx) in enumerate(skf.split(X, y)) :\n",
    "    \n",
    "    tr_x, tr_y = X.iloc[tr_idx], y.iloc[tr_idx]\n",
    "    val_x, val_y = X.iloc[val_idx], y.iloc[val_idx]\n",
    "    cb = CatBoostClassifier(random_state = 42, max_depth = 7, learning_rate = 0.02, iterations = 10000, use_best_model = True, eval_metric = 'F1')\n",
    "    cb.fit(tr_x, tr_y, eval_set = [(tr_x, tr_y), (val_x, val_y)], early_stopping_rounds = 1000, verbose = 0)\n",
    "    \n",
    "    val_pred = cb.predict_proba(val_x)[:, 1]\n",
    "\n",
    "    val_cls = [1 if p >= 0.3 else 0 for p in val_pred]\n",
    "    val_f1 = f1_score(val_y, val_cls, average = 'macro')\n",
    "    cb_score += val_f1 / skf.n_splits\n",
    "    print(f'{i + 1} Fold F1 Score : {val_f1}')\n",
    "    \n",
    "    fold_pred = cb.predict_proba(target)[:, 1] / skf.n_splits\n",
    "    cb_pred += fold_pred\n",
    "    \n",
    "print(f'{cb.__class__.__name__} avg of f1 : {cb_score}')"
   ]
  },
  {
   "cell_type": "markdown",
   "id": "5e9f5e04",
   "metadata": {},
   "source": [
    "0.82574 : 0.8112228450886133, 0.8250 : 0.8097721252504557"
   ]
  },
  {
   "cell_type": "code",
   "execution_count": 66,
   "id": "365ce9e1",
   "metadata": {},
   "outputs": [],
   "source": [
    "submission = pd.read_csv('sample_submission.csv')"
   ]
  },
  {
   "cell_type": "code",
   "execution_count": 67,
   "id": "8fac17b4",
   "metadata": {},
   "outputs": [],
   "source": [
    "submission['전화해지여부'] = [1 if p >= 0.3 else 0 for p in cb_pred]"
   ]
  },
  {
   "cell_type": "code",
   "execution_count": 68,
   "id": "34d7037d",
   "metadata": {
    "scrolled": false
   },
   "outputs": [
    {
     "data": {
      "text/plain": [
       "0    11631\n",
       "1     1312\n",
       "Name: 전화해지여부, dtype: int64"
      ]
     },
     "execution_count": 68,
     "metadata": {},
     "output_type": "execute_result"
    }
   ],
   "source": [
    "submission['전화해지여부'].value_counts()"
   ]
  },
  {
   "cell_type": "code",
   "execution_count": 69,
   "id": "6025c4a9",
   "metadata": {},
   "outputs": [],
   "source": [
    "submission.to_csv('1st.csv', index = False)"
   ]
  }
 ],
 "metadata": {
  "kernelspec": {
   "display_name": "Python 3",
   "language": "python",
   "name": "python3"
  },
  "language_info": {
   "codemirror_mode": {
    "name": "ipython",
    "version": 3
   },
   "file_extension": ".py",
   "mimetype": "text/x-python",
   "name": "python",
   "nbconvert_exporter": "python",
   "pygments_lexer": "ipython3",
   "version": "3.8.8"
  }
 },
 "nbformat": 4,
 "nbformat_minor": 5
}
