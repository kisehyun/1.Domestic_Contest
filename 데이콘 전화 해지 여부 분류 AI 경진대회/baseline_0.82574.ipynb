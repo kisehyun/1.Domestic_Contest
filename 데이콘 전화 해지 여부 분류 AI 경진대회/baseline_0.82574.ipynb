{
 "cells": [
  {
   "cell_type": "code",
   "execution_count": 1,
   "id": "76e2144d",
   "metadata": {},
   "outputs": [],
   "source": [
    "import pandas as pd\n",
    "import numpy as np\n",
    "\n",
    "import warnings\n",
    "warnings.filterwarnings('ignore')"
   ]
  },
  {
   "cell_type": "code",
   "execution_count": 2,
   "id": "62a8e34b",
   "metadata": {},
   "outputs": [],
   "source": [
    "train = pd.read_csv('train.csv')"
   ]
  },
  {
   "cell_type": "code",
   "execution_count": 4,
   "id": "710103f0",
   "metadata": {},
   "outputs": [],
   "source": [
    "test = pd.read_csv('test.csv')"
   ]
  },
  {
   "cell_type": "code",
   "execution_count": 10,
   "id": "f23c9fc2",
   "metadata": {},
   "outputs": [],
   "source": [
    "from catboost import CatBoostClassifier\n",
    "from xgboost import XGBClassifier\n",
    "from lightgbm import LGBMClassifier\n",
    "\n",
    "from sklearn.model_selection import StratifiedKFold\n",
    "from sklearn.metrics import f1_score"
   ]
  },
  {
   "cell_type": "code",
   "execution_count": 15,
   "id": "3c5b1d91",
   "metadata": {},
   "outputs": [],
   "source": [
    "X = train.drop(['ID', '전화해지여부'], axis = 1)\n",
    "y = train['전화해지여부']"
   ]
  },
  {
   "cell_type": "code",
   "execution_count": 16,
   "id": "841d1b60",
   "metadata": {},
   "outputs": [],
   "source": [
    "skf = StratifiedKFold(n_splits = 8, random_state = 42, shuffle = True)"
   ]
  },
  {
   "cell_type": "code",
   "execution_count": 22,
   "id": "c7594d92",
   "metadata": {},
   "outputs": [],
   "source": [
    "target = test[X.columns]"
   ]
  },
  {
   "cell_type": "markdown",
   "id": "dfa503d8",
   "metadata": {},
   "source": [
    "### Catboost"
   ]
  },
  {
   "cell_type": "code",
   "execution_count": 27,
   "id": "c83e31e9",
   "metadata": {},
   "outputs": [
    {
     "name": "stdout",
     "output_type": "stream",
     "text": [
      "1 Fold....\n",
      "When threshold is 0.3, F1 Score : 0.8137182334073525\n",
      "When threshold is 0.35, F1 Score : 0.8057626499066156\n",
      "When threshold is 0.39999999999999997, F1 Score : 0.7922498211422302\n",
      "When threshold is 0.44999999999999996, F1 Score : 0.7744203649111625\n",
      "When threshold is 0.49999999999999994, F1 Score : 0.7587367674875629\n",
      "When threshold is 0.5499999999999999, F1 Score : 0.7188474607829447\n",
      "When threshold is 0.5999999999999999, F1 Score : 0.6929548996688096\n",
      "When threshold is 0.6499999999999999, F1 Score : 0.6727556199905382\n",
      "2 Fold....\n",
      "When threshold is 0.3, F1 Score : 0.8114748533069827\n",
      "When threshold is 0.35, F1 Score : 0.8058144407357637\n",
      "When threshold is 0.39999999999999997, F1 Score : 0.7897345291748394\n",
      "When threshold is 0.44999999999999996, F1 Score : 0.765505591530051\n",
      "When threshold is 0.49999999999999994, F1 Score : 0.7513383517160391\n",
      "When threshold is 0.5499999999999999, F1 Score : 0.7349034213213947\n",
      "When threshold is 0.5999999999999999, F1 Score : 0.7115436251454613\n",
      "When threshold is 0.6499999999999999, F1 Score : 0.682938866644418\n",
      "3 Fold....\n",
      "When threshold is 0.3, F1 Score : 0.8085851106507809\n",
      "When threshold is 0.35, F1 Score : 0.7852938109637606\n",
      "When threshold is 0.39999999999999997, F1 Score : 0.77285383966749\n",
      "When threshold is 0.44999999999999996, F1 Score : 0.7526791912530371\n",
      "When threshold is 0.49999999999999994, F1 Score : 0.733674023154848\n",
      "When threshold is 0.5499999999999999, F1 Score : 0.7062099494850329\n",
      "When threshold is 0.5999999999999999, F1 Score : 0.6727602434825135\n",
      "When threshold is 0.6499999999999999, F1 Score : 0.6493682935635001\n",
      "4 Fold....\n",
      "When threshold is 0.3, F1 Score : 0.8118181966986249\n",
      "When threshold is 0.35, F1 Score : 0.8106858438145674\n",
      "When threshold is 0.39999999999999997, F1 Score : 0.8033000434216239\n",
      "When threshold is 0.44999999999999996, F1 Score : 0.7942685791693993\n",
      "When threshold is 0.49999999999999994, F1 Score : 0.782281403384333\n",
      "When threshold is 0.5499999999999999, F1 Score : 0.7543513567613805\n",
      "When threshold is 0.5999999999999999, F1 Score : 0.7271342183587659\n",
      "When threshold is 0.6499999999999999, F1 Score : 0.6969432231924026\n",
      "5 Fold....\n",
      "When threshold is 0.3, F1 Score : 0.79465401751176\n",
      "When threshold is 0.35, F1 Score : 0.772931139165286\n",
      "When threshold is 0.39999999999999997, F1 Score : 0.7532653462241136\n",
      "When threshold is 0.44999999999999996, F1 Score : 0.7423493566299566\n",
      "When threshold is 0.49999999999999994, F1 Score : 0.7376458815016228\n",
      "When threshold is 0.5499999999999999, F1 Score : 0.7108496999832042\n",
      "When threshold is 0.5999999999999999, F1 Score : 0.691192643320303\n",
      "When threshold is 0.6499999999999999, F1 Score : 0.6708686841962853\n",
      "6 Fold....\n",
      "When threshold is 0.3, F1 Score : 0.8211040908973641\n",
      "When threshold is 0.35, F1 Score : 0.8123509106058803\n",
      "When threshold is 0.39999999999999997, F1 Score : 0.8041659064347672\n",
      "When threshold is 0.44999999999999996, F1 Score : 0.7886333452034607\n",
      "When threshold is 0.49999999999999994, F1 Score : 0.7810811212548998\n",
      "When threshold is 0.5499999999999999, F1 Score : 0.7534740991913335\n",
      "When threshold is 0.5999999999999999, F1 Score : 0.7263739792641526\n",
      "When threshold is 0.6499999999999999, F1 Score : 0.7030695443645085\n",
      "7 Fold....\n",
      "When threshold is 0.3, F1 Score : 0.8142132978985187\n",
      "When threshold is 0.35, F1 Score : 0.7987570157557125\n",
      "When threshold is 0.39999999999999997, F1 Score : 0.782852250050461\n",
      "When threshold is 0.44999999999999996, F1 Score : 0.7705068927134173\n",
      "When threshold is 0.49999999999999994, F1 Score : 0.7572607796391295\n",
      "When threshold is 0.5499999999999999, F1 Score : 0.7347502868763047\n",
      "When threshold is 0.5999999999999999, F1 Score : 0.7071984835520788\n",
      "When threshold is 0.6499999999999999, F1 Score : 0.6832366318449492\n",
      "8 Fold....\n",
      "When threshold is 0.3, F1 Score : 0.8142149603375225\n",
      "When threshold is 0.35, F1 Score : 0.8087852269792145\n",
      "When threshold is 0.39999999999999997, F1 Score : 0.7982693878332333\n",
      "When threshold is 0.44999999999999996, F1 Score : 0.782852250050461\n",
      "When threshold is 0.49999999999999994, F1 Score : 0.7717160412439974\n",
      "When threshold is 0.5499999999999999, F1 Score : 0.7505645252843469\n",
      "When threshold is 0.5999999999999999, F1 Score : 0.7260535749706097\n",
      "When threshold is 0.6499999999999999, F1 Score : 0.6965868346817274\n"
     ]
    }
   ],
   "source": [
    "cb_pred = np.zeros(target.shape[0])\n",
    "for i, (tr_idx, val_idx) in enumerate(skf.split(X, y)) :\n",
    "    \n",
    "    tr_x, tr_y = X.iloc[tr_idx], y.iloc[tr_idx]\n",
    "    val_x, val_y = X.iloc[val_idx], y.iloc[val_idx]\n",
    "    print(f'{i + 1} Fold....')\n",
    "    cb = CatBoostClassifier(random_state = 42, max_depth = 6, learning_rate = 0.02, iterations = 10000, use_best_model = True, eval_metric = 'F1')\n",
    "    cb.fit(tr_x, tr_y, eval_set = [(tr_x, tr_y), (val_x, val_y)], early_stopping_rounds = 1000, verbose = 0)\n",
    "    \n",
    "    val_pred = cb.predict_proba(val_x)[:, 1]\n",
    "\n",
    "    for threshold in np.arange(0.3, 0.7, 0.05) :\n",
    "        val_cls = [1 if p >= threshold else 0 for p in val_pred]\n",
    "        val_f1 = f1_score(val_y, val_cls, average = 'macro')\n",
    "        print(f'When threshold is {threshold}, F1 Score : {val_f1}')\n",
    "    \n",
    "    \n",
    "    fold_pred = cb.predict_proba(target)[:, 1] / skf.n_splits\n",
    "    cb_pred += fold_pred"
   ]
  },
  {
   "cell_type": "code",
   "execution_count": 31,
   "id": "cce44db1",
   "metadata": {},
   "outputs": [],
   "source": [
    "submission = pd.read_csv('sample_submission.csv')"
   ]
  },
  {
   "cell_type": "code",
   "execution_count": 36,
   "id": "b65fbae5",
   "metadata": {},
   "outputs": [],
   "source": [
    "submission['전화해지여부'] = [1 if p >= 0.3 else 0 for p in cb_pred]"
   ]
  },
  {
   "cell_type": "code",
   "execution_count": 38,
   "id": "d348aea3",
   "metadata": {
    "scrolled": false
   },
   "outputs": [
    {
     "data": {
      "text/plain": [
       "0    11639\n",
       "1     1304\n",
       "Name: 전화해지여부, dtype: int64"
      ]
     },
     "execution_count": 38,
     "metadata": {},
     "output_type": "execute_result"
    }
   ],
   "source": [
    "submission['전화해지여부'].value_counts()"
   ]
  },
  {
   "cell_type": "code",
   "execution_count": 39,
   "id": "dfdc9364",
   "metadata": {},
   "outputs": [],
   "source": [
    "submission.to_csv('1st.csv', index = False)"
   ]
  },
  {
   "cell_type": "markdown",
   "id": "7a8e1a70",
   "metadata": {},
   "source": [
    "### LGBM"
   ]
  },
  {
   "cell_type": "code",
   "execution_count": 41,
   "id": "ec6efb7d",
   "metadata": {},
   "outputs": [],
   "source": [
    "X.columns = [f'col_{i}' for i in range(1, X.shape[1] + 1)]"
   ]
  },
  {
   "cell_type": "code",
   "execution_count": 43,
   "id": "5107e72d",
   "metadata": {},
   "outputs": [],
   "source": [
    "target.columns = [f'col_{i}' for i in range(1, X.shape[1] + 1)]"
   ]
  },
  {
   "cell_type": "code",
   "execution_count": 46,
   "id": "bebca4e0",
   "metadata": {
    "scrolled": true
   },
   "outputs": [
    {
     "name": "stdout",
     "output_type": "stream",
     "text": [
      "1 Fold....F1 Score : 0.8116984999365149\n",
      "2 Fold....F1 Score : 0.8016310916332986\n",
      "3 Fold....F1 Score : 0.7964197438394127\n",
      "4 Fold....F1 Score : 0.8049022545127706\n",
      "5 Fold....F1 Score : 0.7824806489407335\n",
      "6 Fold....F1 Score : 0.8188399057770344\n",
      "7 Fold....F1 Score : 0.8183889138627518\n",
      "8 Fold....F1 Score : 0.8102023811205106\n"
     ]
    }
   ],
   "source": [
    "lgbm_pred = np.zeros(target.shape[0])\n",
    "for i, (tr_idx, val_idx) in enumerate(skf.split(X, y)) :\n",
    "    \n",
    "    tr_x, tr_y = X.iloc[tr_idx], y.iloc[tr_idx]\n",
    "    val_x, val_y = X.iloc[val_idx], y.iloc[val_idx]\n",
    "    \n",
    "    lgbm = LGBMClassifier(random_state = 42, max_depth = 6, learning_rate = 0.02, n_estimators = 10000, eval_metric = 'F1')\n",
    "    lgbm.fit(tr_x, tr_y, eval_set = [(tr_x, tr_y), (val_x, val_y)], early_stopping_rounds = 1000, verbose = 0)\n",
    "    \n",
    "    val_pred = lgbm.predict_proba(val_x)[:, 1]\n",
    "    val_cls = [1 if p >= 0.3 else 0 for p in val_pred]\n",
    "    val_f1 = f1_score(val_y, val_cls, average = 'macro')\n",
    "    print(f'{i + 1} Fold....F1 Score : {val_f1}')    \n",
    "    \n",
    "    fold_pred = lgbm.predict_proba(target)[:, 1] / skf.n_splits\n",
    "    lgbm_pred += fold_pred"
   ]
  },
  {
   "cell_type": "code",
   "execution_count": 54,
   "id": "84b7e640",
   "metadata": {},
   "outputs": [],
   "source": [
    "submission['전화해지여부'] = [1 if p >= 0.3 else 0 for p in cb_pred * 0.5 + lgbm_pred * 0.5]"
   ]
  },
  {
   "cell_type": "code",
   "execution_count": 55,
   "id": "c9c70e2b",
   "metadata": {
    "scrolled": true
   },
   "outputs": [
    {
     "data": {
      "text/plain": [
       "0    11654\n",
       "1     1289\n",
       "Name: 전화해지여부, dtype: int64"
      ]
     },
     "execution_count": 55,
     "metadata": {},
     "output_type": "execute_result"
    }
   ],
   "source": [
    "submission['전화해지여부'].value_counts()"
   ]
  },
  {
   "cell_type": "code",
   "execution_count": 49,
   "id": "fb1b3783",
   "metadata": {},
   "outputs": [],
   "source": [
    "submission.to_csv('catboost_lgbm.csv', index = False)"
   ]
  },
  {
   "cell_type": "markdown",
   "id": "5ab3a19d",
   "metadata": {},
   "source": [
    "### XGBoost"
   ]
  },
  {
   "cell_type": "code",
   "execution_count": 58,
   "id": "37df8b96",
   "metadata": {},
   "outputs": [],
   "source": [
    "def f1_eval(y_pred, dtrain):\n",
    "    y_true = dtrain.get_label()\n",
    "    err = 1-f1_score(y_true, np.round(y_pred))\n",
    "    return 'f1_err', err"
   ]
  },
  {
   "cell_type": "code",
   "execution_count": 63,
   "id": "7e0afa81",
   "metadata": {
    "scrolled": true
   },
   "outputs": [
    {
     "name": "stdout",
     "output_type": "stream",
     "text": [
      "[21:33:17] WARNING: /opt/concourse/worker/volumes/live/7a2b9f41-3287-451b-6691-43e9a6c0910f/volume/xgboost-split_1619728204606/work/src/learner.cc:1061: Starting in XGBoost 1.3.0, the default evaluation metric used with the objective 'binary:logistic' was changed from 'error' to 'logloss'. Explicitly set eval_metric if you'd like to restore the old behavior.\n",
      "1 Fold....F1 Score : 0.8216485894083982\n",
      "[21:34:18] WARNING: /opt/concourse/worker/volumes/live/7a2b9f41-3287-451b-6691-43e9a6c0910f/volume/xgboost-split_1619728204606/work/src/learner.cc:1061: Starting in XGBoost 1.3.0, the default evaluation metric used with the objective 'binary:logistic' was changed from 'error' to 'logloss'. Explicitly set eval_metric if you'd like to restore the old behavior.\n",
      "2 Fold....F1 Score : 0.8077917046580345\n",
      "[21:35:08] WARNING: /opt/concourse/worker/volumes/live/7a2b9f41-3287-451b-6691-43e9a6c0910f/volume/xgboost-split_1619728204606/work/src/learner.cc:1061: Starting in XGBoost 1.3.0, the default evaluation metric used with the objective 'binary:logistic' was changed from 'error' to 'logloss'. Explicitly set eval_metric if you'd like to restore the old behavior.\n",
      "3 Fold....F1 Score : 0.8243671465728835\n",
      "[21:36:04] WARNING: /opt/concourse/worker/volumes/live/7a2b9f41-3287-451b-6691-43e9a6c0910f/volume/xgboost-split_1619728204606/work/src/learner.cc:1061: Starting in XGBoost 1.3.0, the default evaluation metric used with the objective 'binary:logistic' was changed from 'error' to 'logloss'. Explicitly set eval_metric if you'd like to restore the old behavior.\n",
      "4 Fold....F1 Score : 0.8179118898783317\n",
      "[21:36:51] WARNING: /opt/concourse/worker/volumes/live/7a2b9f41-3287-451b-6691-43e9a6c0910f/volume/xgboost-split_1619728204606/work/src/learner.cc:1061: Starting in XGBoost 1.3.0, the default evaluation metric used with the objective 'binary:logistic' was changed from 'error' to 'logloss'. Explicitly set eval_metric if you'd like to restore the old behavior.\n",
      "5 Fold....F1 Score : 0.7839454257155435\n",
      "[21:37:40] WARNING: /opt/concourse/worker/volumes/live/7a2b9f41-3287-451b-6691-43e9a6c0910f/volume/xgboost-split_1619728204606/work/src/learner.cc:1061: Starting in XGBoost 1.3.0, the default evaluation metric used with the objective 'binary:logistic' was changed from 'error' to 'logloss'. Explicitly set eval_metric if you'd like to restore the old behavior.\n",
      "6 Fold....F1 Score : 0.8155334466339696\n",
      "[21:38:33] WARNING: /opt/concourse/worker/volumes/live/7a2b9f41-3287-451b-6691-43e9a6c0910f/volume/xgboost-split_1619728204606/work/src/learner.cc:1061: Starting in XGBoost 1.3.0, the default evaluation metric used with the objective 'binary:logistic' was changed from 'error' to 'logloss'. Explicitly set eval_metric if you'd like to restore the old behavior.\n",
      "7 Fold....F1 Score : 0.8246065719306006\n",
      "[21:39:21] WARNING: /opt/concourse/worker/volumes/live/7a2b9f41-3287-451b-6691-43e9a6c0910f/volume/xgboost-split_1619728204606/work/src/learner.cc:1061: Starting in XGBoost 1.3.0, the default evaluation metric used with the objective 'binary:logistic' was changed from 'error' to 'logloss'. Explicitly set eval_metric if you'd like to restore the old behavior.\n",
      "8 Fold....F1 Score : 0.8050586115168024\n"
     ]
    }
   ],
   "source": [
    "xgb_pred = np.zeros(target.shape[0])\n",
    "for i, (tr_idx, val_idx) in enumerate(skf.split(X, y)) :\n",
    "    \n",
    "    tr_x, tr_y = X.iloc[tr_idx], y.iloc[tr_idx]\n",
    "    val_x, val_y = X.iloc[val_idx], y.iloc[val_idx]\n",
    "    \n",
    "    xgb = XGBClassifier(random_state = 42, max_depth = 6, learning_rate = 0.02, n_estimators = 10000)\n",
    "    xgb.fit(tr_x, tr_y, eval_set = [(tr_x, tr_y), (val_x, val_y)], early_stopping_rounds = 1000, verbose = 0)\n",
    "    \n",
    "    val_pred = xgb.predict_proba(val_x)[:, 1]\n",
    "    val_cls = [1 if p >= 0.3 else 0 for p in val_pred]\n",
    "    val_f1 = f1_score(val_y, val_cls, average = 'macro')\n",
    "    print(f'{i + 1} Fold....F1 Score : {val_f1}')    \n",
    "    \n",
    "    fold_pred = xgb.predict_proba(target)[:, 1] / skf.n_splits\n",
    "    xgb_pred += fold_pred"
   ]
  },
  {
   "cell_type": "code",
   "execution_count": 64,
   "id": "df89e824",
   "metadata": {},
   "outputs": [],
   "source": [
    "submission['전화해지여부'] = [1 if p >= 0.3 else 0 for p in (cb_pred + xgb_pred) / 2]"
   ]
  },
  {
   "cell_type": "code",
   "execution_count": 65,
   "id": "cbbb8ae5",
   "metadata": {
    "scrolled": true
   },
   "outputs": [
    {
     "data": {
      "text/plain": [
       "0    11645\n",
       "1     1298\n",
       "Name: 전화해지여부, dtype: int64"
      ]
     },
     "execution_count": 65,
     "metadata": {},
     "output_type": "execute_result"
    }
   ],
   "source": [
    "submission['전화해지여부'].value_counts()"
   ]
  },
  {
   "cell_type": "code",
   "execution_count": 66,
   "id": "c406ccd1",
   "metadata": {},
   "outputs": [],
   "source": [
    "submission.to_csv('catboost_xgboost.csv', index = False)"
   ]
  }
 ],
 "metadata": {
  "kernelspec": {
   "display_name": "Python 3",
   "language": "python",
   "name": "python3"
  },
  "language_info": {
   "codemirror_mode": {
    "name": "ipython",
    "version": 3
   },
   "file_extension": ".py",
   "mimetype": "text/x-python",
   "name": "python",
   "nbconvert_exporter": "python",
   "pygments_lexer": "ipython3",
   "version": "3.8.8"
  }
 },
 "nbformat": 4,
 "nbformat_minor": 5
}
