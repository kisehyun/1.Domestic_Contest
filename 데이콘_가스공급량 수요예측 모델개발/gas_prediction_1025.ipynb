{
 "cells": [
  {
   "cell_type": "code",
   "execution_count": 2,
   "id": "f2a82bd2",
   "metadata": {},
   "outputs": [],
   "source": [
    "import pandas as pd\n",
    "import numpy as np\n",
    "import warnings\n",
    "warnings.filterwarnings('ignore')\n",
    "import matplotlib.pyplot as plt\n",
    "import seaborn as sns\n",
    "%matplotlib inline"
   ]
  },
  {
   "cell_type": "code",
   "execution_count": 3,
   "id": "ebd9430d",
   "metadata": {},
   "outputs": [],
   "source": [
    "train = pd.read_csv('가스.csv', encoding = 'cp949')\n",
    "test = pd.read_csv('test.csv', sep = '|')"
   ]
  },
  {
   "cell_type": "code",
   "execution_count": 4,
   "id": "990982ab",
   "metadata": {
    "scrolled": true
   },
   "outputs": [
    {
     "data": {
      "text/html": [
       "<div>\n",
       "<style scoped>\n",
       "    .dataframe tbody tr th:only-of-type {\n",
       "        vertical-align: middle;\n",
       "    }\n",
       "\n",
       "    .dataframe tbody tr th {\n",
       "        vertical-align: top;\n",
       "    }\n",
       "\n",
       "    .dataframe thead th {\n",
       "        text-align: right;\n",
       "    }\n",
       "</style>\n",
       "<table border=\"1\" class=\"dataframe\">\n",
       "  <thead>\n",
       "    <tr style=\"text-align: right;\">\n",
       "      <th></th>\n",
       "      <th>연월일</th>\n",
       "      <th>시간</th>\n",
       "      <th>구분</th>\n",
       "      <th>공급량</th>\n",
       "    </tr>\n",
       "  </thead>\n",
       "  <tbody>\n",
       "    <tr>\n",
       "      <th>0</th>\n",
       "      <td>2013-01-01</td>\n",
       "      <td>1</td>\n",
       "      <td>A</td>\n",
       "      <td>2497.129</td>\n",
       "    </tr>\n",
       "    <tr>\n",
       "      <th>1</th>\n",
       "      <td>2013-01-01</td>\n",
       "      <td>2</td>\n",
       "      <td>A</td>\n",
       "      <td>2363.265</td>\n",
       "    </tr>\n",
       "    <tr>\n",
       "      <th>2</th>\n",
       "      <td>2013-01-01</td>\n",
       "      <td>3</td>\n",
       "      <td>A</td>\n",
       "      <td>2258.505</td>\n",
       "    </tr>\n",
       "    <tr>\n",
       "      <th>3</th>\n",
       "      <td>2013-01-01</td>\n",
       "      <td>4</td>\n",
       "      <td>A</td>\n",
       "      <td>2243.969</td>\n",
       "    </tr>\n",
       "    <tr>\n",
       "      <th>4</th>\n",
       "      <td>2013-01-01</td>\n",
       "      <td>5</td>\n",
       "      <td>A</td>\n",
       "      <td>2344.105</td>\n",
       "    </tr>\n",
       "  </tbody>\n",
       "</table>\n",
       "</div>"
      ],
      "text/plain": [
       "          연월일  시간 구분       공급량\n",
       "0  2013-01-01   1  A  2497.129\n",
       "1  2013-01-01   2  A  2363.265\n",
       "2  2013-01-01   3  A  2258.505\n",
       "3  2013-01-01   4  A  2243.969\n",
       "4  2013-01-01   5  A  2344.105"
      ]
     },
     "execution_count": 4,
     "metadata": {},
     "output_type": "execute_result"
    }
   ],
   "source": [
    "train.head()"
   ]
  },
  {
   "cell_type": "code",
   "execution_count": 5,
   "id": "5e1b758d",
   "metadata": {
    "scrolled": true
   },
   "outputs": [
    {
     "data": {
      "text/html": [
       "<div>\n",
       "<style scoped>\n",
       "    .dataframe tbody tr th:only-of-type {\n",
       "        vertical-align: middle;\n",
       "    }\n",
       "\n",
       "    .dataframe tbody tr th {\n",
       "        vertical-align: top;\n",
       "    }\n",
       "\n",
       "    .dataframe thead th {\n",
       "        text-align: right;\n",
       "    }\n",
       "</style>\n",
       "<table border=\"1\" class=\"dataframe\">\n",
       "  <thead>\n",
       "    <tr style=\"text-align: right;\">\n",
       "      <th></th>\n",
       "      <th>일자</th>\n",
       "      <th>시간</th>\n",
       "      <th>구분</th>\n",
       "    </tr>\n",
       "  </thead>\n",
       "  <tbody>\n",
       "    <tr>\n",
       "      <th>0</th>\n",
       "      <td>2019-01-01 01 A</td>\n",
       "      <td>NaN</td>\n",
       "      <td>NaN</td>\n",
       "    </tr>\n",
       "    <tr>\n",
       "      <th>1</th>\n",
       "      <td>2019-01-01 02 A</td>\n",
       "      <td>NaN</td>\n",
       "      <td>NaN</td>\n",
       "    </tr>\n",
       "    <tr>\n",
       "      <th>2</th>\n",
       "      <td>2019-01-01 03 A</td>\n",
       "      <td>NaN</td>\n",
       "      <td>NaN</td>\n",
       "    </tr>\n",
       "    <tr>\n",
       "      <th>3</th>\n",
       "      <td>2019-01-01 04 A</td>\n",
       "      <td>NaN</td>\n",
       "      <td>NaN</td>\n",
       "    </tr>\n",
       "    <tr>\n",
       "      <th>4</th>\n",
       "      <td>2019-01-01 05 A</td>\n",
       "      <td>NaN</td>\n",
       "      <td>NaN</td>\n",
       "    </tr>\n",
       "  </tbody>\n",
       "</table>\n",
       "</div>"
      ],
      "text/plain": [
       "                일자  시간  구분\n",
       "0  2019-01-01 01 A NaN NaN\n",
       "1  2019-01-01 02 A NaN NaN\n",
       "2  2019-01-01 03 A NaN NaN\n",
       "3  2019-01-01 04 A NaN NaN\n",
       "4  2019-01-01 05 A NaN NaN"
      ]
     },
     "execution_count": 5,
     "metadata": {},
     "output_type": "execute_result"
    }
   ],
   "source": [
    "test.head()"
   ]
  },
  {
   "cell_type": "code",
   "execution_count": 6,
   "id": "fa5ac92d",
   "metadata": {},
   "outputs": [],
   "source": [
    "test['시간'] = test['일자'].str.split(' ').str[1]\n",
    "test['구분'] = test['일자'].str.split(' ').str[2]\n",
    "test['일자'] = test['일자'].str.split(' ').str[0]"
   ]
  },
  {
   "cell_type": "code",
   "execution_count": 7,
   "id": "9752bb83",
   "metadata": {
    "scrolled": true
   },
   "outputs": [],
   "source": [
    "train['일자'] = pd.to_datetime(train['연월일'])\n",
    "test['일자'] = pd.to_datetime(test['일자'])"
   ]
  },
  {
   "cell_type": "code",
   "execution_count": 8,
   "id": "32f9774a",
   "metadata": {},
   "outputs": [],
   "source": [
    "train['월'] = train['일자'].dt.month\n",
    "test['월'] = test['일자'].dt.month"
   ]
  },
  {
   "cell_type": "code",
   "execution_count": 9,
   "id": "64b22c38",
   "metadata": {},
   "outputs": [],
   "source": [
    "def get_season(x) :\n",
    "    if x in [3, 4, 5] :\n",
    "        return '봄'\n",
    "    elif x in [6, 7, 8] :\n",
    "        return '여름'\n",
    "    elif x in [9, 10, 11] :\n",
    "        return '가을'\n",
    "    else :\n",
    "        return '겨울'"
   ]
  },
  {
   "cell_type": "code",
   "execution_count": 10,
   "id": "982ca418",
   "metadata": {},
   "outputs": [],
   "source": [
    "train['계절'] = train.월.apply(get_season)\n",
    "test['계절'] = test.월.apply(get_season)"
   ]
  },
  {
   "cell_type": "code",
   "execution_count": 11,
   "id": "a3e699d3",
   "metadata": {},
   "outputs": [
    {
     "data": {
      "text/plain": [
       "계절\n",
       "가을     564.985\n",
       "겨울    1682.721\n",
       "봄      683.697\n",
       "여름     360.189\n",
       "Name: 공급량, dtype: float64"
      ]
     },
     "execution_count": 11,
     "metadata": {},
     "output_type": "execute_result"
    }
   ],
   "source": [
    "train.groupby('계절').공급량.median()"
   ]
  },
  {
   "cell_type": "code",
   "execution_count": 12,
   "id": "a04d670f",
   "metadata": {},
   "outputs": [
    {
     "data": {
      "text/plain": [
       "구분\n",
       "C     120.578\n",
       "H     178.436\n",
       "D     492.515\n",
       "B     676.933\n",
       "A     904.404\n",
       "E     968.548\n",
       "G    1740.981\n",
       "Name: 공급량, dtype: float64"
      ]
     },
     "execution_count": 12,
     "metadata": {},
     "output_type": "execute_result"
    }
   ],
   "source": [
    "train.groupby('구분').공급량.median().sort_values()"
   ]
  },
  {
   "cell_type": "code",
   "execution_count": 13,
   "id": "14970d20",
   "metadata": {},
   "outputs": [],
   "source": [
    "train['구분'] = train['구분'].map({'G' : 7, 'E' : 6, 'A' : 5, 'B' : 4, 'D' : 3, 'H' : 2, 'C' : 1})\n",
    "test['구분'] = test['구분'].map({'G' : 7, 'E' : 6, 'A' : 5, 'B' : 4, 'D' : 3, 'H' : 2, 'C' : 1})"
   ]
  },
  {
   "cell_type": "code",
   "execution_count": 19,
   "id": "ab3c6066",
   "metadata": {},
   "outputs": [],
   "source": [
    "train['계절'] = train['계절'].map({'겨울' : 4, '가을' : 2, '여름' : 1, '봄' : 3})\n",
    "test['계절'] = test['계절'].map({'겨울' : 4, '가을' : 2, '여름' : 1, '봄' : 3})"
   ]
  },
  {
   "cell_type": "code",
   "execution_count": 64,
   "id": "e9a24ffc",
   "metadata": {},
   "outputs": [],
   "source": [
    "#train['hot_time'] = [1 if t in [8, 9, 10, 11, 12, 19, 20, 21, 22, 23] else 0 for t in train['시간']]\n",
    "#test['hot_time'] = [1 if t in [8, 9, 10, 11, 12, 19, 20, 21, 22, 23] else 0 for t in test['시간']]"
   ]
  },
  {
   "cell_type": "code",
   "execution_count": 65,
   "id": "05c05f17",
   "metadata": {},
   "outputs": [],
   "source": [
    "X = train.drop(['연월일', '일자', '공급량'], axis = 1)\n",
    "y = train.공급량"
   ]
  },
  {
   "cell_type": "code",
   "execution_count": 66,
   "id": "f22380ac",
   "metadata": {},
   "outputs": [],
   "source": [
    "target = test[X.columns]"
   ]
  },
  {
   "cell_type": "code",
   "execution_count": 67,
   "id": "911cf910",
   "metadata": {},
   "outputs": [],
   "source": [
    "target.시간 = target.시간.astype(int)"
   ]
  },
  {
   "cell_type": "code",
   "execution_count": 56,
   "id": "bebcf598",
   "metadata": {},
   "outputs": [],
   "source": [
    "from sklearn.model_selection import KFold\n",
    "from catboost import CatBoostRegressor\n",
    "from lightgbm import LGBMRegressor"
   ]
  },
  {
   "cell_type": "code",
   "execution_count": 30,
   "id": "8501201b",
   "metadata": {},
   "outputs": [],
   "source": [
    "def nmae(true_df, pred_df):\n",
    "    target_idx = true_df.iloc[:,0]\n",
    "    pred_df = pred_df[pred_df.iloc[:,0].isin(target_idx)]\n",
    "    pred_df = pred_df.sort_values(by=[pred_df.columns[0]], ascending=[True])\n",
    "    true_df = true_df.sort_values(by=[true_df.columns[0]], ascending=[True])\n",
    "    \n",
    "    true = true_df.iloc[:,1].to_numpy()\n",
    "    pred = pred_df.iloc[:,1].to_numpy()\n",
    "    \n",
    "    score = np.mean((np.abs(true-pred))/true)\n",
    "    \n",
    "    return score"
   ]
  },
  {
   "cell_type": "code",
   "execution_count": 71,
   "id": "4ea837e2",
   "metadata": {},
   "outputs": [],
   "source": [
    "kf = KFold(n_splits = 15, random_state = 42, shuffle = True)"
   ]
  },
  {
   "cell_type": "code",
   "execution_count": 58,
   "id": "53e215b7",
   "metadata": {},
   "outputs": [
    {
     "name": "stdout",
     "output_type": "stream",
     "text": [
      "0:\tlearn: 658.3265732\ttest: 658.3265732\ttest1: 663.5822290\tbest: 663.5822290 (0)\ttotal: 81.7ms\tremaining: 13m 36s\n",
      "2500:\tlearn: 142.3665691\ttest: 142.3665691\ttest1: 142.4932376\tbest: 142.4932376 (2500)\ttotal: 38.1s\tremaining: 1m 54s\n",
      "5000:\tlearn: 141.3393803\ttest: 141.3393803\ttest1: 141.4355568\tbest: 141.4355568 (5000)\ttotal: 1m 16s\tremaining: 1m 16s\n",
      "7500:\tlearn: 141.0658618\ttest: 141.0658618\ttest1: 141.1786681\tbest: 141.1786681 (7500)\ttotal: 1m 52s\tremaining: 37.5s\n",
      "9999:\tlearn: 140.9503868\ttest: 140.9503868\ttest1: 141.0915657\tbest: 141.0910166 (9949)\ttotal: 2m 28s\tremaining: 0us\n",
      "\n",
      "bestTest = 141.0910166\n",
      "bestIteration = 9949\n",
      "\n",
      "Shrink model to first 9950 iterations.\n",
      "0:\tlearn: 658.4609465\ttest: 658.4609465\ttest1: 662.2200330\tbest: 662.2200330 (0)\ttotal: 18.4ms\tremaining: 3m 3s\n",
      "2500:\tlearn: 142.2151738\ttest: 142.2151738\ttest1: 143.8659095\tbest: 143.8659095 (2500)\ttotal: 37.3s\tremaining: 1m 51s\n",
      "5000:\tlearn: 141.1694312\ttest: 141.1694312\ttest1: 142.8411917\tbest: 142.8411917 (5000)\ttotal: 1m 14s\tremaining: 1m 14s\n",
      "7500:\tlearn: 140.8922198\ttest: 140.8922198\ttest1: 142.6243212\tbest: 142.6235850 (7492)\ttotal: 1m 50s\tremaining: 36.9s\n",
      "9999:\tlearn: 140.7725479\ttest: 140.7725479\ttest1: 142.5486624\tbest: 142.5486343 (9998)\ttotal: 2m 27s\tremaining: 0us\n",
      "\n",
      "bestTest = 142.5486343\n",
      "bestIteration = 9998\n",
      "\n",
      "Shrink model to first 9999 iterations.\n",
      "0:\tlearn: 658.9824413\ttest: 658.9824413\ttest1: 657.3456238\tbest: 657.3456238 (0)\ttotal: 17.8ms\tremaining: 2m 57s\n",
      "2500:\tlearn: 142.2958547\ttest: 142.2958547\ttest1: 143.4370123\tbest: 143.4370123 (2500)\ttotal: 36.8s\tremaining: 1m 50s\n",
      "5000:\tlearn: 141.2187153\ttest: 141.2187153\ttest1: 142.4594758\tbest: 142.4594758 (5000)\ttotal: 1m 13s\tremaining: 1m 12s\n",
      "7500:\tlearn: 140.9506486\ttest: 140.9506486\ttest1: 142.2804301\tbest: 142.2803143 (7499)\ttotal: 1m 49s\tremaining: 36.3s\n",
      "9999:\tlearn: 140.8267765\ttest: 140.8267765\ttest1: 142.2142660\tbest: 142.2133436 (9958)\ttotal: 2m 25s\tremaining: 0us\n",
      "\n",
      "bestTest = 142.2133436\n",
      "bestIteration = 9958\n",
      "\n",
      "Shrink model to first 9959 iterations.\n",
      "0:\tlearn: 658.9946806\ttest: 658.9946806\ttest1: 657.2841563\tbest: 657.2841563 (0)\ttotal: 16.4ms\tremaining: 2m 43s\n",
      "2500:\tlearn: 142.3419524\ttest: 142.3419524\ttest1: 142.7804349\tbest: 142.7804349 (2500)\ttotal: 36.9s\tremaining: 1m 50s\n",
      "5000:\tlearn: 141.2812304\ttest: 141.2812304\ttest1: 141.8441104\tbest: 141.8441104 (5000)\ttotal: 1m 13s\tremaining: 1m 13s\n",
      "7500:\tlearn: 141.0075551\ttest: 141.0075551\ttest1: 141.6379096\tbest: 141.6378078 (7499)\ttotal: 1m 49s\tremaining: 36.5s\n",
      "9999:\tlearn: 140.8926507\ttest: 140.8926507\ttest1: 141.5640433\tbest: 141.5640433 (9999)\ttotal: 2m 25s\tremaining: 0us\n",
      "\n",
      "bestTest = 141.5640433\n",
      "bestIteration = 9999\n",
      "\n",
      "0:\tlearn: 659.0061362\ttest: 659.0061362\ttest1: 657.2796237\tbest: 657.2796237 (0)\ttotal: 15.4ms\tremaining: 2m 34s\n",
      "2500:\tlearn: 142.4509204\ttest: 142.4509204\ttest1: 141.3573416\tbest: 141.3573416 (2500)\ttotal: 36.8s\tremaining: 1m 50s\n",
      "5000:\tlearn: 141.4215630\ttest: 141.4215630\ttest1: 140.4053714\tbest: 140.4053714 (5000)\ttotal: 1m 13s\tremaining: 1m 13s\n",
      "7500:\tlearn: 141.1529713\ttest: 141.1529713\ttest1: 140.1817691\tbest: 140.1817691 (7500)\ttotal: 1m 49s\tremaining: 36.5s\n",
      "9999:\tlearn: 141.0390851\ttest: 141.0390851\ttest1: 140.1146399\tbest: 140.1146399 (9999)\ttotal: 2m 25s\tremaining: 0us\n",
      "\n",
      "bestTest = 140.1146399\n",
      "bestIteration = 9999\n",
      "\n",
      "0:\tlearn: 659.1713107\ttest: 659.1713107\ttest1: 655.7028362\tbest: 655.7028362 (0)\ttotal: 16.3ms\tremaining: 2m 42s\n",
      "2500:\tlearn: 142.5805248\ttest: 142.5805248\ttest1: 140.7953472\tbest: 140.7953472 (2500)\ttotal: 36.9s\tremaining: 1m 50s\n",
      "5000:\tlearn: 141.5027379\ttest: 141.5027379\ttest1: 139.9354624\tbest: 139.9351982 (4996)\ttotal: 1m 13s\tremaining: 1m 13s\n",
      "7500:\tlearn: 141.2210400\ttest: 141.2210400\ttest1: 139.7743465\tbest: 139.7743465 (7500)\ttotal: 1m 50s\tremaining: 36.7s\n",
      "9999:\tlearn: 141.1012969\ttest: 141.1012969\ttest1: 139.7308405\tbest: 139.7306002 (9998)\ttotal: 2m 26s\tremaining: 0us\n",
      "\n",
      "bestTest = 139.7306002\n",
      "bestIteration = 9998\n",
      "\n",
      "Shrink model to first 9999 iterations.\n",
      "0:\tlearn: 658.6265659\ttest: 658.6265659\ttest1: 660.7144660\tbest: 660.7144660 (0)\ttotal: 14.6ms\tremaining: 2m 26s\n",
      "2500:\tlearn: 142.3862944\ttest: 142.3862944\ttest1: 142.5867070\tbest: 142.5867070 (2500)\ttotal: 36.8s\tremaining: 1m 50s\n",
      "5000:\tlearn: 141.3165658\ttest: 141.3165658\ttest1: 141.6444846\tbest: 141.6444846 (5000)\ttotal: 1m 13s\tremaining: 1m 13s\n",
      "7500:\tlearn: 141.0369968\ttest: 141.0369968\ttest1: 141.4295285\tbest: 141.4294843 (7494)\ttotal: 1m 49s\tremaining: 36.4s\n",
      "9999:\tlearn: 140.9188586\ttest: 140.9188586\ttest1: 141.3558099\tbest: 141.3555335 (9964)\ttotal: 2m 25s\tremaining: 0us\n",
      "\n",
      "bestTest = 141.3555335\n",
      "bestIteration = 9964\n",
      "\n",
      "Shrink model to first 9965 iterations.\n",
      "0:\tlearn: 659.1446311\ttest: 659.1446311\ttest1: 656.0019863\tbest: 656.0019863 (0)\ttotal: 16.4ms\tremaining: 2m 44s\n",
      "2500:\tlearn: 142.3652993\ttest: 142.3652993\ttest1: 142.4702198\tbest: 142.4702198 (2500)\ttotal: 37.9s\tremaining: 1m 53s\n",
      "5000:\tlearn: 141.3210587\ttest: 141.3210587\ttest1: 141.5344343\tbest: 141.5338531 (4999)\ttotal: 1m 14s\tremaining: 1m 14s\n",
      "7500:\tlearn: 141.0432219\ttest: 141.0432219\ttest1: 141.3313889\tbest: 141.3313030 (7487)\ttotal: 1m 51s\tremaining: 37.3s\n",
      "9999:\tlearn: 140.9262312\ttest: 140.9262312\ttest1: 141.2620640\tbest: 141.2618227 (9949)\ttotal: 2m 28s\tremaining: 0us\n",
      "\n",
      "bestTest = 141.2618227\n",
      "bestIteration = 9949\n",
      "\n",
      "Shrink model to first 9950 iterations.\n",
      "0:\tlearn: 658.8276858\ttest: 658.8276858\ttest1: 658.7015490\tbest: 658.7015490 (0)\ttotal: 15.8ms\tremaining: 2m 37s\n",
      "2500:\tlearn: 142.2199577\ttest: 142.2199577\ttest1: 144.3139954\tbest: 144.3139954 (2500)\ttotal: 36.8s\tremaining: 1m 50s\n",
      "5000:\tlearn: 141.1466015\ttest: 141.1466015\ttest1: 143.2956702\tbest: 143.2956702 (5000)\ttotal: 1m 13s\tremaining: 1m 13s\n",
      "7500:\tlearn: 140.8670023\ttest: 140.8670023\ttest1: 143.0603391\tbest: 143.0603232 (7498)\ttotal: 1m 49s\tremaining: 36.4s\n",
      "9999:\tlearn: 140.7430843\ttest: 140.7430843\ttest1: 142.9703800\tbest: 142.9703800 (9999)\ttotal: 2m 25s\tremaining: 0us\n",
      "\n",
      "bestTest = 142.97038\n",
      "bestIteration = 9999\n",
      "\n",
      "0:\tlearn: 658.7606057\ttest: 658.7606057\ttest1: 659.4902865\tbest: 659.4902865 (0)\ttotal: 15.5ms\tremaining: 2m 34s\n",
      "2500:\tlearn: 142.4786323\ttest: 142.4786323\ttest1: 141.7702331\tbest: 141.7702331 (2500)\ttotal: 37.1s\tremaining: 1m 51s\n",
      "5000:\tlearn: 141.4145238\ttest: 141.4145238\ttest1: 140.7552859\tbest: 140.7552859 (5000)\ttotal: 1m 14s\tremaining: 1m 14s\n",
      "7500:\tlearn: 141.1417760\ttest: 141.1417760\ttest1: 140.5525337\tbest: 140.5525337 (7500)\ttotal: 1m 52s\tremaining: 37.5s\n",
      "9999:\tlearn: 141.0251408\ttest: 141.0251408\ttest1: 140.4657989\tbest: 140.4654088 (9996)\ttotal: 2m 29s\tremaining: 0us\n",
      "\n",
      "bestTest = 140.4654088\n",
      "bestIteration = 9996\n",
      "\n",
      "Shrink model to first 9997 iterations.\n"
     ]
    }
   ],
   "source": [
    "cat_pred = np.zeros((target.shape[0]))\n",
    "for i, idx in enumerate(zip(kf.split(X, y))) :\n",
    "    tr_x, tr_y = X.iloc[idx[0][0]], y.iloc[idx[0][0]]\n",
    "    val_x, val_y = X.iloc[idx[0][1]], y.iloc[idx[0][1]]\n",
    "    \n",
    "    cat = CatBoostRegressor(iterations = 10000, learning_rate = 0.03, depth = 4, loss_function = 'MAE')\n",
    "    \n",
    "    cat.fit(tr_x, tr_y, eval_set = [(tr_x, tr_y), (val_x, val_y)], early_stopping_rounds = 500, verbose = 2500)\n",
    "\n",
    "    fold_pred = cat.predict(target) / 15\n",
    "    cat_pred += fold_pred"
   ]
  },
  {
   "cell_type": "code",
   "execution_count": 72,
   "id": "e2831d9f",
   "metadata": {},
   "outputs": [
    {
     "name": "stdout",
     "output_type": "stream",
     "text": [
      "Training until validation scores don't improve for 500 rounds\n",
      "Early stopping, best iteration is:\n",
      "[704]\ttraining's l1: 142.999\ttraining's l2: 60074.9\tvalid_1's l1: 142.082\tvalid_1's l2: 60133.8\n",
      "Training until validation scores don't improve for 500 rounds\n",
      "Early stopping, best iteration is:\n",
      "[876]\ttraining's l1: 142.723\ttraining's l2: 59927.8\tvalid_1's l1: 145.222\tvalid_1's l2: 61755.9\n",
      "Training until validation scores don't improve for 500 rounds\n",
      "Early stopping, best iteration is:\n",
      "[1001]\ttraining's l1: 142.75\ttraining's l2: 60031.9\tvalid_1's l1: 143.781\tvalid_1's l2: 59976.7\n",
      "Training until validation scores don't improve for 500 rounds\n",
      "Early stopping, best iteration is:\n",
      "[1310]\ttraining's l1: 142.613\ttraining's l2: 59650.8\tvalid_1's l1: 143.852\tvalid_1's l2: 64965.9\n",
      "Training until validation scores don't improve for 500 rounds\n",
      "Early stopping, best iteration is:\n",
      "[1003]\ttraining's l1: 142.745\ttraining's l2: 59950.8\tvalid_1's l1: 143.734\tvalid_1's l2: 61072.8\n",
      "Training until validation scores don't improve for 500 rounds\n",
      "Early stopping, best iteration is:\n",
      "[1008]\ttraining's l1: 142.749\ttraining's l2: 60017.5\tvalid_1's l1: 144.244\tvalid_1's l2: 60254.7\n",
      "Training until validation scores don't improve for 500 rounds\n",
      "Early stopping, best iteration is:\n",
      "[838]\ttraining's l1: 142.83\ttraining's l2: 59982.2\tvalid_1's l1: 143.478\tvalid_1's l2: 60994.5\n",
      "Training until validation scores don't improve for 500 rounds\n",
      "Early stopping, best iteration is:\n",
      "[1219]\ttraining's l1: 142.919\ttraining's l2: 60257.4\tvalid_1's l1: 140.332\tvalid_1's l2: 56549.2\n",
      "Training until validation scores don't improve for 500 rounds\n",
      "Early stopping, best iteration is:\n",
      "[1051]\ttraining's l1: 142.901\ttraining's l2: 60211\tvalid_1's l1: 141.451\tvalid_1's l2: 57443.6\n",
      "Training until validation scores don't improve for 500 rounds\n",
      "Early stopping, best iteration is:\n",
      "[911]\ttraining's l1: 142.849\ttraining's l2: 59912.6\tvalid_1's l1: 142.362\tvalid_1's l2: 61815.3\n",
      "Training until validation scores don't improve for 500 rounds\n",
      "Early stopping, best iteration is:\n",
      "[1095]\ttraining's l1: 142.716\ttraining's l2: 59991.8\tvalid_1's l1: 143.798\tvalid_1's l2: 60396.9\n",
      "Training until validation scores don't improve for 500 rounds\n",
      "Early stopping, best iteration is:\n",
      "[863]\ttraining's l1: 142.835\ttraining's l2: 60099.4\tvalid_1's l1: 143.437\tvalid_1's l2: 59389.9\n",
      "Training until validation scores don't improve for 500 rounds\n",
      "Early stopping, best iteration is:\n",
      "[1074]\ttraining's l1: 142.652\ttraining's l2: 59888.9\tvalid_1's l1: 144.775\tvalid_1's l2: 61915\n",
      "Training until validation scores don't improve for 500 rounds\n",
      "Early stopping, best iteration is:\n",
      "[1425]\ttraining's l1: 142.679\ttraining's l2: 59986.3\tvalid_1's l1: 143.312\tvalid_1's l2: 60197.8\n",
      "Training until validation scores don't improve for 500 rounds\n",
      "Early stopping, best iteration is:\n",
      "[1079]\ttraining's l1: 142.787\ttraining's l2: 60063.3\tvalid_1's l1: 142.811\tvalid_1's l2: 59457.4\n"
     ]
    }
   ],
   "source": [
    "lgbm_pred = np.zeros((target.shape[0]))\n",
    "for i, idx in enumerate(zip(kf.split(X, y))) :\n",
    "    tr_x, tr_y = X.iloc[idx[0][0]], y.iloc[idx[0][0]]\n",
    "    val_x, val_y = X.iloc[idx[0][1]], y.iloc[idx[0][1]]\n",
    "    \n",
    "    lgbm = LGBMRegressor(random_state = 42, max_depth = 5, learning_rate = .05, n_estimators = 10000)\n",
    "    \n",
    "    lgbm.fit(tr_x, tr_y, eval_set = [(tr_x, tr_y), (val_x, val_y)], early_stopping_rounds = 500, verbose = 2500, eval_metric = 'mae')\n",
    "    \n",
    "    fold_pred = lgbm.predict(target) / 15\n",
    "    lgbm_pred += fold_pred"
   ]
  },
  {
   "cell_type": "code",
   "execution_count": 81,
   "id": "c3e174d1",
   "metadata": {},
   "outputs": [],
   "source": [
    "submission = pd.read_csv(\"sample_submission.csv\")"
   ]
  },
  {
   "cell_type": "code",
   "execution_count": 82,
   "id": "bf670cfb",
   "metadata": {},
   "outputs": [],
   "source": [
    "submission['공급량'] = (lgbm_pred + cat_pred) / 2"
   ]
  },
  {
   "cell_type": "code",
   "execution_count": 87,
   "id": "68c91b84",
   "metadata": {},
   "outputs": [],
   "source": [
    "submission.to_csv('3rd.csv', index = False)"
   ]
  }
 ],
 "metadata": {
  "kernelspec": {
   "display_name": "Python 3",
   "language": "python",
   "name": "python3"
  },
  "language_info": {
   "codemirror_mode": {
    "name": "ipython",
    "version": 3
   },
   "file_extension": ".py",
   "mimetype": "text/x-python",
   "name": "python",
   "nbconvert_exporter": "python",
   "pygments_lexer": "ipython3",
   "version": "3.8.8"
  }
 },
 "nbformat": 4,
 "nbformat_minor": 5
}
