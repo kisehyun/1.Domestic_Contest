{
 "cells": [
  {
   "cell_type": "markdown",
   "metadata": {},
   "source": [
    "# 아파트 실거래가 예측 Competition"
   ]
  },
  {
   "cell_type": "code",
   "execution_count": 104,
   "metadata": {},
   "outputs": [],
   "source": [
    "import pandas as pd\n",
    "import numpy as np\n",
    "\n",
    "from xgboost import XGBRegressor\n",
    "from lightgbm import LGBMRegressor\n",
    "from catboost import CatBoostRegressor\n",
    "from sklearn.model_selection import KFold\n",
    "from sklearn.metrics import mean_squared_error\n",
    "\n",
    "import warnings\n",
    "warnings.filterwarnings('ignore')"
   ]
  },
  {
   "cell_type": "markdown",
   "metadata": {},
   "source": [
    "# Data Import"
   ]
  },
  {
   "cell_type": "code",
   "execution_count": 105,
   "metadata": {},
   "outputs": [],
   "source": [
    "train = pd.read_csv('train.csv')\n",
    "test = pd.read_csv('test.csv')\n",
    "submission = pd.read_csv('submission.csv')"
   ]
  },
  {
   "cell_type": "code",
   "execution_count": 106,
   "metadata": {},
   "outputs": [
    {
     "data": {
      "text/html": [
       "<div>\n",
       "<style scoped>\n",
       "    .dataframe tbody tr th:only-of-type {\n",
       "        vertical-align: middle;\n",
       "    }\n",
       "\n",
       "    .dataframe tbody tr th {\n",
       "        vertical-align: top;\n",
       "    }\n",
       "\n",
       "    .dataframe thead th {\n",
       "        text-align: right;\n",
       "    }\n",
       "</style>\n",
       "<table border=\"1\" class=\"dataframe\">\n",
       "  <thead>\n",
       "    <tr style=\"text-align: right;\">\n",
       "      <th></th>\n",
       "      <th>transaction_id</th>\n",
       "      <th>apartment_id</th>\n",
       "      <th>city</th>\n",
       "      <th>dong</th>\n",
       "      <th>jibun</th>\n",
       "      <th>apt</th>\n",
       "      <th>addr_kr</th>\n",
       "      <th>exclusive_use_area</th>\n",
       "      <th>year_of_completion</th>\n",
       "      <th>transaction_year_month</th>\n",
       "      <th>transaction_date</th>\n",
       "      <th>floor</th>\n",
       "      <th>transaction_real_price</th>\n",
       "    </tr>\n",
       "  </thead>\n",
       "  <tbody>\n",
       "    <tr>\n",
       "      <th>0</th>\n",
       "      <td>0</td>\n",
       "      <td>7622</td>\n",
       "      <td>서울특별시</td>\n",
       "      <td>신교동</td>\n",
       "      <td>6-13</td>\n",
       "      <td>신현(101동)</td>\n",
       "      <td>신교동 6-13 신현(101동)</td>\n",
       "      <td>84.82</td>\n",
       "      <td>2002</td>\n",
       "      <td>200801</td>\n",
       "      <td>21~31</td>\n",
       "      <td>2</td>\n",
       "      <td>37500</td>\n",
       "    </tr>\n",
       "    <tr>\n",
       "      <th>1</th>\n",
       "      <td>1</td>\n",
       "      <td>5399</td>\n",
       "      <td>서울특별시</td>\n",
       "      <td>필운동</td>\n",
       "      <td>142</td>\n",
       "      <td>사직파크맨션</td>\n",
       "      <td>필운동 142 사직파크맨션</td>\n",
       "      <td>99.17</td>\n",
       "      <td>1973</td>\n",
       "      <td>200801</td>\n",
       "      <td>1~10</td>\n",
       "      <td>6</td>\n",
       "      <td>20000</td>\n",
       "    </tr>\n",
       "    <tr>\n",
       "      <th>2</th>\n",
       "      <td>2</td>\n",
       "      <td>3578</td>\n",
       "      <td>서울특별시</td>\n",
       "      <td>필운동</td>\n",
       "      <td>174-1</td>\n",
       "      <td>두레엘리시안</td>\n",
       "      <td>필운동 174-1 두레엘리시안</td>\n",
       "      <td>84.74</td>\n",
       "      <td>2007</td>\n",
       "      <td>200801</td>\n",
       "      <td>1~10</td>\n",
       "      <td>6</td>\n",
       "      <td>38500</td>\n",
       "    </tr>\n",
       "    <tr>\n",
       "      <th>3</th>\n",
       "      <td>3</td>\n",
       "      <td>10957</td>\n",
       "      <td>서울특별시</td>\n",
       "      <td>내수동</td>\n",
       "      <td>95</td>\n",
       "      <td>파크팰리스</td>\n",
       "      <td>내수동 95 파크팰리스</td>\n",
       "      <td>146.39</td>\n",
       "      <td>2003</td>\n",
       "      <td>200801</td>\n",
       "      <td>11~20</td>\n",
       "      <td>15</td>\n",
       "      <td>118000</td>\n",
       "    </tr>\n",
       "    <tr>\n",
       "      <th>4</th>\n",
       "      <td>4</td>\n",
       "      <td>10639</td>\n",
       "      <td>서울특별시</td>\n",
       "      <td>내수동</td>\n",
       "      <td>110-15</td>\n",
       "      <td>킹스매너</td>\n",
       "      <td>내수동 110-15 킹스매너</td>\n",
       "      <td>194.43</td>\n",
       "      <td>2004</td>\n",
       "      <td>200801</td>\n",
       "      <td>21~31</td>\n",
       "      <td>3</td>\n",
       "      <td>120000</td>\n",
       "    </tr>\n",
       "  </tbody>\n",
       "</table>\n",
       "</div>"
      ],
      "text/plain": [
       "   transaction_id  apartment_id   city dong   jibun       apt  \\\n",
       "0               0          7622  서울특별시  신교동    6-13  신현(101동)   \n",
       "1               1          5399  서울특별시  필운동     142    사직파크맨션   \n",
       "2               2          3578  서울특별시  필운동   174-1    두레엘리시안   \n",
       "3               3         10957  서울특별시  내수동      95     파크팰리스   \n",
       "4               4         10639  서울특별시  내수동  110-15      킹스매너   \n",
       "\n",
       "             addr_kr  exclusive_use_area  year_of_completion  \\\n",
       "0  신교동 6-13 신현(101동)               84.82                2002   \n",
       "1     필운동 142 사직파크맨션               99.17                1973   \n",
       "2   필운동 174-1 두레엘리시안               84.74                2007   \n",
       "3       내수동 95 파크팰리스              146.39                2003   \n",
       "4    내수동 110-15 킹스매너              194.43                2004   \n",
       "\n",
       "   transaction_year_month transaction_date  floor  transaction_real_price  \n",
       "0                  200801            21~31      2                   37500  \n",
       "1                  200801             1~10      6                   20000  \n",
       "2                  200801             1~10      6                   38500  \n",
       "3                  200801            11~20     15                  118000  \n",
       "4                  200801            21~31      3                  120000  "
      ]
     },
     "execution_count": 106,
     "metadata": {},
     "output_type": "execute_result"
    }
   ],
   "source": [
    "train.head()"
   ]
  },
  {
   "cell_type": "code",
   "execution_count": 107,
   "metadata": {},
   "outputs": [
    {
     "data": {
      "text/html": [
       "<div>\n",
       "<style scoped>\n",
       "    .dataframe tbody tr th:only-of-type {\n",
       "        vertical-align: middle;\n",
       "    }\n",
       "\n",
       "    .dataframe tbody tr th {\n",
       "        vertical-align: top;\n",
       "    }\n",
       "\n",
       "    .dataframe thead th {\n",
       "        text-align: right;\n",
       "    }\n",
       "</style>\n",
       "<table border=\"1\" class=\"dataframe\">\n",
       "  <thead>\n",
       "    <tr style=\"text-align: right;\">\n",
       "      <th></th>\n",
       "      <th>transaction_id</th>\n",
       "      <th>apartment_id</th>\n",
       "      <th>city</th>\n",
       "      <th>dong</th>\n",
       "      <th>jibun</th>\n",
       "      <th>apt</th>\n",
       "      <th>addr_kr</th>\n",
       "      <th>exclusive_use_area</th>\n",
       "      <th>year_of_completion</th>\n",
       "      <th>transaction_year_month</th>\n",
       "      <th>transaction_date</th>\n",
       "      <th>floor</th>\n",
       "    </tr>\n",
       "  </thead>\n",
       "  <tbody>\n",
       "    <tr>\n",
       "      <th>0</th>\n",
       "      <td>1145756</td>\n",
       "      <td>10453</td>\n",
       "      <td>서울특별시</td>\n",
       "      <td>목동</td>\n",
       "      <td>938</td>\n",
       "      <td>청학</td>\n",
       "      <td>목동 938 청학</td>\n",
       "      <td>35.5500</td>\n",
       "      <td>2002</td>\n",
       "      <td>201711</td>\n",
       "      <td>11~20</td>\n",
       "      <td>2</td>\n",
       "    </tr>\n",
       "    <tr>\n",
       "      <th>1</th>\n",
       "      <td>1198704</td>\n",
       "      <td>989</td>\n",
       "      <td>부산광역시</td>\n",
       "      <td>초량동</td>\n",
       "      <td>1143-8</td>\n",
       "      <td>고관맨션</td>\n",
       "      <td>초량동 1143-8 고관맨션</td>\n",
       "      <td>68.7200</td>\n",
       "      <td>1977</td>\n",
       "      <td>201708</td>\n",
       "      <td>21~31</td>\n",
       "      <td>2</td>\n",
       "    </tr>\n",
       "    <tr>\n",
       "      <th>2</th>\n",
       "      <td>1222384</td>\n",
       "      <td>8597</td>\n",
       "      <td>부산광역시</td>\n",
       "      <td>괴정동</td>\n",
       "      <td>447-13</td>\n",
       "      <td>우림그린</td>\n",
       "      <td>괴정동 447-13 우림그린</td>\n",
       "      <td>72.5400</td>\n",
       "      <td>1989</td>\n",
       "      <td>201710</td>\n",
       "      <td>11~20</td>\n",
       "      <td>2</td>\n",
       "    </tr>\n",
       "    <tr>\n",
       "      <th>3</th>\n",
       "      <td>1179897</td>\n",
       "      <td>11086</td>\n",
       "      <td>서울특별시</td>\n",
       "      <td>대치동</td>\n",
       "      <td>1007-2</td>\n",
       "      <td>풍림아이원4차(1007-2)</td>\n",
       "      <td>대치동 1007-2 풍림아이원4차(1007-2)</td>\n",
       "      <td>111.5400</td>\n",
       "      <td>2004</td>\n",
       "      <td>201707</td>\n",
       "      <td>1~10</td>\n",
       "      <td>10</td>\n",
       "    </tr>\n",
       "    <tr>\n",
       "      <th>4</th>\n",
       "      <td>1223091</td>\n",
       "      <td>2121</td>\n",
       "      <td>부산광역시</td>\n",
       "      <td>다대동</td>\n",
       "      <td>1670</td>\n",
       "      <td>다대롯데캐슬블루</td>\n",
       "      <td>다대동 1670 다대롯데캐슬블루</td>\n",
       "      <td>119.6398</td>\n",
       "      <td>2014</td>\n",
       "      <td>201712</td>\n",
       "      <td>11~20</td>\n",
       "      <td>21</td>\n",
       "    </tr>\n",
       "  </tbody>\n",
       "</table>\n",
       "</div>"
      ],
      "text/plain": [
       "   transaction_id  apartment_id   city dong   jibun              apt  \\\n",
       "0         1145756         10453  서울특별시   목동     938               청학   \n",
       "1         1198704           989  부산광역시  초량동  1143-8             고관맨션   \n",
       "2         1222384          8597  부산광역시  괴정동  447-13             우림그린   \n",
       "3         1179897         11086  서울특별시  대치동  1007-2  풍림아이원4차(1007-2)   \n",
       "4         1223091          2121  부산광역시  다대동    1670         다대롯데캐슬블루   \n",
       "\n",
       "                      addr_kr  exclusive_use_area  year_of_completion  \\\n",
       "0                   목동 938 청학             35.5500                2002   \n",
       "1             초량동 1143-8 고관맨션             68.7200                1977   \n",
       "2             괴정동 447-13 우림그린             72.5400                1989   \n",
       "3  대치동 1007-2 풍림아이원4차(1007-2)            111.5400                2004   \n",
       "4           다대동 1670 다대롯데캐슬블루            119.6398                2014   \n",
       "\n",
       "   transaction_year_month transaction_date  floor  \n",
       "0                  201711            11~20      2  \n",
       "1                  201708            21~31      2  \n",
       "2                  201710            11~20      2  \n",
       "3                  201707             1~10     10  \n",
       "4                  201712            11~20     21  "
      ]
     },
     "execution_count": 107,
     "metadata": {},
     "output_type": "execute_result"
    }
   ],
   "source": [
    "test.head()"
   ]
  },
  {
   "cell_type": "code",
   "execution_count": 108,
   "metadata": {},
   "outputs": [
    {
     "name": "stdout",
     "output_type": "stream",
     "text": [
      "<class 'pandas.core.frame.DataFrame'>\n",
      "RangeIndex: 1216553 entries, 0 to 1216552\n",
      "Data columns (total 13 columns):\n",
      " #   Column                  Non-Null Count    Dtype  \n",
      "---  ------                  --------------    -----  \n",
      " 0   transaction_id          1216553 non-null  int64  \n",
      " 1   apartment_id            1216553 non-null  int64  \n",
      " 2   city                    1216553 non-null  object \n",
      " 3   dong                    1216553 non-null  object \n",
      " 4   jibun                   1216553 non-null  object \n",
      " 5   apt                     1216553 non-null  object \n",
      " 6   addr_kr                 1216553 non-null  object \n",
      " 7   exclusive_use_area      1216553 non-null  float64\n",
      " 8   year_of_completion      1216553 non-null  int64  \n",
      " 9   transaction_year_month  1216553 non-null  int64  \n",
      " 10  transaction_date        1216553 non-null  object \n",
      " 11  floor                   1216553 non-null  int64  \n",
      " 12  transaction_real_price  1216553 non-null  int64  \n",
      "dtypes: float64(1), int64(6), object(6)\n",
      "memory usage: 120.7+ MB\n"
     ]
    }
   ],
   "source": [
    "train.info()"
   ]
  },
  {
   "cell_type": "code",
   "execution_count": 109,
   "metadata": {
    "scrolled": true
   },
   "outputs": [
    {
     "name": "stdout",
     "output_type": "stream",
     "text": [
      "<class 'pandas.core.frame.DataFrame'>\n",
      "RangeIndex: 5463 entries, 0 to 5462\n",
      "Data columns (total 12 columns):\n",
      " #   Column                  Non-Null Count  Dtype  \n",
      "---  ------                  --------------  -----  \n",
      " 0   transaction_id          5463 non-null   int64  \n",
      " 1   apartment_id            5463 non-null   int64  \n",
      " 2   city                    5463 non-null   object \n",
      " 3   dong                    5463 non-null   object \n",
      " 4   jibun                   5463 non-null   object \n",
      " 5   apt                     5463 non-null   object \n",
      " 6   addr_kr                 5463 non-null   object \n",
      " 7   exclusive_use_area      5463 non-null   float64\n",
      " 8   year_of_completion      5463 non-null   int64  \n",
      " 9   transaction_year_month  5463 non-null   int64  \n",
      " 10  transaction_date        5463 non-null   object \n",
      " 11  floor                   5463 non-null   int64  \n",
      "dtypes: float64(1), int64(5), object(6)\n",
      "memory usage: 512.3+ KB\n"
     ]
    }
   ],
   "source": [
    "test.info()"
   ]
  },
  {
   "cell_type": "markdown",
   "metadata": {},
   "source": [
    "***\n",
    "# Making Features"
   ]
  },
  {
   "cell_type": "code",
   "execution_count": 112,
   "metadata": {},
   "outputs": [],
   "source": [
    "train.floor = train.floor + 4\n",
    "test.floor = test.floor + 4"
   ]
  },
  {
   "cell_type": "code",
   "execution_count": 113,
   "metadata": {},
   "outputs": [],
   "source": [
    "train['city_dong'] = train.city + train.dong\n",
    "test['city_dong'] = test.city + test.dong"
   ]
  },
  {
   "cell_type": "code",
   "execution_count": 114,
   "metadata": {
    "scrolled": true
   },
   "outputs": [],
   "source": [
    "tr_n_apt = train.groupby('city_dong').apt.nunique().reset_index(name = 'n_apt')"
   ]
  },
  {
   "cell_type": "code",
   "execution_count": 115,
   "metadata": {},
   "outputs": [],
   "source": [
    "train = pd.merge(train, tr_n_apt, how = 'left', on = 'city_dong')\n",
    "test = pd.merge(test, tr_n_apt, how = 'left', on = 'city_dong')"
   ]
  },
  {
   "cell_type": "code",
   "execution_count": 116,
   "metadata": {},
   "outputs": [],
   "source": [
    "tr_skew_cnt = train.groupby('city_dong').transaction_year_month.skew().reset_index(name = 'skew_cnt')"
   ]
  },
  {
   "cell_type": "code",
   "execution_count": 117,
   "metadata": {},
   "outputs": [],
   "source": [
    "train = pd.merge(train, tr_skew_cnt, how = 'left', on = 'city_dong')\n",
    "test = pd.merge(test, tr_skew_cnt, how = 'left', on = 'city_dong')"
   ]
  },
  {
   "cell_type": "code",
   "execution_count": 118,
   "metadata": {},
   "outputs": [],
   "source": [
    "tr_skew_year = train.groupby('city_dong').year_of_completion.skew().reset_index(name = 'skew_year')"
   ]
  },
  {
   "cell_type": "code",
   "execution_count": 119,
   "metadata": {},
   "outputs": [],
   "source": [
    "train = pd.merge(train, tr_skew_year, how = 'left', on = 'city_dong')\n",
    "test = pd.merge(test, tr_skew_year, how = 'left', on = 'city_dong')"
   ]
  },
  {
   "cell_type": "code",
   "execution_count": 120,
   "metadata": {},
   "outputs": [],
   "source": [
    "tr_price_skew = train.groupby('addr_kr').transaction_real_price.skew().reset_index(name = 'skew_price')"
   ]
  },
  {
   "cell_type": "code",
   "execution_count": 121,
   "metadata": {},
   "outputs": [],
   "source": [
    "train = pd.merge(train, tr_price_skew, how = 'left', on = 'addr_kr').fillna(0)\n",
    "test = pd.merge(test, tr_price_skew, how = 'left', on = 'addr_kr').fillna(0)"
   ]
  },
  {
   "cell_type": "code",
   "execution_count": 122,
   "metadata": {},
   "outputs": [],
   "source": [
    "y = np.log1p(train.transaction_real_price)"
   ]
  },
  {
   "cell_type": "code",
   "execution_count": 123,
   "metadata": {},
   "outputs": [],
   "source": [
    "kf = KFold(n_splits = 20, random_state = 524, shuffle = True)"
   ]
  },
  {
   "cell_type": "code",
   "execution_count": 124,
   "metadata": {},
   "outputs": [],
   "source": [
    "def get_date(x) :\n",
    "    if x == '1~10' :\n",
    "        return '월초'\n",
    "    elif x == '11~20' :\n",
    "        return '중순'\n",
    "    else :\n",
    "        return '월말'"
   ]
  },
  {
   "cell_type": "code",
   "execution_count": 125,
   "metadata": {},
   "outputs": [],
   "source": [
    "train['transaction_date'] = train['transaction_date'].apply(get_date)\n",
    "test['transaction_date'] = test['transaction_date'].apply(get_date)"
   ]
  },
  {
   "cell_type": "markdown",
   "metadata": {},
   "source": [
    "# Modeling"
   ]
  },
  {
   "cell_type": "code",
   "execution_count": 126,
   "metadata": {},
   "outputs": [],
   "source": [
    "X = train[['skew_price', 'skew_year', 'skew_cnt', 'n_apt', 'city', 'exclusive_use_area', 'year_of_completion', 'transaction_year_month', 'transaction_date', 'floor']]"
   ]
  },
  {
   "cell_type": "code",
   "execution_count": 127,
   "metadata": {},
   "outputs": [],
   "source": [
    "X = pd.get_dummies(columns = ['city', 'transaction_date'], data = X)"
   ]
  },
  {
   "cell_type": "code",
   "execution_count": 128,
   "metadata": {
    "scrolled": false
   },
   "outputs": [
    {
     "data": {
      "text/plain": [
       "skew_price                0.964702\n",
       "skew_year                 0.303468\n",
       "skew_cnt                 -0.701124\n",
       "n_apt                     2.646840\n",
       "exclusive_use_area        1.227509\n",
       "year_of_completion       -0.470423\n",
       "transaction_year_month   -0.267548\n",
       "floor                     1.324710\n",
       "city_부산광역시                0.451716\n",
       "city_서울특별시               -0.451716\n",
       "transaction_date_월말       0.664626\n",
       "transaction_date_월초       0.761978\n",
       "transaction_date_중순       0.695888\n",
       "dtype: float64"
      ]
     },
     "execution_count": 128,
     "metadata": {},
     "output_type": "execute_result"
    }
   ],
   "source": [
    "X.skew()"
   ]
  },
  {
   "cell_type": "code",
   "execution_count": 129,
   "metadata": {
    "scrolled": true
   },
   "outputs": [
    {
     "data": {
      "text/plain": [
       "skew_price               -2.416750\n",
       "skew_year                -1.211180\n",
       "skew_cnt                 -1.827815\n",
       "n_apt                    -0.410704\n",
       "exclusive_use_area       -0.438156\n",
       "year_of_completion       -0.481260\n",
       "transaction_year_month   -0.268997\n",
       "floor                     0.089636\n",
       "city_부산광역시                     NaN\n",
       "city_서울특별시                     NaN\n",
       "transaction_date_월말            NaN\n",
       "transaction_date_월초            NaN\n",
       "transaction_date_중순            NaN\n",
       "dtype: float64"
      ]
     },
     "execution_count": 129,
     "metadata": {},
     "output_type": "execute_result"
    }
   ],
   "source": [
    "np.log1p(X).skew()"
   ]
  },
  {
   "cell_type": "code",
   "execution_count": 130,
   "metadata": {},
   "outputs": [],
   "source": [
    "target = test[['skew_price', 'skew_year', 'skew_cnt', 'n_apt', 'city', 'exclusive_use_area', 'year_of_completion', 'transaction_year_month', 'transaction_date', 'floor']]"
   ]
  },
  {
   "cell_type": "code",
   "execution_count": 131,
   "metadata": {},
   "outputs": [],
   "source": [
    "target = pd.get_dummies(columns = ['city', 'transaction_date'], data = target)"
   ]
  },
  {
   "cell_type": "code",
   "execution_count": 132,
   "metadata": {},
   "outputs": [],
   "source": [
    "X[['floor', 'n_apt', 'exclusive_use_area']] = np.log1p(X[['floor', 'n_apt', 'exclusive_use_area']])\n",
    "target[['floor', 'n_apt', 'exclusive_use_area']] = np.log1p(target[['floor', 'n_apt', 'exclusive_use_area']])"
   ]
  },
  {
   "cell_type": "markdown",
   "metadata": {},
   "source": [
    "## LGBMRegressor"
   ]
  },
  {
   "cell_type": "code",
   "execution_count": 134,
   "metadata": {},
   "outputs": [],
   "source": [
    "lgbm = LGBMRegressor(random_state = 524, max_depth = 5, n_estimators = 10000, learning_rate = 0.08, objective = 'rmse')"
   ]
  },
  {
   "cell_type": "code",
   "execution_count": 135,
   "metadata": {
    "scrolled": true
   },
   "outputs": [
    {
     "name": "stdout",
     "output_type": "stream",
     "text": [
      "[LightGBM] [Warning] Accuracy may be bad since you didn't explicitly set num_leaves OR 2^max_depth > num_leaves. (num_leaves=31).\n",
      "Training until validation scores don't improve for 1000 rounds\n",
      "[5000]\ttraining's rmse: 0.0885286\tvalid_1's rmse: 0.0908975\n",
      "[10000]\ttraining's rmse: 0.0775639\tvalid_1's rmse: 0.0818374\n",
      "Did not meet early stopping. Best iteration is:\n",
      "[10000]\ttraining's rmse: 0.0775639\tvalid_1's rmse: 0.0818374\n",
      "1FOLD Training....val_RMSE : 4057.5416454212536\n",
      "\n",
      "[LightGBM] [Warning] Accuracy may be bad since you didn't explicitly set num_leaves OR 2^max_depth > num_leaves. (num_leaves=31).\n",
      "Training until validation scores don't improve for 1000 rounds\n",
      "[5000]\ttraining's rmse: 0.0884213\tvalid_1's rmse: 0.0905584\n",
      "[10000]\ttraining's rmse: 0.0776747\tvalid_1's rmse: 0.0819007\n",
      "Did not meet early stopping. Best iteration is:\n",
      "[10000]\ttraining's rmse: 0.0776747\tvalid_1's rmse: 0.0819007\n",
      "2FOLD Training....val_RMSE : 4313.261626656358\n",
      "\n",
      "[LightGBM] [Warning] Accuracy may be bad since you didn't explicitly set num_leaves OR 2^max_depth > num_leaves. (num_leaves=31).\n",
      "Training until validation scores don't improve for 1000 rounds\n",
      "[5000]\ttraining's rmse: 0.0884487\tvalid_1's rmse: 0.0927962\n",
      "[10000]\ttraining's rmse: 0.0774757\tvalid_1's rmse: 0.083558\n",
      "Did not meet early stopping. Best iteration is:\n",
      "[10000]\ttraining's rmse: 0.0774757\tvalid_1's rmse: 0.083558\n",
      "3FOLD Training....val_RMSE : 3768.818596684069\n",
      "\n",
      "[LightGBM] [Warning] Accuracy may be bad since you didn't explicitly set num_leaves OR 2^max_depth > num_leaves. (num_leaves=31).\n",
      "Training until validation scores don't improve for 1000 rounds\n",
      "[5000]\ttraining's rmse: 0.088785\tvalid_1's rmse: 0.0916808\n",
      "[10000]\ttraining's rmse: 0.0776804\tvalid_1's rmse: 0.0825527\n",
      "Did not meet early stopping. Best iteration is:\n",
      "[10000]\ttraining's rmse: 0.0776804\tvalid_1's rmse: 0.0825527\n",
      "4FOLD Training....val_RMSE : 3976.252457338216\n",
      "\n",
      "[LightGBM] [Warning] Accuracy may be bad since you didn't explicitly set num_leaves OR 2^max_depth > num_leaves. (num_leaves=31).\n",
      "Training until validation scores don't improve for 1000 rounds\n",
      "[5000]\ttraining's rmse: 0.0886653\tvalid_1's rmse: 0.0930558\n",
      "[10000]\ttraining's rmse: 0.0778328\tvalid_1's rmse: 0.0843429\n",
      "Did not meet early stopping. Best iteration is:\n",
      "[10000]\ttraining's rmse: 0.0778328\tvalid_1's rmse: 0.0843429\n",
      "5FOLD Training....val_RMSE : 4124.615216937987\n",
      "\n",
      "[LightGBM] [Warning] Accuracy may be bad since you didn't explicitly set num_leaves OR 2^max_depth > num_leaves. (num_leaves=31).\n",
      "Training until validation scores don't improve for 1000 rounds\n",
      "[5000]\ttraining's rmse: 0.0883406\tvalid_1's rmse: 0.0925755\n",
      "[10000]\ttraining's rmse: 0.0775263\tvalid_1's rmse: 0.0842206\n",
      "Did not meet early stopping. Best iteration is:\n",
      "[10000]\ttraining's rmse: 0.0775263\tvalid_1's rmse: 0.0842206\n",
      "6FOLD Training....val_RMSE : 4339.8534000635145\n",
      "\n",
      "[LightGBM] [Warning] Accuracy may be bad since you didn't explicitly set num_leaves OR 2^max_depth > num_leaves. (num_leaves=31).\n",
      "Training until validation scores don't improve for 1000 rounds\n",
      "[5000]\ttraining's rmse: 0.0885332\tvalid_1's rmse: 0.0904343\n",
      "[10000]\ttraining's rmse: 0.0777325\tvalid_1's rmse: 0.081203\n",
      "Did not meet early stopping. Best iteration is:\n",
      "[10000]\ttraining's rmse: 0.0777325\tvalid_1's rmse: 0.081203\n",
      "7FOLD Training....val_RMSE : 4057.13167875208\n",
      "\n",
      "[LightGBM] [Warning] Accuracy may be bad since you didn't explicitly set num_leaves OR 2^max_depth > num_leaves. (num_leaves=31).\n",
      "Training until validation scores don't improve for 1000 rounds\n",
      "[5000]\ttraining's rmse: 0.0884151\tvalid_1's rmse: 0.0935316\n",
      "[10000]\ttraining's rmse: 0.0775304\tvalid_1's rmse: 0.0849487\n",
      "Did not meet early stopping. Best iteration is:\n",
      "[10000]\ttraining's rmse: 0.0775304\tvalid_1's rmse: 0.0849487\n",
      "8FOLD Training....val_RMSE : 3959.767684223343\n",
      "\n",
      "[LightGBM] [Warning] Accuracy may be bad since you didn't explicitly set num_leaves OR 2^max_depth > num_leaves. (num_leaves=31).\n",
      "Training until validation scores don't improve for 1000 rounds\n",
      "[5000]\ttraining's rmse: 0.0881947\tvalid_1's rmse: 0.092505\n",
      "[10000]\ttraining's rmse: 0.0774988\tvalid_1's rmse: 0.0835885\n",
      "Did not meet early stopping. Best iteration is:\n",
      "[10000]\ttraining's rmse: 0.0774988\tvalid_1's rmse: 0.0835885\n",
      "9FOLD Training....val_RMSE : 4207.5251556607855\n",
      "\n",
      "[LightGBM] [Warning] Accuracy may be bad since you didn't explicitly set num_leaves OR 2^max_depth > num_leaves. (num_leaves=31).\n",
      "Training until validation scores don't improve for 1000 rounds\n",
      "[5000]\ttraining's rmse: 0.0882426\tvalid_1's rmse: 0.0914724\n",
      "[10000]\ttraining's rmse: 0.0774807\tvalid_1's rmse: 0.0826894\n",
      "Did not meet early stopping. Best iteration is:\n",
      "[10000]\ttraining's rmse: 0.0774807\tvalid_1's rmse: 0.0826894\n",
      "10FOLD Training....val_RMSE : 4189.714274264028\n",
      "\n",
      "[LightGBM] [Warning] Accuracy may be bad since you didn't explicitly set num_leaves OR 2^max_depth > num_leaves. (num_leaves=31).\n",
      "Training until validation scores don't improve for 1000 rounds\n",
      "[5000]\ttraining's rmse: 0.0885101\tvalid_1's rmse: 0.0897378\n",
      "[10000]\ttraining's rmse: 0.0776873\tvalid_1's rmse: 0.0807251\n",
      "Did not meet early stopping. Best iteration is:\n",
      "[10000]\ttraining's rmse: 0.0776873\tvalid_1's rmse: 0.0807251\n",
      "11FOLD Training....val_RMSE : 4608.190737385528\n",
      "\n",
      "[LightGBM] [Warning] Accuracy may be bad since you didn't explicitly set num_leaves OR 2^max_depth > num_leaves. (num_leaves=31).\n",
      "Training until validation scores don't improve for 1000 rounds\n",
      "[5000]\ttraining's rmse: 0.0886605\tvalid_1's rmse: 0.09186\n",
      "[10000]\ttraining's rmse: 0.0777259\tvalid_1's rmse: 0.0828183\n",
      "Did not meet early stopping. Best iteration is:\n",
      "[10000]\ttraining's rmse: 0.0777259\tvalid_1's rmse: 0.0828183\n",
      "12FOLD Training....val_RMSE : 4283.726705989343\n",
      "\n",
      "[LightGBM] [Warning] Accuracy may be bad since you didn't explicitly set num_leaves OR 2^max_depth > num_leaves. (num_leaves=31).\n",
      "Training until validation scores don't improve for 1000 rounds\n",
      "[5000]\ttraining's rmse: 0.0883916\tvalid_1's rmse: 0.0927695\n",
      "[10000]\ttraining's rmse: 0.0774216\tvalid_1's rmse: 0.0836907\n",
      "Did not meet early stopping. Best iteration is:\n",
      "[10000]\ttraining's rmse: 0.0774216\tvalid_1's rmse: 0.0836907\n",
      "13FOLD Training....val_RMSE : 4008.292263402138\n",
      "\n",
      "[LightGBM] [Warning] Accuracy may be bad since you didn't explicitly set num_leaves OR 2^max_depth > num_leaves. (num_leaves=31).\n",
      "Training until validation scores don't improve for 1000 rounds\n",
      "[5000]\ttraining's rmse: 0.0885998\tvalid_1's rmse: 0.0919376\n",
      "[10000]\ttraining's rmse: 0.0776796\tvalid_1's rmse: 0.082814\n",
      "Did not meet early stopping. Best iteration is:\n",
      "[10000]\ttraining's rmse: 0.0776796\tvalid_1's rmse: 0.082814\n",
      "14FOLD Training....val_RMSE : 3974.1392951720177\n",
      "\n",
      "[LightGBM] [Warning] Accuracy may be bad since you didn't explicitly set num_leaves OR 2^max_depth > num_leaves. (num_leaves=31).\n",
      "Training until validation scores don't improve for 1000 rounds\n",
      "[5000]\ttraining's rmse: 0.0887004\tvalid_1's rmse: 0.0919719\n",
      "[10000]\ttraining's rmse: 0.0776993\tvalid_1's rmse: 0.0832264\n",
      "Did not meet early stopping. Best iteration is:\n",
      "[10000]\ttraining's rmse: 0.0776993\tvalid_1's rmse: 0.0832264\n",
      "15FOLD Training....val_RMSE : 3826.1196664819067\n",
      "\n",
      "[LightGBM] [Warning] Accuracy may be bad since you didn't explicitly set num_leaves OR 2^max_depth > num_leaves. (num_leaves=31).\n",
      "Training until validation scores don't improve for 1000 rounds\n",
      "[5000]\ttraining's rmse: 0.0887153\tvalid_1's rmse: 0.0930151\n",
      "[10000]\ttraining's rmse: 0.0776699\tvalid_1's rmse: 0.0845275\n",
      "Did not meet early stopping. Best iteration is:\n",
      "[10000]\ttraining's rmse: 0.0776699\tvalid_1's rmse: 0.0845275\n",
      "16FOLD Training....val_RMSE : 3889.2681902185973\n",
      "\n",
      "[LightGBM] [Warning] Accuracy may be bad since you didn't explicitly set num_leaves OR 2^max_depth > num_leaves. (num_leaves=31).\n",
      "Training until validation scores don't improve for 1000 rounds\n",
      "[5000]\ttraining's rmse: 0.0886503\tvalid_1's rmse: 0.0950455\n",
      "[10000]\ttraining's rmse: 0.0778259\tvalid_1's rmse: 0.086292\n",
      "Did not meet early stopping. Best iteration is:\n",
      "[10000]\ttraining's rmse: 0.0778259\tvalid_1's rmse: 0.086292\n",
      "17FOLD Training....val_RMSE : 4065.6999801654238\n",
      "\n",
      "[LightGBM] [Warning] Accuracy may be bad since you didn't explicitly set num_leaves OR 2^max_depth > num_leaves. (num_leaves=31).\n",
      "Training until validation scores don't improve for 1000 rounds\n"
     ]
    },
    {
     "name": "stdout",
     "output_type": "stream",
     "text": [
      "[5000]\ttraining's rmse: 0.0883511\tvalid_1's rmse: 0.0930867\n",
      "[10000]\ttraining's rmse: 0.0775891\tvalid_1's rmse: 0.0843981\n",
      "Did not meet early stopping. Best iteration is:\n",
      "[10000]\ttraining's rmse: 0.0775891\tvalid_1's rmse: 0.0843981\n",
      "18FOLD Training....val_RMSE : 3973.9439074506195\n",
      "\n",
      "[LightGBM] [Warning] Accuracy may be bad since you didn't explicitly set num_leaves OR 2^max_depth > num_leaves. (num_leaves=31).\n",
      "Training until validation scores don't improve for 1000 rounds\n",
      "[5000]\ttraining's rmse: 0.0882221\tvalid_1's rmse: 0.0939217\n",
      "[10000]\ttraining's rmse: 0.0773363\tvalid_1's rmse: 0.0853932\n",
      "Did not meet early stopping. Best iteration is:\n",
      "[10000]\ttraining's rmse: 0.0773363\tvalid_1's rmse: 0.0853932\n",
      "19FOLD Training....val_RMSE : 4234.7529217290075\n",
      "\n",
      "[LightGBM] [Warning] Accuracy may be bad since you didn't explicitly set num_leaves OR 2^max_depth > num_leaves. (num_leaves=31).\n",
      "Training until validation scores don't improve for 1000 rounds\n",
      "[5000]\ttraining's rmse: 0.0884314\tvalid_1's rmse: 0.0905443\n",
      "[10000]\ttraining's rmse: 0.0776499\tvalid_1's rmse: 0.0815147\n",
      "Did not meet early stopping. Best iteration is:\n",
      "[10000]\ttraining's rmse: 0.0776499\tvalid_1's rmse: 0.0815147\n",
      "20FOLD Training....val_RMSE : 3794.215729715343\n",
      "\n",
      "\n",
      "LGBMRegressor의 20FOLD 평균 RMSE는 4082.6415566855794\n"
     ]
    }
   ],
   "source": [
    "rmse_list = []\n",
    "lgbm_pred = np.zeros((target.shape[0]))\n",
    "i = 0\n",
    "for tr_idx, val_idx in kf.split(X, y) :\n",
    "    i += 1\n",
    "    tr_x, tr_y = X.iloc[tr_idx], y.iloc[tr_idx]\n",
    "    val_x, val_y = X.iloc[val_idx], y.iloc[val_idx]\n",
    "    \n",
    "    lgbm.fit(tr_x, tr_y, eval_set = [(tr_x, tr_y), (val_x, val_y)], verbose = 5000, early_stopping_rounds = 1000)\n",
    "    pred = [0 if x <0 else x for x in lgbm.predict(val_x)]\n",
    "    sub_pred = np.expm1([0 if x < 0 else x for x in lgbm.predict(target)]) / 20\n",
    "    rmse = np.sqrt(mean_squared_error(np.expm1(val_y), np.expm1(pred)))\n",
    "    print(f'{i}FOLD Training....val_RMSE : {rmse}\\n')\n",
    "    rmse_list.append(rmse)\n",
    "    lgbm_pred += sub_pred\n",
    "print(f'\\n{lgbm.__class__.__name__}의 20FOLD 평균 RMSE는 {np.mean(rmse_list)}')"
   ]
  },
  {
   "cell_type": "markdown",
   "metadata": {},
   "source": [
    "# Submission"
   ]
  },
  {
   "cell_type": "code",
   "execution_count": 136,
   "metadata": {},
   "outputs": [],
   "source": [
    "submission['transaction_real_price'] = lgbm_pred# * .5 + xgb_pred  * .25 + cb_pred * .25"
   ]
  },
  {
   "cell_type": "code",
   "execution_count": 137,
   "metadata": {},
   "outputs": [],
   "source": [
    "submission.to_csv('0523.csv', index = False)"
   ]
  },
  {
   "cell_type": "code",
   "execution_count": 138,
   "metadata": {
    "scrolled": true
   },
   "outputs": [
    {
     "data": {
      "text/html": [
       "<div>\n",
       "<style scoped>\n",
       "    .dataframe tbody tr th:only-of-type {\n",
       "        vertical-align: middle;\n",
       "    }\n",
       "\n",
       "    .dataframe tbody tr th {\n",
       "        vertical-align: top;\n",
       "    }\n",
       "\n",
       "    .dataframe thead th {\n",
       "        text-align: right;\n",
       "    }\n",
       "</style>\n",
       "<table border=\"1\" class=\"dataframe\">\n",
       "  <thead>\n",
       "    <tr style=\"text-align: right;\">\n",
       "      <th></th>\n",
       "      <th>transaction_id</th>\n",
       "      <th>transaction_real_price</th>\n",
       "    </tr>\n",
       "  </thead>\n",
       "  <tbody>\n",
       "    <tr>\n",
       "      <th>0</th>\n",
       "      <td>1145756</td>\n",
       "      <td>25986.319179</td>\n",
       "    </tr>\n",
       "    <tr>\n",
       "      <th>1</th>\n",
       "      <td>1198704</td>\n",
       "      <td>12642.689013</td>\n",
       "    </tr>\n",
       "    <tr>\n",
       "      <th>2</th>\n",
       "      <td>1222384</td>\n",
       "      <td>12485.969265</td>\n",
       "    </tr>\n",
       "    <tr>\n",
       "      <th>3</th>\n",
       "      <td>1179897</td>\n",
       "      <td>108915.909523</td>\n",
       "    </tr>\n",
       "    <tr>\n",
       "      <th>4</th>\n",
       "      <td>1223091</td>\n",
       "      <td>46261.284146</td>\n",
       "    </tr>\n",
       "    <tr>\n",
       "      <th>...</th>\n",
       "      <td>...</td>\n",
       "      <td>...</td>\n",
       "    </tr>\n",
       "    <tr>\n",
       "      <th>5458</th>\n",
       "      <td>1174640</td>\n",
       "      <td>63169.975196</td>\n",
       "    </tr>\n",
       "    <tr>\n",
       "      <th>5459</th>\n",
       "      <td>1175575</td>\n",
       "      <td>194443.318010</td>\n",
       "    </tr>\n",
       "    <tr>\n",
       "      <th>5460</th>\n",
       "      <td>1157024</td>\n",
       "      <td>63835.813024</td>\n",
       "    </tr>\n",
       "    <tr>\n",
       "      <th>5461</th>\n",
       "      <td>1136863</td>\n",
       "      <td>32391.060030</td>\n",
       "    </tr>\n",
       "    <tr>\n",
       "      <th>5462</th>\n",
       "      <td>1218921</td>\n",
       "      <td>16014.520355</td>\n",
       "    </tr>\n",
       "  </tbody>\n",
       "</table>\n",
       "<p>5463 rows × 2 columns</p>\n",
       "</div>"
      ],
      "text/plain": [
       "      transaction_id  transaction_real_price\n",
       "0            1145756            25986.319179\n",
       "1            1198704            12642.689013\n",
       "2            1222384            12485.969265\n",
       "3            1179897           108915.909523\n",
       "4            1223091            46261.284146\n",
       "...              ...                     ...\n",
       "5458         1174640            63169.975196\n",
       "5459         1175575           194443.318010\n",
       "5460         1157024            63835.813024\n",
       "5461         1136863            32391.060030\n",
       "5462         1218921            16014.520355\n",
       "\n",
       "[5463 rows x 2 columns]"
      ]
     },
     "execution_count": 138,
     "metadata": {},
     "output_type": "execute_result"
    }
   ],
   "source": [
    "submission"
   ]
  },
  {
   "cell_type": "markdown",
   "metadata": {},
   "source": [
    "lgbm = 3741.9269949247"
   ]
  }
 ],
 "metadata": {
  "kernelspec": {
   "display_name": "Python 3",
   "language": "python",
   "name": "python3"
  },
  "language_info": {
   "codemirror_mode": {
    "name": "ipython",
    "version": 3
   },
   "file_extension": ".py",
   "mimetype": "text/x-python",
   "name": "python",
   "nbconvert_exporter": "python",
   "pygments_lexer": "ipython3",
   "version": "3.8.5"
  }
 },
 "nbformat": 4,
 "nbformat_minor": 4
}
