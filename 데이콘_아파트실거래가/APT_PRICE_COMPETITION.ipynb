{
 "cells": [
  {
   "cell_type": "markdown",
   "metadata": {},
   "source": [
    "# 아파트 실거래가 예측 Competition"
   ]
  },
  {
   "cell_type": "code",
   "execution_count": 1,
   "metadata": {},
   "outputs": [],
   "source": [
    "import pandas as pd\n",
    "import numpy as np\n",
    "\n",
    "from xgboost import XGBRegressor\n",
    "from lightgbm import LGBMRegressor\n",
    "from catboost import CatBoostRegressor\n",
    "from sklearn.model_selection import KFold\n",
    "from sklearn.metrics import mean_squared_error\n",
    "\n",
    "import warnings\n",
    "warnings.filter"
   ]
  },
  {
   "cell_type": "markdown",
   "metadata": {},
   "source": [
    "# Data Import"
   ]
  },
  {
   "cell_type": "code",
   "execution_count": 2,
   "metadata": {},
   "outputs": [],
   "source": [
    "train = pd.read_csv('train.csv')\n",
    "test = pd.read_csv('test.csv')\n",
    "submission = pd.read_csv('submission.csv')"
   ]
  },
  {
   "cell_type": "code",
   "execution_count": 3,
   "metadata": {},
   "outputs": [
    {
     "data": {
      "text/html": [
       "<div>\n",
       "<style scoped>\n",
       "    .dataframe tbody tr th:only-of-type {\n",
       "        vertical-align: middle;\n",
       "    }\n",
       "\n",
       "    .dataframe tbody tr th {\n",
       "        vertical-align: top;\n",
       "    }\n",
       "\n",
       "    .dataframe thead th {\n",
       "        text-align: right;\n",
       "    }\n",
       "</style>\n",
       "<table border=\"1\" class=\"dataframe\">\n",
       "  <thead>\n",
       "    <tr style=\"text-align: right;\">\n",
       "      <th></th>\n",
       "      <th>transaction_id</th>\n",
       "      <th>apartment_id</th>\n",
       "      <th>city</th>\n",
       "      <th>dong</th>\n",
       "      <th>jibun</th>\n",
       "      <th>apt</th>\n",
       "      <th>addr_kr</th>\n",
       "      <th>exclusive_use_area</th>\n",
       "      <th>year_of_completion</th>\n",
       "      <th>transaction_year_month</th>\n",
       "      <th>transaction_date</th>\n",
       "      <th>floor</th>\n",
       "      <th>transaction_real_price</th>\n",
       "    </tr>\n",
       "  </thead>\n",
       "  <tbody>\n",
       "    <tr>\n",
       "      <th>0</th>\n",
       "      <td>0</td>\n",
       "      <td>7622</td>\n",
       "      <td>서울특별시</td>\n",
       "      <td>신교동</td>\n",
       "      <td>6-13</td>\n",
       "      <td>신현(101동)</td>\n",
       "      <td>신교동 6-13 신현(101동)</td>\n",
       "      <td>84.82</td>\n",
       "      <td>2002</td>\n",
       "      <td>200801</td>\n",
       "      <td>21~31</td>\n",
       "      <td>2</td>\n",
       "      <td>37500</td>\n",
       "    </tr>\n",
       "    <tr>\n",
       "      <th>1</th>\n",
       "      <td>1</td>\n",
       "      <td>5399</td>\n",
       "      <td>서울특별시</td>\n",
       "      <td>필운동</td>\n",
       "      <td>142</td>\n",
       "      <td>사직파크맨션</td>\n",
       "      <td>필운동 142 사직파크맨션</td>\n",
       "      <td>99.17</td>\n",
       "      <td>1973</td>\n",
       "      <td>200801</td>\n",
       "      <td>1~10</td>\n",
       "      <td>6</td>\n",
       "      <td>20000</td>\n",
       "    </tr>\n",
       "    <tr>\n",
       "      <th>2</th>\n",
       "      <td>2</td>\n",
       "      <td>3578</td>\n",
       "      <td>서울특별시</td>\n",
       "      <td>필운동</td>\n",
       "      <td>174-1</td>\n",
       "      <td>두레엘리시안</td>\n",
       "      <td>필운동 174-1 두레엘리시안</td>\n",
       "      <td>84.74</td>\n",
       "      <td>2007</td>\n",
       "      <td>200801</td>\n",
       "      <td>1~10</td>\n",
       "      <td>6</td>\n",
       "      <td>38500</td>\n",
       "    </tr>\n",
       "    <tr>\n",
       "      <th>3</th>\n",
       "      <td>3</td>\n",
       "      <td>10957</td>\n",
       "      <td>서울특별시</td>\n",
       "      <td>내수동</td>\n",
       "      <td>95</td>\n",
       "      <td>파크팰리스</td>\n",
       "      <td>내수동 95 파크팰리스</td>\n",
       "      <td>146.39</td>\n",
       "      <td>2003</td>\n",
       "      <td>200801</td>\n",
       "      <td>11~20</td>\n",
       "      <td>15</td>\n",
       "      <td>118000</td>\n",
       "    </tr>\n",
       "    <tr>\n",
       "      <th>4</th>\n",
       "      <td>4</td>\n",
       "      <td>10639</td>\n",
       "      <td>서울특별시</td>\n",
       "      <td>내수동</td>\n",
       "      <td>110-15</td>\n",
       "      <td>킹스매너</td>\n",
       "      <td>내수동 110-15 킹스매너</td>\n",
       "      <td>194.43</td>\n",
       "      <td>2004</td>\n",
       "      <td>200801</td>\n",
       "      <td>21~31</td>\n",
       "      <td>3</td>\n",
       "      <td>120000</td>\n",
       "    </tr>\n",
       "  </tbody>\n",
       "</table>\n",
       "</div>"
      ],
      "text/plain": [
       "   transaction_id  apartment_id   city dong   jibun       apt  \\\n",
       "0               0          7622  서울특별시  신교동    6-13  신현(101동)   \n",
       "1               1          5399  서울특별시  필운동     142    사직파크맨션   \n",
       "2               2          3578  서울특별시  필운동   174-1    두레엘리시안   \n",
       "3               3         10957  서울특별시  내수동      95     파크팰리스   \n",
       "4               4         10639  서울특별시  내수동  110-15      킹스매너   \n",
       "\n",
       "             addr_kr  exclusive_use_area  year_of_completion  \\\n",
       "0  신교동 6-13 신현(101동)               84.82                2002   \n",
       "1     필운동 142 사직파크맨션               99.17                1973   \n",
       "2   필운동 174-1 두레엘리시안               84.74                2007   \n",
       "3       내수동 95 파크팰리스              146.39                2003   \n",
       "4    내수동 110-15 킹스매너              194.43                2004   \n",
       "\n",
       "   transaction_year_month transaction_date  floor  transaction_real_price  \n",
       "0                  200801            21~31      2                   37500  \n",
       "1                  200801             1~10      6                   20000  \n",
       "2                  200801             1~10      6                   38500  \n",
       "3                  200801            11~20     15                  118000  \n",
       "4                  200801            21~31      3                  120000  "
      ]
     },
     "execution_count": 3,
     "metadata": {},
     "output_type": "execute_result"
    }
   ],
   "source": [
    "train.head()"
   ]
  },
  {
   "cell_type": "code",
   "execution_count": 4,
   "metadata": {},
   "outputs": [
    {
     "data": {
      "text/html": [
       "<div>\n",
       "<style scoped>\n",
       "    .dataframe tbody tr th:only-of-type {\n",
       "        vertical-align: middle;\n",
       "    }\n",
       "\n",
       "    .dataframe tbody tr th {\n",
       "        vertical-align: top;\n",
       "    }\n",
       "\n",
       "    .dataframe thead th {\n",
       "        text-align: right;\n",
       "    }\n",
       "</style>\n",
       "<table border=\"1\" class=\"dataframe\">\n",
       "  <thead>\n",
       "    <tr style=\"text-align: right;\">\n",
       "      <th></th>\n",
       "      <th>transaction_id</th>\n",
       "      <th>apartment_id</th>\n",
       "      <th>city</th>\n",
       "      <th>dong</th>\n",
       "      <th>jibun</th>\n",
       "      <th>apt</th>\n",
       "      <th>addr_kr</th>\n",
       "      <th>exclusive_use_area</th>\n",
       "      <th>year_of_completion</th>\n",
       "      <th>transaction_year_month</th>\n",
       "      <th>transaction_date</th>\n",
       "      <th>floor</th>\n",
       "    </tr>\n",
       "  </thead>\n",
       "  <tbody>\n",
       "    <tr>\n",
       "      <th>0</th>\n",
       "      <td>1145756</td>\n",
       "      <td>10453</td>\n",
       "      <td>서울특별시</td>\n",
       "      <td>목동</td>\n",
       "      <td>938</td>\n",
       "      <td>청학</td>\n",
       "      <td>목동 938 청학</td>\n",
       "      <td>35.5500</td>\n",
       "      <td>2002</td>\n",
       "      <td>201711</td>\n",
       "      <td>11~20</td>\n",
       "      <td>2</td>\n",
       "    </tr>\n",
       "    <tr>\n",
       "      <th>1</th>\n",
       "      <td>1198704</td>\n",
       "      <td>989</td>\n",
       "      <td>부산광역시</td>\n",
       "      <td>초량동</td>\n",
       "      <td>1143-8</td>\n",
       "      <td>고관맨션</td>\n",
       "      <td>초량동 1143-8 고관맨션</td>\n",
       "      <td>68.7200</td>\n",
       "      <td>1977</td>\n",
       "      <td>201708</td>\n",
       "      <td>21~31</td>\n",
       "      <td>2</td>\n",
       "    </tr>\n",
       "    <tr>\n",
       "      <th>2</th>\n",
       "      <td>1222384</td>\n",
       "      <td>8597</td>\n",
       "      <td>부산광역시</td>\n",
       "      <td>괴정동</td>\n",
       "      <td>447-13</td>\n",
       "      <td>우림그린</td>\n",
       "      <td>괴정동 447-13 우림그린</td>\n",
       "      <td>72.5400</td>\n",
       "      <td>1989</td>\n",
       "      <td>201710</td>\n",
       "      <td>11~20</td>\n",
       "      <td>2</td>\n",
       "    </tr>\n",
       "    <tr>\n",
       "      <th>3</th>\n",
       "      <td>1179897</td>\n",
       "      <td>11086</td>\n",
       "      <td>서울특별시</td>\n",
       "      <td>대치동</td>\n",
       "      <td>1007-2</td>\n",
       "      <td>풍림아이원4차(1007-2)</td>\n",
       "      <td>대치동 1007-2 풍림아이원4차(1007-2)</td>\n",
       "      <td>111.5400</td>\n",
       "      <td>2004</td>\n",
       "      <td>201707</td>\n",
       "      <td>1~10</td>\n",
       "      <td>10</td>\n",
       "    </tr>\n",
       "    <tr>\n",
       "      <th>4</th>\n",
       "      <td>1223091</td>\n",
       "      <td>2121</td>\n",
       "      <td>부산광역시</td>\n",
       "      <td>다대동</td>\n",
       "      <td>1670</td>\n",
       "      <td>다대롯데캐슬블루</td>\n",
       "      <td>다대동 1670 다대롯데캐슬블루</td>\n",
       "      <td>119.6398</td>\n",
       "      <td>2014</td>\n",
       "      <td>201712</td>\n",
       "      <td>11~20</td>\n",
       "      <td>21</td>\n",
       "    </tr>\n",
       "  </tbody>\n",
       "</table>\n",
       "</div>"
      ],
      "text/plain": [
       "   transaction_id  apartment_id   city dong   jibun              apt  \\\n",
       "0         1145756         10453  서울특별시   목동     938               청학   \n",
       "1         1198704           989  부산광역시  초량동  1143-8             고관맨션   \n",
       "2         1222384          8597  부산광역시  괴정동  447-13             우림그린   \n",
       "3         1179897         11086  서울특별시  대치동  1007-2  풍림아이원4차(1007-2)   \n",
       "4         1223091          2121  부산광역시  다대동    1670         다대롯데캐슬블루   \n",
       "\n",
       "                      addr_kr  exclusive_use_area  year_of_completion  \\\n",
       "0                   목동 938 청학             35.5500                2002   \n",
       "1             초량동 1143-8 고관맨션             68.7200                1977   \n",
       "2             괴정동 447-13 우림그린             72.5400                1989   \n",
       "3  대치동 1007-2 풍림아이원4차(1007-2)            111.5400                2004   \n",
       "4           다대동 1670 다대롯데캐슬블루            119.6398                2014   \n",
       "\n",
       "   transaction_year_month transaction_date  floor  \n",
       "0                  201711            11~20      2  \n",
       "1                  201708            21~31      2  \n",
       "2                  201710            11~20      2  \n",
       "3                  201707             1~10     10  \n",
       "4                  201712            11~20     21  "
      ]
     },
     "execution_count": 4,
     "metadata": {},
     "output_type": "execute_result"
    }
   ],
   "source": [
    "test.head()"
   ]
  },
  {
   "cell_type": "code",
   "execution_count": 5,
   "metadata": {},
   "outputs": [
    {
     "name": "stdout",
     "output_type": "stream",
     "text": [
      "<class 'pandas.core.frame.DataFrame'>\n",
      "RangeIndex: 1216553 entries, 0 to 1216552\n",
      "Data columns (total 13 columns):\n",
      " #   Column                  Non-Null Count    Dtype  \n",
      "---  ------                  --------------    -----  \n",
      " 0   transaction_id          1216553 non-null  int64  \n",
      " 1   apartment_id            1216553 non-null  int64  \n",
      " 2   city                    1216553 non-null  object \n",
      " 3   dong                    1216553 non-null  object \n",
      " 4   jibun                   1216553 non-null  object \n",
      " 5   apt                     1216553 non-null  object \n",
      " 6   addr_kr                 1216553 non-null  object \n",
      " 7   exclusive_use_area      1216553 non-null  float64\n",
      " 8   year_of_completion      1216553 non-null  int64  \n",
      " 9   transaction_year_month  1216553 non-null  int64  \n",
      " 10  transaction_date        1216553 non-null  object \n",
      " 11  floor                   1216553 non-null  int64  \n",
      " 12  transaction_real_price  1216553 non-null  int64  \n",
      "dtypes: float64(1), int64(6), object(6)\n",
      "memory usage: 120.7+ MB\n"
     ]
    }
   ],
   "source": [
    "train.info()"
   ]
  },
  {
   "cell_type": "code",
   "execution_count": 6,
   "metadata": {
    "scrolled": true
   },
   "outputs": [
    {
     "name": "stdout",
     "output_type": "stream",
     "text": [
      "<class 'pandas.core.frame.DataFrame'>\n",
      "RangeIndex: 5463 entries, 0 to 5462\n",
      "Data columns (total 12 columns):\n",
      " #   Column                  Non-Null Count  Dtype  \n",
      "---  ------                  --------------  -----  \n",
      " 0   transaction_id          5463 non-null   int64  \n",
      " 1   apartment_id            5463 non-null   int64  \n",
      " 2   city                    5463 non-null   object \n",
      " 3   dong                    5463 non-null   object \n",
      " 4   jibun                   5463 non-null   object \n",
      " 5   apt                     5463 non-null   object \n",
      " 6   addr_kr                 5463 non-null   object \n",
      " 7   exclusive_use_area      5463 non-null   float64\n",
      " 8   year_of_completion      5463 non-null   int64  \n",
      " 9   transaction_year_month  5463 non-null   int64  \n",
      " 10  transaction_date        5463 non-null   object \n",
      " 11  floor                   5463 non-null   int64  \n",
      "dtypes: float64(1), int64(5), object(6)\n",
      "memory usage: 512.3+ KB\n"
     ]
    }
   ],
   "source": [
    "test.info()"
   ]
  },
  {
   "cell_type": "markdown",
   "metadata": {},
   "source": [
    "***\n",
    "# Making Features"
   ]
  },
  {
   "cell_type": "code",
   "execution_count": 7,
   "metadata": {},
   "outputs": [],
   "source": [
    "train['city_dong'] = train.city + train.dong\n",
    "test['city_dong'] = test.city + test.dong"
   ]
  },
  {
   "cell_type": "code",
   "execution_count": 8,
   "metadata": {
    "scrolled": true
   },
   "outputs": [],
   "source": [
    "tr_n_apt = train.groupby('city_dong').apt.nunique().reset_index(name = 'n_apt')"
   ]
  },
  {
   "cell_type": "code",
   "execution_count": 9,
   "metadata": {},
   "outputs": [],
   "source": [
    "train = pd.merge(train, tr_n_apt, how = 'left', on = 'city_dong')\n",
    "test = pd.merge(test, tr_n_apt, how = 'left', on = 'city_dong')"
   ]
  },
  {
   "cell_type": "code",
   "execution_count": 11,
   "metadata": {},
   "outputs": [],
   "source": [
    "tr_skew_cnt = train.groupby('city_dong').transaction_year_month.skew().reset_index(name = 'skew_cnt')\n",
    "te_skew_cnt = test.groupby('city_dong').transaction_year_month.skew().reset_index(name = 'skew_cnt')"
   ]
  },
  {
   "cell_type": "code",
   "execution_count": 12,
   "metadata": {},
   "outputs": [],
   "source": [
    "train = pd.merge(train, tr_skew_cnt, how = 'left', on = 'city_dong')\n",
    "test = pd.merge(test, tr_skew_cnt, how = 'left', on = 'city_dong')"
   ]
  },
  {
   "cell_type": "code",
   "execution_count": 13,
   "metadata": {},
   "outputs": [],
   "source": []
  },
  {
   "cell_type": "code",
   "execution_count": 14,
   "metadata": {},
   "outputs": [],
   "source": [
    "y = np.log1p(train.transaction_real_price)"
   ]
  },
  {
   "cell_type": "code",
   "execution_count": 15,
   "metadata": {},
   "outputs": [],
   "source": [
    "kf = KFold(n_splits = 20, random_state = 523, shuffle = True)"
   ]
  },
  {
   "cell_type": "code",
   "execution_count": 16,
   "metadata": {},
   "outputs": [],
   "source": [
    "def get_date(x) :\n",
    "    if x == '1-10' :\n",
    "        return '월초'\n",
    "    elif x == '11-20' :\n",
    "        return '중순'\n",
    "    else :\n",
    "        return '월말'"
   ]
  },
  {
   "cell_type": "code",
   "execution_count": 17,
   "metadata": {},
   "outputs": [],
   "source": [
    "train['transaction_date'] = train['transaction_date'].apply(get_date)\n",
    "test['transaction_date'] = test['transaction_date'].apply(get_date)"
   ]
  },
  {
   "cell_type": "markdown",
   "metadata": {},
   "source": [
    "# Modeling"
   ]
  },
  {
   "cell_type": "code",
   "execution_count": 19,
   "metadata": {},
   "outputs": [],
   "source": [
    "X = train[['n_apt', 'city', 'exclusive_use_area', 'year_of_completion', 'transaction_year_month', 'transaction_date', 'floor']]"
   ]
  },
  {
   "cell_type": "code",
   "execution_count": 20,
   "metadata": {},
   "outputs": [],
   "source": [
    "X = pd.get_dummies(columns = ['city', 'transaction_date'], data = X)"
   ]
  },
  {
   "cell_type": "code",
   "execution_count": 21,
   "metadata": {},
   "outputs": [],
   "source": [
    "target = test[['n_apt', 'city', 'exclusive_use_area', 'year_of_completion', 'transaction_year_month', 'transaction_date', 'floor']]"
   ]
  },
  {
   "cell_type": "code",
   "execution_count": 22,
   "metadata": {},
   "outputs": [],
   "source": [
    "target = pd.get_dummies(columns = ['city', 'transaction_date'], data = target)"
   ]
  },
  {
   "cell_type": "markdown",
   "metadata": {},
   "source": [
    "## 1) LGBMRegressor"
   ]
  },
  {
   "cell_type": "code",
   "execution_count": 23,
   "metadata": {},
   "outputs": [],
   "source": [
    "lgbm = LGBMRegressor(random_state = 524, max_depth = 5, n_estimators = 10000, learning_rate = 0.08, objective = 'rmse')"
   ]
  },
  {
   "cell_type": "code",
   "execution_count": 24,
   "metadata": {
    "scrolled": false
   },
   "outputs": [
    {
     "name": "stdout",
     "output_type": "stream",
     "text": [
      "[LightGBM] [Warning] Accuracy may be bad since you didn't explicitly set num_leaves OR 2^max_depth > num_leaves. (num_leaves=31).\n",
      "Training until validation scores don't improve for 500 rounds\n",
      "[2000]\ttraining's rmse: 0.142531\tvalid_1's rmse: 0.142743\n",
      "[4000]\ttraining's rmse: 0.125747\tvalid_1's rmse: 0.126497\n",
      "[6000]\ttraining's rmse: 0.116494\tvalid_1's rmse: 0.117551\n",
      "[8000]\ttraining's rmse: 0.110018\tvalid_1's rmse: 0.111678\n",
      "[10000]\ttraining's rmse: 0.105502\tvalid_1's rmse: 0.10774\n",
      "Did not meet early stopping. Best iteration is:\n",
      "[10000]\ttraining's rmse: 0.105502\tvalid_1's rmse: 0.10774\n",
      "1FOLD Training....val_RMSE : 5379.210391096527\n",
      "\n",
      "[LightGBM] [Warning] Accuracy may be bad since you didn't explicitly set num_leaves OR 2^max_depth > num_leaves. (num_leaves=31).\n",
      "Training until validation scores don't improve for 500 rounds\n",
      "[2000]\ttraining's rmse: 0.142208\tvalid_1's rmse: 0.144335\n",
      "[4000]\ttraining's rmse: 0.125385\tvalid_1's rmse: 0.128741\n",
      "[6000]\ttraining's rmse: 0.116218\tvalid_1's rmse: 0.120413\n",
      "[8000]\ttraining's rmse: 0.109841\tvalid_1's rmse: 0.11487\n",
      "[10000]\ttraining's rmse: 0.105391\tvalid_1's rmse: 0.111134\n",
      "Did not meet early stopping. Best iteration is:\n",
      "[10000]\ttraining's rmse: 0.105391\tvalid_1's rmse: 0.111134\n",
      "2FOLD Training....val_RMSE : 5590.046156300831\n",
      "\n",
      "[LightGBM] [Warning] Accuracy may be bad since you didn't explicitly set num_leaves OR 2^max_depth > num_leaves. (num_leaves=31).\n",
      "Training until validation scores don't improve for 500 rounds\n",
      "[2000]\ttraining's rmse: 0.141736\tvalid_1's rmse: 0.141941\n",
      "[4000]\ttraining's rmse: 0.125395\tvalid_1's rmse: 0.126232\n",
      "[6000]\ttraining's rmse: 0.116249\tvalid_1's rmse: 0.117708\n",
      "[8000]\ttraining's rmse: 0.109722\tvalid_1's rmse: 0.111677\n",
      "[10000]\ttraining's rmse: 0.105327\tvalid_1's rmse: 0.107837\n",
      "Did not meet early stopping. Best iteration is:\n",
      "[10000]\ttraining's rmse: 0.105327\tvalid_1's rmse: 0.107837\n",
      "3FOLD Training....val_RMSE : 5602.77441232684\n",
      "\n",
      "[LightGBM] [Warning] Accuracy may be bad since you didn't explicitly set num_leaves OR 2^max_depth > num_leaves. (num_leaves=31).\n",
      "Training until validation scores don't improve for 500 rounds\n",
      "[2000]\ttraining's rmse: 0.142091\tvalid_1's rmse: 0.144908\n",
      "[4000]\ttraining's rmse: 0.125374\tvalid_1's rmse: 0.12935\n",
      "[6000]\ttraining's rmse: 0.115893\tvalid_1's rmse: 0.1208\n",
      "[8000]\ttraining's rmse: 0.109701\tvalid_1's rmse: 0.115278\n",
      "[10000]\ttraining's rmse: 0.105302\tvalid_1's rmse: 0.111529\n",
      "Did not meet early stopping. Best iteration is:\n",
      "[10000]\ttraining's rmse: 0.105302\tvalid_1's rmse: 0.111529\n",
      "4FOLD Training....val_RMSE : 5660.963833122259\n",
      "\n",
      "[LightGBM] [Warning] Accuracy may be bad since you didn't explicitly set num_leaves OR 2^max_depth > num_leaves. (num_leaves=31).\n",
      "Training until validation scores don't improve for 500 rounds\n",
      "[2000]\ttraining's rmse: 0.141988\tvalid_1's rmse: 0.145893\n",
      "[4000]\ttraining's rmse: 0.125088\tvalid_1's rmse: 0.130243\n",
      "[6000]\ttraining's rmse: 0.11578\tvalid_1's rmse: 0.121751\n",
      "[8000]\ttraining's rmse: 0.109609\tvalid_1's rmse: 0.116127\n",
      "[10000]\ttraining's rmse: 0.105205\tvalid_1's rmse: 0.112272\n",
      "Did not meet early stopping. Best iteration is:\n",
      "[10000]\ttraining's rmse: 0.105205\tvalid_1's rmse: 0.112272\n",
      "5FOLD Training....val_RMSE : 5327.924047142388\n",
      "\n",
      "[LightGBM] [Warning] Accuracy may be bad since you didn't explicitly set num_leaves OR 2^max_depth > num_leaves. (num_leaves=31).\n",
      "Training until validation scores don't improve for 500 rounds\n",
      "[2000]\ttraining's rmse: 0.142961\tvalid_1's rmse: 0.142811\n",
      "[4000]\ttraining's rmse: 0.125874\tvalid_1's rmse: 0.126367\n",
      "[6000]\ttraining's rmse: 0.11667\tvalid_1's rmse: 0.117612\n",
      "[8000]\ttraining's rmse: 0.110194\tvalid_1's rmse: 0.11163\n",
      "[10000]\ttraining's rmse: 0.105483\tvalid_1's rmse: 0.107302\n",
      "Did not meet early stopping. Best iteration is:\n",
      "[10000]\ttraining's rmse: 0.105483\tvalid_1's rmse: 0.107302\n",
      "6FOLD Training....val_RMSE : 5455.169426332087\n",
      "\n",
      "[LightGBM] [Warning] Accuracy may be bad since you didn't explicitly set num_leaves OR 2^max_depth > num_leaves. (num_leaves=31).\n",
      "Training until validation scores don't improve for 500 rounds\n",
      "[2000]\ttraining's rmse: 0.141122\tvalid_1's rmse: 0.142353\n",
      "[4000]\ttraining's rmse: 0.124986\tvalid_1's rmse: 0.12705\n",
      "[6000]\ttraining's rmse: 0.115558\tvalid_1's rmse: 0.11837\n",
      "[8000]\ttraining's rmse: 0.109567\tvalid_1's rmse: 0.113053\n",
      "[10000]\ttraining's rmse: 0.104868\tvalid_1's rmse: 0.108945\n",
      "Did not meet early stopping. Best iteration is:\n",
      "[10000]\ttraining's rmse: 0.104868\tvalid_1's rmse: 0.108945\n",
      "7FOLD Training....val_RMSE : 5335.16215628288\n",
      "\n",
      "[LightGBM] [Warning] Accuracy may be bad since you didn't explicitly set num_leaves OR 2^max_depth > num_leaves. (num_leaves=31).\n",
      "Training until validation scores don't improve for 500 rounds\n",
      "[2000]\ttraining's rmse: 0.141817\tvalid_1's rmse: 0.141453\n",
      "[4000]\ttraining's rmse: 0.125476\tvalid_1's rmse: 0.125654\n",
      "[6000]\ttraining's rmse: 0.116478\tvalid_1's rmse: 0.117267\n",
      "[8000]\ttraining's rmse: 0.110126\tvalid_1's rmse: 0.111456\n",
      "[10000]\ttraining's rmse: 0.105406\tvalid_1's rmse: 0.107211\n",
      "Did not meet early stopping. Best iteration is:\n",
      "[10000]\ttraining's rmse: 0.105406\tvalid_1's rmse: 0.107211\n",
      "8FOLD Training....val_RMSE : 5338.376839816842\n",
      "\n",
      "[LightGBM] [Warning] Accuracy may be bad since you didn't explicitly set num_leaves OR 2^max_depth > num_leaves. (num_leaves=31).\n",
      "Training until validation scores don't improve for 500 rounds\n",
      "[2000]\ttraining's rmse: 0.142061\tvalid_1's rmse: 0.143862\n"
     ]
    },
    {
     "ename": "KeyboardInterrupt",
     "evalue": "",
     "output_type": "error",
     "traceback": [
      "\u001b[0;31m---------------------------------------------------------------------------\u001b[0m",
      "\u001b[0;31mKeyboardInterrupt\u001b[0m                         Traceback (most recent call last)",
      "\u001b[0;32m<ipython-input-24-ca4b126d081a>\u001b[0m in \u001b[0;36m<module>\u001b[0;34m\u001b[0m\n\u001b[1;32m      7\u001b[0m     \u001b[0mval_x\u001b[0m\u001b[0;34m,\u001b[0m \u001b[0mval_y\u001b[0m \u001b[0;34m=\u001b[0m \u001b[0mX\u001b[0m\u001b[0;34m.\u001b[0m\u001b[0miloc\u001b[0m\u001b[0;34m[\u001b[0m\u001b[0mval_idx\u001b[0m\u001b[0;34m]\u001b[0m\u001b[0;34m,\u001b[0m \u001b[0my\u001b[0m\u001b[0;34m.\u001b[0m\u001b[0miloc\u001b[0m\u001b[0;34m[\u001b[0m\u001b[0mval_idx\u001b[0m\u001b[0;34m]\u001b[0m\u001b[0;34m\u001b[0m\u001b[0;34m\u001b[0m\u001b[0m\n\u001b[1;32m      8\u001b[0m \u001b[0;34m\u001b[0m\u001b[0m\n\u001b[0;32m----> 9\u001b[0;31m     \u001b[0mlgbm\u001b[0m\u001b[0;34m.\u001b[0m\u001b[0mfit\u001b[0m\u001b[0;34m(\u001b[0m\u001b[0mtr_x\u001b[0m\u001b[0;34m,\u001b[0m \u001b[0mtr_y\u001b[0m\u001b[0;34m,\u001b[0m \u001b[0meval_set\u001b[0m \u001b[0;34m=\u001b[0m \u001b[0;34m[\u001b[0m\u001b[0;34m(\u001b[0m\u001b[0mtr_x\u001b[0m\u001b[0;34m,\u001b[0m \u001b[0mtr_y\u001b[0m\u001b[0;34m)\u001b[0m\u001b[0;34m,\u001b[0m \u001b[0;34m(\u001b[0m\u001b[0mval_x\u001b[0m\u001b[0;34m,\u001b[0m \u001b[0mval_y\u001b[0m\u001b[0;34m)\u001b[0m\u001b[0;34m]\u001b[0m\u001b[0;34m,\u001b[0m \u001b[0mverbose\u001b[0m \u001b[0;34m=\u001b[0m \u001b[0;36m2000\u001b[0m\u001b[0;34m,\u001b[0m \u001b[0mearly_stopping_rounds\u001b[0m \u001b[0;34m=\u001b[0m \u001b[0;36m500\u001b[0m\u001b[0;34m)\u001b[0m\u001b[0;34m\u001b[0m\u001b[0;34m\u001b[0m\u001b[0m\n\u001b[0m\u001b[1;32m     10\u001b[0m     \u001b[0mpred\u001b[0m \u001b[0;34m=\u001b[0m \u001b[0;34m[\u001b[0m\u001b[0;36m0\u001b[0m \u001b[0;32mif\u001b[0m \u001b[0mx\u001b[0m \u001b[0;34m<\u001b[0m\u001b[0;36m0\u001b[0m \u001b[0;32melse\u001b[0m \u001b[0mx\u001b[0m \u001b[0;32mfor\u001b[0m \u001b[0mx\u001b[0m \u001b[0;32min\u001b[0m \u001b[0mlgbm\u001b[0m\u001b[0;34m.\u001b[0m\u001b[0mpredict\u001b[0m\u001b[0;34m(\u001b[0m\u001b[0mval_x\u001b[0m\u001b[0;34m)\u001b[0m\u001b[0;34m]\u001b[0m\u001b[0;34m\u001b[0m\u001b[0;34m\u001b[0m\u001b[0m\n\u001b[1;32m     11\u001b[0m     \u001b[0msub_pred\u001b[0m \u001b[0;34m=\u001b[0m \u001b[0mnp\u001b[0m\u001b[0;34m.\u001b[0m\u001b[0mexpm1\u001b[0m\u001b[0;34m(\u001b[0m\u001b[0;34m[\u001b[0m\u001b[0;36m0\u001b[0m \u001b[0;32mif\u001b[0m \u001b[0mx\u001b[0m \u001b[0;34m<\u001b[0m \u001b[0;36m0\u001b[0m \u001b[0;32melse\u001b[0m \u001b[0mx\u001b[0m \u001b[0;32mfor\u001b[0m \u001b[0mx\u001b[0m \u001b[0;32min\u001b[0m \u001b[0mlgbm\u001b[0m\u001b[0;34m.\u001b[0m\u001b[0mpredict\u001b[0m\u001b[0;34m(\u001b[0m\u001b[0mtarget\u001b[0m\u001b[0;34m)\u001b[0m\u001b[0;34m]\u001b[0m\u001b[0;34m)\u001b[0m \u001b[0;34m/\u001b[0m \u001b[0;36m20\u001b[0m\u001b[0;34m\u001b[0m\u001b[0;34m\u001b[0m\u001b[0m\n",
      "\u001b[0;32m~/opt/anaconda3/lib/python3.8/site-packages/lightgbm/sklearn.py\u001b[0m in \u001b[0;36mfit\u001b[0;34m(self, X, y, sample_weight, init_score, eval_set, eval_names, eval_sample_weight, eval_init_score, eval_metric, early_stopping_rounds, verbose, feature_name, categorical_feature, callbacks, init_model)\u001b[0m\n\u001b[1;32m    768\u001b[0m             callbacks=None, init_model=None):\n\u001b[1;32m    769\u001b[0m         \u001b[0;34m\"\"\"Docstring is inherited from the LGBMModel.\"\"\"\u001b[0m\u001b[0;34m\u001b[0m\u001b[0;34m\u001b[0m\u001b[0m\n\u001b[0;32m--> 770\u001b[0;31m         super(LGBMRegressor, self).fit(X, y, sample_weight=sample_weight,\n\u001b[0m\u001b[1;32m    771\u001b[0m                                        \u001b[0minit_score\u001b[0m\u001b[0;34m=\u001b[0m\u001b[0minit_score\u001b[0m\u001b[0;34m,\u001b[0m \u001b[0meval_set\u001b[0m\u001b[0;34m=\u001b[0m\u001b[0meval_set\u001b[0m\u001b[0;34m,\u001b[0m\u001b[0;34m\u001b[0m\u001b[0;34m\u001b[0m\u001b[0m\n\u001b[1;32m    772\u001b[0m                                        \u001b[0meval_names\u001b[0m\u001b[0;34m=\u001b[0m\u001b[0meval_names\u001b[0m\u001b[0;34m,\u001b[0m\u001b[0;34m\u001b[0m\u001b[0;34m\u001b[0m\u001b[0m\n",
      "\u001b[0;32m~/opt/anaconda3/lib/python3.8/site-packages/lightgbm/sklearn.py\u001b[0m in \u001b[0;36mfit\u001b[0;34m(self, X, y, sample_weight, init_score, group, eval_set, eval_names, eval_sample_weight, eval_class_weight, eval_init_score, eval_group, eval_metric, early_stopping_rounds, verbose, feature_name, categorical_feature, callbacks, init_model)\u001b[0m\n\u001b[1;32m    610\u001b[0m             \u001b[0minit_model\u001b[0m \u001b[0;34m=\u001b[0m \u001b[0minit_model\u001b[0m\u001b[0;34m.\u001b[0m\u001b[0mbooster_\u001b[0m\u001b[0;34m\u001b[0m\u001b[0;34m\u001b[0m\u001b[0m\n\u001b[1;32m    611\u001b[0m \u001b[0;34m\u001b[0m\u001b[0m\n\u001b[0;32m--> 612\u001b[0;31m         self._Booster = train(params, train_set,\n\u001b[0m\u001b[1;32m    613\u001b[0m                               \u001b[0mself\u001b[0m\u001b[0;34m.\u001b[0m\u001b[0mn_estimators\u001b[0m\u001b[0;34m,\u001b[0m \u001b[0mvalid_sets\u001b[0m\u001b[0;34m=\u001b[0m\u001b[0mvalid_sets\u001b[0m\u001b[0;34m,\u001b[0m \u001b[0mvalid_names\u001b[0m\u001b[0;34m=\u001b[0m\u001b[0meval_names\u001b[0m\u001b[0;34m,\u001b[0m\u001b[0;34m\u001b[0m\u001b[0;34m\u001b[0m\u001b[0m\n\u001b[1;32m    614\u001b[0m                               \u001b[0mearly_stopping_rounds\u001b[0m\u001b[0;34m=\u001b[0m\u001b[0mearly_stopping_rounds\u001b[0m\u001b[0;34m,\u001b[0m\u001b[0;34m\u001b[0m\u001b[0;34m\u001b[0m\u001b[0m\n",
      "\u001b[0;32m~/opt/anaconda3/lib/python3.8/site-packages/lightgbm/engine.py\u001b[0m in \u001b[0;36mtrain\u001b[0;34m(params, train_set, num_boost_round, valid_sets, valid_names, fobj, feval, init_model, feature_name, categorical_feature, early_stopping_rounds, evals_result, verbose_eval, learning_rates, keep_training_booster, callbacks)\u001b[0m\n\u001b[1;32m    250\u001b[0m                                     evaluation_result_list=None))\n\u001b[1;32m    251\u001b[0m \u001b[0;34m\u001b[0m\u001b[0m\n\u001b[0;32m--> 252\u001b[0;31m         \u001b[0mbooster\u001b[0m\u001b[0;34m.\u001b[0m\u001b[0mupdate\u001b[0m\u001b[0;34m(\u001b[0m\u001b[0mfobj\u001b[0m\u001b[0;34m=\u001b[0m\u001b[0mfobj\u001b[0m\u001b[0;34m)\u001b[0m\u001b[0;34m\u001b[0m\u001b[0;34m\u001b[0m\u001b[0m\n\u001b[0m\u001b[1;32m    253\u001b[0m \u001b[0;34m\u001b[0m\u001b[0m\n\u001b[1;32m    254\u001b[0m         \u001b[0mevaluation_result_list\u001b[0m \u001b[0;34m=\u001b[0m \u001b[0;34m[\u001b[0m\u001b[0;34m]\u001b[0m\u001b[0;34m\u001b[0m\u001b[0;34m\u001b[0m\u001b[0m\n",
      "\u001b[0;32m~/opt/anaconda3/lib/python3.8/site-packages/lightgbm/basic.py\u001b[0m in \u001b[0;36mupdate\u001b[0;34m(self, train_set, fobj)\u001b[0m\n\u001b[1;32m   2456\u001b[0m             \u001b[0;32mif\u001b[0m \u001b[0mself\u001b[0m\u001b[0;34m.\u001b[0m\u001b[0m__set_objective_to_none\u001b[0m\u001b[0;34m:\u001b[0m\u001b[0;34m\u001b[0m\u001b[0;34m\u001b[0m\u001b[0m\n\u001b[1;32m   2457\u001b[0m                 \u001b[0;32mraise\u001b[0m \u001b[0mLightGBMError\u001b[0m\u001b[0;34m(\u001b[0m\u001b[0;34m'Cannot update due to null objective function.'\u001b[0m\u001b[0;34m)\u001b[0m\u001b[0;34m\u001b[0m\u001b[0;34m\u001b[0m\u001b[0m\n\u001b[0;32m-> 2458\u001b[0;31m             _safe_call(_LIB.LGBM_BoosterUpdateOneIter(\n\u001b[0m\u001b[1;32m   2459\u001b[0m                 \u001b[0mself\u001b[0m\u001b[0;34m.\u001b[0m\u001b[0mhandle\u001b[0m\u001b[0;34m,\u001b[0m\u001b[0;34m\u001b[0m\u001b[0;34m\u001b[0m\u001b[0m\n\u001b[1;32m   2460\u001b[0m                 ctypes.byref(is_finished)))\n",
      "\u001b[0;31mKeyboardInterrupt\u001b[0m: "
     ]
    }
   ],
   "source": [
    "rmse_list = []\n",
    "lgbm_pred = np.zeros((target.shape[0]))\n",
    "i = 0\n",
    "for tr_idx, val_idx in kf.split(X, y) :\n",
    "    i += 1\n",
    "    tr_x, tr_y = X.iloc[tr_idx], y.iloc[tr_idx]\n",
    "    val_x, val_y = X.iloc[val_idx], y.iloc[val_idx]\n",
    "    \n",
    "    lgbm.fit(tr_x, tr_y, eval_set = [(tr_x, tr_y), (val_x, val_y)], verbose = 2000, early_stopping_rounds = 500)\n",
    "    pred = [0 if x <0 else x for x in lgbm.predict(val_x)]\n",
    "    sub_pred = np.expm1([0 if x < 0 else x for x in lgbm.predict(target)]) / 20\n",
    "    rmse = np.sqrt(mean_squared_error(np.expm1(val_y), np.expm1(pred)))\n",
    "    print(f'{i}FOLD Training....val_RMSE : {rmse}\\n')\n",
    "    rmse_list.append(rmse)\n",
    "    lgbm_pred += sub_pred\n",
    "print(f'\\n{lgbm.__class__.__name__}의 20FOLD 평균 RMSE는 {np.mean(rmse_list)}')"
   ]
  },
  {
   "cell_type": "markdown",
   "metadata": {},
   "source": [
    "***\n",
    "## 2) XGBRegressor"
   ]
  },
  {
   "cell_type": "code",
   "execution_count": 73,
   "metadata": {},
   "outputs": [],
   "source": [
    "xgb = XGBRegressor(random_state = 523, max_depth = 4, n_estimators = 5000, n_jobs = -1)"
   ]
  },
  {
   "cell_type": "code",
   "execution_count": 74,
   "metadata": {
    "scrolled": true
   },
   "outputs": [
    {
     "name": "stdout",
     "output_type": "stream",
     "text": [
      "[0]\tvalidation_0-rmse:6.88625\tvalidation_1-rmse:6.88791\n",
      "[499]\tvalidation_0-rmse:0.16158\tvalidation_1-rmse:0.16167\n",
      "1FOLD Training....val_RMSE : 8329.068659735867\n",
      "\n",
      "[0]\tvalidation_0-rmse:6.88644\tvalidation_1-rmse:6.88361\n",
      "[499]\tvalidation_0-rmse:0.16251\tvalidation_1-rmse:0.16428\n",
      "2FOLD Training....val_RMSE : 8168.7591342072965\n",
      "\n",
      "[0]\tvalidation_0-rmse:6.88637\tvalidation_1-rmse:6.88600\n",
      "[499]\tvalidation_0-rmse:0.16271\tvalidation_1-rmse:0.16251\n",
      "3FOLD Training....val_RMSE : 8216.473956070318\n",
      "\n",
      "[0]\tvalidation_0-rmse:6.88636\tvalidation_1-rmse:6.88619\n",
      "[499]\tvalidation_0-rmse:0.16323\tvalidation_1-rmse:0.16469\n",
      "4FOLD Training....val_RMSE : 8258.794813674074\n",
      "\n",
      "[0]\tvalidation_0-rmse:6.88632\tvalidation_1-rmse:6.88600\n",
      "[499]\tvalidation_0-rmse:0.16227\tvalidation_1-rmse:0.16497\n",
      "5FOLD Training....val_RMSE : 8074.480956576757\n",
      "\n",
      "[0]\tvalidation_0-rmse:6.88634\tvalidation_1-rmse:6.88580\n",
      "[499]\tvalidation_0-rmse:0.16298\tvalidation_1-rmse:0.16250\n",
      "6FOLD Training....val_RMSE : 8354.857356644674\n",
      "\n",
      "[0]\tvalidation_0-rmse:6.88641\tvalidation_1-rmse:6.88461\n",
      "[499]\tvalidation_0-rmse:0.16293\tvalidation_1-rmse:0.16320\n",
      "7FOLD Training....val_RMSE : 8181.479073004787\n",
      "\n",
      "[0]\tvalidation_0-rmse:6.88626\tvalidation_1-rmse:6.88749\n",
      "[499]\tvalidation_0-rmse:0.16251\tvalidation_1-rmse:0.16215\n",
      "8FOLD Training....val_RMSE : 8161.915097965222\n",
      "\n",
      "[0]\tvalidation_0-rmse:6.88644\tvalidation_1-rmse:6.88415\n",
      "[499]\tvalidation_0-rmse:0.16220\tvalidation_1-rmse:0.16320\n",
      "9FOLD Training....val_RMSE : 8153.621993816059\n",
      "\n",
      "[0]\tvalidation_0-rmse:6.88625\tvalidation_1-rmse:6.88786\n",
      "[499]\tvalidation_0-rmse:0.16266\tvalidation_1-rmse:0.16309\n",
      "10FOLD Training....val_RMSE : 8223.586784868936\n",
      "\n",
      "[0]\tvalidation_0-rmse:6.88623\tvalidation_1-rmse:6.88839\n",
      "[499]\tvalidation_0-rmse:0.16240\tvalidation_1-rmse:0.16255\n",
      "11FOLD Training....val_RMSE : 8286.161198079539\n",
      "\n",
      "[0]\tvalidation_0-rmse:6.88643\tvalidation_1-rmse:6.88399\n",
      "[499]\tvalidation_0-rmse:0.16264\tvalidation_1-rmse:0.16396\n",
      "12FOLD Training....val_RMSE : 8430.369064597377\n",
      "\n",
      "[0]\tvalidation_0-rmse:6.88628\tvalidation_1-rmse:6.88711\n",
      "[499]\tvalidation_0-rmse:0.16268\tvalidation_1-rmse:0.16369\n",
      "13FOLD Training....val_RMSE : 8196.110118543998\n",
      "\n",
      "[0]\tvalidation_0-rmse:6.88634\tvalidation_1-rmse:6.88644\n",
      "[499]\tvalidation_0-rmse:0.16230\tvalidation_1-rmse:0.16337\n",
      "14FOLD Training....val_RMSE : 8282.886261855661\n",
      "\n",
      "[0]\tvalidation_0-rmse:6.88631\tvalidation_1-rmse:6.88661\n",
      "[499]\tvalidation_0-rmse:0.16237\tvalidation_1-rmse:0.16573\n",
      "15FOLD Training....val_RMSE : 8251.308775068348\n",
      "\n",
      "[0]\tvalidation_0-rmse:6.88618\tvalidation_1-rmse:6.88882\n",
      "[499]\tvalidation_0-rmse:0.16375\tvalidation_1-rmse:0.16757\n",
      "16FOLD Training....val_RMSE : 8275.441862782258\n",
      "\n",
      "[0]\tvalidation_0-rmse:6.88642\tvalidation_1-rmse:6.88452\n",
      "[499]\tvalidation_0-rmse:0.16274\tvalidation_1-rmse:0.16524\n",
      "17FOLD Training....val_RMSE : 8288.769047158368\n",
      "\n",
      "[0]\tvalidation_0-rmse:6.88645\tvalidation_1-rmse:6.88308\n",
      "[499]\tvalidation_0-rmse:0.16216\tvalidation_1-rmse:0.16265\n",
      "18FOLD Training....val_RMSE : 8047.5290166079785\n",
      "\n",
      "[0]\tvalidation_0-rmse:6.88620\tvalidation_1-rmse:6.88917\n",
      "[499]\tvalidation_0-rmse:0.16301\tvalidation_1-rmse:0.16273\n",
      "19FOLD Training....val_RMSE : 8383.225724642381\n",
      "\n",
      "[0]\tvalidation_0-rmse:6.88627\tvalidation_1-rmse:6.88695\n",
      "[499]\tvalidation_0-rmse:0.16251\tvalidation_1-rmse:0.16466\n",
      "20FOLD Training....val_RMSE : 8062.750834104836\n",
      "\n",
      "\n",
      "XGBRegressor의 20FOLD 평균 RMSE는 8231.379486500235\n"
     ]
    }
   ],
   "source": [
    "rmse_list = []\n",
    "xgb_pred = np.zeros((target.shape[0]))\n",
    "i = 0\n",
    "for tr_idx, val_idx in kf.split(X, y) :\n",
    "    i += 1\n",
    "    tr_x, tr_y = X.iloc[tr_idx], y.iloc[tr_idx]\n",
    "    val_x, val_y = X.iloc[val_idx], y.iloc[val_idx]\n",
    "    \n",
    "    xgb.fit(tr_x, tr_y, eval_set = [(tr_x, tr_y), (val_x, val_y)], verbose = 500, early_stopping_rounds = 500)\n",
    "    pred = [0 if x <0 else x for x in xgb.predict(val_x)]\n",
    "    sub_pred = np.expm1([0 if x < 0 else x for x in xgb.predict(target)]) / 20\n",
    "    rmse = np.sqrt(mean_squared_error(np.expm1(val_y), np.expm1(pred)))\n",
    "    print(f'{i}FOLD Training....val_RMSE : {rmse}\\n')\n",
    "    rmse_list.append(rmse)\n",
    "    xgb_pred += sub_pred\n",
    "print(f'\\n{xgb.__class__.__name__}의 20FOLD 평균 RMSE는 {np.mean(rmse_list)}')"
   ]
  },
  {
   "cell_type": "markdown",
   "metadata": {},
   "source": [
    "***\n",
    "## 3) CatboostRegressor"
   ]
  },
  {
   "cell_type": "code",
   "execution_count": 77,
   "metadata": {},
   "outputs": [],
   "source": [
    "cb = CatBoostRegressor(random_state = 521, depth = 5, silent = True)"
   ]
  },
  {
   "cell_type": "code",
   "execution_count": 78,
   "metadata": {
    "scrolled": false
   },
   "outputs": [
    {
     "name": "stdout",
     "output_type": "stream",
     "text": [
      "1FOLD Training....val_RMSE : 9088.919768530259\n",
      "2FOLD Training....val_RMSE : 8974.30998309961\n",
      "3FOLD Training....val_RMSE : 8964.010301587477\n",
      "4FOLD Training....val_RMSE : 8847.794171641402\n",
      "5FOLD Training....val_RMSE : 8512.11998616486\n",
      "6FOLD Training....val_RMSE : 8993.779218473599\n",
      "7FOLD Training....val_RMSE : 8812.846501582027\n",
      "8FOLD Training....val_RMSE : 8712.505799811921\n",
      "9FOLD Training....val_RMSE : 8997.157629391497\n",
      "10FOLD Training....val_RMSE : 8812.748758898304\n",
      "11FOLD Training....val_RMSE : 8929.810385992148\n",
      "12FOLD Training....val_RMSE : 8968.783194827876\n",
      "13FOLD Training....val_RMSE : 8737.814645453765\n",
      "14FOLD Training....val_RMSE : 8953.545493717427\n",
      "15FOLD Training....val_RMSE : 9014.819633608759\n",
      "16FOLD Training....val_RMSE : 8792.936816476884\n",
      "17FOLD Training....val_RMSE : 9228.731363571842\n",
      "18FOLD Training....val_RMSE : 8833.910935562773\n",
      "19FOLD Training....val_RMSE : 9142.293384685674\n",
      "20FOLD Training....val_RMSE : 8705.097317365044\n"
     ]
    }
   ],
   "source": [
    "rmse_list = []\n",
    "cb_pred = np.zeros((target.shape[0]))\n",
    "i = 0\n",
    "for tr_idx, val_idx in kf.split(X, y) :\n",
    "    i += 1\n",
    "    tr_x, tr_y = X.iloc[tr_idx], y.iloc[tr_idx]\n",
    "    val_x, val_y = X.iloc[val_idx], y.iloc[val_idx]\n",
    "    \n",
    "    cb.fit(tr_x, tr_y, eval_set = [(tr_x, tr_y), (val_x, val_y)], silent = True)\n",
    "    pred = [0 if x < 0 else x for x in cb.predict(val_x)]\n",
    "    sub_pred = np.expm1([0 if x < 0 else x for x in cb.predict(target)]) / 20\n",
    "    rmse = np.sqrt(mean_squared_error(np.expm1(val_y), np.expm1(pred)))\n",
    "    print(f'{i}FOLD Training....val_RMSE : {rmse}')\n",
    "    rmse_list.append(rmse)\n",
    "    cb_pred += sub_pred"
   ]
  },
  {
   "cell_type": "markdown",
   "metadata": {},
   "source": [
    "# Submission"
   ]
  },
  {
   "cell_type": "code",
   "execution_count": 45,
   "metadata": {},
   "outputs": [],
   "source": [
    "submission['transaction_real_price'] = lgbm_pred# * .5 + xgb_pred  * .25 + cb_pred * .25"
   ]
  },
  {
   "cell_type": "code",
   "execution_count": 46,
   "metadata": {},
   "outputs": [],
   "source": [
    "submission.to_csv('0523.csv', index = False)"
   ]
  },
  {
   "cell_type": "code",
   "execution_count": 47,
   "metadata": {},
   "outputs": [
    {
     "data": {
      "text/plain": [
       "array([26406.23523887, 15760.69432933, 11796.70560867, ...,\n",
       "       60536.97592734, 42734.10626386, 17822.53048972])"
      ]
     },
     "execution_count": 47,
     "metadata": {},
     "output_type": "execute_result"
    }
   ],
   "source": [
    "lgbm_pred"
   ]
  },
  {
   "cell_type": "markdown",
   "metadata": {},
   "source": [
    "lgbm = 5,442.02675"
   ]
  }
 ],
 "metadata": {
  "kernelspec": {
   "display_name": "Python 3",
   "language": "python",
   "name": "python3"
  },
  "language_info": {
   "codemirror_mode": {
    "name": "ipython",
    "version": 3
   },
   "file_extension": ".py",
   "mimetype": "text/x-python",
   "name": "python",
   "nbconvert_exporter": "python",
   "pygments_lexer": "ipython3",
   "version": "3.8.5"
  }
 },
 "nbformat": 4,
 "nbformat_minor": 4
}
