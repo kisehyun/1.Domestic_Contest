{
 "cells": [
  {
   "cell_type": "markdown",
   "metadata": {},
   "source": [
    "# DACON \n",
    "\n",
    "## [문화] 영화 관객수 예측 모델 개발\n",
    "\n",
    "****"
   ]
  },
  {
   "cell_type": "markdown",
   "metadata": {},
   "source": [
    "## 1. 패키지 불러오기"
   ]
  },
  {
   "cell_type": "code",
   "execution_count": 939,
   "metadata": {},
   "outputs": [],
   "source": [
    "# Wrangling Package\n",
    "import pandas as pd\n",
    "import numpy as np\n",
    "from scipy.stats import skew\n",
    "import datetime\n",
    "\n",
    "# EDA Package\n",
    "import seaborn as sns\n",
    "import matplotlib.pyplot as plt # to plot graph\n",
    "# 한글 그래픽 처리\n",
    "from matplotlib import rc\n",
    "rc('font', family='malgun gothic')\n",
    "rc('axes', unicode_minus=False)\n",
    "%matplotlib inline\n",
    "\n",
    "\n",
    "# Setting Package\n",
    "import warnings\n",
    "warnings.filterwarnings('ignore')\n",
    "\n",
    "# Modeling Package\n",
    "from bayes_opt import BayesianOptimization\n",
    "from sklearn.model_selection import *\n",
    "from sklearn.preprocessing import *\n",
    "from sklearn.metrics import mean_squared_error\n",
    "from sklearn.ensemble import RandomForestRegressor, GradientBoostingRegressor, AdaBoostRegressor, VotingRegressor\n",
    "from xgboost import XGBRegressor\n",
    "from lightgbm import LGBMRegressor\n",
    "from mlxtend.regressor import StackingCVRegressor\n",
    "from ngboost import NGBRegressor\n",
    "from catboost import CatBoostRegressor"
   ]
  },
  {
   "cell_type": "markdown",
   "metadata": {},
   "source": [
    "****\n",
    "\n",
    "## 2. 데이터 불러오기"
   ]
  },
  {
   "cell_type": "code",
   "execution_count": 940,
   "metadata": {},
   "outputs": [],
   "source": [
    "train = pd.read_csv(\"movies_train.csv\") # trainain\n",
    "test = pd.read_csv(\"movies_test.csv\") # test\n",
    "submission = pd.read_csv('submission.csv') # submission"
   ]
  },
  {
   "cell_type": "code",
   "execution_count": 941,
   "metadata": {
    "scrolled": false
   },
   "outputs": [
    {
     "data": {
      "text/html": [
       "<div>\n",
       "<style scoped>\n",
       "    .dataframe tbody tr th:only-of-type {\n",
       "        vertical-align: middle;\n",
       "    }\n",
       "\n",
       "    .dataframe tbody tr th {\n",
       "        vertical-align: top;\n",
       "    }\n",
       "\n",
       "    .dataframe thead th {\n",
       "        text-align: right;\n",
       "    }\n",
       "</style>\n",
       "<table border=\"1\" class=\"dataframe\">\n",
       "  <thead>\n",
       "    <tr style=\"text-align: right;\">\n",
       "      <th></th>\n",
       "      <th>title</th>\n",
       "      <th>distributor</th>\n",
       "      <th>genre</th>\n",
       "      <th>release_time</th>\n",
       "      <th>time</th>\n",
       "      <th>screening_rat</th>\n",
       "      <th>director</th>\n",
       "      <th>dir_prev_bfnum</th>\n",
       "      <th>dir_prev_num</th>\n",
       "      <th>num_staff</th>\n",
       "      <th>num_actor</th>\n",
       "      <th>box_off_num</th>\n",
       "    </tr>\n",
       "  </thead>\n",
       "  <tbody>\n",
       "    <tr>\n",
       "      <th>0</th>\n",
       "      <td>개들의 전쟁</td>\n",
       "      <td>롯데엔터테인먼트</td>\n",
       "      <td>액션</td>\n",
       "      <td>2012-11-22</td>\n",
       "      <td>96</td>\n",
       "      <td>청소년 관람불가</td>\n",
       "      <td>조병옥</td>\n",
       "      <td>NaN</td>\n",
       "      <td>0</td>\n",
       "      <td>91</td>\n",
       "      <td>2</td>\n",
       "      <td>23398</td>\n",
       "    </tr>\n",
       "    <tr>\n",
       "      <th>1</th>\n",
       "      <td>내부자들</td>\n",
       "      <td>(주)쇼박스</td>\n",
       "      <td>느와르</td>\n",
       "      <td>2015-11-19</td>\n",
       "      <td>130</td>\n",
       "      <td>청소년 관람불가</td>\n",
       "      <td>우민호</td>\n",
       "      <td>1161602.5</td>\n",
       "      <td>2</td>\n",
       "      <td>387</td>\n",
       "      <td>3</td>\n",
       "      <td>7072501</td>\n",
       "    </tr>\n",
       "  </tbody>\n",
       "</table>\n",
       "</div>"
      ],
      "text/plain": [
       "    title distributor genre release_time  time screening_rat director  \\\n",
       "0  개들의 전쟁    롯데엔터테인먼트    액션   2012-11-22    96      청소년 관람불가      조병옥   \n",
       "1    내부자들      (주)쇼박스   느와르   2015-11-19   130      청소년 관람불가      우민호   \n",
       "\n",
       "   dir_prev_bfnum  dir_prev_num  num_staff  num_actor  box_off_num  \n",
       "0             NaN             0         91          2        23398  \n",
       "1       1161602.5             2        387          3      7072501  "
      ]
     },
     "execution_count": 941,
     "metadata": {},
     "output_type": "execute_result"
    }
   ],
   "source": [
    "train.head(2)"
   ]
  },
  {
   "cell_type": "code",
   "execution_count": 942,
   "metadata": {
    "scrolled": false
   },
   "outputs": [
    {
     "name": "stdout",
     "output_type": "stream",
     "text": [
      "<class 'pandas.core.frame.DataFrame'>\n",
      "RangeIndex: 600 entries, 0 to 599\n",
      "Data columns (total 12 columns):\n",
      " #   Column          Non-Null Count  Dtype  \n",
      "---  ------          --------------  -----  \n",
      " 0   title           600 non-null    object \n",
      " 1   distributor     600 non-null    object \n",
      " 2   genre           600 non-null    object \n",
      " 3   release_time    600 non-null    object \n",
      " 4   time            600 non-null    int64  \n",
      " 5   screening_rat   600 non-null    object \n",
      " 6   director        600 non-null    object \n",
      " 7   dir_prev_bfnum  270 non-null    float64\n",
      " 8   dir_prev_num    600 non-null    int64  \n",
      " 9   num_staff       600 non-null    int64  \n",
      " 10  num_actor       600 non-null    int64  \n",
      " 11  box_off_num     600 non-null    int64  \n",
      "dtypes: float64(1), int64(5), object(6)\n",
      "memory usage: 56.4+ KB\n"
     ]
    }
   ],
   "source": [
    "train.info()"
   ]
  },
  {
   "cell_type": "code",
   "execution_count": 943,
   "metadata": {},
   "outputs": [
    {
     "data": {
      "text/html": [
       "<div>\n",
       "<style scoped>\n",
       "    .dataframe tbody tr th:only-of-type {\n",
       "        vertical-align: middle;\n",
       "    }\n",
       "\n",
       "    .dataframe tbody tr th {\n",
       "        vertical-align: top;\n",
       "    }\n",
       "\n",
       "    .dataframe thead th {\n",
       "        text-align: right;\n",
       "    }\n",
       "</style>\n",
       "<table border=\"1\" class=\"dataframe\">\n",
       "  <thead>\n",
       "    <tr style=\"text-align: right;\">\n",
       "      <th></th>\n",
       "      <th>title</th>\n",
       "      <th>distributor</th>\n",
       "      <th>genre</th>\n",
       "      <th>release_time</th>\n",
       "      <th>time</th>\n",
       "      <th>screening_rat</th>\n",
       "      <th>director</th>\n",
       "      <th>dir_prev_bfnum</th>\n",
       "      <th>dir_prev_num</th>\n",
       "      <th>num_staff</th>\n",
       "      <th>num_actor</th>\n",
       "    </tr>\n",
       "  </thead>\n",
       "  <tbody>\n",
       "    <tr>\n",
       "      <th>0</th>\n",
       "      <td>용서는 없다</td>\n",
       "      <td>시네마서비스</td>\n",
       "      <td>느와르</td>\n",
       "      <td>2010-01-07</td>\n",
       "      <td>125</td>\n",
       "      <td>청소년 관람불가</td>\n",
       "      <td>김형준</td>\n",
       "      <td>300529.00</td>\n",
       "      <td>2</td>\n",
       "      <td>304</td>\n",
       "      <td>3</td>\n",
       "    </tr>\n",
       "    <tr>\n",
       "      <th>1</th>\n",
       "      <td>아빠가 여자를 좋아해</td>\n",
       "      <td>(주)쇼박스</td>\n",
       "      <td>멜로/로맨스</td>\n",
       "      <td>2010-01-14</td>\n",
       "      <td>113</td>\n",
       "      <td>12세 관람가</td>\n",
       "      <td>이광재</td>\n",
       "      <td>342700.25</td>\n",
       "      <td>4</td>\n",
       "      <td>275</td>\n",
       "      <td>3</td>\n",
       "    </tr>\n",
       "  </tbody>\n",
       "</table>\n",
       "</div>"
      ],
      "text/plain": [
       "         title distributor   genre release_time  time screening_rat director  \\\n",
       "0       용서는 없다      시네마서비스     느와르   2010-01-07   125      청소년 관람불가      김형준   \n",
       "1  아빠가 여자를 좋아해      (주)쇼박스  멜로/로맨스   2010-01-14   113       12세 관람가      이광재   \n",
       "\n",
       "   dir_prev_bfnum  dir_prev_num  num_staff  num_actor  \n",
       "0       300529.00             2        304          3  \n",
       "1       342700.25             4        275          3  "
      ]
     },
     "execution_count": 943,
     "metadata": {},
     "output_type": "execute_result"
    }
   ],
   "source": [
    "test.head(2)"
   ]
  },
  {
   "cell_type": "code",
   "execution_count": 944,
   "metadata": {
    "scrolled": true
   },
   "outputs": [
    {
     "name": "stdout",
     "output_type": "stream",
     "text": [
      "<class 'pandas.core.frame.DataFrame'>\n",
      "RangeIndex: 243 entries, 0 to 242\n",
      "Data columns (total 11 columns):\n",
      " #   Column          Non-Null Count  Dtype  \n",
      "---  ------          --------------  -----  \n",
      " 0   title           243 non-null    object \n",
      " 1   distributor     243 non-null    object \n",
      " 2   genre           243 non-null    object \n",
      " 3   release_time    243 non-null    object \n",
      " 4   time            243 non-null    int64  \n",
      " 5   screening_rat   243 non-null    object \n",
      " 6   director        243 non-null    object \n",
      " 7   dir_prev_bfnum  107 non-null    float64\n",
      " 8   dir_prev_num    243 non-null    int64  \n",
      " 9   num_staff       243 non-null    int64  \n",
      " 10  num_actor       243 non-null    int64  \n",
      "dtypes: float64(1), int64(4), object(6)\n",
      "memory usage: 21.0+ KB\n"
     ]
    }
   ],
   "source": [
    "test.info()"
   ]
  },
  {
   "cell_type": "markdown",
   "metadata": {},
   "source": [
    "****\n",
    "\n",
    "## 3. 기본 전처리\n",
    "\n",
    "'dir_prev_bfnum' 컬럼은 결측치가 많이 존재해 컬럼 자체를 삭제"
   ]
  },
  {
   "cell_type": "code",
   "execution_count": 945,
   "metadata": {},
   "outputs": [],
   "source": [
    "train.drop('dir_prev_bfnum', axis = 1, inplace = True)\n",
    "test.drop('dir_prev_bfnum', axis = 1, inplace = True)"
   ]
  },
  {
   "cell_type": "markdown",
   "metadata": {},
   "source": [
    "배급사를 의미하는 distribuotr 컬럼으로 '배급사파워' 변수 생성"
   ]
  },
  {
   "cell_type": "code",
   "execution_count": 946,
   "metadata": {},
   "outputs": [],
   "source": [
    "def dis_power(x):\n",
    "    if '프리비젼' in x :\n",
    "        return '프리비젼'\n",
    "    elif '타임스토리' in x :\n",
    "        return '타임스토리'\n",
    "    elif x == '와이드 릴리즈(주)' :\n",
    "        return '와이드릴리즈(주)'\n",
    "    elif '싸이더스' in x :\n",
    "        return '싸이더스'\n",
    "    elif x == '시네마 달' :\n",
    "        return '시네마달'\n",
    "    elif '스폰지' in x :\n",
    "        return '스폰지'\n",
    "    elif '메가박스' in x :\n",
    "        return '메가박스'\n",
    "    elif '마운틴' in x :\n",
    "        return '마운틴'\n",
    "    elif '리틀빅' in x :\n",
    "        return '리틀빅픽쳐스'\n",
    "    elif '롯데' in x :\n",
    "        return '롯데'\n",
    "    elif 'SK' in x :\n",
    "        return 'SK'\n",
    "    elif ('CGV' in x) or ('CJ' in x) :\n",
    "        return 'CJ'\n",
    "    elif '에이원' in x :\n",
    "        return '에이원'\n",
    "    elif '마인스' in x :\n",
    "        return '마인스'\n",
    "    elif '디씨드' in x :\n",
    "        return '디씨드'\n",
    "    elif '드림팩트' in x :\n",
    "        return '드림팩트'\n",
    "    elif 'KT' in x :\n",
    "        return 'KT'\n",
    "    elif '쇼박스' in x :\n",
    "        return '쇼박스'\n",
    "    else :\n",
    "        return x"
   ]
  },
  {
   "cell_type": "code",
   "execution_count": 947,
   "metadata": {},
   "outputs": [],
   "source": [
    "train['distributor'] = train['distributor'].apply(dis_power)\n",
    "test['distributor'] = test['distributor'].apply(dis_power)"
   ]
  },
  {
   "cell_type": "code",
   "execution_count": 948,
   "metadata": {},
   "outputs": [],
   "source": [
    "dis_rank = train.groupby('distributor').box_off_num.mean().reset_index(name = '배급사평균관객').sort_values(by = '배급사평균관객', ascending = False)"
   ]
  },
  {
   "cell_type": "code",
   "execution_count": 949,
   "metadata": {},
   "outputs": [],
   "source": [
    "dis_rank['배급사파워'] = pd.qcut(dis_rank.배급사평균관객, 10, labels = False)"
   ]
  },
  {
   "cell_type": "code",
   "execution_count": 950,
   "metadata": {
    "scrolled": true
   },
   "outputs": [
    {
     "data": {
      "text/html": [
       "<div>\n",
       "<style scoped>\n",
       "    .dataframe tbody tr th:only-of-type {\n",
       "        vertical-align: middle;\n",
       "    }\n",
       "\n",
       "    .dataframe tbody tr th {\n",
       "        vertical-align: top;\n",
       "    }\n",
       "\n",
       "    .dataframe thead th {\n",
       "        text-align: right;\n",
       "    }\n",
       "</style>\n",
       "<table border=\"1\" class=\"dataframe\">\n",
       "  <thead>\n",
       "    <tr style=\"text-align: right;\">\n",
       "      <th></th>\n",
       "      <th>distributor</th>\n",
       "      <th>배급사평균관객</th>\n",
       "      <th>배급사파워</th>\n",
       "    </tr>\n",
       "  </thead>\n",
       "  <tbody>\n",
       "    <tr>\n",
       "      <th>147</th>\n",
       "      <td>화앤담이엔티</td>\n",
       "      <td>172196.5</td>\n",
       "      <td>8</td>\n",
       "    </tr>\n",
       "    <tr>\n",
       "      <th>84</th>\n",
       "      <td>스튜디오 블루</td>\n",
       "      <td>771699.0</td>\n",
       "      <td>9</td>\n",
       "    </tr>\n",
       "    <tr>\n",
       "      <th>95</th>\n",
       "      <td>어뮤즈</td>\n",
       "      <td>5581.2</td>\n",
       "      <td>5</td>\n",
       "    </tr>\n",
       "    <tr>\n",
       "      <th>87</th>\n",
       "      <td>시너지</td>\n",
       "      <td>456663.6</td>\n",
       "      <td>8</td>\n",
       "    </tr>\n",
       "    <tr>\n",
       "      <th>146</th>\n",
       "      <td>홀리가든</td>\n",
       "      <td>1721.5</td>\n",
       "      <td>3</td>\n",
       "    </tr>\n",
       "  </tbody>\n",
       "</table>\n",
       "</div>"
      ],
      "text/plain": [
       "    distributor   배급사평균관객  배급사파워\n",
       "147      화앤담이엔티  172196.5      8\n",
       "84      스튜디오 블루  771699.0      9\n",
       "95          어뮤즈    5581.2      5\n",
       "87          시너지  456663.6      8\n",
       "146        홀리가든    1721.5      3"
      ]
     },
     "execution_count": 950,
     "metadata": {},
     "output_type": "execute_result"
    }
   ],
   "source": [
    "dis_rank.sample(5)"
   ]
  },
  {
   "cell_type": "code",
   "execution_count": 951,
   "metadata": {},
   "outputs": [],
   "source": [
    "train = pd.merge(train, dis_rank.iloc[:, [0,2]], how = 'left', on = 'distributor')\n",
    "test = pd.merge(test, dis_rank.iloc[:, [0,2]], how = 'left', on = 'distributor').fillna(0)"
   ]
  },
  {
   "cell_type": "markdown",
   "metadata": {},
   "source": [
    "****\n",
    "\n",
    "## 4. 기본 모델 성능 확인\n",
    "\n",
    "### 1) Numeric Columns + dummies columns(genre, screening_rat)"
   ]
  },
  {
   "cell_type": "code",
   "execution_count": 185,
   "metadata": {},
   "outputs": [],
   "source": [
    "X = train[['genre', 'dir_prev_num', 'num_staff', 'num_actor', 'screening_rat', 'time','배급사파워']]"
   ]
  },
  {
   "cell_type": "code",
   "execution_count": 186,
   "metadata": {},
   "outputs": [],
   "source": [
    "X = pd.get_dummies(columns = ['genre', 'screening_rat'], data = X)"
   ]
  },
  {
   "cell_type": "code",
   "execution_count": 187,
   "metadata": {},
   "outputs": [],
   "source": [
    "y = np.log1p(train.box_off_num)"
   ]
  },
  {
   "cell_type": "code",
   "execution_count": 188,
   "metadata": {},
   "outputs": [],
   "source": [
    "target = test[['genre', 'dir_prev_num', 'num_staff', 'num_actor', 'screening_rat', 'time','배급사파워']]\n",
    "target = pd.get_dummies(columns = ['genre', 'screening_rat'], data = target)"
   ]
  },
  {
   "cell_type": "markdown",
   "metadata": {},
   "source": [
    "RMSE = 1365898.4317376306\t\n",
    "****\n",
    "\n",
    "### 2) 1번 + scaling"
   ]
  },
  {
   "cell_type": "code",
   "execution_count": 258,
   "metadata": {},
   "outputs": [],
   "source": [
    "X = train[['genre', 'dir_prev_num', 'num_staff', 'num_actor', 'screening_rat', 'time','배급사파워']]"
   ]
  },
  {
   "cell_type": "code",
   "execution_count": 259,
   "metadata": {},
   "outputs": [],
   "source": [
    "X = pd.get_dummies(columns = ['genre', 'screening_rat'], data = X)"
   ]
  },
  {
   "cell_type": "code",
   "execution_count": 260,
   "metadata": {},
   "outputs": [],
   "source": [
    "scaler = StandardScaler()"
   ]
  },
  {
   "cell_type": "code",
   "execution_count": 261,
   "metadata": {},
   "outputs": [],
   "source": [
    "X = pd.DataFrame(scaler.fit_transform(X), columns = X.columns)"
   ]
  },
  {
   "cell_type": "code",
   "execution_count": 263,
   "metadata": {},
   "outputs": [],
   "source": [
    "target = test[['dir_prev_num', 'num_staff', 'num_actor', 'time','배급사파워']]\n",
    "target = pd.concat([target, pd.get_dummies(columns = ['genre', 'screening_rat'], data = test[['genre','screening_rat']])], axis = 1)\n",
    "target = pd.DataFrame(scaler.transform(target), columns = target.columns)"
   ]
  },
  {
   "cell_type": "markdown",
   "metadata": {},
   "source": [
    "MinMax = GBM이 1372060.0419581125로 최곻\n",
    "****"
   ]
  },
  {
   "cell_type": "markdown",
   "metadata": {},
   "source": [
    "### 3) 로그 변환"
   ]
  },
  {
   "cell_type": "code",
   "execution_count": 348,
   "metadata": {},
   "outputs": [],
   "source": [
    "X = train[['genre', 'dir_prev_num', 'num_staff', 'num_actor', 'screening_rat', 'time','배급사파워']]"
   ]
  },
  {
   "cell_type": "code",
   "execution_count": 349,
   "metadata": {},
   "outputs": [],
   "source": [
    "X = pd.get_dummies(columns = ['genre', 'screening_rat'], data = X)"
   ]
  },
  {
   "cell_type": "code",
   "execution_count": 350,
   "metadata": {},
   "outputs": [],
   "source": [
    "X[['dir_prev_num', 'num_actor']] = np.log1p(X[['dir_prev_num', 'num_actor']])"
   ]
  },
  {
   "cell_type": "code",
   "execution_count": 351,
   "metadata": {},
   "outputs": [],
   "source": [
    "y = np.log1p(train.box_off_num)"
   ]
  },
  {
   "cell_type": "code",
   "execution_count": 352,
   "metadata": {},
   "outputs": [],
   "source": [
    "target = test[['dir_prev_num', 'num_staff', 'num_actor', 'time','배급사파워']]\n",
    "target = pd.concat([target, pd.get_dummies(columns = ['genre', 'screening_rat'], data = test[['genre','screening_rat']])], axis = 1)\n",
    "target[['dir_prev_num', 'num_actor']] = np.log1p(target[['dir_prev_num', 'num_actor']])"
   ]
  },
  {
   "cell_type": "markdown",
   "metadata": {},
   "source": [
    "****\n",
    "### 4) 로그변환 + scaling"
   ]
  },
  {
   "cell_type": "code",
   "execution_count": 953,
   "metadata": {},
   "outputs": [],
   "source": [
    "X = train[['genre', 'dir_prev_num', 'num_staff', 'num_actor', 'screening_rat', 'time','배급사파워']]\n",
    "X = pd.get_dummies(columns = ['genre', 'screening_rat'], data = X)\n",
    "X[['dir_prev_num', 'num_actor']] = np.log1p(X[['dir_prev_num', 'num_actor']])"
   ]
  },
  {
   "cell_type": "code",
   "execution_count": 954,
   "metadata": {},
   "outputs": [],
   "source": [
    "scaler = RobustScaler()"
   ]
  },
  {
   "cell_type": "code",
   "execution_count": 955,
   "metadata": {},
   "outputs": [],
   "source": [
    "X = pd.DataFrame(scaler.fit_transform(X), columns = X.columns)"
   ]
  },
  {
   "cell_type": "code",
   "execution_count": 956,
   "metadata": {},
   "outputs": [],
   "source": [
    "target = test[['dir_prev_num', 'num_staff', 'num_actor', 'time','배급사파워']]\n",
    "target = pd.concat([target, pd.get_dummies(columns = ['genre', 'screening_rat'], data = test[['genre','screening_rat']])], axis = 1)\n",
    "target[['dir_prev_num', 'num_actor']] = np.log1p(target[['dir_prev_num', 'num_actor']])\n",
    "target = pd.DataFrame(scaler.transform(target), columns = target.columns)"
   ]
  },
  {
   "cell_type": "markdown",
   "metadata": {},
   "source": [
    "### BayesOpt"
   ]
  },
  {
   "cell_type": "code",
   "execution_count": 957,
   "metadata": {},
   "outputs": [],
   "source": [
    "# 하이퍼 파라미터 범위\n",
    "\n",
    "pbounds = { 'n_estimators': (8,512),\n",
    "            'max_depth': (3,10), # 나무의 범위를 넓게 주었기에 과적합을 막고자 깊이를 10이상으론 올라가지 않도록 하였다\n",
    "            'max_features': (0.5,1),\n",
    "            'min_samples_leaf': (1, 10)}\n",
    "\n",
    "def rf_opt(n_estimators, max_depth, max_features, min_samples_leaf):\n",
    "    \n",
    "    params = {\n",
    "        'n_estimators' : int(round(n_estimators)),\n",
    "        'max_depth' : int(round(max_depth)),\n",
    "        'min_samples_leaf' : int(round(min_samples_leaf))\n",
    "    }\n",
    "\n",
    "    rf = RandomForestRegressor(**params, n_jobs=-1, random_state=50)\n",
    "    \n",
    "    kf = KFold(n_splits = 10 , shuffle = True, random_state=50)\n",
    "    \n",
    "    score = cross_val_score(rf, X, y, scoring='neg_mean_absolute_error', cv=kf, n_jobs=-1)\n",
    "    \n",
    "    return np.mean(score)\n",
    "\n",
    "BO_rf = BayesianOptimization(f = rf_opt, pbounds = pbounds, random_state=0)"
   ]
  },
  {
   "cell_type": "code",
   "execution_count": 958,
   "metadata": {
    "scrolled": true
   },
   "outputs": [
    {
     "name": "stdout",
     "output_type": "stream",
     "text": [
      "|   iter    |  target   | max_depth | max_fe... | min_sa... | n_esti... |\n",
      "-------------------------------------------------------------------------\n",
      "| \u001b[0m 1       \u001b[0m | \u001b[0m-1.208   \u001b[0m | \u001b[0m 6.842   \u001b[0m | \u001b[0m 0.8576  \u001b[0m | \u001b[0m 6.425   \u001b[0m | \u001b[0m 282.6   \u001b[0m |\n",
      "| \u001b[0m 2       \u001b[0m | \u001b[0m-1.211   \u001b[0m | \u001b[0m 5.966   \u001b[0m | \u001b[0m 0.8229  \u001b[0m | \u001b[0m 4.938   \u001b[0m | \u001b[0m 457.5   \u001b[0m |\n",
      "| \u001b[95m 3       \u001b[0m | \u001b[95m-1.203   \u001b[0m | \u001b[95m 9.746   \u001b[0m | \u001b[95m 0.6917  \u001b[0m | \u001b[95m 8.126   \u001b[0m | \u001b[95m 274.6   \u001b[0m |\n",
      "| \u001b[0m 4       \u001b[0m | \u001b[0m-1.211   \u001b[0m | \u001b[0m 6.976   \u001b[0m | \u001b[0m 0.9628  \u001b[0m | \u001b[0m 1.639   \u001b[0m | \u001b[0m 51.91   \u001b[0m |\n",
      "| \u001b[0m 5       \u001b[0m | \u001b[0m-1.228   \u001b[0m | \u001b[0m 3.142   \u001b[0m | \u001b[0m 0.9163  \u001b[0m | \u001b[0m 8.003   \u001b[0m | \u001b[0m 446.5   \u001b[0m |\n",
      "| \u001b[0m 6       \u001b[0m | \u001b[0m-1.209   \u001b[0m | \u001b[0m 9.85    \u001b[0m | \u001b[0m 0.8996  \u001b[0m | \u001b[0m 5.153   \u001b[0m | \u001b[0m 401.4   \u001b[0m |\n",
      "| \u001b[0m 7       \u001b[0m | \u001b[0m-1.217   \u001b[0m | \u001b[0m 3.828   \u001b[0m | \u001b[0m 0.82    \u001b[0m | \u001b[0m 2.29    \u001b[0m | \u001b[0m 484.1   \u001b[0m |\n",
      "| \u001b[0m 8       \u001b[0m | \u001b[0m-1.208   \u001b[0m | \u001b[0m 6.653   \u001b[0m | \u001b[0m 0.7073  \u001b[0m | \u001b[0m 3.381   \u001b[0m | \u001b[0m 398.2   \u001b[0m |\n",
      "| \u001b[0m 9       \u001b[0m | \u001b[0m-1.214   \u001b[0m | \u001b[0m 6.193   \u001b[0m | \u001b[0m 0.7842  \u001b[0m | \u001b[0m 1.169   \u001b[0m | \u001b[0m 319.3   \u001b[0m |\n",
      "| \u001b[0m 10      \u001b[0m | \u001b[0m-1.203   \u001b[0m | \u001b[0m 7.285   \u001b[0m | \u001b[0m 0.8085  \u001b[0m | \u001b[0m 9.494   \u001b[0m | \u001b[0m 351.6   \u001b[0m |\n",
      "| \u001b[0m 11      \u001b[0m | \u001b[0m-1.218   \u001b[0m | \u001b[0m 5.517   \u001b[0m | \u001b[0m 0.7185  \u001b[0m | \u001b[0m 7.279   \u001b[0m | \u001b[0m 38.35   \u001b[0m |\n",
      "| \u001b[0m 12      \u001b[0m | \u001b[0m-1.212   \u001b[0m | \u001b[0m 7.667   \u001b[0m | \u001b[0m 0.8353  \u001b[0m | \u001b[0m 2.893   \u001b[0m | \u001b[0m 72.98   \u001b[0m |\n",
      "| \u001b[0m 13      \u001b[0m | \u001b[0m-1.214   \u001b[0m | \u001b[0m 5.208   \u001b[0m | \u001b[0m 0.6819  \u001b[0m | \u001b[0m 6.132   \u001b[0m | \u001b[0m 229.1   \u001b[0m |\n",
      "| \u001b[0m 14      \u001b[0m | \u001b[0m-1.209   \u001b[0m | \u001b[0m 9.919   \u001b[0m | \u001b[0m 0.551   \u001b[0m | \u001b[0m 2.88    \u001b[0m | \u001b[0m 89.3    \u001b[0m |\n",
      "| \u001b[0m 15      \u001b[0m | \u001b[0m-1.212   \u001b[0m | \u001b[0m 7.572   \u001b[0m | \u001b[0m 0.6266  \u001b[0m | \u001b[0m 5.197   \u001b[0m | \u001b[0m 131.2   \u001b[0m |\n",
      "| \u001b[0m 16      \u001b[0m | \u001b[0m-1.22    \u001b[0m | \u001b[0m 4.113   \u001b[0m | \u001b[0m 0.5552  \u001b[0m | \u001b[0m 6.907   \u001b[0m | \u001b[0m 77.64   \u001b[0m |\n",
      "| \u001b[0m 17      \u001b[0m | \u001b[0m-1.216   \u001b[0m | \u001b[0m 4.376   \u001b[0m | \u001b[0m 0.6844  \u001b[0m | \u001b[0m 8.389   \u001b[0m | \u001b[0m 56.94   \u001b[0m |\n",
      "| \u001b[0m 18      \u001b[0m | \u001b[0m-1.213   \u001b[0m | \u001b[0m 8.866   \u001b[0m | \u001b[0m 0.548   \u001b[0m | \u001b[0m 9.788   \u001b[0m | \u001b[0m 244.2   \u001b[0m |\n",
      "| \u001b[0m 19      \u001b[0m | \u001b[0m-1.213   \u001b[0m | \u001b[0m 9.837   \u001b[0m | \u001b[0m 0.8024  \u001b[0m | \u001b[0m 7.653   \u001b[0m | \u001b[0m 27.75   \u001b[0m |\n",
      "| \u001b[0m 20      \u001b[0m | \u001b[0m-1.217   \u001b[0m | \u001b[0m 4.98    \u001b[0m | \u001b[0m 0.5601  \u001b[0m | \u001b[0m 3.665   \u001b[0m | \u001b[0m 67.84   \u001b[0m |\n",
      "| \u001b[0m 21      \u001b[0m | \u001b[0m-1.21    \u001b[0m | \u001b[0m 4.763   \u001b[0m | \u001b[0m 0.7308  \u001b[0m | \u001b[0m 7.195   \u001b[0m | \u001b[0m 274.2   \u001b[0m |\n",
      "| \u001b[0m 22      \u001b[0m | \u001b[0m-1.212   \u001b[0m | \u001b[0m 9.578   \u001b[0m | \u001b[0m 0.9911  \u001b[0m | \u001b[0m 9.741   \u001b[0m | \u001b[0m 278.6   \u001b[0m |\n",
      "| \u001b[0m 23      \u001b[0m | \u001b[0m-1.208   \u001b[0m | \u001b[0m 9.399   \u001b[0m | \u001b[0m 0.5235  \u001b[0m | \u001b[0m 5.854   \u001b[0m | \u001b[0m 272.9   \u001b[0m |\n",
      "| \u001b[0m 24      \u001b[0m | \u001b[0m-1.205   \u001b[0m | \u001b[0m 6.829   \u001b[0m | \u001b[0m 0.5473  \u001b[0m | \u001b[0m 6.899   \u001b[0m | \u001b[0m 352.8   \u001b[0m |\n",
      "| \u001b[0m 25      \u001b[0m | \u001b[0m-1.205   \u001b[0m | \u001b[0m 6.405   \u001b[0m | \u001b[0m 0.6948  \u001b[0m | \u001b[0m 8.261   \u001b[0m | \u001b[0m 348.7   \u001b[0m |\n",
      "| \u001b[0m 26      \u001b[0m | \u001b[0m-1.212   \u001b[0m | \u001b[0m 10.0    \u001b[0m | \u001b[0m 1.0     \u001b[0m | \u001b[0m 10.0    \u001b[0m | \u001b[0m 271.9   \u001b[0m |\n",
      "| \u001b[0m 27      \u001b[0m | \u001b[0m-1.212   \u001b[0m | \u001b[0m 3.819   \u001b[0m | \u001b[0m 0.5232  \u001b[0m | \u001b[0m 8.72    \u001b[0m | \u001b[0m 351.2   \u001b[0m |\n",
      "| \u001b[95m 28      \u001b[0m | \u001b[95m-1.202   \u001b[0m | \u001b[95m 8.562   \u001b[0m | \u001b[95m 0.8035  \u001b[0m | \u001b[95m 8.135   \u001b[0m | \u001b[95m 350.3   \u001b[0m |\n",
      "| \u001b[0m 29      \u001b[0m | \u001b[0m-1.205   \u001b[0m | \u001b[0m 9.696   \u001b[0m | \u001b[0m 0.9972  \u001b[0m | \u001b[0m 7.406   \u001b[0m | \u001b[0m 346.4   \u001b[0m |\n",
      "| \u001b[0m 30      \u001b[0m | \u001b[0m-1.203   \u001b[0m | \u001b[0m 9.442   \u001b[0m | \u001b[0m 0.5605  \u001b[0m | \u001b[0m 8.916   \u001b[0m | \u001b[0m 353.7   \u001b[0m |\n",
      "| \u001b[0m 31      \u001b[0m | \u001b[0m-1.207   \u001b[0m | \u001b[0m 10.0    \u001b[0m | \u001b[0m 0.528   \u001b[0m | \u001b[0m 3.568   \u001b[0m | \u001b[0m 350.0   \u001b[0m |\n",
      "| \u001b[0m 32      \u001b[0m | \u001b[0m-1.205   \u001b[0m | \u001b[0m 10.0    \u001b[0m | \u001b[0m 1.0     \u001b[0m | \u001b[0m 6.936   \u001b[0m | \u001b[0m 358.3   \u001b[0m |\n",
      "| \u001b[0m 33      \u001b[0m | \u001b[0m-1.21    \u001b[0m | \u001b[0m 7.144   \u001b[0m | \u001b[0m 0.9818  \u001b[0m | \u001b[0m 9.749   \u001b[0m | \u001b[0m 359.8   \u001b[0m |\n",
      "| \u001b[0m 34      \u001b[0m | \u001b[0m-1.209   \u001b[0m | \u001b[0m 10.0    \u001b[0m | \u001b[0m 1.0     \u001b[0m | \u001b[0m 2.446   \u001b[0m | \u001b[0m 356.5   \u001b[0m |\n",
      "| \u001b[0m 35      \u001b[0m | \u001b[0m-1.21    \u001b[0m | \u001b[0m 9.965   \u001b[0m | \u001b[0m 0.7228  \u001b[0m | \u001b[0m 3.664   \u001b[0m | \u001b[0m 277.5   \u001b[0m |\n",
      "| \u001b[0m 36      \u001b[0m | \u001b[0m-1.21    \u001b[0m | \u001b[0m 6.631   \u001b[0m | \u001b[0m 0.9835  \u001b[0m | \u001b[0m 9.827   \u001b[0m | \u001b[0m 342.8   \u001b[0m |\n",
      "| \u001b[0m 37      \u001b[0m | \u001b[0m-1.21    \u001b[0m | \u001b[0m 9.56    \u001b[0m | \u001b[0m 0.9674  \u001b[0m | \u001b[0m 9.929   \u001b[0m | \u001b[0m 350.5   \u001b[0m |\n",
      "| \u001b[0m 38      \u001b[0m | \u001b[0m-1.205   \u001b[0m | \u001b[0m 9.938   \u001b[0m | \u001b[0m 0.9809  \u001b[0m | \u001b[0m 6.863   \u001b[0m | \u001b[0m 352.8   \u001b[0m |\n",
      "| \u001b[0m 39      \u001b[0m | \u001b[0m-1.203   \u001b[0m | \u001b[0m 7.89    \u001b[0m | \u001b[0m 0.614   \u001b[0m | \u001b[0m 9.371   \u001b[0m | \u001b[0m 356.0   \u001b[0m |\n",
      "| \u001b[0m 40      \u001b[0m | \u001b[0m-1.208   \u001b[0m | \u001b[0m 7.136   \u001b[0m | \u001b[0m 0.9725  \u001b[0m | \u001b[0m 5.732   \u001b[0m | \u001b[0m 348.0   \u001b[0m |\n",
      "| \u001b[0m 41      \u001b[0m | \u001b[0m-1.205   \u001b[0m | \u001b[0m 8.776   \u001b[0m | \u001b[0m 0.9519  \u001b[0m | \u001b[0m 6.947   \u001b[0m | \u001b[0m 355.7   \u001b[0m |\n",
      "| \u001b[0m 42      \u001b[0m | \u001b[0m-1.202   \u001b[0m | \u001b[0m 9.823   \u001b[0m | \u001b[0m 0.6713  \u001b[0m | \u001b[0m 8.907   \u001b[0m | \u001b[0m 356.9   \u001b[0m |\n",
      "| \u001b[0m 43      \u001b[0m | \u001b[0m-1.208   \u001b[0m | \u001b[0m 10.0    \u001b[0m | \u001b[0m 1.0     \u001b[0m | \u001b[0m 3.277   \u001b[0m | \u001b[0m 363.0   \u001b[0m |\n",
      "| \u001b[0m 44      \u001b[0m | \u001b[0m-1.207   \u001b[0m | \u001b[0m 10.0    \u001b[0m | \u001b[0m 0.5     \u001b[0m | \u001b[0m 4.255   \u001b[0m | \u001b[0m 342.7   \u001b[0m |\n",
      "| \u001b[0m 45      \u001b[0m | \u001b[0m-1.212   \u001b[0m | \u001b[0m 9.958   \u001b[0m | \u001b[0m 0.5012  \u001b[0m | \u001b[0m 1.0     \u001b[0m | \u001b[0m 337.6   \u001b[0m |\n",
      "| \u001b[0m 46      \u001b[0m | \u001b[0m-1.238   \u001b[0m | \u001b[0m 3.0     \u001b[0m | \u001b[0m 0.5446  \u001b[0m | \u001b[0m 4.068   \u001b[0m | \u001b[0m 286.9   \u001b[0m |\n",
      "| \u001b[0m 47      \u001b[0m | \u001b[0m-1.235   \u001b[0m | \u001b[0m 3.423   \u001b[0m | \u001b[0m 0.7937  \u001b[0m | \u001b[0m 2.113   \u001b[0m | \u001b[0m 404.3   \u001b[0m |\n",
      "| \u001b[0m 48      \u001b[0m | \u001b[0m-1.206   \u001b[0m | \u001b[0m 10.0    \u001b[0m | \u001b[0m 0.7372  \u001b[0m | \u001b[0m 6.397   \u001b[0m | \u001b[0m 394.6   \u001b[0m |\n",
      "| \u001b[0m 49      \u001b[0m | \u001b[0m-1.213   \u001b[0m | \u001b[0m 10.0    \u001b[0m | \u001b[0m 1.0     \u001b[0m | \u001b[0m 1.0     \u001b[0m | \u001b[0m 393.6   \u001b[0m |\n",
      "| \u001b[0m 50      \u001b[0m | \u001b[0m-1.21    \u001b[0m | \u001b[0m 7.103   \u001b[0m | \u001b[0m 0.5     \u001b[0m | \u001b[0m 10.0    \u001b[0m | \u001b[0m 397.0   \u001b[0m |\n",
      "| \u001b[0m 51      \u001b[0m | \u001b[0m-1.21    \u001b[0m | \u001b[0m 9.994   \u001b[0m | \u001b[0m 0.5204  \u001b[0m | \u001b[0m 9.639   \u001b[0m | \u001b[0m 389.6   \u001b[0m |\n",
      "| \u001b[0m 52      \u001b[0m | \u001b[0m-1.218   \u001b[0m | \u001b[0m 3.552   \u001b[0m | \u001b[0m 0.7577  \u001b[0m | \u001b[0m 5.704   \u001b[0m | \u001b[0m 391.7   \u001b[0m |\n",
      "| \u001b[0m 53      \u001b[0m | \u001b[0m-1.207   \u001b[0m | \u001b[0m 8.582   \u001b[0m | \u001b[0m 0.8967  \u001b[0m | \u001b[0m 3.544   \u001b[0m | \u001b[0m 370.9   \u001b[0m |\n",
      "| \u001b[0m 54      \u001b[0m | \u001b[0m-1.22    \u001b[0m | \u001b[0m 4.149   \u001b[0m | \u001b[0m 0.5     \u001b[0m | \u001b[0m 1.0     \u001b[0m | \u001b[0m 367.8   \u001b[0m |\n",
      "| \u001b[0m 55      \u001b[0m | \u001b[0m-1.202   \u001b[0m | \u001b[0m 9.832   \u001b[0m | \u001b[0m 0.6522  \u001b[0m | \u001b[0m 8.291   \u001b[0m | \u001b[0m 372.1   \u001b[0m |\n",
      "| \u001b[0m 56      \u001b[0m | \u001b[0m-1.206   \u001b[0m | \u001b[0m 9.586   \u001b[0m | \u001b[0m 0.683   \u001b[0m | \u001b[0m 5.929   \u001b[0m | \u001b[0m 376.1   \u001b[0m |\n",
      "| \u001b[0m 57      \u001b[0m | \u001b[0m-1.206   \u001b[0m | \u001b[0m 5.597   \u001b[0m | \u001b[0m 0.6753  \u001b[0m | \u001b[0m 8.984   \u001b[0m | \u001b[0m 374.6   \u001b[0m |\n",
      "| \u001b[0m 58      \u001b[0m | \u001b[0m-1.203   \u001b[0m | \u001b[0m 10.0    \u001b[0m | \u001b[0m 0.5     \u001b[0m | \u001b[0m 9.156   \u001b[0m | \u001b[0m 367.7   \u001b[0m |\n",
      "| \u001b[0m 59      \u001b[0m | \u001b[0m-1.213   \u001b[0m | \u001b[0m 5.739   \u001b[0m | \u001b[0m 0.691   \u001b[0m | \u001b[0m 9.981   \u001b[0m | \u001b[0m 369.7   \u001b[0m |\n",
      "| \u001b[0m 60      \u001b[0m | \u001b[0m-1.211   \u001b[0m | \u001b[0m 6.596   \u001b[0m | \u001b[0m 0.6567  \u001b[0m | \u001b[0m 9.871   \u001b[0m | \u001b[0m 380.2   \u001b[0m |\n",
      "| \u001b[0m 61      \u001b[0m | \u001b[0m-1.217   \u001b[0m | \u001b[0m 3.828   \u001b[0m | \u001b[0m 0.7924  \u001b[0m | \u001b[0m 2.836   \u001b[0m | \u001b[0m 377.2   \u001b[0m |\n",
      "| \u001b[0m 62      \u001b[0m | \u001b[0m-1.211   \u001b[0m | \u001b[0m 8.202   \u001b[0m | \u001b[0m 0.8254  \u001b[0m | \u001b[0m 2.824   \u001b[0m | \u001b[0m 97.76   \u001b[0m |\n",
      "| \u001b[0m 63      \u001b[0m | \u001b[0m-1.221   \u001b[0m | \u001b[0m 3.86    \u001b[0m | \u001b[0m 0.8683  \u001b[0m | \u001b[0m 9.916   \u001b[0m | \u001b[0m 179.2   \u001b[0m |\n",
      "| \u001b[0m 64      \u001b[0m | \u001b[0m-1.22    \u001b[0m | \u001b[0m 5.336   \u001b[0m | \u001b[0m 0.5345  \u001b[0m | \u001b[0m 9.995   \u001b[0m | \u001b[0m 92.03   \u001b[0m |\n",
      "| \u001b[0m 65      \u001b[0m | \u001b[0m-1.205   \u001b[0m | \u001b[0m 9.503   \u001b[0m | \u001b[0m 0.6943  \u001b[0m | \u001b[0m 6.553   \u001b[0m | \u001b[0m 368.7   \u001b[0m |\n",
      "| \u001b[0m 66      \u001b[0m | \u001b[0m-1.213   \u001b[0m | \u001b[0m 8.821   \u001b[0m | \u001b[0m 0.8626  \u001b[0m | \u001b[0m 1.846   \u001b[0m | \u001b[0m 111.0   \u001b[0m |\n"
     ]
    },
    {
     "name": "stdout",
     "output_type": "stream",
     "text": [
      "| \u001b[0m 67      \u001b[0m | \u001b[0m-1.211   \u001b[0m | \u001b[0m 9.322   \u001b[0m | \u001b[0m 0.8819  \u001b[0m | \u001b[0m 9.869   \u001b[0m | \u001b[0m 375.9   \u001b[0m |\n",
      "| \u001b[0m 68      \u001b[0m | \u001b[0m-1.202   \u001b[0m | \u001b[0m 9.947   \u001b[0m | \u001b[0m 0.8735  \u001b[0m | \u001b[0m 9.227   \u001b[0m | \u001b[0m 511.7   \u001b[0m |\n",
      "| \u001b[0m 69      \u001b[0m | \u001b[0m-1.21    \u001b[0m | \u001b[0m 10.0    \u001b[0m | \u001b[0m 0.8741  \u001b[0m | \u001b[0m 9.535   \u001b[0m | \u001b[0m 507.4   \u001b[0m |\n",
      "| \u001b[0m 70      \u001b[0m | \u001b[0m-1.208   \u001b[0m | \u001b[0m 8.579   \u001b[0m | \u001b[0m 0.9015  \u001b[0m | \u001b[0m 4.584   \u001b[0m | \u001b[0m 511.6   \u001b[0m |\n",
      "| \u001b[0m 71      \u001b[0m | \u001b[0m-1.207   \u001b[0m | \u001b[0m 5.273   \u001b[0m | \u001b[0m 0.6932  \u001b[0m | \u001b[0m 9.161   \u001b[0m | \u001b[0m 511.5   \u001b[0m |\n",
      "| \u001b[0m 72      \u001b[0m | \u001b[0m-1.235   \u001b[0m | \u001b[0m 3.0     \u001b[0m | \u001b[0m 0.5932  \u001b[0m | \u001b[0m 2.555   \u001b[0m | \u001b[0m 506.4   \u001b[0m |\n",
      "| \u001b[0m 73      \u001b[0m | \u001b[0m-1.208   \u001b[0m | \u001b[0m 5.817   \u001b[0m | \u001b[0m 0.7857  \u001b[0m | \u001b[0m 1.196   \u001b[0m | \u001b[0m 204.9   \u001b[0m |\n",
      "| \u001b[0m 74      \u001b[0m | \u001b[0m-1.231   \u001b[0m | \u001b[0m 3.014   \u001b[0m | \u001b[0m 0.9155  \u001b[0m | \u001b[0m 8.088   \u001b[0m | \u001b[0m 204.5   \u001b[0m |\n",
      "| \u001b[0m 75      \u001b[0m | \u001b[0m-1.21    \u001b[0m | \u001b[0m 9.72    \u001b[0m | \u001b[0m 0.5616  \u001b[0m | \u001b[0m 1.218   \u001b[0m | \u001b[0m 211.0   \u001b[0m |\n",
      "| \u001b[0m 76      \u001b[0m | \u001b[0m-1.209   \u001b[0m | \u001b[0m 9.275   \u001b[0m | \u001b[0m 0.7168  \u001b[0m | \u001b[0m 1.09    \u001b[0m | \u001b[0m 196.5   \u001b[0m |\n",
      "| \u001b[0m 77      \u001b[0m | \u001b[0m-1.203   \u001b[0m | \u001b[0m 9.772   \u001b[0m | \u001b[0m 0.8587  \u001b[0m | \u001b[0m 9.354   \u001b[0m | \u001b[0m 466.9   \u001b[0m |\n",
      "| \u001b[0m 78      \u001b[0m | \u001b[0m-1.207   \u001b[0m | \u001b[0m 4.801   \u001b[0m | \u001b[0m 0.8138  \u001b[0m | \u001b[0m 9.03    \u001b[0m | \u001b[0m 467.1   \u001b[0m |\n",
      "| \u001b[0m 79      \u001b[0m | \u001b[0m-1.208   \u001b[0m | \u001b[0m 9.395   \u001b[0m | \u001b[0m 0.9983  \u001b[0m | \u001b[0m 4.862   \u001b[0m | \u001b[0m 466.9   \u001b[0m |\n",
      "| \u001b[0m 80      \u001b[0m | \u001b[0m-1.21    \u001b[0m | \u001b[0m 8.802   \u001b[0m | \u001b[0m 0.9252  \u001b[0m | \u001b[0m 9.93    \u001b[0m | \u001b[0m 472.5   \u001b[0m |\n",
      "| \u001b[0m 81      \u001b[0m | \u001b[0m-1.21    \u001b[0m | \u001b[0m 8.653   \u001b[0m | \u001b[0m 0.525   \u001b[0m | \u001b[0m 9.528   \u001b[0m | \u001b[0m 461.5   \u001b[0m |\n",
      "| \u001b[0m 82      \u001b[0m | \u001b[0m-1.208   \u001b[0m | \u001b[0m 9.526   \u001b[0m | \u001b[0m 0.8577  \u001b[0m | \u001b[0m 1.814   \u001b[0m | \u001b[0m 153.1   \u001b[0m |\n",
      "| \u001b[0m 83      \u001b[0m | \u001b[0m-1.206   \u001b[0m | \u001b[0m 6.04    \u001b[0m | \u001b[0m 0.9135  \u001b[0m | \u001b[0m 8.272   \u001b[0m | \u001b[0m 152.8   \u001b[0m |\n",
      "| \u001b[0m 84      \u001b[0m | \u001b[0m-1.208   \u001b[0m | \u001b[0m 9.404   \u001b[0m | \u001b[0m 0.9275  \u001b[0m | \u001b[0m 7.389   \u001b[0m | \u001b[0m 157.9   \u001b[0m |\n",
      "| \u001b[0m 85      \u001b[0m | \u001b[0m-1.242   \u001b[0m | \u001b[0m 3.018   \u001b[0m | \u001b[0m 0.5176  \u001b[0m | \u001b[0m 3.55    \u001b[0m | \u001b[0m 154.6   \u001b[0m |\n",
      "| \u001b[0m 86      \u001b[0m | \u001b[0m-1.214   \u001b[0m | \u001b[0m 9.936   \u001b[0m | \u001b[0m 0.7334  \u001b[0m | \u001b[0m 9.976   \u001b[0m | \u001b[0m 150.3   \u001b[0m |\n",
      "| \u001b[0m 87      \u001b[0m | \u001b[0m-1.213   \u001b[0m | \u001b[0m 9.117   \u001b[0m | \u001b[0m 0.9258  \u001b[0m | \u001b[0m 9.813   \u001b[0m | \u001b[0m 165.2   \u001b[0m |\n",
      "| \u001b[0m 88      \u001b[0m | \u001b[0m-1.235   \u001b[0m | \u001b[0m 3.0     \u001b[0m | \u001b[0m 0.5     \u001b[0m | \u001b[0m 2.703   \u001b[0m | \u001b[0m 470.7   \u001b[0m |\n",
      "| \u001b[0m 89      \u001b[0m | \u001b[0m-1.208   \u001b[0m | \u001b[0m 9.828   \u001b[0m | \u001b[0m 0.5912  \u001b[0m | \u001b[0m 1.514   \u001b[0m | \u001b[0m 144.2   \u001b[0m |\n",
      "| \u001b[0m 90      \u001b[0m | \u001b[0m-1.241   \u001b[0m | \u001b[0m 3.106   \u001b[0m | \u001b[0m 0.6745  \u001b[0m | \u001b[0m 1.368   \u001b[0m | \u001b[0m 139.7   \u001b[0m |\n",
      "| \u001b[0m 91      \u001b[0m | \u001b[0m-1.233   \u001b[0m | \u001b[0m 5.323   \u001b[0m | \u001b[0m 0.9955  \u001b[0m | \u001b[0m 1.123   \u001b[0m | \u001b[0m 8.071   \u001b[0m |\n",
      "| \u001b[0m 92      \u001b[0m | \u001b[0m-1.208   \u001b[0m | \u001b[0m 6.159   \u001b[0m | \u001b[0m 0.8536  \u001b[0m | \u001b[0m 9.401   \u001b[0m | \u001b[0m 121.9   \u001b[0m |\n",
      "| \u001b[0m 93      \u001b[0m | \u001b[0m-1.243   \u001b[0m | \u001b[0m 3.0     \u001b[0m | \u001b[0m 1.0     \u001b[0m | \u001b[0m 2.656   \u001b[0m | \u001b[0m 121.8   \u001b[0m |\n",
      "| \u001b[0m 94      \u001b[0m | \u001b[0m-1.211   \u001b[0m | \u001b[0m 9.768   \u001b[0m | \u001b[0m 0.86    \u001b[0m | \u001b[0m 9.892   \u001b[0m | \u001b[0m 334.0   \u001b[0m |\n",
      "| \u001b[0m 95      \u001b[0m | \u001b[0m-1.206   \u001b[0m | \u001b[0m 9.878   \u001b[0m | \u001b[0m 0.6814  \u001b[0m | \u001b[0m 9.194   \u001b[0m | \u001b[0m 126.0   \u001b[0m |\n",
      "| \u001b[0m 96      \u001b[0m | \u001b[0m-1.209   \u001b[0m | \u001b[0m 9.36    \u001b[0m | \u001b[0m 0.7558  \u001b[0m | \u001b[0m 1.901   \u001b[0m | \u001b[0m 426.1   \u001b[0m |\n",
      "| \u001b[0m 97      \u001b[0m | \u001b[0m-1.215   \u001b[0m | \u001b[0m 9.644   \u001b[0m | \u001b[0m 0.651   \u001b[0m | \u001b[0m 9.918   \u001b[0m | \u001b[0m 116.3   \u001b[0m |\n",
      "| \u001b[0m 98      \u001b[0m | \u001b[0m-1.21    \u001b[0m | \u001b[0m 10.0    \u001b[0m | \u001b[0m 0.7795  \u001b[0m | \u001b[0m 10.0    \u001b[0m | \u001b[0m 423.3   \u001b[0m |\n",
      "| \u001b[0m 99      \u001b[0m | \u001b[0m-1.232   \u001b[0m | \u001b[0m 3.0     \u001b[0m | \u001b[0m 0.5348  \u001b[0m | \u001b[0m 6.62    \u001b[0m | \u001b[0m 428.1   \u001b[0m |\n",
      "| \u001b[0m 100     \u001b[0m | \u001b[0m-1.213   \u001b[0m | \u001b[0m 9.934   \u001b[0m | \u001b[0m 0.7923  \u001b[0m | \u001b[0m 1.252   \u001b[0m | \u001b[0m 418.5   \u001b[0m |\n",
      "| \u001b[0m 101     \u001b[0m | \u001b[0m-1.24    \u001b[0m | \u001b[0m 3.051   \u001b[0m | \u001b[0m 0.504   \u001b[0m | \u001b[0m 1.009   \u001b[0m | \u001b[0m 190.1   \u001b[0m |\n",
      "| \u001b[0m 102     \u001b[0m | \u001b[0m-1.239   \u001b[0m | \u001b[0m 3.068   \u001b[0m | \u001b[0m 0.6095  \u001b[0m | \u001b[0m 1.144   \u001b[0m | \u001b[0m 255.8   \u001b[0m |\n",
      "| \u001b[0m 103     \u001b[0m | \u001b[0m-1.239   \u001b[0m | \u001b[0m 3.0     \u001b[0m | \u001b[0m 0.5     \u001b[0m | \u001b[0m 1.0     \u001b[0m | \u001b[0m 218.0   \u001b[0m |\n",
      "| \u001b[0m 104     \u001b[0m | \u001b[0m-1.236   \u001b[0m | \u001b[0m 3.099   \u001b[0m | \u001b[0m 0.8819  \u001b[0m | \u001b[0m 9.825   \u001b[0m | \u001b[0m 326.5   \u001b[0m |\n",
      "| \u001b[0m 105     \u001b[0m | \u001b[0m-1.214   \u001b[0m | \u001b[0m 9.374   \u001b[0m | \u001b[0m 0.7599  \u001b[0m | \u001b[0m 1.199   \u001b[0m | \u001b[0m 307.3   \u001b[0m |\n",
      "| \u001b[0m 106     \u001b[0m | \u001b[0m-1.21    \u001b[0m | \u001b[0m 8.206   \u001b[0m | \u001b[0m 0.9087  \u001b[0m | \u001b[0m 1.582   \u001b[0m | \u001b[0m 237.4   \u001b[0m |\n",
      "| \u001b[0m 107     \u001b[0m | \u001b[0m-1.231   \u001b[0m | \u001b[0m 3.038   \u001b[0m | \u001b[0m 0.9332  \u001b[0m | \u001b[0m 8.674   \u001b[0m | \u001b[0m 237.5   \u001b[0m |\n",
      "| \u001b[0m 108     \u001b[0m | \u001b[0m-1.21    \u001b[0m | \u001b[0m 10.0    \u001b[0m | \u001b[0m 0.5     \u001b[0m | \u001b[0m 10.0    \u001b[0m | \u001b[0m 415.0   \u001b[0m |\n",
      "| \u001b[0m 109     \u001b[0m | \u001b[0m-1.209   \u001b[0m | \u001b[0m 10.0    \u001b[0m | \u001b[0m 1.0     \u001b[0m | \u001b[0m 1.0     \u001b[0m | \u001b[0m 202.7   \u001b[0m |\n",
      "| \u001b[0m 110     \u001b[0m | \u001b[0m-1.21    \u001b[0m | \u001b[0m 10.0    \u001b[0m | \u001b[0m 0.5     \u001b[0m | \u001b[0m 10.0    \u001b[0m | \u001b[0m 491.9   \u001b[0m |\n",
      "| \u001b[0m 111     \u001b[0m | \u001b[0m-1.235   \u001b[0m | \u001b[0m 3.228   \u001b[0m | \u001b[0m 0.5854  \u001b[0m | \u001b[0m 9.562   \u001b[0m | \u001b[0m 306.8   \u001b[0m |\n",
      "| \u001b[0m 112     \u001b[0m | \u001b[0m-1.21    \u001b[0m | \u001b[0m 10.0    \u001b[0m | \u001b[0m 0.5     \u001b[0m | \u001b[0m 10.0    \u001b[0m | \u001b[0m 483.4   \u001b[0m |\n",
      "| \u001b[0m 113     \u001b[0m | \u001b[0m-1.217   \u001b[0m | \u001b[0m 10.0    \u001b[0m | \u001b[0m 0.9802  \u001b[0m | \u001b[0m 10.0    \u001b[0m | \u001b[0m 104.2   \u001b[0m |\n",
      "| \u001b[0m 114     \u001b[0m | \u001b[0m-1.234   \u001b[0m | \u001b[0m 3.0     \u001b[0m | \u001b[0m 0.5     \u001b[0m | \u001b[0m 10.0    \u001b[0m | \u001b[0m 489.6   \u001b[0m |\n",
      "| \u001b[0m 115     \u001b[0m | \u001b[0m-1.247   \u001b[0m | \u001b[0m 3.0     \u001b[0m | \u001b[0m 0.5     \u001b[0m | \u001b[0m 1.0     \u001b[0m | \u001b[0m 25.89   \u001b[0m |\n",
      "| \u001b[0m 116     \u001b[0m | \u001b[0m-1.242   \u001b[0m | \u001b[0m 3.0     \u001b[0m | \u001b[0m 1.0     \u001b[0m | \u001b[0m 1.0     \u001b[0m | \u001b[0m 103.8   \u001b[0m |\n",
      "| \u001b[0m 117     \u001b[0m | \u001b[0m-1.214   \u001b[0m | \u001b[0m 10.0    \u001b[0m | \u001b[0m 1.0     \u001b[0m | \u001b[0m 10.0    \u001b[0m | \u001b[0m 133.7   \u001b[0m |\n",
      "| \u001b[0m 118     \u001b[0m | \u001b[0m-1.211   \u001b[0m | \u001b[0m 9.668   \u001b[0m | \u001b[0m 0.606   \u001b[0m | \u001b[0m 1.023   \u001b[0m | \u001b[0m 168.2   \u001b[0m |\n",
      "| \u001b[0m 119     \u001b[0m | \u001b[0m-1.244   \u001b[0m | \u001b[0m 3.0     \u001b[0m | \u001b[0m 1.0     \u001b[0m | \u001b[0m 1.0     \u001b[0m | \u001b[0m 87.74   \u001b[0m |\n",
      "| \u001b[0m 120     \u001b[0m | \u001b[0m-1.223   \u001b[0m | \u001b[0m 10.0    \u001b[0m | \u001b[0m 1.0     \u001b[0m | \u001b[0m 10.0    \u001b[0m | \u001b[0m 48.08   \u001b[0m |\n",
      "=========================================================================\n"
     ]
    }
   ],
   "source": [
    "BO_rf.maximize(init_points = 20, n_iter = 100)"
   ]
  },
  {
   "cell_type": "code",
   "execution_count": 959,
   "metadata": {
    "scrolled": false
   },
   "outputs": [
    {
     "data": {
      "text/plain": [
       "{'target': -1.2022119424997129,\n",
       " 'params': {'max_depth': 8.562306660694897,\n",
       "  'max_features': 0.8035416599413274,\n",
       "  'min_samples_leaf': 8.135411976682523,\n",
       "  'n_estimators': 350.3425712555171}}"
      ]
     },
     "execution_count": 959,
     "metadata": {},
     "output_type": "execute_result"
    }
   ],
   "source": [
    "BO_rf.max"
   ]
  },
  {
   "cell_type": "code",
   "execution_count": 960,
   "metadata": {},
   "outputs": [],
   "source": [
    "params = BO_rf.max['params']\n",
    "params['n_estimators'] = int(round(params['n_estimators']))\n",
    "params['max_depth'] = int(round(params['max_depth']))\n",
    "params['min_samples_leaf'] = int(round(params['min_samples_leaf']))"
   ]
  },
  {
   "cell_type": "code",
   "execution_count": 961,
   "metadata": {
    "scrolled": true
   },
   "outputs": [],
   "source": [
    "rf = RandomForestRegressor(random_state = 1010, **params)\n",
    "rf.fit(X, y)\n",
    "pred_rf = np.expm1(rf.predict(target))"
   ]
  },
  {
   "cell_type": "code",
   "execution_count": 962,
   "metadata": {},
   "outputs": [],
   "source": [
    "submission['box_off_num'] = pred_rf"
   ]
  },
  {
   "cell_type": "code",
   "execution_count": 963,
   "metadata": {
    "scrolled": true
   },
   "outputs": [
    {
     "data": {
      "text/html": [
       "<div>\n",
       "<style scoped>\n",
       "    .dataframe tbody tr th:only-of-type {\n",
       "        vertical-align: middle;\n",
       "    }\n",
       "\n",
       "    .dataframe tbody tr th {\n",
       "        vertical-align: top;\n",
       "    }\n",
       "\n",
       "    .dataframe thead th {\n",
       "        text-align: right;\n",
       "    }\n",
       "</style>\n",
       "<table border=\"1\" class=\"dataframe\">\n",
       "  <thead>\n",
       "    <tr style=\"text-align: right;\">\n",
       "      <th></th>\n",
       "      <th>title</th>\n",
       "      <th>box_off_num</th>\n",
       "    </tr>\n",
       "  </thead>\n",
       "  <tbody>\n",
       "    <tr>\n",
       "      <th>178</th>\n",
       "      <td>명량</td>\n",
       "      <td>3.861968e+06</td>\n",
       "    </tr>\n",
       "    <tr>\n",
       "      <th>229</th>\n",
       "      <td>베테랑</td>\n",
       "      <td>3.349966e+06</td>\n",
       "    </tr>\n",
       "    <tr>\n",
       "      <th>179</th>\n",
       "      <td>군도: 민란의 시대</td>\n",
       "      <td>3.281265e+06</td>\n",
       "    </tr>\n",
       "    <tr>\n",
       "      <th>135</th>\n",
       "      <td>용의자</td>\n",
       "      <td>3.101611e+06</td>\n",
       "    </tr>\n",
       "    <tr>\n",
       "      <th>108</th>\n",
       "      <td>신세계</td>\n",
       "      <td>2.869400e+06</td>\n",
       "    </tr>\n",
       "    <tr>\n",
       "      <th>142</th>\n",
       "      <td>박수건달</td>\n",
       "      <td>2.618141e+06</td>\n",
       "    </tr>\n",
       "    <tr>\n",
       "      <th>15</th>\n",
       "      <td>포화 속으로</td>\n",
       "      <td>2.609610e+06</td>\n",
       "    </tr>\n",
       "    <tr>\n",
       "      <th>0</th>\n",
       "      <td>용서는 없다</td>\n",
       "      <td>2.561096e+06</td>\n",
       "    </tr>\n",
       "    <tr>\n",
       "      <th>106</th>\n",
       "      <td>댄싱퀸</td>\n",
       "      <td>2.440785e+06</td>\n",
       "    </tr>\n",
       "    <tr>\n",
       "      <th>212</th>\n",
       "      <td>간신</td>\n",
       "      <td>2.436854e+06</td>\n",
       "    </tr>\n",
       "  </tbody>\n",
       "</table>\n",
       "</div>"
      ],
      "text/plain": [
       "          title   box_off_num\n",
       "178          명량  3.861968e+06\n",
       "229         베테랑  3.349966e+06\n",
       "179  군도: 민란의 시대  3.281265e+06\n",
       "135         용의자  3.101611e+06\n",
       "108         신세계  2.869400e+06\n",
       "142        박수건달  2.618141e+06\n",
       "15       포화 속으로  2.609610e+06\n",
       "0        용서는 없다  2.561096e+06\n",
       "106         댄싱퀸  2.440785e+06\n",
       "212          간신  2.436854e+06"
      ]
     },
     "execution_count": 963,
     "metadata": {},
     "output_type": "execute_result"
    }
   ],
   "source": [
    "submission.sort_values(by = 'box_off_num', ascending = False)[:10]"
   ]
  },
  {
   "cell_type": "code",
   "execution_count": 964,
   "metadata": {},
   "outputs": [],
   "source": [
    "pbounds = { 'learning_rate': (0.0005, 0.2),\n",
    "            'n_estimators': (8, 512),\n",
    "            'max_depth': (3,10),   \n",
    "            'subsample': (0.5, 1), \n",
    "            'colsample_bytree': (0.5, 1),   \n",
    "            'num_leaves': (2,10),\n",
    "            'min_child_weight': (1, 7)}\n",
    "\n",
    "\n",
    "def lgbm_opt(learning_rate, n_estimators, max_depth, subsample, colsample_bytree, num_leaves, min_child_weight):\n",
    "\n",
    "    params = {\n",
    "        'learning_rate': learning_rate,\n",
    "        'n_estimators' : int(round(n_estimators)),\n",
    "        'max_depth' : int(round(max_depth)),\n",
    "        'subsample': subsample,\n",
    "        'colsample_bytree' : colsample_bytree,\n",
    "        'num_leaves' : int(round(num_leaves)),\n",
    "        'min_child_weight' : min_child_weight,\n",
    "        'n_jobs' : -1\n",
    "    }\n",
    "    \n",
    "    lgbm = LGBMRegressor(**params)\n",
    "    \n",
    "    kf = KFold(n_splits = 10 , shuffle=False, random_state=50)\n",
    "\n",
    "    score = cross_val_score(lgbm, X, y, scoring='neg_mean_absolute_error', cv = kf, n_jobs=-1)\n",
    "    \n",
    "    return np.mean(score)\n",
    "\n",
    "BO_lgbm = BayesianOptimization(f = lgbm_opt, pbounds = pbounds, random_state=1)    "
   ]
  },
  {
   "cell_type": "code",
   "execution_count": 965,
   "metadata": {
    "scrolled": true
   },
   "outputs": [
    {
     "name": "stdout",
     "output_type": "stream",
     "text": [
      "|   iter    |  target   | colsam... | learni... | max_depth | min_ch... | n_esti... | num_le... | subsample |\n",
      "-------------------------------------------------------------------------------------------------------------\n",
      "| \u001b[0m 1       \u001b[0m | \u001b[0m-1.219   \u001b[0m | \u001b[0m 0.7085  \u001b[0m | \u001b[0m 0.1442  \u001b[0m | \u001b[0m 3.001   \u001b[0m | \u001b[0m 2.814   \u001b[0m | \u001b[0m 81.96   \u001b[0m | \u001b[0m 2.739   \u001b[0m | \u001b[0m 0.5931  \u001b[0m |\n",
      "| \u001b[0m 2       \u001b[0m | \u001b[0m-1.268   \u001b[0m | \u001b[0m 0.6728  \u001b[0m | \u001b[0m 0.07966 \u001b[0m | \u001b[0m 6.772   \u001b[0m | \u001b[0m 3.515   \u001b[0m | \u001b[0m 353.4   \u001b[0m | \u001b[0m 3.636   \u001b[0m | \u001b[0m 0.9391  \u001b[0m |\n",
      "| \u001b[95m 3       \u001b[0m | \u001b[95m-1.213   \u001b[0m | \u001b[95m 0.5137  \u001b[0m | \u001b[95m 0.1343  \u001b[0m | \u001b[95m 5.921   \u001b[0m | \u001b[95m 4.352   \u001b[0m | \u001b[95m 78.76   \u001b[0m | \u001b[95m 3.585   \u001b[0m | \u001b[95m 0.9004  \u001b[0m |\n",
      "| \u001b[0m 4       \u001b[0m | \u001b[0m-1.245   \u001b[0m | \u001b[0m 0.9841  \u001b[0m | \u001b[0m 0.06303 \u001b[0m | \u001b[0m 7.846   \u001b[0m | \u001b[0m 6.258   \u001b[0m | \u001b[0m 458.9   \u001b[0m | \u001b[0m 2.68    \u001b[0m | \u001b[0m 0.5195  \u001b[0m |\n",
      "| \u001b[0m 5       \u001b[0m | \u001b[0m-1.406   \u001b[0m | \u001b[0m 0.5849  \u001b[0m | \u001b[0m 0.1757  \u001b[0m | \u001b[0m 3.688   \u001b[0m | \u001b[0m 3.527   \u001b[0m | \u001b[0m 490.8   \u001b[0m | \u001b[0m 6.265   \u001b[0m | \u001b[0m 0.8459  \u001b[0m |\n",
      "| \u001b[0m 6       \u001b[0m | \u001b[0m-1.405   \u001b[0m | \u001b[0m 0.6578  \u001b[0m | \u001b[0m 0.1375  \u001b[0m | \u001b[0m 8.842   \u001b[0m | \u001b[0m 1.11    \u001b[0m | \u001b[0m 386.1   \u001b[0m | \u001b[0m 9.911   \u001b[0m | \u001b[0m 0.8741  \u001b[0m |\n",
      "| \u001b[0m 7       \u001b[0m | \u001b[0m-1.332   \u001b[0m | \u001b[0m 0.6402  \u001b[0m | \u001b[0m 0.158   \u001b[0m | \u001b[0m 3.723   \u001b[0m | \u001b[0m 3.687   \u001b[0m | \u001b[0m 465.9   \u001b[0m | \u001b[0m 4.349   \u001b[0m | \u001b[0m 0.6439  \u001b[0m |\n",
      "| \u001b[0m 8       \u001b[0m | \u001b[0m-1.998   \u001b[0m | \u001b[0m 0.565   \u001b[0m | \u001b[0m 0.004364\u001b[0m | \u001b[0m 7.752   \u001b[0m | \u001b[0m 2.27    \u001b[0m | \u001b[0m 141.8   \u001b[0m | \u001b[0m 5.933   \u001b[0m | \u001b[0m 0.5267  \u001b[0m |\n",
      "| \u001b[0m 9       \u001b[0m | \u001b[0m-1.36    \u001b[0m | \u001b[0m 0.7871  \u001b[0m | \u001b[0m 0.02977 \u001b[0m | \u001b[0m 7.125   \u001b[0m | \u001b[0m 5.199   \u001b[0m | \u001b[0m 59.58   \u001b[0m | \u001b[0m 5.312   \u001b[0m | \u001b[0m 0.8472  \u001b[0m |\n",
      "| \u001b[0m 10      \u001b[0m | \u001b[0m-1.225   \u001b[0m | \u001b[0m 0.7071  \u001b[0m | \u001b[0m 0.01047 \u001b[0m | \u001b[0m 6.751   \u001b[0m | \u001b[0m 4.983   \u001b[0m | \u001b[0m 267.5   \u001b[0m | \u001b[0m 9.557   \u001b[0m | \u001b[0m 0.7933  \u001b[0m |\n",
      "| \u001b[0m 11      \u001b[0m | \u001b[0m-1.217   \u001b[0m | \u001b[0m 0.9517  \u001b[0m | \u001b[0m 0.02793 \u001b[0m | \u001b[0m 3.975   \u001b[0m | \u001b[0m 5.844   \u001b[0m | \u001b[0m 208.4   \u001b[0m | \u001b[0m 3.323   \u001b[0m | \u001b[0m 0.9638  \u001b[0m |\n",
      "| \u001b[0m 12      \u001b[0m | \u001b[0m-1.366   \u001b[0m | \u001b[0m 0.6739  \u001b[0m | \u001b[0m 0.1503  \u001b[0m | \u001b[0m 8.082   \u001b[0m | \u001b[0m 6.3     \u001b[0m | \u001b[0m 322.3   \u001b[0m | \u001b[0m 8.008   \u001b[0m | \u001b[0m 0.6744  \u001b[0m |\n",
      "| \u001b[0m 13      \u001b[0m | \u001b[0m-1.375   \u001b[0m | \u001b[0m 0.635   \u001b[0m | \u001b[0m 0.1792  \u001b[0m | \u001b[0m 5.997   \u001b[0m | \u001b[0m 6.789   \u001b[0m | \u001b[0m 342.4   \u001b[0m | \u001b[0m 6.974   \u001b[0m | \u001b[0m 0.5574  \u001b[0m |\n",
      "| \u001b[0m 14      \u001b[0m | \u001b[0m-1.274   \u001b[0m | \u001b[0m 0.9747  \u001b[0m | \u001b[0m 0.09026 \u001b[0m | \u001b[0m 7.049   \u001b[0m | \u001b[0m 3.449   \u001b[0m | \u001b[0m 127.5   \u001b[0m | \u001b[0m 9.227   \u001b[0m | \u001b[0m 0.7868  \u001b[0m |\n",
      "| \u001b[0m 15      \u001b[0m | \u001b[0m-1.332   \u001b[0m | \u001b[0m 0.5014  \u001b[0m | \u001b[0m 0.1236  \u001b[0m | \u001b[0m 5.287   \u001b[0m | \u001b[0m 4.162   \u001b[0m | \u001b[0m 454.5   \u001b[0m | \u001b[0m 4.858   \u001b[0m | \u001b[0m 0.9543  \u001b[0m |\n",
      "| \u001b[0m 16      \u001b[0m | \u001b[0m-1.402   \u001b[0m | \u001b[0m 0.8117  \u001b[0m | \u001b[0m 0.003656\u001b[0m | \u001b[0m 9.506   \u001b[0m | \u001b[0m 5.145   \u001b[0m | \u001b[0m 510.7   \u001b[0m | \u001b[0m 3.379   \u001b[0m | \u001b[0m 0.5686  \u001b[0m |\n",
      "| \u001b[0m 17      \u001b[0m | \u001b[0m-1.356   \u001b[0m | \u001b[0m 0.9663  \u001b[0m | \u001b[0m 0.1395  \u001b[0m | \u001b[0m 3.462   \u001b[0m | \u001b[0m 5.533   \u001b[0m | \u001b[0m 388.0   \u001b[0m | \u001b[0m 9.384   \u001b[0m | \u001b[0m 0.8558  \u001b[0m |\n",
      "| \u001b[0m 18      \u001b[0m | \u001b[0m-2.026   \u001b[0m | \u001b[0m 0.5621  \u001b[0m | \u001b[0m 0.004466\u001b[0m | \u001b[0m 3.183   \u001b[0m | \u001b[0m 1.17    \u001b[0m | \u001b[0m 132.1   \u001b[0m | \u001b[0m 8.88    \u001b[0m | \u001b[0m 0.7694  \u001b[0m |\n",
      "| \u001b[0m 19      \u001b[0m | \u001b[0m-1.384   \u001b[0m | \u001b[0m 0.7764  \u001b[0m | \u001b[0m 0.1685  \u001b[0m | \u001b[0m 3.869   \u001b[0m | \u001b[0m 2.675   \u001b[0m | \u001b[0m 303.2   \u001b[0m | \u001b[0m 9.757   \u001b[0m | \u001b[0m 0.7805  \u001b[0m |\n",
      "| \u001b[0m 20      \u001b[0m | \u001b[0m-1.349   \u001b[0m | \u001b[0m 0.5093  \u001b[0m | \u001b[0m 0.1602  \u001b[0m | \u001b[0m 4.631   \u001b[0m | \u001b[0m 5.843   \u001b[0m | \u001b[0m 203.5   \u001b[0m | \u001b[0m 8.908   \u001b[0m | \u001b[0m 0.8736  \u001b[0m |\n",
      "| \u001b[0m 21      \u001b[0m | \u001b[0m-1.337   \u001b[0m | \u001b[0m 1.0     \u001b[0m | \u001b[0m 0.1789  \u001b[0m | \u001b[0m 10.0    \u001b[0m | \u001b[0m 5.751   \u001b[0m | \u001b[0m 122.2   \u001b[0m | \u001b[0m 9.722   \u001b[0m | \u001b[0m 0.8163  \u001b[0m |\n",
      "| \u001b[0m 22      \u001b[0m | \u001b[0m-1.236   \u001b[0m | \u001b[0m 0.5845  \u001b[0m | \u001b[0m 0.1231  \u001b[0m | \u001b[0m 3.118   \u001b[0m | \u001b[0m 4.084   \u001b[0m | \u001b[0m 80.93   \u001b[0m | \u001b[0m 9.677   \u001b[0m | \u001b[0m 0.8689  \u001b[0m |\n",
      "| \u001b[0m 23      \u001b[0m | \u001b[0m-1.243   \u001b[0m | \u001b[0m 0.9044  \u001b[0m | \u001b[0m 0.1348  \u001b[0m | \u001b[0m 9.514   \u001b[0m | \u001b[0m 4.69    \u001b[0m | \u001b[0m 85.81   \u001b[0m | \u001b[0m 5.683   \u001b[0m | \u001b[0m 0.885   \u001b[0m |\n",
      "| \u001b[0m 24      \u001b[0m | \u001b[0m-2.806   \u001b[0m | \u001b[0m 0.5     \u001b[0m | \u001b[0m 0.0005  \u001b[0m | \u001b[0m 3.0     \u001b[0m | \u001b[0m 1.0     \u001b[0m | \u001b[0m 89.75   \u001b[0m | \u001b[0m 8.37    \u001b[0m | \u001b[0m 1.0     \u001b[0m |\n",
      "| \u001b[0m 25      \u001b[0m | \u001b[0m-1.247   \u001b[0m | \u001b[0m 0.9905  \u001b[0m | \u001b[0m 0.1016  \u001b[0m | \u001b[0m 7.163   \u001b[0m | \u001b[0m 4.482   \u001b[0m | \u001b[0m 81.25   \u001b[0m | \u001b[0m 7.339   \u001b[0m | \u001b[0m 0.5217  \u001b[0m |\n",
      "| \u001b[0m 26      \u001b[0m | \u001b[0m-1.263   \u001b[0m | \u001b[0m 0.5917  \u001b[0m | \u001b[0m 0.1897  \u001b[0m | \u001b[0m 3.183   \u001b[0m | \u001b[0m 5.703   \u001b[0m | \u001b[0m 75.44   \u001b[0m | \u001b[0m 7.338   \u001b[0m | \u001b[0m 0.8483  \u001b[0m |\n",
      "| \u001b[0m 27      \u001b[0m | \u001b[0m-2.673   \u001b[0m | \u001b[0m 1.0     \u001b[0m | \u001b[0m 0.0005  \u001b[0m | \u001b[0m 8.222   \u001b[0m | \u001b[0m 1.001   \u001b[0m | \u001b[0m 209.8   \u001b[0m | \u001b[0m 4.893   \u001b[0m | \u001b[0m 0.5003  \u001b[0m |\n",
      "| \u001b[0m 28      \u001b[0m | \u001b[0m-1.246   \u001b[0m | \u001b[0m 0.5941  \u001b[0m | \u001b[0m 0.1216  \u001b[0m | \u001b[0m 3.349   \u001b[0m | \u001b[0m 2.689   \u001b[0m | \u001b[0m 78.64   \u001b[0m | \u001b[0m 6.385   \u001b[0m | \u001b[0m 0.9755  \u001b[0m |\n",
      "| \u001b[0m 29      \u001b[0m | \u001b[0m-1.228   \u001b[0m | \u001b[0m 0.7577  \u001b[0m | \u001b[0m 0.1227  \u001b[0m | \u001b[0m 3.0     \u001b[0m | \u001b[0m 7.0     \u001b[0m | \u001b[0m 203.8   \u001b[0m | \u001b[0m 2.0     \u001b[0m | \u001b[0m 1.0     \u001b[0m |\n",
      "| \u001b[0m 30      \u001b[0m | \u001b[0m-1.223   \u001b[0m | \u001b[0m 0.6861  \u001b[0m | \u001b[0m 0.1224  \u001b[0m | \u001b[0m 8.173   \u001b[0m | \u001b[0m 6.809   \u001b[0m | \u001b[0m 83.98   \u001b[0m | \u001b[0m 2.186   \u001b[0m | \u001b[0m 0.5641  \u001b[0m |\n",
      "| \u001b[0m 31      \u001b[0m | \u001b[0m-1.266   \u001b[0m | \u001b[0m 1.0     \u001b[0m | \u001b[0m 0.02573 \u001b[0m | \u001b[0m 9.245   \u001b[0m | \u001b[0m 4.895   \u001b[0m | \u001b[0m 461.1   \u001b[0m | \u001b[0m 9.488   \u001b[0m | \u001b[0m 0.5     \u001b[0m |\n",
      "| \u001b[0m 32      \u001b[0m | \u001b[0m-1.378   \u001b[0m | \u001b[0m 0.9957  \u001b[0m | \u001b[0m 0.1346  \u001b[0m | \u001b[0m 8.509   \u001b[0m | \u001b[0m 6.171   \u001b[0m | \u001b[0m 274.4   \u001b[0m | \u001b[0m 9.328   \u001b[0m | \u001b[0m 0.6082  \u001b[0m |\n",
      "| \u001b[0m 33      \u001b[0m | \u001b[0m-1.272   \u001b[0m | \u001b[0m 1.0     \u001b[0m | \u001b[0m 0.2     \u001b[0m | \u001b[0m 9.212   \u001b[0m | \u001b[0m 3.748   \u001b[0m | \u001b[0m 266.0   \u001b[0m | \u001b[0m 3.062   \u001b[0m | \u001b[0m 0.5     \u001b[0m |\n",
      "| \u001b[0m 34      \u001b[0m | \u001b[0m-1.228   \u001b[0m | \u001b[0m 1.0     \u001b[0m | \u001b[0m 0.2     \u001b[0m | \u001b[0m 10.0    \u001b[0m | \u001b[0m 1.0     \u001b[0m | \u001b[0m 81.69   \u001b[0m | \u001b[0m 2.0     \u001b[0m | \u001b[0m 1.0     \u001b[0m |\n",
      "| \u001b[0m 35      \u001b[0m | \u001b[0m-1.227   \u001b[0m | \u001b[0m 0.7341  \u001b[0m | \u001b[0m 0.02674 \u001b[0m | \u001b[0m 5.949   \u001b[0m | \u001b[0m 7.0     \u001b[0m | \u001b[0m 260.5   \u001b[0m | \u001b[0m 7.364   \u001b[0m | \u001b[0m 1.0     \u001b[0m |\n",
      "| \u001b[0m 36      \u001b[0m | \u001b[0m-1.433   \u001b[0m | \u001b[0m 1.0     \u001b[0m | \u001b[0m 0.2     \u001b[0m | \u001b[0m 10.0    \u001b[0m | \u001b[0m 1.0     \u001b[0m | \u001b[0m 261.7   \u001b[0m | \u001b[0m 9.95    \u001b[0m | \u001b[0m 0.5     \u001b[0m |\n",
      "| \u001b[0m 37      \u001b[0m | \u001b[0m-1.239   \u001b[0m | \u001b[0m 0.5115  \u001b[0m | \u001b[0m 0.143   \u001b[0m | \u001b[0m 3.363   \u001b[0m | \u001b[0m 3.377   \u001b[0m | \u001b[0m 262.0   \u001b[0m | \u001b[0m 2.252   \u001b[0m | \u001b[0m 0.5846  \u001b[0m |\n",
      "| \u001b[0m 38      \u001b[0m | \u001b[0m-1.245   \u001b[0m | \u001b[0m 0.5147  \u001b[0m | \u001b[0m 0.1931  \u001b[0m | \u001b[0m 3.122   \u001b[0m | \u001b[0m 3.293   \u001b[0m | \u001b[0m 269.5   \u001b[0m | \u001b[0m 2.129   \u001b[0m | \u001b[0m 0.8579  \u001b[0m |\n",
      "| \u001b[0m 39      \u001b[0m | \u001b[0m-1.237   \u001b[0m | \u001b[0m 0.9788  \u001b[0m | \u001b[0m 0.1477  \u001b[0m | \u001b[0m 7.125   \u001b[0m | \u001b[0m 4.555   \u001b[0m | \u001b[0m 253.9   \u001b[0m | \u001b[0m 2.202   \u001b[0m | \u001b[0m 0.6371  \u001b[0m |\n",
      "| \u001b[0m 40      \u001b[0m | \u001b[0m-1.233   \u001b[0m | \u001b[0m 0.654   \u001b[0m | \u001b[0m 0.03539 \u001b[0m | \u001b[0m 3.514   \u001b[0m | \u001b[0m 6.109   \u001b[0m | \u001b[0m 253.7   \u001b[0m | \u001b[0m 9.161   \u001b[0m | \u001b[0m 0.6672  \u001b[0m |\n",
      "| \u001b[0m 41      \u001b[0m | \u001b[0m-2.679   \u001b[0m | \u001b[0m 0.5     \u001b[0m | \u001b[0m 0.0005  \u001b[0m | \u001b[0m 3.0     \u001b[0m | \u001b[0m 7.0     \u001b[0m | \u001b[0m 247.1   \u001b[0m | \u001b[0m 3.833   \u001b[0m | \u001b[0m 1.0     \u001b[0m |\n",
      "| \u001b[0m 42      \u001b[0m | \u001b[0m-1.235   \u001b[0m | \u001b[0m 0.7661  \u001b[0m | \u001b[0m 0.1523  \u001b[0m | \u001b[0m 9.715   \u001b[0m | \u001b[0m 5.345   \u001b[0m | \u001b[0m 258.5   \u001b[0m | \u001b[0m 2.394   \u001b[0m | \u001b[0m 0.6723  \u001b[0m |\n",
      "| \u001b[0m 43      \u001b[0m | \u001b[0m-1.369   \u001b[0m | \u001b[0m 1.0     \u001b[0m | \u001b[0m 0.2     \u001b[0m | \u001b[0m 3.0     \u001b[0m | \u001b[0m 1.0     \u001b[0m | \u001b[0m 257.5   \u001b[0m | \u001b[0m 7.856   \u001b[0m | \u001b[0m 0.5     \u001b[0m |\n",
      "| \u001b[0m 44      \u001b[0m | \u001b[0m-2.623   \u001b[0m | \u001b[0m 1.0     \u001b[0m | \u001b[0m 0.0005  \u001b[0m | \u001b[0m 10.0    \u001b[0m | \u001b[0m 7.0     \u001b[0m | \u001b[0m 255.0   \u001b[0m | \u001b[0m 10.0    \u001b[0m | \u001b[0m 0.5     \u001b[0m |\n"
     ]
    },
    {
     "name": "stdout",
     "output_type": "stream",
     "text": [
      "| \u001b[0m 45      \u001b[0m | \u001b[0m-1.361   \u001b[0m | \u001b[0m 1.0     \u001b[0m | \u001b[0m 0.2     \u001b[0m | \u001b[0m 3.264   \u001b[0m | \u001b[0m 7.0     \u001b[0m | \u001b[0m 265.4   \u001b[0m | \u001b[0m 5.646   \u001b[0m | \u001b[0m 1.0     \u001b[0m |\n",
      "| \u001b[0m 46      \u001b[0m | \u001b[0m-2.654   \u001b[0m | \u001b[0m 0.5     \u001b[0m | \u001b[0m 0.0005  \u001b[0m | \u001b[0m 6.807   \u001b[0m | \u001b[0m 1.0     \u001b[0m | \u001b[0m 270.6   \u001b[0m | \u001b[0m 6.352   \u001b[0m | \u001b[0m 1.0     \u001b[0m |\n",
      "| \u001b[0m 47      \u001b[0m | \u001b[0m-1.216   \u001b[0m | \u001b[0m 0.9145  \u001b[0m | \u001b[0m 0.02562 \u001b[0m | \u001b[0m 7.077   \u001b[0m | \u001b[0m 5.891   \u001b[0m | \u001b[0m 262.1   \u001b[0m | \u001b[0m 2.857   \u001b[0m | \u001b[0m 0.7032  \u001b[0m |\n",
      "| \u001b[0m 48      \u001b[0m | \u001b[0m-1.27    \u001b[0m | \u001b[0m 0.5806  \u001b[0m | \u001b[0m 0.104   \u001b[0m | \u001b[0m 5.729   \u001b[0m | \u001b[0m 4.243   \u001b[0m | \u001b[0m 258.1   \u001b[0m | \u001b[0m 4.169   \u001b[0m | \u001b[0m 0.9651  \u001b[0m |\n",
      "| \u001b[0m 49      \u001b[0m | \u001b[0m-1.535   \u001b[0m | \u001b[0m 0.9933  \u001b[0m | \u001b[0m 0.004378\u001b[0m | \u001b[0m 8.615   \u001b[0m | \u001b[0m 6.951   \u001b[0m | \u001b[0m 263.9   \u001b[0m | \u001b[0m 7.233   \u001b[0m | \u001b[0m 0.8691  \u001b[0m |\n",
      "| \u001b[0m 50      \u001b[0m | \u001b[0m-1.225   \u001b[0m | \u001b[0m 0.8218  \u001b[0m | \u001b[0m 0.08451 \u001b[0m | \u001b[0m 3.796   \u001b[0m | \u001b[0m 6.826   \u001b[0m | \u001b[0m 81.07   \u001b[0m | \u001b[0m 5.64    \u001b[0m | \u001b[0m 0.5578  \u001b[0m |\n",
      "| \u001b[0m 51      \u001b[0m | \u001b[0m-1.359   \u001b[0m | \u001b[0m 0.5374  \u001b[0m | \u001b[0m 0.1121  \u001b[0m | \u001b[0m 4.502   \u001b[0m | \u001b[0m 6.13    \u001b[0m | \u001b[0m 460.4   \u001b[0m | \u001b[0m 6.718   \u001b[0m | \u001b[0m 0.9996  \u001b[0m |\n",
      "| \u001b[0m 52      \u001b[0m | \u001b[0m-1.239   \u001b[0m | \u001b[0m 0.6802  \u001b[0m | \u001b[0m 0.02637 \u001b[0m | \u001b[0m 9.5     \u001b[0m | \u001b[0m 1.921   \u001b[0m | \u001b[0m 462.9   \u001b[0m | \u001b[0m 4.545   \u001b[0m | \u001b[0m 0.8659  \u001b[0m |\n",
      "| \u001b[0m 53      \u001b[0m | \u001b[0m-2.444   \u001b[0m | \u001b[0m 1.0     \u001b[0m | \u001b[0m 0.0005  \u001b[0m | \u001b[0m 9.858   \u001b[0m | \u001b[0m 7.0     \u001b[0m | \u001b[0m 464.2   \u001b[0m | \u001b[0m 4.703   \u001b[0m | \u001b[0m 0.5     \u001b[0m |\n",
      "| \u001b[0m 54      \u001b[0m | \u001b[0m-1.231   \u001b[0m | \u001b[0m 0.5     \u001b[0m | \u001b[0m 0.2     \u001b[0m | \u001b[0m 6.954   \u001b[0m | \u001b[0m 3.235   \u001b[0m | \u001b[0m 82.91   \u001b[0m | \u001b[0m 3.557   \u001b[0m | \u001b[0m 1.0     \u001b[0m |\n",
      "| \u001b[0m 55      \u001b[0m | \u001b[0m-1.425   \u001b[0m | \u001b[0m 0.5247  \u001b[0m | \u001b[0m 0.1753  \u001b[0m | \u001b[0m 7.765   \u001b[0m | \u001b[0m 1.301   \u001b[0m | \u001b[0m 458.7   \u001b[0m | \u001b[0m 6.912   \u001b[0m | \u001b[0m 0.586   \u001b[0m |\n",
      "| \u001b[0m 56      \u001b[0m | \u001b[0m-1.254   \u001b[0m | \u001b[0m 0.5939  \u001b[0m | \u001b[0m 0.1505  \u001b[0m | \u001b[0m 9.667   \u001b[0m | \u001b[0m 1.105   \u001b[0m | \u001b[0m 261.8   \u001b[0m | \u001b[0m 2.66    \u001b[0m | \u001b[0m 0.5271  \u001b[0m |\n",
      "| \u001b[0m 57      \u001b[0m | \u001b[0m-1.255   \u001b[0m | \u001b[0m 0.6709  \u001b[0m | \u001b[0m 0.1924  \u001b[0m | \u001b[0m 4.314   \u001b[0m | \u001b[0m 1.006   \u001b[0m | \u001b[0m 460.8   \u001b[0m | \u001b[0m 2.144   \u001b[0m | \u001b[0m 0.6105  \u001b[0m |\n",
      "| \u001b[0m 58      \u001b[0m | \u001b[0m-2.659   \u001b[0m | \u001b[0m 0.5     \u001b[0m | \u001b[0m 0.0005  \u001b[0m | \u001b[0m 3.343   \u001b[0m | \u001b[0m 4.452   \u001b[0m | \u001b[0m 262.9   \u001b[0m | \u001b[0m 10.0    \u001b[0m | \u001b[0m 0.5     \u001b[0m |\n",
      "| \u001b[0m 59      \u001b[0m | \u001b[0m-2.816   \u001b[0m | \u001b[0m 0.5     \u001b[0m | \u001b[0m 0.0005  \u001b[0m | \u001b[0m 5.392   \u001b[0m | \u001b[0m 6.196   \u001b[0m | \u001b[0m 78.46   \u001b[0m | \u001b[0m 8.021   \u001b[0m | \u001b[0m 1.0     \u001b[0m |\n",
      "| \u001b[0m 60      \u001b[0m | \u001b[0m-1.261   \u001b[0m | \u001b[0m 0.9575  \u001b[0m | \u001b[0m 0.1128  \u001b[0m | \u001b[0m 9.755   \u001b[0m | \u001b[0m 5.14    \u001b[0m | \u001b[0m 510.8   \u001b[0m | \u001b[0m 3.345   \u001b[0m | \u001b[0m 0.9136  \u001b[0m |\n",
      "| \u001b[95m 61      \u001b[0m | \u001b[95m-1.212   \u001b[0m | \u001b[95m 0.955   \u001b[0m | \u001b[95m 0.06433 \u001b[0m | \u001b[95m 6.164   \u001b[0m | \u001b[95m 4.697   \u001b[0m | \u001b[95m 81.25   \u001b[0m | \u001b[95m 4.202   \u001b[0m | \u001b[95m 0.5822  \u001b[0m |\n",
      "| \u001b[0m 62      \u001b[0m | \u001b[0m-1.234   \u001b[0m | \u001b[0m 0.5888  \u001b[0m | \u001b[0m 0.2     \u001b[0m | \u001b[0m 3.939   \u001b[0m | \u001b[0m 3.776   \u001b[0m | \u001b[0m 80.52   \u001b[0m | \u001b[0m 4.447   \u001b[0m | \u001b[0m 0.7922  \u001b[0m |\n",
      "| \u001b[0m 63      \u001b[0m | \u001b[0m-1.231   \u001b[0m | \u001b[0m 0.6743  \u001b[0m | \u001b[0m 0.1368  \u001b[0m | \u001b[0m 4.265   \u001b[0m | \u001b[0m 4.388   \u001b[0m | \u001b[0m 83.35   \u001b[0m | \u001b[0m 4.293   \u001b[0m | \u001b[0m 0.7681  \u001b[0m |\n",
      "| \u001b[0m 64      \u001b[0m | \u001b[0m-1.239   \u001b[0m | \u001b[0m 0.5096  \u001b[0m | \u001b[0m 0.1378  \u001b[0m | \u001b[0m 5.414   \u001b[0m | \u001b[0m 2.201   \u001b[0m | \u001b[0m 81.9    \u001b[0m | \u001b[0m 6.218   \u001b[0m | \u001b[0m 0.8803  \u001b[0m |\n",
      "| \u001b[0m 65      \u001b[0m | \u001b[0m-1.284   \u001b[0m | \u001b[0m 0.8789  \u001b[0m | \u001b[0m 0.2     \u001b[0m | \u001b[0m 7.134   \u001b[0m | \u001b[0m 5.569   \u001b[0m | \u001b[0m 83.75   \u001b[0m | \u001b[0m 5.669   \u001b[0m | \u001b[0m 0.5     \u001b[0m |\n",
      "| \u001b[0m 66      \u001b[0m | \u001b[0m-1.241   \u001b[0m | \u001b[0m 0.6025  \u001b[0m | \u001b[0m 0.2     \u001b[0m | \u001b[0m 7.161   \u001b[0m | \u001b[0m 3.251   \u001b[0m | \u001b[0m 260.5   \u001b[0m | \u001b[0m 2.207   \u001b[0m | \u001b[0m 0.5281  \u001b[0m |\n",
      "| \u001b[0m 67      \u001b[0m | \u001b[0m-1.229   \u001b[0m | \u001b[0m 1.0     \u001b[0m | \u001b[0m 0.09418 \u001b[0m | \u001b[0m 9.466   \u001b[0m | \u001b[0m 3.025   \u001b[0m | \u001b[0m 82.01   \u001b[0m | \u001b[0m 5.477   \u001b[0m | \u001b[0m 0.5     \u001b[0m |\n",
      "| \u001b[0m 68      \u001b[0m | \u001b[0m-1.223   \u001b[0m | \u001b[0m 0.7034  \u001b[0m | \u001b[0m 0.1221  \u001b[0m | \u001b[0m 9.072   \u001b[0m | \u001b[0m 3.943   \u001b[0m | \u001b[0m 80.31   \u001b[0m | \u001b[0m 2.151   \u001b[0m | \u001b[0m 0.6956  \u001b[0m |\n",
      "| \u001b[0m 69      \u001b[0m | \u001b[0m-1.429   \u001b[0m | \u001b[0m 0.5104  \u001b[0m | \u001b[0m 0.029   \u001b[0m | \u001b[0m 3.724   \u001b[0m | \u001b[0m 6.425   \u001b[0m | \u001b[0m 81.97   \u001b[0m | \u001b[0m 2.038   \u001b[0m | \u001b[0m 0.7123  \u001b[0m |\n",
      "| \u001b[0m 70      \u001b[0m | \u001b[0m-1.482   \u001b[0m | \u001b[0m 0.7006  \u001b[0m | \u001b[0m 0.01775 \u001b[0m | \u001b[0m 4.572   \u001b[0m | \u001b[0m 1.09    \u001b[0m | \u001b[0m 78.55   \u001b[0m | \u001b[0m 3.562   \u001b[0m | \u001b[0m 0.8773  \u001b[0m |\n",
      "| \u001b[0m 71      \u001b[0m | \u001b[0m-2.809   \u001b[0m | \u001b[0m 1.0     \u001b[0m | \u001b[0m 0.0005  \u001b[0m | \u001b[0m 10.0    \u001b[0m | \u001b[0m 3.821   \u001b[0m | \u001b[0m 84.09   \u001b[0m | \u001b[0m 2.297   \u001b[0m | \u001b[0m 0.5     \u001b[0m |\n",
      "| \u001b[0m 72      \u001b[0m | \u001b[0m-1.224   \u001b[0m | \u001b[0m 0.8215  \u001b[0m | \u001b[0m 0.1112  \u001b[0m | \u001b[0m 6.775   \u001b[0m | \u001b[0m 2.011   \u001b[0m | \u001b[0m 80.24   \u001b[0m | \u001b[0m 3.806   \u001b[0m | \u001b[0m 0.9976  \u001b[0m |\n",
      "| \u001b[0m 73      \u001b[0m | \u001b[0m-1.284   \u001b[0m | \u001b[0m 0.6004  \u001b[0m | \u001b[0m 0.1566  \u001b[0m | \u001b[0m 5.256   \u001b[0m | \u001b[0m 4.735   \u001b[0m | \u001b[0m 261.0   \u001b[0m | \u001b[0m 3.96    \u001b[0m | \u001b[0m 0.7739  \u001b[0m |\n",
      "| \u001b[0m 74      \u001b[0m | \u001b[0m-1.237   \u001b[0m | \u001b[0m 0.6865  \u001b[0m | \u001b[0m 0.1528  \u001b[0m | \u001b[0m 8.415   \u001b[0m | \u001b[0m 3.264   \u001b[0m | \u001b[0m 79.82   \u001b[0m | \u001b[0m 5.241   \u001b[0m | \u001b[0m 0.7315  \u001b[0m |\n",
      "| \u001b[0m 75      \u001b[0m | \u001b[0m-1.243   \u001b[0m | \u001b[0m 0.7874  \u001b[0m | \u001b[0m 0.04418 \u001b[0m | \u001b[0m 8.092   \u001b[0m | \u001b[0m 5.43    \u001b[0m | \u001b[0m 259.9   \u001b[0m | \u001b[0m 4.652   \u001b[0m | \u001b[0m 0.8377  \u001b[0m |\n",
      "| \u001b[0m 76      \u001b[0m | \u001b[0m-1.239   \u001b[0m | \u001b[0m 0.6002  \u001b[0m | \u001b[0m 0.08624 \u001b[0m | \u001b[0m 6.981   \u001b[0m | \u001b[0m 2.823   \u001b[0m | \u001b[0m 263.6   \u001b[0m | \u001b[0m 2.599   \u001b[0m | \u001b[0m 0.699   \u001b[0m |\n",
      "| \u001b[0m 77      \u001b[0m | \u001b[0m-1.235   \u001b[0m | \u001b[0m 0.7403  \u001b[0m | \u001b[0m 0.1011  \u001b[0m | \u001b[0m 9.73    \u001b[0m | \u001b[0m 4.882   \u001b[0m | \u001b[0m 261.6   \u001b[0m | \u001b[0m 2.515   \u001b[0m | \u001b[0m 0.5158  \u001b[0m |\n",
      "| \u001b[0m 78      \u001b[0m | \u001b[0m-1.264   \u001b[0m | \u001b[0m 0.892   \u001b[0m | \u001b[0m 0.167   \u001b[0m | \u001b[0m 7.614   \u001b[0m | \u001b[0m 3.36    \u001b[0m | \u001b[0m 83.87   \u001b[0m | \u001b[0m 7.464   \u001b[0m | \u001b[0m 0.5108  \u001b[0m |\n",
      "| \u001b[0m 79      \u001b[0m | \u001b[0m-1.319   \u001b[0m | \u001b[0m 0.6253  \u001b[0m | \u001b[0m 0.1815  \u001b[0m | \u001b[0m 8.768   \u001b[0m | \u001b[0m 1.835   \u001b[0m | \u001b[0m 259.3   \u001b[0m | \u001b[0m 4.682   \u001b[0m | \u001b[0m 0.814   \u001b[0m |\n",
      "| \u001b[0m 80      \u001b[0m | \u001b[0m-1.252   \u001b[0m | \u001b[0m 0.8261  \u001b[0m | \u001b[0m 0.07961 \u001b[0m | \u001b[0m 3.508   \u001b[0m | \u001b[0m 5.669   \u001b[0m | \u001b[0m 205.7   \u001b[0m | \u001b[0m 4.881   \u001b[0m | \u001b[0m 0.6903  \u001b[0m |\n",
      "| \u001b[0m 81      \u001b[0m | \u001b[0m-1.241   \u001b[0m | \u001b[0m 0.5     \u001b[0m | \u001b[0m 0.2     \u001b[0m | \u001b[0m 5.514   \u001b[0m | \u001b[0m 7.0     \u001b[0m | \u001b[0m 206.0   \u001b[0m | \u001b[0m 2.254   \u001b[0m | \u001b[0m 1.0     \u001b[0m |\n",
      "| \u001b[0m 82      \u001b[0m | \u001b[0m-1.225   \u001b[0m | \u001b[0m 0.9953  \u001b[0m | \u001b[0m 0.1805  \u001b[0m | \u001b[0m 8.969   \u001b[0m | \u001b[0m 1.305   \u001b[0m | \u001b[0m 78.8    \u001b[0m | \u001b[0m 2.51    \u001b[0m | \u001b[0m 0.9581  \u001b[0m |\n",
      "| \u001b[0m 83      \u001b[0m | \u001b[0m-1.285   \u001b[0m | \u001b[0m 1.0     \u001b[0m | \u001b[0m 0.2     \u001b[0m | \u001b[0m 3.0     \u001b[0m | \u001b[0m 1.0     \u001b[0m | \u001b[0m 80.88   \u001b[0m | \u001b[0m 8.707   \u001b[0m | \u001b[0m 0.5     \u001b[0m |\n",
      "| \u001b[0m 84      \u001b[0m | \u001b[0m-1.289   \u001b[0m | \u001b[0m 1.0     \u001b[0m | \u001b[0m 0.2     \u001b[0m | \u001b[0m 10.0    \u001b[0m | \u001b[0m 5.88    \u001b[0m | \u001b[0m 84.12   \u001b[0m | \u001b[0m 8.269   \u001b[0m | \u001b[0m 1.0     \u001b[0m |\n",
      "| \u001b[0m 85      \u001b[0m | \u001b[0m-2.551   \u001b[0m | \u001b[0m 0.5145  \u001b[0m | \u001b[0m 0.002682\u001b[0m | \u001b[0m 3.027   \u001b[0m | \u001b[0m 3.705   \u001b[0m | \u001b[0m 73.46   \u001b[0m | \u001b[0m 5.427   \u001b[0m | \u001b[0m 0.5151  \u001b[0m |\n",
      "| \u001b[0m 86      \u001b[0m | \u001b[0m-1.227   \u001b[0m | \u001b[0m 0.5687  \u001b[0m | \u001b[0m 0.07001 \u001b[0m | \u001b[0m 4.151   \u001b[0m | \u001b[0m 4.5     \u001b[0m | \u001b[0m 265.4   \u001b[0m | \u001b[0m 2.738   \u001b[0m | \u001b[0m 0.9933  \u001b[0m |\n",
      "| \u001b[0m 87      \u001b[0m | \u001b[0m-1.233   \u001b[0m | \u001b[0m 0.5     \u001b[0m | \u001b[0m 0.2     \u001b[0m | \u001b[0m 7.501   \u001b[0m | \u001b[0m 7.0     \u001b[0m | \u001b[0m 80.57   \u001b[0m | \u001b[0m 2.05    \u001b[0m | \u001b[0m 1.0     \u001b[0m |\n",
      "| \u001b[0m 88      \u001b[0m | \u001b[0m-1.272   \u001b[0m | \u001b[0m 0.6707  \u001b[0m | \u001b[0m 0.1929  \u001b[0m | \u001b[0m 3.03    \u001b[0m | \u001b[0m 5.99    \u001b[0m | \u001b[0m 83.9    \u001b[0m | \u001b[0m 7.425   \u001b[0m | \u001b[0m 0.6237  \u001b[0m |\n",
      "| \u001b[0m 89      \u001b[0m | \u001b[0m-1.289   \u001b[0m | \u001b[0m 0.5069  \u001b[0m | \u001b[0m 0.07311 \u001b[0m | \u001b[0m 6.065   \u001b[0m | \u001b[0m 1.0     \u001b[0m | \u001b[0m 462.9   \u001b[0m | \u001b[0m 4.501   \u001b[0m | \u001b[0m 1.0     \u001b[0m |\n"
     ]
    },
    {
     "name": "stdout",
     "output_type": "stream",
     "text": [
      "| \u001b[0m 90      \u001b[0m | \u001b[0m-1.221   \u001b[0m | \u001b[0m 0.5     \u001b[0m | \u001b[0m 0.2     \u001b[0m | \u001b[0m 5.765   \u001b[0m | \u001b[0m 7.0     \u001b[0m | \u001b[0m 85.66   \u001b[0m | \u001b[0m 3.216   \u001b[0m | \u001b[0m 1.0     \u001b[0m |\n",
      "| \u001b[0m 91      \u001b[0m | \u001b[0m-2.658   \u001b[0m | \u001b[0m 1.0     \u001b[0m | \u001b[0m 0.0005  \u001b[0m | \u001b[0m 8.223   \u001b[0m | \u001b[0m 2.491   \u001b[0m | \u001b[0m 256.5   \u001b[0m | \u001b[0m 2.0     \u001b[0m | \u001b[0m 0.5     \u001b[0m |\n",
      "| \u001b[0m 92      \u001b[0m | \u001b[0m-1.339   \u001b[0m | \u001b[0m 1.0     \u001b[0m | \u001b[0m 0.2     \u001b[0m | \u001b[0m 8.476   \u001b[0m | \u001b[0m 3.114   \u001b[0m | \u001b[0m 262.3   \u001b[0m | \u001b[0m 4.824   \u001b[0m | \u001b[0m 1.0     \u001b[0m |\n",
      "| \u001b[0m 93      \u001b[0m | \u001b[0m-1.239   \u001b[0m | \u001b[0m 1.0     \u001b[0m | \u001b[0m 0.2     \u001b[0m | \u001b[0m 3.0     \u001b[0m | \u001b[0m 4.722   \u001b[0m | \u001b[0m 206.0   \u001b[0m | \u001b[0m 2.0     \u001b[0m | \u001b[0m 1.0     \u001b[0m |\n",
      "| \u001b[0m 94      \u001b[0m | \u001b[0m-1.298   \u001b[0m | \u001b[0m 0.5033  \u001b[0m | \u001b[0m 0.1991  \u001b[0m | \u001b[0m 6.056   \u001b[0m | \u001b[0m 3.677   \u001b[0m | \u001b[0m 459.9   \u001b[0m | \u001b[0m 2.842   \u001b[0m | \u001b[0m 0.9431  \u001b[0m |\n",
      "| \u001b[0m 95      \u001b[0m | \u001b[0m-1.338   \u001b[0m | \u001b[0m 1.0     \u001b[0m | \u001b[0m 0.2     \u001b[0m | \u001b[0m 5.037   \u001b[0m | \u001b[0m 7.0     \u001b[0m | \u001b[0m 258.1   \u001b[0m | \u001b[0m 5.35    \u001b[0m | \u001b[0m 1.0     \u001b[0m |\n",
      "| \u001b[0m 96      \u001b[0m | \u001b[0m-1.219   \u001b[0m | \u001b[0m 0.758   \u001b[0m | \u001b[0m 0.1519  \u001b[0m | \u001b[0m 9.439   \u001b[0m | \u001b[0m 4.196   \u001b[0m | \u001b[0m 76.85   \u001b[0m | \u001b[0m 2.461   \u001b[0m | \u001b[0m 0.6984  \u001b[0m |\n",
      "| \u001b[0m 97      \u001b[0m | \u001b[0m-1.283   \u001b[0m | \u001b[0m 0.7083  \u001b[0m | \u001b[0m 0.1903  \u001b[0m | \u001b[0m 8.123   \u001b[0m | \u001b[0m 6.937   \u001b[0m | \u001b[0m 86.81   \u001b[0m | \u001b[0m 7.15    \u001b[0m | \u001b[0m 0.7576  \u001b[0m |\n",
      "| \u001b[0m 98      \u001b[0m | \u001b[0m-2.69    \u001b[0m | \u001b[0m 1.0     \u001b[0m | \u001b[0m 0.0005  \u001b[0m | \u001b[0m 5.251   \u001b[0m | \u001b[0m 4.781   \u001b[0m | \u001b[0m 203.3   \u001b[0m | \u001b[0m 3.052   \u001b[0m | \u001b[0m 1.0     \u001b[0m |\n",
      "| \u001b[0m 99      \u001b[0m | \u001b[0m-1.242   \u001b[0m | \u001b[0m 1.0     \u001b[0m | \u001b[0m 0.2     \u001b[0m | \u001b[0m 4.065   \u001b[0m | \u001b[0m 6.395   \u001b[0m | \u001b[0m 263.1   \u001b[0m | \u001b[0m 2.0     \u001b[0m | \u001b[0m 0.5     \u001b[0m |\n",
      "| \u001b[0m 100     \u001b[0m | \u001b[0m-1.307   \u001b[0m | \u001b[0m 0.8383  \u001b[0m | \u001b[0m 0.02388 \u001b[0m | \u001b[0m 3.269   \u001b[0m | \u001b[0m 2.866   \u001b[0m | \u001b[0m 83.19   \u001b[0m | \u001b[0m 7.159   \u001b[0m | \u001b[0m 0.5063  \u001b[0m |\n",
      "| \u001b[0m 101     \u001b[0m | \u001b[0m-1.241   \u001b[0m | \u001b[0m 1.0     \u001b[0m | \u001b[0m 0.2     \u001b[0m | \u001b[0m 9.602   \u001b[0m | \u001b[0m 6.143   \u001b[0m | \u001b[0m 78.89   \u001b[0m | \u001b[0m 3.603   \u001b[0m | \u001b[0m 1.0     \u001b[0m |\n",
      "| \u001b[0m 102     \u001b[0m | \u001b[0m-1.261   \u001b[0m | \u001b[0m 0.7886  \u001b[0m | \u001b[0m 0.1583  \u001b[0m | \u001b[0m 9.416   \u001b[0m | \u001b[0m 2.437   \u001b[0m | \u001b[0m 82.13   \u001b[0m | \u001b[0m 8.683   \u001b[0m | \u001b[0m 0.5078  \u001b[0m |\n",
      "| \u001b[0m 103     \u001b[0m | \u001b[0m-1.266   \u001b[0m | \u001b[0m 0.733   \u001b[0m | \u001b[0m 0.2     \u001b[0m | \u001b[0m 5.783   \u001b[0m | \u001b[0m 7.0     \u001b[0m | \u001b[0m 254.1   \u001b[0m | \u001b[0m 2.947   \u001b[0m | \u001b[0m 0.9272  \u001b[0m |\n",
      "| \u001b[0m 104     \u001b[0m | \u001b[0m-1.241   \u001b[0m | \u001b[0m 0.5     \u001b[0m | \u001b[0m 0.2     \u001b[0m | \u001b[0m 3.0     \u001b[0m | \u001b[0m 7.0     \u001b[0m | \u001b[0m 206.7   \u001b[0m | \u001b[0m 2.0     \u001b[0m | \u001b[0m 0.5     \u001b[0m |\n",
      "| \u001b[0m 105     \u001b[0m | \u001b[0m-1.292   \u001b[0m | \u001b[0m 0.5     \u001b[0m | \u001b[0m 0.2     \u001b[0m | \u001b[0m 10.0    \u001b[0m | \u001b[0m 3.866   \u001b[0m | \u001b[0m 87.09   \u001b[0m | \u001b[0m 8.351   \u001b[0m | \u001b[0m 1.0     \u001b[0m |\n",
      "| \u001b[0m 106     \u001b[0m | \u001b[0m-1.33    \u001b[0m | \u001b[0m 0.5     \u001b[0m | \u001b[0m 0.2     \u001b[0m | \u001b[0m 3.0     \u001b[0m | \u001b[0m 7.0     \u001b[0m | \u001b[0m 208.0   \u001b[0m | \u001b[0m 6.303   \u001b[0m | \u001b[0m 1.0     \u001b[0m |\n",
      "| \u001b[0m 107     \u001b[0m | \u001b[0m-2.506   \u001b[0m | \u001b[0m 1.0     \u001b[0m | \u001b[0m 0.0005  \u001b[0m | \u001b[0m 7.896   \u001b[0m | \u001b[0m 3.637   \u001b[0m | \u001b[0m 456.6   \u001b[0m | \u001b[0m 2.312   \u001b[0m | \u001b[0m 0.5     \u001b[0m |\n",
      "| \u001b[0m 108     \u001b[0m | \u001b[0m-1.244   \u001b[0m | \u001b[0m 0.6322  \u001b[0m | \u001b[0m 0.1122  \u001b[0m | \u001b[0m 7.216   \u001b[0m | \u001b[0m 6.151   \u001b[0m | \u001b[0m 265.7   \u001b[0m | \u001b[0m 2.74    \u001b[0m | \u001b[0m 0.8537  \u001b[0m |\n",
      "| \u001b[0m 109     \u001b[0m | \u001b[0m-1.242   \u001b[0m | \u001b[0m 1.0     \u001b[0m | \u001b[0m 0.2     \u001b[0m | \u001b[0m 4.196   \u001b[0m | \u001b[0m 6.387   \u001b[0m | \u001b[0m 267.9   \u001b[0m | \u001b[0m 2.0     \u001b[0m | \u001b[0m 0.5     \u001b[0m |\n",
      "| \u001b[0m 110     \u001b[0m | \u001b[0m-1.346   \u001b[0m | \u001b[0m 0.5     \u001b[0m | \u001b[0m 0.2     \u001b[0m | \u001b[0m 3.438   \u001b[0m | \u001b[0m 3.69    \u001b[0m | \u001b[0m 462.0   \u001b[0m | \u001b[0m 3.642   \u001b[0m | \u001b[0m 1.0     \u001b[0m |\n",
      "| \u001b[0m 111     \u001b[0m | \u001b[0m-1.242   \u001b[0m | \u001b[0m 1.0     \u001b[0m | \u001b[0m 0.2     \u001b[0m | \u001b[0m 8.21    \u001b[0m | \u001b[0m 6.453   \u001b[0m | \u001b[0m 251.9   \u001b[0m | \u001b[0m 2.0     \u001b[0m | \u001b[0m 0.5563  \u001b[0m |\n",
      "| \u001b[0m 112     \u001b[0m | \u001b[0m-1.254   \u001b[0m | \u001b[0m 0.7656  \u001b[0m | \u001b[0m 0.05311 \u001b[0m | \u001b[0m 3.826   \u001b[0m | \u001b[0m 3.87    \u001b[0m | \u001b[0m 253.7   \u001b[0m | \u001b[0m 6.601   \u001b[0m | \u001b[0m 0.7513  \u001b[0m |\n",
      "| \u001b[0m 113     \u001b[0m | \u001b[0m-1.259   \u001b[0m | \u001b[0m 1.0     \u001b[0m | \u001b[0m 0.2     \u001b[0m | \u001b[0m 10.0    \u001b[0m | \u001b[0m 1.0     \u001b[0m | \u001b[0m 80.26   \u001b[0m | \u001b[0m 5.081   \u001b[0m | \u001b[0m 1.0     \u001b[0m |\n",
      "| \u001b[0m 114     \u001b[0m | \u001b[0m-1.323   \u001b[0m | \u001b[0m 0.968   \u001b[0m | \u001b[0m 0.1919  \u001b[0m | \u001b[0m 6.093   \u001b[0m | \u001b[0m 4.685   \u001b[0m | \u001b[0m 251.7   \u001b[0m | \u001b[0m 4.938   \u001b[0m | \u001b[0m 0.8399  \u001b[0m |\n",
      "| \u001b[0m 115     \u001b[0m | \u001b[0m-2.547   \u001b[0m | \u001b[0m 0.5     \u001b[0m | \u001b[0m 0.0005  \u001b[0m | \u001b[0m 7.016   \u001b[0m | \u001b[0m 2.511   \u001b[0m | \u001b[0m 462.9   \u001b[0m | \u001b[0m 2.0     \u001b[0m | \u001b[0m 0.5     \u001b[0m |\n",
      "| \u001b[0m 116     \u001b[0m | \u001b[0m-1.276   \u001b[0m | \u001b[0m 0.8946  \u001b[0m | \u001b[0m 0.04515 \u001b[0m | \u001b[0m 4.351   \u001b[0m | \u001b[0m 1.154   \u001b[0m | \u001b[0m 460.2   \u001b[0m | \u001b[0m 5.652   \u001b[0m | \u001b[0m 0.9317  \u001b[0m |\n",
      "| \u001b[0m 117     \u001b[0m | \u001b[0m-1.315   \u001b[0m | \u001b[0m 0.7347  \u001b[0m | \u001b[0m 0.06543 \u001b[0m | \u001b[0m 6.578   \u001b[0m | \u001b[0m 1.218   \u001b[0m | \u001b[0m 462.6   \u001b[0m | \u001b[0m 6.898   \u001b[0m | \u001b[0m 0.9085  \u001b[0m |\n",
      "| \u001b[0m 118     \u001b[0m | \u001b[0m-2.802   \u001b[0m | \u001b[0m 1.0     \u001b[0m | \u001b[0m 0.0005  \u001b[0m | \u001b[0m 7.622   \u001b[0m | \u001b[0m 1.0     \u001b[0m | \u001b[0m 80.8    \u001b[0m | \u001b[0m 7.233   \u001b[0m | \u001b[0m 0.5     \u001b[0m |\n",
      "| \u001b[0m 119     \u001b[0m | \u001b[0m-1.713   \u001b[0m | \u001b[0m 0.7402  \u001b[0m | \u001b[0m 0.0148  \u001b[0m | \u001b[0m 6.462   \u001b[0m | \u001b[0m 2.757   \u001b[0m | \u001b[0m 80.71   \u001b[0m | \u001b[0m 2.052   \u001b[0m | \u001b[0m 0.6826  \u001b[0m |\n",
      "| \u001b[95m 120     \u001b[0m | \u001b[95m-1.209   \u001b[0m | \u001b[95m 0.7262  \u001b[0m | \u001b[95m 0.1071  \u001b[0m | \u001b[95m 8.239   \u001b[0m | \u001b[95m 3.971   \u001b[0m | \u001b[95m 79.23   \u001b[0m | \u001b[95m 3.286   \u001b[0m | \u001b[95m 0.6077  \u001b[0m |\n",
      "=============================================================================================================\n"
     ]
    }
   ],
   "source": [
    "BO_lgbm.maximize(init_points = 20, n_iter = 100)"
   ]
  },
  {
   "cell_type": "code",
   "execution_count": 966,
   "metadata": {
    "scrolled": true
   },
   "outputs": [
    {
     "data": {
      "text/plain": [
       "{'target': -1.20917632275196,\n",
       " 'params': {'colsample_bytree': 0.7261814680472192,\n",
       "  'learning_rate': 0.10707694152697225,\n",
       "  'max_depth': 8.239262857431134,\n",
       "  'min_child_weight': 3.9711828483549247,\n",
       "  'n_estimators': 79.22844477316195,\n",
       "  'num_leaves': 3.2862522821416347,\n",
       "  'subsample': 0.6077260486252966}}"
      ]
     },
     "execution_count": 966,
     "metadata": {},
     "output_type": "execute_result"
    }
   ],
   "source": [
    "BO_lgbm.max"
   ]
  },
  {
   "cell_type": "code",
   "execution_count": 967,
   "metadata": {},
   "outputs": [],
   "source": [
    "params = BO_lgbm.max['params']\n",
    "params['max_depth'] = int(round(params['max_depth']))\n",
    "params['n_estimators'] = int(round(params['n_estimators']))\n",
    "params['num_leaves'] = int(round(params['num_leaves']))"
   ]
  },
  {
   "cell_type": "code",
   "execution_count": 968,
   "metadata": {},
   "outputs": [],
   "source": [
    "lgbm = LGBMRegressor(random_state = 1010, **params)\n",
    "lgbm.fit(X, y)\n",
    "pred_lgbm = np.expm1(lgbm.predict(target))"
   ]
  },
  {
   "cell_type": "code",
   "execution_count": 969,
   "metadata": {},
   "outputs": [],
   "source": [
    "submission['box_off_num'] = pred_lgbm"
   ]
  },
  {
   "cell_type": "code",
   "execution_count": 970,
   "metadata": {
    "scrolled": true
   },
   "outputs": [
    {
     "data": {
      "text/html": [
       "<div>\n",
       "<style scoped>\n",
       "    .dataframe tbody tr th:only-of-type {\n",
       "        vertical-align: middle;\n",
       "    }\n",
       "\n",
       "    .dataframe tbody tr th {\n",
       "        vertical-align: top;\n",
       "    }\n",
       "\n",
       "    .dataframe thead th {\n",
       "        text-align: right;\n",
       "    }\n",
       "</style>\n",
       "<table border=\"1\" class=\"dataframe\">\n",
       "  <thead>\n",
       "    <tr style=\"text-align: right;\">\n",
       "      <th></th>\n",
       "      <th>title</th>\n",
       "      <th>box_off_num</th>\n",
       "    </tr>\n",
       "  </thead>\n",
       "  <tbody>\n",
       "    <tr>\n",
       "      <th>229</th>\n",
       "      <td>베테랑</td>\n",
       "      <td>3.273155e+06</td>\n",
       "    </tr>\n",
       "    <tr>\n",
       "      <th>178</th>\n",
       "      <td>명량</td>\n",
       "      <td>2.935712e+06</td>\n",
       "    </tr>\n",
       "    <tr>\n",
       "      <th>179</th>\n",
       "      <td>군도: 민란의 시대</td>\n",
       "      <td>2.597441e+06</td>\n",
       "    </tr>\n",
       "    <tr>\n",
       "      <th>106</th>\n",
       "      <td>댄싱퀸</td>\n",
       "      <td>2.512630e+06</td>\n",
       "    </tr>\n",
       "    <tr>\n",
       "      <th>15</th>\n",
       "      <td>포화 속으로</td>\n",
       "      <td>2.466358e+06</td>\n",
       "    </tr>\n",
       "    <tr>\n",
       "      <th>142</th>\n",
       "      <td>박수건달</td>\n",
       "      <td>2.461039e+06</td>\n",
       "    </tr>\n",
       "    <tr>\n",
       "      <th>135</th>\n",
       "      <td>용의자</td>\n",
       "      <td>2.445491e+06</td>\n",
       "    </tr>\n",
       "    <tr>\n",
       "      <th>184</th>\n",
       "      <td>기술자들</td>\n",
       "      <td>2.171414e+06</td>\n",
       "    </tr>\n",
       "    <tr>\n",
       "      <th>166</th>\n",
       "      <td>방황하는 칼날</td>\n",
       "      <td>1.945400e+06</td>\n",
       "    </tr>\n",
       "    <tr>\n",
       "      <th>61</th>\n",
       "      <td>수상한 고객들</td>\n",
       "      <td>1.773254e+06</td>\n",
       "    </tr>\n",
       "    <tr>\n",
       "      <th>212</th>\n",
       "      <td>간신</td>\n",
       "      <td>1.708189e+06</td>\n",
       "    </tr>\n",
       "    <tr>\n",
       "      <th>66</th>\n",
       "      <td>위험한 상견례</td>\n",
       "      <td>1.697421e+06</td>\n",
       "    </tr>\n",
       "    <tr>\n",
       "      <th>159</th>\n",
       "      <td>하이힐</td>\n",
       "      <td>1.693147e+06</td>\n",
       "    </tr>\n",
       "    <tr>\n",
       "      <th>76</th>\n",
       "      <td>음치 클리닉</td>\n",
       "      <td>1.674109e+06</td>\n",
       "    </tr>\n",
       "    <tr>\n",
       "      <th>83</th>\n",
       "      <td>늑대소년</td>\n",
       "      <td>1.641537e+06</td>\n",
       "    </tr>\n",
       "    <tr>\n",
       "      <th>0</th>\n",
       "      <td>용서는 없다</td>\n",
       "      <td>1.602627e+06</td>\n",
       "    </tr>\n",
       "    <tr>\n",
       "      <th>58</th>\n",
       "      <td>체포왕</td>\n",
       "      <td>1.596095e+06</td>\n",
       "    </tr>\n",
       "    <tr>\n",
       "      <th>3</th>\n",
       "      <td>의형제</td>\n",
       "      <td>1.596095e+06</td>\n",
       "    </tr>\n",
       "    <tr>\n",
       "      <th>134</th>\n",
       "      <td>동창생</td>\n",
       "      <td>1.521517e+06</td>\n",
       "    </tr>\n",
       "    <tr>\n",
       "      <th>85</th>\n",
       "      <td>용의자X</td>\n",
       "      <td>1.506091e+06</td>\n",
       "    </tr>\n",
       "  </tbody>\n",
       "</table>\n",
       "</div>"
      ],
      "text/plain": [
       "          title   box_off_num\n",
       "229         베테랑  3.273155e+06\n",
       "178          명량  2.935712e+06\n",
       "179  군도: 민란의 시대  2.597441e+06\n",
       "106         댄싱퀸  2.512630e+06\n",
       "15       포화 속으로  2.466358e+06\n",
       "142        박수건달  2.461039e+06\n",
       "135         용의자  2.445491e+06\n",
       "184        기술자들  2.171414e+06\n",
       "166     방황하는 칼날  1.945400e+06\n",
       "61      수상한 고객들  1.773254e+06\n",
       "212          간신  1.708189e+06\n",
       "66      위험한 상견례  1.697421e+06\n",
       "159         하이힐  1.693147e+06\n",
       "76       음치 클리닉  1.674109e+06\n",
       "83         늑대소년  1.641537e+06\n",
       "0        용서는 없다  1.602627e+06\n",
       "58          체포왕  1.596095e+06\n",
       "3           의형제  1.596095e+06\n",
       "134         동창생  1.521517e+06\n",
       "85         용의자X  1.506091e+06"
      ]
     },
     "execution_count": 970,
     "metadata": {},
     "output_type": "execute_result"
    }
   ],
   "source": [
    "submission.sort_values(by = 'box_off_num', ascending = False)[:20]"
   ]
  },
  {
   "cell_type": "code",
   "execution_count": 971,
   "metadata": {},
   "outputs": [],
   "source": [
    "pbounds = { 'learning_rate': (0.0005, 0.2),\n",
    "            'n_estimators': (16, 512),\n",
    "            'max_depth': (3,10),   \n",
    "            'subsample': (0.5,1), \n",
    "            'min_samples_split': (2,5),   \n",
    "            'min_samples_leaf': (1,5)}\n",
    "\n",
    "def gbm_opt(learning_rate, n_estimators, max_depth, subsample, min_samples_split, min_samples_leaf):\n",
    "\n",
    "    params = {\n",
    "        'learning_rate': learning_rate,\n",
    "        'n_estimators' : int(round(n_estimators)),\n",
    "        'max_depth' : int(round(max_depth)),\n",
    "        'subsample': subsample,\n",
    "        'min_samples_split' : int(round(min_samples_split)),\n",
    "        'min_samples_leaf' : int(round(min_samples_leaf))\n",
    "    }\n",
    "    \n",
    "    gbm = GradientBoostingRegressor(**params)\n",
    "    \n",
    "    kf = KFold(n_splits = 10 , shuffle = True, random_state=50)\n",
    "\n",
    "    score = cross_val_score(gbm, X, y, scoring='neg_mean_absolute_error', cv = kf, n_jobs=-1)\n",
    "    \n",
    "    return np.mean(score)\n",
    "\n",
    "BO_gbm = BayesianOptimization(f = gbm_opt, pbounds = pbounds, random_state=0)    "
   ]
  },
  {
   "cell_type": "code",
   "execution_count": 972,
   "metadata": {
    "scrolled": true
   },
   "outputs": [
    {
     "name": "stdout",
     "output_type": "stream",
     "text": [
      "|   iter    |  target   | learni... | max_depth | min_sa... | min_sa... | n_esti... | subsample |\n",
      "-------------------------------------------------------------------------------------------------\n",
      "| \u001b[0m 1       \u001b[0m | \u001b[0m-1.335   \u001b[0m | \u001b[0m 0.11    \u001b[0m | \u001b[0m 8.006   \u001b[0m | \u001b[0m 3.411   \u001b[0m | \u001b[0m 3.635   \u001b[0m | \u001b[0m 226.1   \u001b[0m | \u001b[0m 0.8229  \u001b[0m |\n",
      "| \u001b[0m 2       \u001b[0m | \u001b[0m-1.379   \u001b[0m | \u001b[0m 0.0878  \u001b[0m | \u001b[0m 9.242   \u001b[0m | \u001b[0m 4.855   \u001b[0m | \u001b[0m 3.15    \u001b[0m | \u001b[0m 408.7   \u001b[0m | \u001b[0m 0.7644  \u001b[0m |\n",
      "| \u001b[95m 3       \u001b[0m | \u001b[95m-1.284   \u001b[0m | \u001b[95m 0.1138  \u001b[0m | \u001b[95m 9.479   \u001b[0m | \u001b[95m 1.284   \u001b[0m | \u001b[95m 2.261   \u001b[0m | \u001b[95m 26.03   \u001b[0m | \u001b[95m 0.9163  \u001b[0m |\n",
      "| \u001b[0m 4       \u001b[0m | \u001b[0m-1.373   \u001b[0m | \u001b[0m 0.1557  \u001b[0m | \u001b[0m 9.09    \u001b[0m | \u001b[0m 4.914   \u001b[0m | \u001b[0m 4.397   \u001b[0m | \u001b[0m 244.9   \u001b[0m | \u001b[0m 0.8903  \u001b[0m |\n",
      "| \u001b[95m 5       \u001b[0m | \u001b[95m-1.246   \u001b[0m | \u001b[95m 0.0241  \u001b[0m | \u001b[95m 7.479   \u001b[0m | \u001b[95m 1.573   \u001b[0m | \u001b[95m 4.834   \u001b[0m | \u001b[95m 274.8   \u001b[0m | \u001b[95m 0.7073  \u001b[0m |\n",
      "| \u001b[0m 6       \u001b[0m | \u001b[0m-1.389   \u001b[0m | \u001b[0m 0.05328 \u001b[0m | \u001b[0m 8.42    \u001b[0m | \u001b[0m 2.825   \u001b[0m | \u001b[0m 3.705   \u001b[0m | \u001b[0m 25.32   \u001b[0m | \u001b[0m 0.8088  \u001b[0m |\n",
      "| \u001b[0m 7       \u001b[0m | \u001b[0m-1.368   \u001b[0m | \u001b[0m 0.1226  \u001b[0m | \u001b[0m 7.319   \u001b[0m | \u001b[0m 4.775   \u001b[0m | \u001b[0m 4.045   \u001b[0m | \u001b[0m 194.3   \u001b[0m | \u001b[0m 0.7185  \u001b[0m |\n",
      "| \u001b[0m 8       \u001b[0m | \u001b[0m-1.253   \u001b[0m | \u001b[0m 0.1397  \u001b[0m | \u001b[0m 3.422   \u001b[0m | \u001b[0m 3.667   \u001b[0m | \u001b[0m 4.012   \u001b[0m | \u001b[0m 120.3   \u001b[0m | \u001b[0m 0.5645  \u001b[0m |\n",
      "| \u001b[0m 9       \u001b[0m | \u001b[0m-1.362   \u001b[0m | \u001b[0m 0.06343 \u001b[0m | \u001b[0m 5.546   \u001b[0m | \u001b[0m 3.281   \u001b[0m | \u001b[0m 3.316   \u001b[0m | \u001b[0m 506.2   \u001b[0m | \u001b[0m 0.551   \u001b[0m |\n",
      "| \u001b[95m 10      \u001b[0m | \u001b[95m-1.228   \u001b[0m | \u001b[95m 0.04217 \u001b[0m | \u001b[95m 4.129   \u001b[0m | \u001b[95m 3.612   \u001b[0m | \u001b[95m 2.76    \u001b[0m | \u001b[95m 247.3   \u001b[0m | \u001b[95m 0.6222  \u001b[0m |\n",
      "| \u001b[95m 11      \u001b[0m | \u001b[95m-1.192   \u001b[0m | \u001b[95m 0.03221 \u001b[0m | \u001b[95m 3.773   \u001b[0m | \u001b[95m 3.625   \u001b[0m | \u001b[95m 2.415   \u001b[0m | \u001b[95m 113.5   \u001b[0m | \u001b[95m 0.6844  \u001b[0m |\n",
      "| \u001b[0m 12      \u001b[0m | \u001b[0m-1.426   \u001b[0m | \u001b[0m 0.1643  \u001b[0m | \u001b[0m 3.68    \u001b[0m | \u001b[0m 4.352   \u001b[0m | \u001b[0m 2.288   \u001b[0m | \u001b[0m 500.3   \u001b[0m | \u001b[0m 0.7343  \u001b[0m |\n",
      "| \u001b[0m 13      \u001b[0m | \u001b[0m-1.403   \u001b[0m | \u001b[0m 0.1954  \u001b[0m | \u001b[0m 7.234   \u001b[0m | \u001b[0m 3.957   \u001b[0m | \u001b[0m 2.118   \u001b[0m | \u001b[0m 156.3   \u001b[0m | \u001b[0m 0.5601  \u001b[0m |\n",
      "| \u001b[95m 14      \u001b[0m | \u001b[95m-1.192   \u001b[0m | \u001b[95m 0.05958 \u001b[0m | \u001b[95m 3.831   \u001b[0m | \u001b[95m 2.272   \u001b[0m | \u001b[95m 3.243   \u001b[0m | \u001b[95m 47.82   \u001b[0m | \u001b[95m 0.8462  \u001b[0m |\n",
      "| \u001b[0m 15      \u001b[0m | \u001b[0m-1.343   \u001b[0m | \u001b[0m 0.1135  \u001b[0m | \u001b[0m 4.858   \u001b[0m | \u001b[0m 3.093   \u001b[0m | \u001b[0m 2.282   \u001b[0m | \u001b[0m 301.7   \u001b[0m | \u001b[0m 0.9646  \u001b[0m |\n",
      "| \u001b[0m 16      \u001b[0m | \u001b[0m-1.286   \u001b[0m | \u001b[0m 0.06405 \u001b[0m | \u001b[0m 7.672   \u001b[0m | \u001b[0m 1.527   \u001b[0m | \u001b[0m 4.149   \u001b[0m | \u001b[0m 159.5   \u001b[0m | \u001b[0m 0.5916  \u001b[0m |\n",
      "| \u001b[0m 17      \u001b[0m | \u001b[0m-1.342   \u001b[0m | \u001b[0m 0.1175  \u001b[0m | \u001b[0m 3.141   \u001b[0m | \u001b[0m 4.316   \u001b[0m | \u001b[0m 2.014   \u001b[0m | \u001b[0m 352.2   \u001b[0m | \u001b[0m 0.635   \u001b[0m |\n",
      "| \u001b[0m 18      \u001b[0m | \u001b[0m-1.343   \u001b[0m | \u001b[0m 0.1472  \u001b[0m | \u001b[0m 9.735   \u001b[0m | \u001b[0m 1.995   \u001b[0m | \u001b[0m 3.728   \u001b[0m | \u001b[0m 309.7   \u001b[0m | \u001b[0m 0.7861  \u001b[0m |\n",
      "| \u001b[0m 19      \u001b[0m | \u001b[0m-1.335   \u001b[0m | \u001b[0m 0.045   \u001b[0m | \u001b[0m 9.669   \u001b[0m | \u001b[0m 2.789   \u001b[0m | \u001b[0m 4.539   \u001b[0m | \u001b[0m 362.9   \u001b[0m | \u001b[0m 0.6487  \u001b[0m |\n",
      "| \u001b[0m 20      \u001b[0m | \u001b[0m-1.421   \u001b[0m | \u001b[0m 0.1629  \u001b[0m | \u001b[0m 5.776   \u001b[0m | \u001b[0m 4.524   \u001b[0m | \u001b[0m 3.744   \u001b[0m | \u001b[0m 453.3   \u001b[0m | \u001b[0m 0.8463  \u001b[0m |\n",
      "| \u001b[0m 21      \u001b[0m | \u001b[0m-1.388   \u001b[0m | \u001b[0m 0.1031  \u001b[0m | \u001b[0m 3.959   \u001b[0m | \u001b[0m 3.585   \u001b[0m | \u001b[0m 2.487   \u001b[0m | \u001b[0m 455.2   \u001b[0m | \u001b[0m 0.7975  \u001b[0m |\n",
      "| \u001b[0m 22      \u001b[0m | \u001b[0m-1.348   \u001b[0m | \u001b[0m 0.05148 \u001b[0m | \u001b[0m 6.715   \u001b[0m | \u001b[0m 1.534   \u001b[0m | \u001b[0m 4.946   \u001b[0m | \u001b[0m 432.2   \u001b[0m | \u001b[0m 0.6572  \u001b[0m |\n",
      "| \u001b[0m 23      \u001b[0m | \u001b[0m-1.209   \u001b[0m | \u001b[0m 0.1025  \u001b[0m | \u001b[0m 4.087   \u001b[0m | \u001b[0m 1.875   \u001b[0m | \u001b[0m 3.356   \u001b[0m | \u001b[0m 47.68   \u001b[0m | \u001b[0m 0.8622  \u001b[0m |\n",
      "| \u001b[0m 24      \u001b[0m | \u001b[0m-1.223   \u001b[0m | \u001b[0m 0.1979  \u001b[0m | \u001b[0m 3.857   \u001b[0m | \u001b[0m 3.738   \u001b[0m | \u001b[0m 2.952   \u001b[0m | \u001b[0m 46.6    \u001b[0m | \u001b[0m 0.8406  \u001b[0m |\n",
      "| \u001b[0m 25      \u001b[0m | \u001b[0m-1.21    \u001b[0m | \u001b[0m 0.09438 \u001b[0m | \u001b[0m 4.404   \u001b[0m | \u001b[0m 3.695   \u001b[0m | \u001b[0m 2.825   \u001b[0m | \u001b[0m 49.69   \u001b[0m | \u001b[0m 0.549   \u001b[0m |\n",
      "| \u001b[0m 26      \u001b[0m | \u001b[0m-2.837   \u001b[0m | \u001b[0m 0.0005  \u001b[0m | \u001b[0m 3.0     \u001b[0m | \u001b[0m 3.542   \u001b[0m | \u001b[0m 5.0     \u001b[0m | \u001b[0m 48.89   \u001b[0m | \u001b[0m 1.0     \u001b[0m |\n",
      "| \u001b[0m 27      \u001b[0m | \u001b[0m-1.435   \u001b[0m | \u001b[0m 0.02708 \u001b[0m | \u001b[0m 3.566   \u001b[0m | \u001b[0m 2.006   \u001b[0m | \u001b[0m 2.092   \u001b[0m | \u001b[0m 46.93   \u001b[0m | \u001b[0m 0.5826  \u001b[0m |\n",
      "| \u001b[0m 28      \u001b[0m | \u001b[0m-1.271   \u001b[0m | \u001b[0m 0.1917  \u001b[0m | \u001b[0m 4.808   \u001b[0m | \u001b[0m 2.95    \u001b[0m | \u001b[0m 2.601   \u001b[0m | \u001b[0m 48.33   \u001b[0m | \u001b[0m 0.6952  \u001b[0m |\n",
      "| \u001b[0m 29      \u001b[0m | \u001b[0m-1.223   \u001b[0m | \u001b[0m 0.06633 \u001b[0m | \u001b[0m 5.077   \u001b[0m | \u001b[0m 3.861   \u001b[0m | \u001b[0m 2.666   \u001b[0m | \u001b[0m 113.3   \u001b[0m | \u001b[0m 0.8166  \u001b[0m |\n",
      "| \u001b[0m 30      \u001b[0m | \u001b[0m-1.202   \u001b[0m | \u001b[0m 0.04846 \u001b[0m | \u001b[0m 4.451   \u001b[0m | \u001b[0m 3.06    \u001b[0m | \u001b[0m 3.254   \u001b[0m | \u001b[0m 114.5   \u001b[0m | \u001b[0m 0.7302  \u001b[0m |\n",
      "| \u001b[0m 31      \u001b[0m | \u001b[0m-1.402   \u001b[0m | \u001b[0m 0.1728  \u001b[0m | \u001b[0m 4.699   \u001b[0m | \u001b[0m 2.425   \u001b[0m | \u001b[0m 2.69    \u001b[0m | \u001b[0m 113.0   \u001b[0m | \u001b[0m 0.5009  \u001b[0m |\n",
      "| \u001b[0m 32      \u001b[0m | \u001b[0m-1.3     \u001b[0m | \u001b[0m 0.1803  \u001b[0m | \u001b[0m 3.723   \u001b[0m | \u001b[0m 4.831   \u001b[0m | \u001b[0m 2.944   \u001b[0m | \u001b[0m 113.9   \u001b[0m | \u001b[0m 0.5769  \u001b[0m |\n",
      "| \u001b[0m 33      \u001b[0m | \u001b[0m-2.764   \u001b[0m | \u001b[0m 0.0005  \u001b[0m | \u001b[0m 4.696   \u001b[0m | \u001b[0m 3.912   \u001b[0m | \u001b[0m 2.0     \u001b[0m | \u001b[0m 114.9   \u001b[0m | \u001b[0m 1.0     \u001b[0m |\n",
      "| \u001b[0m 34      \u001b[0m | \u001b[0m-1.249   \u001b[0m | \u001b[0m 0.0187  \u001b[0m | \u001b[0m 4.382   \u001b[0m | \u001b[0m 3.59    \u001b[0m | \u001b[0m 3.232   \u001b[0m | \u001b[0m 112.8   \u001b[0m | \u001b[0m 0.9319  \u001b[0m |\n",
      "| \u001b[0m 35      \u001b[0m | \u001b[0m-1.235   \u001b[0m | \u001b[0m 0.06449 \u001b[0m | \u001b[0m 3.299   \u001b[0m | \u001b[0m 4.475   \u001b[0m | \u001b[0m 3.165   \u001b[0m | \u001b[0m 245.7   \u001b[0m | \u001b[0m 0.6738  \u001b[0m |\n",
      "| \u001b[0m 36      \u001b[0m | \u001b[0m-1.241   \u001b[0m | \u001b[0m 0.09541 \u001b[0m | \u001b[0m 4.931   \u001b[0m | \u001b[0m 3.446   \u001b[0m | \u001b[0m 3.658   \u001b[0m | \u001b[0m 113.7   \u001b[0m | \u001b[0m 0.9985  \u001b[0m |\n",
      "| \u001b[0m 37      \u001b[0m | \u001b[0m-1.231   \u001b[0m | \u001b[0m 0.09958 \u001b[0m | \u001b[0m 3.988   \u001b[0m | \u001b[0m 2.909   \u001b[0m | \u001b[0m 3.33    \u001b[0m | \u001b[0m 113.6   \u001b[0m | \u001b[0m 0.7316  \u001b[0m |\n",
      "| \u001b[0m 38      \u001b[0m | \u001b[0m-1.218   \u001b[0m | \u001b[0m 0.0217  \u001b[0m | \u001b[0m 4.109   \u001b[0m | \u001b[0m 4.019   \u001b[0m | \u001b[0m 4.242   \u001b[0m | \u001b[0m 114.2   \u001b[0m | \u001b[0m 0.5574  \u001b[0m |\n",
      "| \u001b[0m 39      \u001b[0m | \u001b[0m-1.195   \u001b[0m | \u001b[0m 0.07506 \u001b[0m | \u001b[0m 3.168   \u001b[0m | \u001b[0m 3.865   \u001b[0m | \u001b[0m 2.527   \u001b[0m | \u001b[0m 112.8   \u001b[0m | \u001b[0m 0.7947  \u001b[0m |\n",
      "| \u001b[0m 40      \u001b[0m | \u001b[0m-1.196   \u001b[0m | \u001b[0m 0.03712 \u001b[0m | \u001b[0m 4.354   \u001b[0m | \u001b[0m 2.623   \u001b[0m | \u001b[0m 4.341   \u001b[0m | \u001b[0m 114.6   \u001b[0m | \u001b[0m 0.5     \u001b[0m |\n",
      "| \u001b[0m 41      \u001b[0m | \u001b[0m-1.381   \u001b[0m | \u001b[0m 0.1747  \u001b[0m | \u001b[0m 5.788   \u001b[0m | \u001b[0m 4.56    \u001b[0m | \u001b[0m 3.098   \u001b[0m | \u001b[0m 112.4   \u001b[0m | \u001b[0m 0.7661  \u001b[0m |\n",
      "| \u001b[0m 42      \u001b[0m | \u001b[0m-1.223   \u001b[0m | \u001b[0m 0.1574  \u001b[0m | \u001b[0m 5.014   \u001b[0m | \u001b[0m 2.897   \u001b[0m | \u001b[0m 3.764   \u001b[0m | \u001b[0m 46.53   \u001b[0m | \u001b[0m 0.9791  \u001b[0m |\n",
      "| \u001b[0m 43      \u001b[0m | \u001b[0m-1.23    \u001b[0m | \u001b[0m 0.1509  \u001b[0m | \u001b[0m 3.256   \u001b[0m | \u001b[0m 3.119   \u001b[0m | \u001b[0m 4.31    \u001b[0m | \u001b[0m 115.6   \u001b[0m | \u001b[0m 0.9486  \u001b[0m |\n",
      "| \u001b[0m 44      \u001b[0m | \u001b[0m-1.264   \u001b[0m | \u001b[0m 0.06625 \u001b[0m | \u001b[0m 4.107   \u001b[0m | \u001b[0m 3.225   \u001b[0m | \u001b[0m 3.492   \u001b[0m | \u001b[0m 245.9   \u001b[0m | \u001b[0m 0.6319  \u001b[0m |\n",
      "| \u001b[0m 45      \u001b[0m | \u001b[0m-1.344   \u001b[0m | \u001b[0m 0.1197  \u001b[0m | \u001b[0m 4.977   \u001b[0m | \u001b[0m 4.18    \u001b[0m | \u001b[0m 2.511   \u001b[0m | \u001b[0m 245.9   \u001b[0m | \u001b[0m 0.845   \u001b[0m |\n",
      "| \u001b[0m 46      \u001b[0m | \u001b[0m-1.2     \u001b[0m | \u001b[0m 0.02685 \u001b[0m | \u001b[0m 3.244   \u001b[0m | \u001b[0m 2.745   \u001b[0m | \u001b[0m 4.735   \u001b[0m | \u001b[0m 114.0   \u001b[0m | \u001b[0m 0.5555  \u001b[0m |\n",
      "| \u001b[0m 47      \u001b[0m | \u001b[0m-2.839   \u001b[0m | \u001b[0m 0.0005  \u001b[0m | \u001b[0m 5.403   \u001b[0m | \u001b[0m 4.033   \u001b[0m | \u001b[0m 2.669   \u001b[0m | \u001b[0m 46.8    \u001b[0m | \u001b[0m 1.0     \u001b[0m |\n",
      "| \u001b[0m 48      \u001b[0m | \u001b[0m-2.437   \u001b[0m | \u001b[0m 0.00197 \u001b[0m | \u001b[0m 3.594   \u001b[0m | \u001b[0m 1.847   \u001b[0m | \u001b[0m 4.796   \u001b[0m | \u001b[0m 115.0   \u001b[0m | \u001b[0m 0.8537  \u001b[0m |\n",
      "| \u001b[0m 49      \u001b[0m | \u001b[0m-1.251   \u001b[0m | \u001b[0m 0.1132  \u001b[0m | \u001b[0m 4.065   \u001b[0m | \u001b[0m 2.777   \u001b[0m | \u001b[0m 4.647   \u001b[0m | \u001b[0m 113.8   \u001b[0m | \u001b[0m 0.7427  \u001b[0m |\n",
      "| \u001b[0m 50      \u001b[0m | \u001b[0m-1.25    \u001b[0m | \u001b[0m 0.1069  \u001b[0m | \u001b[0m 3.584   \u001b[0m | \u001b[0m 3.166   \u001b[0m | \u001b[0m 3.648   \u001b[0m | \u001b[0m 114.8   \u001b[0m | \u001b[0m 0.8111  \u001b[0m |\n"
     ]
    },
    {
     "name": "stdout",
     "output_type": "stream",
     "text": [
      "| \u001b[0m 51      \u001b[0m | \u001b[0m-1.283   \u001b[0m | \u001b[0m 0.1616  \u001b[0m | \u001b[0m 8.177   \u001b[0m | \u001b[0m 1.622   \u001b[0m | \u001b[0m 2.419   \u001b[0m | \u001b[0m 30.22   \u001b[0m | \u001b[0m 0.8858  \u001b[0m |\n",
      "| \u001b[0m 52      \u001b[0m | \u001b[0m-1.199   \u001b[0m | \u001b[0m 0.01816 \u001b[0m | \u001b[0m 4.12    \u001b[0m | \u001b[0m 3.778   \u001b[0m | \u001b[0m 2.469   \u001b[0m | \u001b[0m 455.2   \u001b[0m | \u001b[0m 0.9444  \u001b[0m |\n",
      "| \u001b[0m 53      \u001b[0m | \u001b[0m-2.767   \u001b[0m | \u001b[0m 0.0005  \u001b[0m | \u001b[0m 3.186   \u001b[0m | \u001b[0m 3.55    \u001b[0m | \u001b[0m 3.943   \u001b[0m | \u001b[0m 113.6   \u001b[0m | \u001b[0m 0.5     \u001b[0m |\n",
      "| \u001b[0m 54      \u001b[0m | \u001b[0m-1.393   \u001b[0m | \u001b[0m 0.1771  \u001b[0m | \u001b[0m 9.285   \u001b[0m | \u001b[0m 2.347   \u001b[0m | \u001b[0m 4.719   \u001b[0m | \u001b[0m 310.5   \u001b[0m | \u001b[0m 0.5062  \u001b[0m |\n",
      "| \u001b[0m 55      \u001b[0m | \u001b[0m-1.298   \u001b[0m | \u001b[0m 0.09354 \u001b[0m | \u001b[0m 3.473   \u001b[0m | \u001b[0m 1.663   \u001b[0m | \u001b[0m 4.413   \u001b[0m | \u001b[0m 315.7   \u001b[0m | \u001b[0m 0.6133  \u001b[0m |\n",
      "| \u001b[0m 56      \u001b[0m | \u001b[0m-1.348   \u001b[0m | \u001b[0m 0.1634  \u001b[0m | \u001b[0m 4.937   \u001b[0m | \u001b[0m 3.372   \u001b[0m | \u001b[0m 4.314   \u001b[0m | \u001b[0m 114.7   \u001b[0m | \u001b[0m 0.6785  \u001b[0m |\n",
      "| \u001b[0m 57      \u001b[0m | \u001b[0m-1.276   \u001b[0m | \u001b[0m 0.1607  \u001b[0m | \u001b[0m 8.439   \u001b[0m | \u001b[0m 4.239   \u001b[0m | \u001b[0m 3.735   \u001b[0m | \u001b[0m 34.86   \u001b[0m | \u001b[0m 0.9714  \u001b[0m |\n",
      "| \u001b[0m 58      \u001b[0m | \u001b[0m-1.399   \u001b[0m | \u001b[0m 0.1509  \u001b[0m | \u001b[0m 6.203   \u001b[0m | \u001b[0m 4.283   \u001b[0m | \u001b[0m 2.931   \u001b[0m | \u001b[0m 229.0   \u001b[0m | \u001b[0m 0.723   \u001b[0m |\n",
      "| \u001b[0m 59      \u001b[0m | \u001b[0m-1.465   \u001b[0m | \u001b[0m 0.1467  \u001b[0m | \u001b[0m 5.139   \u001b[0m | \u001b[0m 3.196   \u001b[0m | \u001b[0m 2.909   \u001b[0m | \u001b[0m 323.7   \u001b[0m | \u001b[0m 0.521   \u001b[0m |\n",
      "| \u001b[0m 60      \u001b[0m | \u001b[0m-1.226   \u001b[0m | \u001b[0m 0.02038 \u001b[0m | \u001b[0m 3.792   \u001b[0m | \u001b[0m 4.061   \u001b[0m | \u001b[0m 4.243   \u001b[0m | \u001b[0m 114.9   \u001b[0m | \u001b[0m 0.6704  \u001b[0m |\n",
      "| \u001b[0m 61      \u001b[0m | \u001b[0m-1.253   \u001b[0m | \u001b[0m 0.1174  \u001b[0m | \u001b[0m 4.296   \u001b[0m | \u001b[0m 3.555   \u001b[0m | \u001b[0m 4.662   \u001b[0m | \u001b[0m 115.0   \u001b[0m | \u001b[0m 0.955   \u001b[0m |\n",
      "| \u001b[0m 62      \u001b[0m | \u001b[0m-1.293   \u001b[0m | \u001b[0m 0.13    \u001b[0m | \u001b[0m 4.052   \u001b[0m | \u001b[0m 3.969   \u001b[0m | \u001b[0m 2.499   \u001b[0m | \u001b[0m 112.9   \u001b[0m | \u001b[0m 0.8303  \u001b[0m |\n",
      "| \u001b[0m 63      \u001b[0m | \u001b[0m-1.24    \u001b[0m | \u001b[0m 0.07091 \u001b[0m | \u001b[0m 4.943   \u001b[0m | \u001b[0m 3.239   \u001b[0m | \u001b[0m 3.695   \u001b[0m | \u001b[0m 113.7   \u001b[0m | \u001b[0m 0.8999  \u001b[0m |\n",
      "| \u001b[0m 64      \u001b[0m | \u001b[0m-1.25    \u001b[0m | \u001b[0m 0.01301 \u001b[0m | \u001b[0m 6.911   \u001b[0m | \u001b[0m 1.494   \u001b[0m | \u001b[0m 4.334   \u001b[0m | \u001b[0m 424.9   \u001b[0m | \u001b[0m 0.8195  \u001b[0m |\n",
      "| \u001b[0m 65      \u001b[0m | \u001b[0m-1.325   \u001b[0m | \u001b[0m 0.09413 \u001b[0m | \u001b[0m 3.645   \u001b[0m | \u001b[0m 2.767   \u001b[0m | \u001b[0m 4.872   \u001b[0m | \u001b[0m 276.8   \u001b[0m | \u001b[0m 0.7509  \u001b[0m |\n",
      "| \u001b[0m 66      \u001b[0m | \u001b[0m-1.224   \u001b[0m | \u001b[0m 0.1091  \u001b[0m | \u001b[0m 3.241   \u001b[0m | \u001b[0m 4.707   \u001b[0m | \u001b[0m 2.145   \u001b[0m | \u001b[0m 112.6   \u001b[0m | \u001b[0m 0.7109  \u001b[0m |\n",
      "| \u001b[0m 67      \u001b[0m | \u001b[0m-1.286   \u001b[0m | \u001b[0m 0.1352  \u001b[0m | \u001b[0m 4.266   \u001b[0m | \u001b[0m 4.65    \u001b[0m | \u001b[0m 3.962   \u001b[0m | \u001b[0m 114.5   \u001b[0m | \u001b[0m 0.512   \u001b[0m |\n",
      "| \u001b[0m 68      \u001b[0m | \u001b[0m-1.365   \u001b[0m | \u001b[0m 0.06054 \u001b[0m | \u001b[0m 8.092   \u001b[0m | \u001b[0m 4.586   \u001b[0m | \u001b[0m 2.942   \u001b[0m | \u001b[0m 370.0   \u001b[0m | \u001b[0m 0.6423  \u001b[0m |\n",
      "| \u001b[0m 69      \u001b[0m | \u001b[0m-2.435   \u001b[0m | \u001b[0m 0.0005  \u001b[0m | \u001b[0m 4.665   \u001b[0m | \u001b[0m 4.434   \u001b[0m | \u001b[0m 2.407   \u001b[0m | \u001b[0m 455.2   \u001b[0m | \u001b[0m 1.0     \u001b[0m |\n",
      "| \u001b[0m 70      \u001b[0m | \u001b[0m-1.346   \u001b[0m | \u001b[0m 0.09861 \u001b[0m | \u001b[0m 9.048   \u001b[0m | \u001b[0m 2.786   \u001b[0m | \u001b[0m 3.764   \u001b[0m | \u001b[0m 322.2   \u001b[0m | \u001b[0m 0.8459  \u001b[0m |\n",
      "| \u001b[0m 71      \u001b[0m | \u001b[0m-1.417   \u001b[0m | \u001b[0m 0.1559  \u001b[0m | \u001b[0m 5.756   \u001b[0m | \u001b[0m 4.242   \u001b[0m | \u001b[0m 3.623   \u001b[0m | \u001b[0m 402.1   \u001b[0m | \u001b[0m 0.6235  \u001b[0m |\n",
      "| \u001b[0m 72      \u001b[0m | \u001b[0m-1.246   \u001b[0m | \u001b[0m 0.04106 \u001b[0m | \u001b[0m 3.486   \u001b[0m | \u001b[0m 4.987   \u001b[0m | \u001b[0m 2.342   \u001b[0m | \u001b[0m 501.0   \u001b[0m | \u001b[0m 0.9252  \u001b[0m |\n",
      "| \u001b[0m 73      \u001b[0m | \u001b[0m-1.202   \u001b[0m | \u001b[0m 0.02993 \u001b[0m | \u001b[0m 4.866   \u001b[0m | \u001b[0m 2.59    \u001b[0m | \u001b[0m 3.632   \u001b[0m | \u001b[0m 114.2   \u001b[0m | \u001b[0m 0.8459  \u001b[0m |\n",
      "| \u001b[0m 74      \u001b[0m | \u001b[0m-1.203   \u001b[0m | \u001b[0m 0.1331  \u001b[0m | \u001b[0m 4.322   \u001b[0m | \u001b[0m 2.547   \u001b[0m | \u001b[0m 3.451   \u001b[0m | \u001b[0m 47.25   \u001b[0m | \u001b[0m 0.8845  \u001b[0m |\n",
      "| \u001b[0m 75      \u001b[0m | \u001b[0m-1.232   \u001b[0m | \u001b[0m 0.1571  \u001b[0m | \u001b[0m 3.19    \u001b[0m | \u001b[0m 3.189   \u001b[0m | \u001b[0m 2.236   \u001b[0m | \u001b[0m 113.3   \u001b[0m | \u001b[0m 0.7292  \u001b[0m |\n",
      "| \u001b[0m 76      \u001b[0m | \u001b[0m-1.298   \u001b[0m | \u001b[0m 0.1337  \u001b[0m | \u001b[0m 4.882   \u001b[0m | \u001b[0m 2.104   \u001b[0m | \u001b[0m 3.273   \u001b[0m | \u001b[0m 58.87   \u001b[0m | \u001b[0m 0.5266  \u001b[0m |\n",
      "| \u001b[0m 77      \u001b[0m | \u001b[0m-1.254   \u001b[0m | \u001b[0m 0.1768  \u001b[0m | \u001b[0m 5.005   \u001b[0m | \u001b[0m 2.191   \u001b[0m | \u001b[0m 3.594   \u001b[0m | \u001b[0m 47.64   \u001b[0m | \u001b[0m 0.5905  \u001b[0m |\n",
      "| \u001b[0m 78      \u001b[0m | \u001b[0m-1.212   \u001b[0m | \u001b[0m 0.02562 \u001b[0m | \u001b[0m 4.79    \u001b[0m | \u001b[0m 3.977   \u001b[0m | \u001b[0m 3.527   \u001b[0m | \u001b[0m 114.3   \u001b[0m | \u001b[0m 0.7145  \u001b[0m |\n",
      "| \u001b[0m 79      \u001b[0m | \u001b[0m-1.403   \u001b[0m | \u001b[0m 0.1222  \u001b[0m | \u001b[0m 5.137   \u001b[0m | \u001b[0m 3.719   \u001b[0m | \u001b[0m 2.165   \u001b[0m | \u001b[0m 298.2   \u001b[0m | \u001b[0m 0.6406  \u001b[0m |\n",
      "| \u001b[0m 80      \u001b[0m | \u001b[0m-1.262   \u001b[0m | \u001b[0m 0.06942 \u001b[0m | \u001b[0m 6.856   \u001b[0m | \u001b[0m 4.145   \u001b[0m | \u001b[0m 2.399   \u001b[0m | \u001b[0m 65.82   \u001b[0m | \u001b[0m 0.6592  \u001b[0m |\n",
      "| \u001b[0m 81      \u001b[0m | \u001b[0m-1.203   \u001b[0m | \u001b[0m 0.03226 \u001b[0m | \u001b[0m 4.76    \u001b[0m | \u001b[0m 3.778   \u001b[0m | \u001b[0m 3.664   \u001b[0m | \u001b[0m 137.0   \u001b[0m | \u001b[0m 0.6725  \u001b[0m |\n",
      "| \u001b[0m 82      \u001b[0m | \u001b[0m-1.247   \u001b[0m | \u001b[0m 0.08365 \u001b[0m | \u001b[0m 5.024   \u001b[0m | \u001b[0m 4.067   \u001b[0m | \u001b[0m 3.549   \u001b[0m | \u001b[0m 112.9   \u001b[0m | \u001b[0m 0.9831  \u001b[0m |\n",
      "| \u001b[0m 83      \u001b[0m | \u001b[0m-1.397   \u001b[0m | \u001b[0m 0.06352 \u001b[0m | \u001b[0m 9.964   \u001b[0m | \u001b[0m 2.884   \u001b[0m | \u001b[0m 2.032   \u001b[0m | \u001b[0m 20.61   \u001b[0m | \u001b[0m 0.8752  \u001b[0m |\n",
      "| \u001b[0m 84      \u001b[0m | \u001b[0m-1.235   \u001b[0m | \u001b[0m 0.09879 \u001b[0m | \u001b[0m 4.181   \u001b[0m | \u001b[0m 3.334   \u001b[0m | \u001b[0m 3.907   \u001b[0m | \u001b[0m 115.4   \u001b[0m | \u001b[0m 0.7764  \u001b[0m |\n",
      "| \u001b[0m 85      \u001b[0m | \u001b[0m-1.359   \u001b[0m | \u001b[0m 0.2     \u001b[0m | \u001b[0m 3.718   \u001b[0m | \u001b[0m 3.672   \u001b[0m | \u001b[0m 4.532   \u001b[0m | \u001b[0m 115.7   \u001b[0m | \u001b[0m 0.5     \u001b[0m |\n",
      "| \u001b[0m 86      \u001b[0m | \u001b[0m-1.197   \u001b[0m | \u001b[0m 0.0366  \u001b[0m | \u001b[0m 4.314   \u001b[0m | \u001b[0m 4.258   \u001b[0m | \u001b[0m 4.934   \u001b[0m | \u001b[0m 114.4   \u001b[0m | \u001b[0m 0.5634  \u001b[0m |\n",
      "| \u001b[0m 87      \u001b[0m | \u001b[0m-1.308   \u001b[0m | \u001b[0m 0.09267 \u001b[0m | \u001b[0m 8.523   \u001b[0m | \u001b[0m 3.327   \u001b[0m | \u001b[0m 2.328   \u001b[0m | \u001b[0m 504.5   \u001b[0m | \u001b[0m 0.9128  \u001b[0m |\n",
      "| \u001b[0m 88      \u001b[0m | \u001b[0m-1.3     \u001b[0m | \u001b[0m 0.1176  \u001b[0m | \u001b[0m 5.155   \u001b[0m | \u001b[0m 2.514   \u001b[0m | \u001b[0m 4.483   \u001b[0m | \u001b[0m 114.2   \u001b[0m | \u001b[0m 0.75    \u001b[0m |\n",
      "| \u001b[0m 89      \u001b[0m | \u001b[0m-1.265   \u001b[0m | \u001b[0m 0.1147  \u001b[0m | \u001b[0m 5.126   \u001b[0m | \u001b[0m 4.404   \u001b[0m | \u001b[0m 4.643   \u001b[0m | \u001b[0m 125.4   \u001b[0m | \u001b[0m 0.9325  \u001b[0m |\n",
      "| \u001b[0m 90      \u001b[0m | \u001b[0m-1.202   \u001b[0m | \u001b[0m 0.1154  \u001b[0m | \u001b[0m 4.724   \u001b[0m | \u001b[0m 2.077   \u001b[0m | \u001b[0m 3.925   \u001b[0m | \u001b[0m 46.84   \u001b[0m | \u001b[0m 1.0     \u001b[0m |\n",
      "| \u001b[0m 91      \u001b[0m | \u001b[0m-1.341   \u001b[0m | \u001b[0m 0.1454  \u001b[0m | \u001b[0m 3.864   \u001b[0m | \u001b[0m 4.651   \u001b[0m | \u001b[0m 3.381   \u001b[0m | \u001b[0m 156.3   \u001b[0m | \u001b[0m 0.5566  \u001b[0m |\n",
      "| \u001b[0m 92      \u001b[0m | \u001b[0m-1.24    \u001b[0m | \u001b[0m 0.01057 \u001b[0m | \u001b[0m 5.776   \u001b[0m | \u001b[0m 1.66    \u001b[0m | \u001b[0m 3.676   \u001b[0m | \u001b[0m 202.1   \u001b[0m | \u001b[0m 0.9685  \u001b[0m |\n",
      "| \u001b[0m 93      \u001b[0m | \u001b[0m-2.486   \u001b[0m | \u001b[0m 0.004227\u001b[0m | \u001b[0m 4.318   \u001b[0m | \u001b[0m 3.088   \u001b[0m | \u001b[0m 4.115   \u001b[0m | \u001b[0m 46.78   \u001b[0m | \u001b[0m 0.5606  \u001b[0m |\n",
      "| \u001b[0m 94      \u001b[0m | \u001b[0m-1.292   \u001b[0m | \u001b[0m 0.1698  \u001b[0m | \u001b[0m 4.363   \u001b[0m | \u001b[0m 2.762   \u001b[0m | \u001b[0m 3.724   \u001b[0m | \u001b[0m 114.8   \u001b[0m | \u001b[0m 0.705   \u001b[0m |\n",
      "| \u001b[0m 95      \u001b[0m | \u001b[0m-1.201   \u001b[0m | \u001b[0m 0.0389  \u001b[0m | \u001b[0m 3.685   \u001b[0m | \u001b[0m 1.684   \u001b[0m | \u001b[0m 3.716   \u001b[0m | \u001b[0m 214.0   \u001b[0m | \u001b[0m 0.8974  \u001b[0m |\n",
      "| \u001b[0m 96      \u001b[0m | \u001b[0m-1.348   \u001b[0m | \u001b[0m 0.1472  \u001b[0m | \u001b[0m 3.569   \u001b[0m | \u001b[0m 2.039   \u001b[0m | \u001b[0m 3.762   \u001b[0m | \u001b[0m 265.7   \u001b[0m | \u001b[0m 0.9784  \u001b[0m |\n",
      "| \u001b[0m 97      \u001b[0m | \u001b[0m-1.359   \u001b[0m | \u001b[0m 0.1297  \u001b[0m | \u001b[0m 9.259   \u001b[0m | \u001b[0m 4.871   \u001b[0m | \u001b[0m 3.497   \u001b[0m | \u001b[0m 186.5   \u001b[0m | \u001b[0m 0.875   \u001b[0m |\n",
      "| \u001b[0m 98      \u001b[0m | \u001b[0m-1.329   \u001b[0m | \u001b[0m 0.06748 \u001b[0m | \u001b[0m 7.941   \u001b[0m | \u001b[0m 2.014   \u001b[0m | \u001b[0m 2.531   \u001b[0m | \u001b[0m 323.9   \u001b[0m | \u001b[0m 0.7272  \u001b[0m |\n",
      "| \u001b[0m 99      \u001b[0m | \u001b[0m-1.318   \u001b[0m | \u001b[0m 0.1445  \u001b[0m | \u001b[0m 4.866   \u001b[0m | \u001b[0m 4.704   \u001b[0m | \u001b[0m 4.575   \u001b[0m | \u001b[0m 114.8   \u001b[0m | \u001b[0m 0.765   \u001b[0m |\n",
      "| \u001b[0m 100     \u001b[0m | \u001b[0m-1.316   \u001b[0m | \u001b[0m 0.09083 \u001b[0m | \u001b[0m 7.632   \u001b[0m | \u001b[0m 3.388   \u001b[0m | \u001b[0m 4.381   \u001b[0m | \u001b[0m 362.6   \u001b[0m | \u001b[0m 0.8316  \u001b[0m |\n",
      "| \u001b[0m 101     \u001b[0m | \u001b[0m-1.213   \u001b[0m | \u001b[0m 0.1016  \u001b[0m | \u001b[0m 3.628   \u001b[0m | \u001b[0m 3.989   \u001b[0m | \u001b[0m 2.022   \u001b[0m | \u001b[0m 113.3   \u001b[0m | \u001b[0m 0.9795  \u001b[0m |\n"
     ]
    },
    {
     "name": "stdout",
     "output_type": "stream",
     "text": [
      "| \u001b[0m 102     \u001b[0m | \u001b[0m-1.323   \u001b[0m | \u001b[0m 0.1496  \u001b[0m | \u001b[0m 3.978   \u001b[0m | \u001b[0m 2.457   \u001b[0m | \u001b[0m 2.757   \u001b[0m | \u001b[0m 113.8   \u001b[0m | \u001b[0m 0.7288  \u001b[0m |\n",
      "| \u001b[0m 103     \u001b[0m | \u001b[0m-1.211   \u001b[0m | \u001b[0m 0.02431 \u001b[0m | \u001b[0m 4.362   \u001b[0m | \u001b[0m 4.752   \u001b[0m | \u001b[0m 3.208   \u001b[0m | \u001b[0m 113.4   \u001b[0m | \u001b[0m 0.9203  \u001b[0m |\n",
      "| \u001b[0m 104     \u001b[0m | \u001b[0m-1.307   \u001b[0m | \u001b[0m 0.08672 \u001b[0m | \u001b[0m 3.683   \u001b[0m | \u001b[0m 1.658   \u001b[0m | \u001b[0m 4.59    \u001b[0m | \u001b[0m 236.5   \u001b[0m | \u001b[0m 0.6109  \u001b[0m |\n",
      "| \u001b[0m 105     \u001b[0m | \u001b[0m-1.199   \u001b[0m | \u001b[0m 0.06219 \u001b[0m | \u001b[0m 4.728   \u001b[0m | \u001b[0m 2.143   \u001b[0m | \u001b[0m 3.722   \u001b[0m | \u001b[0m 48.26   \u001b[0m | \u001b[0m 0.8595  \u001b[0m |\n",
      "| \u001b[0m 106     \u001b[0m | \u001b[0m-1.221   \u001b[0m | \u001b[0m 0.1474  \u001b[0m | \u001b[0m 5.148   \u001b[0m | \u001b[0m 1.907   \u001b[0m | \u001b[0m 3.311   \u001b[0m | \u001b[0m 46.72   \u001b[0m | \u001b[0m 0.5647  \u001b[0m |\n",
      "| \u001b[0m 107     \u001b[0m | \u001b[0m-1.248   \u001b[0m | \u001b[0m 0.1975  \u001b[0m | \u001b[0m 4.648   \u001b[0m | \u001b[0m 2.176   \u001b[0m | \u001b[0m 3.466   \u001b[0m | \u001b[0m 46.17   \u001b[0m | \u001b[0m 0.9498  \u001b[0m |\n",
      "| \u001b[0m 108     \u001b[0m | \u001b[0m-1.346   \u001b[0m | \u001b[0m 0.1449  \u001b[0m | \u001b[0m 5.657   \u001b[0m | \u001b[0m 2.388   \u001b[0m | \u001b[0m 2.53    \u001b[0m | \u001b[0m 509.7   \u001b[0m | \u001b[0m 0.8781  \u001b[0m |\n",
      "| \u001b[0m 109     \u001b[0m | \u001b[0m-1.367   \u001b[0m | \u001b[0m 0.03077 \u001b[0m | \u001b[0m 4.174   \u001b[0m | \u001b[0m 2.002   \u001b[0m | \u001b[0m 2.815   \u001b[0m | \u001b[0m 48.3    \u001b[0m | \u001b[0m 0.9886  \u001b[0m |\n",
      "| \u001b[0m 110     \u001b[0m | \u001b[0m-1.389   \u001b[0m | \u001b[0m 0.1783  \u001b[0m | \u001b[0m 4.929   \u001b[0m | \u001b[0m 1.671   \u001b[0m | \u001b[0m 2.472   \u001b[0m | \u001b[0m 429.6   \u001b[0m | \u001b[0m 0.8386  \u001b[0m |\n",
      "| \u001b[0m 111     \u001b[0m | \u001b[0m-1.408   \u001b[0m | \u001b[0m 0.1575  \u001b[0m | \u001b[0m 7.043   \u001b[0m | \u001b[0m 1.925   \u001b[0m | \u001b[0m 2.256   \u001b[0m | \u001b[0m 393.5   \u001b[0m | \u001b[0m 0.5709  \u001b[0m |\n",
      "| \u001b[0m 112     \u001b[0m | \u001b[0m-1.329   \u001b[0m | \u001b[0m 0.1851  \u001b[0m | \u001b[0m 8.591   \u001b[0m | \u001b[0m 1.661   \u001b[0m | \u001b[0m 3.514   \u001b[0m | \u001b[0m 214.3   \u001b[0m | \u001b[0m 0.8894  \u001b[0m |\n",
      "| \u001b[0m 113     \u001b[0m | \u001b[0m-1.218   \u001b[0m | \u001b[0m 0.113   \u001b[0m | \u001b[0m 3.299   \u001b[0m | \u001b[0m 4.526   \u001b[0m | \u001b[0m 2.513   \u001b[0m | \u001b[0m 113.3   \u001b[0m | \u001b[0m 0.9053  \u001b[0m |\n",
      "| \u001b[0m 114     \u001b[0m | \u001b[0m-1.352   \u001b[0m | \u001b[0m 0.09092 \u001b[0m | \u001b[0m 4.835   \u001b[0m | \u001b[0m 1.41    \u001b[0m | \u001b[0m 3.299   \u001b[0m | \u001b[0m 460.2   \u001b[0m | \u001b[0m 0.721   \u001b[0m |\n",
      "| \u001b[0m 115     \u001b[0m | \u001b[0m-1.337   \u001b[0m | \u001b[0m 0.09987 \u001b[0m | \u001b[0m 8.889   \u001b[0m | \u001b[0m 3.246   \u001b[0m | \u001b[0m 3.033   \u001b[0m | \u001b[0m 220.0   \u001b[0m | \u001b[0m 0.5792  \u001b[0m |\n",
      "| \u001b[0m 116     \u001b[0m | \u001b[0m-1.261   \u001b[0m | \u001b[0m 0.05002 \u001b[0m | \u001b[0m 9.245   \u001b[0m | \u001b[0m 4.8     \u001b[0m | \u001b[0m 4.116   \u001b[0m | \u001b[0m 85.37   \u001b[0m | \u001b[0m 0.6827  \u001b[0m |\n",
      "| \u001b[0m 117     \u001b[0m | \u001b[0m-1.251   \u001b[0m | \u001b[0m 0.04335 \u001b[0m | \u001b[0m 3.241   \u001b[0m | \u001b[0m 1.626   \u001b[0m | \u001b[0m 4.589   \u001b[0m | \u001b[0m 471.1   \u001b[0m | \u001b[0m 0.5544  \u001b[0m |\n",
      "| \u001b[0m 118     \u001b[0m | \u001b[0m-1.334   \u001b[0m | \u001b[0m 0.1569  \u001b[0m | \u001b[0m 4.599   \u001b[0m | \u001b[0m 3.978   \u001b[0m | \u001b[0m 3.218   \u001b[0m | \u001b[0m 113.6   \u001b[0m | \u001b[0m 0.5     \u001b[0m |\n",
      "| \u001b[0m 119     \u001b[0m | \u001b[0m-1.265   \u001b[0m | \u001b[0m 0.1175  \u001b[0m | \u001b[0m 4.815   \u001b[0m | \u001b[0m 3.885   \u001b[0m | \u001b[0m 3.574   \u001b[0m | \u001b[0m 112.8   \u001b[0m | \u001b[0m 0.829   \u001b[0m |\n",
      "| \u001b[0m 120     \u001b[0m | \u001b[0m-1.327   \u001b[0m | \u001b[0m 0.1405  \u001b[0m | \u001b[0m 4.24    \u001b[0m | \u001b[0m 3.973   \u001b[0m | \u001b[0m 3.565   \u001b[0m | \u001b[0m 156.3   \u001b[0m | \u001b[0m 0.6633  \u001b[0m |\n",
      "=================================================================================================\n"
     ]
    }
   ],
   "source": [
    "BO_gbm.maximize(init_points = 20, n_iter = 100)"
   ]
  },
  {
   "cell_type": "code",
   "execution_count": 973,
   "metadata": {
    "scrolled": true
   },
   "outputs": [
    {
     "data": {
      "text/plain": [
       "{'target': -1.1918625469408792,\n",
       " 'params': {'learning_rate': 0.05957996940566792,\n",
       "  'max_depth': 3.8310940326797085,\n",
       "  'min_samples_leaf': 2.271932717575904,\n",
       "  'min_samples_split': 3.24278898354401,\n",
       "  'n_estimators': 47.81715818899704,\n",
       "  'subsample': 0.8462360596850099}}"
      ]
     },
     "execution_count": 973,
     "metadata": {},
     "output_type": "execute_result"
    }
   ],
   "source": [
    "BO_gbm.max"
   ]
  },
  {
   "cell_type": "code",
   "execution_count": 988,
   "metadata": {},
   "outputs": [],
   "source": [
    "params = BO_gbm.max['params']\n",
    "params['max_depth'] = int(round(params['max_depth']))\n",
    "params['n_estimators'] = int(round(params['n_estimators']))\n",
    "params['min_samples_leaf'] = int(round(params['min_samples_leaf']))\n",
    "params['min_samples_split'] = int(round(params['min_samples_split']))"
   ]
  },
  {
   "cell_type": "code",
   "execution_count": 989,
   "metadata": {},
   "outputs": [],
   "source": [
    "gbm = GradientBoostingRegressor(random_state = 123, **params)\n",
    "gbm.fit(X, y)\n",
    "pred_gbm = np.expm1(gbm.predict(target))"
   ]
  },
  {
   "cell_type": "code",
   "execution_count": 990,
   "metadata": {},
   "outputs": [],
   "source": [
    "submission['box_off_num'] = pred_gbm"
   ]
  },
  {
   "cell_type": "code",
   "execution_count": 991,
   "metadata": {
    "scrolled": true
   },
   "outputs": [
    {
     "data": {
      "text/html": [
       "<div>\n",
       "<style scoped>\n",
       "    .dataframe tbody tr th:only-of-type {\n",
       "        vertical-align: middle;\n",
       "    }\n",
       "\n",
       "    .dataframe tbody tr th {\n",
       "        vertical-align: top;\n",
       "    }\n",
       "\n",
       "    .dataframe thead th {\n",
       "        text-align: right;\n",
       "    }\n",
       "</style>\n",
       "<table border=\"1\" class=\"dataframe\">\n",
       "  <thead>\n",
       "    <tr style=\"text-align: right;\">\n",
       "      <th></th>\n",
       "      <th>title</th>\n",
       "      <th>box_off_num</th>\n",
       "    </tr>\n",
       "  </thead>\n",
       "  <tbody>\n",
       "    <tr>\n",
       "      <th>178</th>\n",
       "      <td>명량</td>\n",
       "      <td>2.642481e+06</td>\n",
       "    </tr>\n",
       "    <tr>\n",
       "      <th>179</th>\n",
       "      <td>군도: 민란의 시대</td>\n",
       "      <td>2.522183e+06</td>\n",
       "    </tr>\n",
       "    <tr>\n",
       "      <th>135</th>\n",
       "      <td>용의자</td>\n",
       "      <td>2.328536e+06</td>\n",
       "    </tr>\n",
       "    <tr>\n",
       "      <th>229</th>\n",
       "      <td>베테랑</td>\n",
       "      <td>2.326920e+06</td>\n",
       "    </tr>\n",
       "    <tr>\n",
       "      <th>142</th>\n",
       "      <td>박수건달</td>\n",
       "      <td>2.313457e+06</td>\n",
       "    </tr>\n",
       "    <tr>\n",
       "      <th>106</th>\n",
       "      <td>댄싱퀸</td>\n",
       "      <td>2.133304e+06</td>\n",
       "    </tr>\n",
       "    <tr>\n",
       "      <th>0</th>\n",
       "      <td>용서는 없다</td>\n",
       "      <td>2.093105e+06</td>\n",
       "    </tr>\n",
       "    <tr>\n",
       "      <th>108</th>\n",
       "      <td>신세계</td>\n",
       "      <td>2.093105e+06</td>\n",
       "    </tr>\n",
       "    <tr>\n",
       "      <th>159</th>\n",
       "      <td>하이힐</td>\n",
       "      <td>2.079551e+06</td>\n",
       "    </tr>\n",
       "    <tr>\n",
       "      <th>83</th>\n",
       "      <td>늑대소년</td>\n",
       "      <td>2.020221e+06</td>\n",
       "    </tr>\n",
       "  </tbody>\n",
       "</table>\n",
       "</div>"
      ],
      "text/plain": [
       "          title   box_off_num\n",
       "178          명량  2.642481e+06\n",
       "179  군도: 민란의 시대  2.522183e+06\n",
       "135         용의자  2.328536e+06\n",
       "229         베테랑  2.326920e+06\n",
       "142        박수건달  2.313457e+06\n",
       "106         댄싱퀸  2.133304e+06\n",
       "0        용서는 없다  2.093105e+06\n",
       "108         신세계  2.093105e+06\n",
       "159         하이힐  2.079551e+06\n",
       "83         늑대소년  2.020221e+06"
      ]
     },
     "execution_count": 991,
     "metadata": {},
     "output_type": "execute_result"
    }
   ],
   "source": [
    "submission.sort_values(by = 'box_off_num', ascending = False)[:10]"
   ]
  },
  {
   "cell_type": "code",
   "execution_count": 979,
   "metadata": {},
   "outputs": [],
   "source": [
    "submission.to_csv(\"basic1010.csv\", index = False)"
   ]
  },
  {
   "cell_type": "code",
   "execution_count": 980,
   "metadata": {},
   "outputs": [],
   "source": [
    "pbounds = {'learning_rate': (0.0005, 1.5),\n",
    "           'n_estimators': (8, 512),\n",
    "           'max_depth': (3,10),\n",
    "           'subsample': (0.5,1),\n",
    "           'colsample_bytree': (0.5,1),\n",
    "           'gamma': (0, 5)}\n",
    "\n",
    "def xgb_opt(learning_rate, n_estimators, max_depth, subsample, colsample_bytree, gamma):\n",
    "    \n",
    "    params = {\n",
    "        'learning_rate': learning_rate,\n",
    "        'n_estimators' : int(round(n_estimators)),\n",
    "        'max_depth' : int(round(max_depth)),\n",
    "        'subsample': subsample,\n",
    "        'colsample_bytree': colsample_bytree,   \n",
    "        'gamma': gamma,\n",
    "        'n_jobs' : -1\n",
    "    }\n",
    "    \n",
    "    xgb = XGBRegressor(**params)\n",
    "    \n",
    "    kf = KFold(n_splits = 10 , shuffle=True, random_state=50)\n",
    "\n",
    "    score = cross_val_score(xgb, X, y, scoring='neg_mean_absolute_error', cv=kf, n_jobs=-1)\n",
    "    \n",
    "    return np.mean(score)\n",
    "\n",
    "BO_xgb = BayesianOptimization(f = xgb_opt, pbounds = pbounds, random_state=0)"
   ]
  },
  {
   "cell_type": "code",
   "execution_count": 981,
   "metadata": {
    "scrolled": true
   },
   "outputs": [
    {
     "name": "stdout",
     "output_type": "stream",
     "text": [
      "|   iter    |  target   | colsam... |   gamma   | learni... | max_depth | n_esti... | subsample |\n",
      "-------------------------------------------------------------------------------------------------\n",
      "| \u001b[0m 1       \u001b[0m | \u001b[0m-1.648   \u001b[0m | \u001b[0m 0.7744  \u001b[0m | \u001b[0m 3.576   \u001b[0m | \u001b[0m 0.9043  \u001b[0m | \u001b[0m 6.814   \u001b[0m | \u001b[0m 221.5   \u001b[0m | \u001b[0m 0.8229  \u001b[0m |\n",
      "| \u001b[0m 2       \u001b[0m | \u001b[0m-2.293   \u001b[0m | \u001b[0m 0.7188  \u001b[0m | \u001b[0m 4.459   \u001b[0m | \u001b[0m 1.446   \u001b[0m | \u001b[0m 5.684   \u001b[0m | \u001b[0m 407.0   \u001b[0m | \u001b[0m 0.7644  \u001b[0m |\n",
      "| \u001b[0m 3       \u001b[0m | \u001b[0m-1.71    \u001b[0m | \u001b[0m 0.784   \u001b[0m | \u001b[0m 4.628   \u001b[0m | \u001b[0m 0.107   \u001b[0m | \u001b[0m 3.61    \u001b[0m | \u001b[0m 18.19   \u001b[0m | \u001b[0m 0.9163  \u001b[0m |\n",
      "| \u001b[0m 4       \u001b[0m | \u001b[0m-2.044   \u001b[0m | \u001b[0m 0.8891  \u001b[0m | \u001b[0m 4.35    \u001b[0m | \u001b[0m 1.468   \u001b[0m | \u001b[0m 8.594   \u001b[0m | \u001b[0m 240.6   \u001b[0m | \u001b[0m 0.8903  \u001b[0m |\n",
      "| \u001b[95m 5       \u001b[0m | \u001b[95m-1.31    \u001b[0m | \u001b[95m 0.5591  \u001b[0m | \u001b[95m 3.2     \u001b[0m | \u001b[95m 0.2155  \u001b[0m | \u001b[95m 9.613   \u001b[0m | \u001b[95m 271.0   \u001b[0m | \u001b[95m 0.7073  \u001b[0m |\n",
      "| \u001b[0m 6       \u001b[0m | \u001b[0m-1.382   \u001b[0m | \u001b[0m 0.6323  \u001b[0m | \u001b[0m 3.871   \u001b[0m | \u001b[0m 0.6845  \u001b[0m | \u001b[0m 6.979   \u001b[0m | \u001b[0m 17.47   \u001b[0m | \u001b[0m 0.8088  \u001b[0m |\n",
      "| \u001b[0m 7       \u001b[0m | \u001b[0m-2.526   \u001b[0m | \u001b[0m 0.806   \u001b[0m | \u001b[0m 3.085   \u001b[0m | \u001b[0m 1.416   \u001b[0m | \u001b[0m 7.773   \u001b[0m | \u001b[0m 189.2   \u001b[0m | \u001b[0m 0.7185  \u001b[0m |\n",
      "| \u001b[0m 8       \u001b[0m | \u001b[0m-2.242   \u001b[0m | \u001b[0m 0.8488  \u001b[0m | \u001b[0m 0.3011  \u001b[0m | \u001b[0m 1.0     \u001b[0m | \u001b[0m 7.694   \u001b[0m | \u001b[0m 114.0   \u001b[0m | \u001b[0m 0.5645  \u001b[0m |\n",
      "| \u001b[0m 9       \u001b[0m | \u001b[0m-1.993   \u001b[0m | \u001b[0m 0.6577  \u001b[0m | \u001b[0m 1.819   \u001b[0m | \u001b[0m 0.8555  \u001b[0m | \u001b[0m 6.07    \u001b[0m | \u001b[0m 506.1   \u001b[0m | \u001b[0m 0.551   \u001b[0m |\n",
      "| \u001b[0m 10      \u001b[0m | \u001b[0m-2.014   \u001b[0m | \u001b[0m 0.6044  \u001b[0m | \u001b[0m 0.8065  \u001b[0m | \u001b[0m 0.9798  \u001b[0m | \u001b[0m 4.773   \u001b[0m | \u001b[0m 243.0   \u001b[0m | \u001b[0m 0.6222  \u001b[0m |\n",
      "| \u001b[0m 11      \u001b[0m | \u001b[0m-1.901   \u001b[0m | \u001b[0m 0.5795  \u001b[0m | \u001b[0m 0.5519  \u001b[0m | \u001b[0m 0.9847  \u001b[0m | \u001b[0m 3.967   \u001b[0m | \u001b[0m 107.1   \u001b[0m | \u001b[0m 0.6844  \u001b[0m |\n",
      "| \u001b[0m 12      \u001b[0m | \u001b[0m-1.997   \u001b[0m | \u001b[0m 0.9105  \u001b[0m | \u001b[0m 0.4855  \u001b[0m | \u001b[0m 1.257   \u001b[0m | \u001b[0m 3.673   \u001b[0m | \u001b[0m 500.1   \u001b[0m | \u001b[0m 0.7343  \u001b[0m |\n",
      "| \u001b[0m 13      \u001b[0m | \u001b[0m-2.178   \u001b[0m | \u001b[0m 0.9884  \u001b[0m | \u001b[0m 3.024   \u001b[0m | \u001b[0m 1.109   \u001b[0m | \u001b[0m 3.274   \u001b[0m | \u001b[0m 150.5   \u001b[0m | \u001b[0m 0.5601  \u001b[0m |\n",
      "| \u001b[0m 14      \u001b[0m | \u001b[0m-1.407   \u001b[0m | \u001b[0m 0.6481  \u001b[0m | \u001b[0m 0.5936  \u001b[0m | \u001b[0m 0.4773  \u001b[0m | \u001b[0m 5.9     \u001b[0m | \u001b[0m 40.33   \u001b[0m | \u001b[0m 0.8462  \u001b[0m |\n",
      "| \u001b[0m 15      \u001b[0m | \u001b[0m-1.534   \u001b[0m | \u001b[0m 0.7833  \u001b[0m | \u001b[0m 1.327   \u001b[0m | \u001b[0m 0.7851  \u001b[0m | \u001b[0m 3.658   \u001b[0m | \u001b[0m 298.3   \u001b[0m | \u001b[0m 0.9646  \u001b[0m |\n",
      "| \u001b[95m 16      \u001b[0m | \u001b[95m-1.3     \u001b[0m | \u001b[95m 0.6593  \u001b[0m | \u001b[95m 3.337   \u001b[0m | \u001b[95m 0.1981  \u001b[0m | \u001b[95m 8.014   \u001b[0m | \u001b[95m 153.9   \u001b[0m | \u001b[95m 0.5916  \u001b[0m |\n",
      "| \u001b[0m 17      \u001b[0m | \u001b[0m-2.385   \u001b[0m | \u001b[0m 0.7933  \u001b[0m | \u001b[0m 0.1005  \u001b[0m | \u001b[0m 1.243   \u001b[0m | \u001b[0m 3.033   \u001b[0m | \u001b[0m 349.6   \u001b[0m | \u001b[0m 0.635   \u001b[0m |\n",
      "| \u001b[0m 18      \u001b[0m | \u001b[0m-1.345   \u001b[0m | \u001b[0m 0.8676  \u001b[0m | \u001b[0m 4.811   \u001b[0m | \u001b[0m 0.3735  \u001b[0m | \u001b[0m 7.033   \u001b[0m | \u001b[0m 306.4   \u001b[0m | \u001b[0m 0.7861  \u001b[0m |\n",
      "| \u001b[0m 19      \u001b[0m | \u001b[0m-1.553   \u001b[0m | \u001b[0m 0.6115  \u001b[0m | \u001b[0m 4.764   \u001b[0m | \u001b[0m 0.671   \u001b[0m | \u001b[0m 8.925   \u001b[0m | \u001b[0m 360.5   \u001b[0m | \u001b[0m 0.6487  \u001b[0m |\n",
      "| \u001b[0m 20      \u001b[0m | \u001b[0m-1.985   \u001b[0m | \u001b[0m 0.9069  \u001b[0m | \u001b[0m 1.983   \u001b[0m | \u001b[0m 1.322   \u001b[0m | \u001b[0m 7.069   \u001b[0m | \u001b[0m 452.4   \u001b[0m | \u001b[0m 0.8463  \u001b[0m |\n",
      "| \u001b[0m 21      \u001b[0m | \u001b[0m-1.414   \u001b[0m | \u001b[0m 0.6045  \u001b[0m | \u001b[0m 4.273   \u001b[0m | \u001b[0m 0.6496  \u001b[0m | \u001b[0m 8.821   \u001b[0m | \u001b[0m 155.8   \u001b[0m | \u001b[0m 0.8499  \u001b[0m |\n",
      "| \u001b[0m 22      \u001b[0m | \u001b[0m-8.758   \u001b[0m | \u001b[0m 0.5     \u001b[0m | \u001b[0m 0.0     \u001b[0m | \u001b[0m 0.0005  \u001b[0m | \u001b[0m 10.0    \u001b[0m | \u001b[0m 154.6   \u001b[0m | \u001b[0m 0.5     \u001b[0m |\n",
      "| \u001b[0m 23      \u001b[0m | \u001b[0m-1.389   \u001b[0m | \u001b[0m 0.6826  \u001b[0m | \u001b[0m 4.79    \u001b[0m | \u001b[0m 0.4669  \u001b[0m | \u001b[0m 7.78    \u001b[0m | \u001b[0m 154.5   \u001b[0m | \u001b[0m 0.7387  \u001b[0m |\n",
      "| \u001b[95m 24      \u001b[0m | \u001b[95m-1.254   \u001b[0m | \u001b[95m 0.8787  \u001b[0m | \u001b[95m 4.515   \u001b[0m | \u001b[95m 0.1406  \u001b[0m | \u001b[95m 8.386   \u001b[0m | \u001b[95m 151.6   \u001b[0m | \u001b[95m 0.666   \u001b[0m |\n",
      "| \u001b[0m 25      \u001b[0m | \u001b[0m-8.763   \u001b[0m | \u001b[0m 0.5     \u001b[0m | \u001b[0m 4.155   \u001b[0m | \u001b[0m 0.0005  \u001b[0m | \u001b[0m 5.935   \u001b[0m | \u001b[0m 152.5   \u001b[0m | \u001b[0m 1.0     \u001b[0m |\n",
      "| \u001b[0m 26      \u001b[0m | \u001b[0m-1.31    \u001b[0m | \u001b[0m 0.9739  \u001b[0m | \u001b[0m 3.119   \u001b[0m | \u001b[0m 0.1381  \u001b[0m | \u001b[0m 8.817   \u001b[0m | \u001b[0m 153.1   \u001b[0m | \u001b[0m 0.503   \u001b[0m |\n",
      "| \u001b[0m 27      \u001b[0m | \u001b[0m-3.196   \u001b[0m | \u001b[0m 0.8537  \u001b[0m | \u001b[0m 4.105   \u001b[0m | \u001b[0m 1.165   \u001b[0m | \u001b[0m 9.806   \u001b[0m | \u001b[0m 150.9   \u001b[0m | \u001b[0m 0.5     \u001b[0m |\n",
      "| \u001b[0m 28      \u001b[0m | \u001b[0m-2.055   \u001b[0m | \u001b[0m 0.9188  \u001b[0m | \u001b[0m 3.261   \u001b[0m | \u001b[0m 1.296   \u001b[0m | \u001b[0m 8.222   \u001b[0m | \u001b[0m 154.4   \u001b[0m | \u001b[0m 0.7132  \u001b[0m |\n",
      "| \u001b[0m 29      \u001b[0m | \u001b[0m-1.617   \u001b[0m | \u001b[0m 0.5494  \u001b[0m | \u001b[0m 4.238   \u001b[0m | \u001b[0m 0.83    \u001b[0m | \u001b[0m 9.214   \u001b[0m | \u001b[0m 153.7   \u001b[0m | \u001b[0m 0.8073  \u001b[0m |\n",
      "| \u001b[0m 30      \u001b[0m | \u001b[0m-8.755   \u001b[0m | \u001b[0m 1.0     \u001b[0m | \u001b[0m 5.0     \u001b[0m | \u001b[0m 0.0005  \u001b[0m | \u001b[0m 7.439   \u001b[0m | \u001b[0m 156.3   \u001b[0m | \u001b[0m 0.5     \u001b[0m |\n",
      "| \u001b[0m 31      \u001b[0m | \u001b[0m-1.745   \u001b[0m | \u001b[0m 0.7255  \u001b[0m | \u001b[0m 4.198   \u001b[0m | \u001b[0m 1.311   \u001b[0m | \u001b[0m 8.74    \u001b[0m | \u001b[0m 154.4   \u001b[0m | \u001b[0m 0.9843  \u001b[0m |\n",
      "| \u001b[0m 32      \u001b[0m | \u001b[0m-1.408   \u001b[0m | \u001b[0m 0.7837  \u001b[0m | \u001b[0m 4.619   \u001b[0m | \u001b[0m 0.4225  \u001b[0m | \u001b[0m 9.553   \u001b[0m | \u001b[0m 154.9   \u001b[0m | \u001b[0m 0.5627  \u001b[0m |\n",
      "| \u001b[0m 33      \u001b[0m | \u001b[0m-1.259   \u001b[0m | \u001b[0m 0.5778  \u001b[0m | \u001b[0m 3.405   \u001b[0m | \u001b[0m 0.2439  \u001b[0m | \u001b[0m 9.282   \u001b[0m | \u001b[0m 154.4   \u001b[0m | \u001b[0m 0.985   \u001b[0m |\n",
      "| \u001b[0m 34      \u001b[0m | \u001b[0m-1.302   \u001b[0m | \u001b[0m 0.8228  \u001b[0m | \u001b[0m 3.036   \u001b[0m | \u001b[0m 0.4813  \u001b[0m | \u001b[0m 5.611   \u001b[0m | \u001b[0m 18.59   \u001b[0m | \u001b[0m 0.9746  \u001b[0m |\n",
      "| \u001b[0m 35      \u001b[0m | \u001b[0m-4.541   \u001b[0m | \u001b[0m 0.7725  \u001b[0m | \u001b[0m 4.544   \u001b[0m | \u001b[0m 0.04103 \u001b[0m | \u001b[0m 5.415   \u001b[0m | \u001b[0m 18.29   \u001b[0m | \u001b[0m 0.718   \u001b[0m |\n",
      "| \u001b[0m 36      \u001b[0m | \u001b[0m-2.415   \u001b[0m | \u001b[0m 0.8381  \u001b[0m | \u001b[0m 4.169   \u001b[0m | \u001b[0m 1.388   \u001b[0m | \u001b[0m 9.859   \u001b[0m | \u001b[0m 155.8   \u001b[0m | \u001b[0m 0.7133  \u001b[0m |\n",
      "| \u001b[0m 37      \u001b[0m | \u001b[0m-3.035   \u001b[0m | \u001b[0m 0.9578  \u001b[0m | \u001b[0m 3.192   \u001b[0m | \u001b[0m 0.06146 \u001b[0m | \u001b[0m 7.3     \u001b[0m | \u001b[0m 18.51   \u001b[0m | \u001b[0m 0.8268  \u001b[0m |\n",
      "| \u001b[0m 38      \u001b[0m | \u001b[0m-1.859   \u001b[0m | \u001b[0m 0.9544  \u001b[0m | \u001b[0m 3.872   \u001b[0m | \u001b[0m 1.333   \u001b[0m | \u001b[0m 9.578   \u001b[0m | \u001b[0m 271.4   \u001b[0m | \u001b[0m 0.9274  \u001b[0m |\n",
      "| \u001b[0m 39      \u001b[0m | \u001b[0m-1.944   \u001b[0m | \u001b[0m 0.5436  \u001b[0m | \u001b[0m 2.728   \u001b[0m | \u001b[0m 1.363   \u001b[0m | \u001b[0m 6.061   \u001b[0m | \u001b[0m 17.58   \u001b[0m | \u001b[0m 1.0     \u001b[0m |\n",
      "| \u001b[0m 40      \u001b[0m | \u001b[0m-1.661   \u001b[0m | \u001b[0m 0.6425  \u001b[0m | \u001b[0m 1.928   \u001b[0m | \u001b[0m 1.096   \u001b[0m | \u001b[0m 4.941   \u001b[0m | \u001b[0m 18.95   \u001b[0m | \u001b[0m 0.9766  \u001b[0m |\n",
      "| \u001b[0m 41      \u001b[0m | \u001b[0m-2.253   \u001b[0m | \u001b[0m 0.6064  \u001b[0m | \u001b[0m 2.896   \u001b[0m | \u001b[0m 1.164   \u001b[0m | \u001b[0m 9.746   \u001b[0m | \u001b[0m 269.8   \u001b[0m | \u001b[0m 0.7076  \u001b[0m |\n",
      "| \u001b[0m 42      \u001b[0m | \u001b[0m-1.763   \u001b[0m | \u001b[0m 0.906   \u001b[0m | \u001b[0m 3.71    \u001b[0m | \u001b[0m 1.378   \u001b[0m | \u001b[0m 7.045   \u001b[0m | \u001b[0m 15.87   \u001b[0m | \u001b[0m 0.9477  \u001b[0m |\n",
      "| \u001b[0m 43      \u001b[0m | \u001b[0m-3.184   \u001b[0m | \u001b[0m 0.5     \u001b[0m | \u001b[0m 4.515   \u001b[0m | \u001b[0m 1.5     \u001b[0m | \u001b[0m 8.048   \u001b[0m | \u001b[0m 17.04   \u001b[0m | \u001b[0m 0.7475  \u001b[0m |\n",
      "| \u001b[0m 44      \u001b[0m | \u001b[0m-2.128   \u001b[0m | \u001b[0m 0.9227  \u001b[0m | \u001b[0m 4.054   \u001b[0m | \u001b[0m 1.441   \u001b[0m | \u001b[0m 7.096   \u001b[0m | \u001b[0m 306.9   \u001b[0m | \u001b[0m 0.7932  \u001b[0m |\n",
      "| \u001b[0m 45      \u001b[0m | \u001b[0m-9.359   \u001b[0m | \u001b[0m 1.0     \u001b[0m | \u001b[0m 2.369   \u001b[0m | \u001b[0m 0.0005  \u001b[0m | \u001b[0m 5.317   \u001b[0m | \u001b[0m 19.87   \u001b[0m | \u001b[0m 1.0     \u001b[0m |\n",
      "| \u001b[0m 46      \u001b[0m | \u001b[0m-1.373   \u001b[0m | \u001b[0m 0.7694  \u001b[0m | \u001b[0m 3.114   \u001b[0m | \u001b[0m 0.3778  \u001b[0m | \u001b[0m 8.734   \u001b[0m | \u001b[0m 153.2   \u001b[0m | \u001b[0m 0.6663  \u001b[0m |\n",
      "| \u001b[0m 47      \u001b[0m | \u001b[0m-1.324   \u001b[0m | \u001b[0m 0.677   \u001b[0m | \u001b[0m 2.359   \u001b[0m | \u001b[0m 0.1592  \u001b[0m | \u001b[0m 5.691   \u001b[0m | \u001b[0m 17.63   \u001b[0m | \u001b[0m 0.5833  \u001b[0m |\n",
      "| \u001b[0m 48      \u001b[0m | \u001b[0m-1.476   \u001b[0m | \u001b[0m 0.6688  \u001b[0m | \u001b[0m 2.775   \u001b[0m | \u001b[0m 0.5919  \u001b[0m | \u001b[0m 6.168   \u001b[0m | \u001b[0m 16.22   \u001b[0m | \u001b[0m 0.5566  \u001b[0m |\n",
      "| \u001b[0m 49      \u001b[0m | \u001b[0m-1.635   \u001b[0m | \u001b[0m 0.6343  \u001b[0m | \u001b[0m 1.544   \u001b[0m | \u001b[0m 1.017   \u001b[0m | \u001b[0m 4.511   \u001b[0m | \u001b[0m 17.21   \u001b[0m | \u001b[0m 0.8871  \u001b[0m |\n",
      "| \u001b[0m 50      \u001b[0m | \u001b[0m-1.478   \u001b[0m | \u001b[0m 0.6859  \u001b[0m | \u001b[0m 2.829   \u001b[0m | \u001b[0m 1.047   \u001b[0m | \u001b[0m 4.651   \u001b[0m | \u001b[0m 17.94   \u001b[0m | \u001b[0m 0.9388  \u001b[0m |\n"
     ]
    },
    {
     "name": "stdout",
     "output_type": "stream",
     "text": [
      "| \u001b[0m 51      \u001b[0m | \u001b[0m-1.26    \u001b[0m | \u001b[0m 0.7185  \u001b[0m | \u001b[0m 3.016   \u001b[0m | \u001b[0m 0.2505  \u001b[0m | \u001b[0m 4.798   \u001b[0m | \u001b[0m 16.01   \u001b[0m | \u001b[0m 0.5241  \u001b[0m |\n",
      "| \u001b[0m 52      \u001b[0m | \u001b[0m-1.7     \u001b[0m | \u001b[0m 0.9365  \u001b[0m | \u001b[0m 3.15    \u001b[0m | \u001b[0m 1.296   \u001b[0m | \u001b[0m 5.408   \u001b[0m | \u001b[0m 15.13   \u001b[0m | \u001b[0m 0.8442  \u001b[0m |\n",
      "| \u001b[0m 53      \u001b[0m | \u001b[0m-1.742   \u001b[0m | \u001b[0m 0.7452  \u001b[0m | \u001b[0m 1.865   \u001b[0m | \u001b[0m 1.001   \u001b[0m | \u001b[0m 4.416   \u001b[0m | \u001b[0m 15.74   \u001b[0m | \u001b[0m 0.5413  \u001b[0m |\n",
      "| \u001b[0m 54      \u001b[0m | \u001b[0m-1.422   \u001b[0m | \u001b[0m 0.794   \u001b[0m | \u001b[0m 3.354   \u001b[0m | \u001b[0m 0.9427  \u001b[0m | \u001b[0m 3.079   \u001b[0m | \u001b[0m 16.19   \u001b[0m | \u001b[0m 0.7554  \u001b[0m |\n",
      "| \u001b[0m 55      \u001b[0m | \u001b[0m-1.304   \u001b[0m | \u001b[0m 0.9475  \u001b[0m | \u001b[0m 3.622   \u001b[0m | \u001b[0m 0.6245  \u001b[0m | \u001b[0m 3.722   \u001b[0m | \u001b[0m 14.89   \u001b[0m | \u001b[0m 0.9407  \u001b[0m |\n",
      "| \u001b[0m 56      \u001b[0m | \u001b[0m-2.598   \u001b[0m | \u001b[0m 0.5044  \u001b[0m | \u001b[0m 2.422   \u001b[0m | \u001b[0m 1.446   \u001b[0m | \u001b[0m 3.804   \u001b[0m | \u001b[0m 14.01   \u001b[0m | \u001b[0m 0.5134  \u001b[0m |\n",
      "| \u001b[0m 57      \u001b[0m | \u001b[0m-9.377   \u001b[0m | \u001b[0m 1.0     \u001b[0m | \u001b[0m 2.43    \u001b[0m | \u001b[0m 0.0005  \u001b[0m | \u001b[0m 3.383   \u001b[0m | \u001b[0m 15.72   \u001b[0m | \u001b[0m 1.0     \u001b[0m |\n",
      "| \u001b[0m 58      \u001b[0m | \u001b[0m-1.825   \u001b[0m | \u001b[0m 0.6046  \u001b[0m | \u001b[0m 4.578   \u001b[0m | \u001b[0m 0.9744  \u001b[0m | \u001b[0m 9.176   \u001b[0m | \u001b[0m 153.9   \u001b[0m | \u001b[0m 0.7171  \u001b[0m |\n",
      "| \u001b[0m 59      \u001b[0m | \u001b[0m-1.423   \u001b[0m | \u001b[0m 0.9196  \u001b[0m | \u001b[0m 3.056   \u001b[0m | \u001b[0m 0.5992  \u001b[0m | \u001b[0m 5.424   \u001b[0m | \u001b[0m 16.79   \u001b[0m | \u001b[0m 0.6814  \u001b[0m |\n",
      "| \u001b[0m 60      \u001b[0m | \u001b[0m-2.166   \u001b[0m | \u001b[0m 0.6603  \u001b[0m | \u001b[0m 3.902   \u001b[0m | \u001b[0m 1.264   \u001b[0m | \u001b[0m 4.147   \u001b[0m | \u001b[0m 15.83   \u001b[0m | \u001b[0m 0.5344  \u001b[0m |\n",
      "| \u001b[0m 61      \u001b[0m | \u001b[0m-8.761   \u001b[0m | \u001b[0m 0.5     \u001b[0m | \u001b[0m 4.201   \u001b[0m | \u001b[0m 0.0005  \u001b[0m | \u001b[0m 8.633   \u001b[0m | \u001b[0m 154.4   \u001b[0m | \u001b[0m 0.5     \u001b[0m |\n",
      "| \u001b[0m 62      \u001b[0m | \u001b[0m-1.888   \u001b[0m | \u001b[0m 0.9278  \u001b[0m | \u001b[0m 2.543   \u001b[0m | \u001b[0m 0.9449  \u001b[0m | \u001b[0m 5.636   \u001b[0m | \u001b[0m 18.53   \u001b[0m | \u001b[0m 0.5559  \u001b[0m |\n",
      "| \u001b[0m 63      \u001b[0m | \u001b[0m-1.847   \u001b[0m | \u001b[0m 0.6151  \u001b[0m | \u001b[0m 4.284   \u001b[0m | \u001b[0m 1.073   \u001b[0m | \u001b[0m 5.929   \u001b[0m | \u001b[0m 406.9   \u001b[0m | \u001b[0m 0.8734  \u001b[0m |\n",
      "| \u001b[0m 64      \u001b[0m | \u001b[0m-1.28    \u001b[0m | \u001b[0m 0.5314  \u001b[0m | \u001b[0m 2.793   \u001b[0m | \u001b[0m 0.1857  \u001b[0m | \u001b[0m 8.447   \u001b[0m | \u001b[0m 423.5   \u001b[0m | \u001b[0m 0.8195  \u001b[0m |\n",
      "| \u001b[0m 65      \u001b[0m | \u001b[0m-1.554   \u001b[0m | \u001b[0m 0.7347  \u001b[0m | \u001b[0m 0.4609  \u001b[0m | \u001b[0m 0.6631  \u001b[0m | \u001b[0m 9.702   \u001b[0m | \u001b[0m 273.0   \u001b[0m | \u001b[0m 0.7509  \u001b[0m |\n",
      "| \u001b[0m 66      \u001b[0m | \u001b[0m-1.346   \u001b[0m | \u001b[0m 0.9376  \u001b[0m | \u001b[0m 4.818   \u001b[0m | \u001b[0m 0.3867  \u001b[0m | \u001b[0m 7.11    \u001b[0m | \u001b[0m 306.7   \u001b[0m | \u001b[0m 0.6473  \u001b[0m |\n",
      "| \u001b[0m 67      \u001b[0m | \u001b[0m-1.779   \u001b[0m | \u001b[0m 0.9736  \u001b[0m | \u001b[0m 2.598   \u001b[0m | \u001b[0m 0.9464  \u001b[0m | \u001b[0m 5.443   \u001b[0m | \u001b[0m 16.16   \u001b[0m | \u001b[0m 0.5673  \u001b[0m |\n",
      "| \u001b[0m 68      \u001b[0m | \u001b[0m-2.843   \u001b[0m | \u001b[0m 0.6505  \u001b[0m | \u001b[0m 3.637   \u001b[0m | \u001b[0m 1.345   \u001b[0m | \u001b[0m 5.197   \u001b[0m | \u001b[0m 367.7   \u001b[0m | \u001b[0m 0.6423  \u001b[0m |\n",
      "| \u001b[0m 69      \u001b[0m | \u001b[0m-1.317   \u001b[0m | \u001b[0m 0.6215  \u001b[0m | \u001b[0m 2.238   \u001b[0m | \u001b[0m 0.4675  \u001b[0m | \u001b[0m 4.891   \u001b[0m | \u001b[0m 17.27   \u001b[0m | \u001b[0m 0.7174  \u001b[0m |\n",
      "| \u001b[0m 70      \u001b[0m | \u001b[0m-1.447   \u001b[0m | \u001b[0m 0.7459  \u001b[0m | \u001b[0m 4.32    \u001b[0m | \u001b[0m 0.67    \u001b[0m | \u001b[0m 7.116   \u001b[0m | \u001b[0m 319.2   \u001b[0m | \u001b[0m 0.8459  \u001b[0m |\n",
      "| \u001b[0m 71      \u001b[0m | \u001b[0m-2.251   \u001b[0m | \u001b[0m 0.8894  \u001b[0m | \u001b[0m 1.969   \u001b[0m | \u001b[0m 1.216   \u001b[0m | \u001b[0m 6.787   \u001b[0m | \u001b[0m 400.4   \u001b[0m | \u001b[0m 0.6235  \u001b[0m |\n",
      "| \u001b[0m 72      \u001b[0m | \u001b[0m-2.416   \u001b[0m | \u001b[0m 0.6017  \u001b[0m | \u001b[0m 0.3469  \u001b[0m | \u001b[0m 1.495   \u001b[0m | \u001b[0m 3.798   \u001b[0m | \u001b[0m 500.9   \u001b[0m | \u001b[0m 0.9252  \u001b[0m |\n",
      "| \u001b[0m 73      \u001b[0m | \u001b[0m-1.261   \u001b[0m | \u001b[0m 0.818   \u001b[0m | \u001b[0m 1.693   \u001b[0m | \u001b[0m 0.1801  \u001b[0m | \u001b[0m 5.888   \u001b[0m | \u001b[0m 16.71   \u001b[0m | \u001b[0m 0.8253  \u001b[0m |\n",
      "| \u001b[0m 74      \u001b[0m | \u001b[0m-1.454   \u001b[0m | \u001b[0m 0.6534  \u001b[0m | \u001b[0m 3.29    \u001b[0m | \u001b[0m 0.6166  \u001b[0m | \u001b[0m 9.74    \u001b[0m | \u001b[0m 154.0   \u001b[0m | \u001b[0m 0.669   \u001b[0m |\n",
      "| \u001b[0m 75      \u001b[0m | \u001b[0m-1.265   \u001b[0m | \u001b[0m 0.752   \u001b[0m | \u001b[0m 3.084   \u001b[0m | \u001b[0m 0.3914  \u001b[0m | \u001b[0m 6.361   \u001b[0m | \u001b[0m 17.1    \u001b[0m | \u001b[0m 0.8904  \u001b[0m |\n",
      "| \u001b[0m 76      \u001b[0m | \u001b[0m-1.488   \u001b[0m | \u001b[0m 0.8339  \u001b[0m | \u001b[0m 1.344   \u001b[0m | \u001b[0m 0.4143  \u001b[0m | \u001b[0m 5.971   \u001b[0m | \u001b[0m 51.56   \u001b[0m | \u001b[0m 0.5266  \u001b[0m |\n",
      "| \u001b[95m 77      \u001b[0m | \u001b[95m-1.228   \u001b[0m | \u001b[95m 0.6556  \u001b[0m | \u001b[95m 2.443   \u001b[0m | \u001b[95m 0.1607  \u001b[0m | \u001b[95m 9.262   \u001b[0m | \u001b[95m 154.1   \u001b[0m | \u001b[95m 0.9845  \u001b[0m |\n",
      "| \u001b[0m 78      \u001b[0m | \u001b[0m-1.798   \u001b[0m | \u001b[0m 0.7952  \u001b[0m | \u001b[0m 1.571   \u001b[0m | \u001b[0m 1.083   \u001b[0m | \u001b[0m 5.389   \u001b[0m | \u001b[0m 16.99   \u001b[0m | \u001b[0m 0.6811  \u001b[0m |\n",
      "| \u001b[0m 79      \u001b[0m | \u001b[0m-1.326   \u001b[0m | \u001b[0m 0.5481  \u001b[0m | \u001b[0m 3.037   \u001b[0m | \u001b[0m 0.5204  \u001b[0m | \u001b[0m 7.498   \u001b[0m | \u001b[0m 153.5   \u001b[0m | \u001b[0m 0.9898  \u001b[0m |\n",
      "| \u001b[0m 80      \u001b[0m | \u001b[0m-1.982   \u001b[0m | \u001b[0m 0.6727  \u001b[0m | \u001b[0m 2.754   \u001b[0m | \u001b[0m 1.179   \u001b[0m | \u001b[0m 3.93    \u001b[0m | \u001b[0m 58.62   \u001b[0m | \u001b[0m 0.6592  \u001b[0m |\n",
      "| \u001b[0m 81      \u001b[0m | \u001b[0m-2.04    \u001b[0m | \u001b[0m 0.5796  \u001b[0m | \u001b[0m 1.257   \u001b[0m | \u001b[0m 1.042   \u001b[0m | \u001b[0m 6.882   \u001b[0m | \u001b[0m 131.0   \u001b[0m | \u001b[0m 0.6725  \u001b[0m |\n",
      "| \u001b[0m 82      \u001b[0m | \u001b[0m-1.276   \u001b[0m | \u001b[0m 0.5615  \u001b[0m | \u001b[0m 4.073   \u001b[0m | \u001b[0m 0.4367  \u001b[0m | \u001b[0m 5.993   \u001b[0m | \u001b[0m 16.61   \u001b[0m | \u001b[0m 0.8349  \u001b[0m |\n",
      "| \u001b[0m 83      \u001b[0m | \u001b[0m-1.306   \u001b[0m | \u001b[0m 0.6579  \u001b[0m | \u001b[0m 4.975   \u001b[0m | \u001b[0m 0.7067  \u001b[0m | \u001b[0m 3.074   \u001b[0m | \u001b[0m 12.69   \u001b[0m | \u001b[0m 0.8752  \u001b[0m |\n",
      "| \u001b[0m 84      \u001b[0m | \u001b[0m-1.282   \u001b[0m | \u001b[0m 0.5921  \u001b[0m | \u001b[0m 2.144   \u001b[0m | \u001b[0m 0.1136  \u001b[0m | \u001b[0m 7.945   \u001b[0m | \u001b[0m 153.7   \u001b[0m | \u001b[0m 0.6538  \u001b[0m |\n",
      "| \u001b[0m 85      \u001b[0m | \u001b[0m-1.309   \u001b[0m | \u001b[0m 0.5516  \u001b[0m | \u001b[0m 3.625   \u001b[0m | \u001b[0m 0.332   \u001b[0m | \u001b[0m 6.881   \u001b[0m | \u001b[0m 16.41   \u001b[0m | \u001b[0m 0.6347  \u001b[0m |\n",
      "| \u001b[0m 86      \u001b[0m | \u001b[0m-1.709   \u001b[0m | \u001b[0m 0.8782  \u001b[0m | \u001b[0m 2.217   \u001b[0m | \u001b[0m 0.813   \u001b[0m | \u001b[0m 7.855   \u001b[0m | \u001b[0m 152.7   \u001b[0m | \u001b[0m 0.5791  \u001b[0m |\n",
      "| \u001b[0m 87      \u001b[0m | \u001b[0m-1.51    \u001b[0m | \u001b[0m 0.731   \u001b[0m | \u001b[0m 3.945   \u001b[0m | \u001b[0m 0.8727  \u001b[0m | \u001b[0m 3.766   \u001b[0m | \u001b[0m 504.4   \u001b[0m | \u001b[0m 0.9128  \u001b[0m |\n",
      "| \u001b[0m 88      \u001b[0m | \u001b[0m-2.587   \u001b[0m | \u001b[0m 0.9246  \u001b[0m | \u001b[0m 4.783   \u001b[0m | \u001b[0m 1.441   \u001b[0m | \u001b[0m 7.207   \u001b[0m | \u001b[0m 154.2   \u001b[0m | \u001b[0m 0.6772  \u001b[0m |\n",
      "| \u001b[0m 89      \u001b[0m | \u001b[0m-1.834   \u001b[0m | \u001b[0m 0.7862  \u001b[0m | \u001b[0m 1.519   \u001b[0m | \u001b[0m 1.276   \u001b[0m | \u001b[0m 9.166   \u001b[0m | \u001b[0m 119.2   \u001b[0m | \u001b[0m 0.9325  \u001b[0m |\n",
      "| \u001b[0m 90      \u001b[0m | \u001b[0m-1.722   \u001b[0m | \u001b[0m 0.5308  \u001b[0m | \u001b[0m 2.632   \u001b[0m | \u001b[0m 0.8316  \u001b[0m | \u001b[0m 9.545   \u001b[0m | \u001b[0m 154.7   \u001b[0m | \u001b[0m 0.7184  \u001b[0m |\n",
      "| \u001b[0m 91      \u001b[0m | \u001b[0m-4.0     \u001b[0m | \u001b[0m 0.8631  \u001b[0m | \u001b[0m 0.6171  \u001b[0m | \u001b[0m 1.369   \u001b[0m | \u001b[0m 6.223   \u001b[0m | \u001b[0m 150.6   \u001b[0m | \u001b[0m 0.5566  \u001b[0m |\n",
      "| \u001b[0m 92      \u001b[0m | \u001b[0m-1.267   \u001b[0m | \u001b[0m 0.5252  \u001b[0m | \u001b[0m 1.983   \u001b[0m | \u001b[0m 0.2479  \u001b[0m | \u001b[0m 6.91    \u001b[0m | \u001b[0m 197.1   \u001b[0m | \u001b[0m 0.9685  \u001b[0m |\n",
      "| \u001b[0m 93      \u001b[0m | \u001b[0m-1.414   \u001b[0m | \u001b[0m 0.5566  \u001b[0m | \u001b[0m 2.366   \u001b[0m | \u001b[0m 0.3718  \u001b[0m | \u001b[0m 7.266   \u001b[0m | \u001b[0m 154.5   \u001b[0m | \u001b[0m 0.6441  \u001b[0m |\n",
      "| \u001b[0m 94      \u001b[0m | \u001b[0m-1.767   \u001b[0m | \u001b[0m 0.9336  \u001b[0m | \u001b[0m 3.583   \u001b[0m | \u001b[0m 1.027   \u001b[0m | \u001b[0m 8.405   \u001b[0m | \u001b[0m 152.5   \u001b[0m | \u001b[0m 0.7374  \u001b[0m |\n",
      "| \u001b[0m 95      \u001b[0m | \u001b[0m-1.308   \u001b[0m | \u001b[0m 0.5962  \u001b[0m | \u001b[0m 0.4892  \u001b[0m | \u001b[0m 0.2571  \u001b[0m | \u001b[0m 7.003   \u001b[0m | \u001b[0m 209.2   \u001b[0m | \u001b[0m 0.8974  \u001b[0m |\n",
      "| \u001b[0m 96      \u001b[0m | \u001b[0m-1.35    \u001b[0m | \u001b[0m 0.8677  \u001b[0m | \u001b[0m 0.4062  \u001b[0m | \u001b[0m 0.39    \u001b[0m | \u001b[0m 7.111   \u001b[0m | \u001b[0m 261.7   \u001b[0m | \u001b[0m 0.9784  \u001b[0m |\n",
      "| \u001b[0m 97      \u001b[0m | \u001b[0m-2.125   \u001b[0m | \u001b[0m 0.8238  \u001b[0m | \u001b[0m 4.471   \u001b[0m | \u001b[0m 1.451   \u001b[0m | \u001b[0m 6.493   \u001b[0m | \u001b[0m 181.3   \u001b[0m | \u001b[0m 0.875   \u001b[0m |\n",
      "| \u001b[0m 98      \u001b[0m | \u001b[0m-1.37    \u001b[0m | \u001b[0m 0.6679  \u001b[0m | \u001b[0m 3.529   \u001b[0m | \u001b[0m 0.3806  \u001b[0m | \u001b[0m 4.239   \u001b[0m | \u001b[0m 320.9   \u001b[0m | \u001b[0m 0.7272  \u001b[0m |\n",
      "| \u001b[0m 99      \u001b[0m | \u001b[0m-2.433   \u001b[0m | \u001b[0m 0.7999  \u001b[0m | \u001b[0m 2.505   \u001b[0m | \u001b[0m 0.09447 \u001b[0m | \u001b[0m 5.325   \u001b[0m | \u001b[0m 15.18   \u001b[0m | \u001b[0m 0.507   \u001b[0m |\n",
      "| \u001b[0m 100     \u001b[0m | \u001b[0m-1.626   \u001b[0m | \u001b[0m 0.7264  \u001b[0m | \u001b[0m 3.309   \u001b[0m | \u001b[0m 0.8956  \u001b[0m | \u001b[0m 8.557   \u001b[0m | \u001b[0m 360.2   \u001b[0m | \u001b[0m 0.8316  \u001b[0m |\n",
      "| \u001b[0m 101     \u001b[0m | \u001b[0m-1.377   \u001b[0m | \u001b[0m 0.6871  \u001b[0m | \u001b[0m 4.087   \u001b[0m | \u001b[0m 0.7441  \u001b[0m | \u001b[0m 6.09    \u001b[0m | \u001b[0m 15.46   \u001b[0m | \u001b[0m 0.9315  \u001b[0m |\n"
     ]
    },
    {
     "name": "stdout",
     "output_type": "stream",
     "text": [
      "| \u001b[0m 102     \u001b[0m | \u001b[0m-1.28    \u001b[0m | \u001b[0m 0.7087  \u001b[0m | \u001b[0m 3.525   \u001b[0m | \u001b[0m 0.5199  \u001b[0m | \u001b[0m 5.296   \u001b[0m | \u001b[0m 15.68   \u001b[0m | \u001b[0m 0.7406  \u001b[0m |\n",
      "| \u001b[0m 103     \u001b[0m | \u001b[0m-8.764   \u001b[0m | \u001b[0m 1.0     \u001b[0m | \u001b[0m 2.797   \u001b[0m | \u001b[0m 0.0005  \u001b[0m | \u001b[0m 7.408   \u001b[0m | \u001b[0m 153.8   \u001b[0m | \u001b[0m 0.5     \u001b[0m |\n",
      "| \u001b[0m 104     \u001b[0m | \u001b[0m-1.365   \u001b[0m | \u001b[0m 0.7161  \u001b[0m | \u001b[0m 0.4881  \u001b[0m | \u001b[0m 0.2473  \u001b[0m | \u001b[0m 9.043   \u001b[0m | \u001b[0m 232.1   \u001b[0m | \u001b[0m 0.6109  \u001b[0m |\n",
      "| \u001b[0m 105     \u001b[0m | \u001b[0m-1.34    \u001b[0m | \u001b[0m 0.6037  \u001b[0m | \u001b[0m 2.671   \u001b[0m | \u001b[0m 0.4869  \u001b[0m | \u001b[0m 5.69    \u001b[0m | \u001b[0m 17.11   \u001b[0m | \u001b[0m 0.677   \u001b[0m |\n",
      "| \u001b[0m 106     \u001b[0m | \u001b[0m-1.361   \u001b[0m | \u001b[0m 0.809   \u001b[0m | \u001b[0m 3.48    \u001b[0m | \u001b[0m 0.1623  \u001b[0m | \u001b[0m 6.032   \u001b[0m | \u001b[0m 16.41   \u001b[0m | \u001b[0m 0.8732  \u001b[0m |\n",
      "| \u001b[0m 107     \u001b[0m | \u001b[0m-1.295   \u001b[0m | \u001b[0m 0.9444  \u001b[0m | \u001b[0m 2.809   \u001b[0m | \u001b[0m 0.4337  \u001b[0m | \u001b[0m 6.95    \u001b[0m | \u001b[0m 16.51   \u001b[0m | \u001b[0m 0.9337  \u001b[0m |\n",
      "| \u001b[0m 108     \u001b[0m | \u001b[0m-1.4     \u001b[0m | \u001b[0m 0.8619  \u001b[0m | \u001b[0m 1.898   \u001b[0m | \u001b[0m 0.5207  \u001b[0m | \u001b[0m 4.236   \u001b[0m | \u001b[0m 509.6   \u001b[0m | \u001b[0m 0.8781  \u001b[0m |\n",
      "| \u001b[0m 109     \u001b[0m | \u001b[0m-1.906   \u001b[0m | \u001b[0m 0.7117  \u001b[0m | \u001b[0m 1.788   \u001b[0m | \u001b[0m 0.973   \u001b[0m | \u001b[0m 5.311   \u001b[0m | \u001b[0m 17.8    \u001b[0m | \u001b[0m 0.553   \u001b[0m |\n",
      "| \u001b[0m 110     \u001b[0m | \u001b[0m-1.356   \u001b[0m | \u001b[0m 0.9457  \u001b[0m | \u001b[0m 1.378   \u001b[0m | \u001b[0m 0.2521  \u001b[0m | \u001b[0m 4.102   \u001b[0m | \u001b[0m 428.3   \u001b[0m | \u001b[0m 0.8386  \u001b[0m |\n",
      "| \u001b[0m 111     \u001b[0m | \u001b[0m-1.446   \u001b[0m | \u001b[0m 0.8936  \u001b[0m | \u001b[0m 2.888   \u001b[0m | \u001b[0m 0.3473  \u001b[0m | \u001b[0m 3.597   \u001b[0m | \u001b[0m 391.6   \u001b[0m | \u001b[0m 0.5709  \u001b[0m |\n",
      "| \u001b[0m 112     \u001b[0m | \u001b[0m-1.239   \u001b[0m | \u001b[0m 0.9627  \u001b[0m | \u001b[0m 3.993   \u001b[0m | \u001b[0m 0.2484  \u001b[0m | \u001b[0m 6.533   \u001b[0m | \u001b[0m 209.5   \u001b[0m | \u001b[0m 0.8894  \u001b[0m |\n",
      "| \u001b[0m 113     \u001b[0m | \u001b[0m-1.525   \u001b[0m | \u001b[0m 0.5303  \u001b[0m | \u001b[0m 3.767   \u001b[0m | \u001b[0m 0.7966  \u001b[0m | \u001b[0m 6.413   \u001b[0m | \u001b[0m 16.81   \u001b[0m | \u001b[0m 0.7751  \u001b[0m |\n",
      "| \u001b[0m 114     \u001b[0m | \u001b[0m-1.325   \u001b[0m | \u001b[0m 0.7266  \u001b[0m | \u001b[0m 1.311   \u001b[0m | \u001b[0m 0.1542  \u001b[0m | \u001b[0m 6.031   \u001b[0m | \u001b[0m 459.4   \u001b[0m | \u001b[0m 0.721   \u001b[0m |\n",
      "| \u001b[0m 115     \u001b[0m | \u001b[0m-1.755   \u001b[0m | \u001b[0m 0.749   \u001b[0m | \u001b[0m 4.206   \u001b[0m | \u001b[0m 0.8425  \u001b[0m | \u001b[0m 5.411   \u001b[0m | \u001b[0m 215.3   \u001b[0m | \u001b[0m 0.5792  \u001b[0m |\n",
      "| \u001b[0m 116     \u001b[0m | \u001b[0m-3.344   \u001b[0m | \u001b[0m 0.6241  \u001b[0m | \u001b[0m 4.461   \u001b[0m | \u001b[0m 1.425   \u001b[0m | \u001b[0m 7.937   \u001b[0m | \u001b[0m 78.49   \u001b[0m | \u001b[0m 0.6827  \u001b[0m |\n",
      "| \u001b[0m 117     \u001b[0m | \u001b[0m-1.39    \u001b[0m | \u001b[0m 0.6074  \u001b[0m | \u001b[0m 0.1722  \u001b[0m | \u001b[0m 0.2351  \u001b[0m | \u001b[0m 9.04    \u001b[0m | \u001b[0m 470.4   \u001b[0m | \u001b[0m 0.5544  \u001b[0m |\n",
      "| \u001b[0m 118     \u001b[0m | \u001b[0m-1.328   \u001b[0m | \u001b[0m 0.9357  \u001b[0m | \u001b[0m 1.963   \u001b[0m | \u001b[0m 0.5731  \u001b[0m | \u001b[0m 4.904   \u001b[0m | \u001b[0m 16.55   \u001b[0m | \u001b[0m 0.9665  \u001b[0m |\n",
      "| \u001b[0m 119     \u001b[0m | \u001b[0m-1.319   \u001b[0m | \u001b[0m 0.5291  \u001b[0m | \u001b[0m 3.704   \u001b[0m | \u001b[0m 0.5259  \u001b[0m | \u001b[0m 5.368   \u001b[0m | \u001b[0m 15.75   \u001b[0m | \u001b[0m 0.8389  \u001b[0m |\n",
      "| \u001b[0m 120     \u001b[0m | \u001b[0m-2.018   \u001b[0m | \u001b[0m 0.8509  \u001b[0m | \u001b[0m 0.886   \u001b[0m | \u001b[0m 1.115   \u001b[0m | \u001b[0m 6.652   \u001b[0m | \u001b[0m 150.5   \u001b[0m | \u001b[0m 0.6633  \u001b[0m |\n",
      "=================================================================================================\n"
     ]
    }
   ],
   "source": [
    "BO_xgb.maximize(init_points = 20, n_iter = 100)"
   ]
  },
  {
   "cell_type": "code",
   "execution_count": 982,
   "metadata": {
    "scrolled": false
   },
   "outputs": [
    {
     "data": {
      "text/plain": [
       "{'target': -1.228418531606232,\n",
       " 'params': {'colsample_bytree': 0.6556101182042811,\n",
       "  'gamma': 2.443105577670689,\n",
       "  'learning_rate': 0.16074351964042566,\n",
       "  'max_depth': 9.261606149262697,\n",
       "  'n_estimators': 154.11290847057532,\n",
       "  'subsample': 0.9844995581609928}}"
      ]
     },
     "execution_count": 982,
     "metadata": {},
     "output_type": "execute_result"
    }
   ],
   "source": [
    "BO_xgb.max"
   ]
  },
  {
   "cell_type": "code",
   "execution_count": 983,
   "metadata": {},
   "outputs": [],
   "source": [
    "params = BO_xgb.max['params']\n",
    "params['max_depth'] = int(round(params['max_depth']))\n",
    "params['n_estimators'] = int(round(params['n_estimators']))"
   ]
  },
  {
   "cell_type": "code",
   "execution_count": 984,
   "metadata": {},
   "outputs": [],
   "source": [
    "xgb = XGBRegressor(random_state = 123, **params)\n",
    "xgb.fit(X, y)\n",
    "pred_xgb = np.expm1(xgb.predict(target))"
   ]
  },
  {
   "cell_type": "code",
   "execution_count": 985,
   "metadata": {},
   "outputs": [],
   "source": [
    "submission['box_off_num'] = pred_xgb"
   ]
  },
  {
   "cell_type": "code",
   "execution_count": 986,
   "metadata": {
    "scrolled": true
   },
   "outputs": [
    {
     "data": {
      "text/html": [
       "<div>\n",
       "<style scoped>\n",
       "    .dataframe tbody tr th:only-of-type {\n",
       "        vertical-align: middle;\n",
       "    }\n",
       "\n",
       "    .dataframe tbody tr th {\n",
       "        vertical-align: top;\n",
       "    }\n",
       "\n",
       "    .dataframe thead th {\n",
       "        text-align: right;\n",
       "    }\n",
       "</style>\n",
       "<table border=\"1\" class=\"dataframe\">\n",
       "  <thead>\n",
       "    <tr style=\"text-align: right;\">\n",
       "      <th></th>\n",
       "      <th>title</th>\n",
       "      <th>box_off_num</th>\n",
       "    </tr>\n",
       "  </thead>\n",
       "  <tbody>\n",
       "    <tr>\n",
       "      <th>178</th>\n",
       "      <td>명량</td>\n",
       "      <td>4.696000e+06</td>\n",
       "    </tr>\n",
       "    <tr>\n",
       "      <th>106</th>\n",
       "      <td>댄싱퀸</td>\n",
       "      <td>4.276029e+06</td>\n",
       "    </tr>\n",
       "    <tr>\n",
       "      <th>135</th>\n",
       "      <td>용의자</td>\n",
       "      <td>3.878530e+06</td>\n",
       "    </tr>\n",
       "    <tr>\n",
       "      <th>142</th>\n",
       "      <td>박수건달</td>\n",
       "      <td>3.751679e+06</td>\n",
       "    </tr>\n",
       "    <tr>\n",
       "      <th>108</th>\n",
       "      <td>신세계</td>\n",
       "      <td>3.634373e+06</td>\n",
       "    </tr>\n",
       "    <tr>\n",
       "      <th>...</th>\n",
       "      <td>...</td>\n",
       "      <td>...</td>\n",
       "    </tr>\n",
       "    <tr>\n",
       "      <th>176</th>\n",
       "      <td>내 연애의 기억</td>\n",
       "      <td>7.078725e+01</td>\n",
       "    </tr>\n",
       "    <tr>\n",
       "      <th>130</th>\n",
       "      <td>댄서김의 은밀한 교수법</td>\n",
       "      <td>6.902303e+01</td>\n",
       "    </tr>\n",
       "    <tr>\n",
       "      <th>173</th>\n",
       "      <td>옹녀뎐</td>\n",
       "      <td>6.610818e+01</td>\n",
       "    </tr>\n",
       "    <tr>\n",
       "      <th>40</th>\n",
       "      <td>량강도 아이들</td>\n",
       "      <td>5.440986e+01</td>\n",
       "    </tr>\n",
       "    <tr>\n",
       "      <th>238</th>\n",
       "      <td>해에게서 소년에게</td>\n",
       "      <td>3.088024e+01</td>\n",
       "    </tr>\n",
       "  </tbody>\n",
       "</table>\n",
       "<p>243 rows × 2 columns</p>\n",
       "</div>"
      ],
      "text/plain": [
       "            title   box_off_num\n",
       "178            명량  4.696000e+06\n",
       "106           댄싱퀸  4.276029e+06\n",
       "135           용의자  3.878530e+06\n",
       "142          박수건달  3.751679e+06\n",
       "108           신세계  3.634373e+06\n",
       "..            ...           ...\n",
       "176      내 연애의 기억  7.078725e+01\n",
       "130  댄서김의 은밀한 교수법  6.902303e+01\n",
       "173           옹녀뎐  6.610818e+01\n",
       "40        량강도 아이들  5.440986e+01\n",
       "238     해에게서 소년에게  3.088024e+01\n",
       "\n",
       "[243 rows x 2 columns]"
      ]
     },
     "execution_count": 986,
     "metadata": {},
     "output_type": "execute_result"
    }
   ],
   "source": [
    "submission.sort_values(by = 'box_off_num', ascending = False)"
   ]
  },
  {
   "cell_type": "code",
   "execution_count": 992,
   "metadata": {},
   "outputs": [],
   "source": [
    "submission.to_csv(\"basic1010.csv\", index = False)"
   ]
  },
  {
   "cell_type": "markdown",
   "metadata": {},
   "source": [
    "****\n",
    "##  Blending"
   ]
  },
  {
   "cell_type": "code",
   "execution_count": 919,
   "metadata": {},
   "outputs": [],
   "source": [
    "submission.box_off_num = (pred_xgb * pred_rf * pred_gbm) ** .3333"
   ]
  },
  {
   "cell_type": "code",
   "execution_count": 920,
   "metadata": {},
   "outputs": [
    {
     "data": {
      "text/html": [
       "<div>\n",
       "<style scoped>\n",
       "    .dataframe tbody tr th:only-of-type {\n",
       "        vertical-align: middle;\n",
       "    }\n",
       "\n",
       "    .dataframe tbody tr th {\n",
       "        vertical-align: top;\n",
       "    }\n",
       "\n",
       "    .dataframe thead th {\n",
       "        text-align: right;\n",
       "    }\n",
       "</style>\n",
       "<table border=\"1\" class=\"dataframe\">\n",
       "  <thead>\n",
       "    <tr style=\"text-align: right;\">\n",
       "      <th></th>\n",
       "      <th>title</th>\n",
       "      <th>box_off_num</th>\n",
       "    </tr>\n",
       "  </thead>\n",
       "  <tbody>\n",
       "    <tr>\n",
       "      <th>178</th>\n",
       "      <td>명량</td>\n",
       "      <td>7.921406e+06</td>\n",
       "    </tr>\n",
       "    <tr>\n",
       "      <th>106</th>\n",
       "      <td>댄싱퀸</td>\n",
       "      <td>5.983879e+06</td>\n",
       "    </tr>\n",
       "    <tr>\n",
       "      <th>158</th>\n",
       "      <td>우는 남자</td>\n",
       "      <td>5.541416e+06</td>\n",
       "    </tr>\n",
       "    <tr>\n",
       "      <th>179</th>\n",
       "      <td>군도: 민란의 시대</td>\n",
       "      <td>4.159172e+06</td>\n",
       "    </tr>\n",
       "    <tr>\n",
       "      <th>229</th>\n",
       "      <td>베테랑</td>\n",
       "      <td>4.064107e+06</td>\n",
       "    </tr>\n",
       "    <tr>\n",
       "      <th>3</th>\n",
       "      <td>의형제</td>\n",
       "      <td>3.738146e+06</td>\n",
       "    </tr>\n",
       "    <tr>\n",
       "      <th>70</th>\n",
       "      <td>글러브</td>\n",
       "      <td>3.504876e+06</td>\n",
       "    </tr>\n",
       "    <tr>\n",
       "      <th>53</th>\n",
       "      <td>퀵</td>\n",
       "      <td>3.263172e+06</td>\n",
       "    </tr>\n",
       "    <tr>\n",
       "      <th>48</th>\n",
       "      <td>도가니</td>\n",
       "      <td>3.181761e+06</td>\n",
       "    </tr>\n",
       "    <tr>\n",
       "      <th>77</th>\n",
       "      <td>남영동1985</td>\n",
       "      <td>2.553446e+06</td>\n",
       "    </tr>\n",
       "  </tbody>\n",
       "</table>\n",
       "</div>"
      ],
      "text/plain": [
       "          title   box_off_num\n",
       "178          명량  7.921406e+06\n",
       "106         댄싱퀸  5.983879e+06\n",
       "158       우는 남자  5.541416e+06\n",
       "179  군도: 민란의 시대  4.159172e+06\n",
       "229         베테랑  4.064107e+06\n",
       "3           의형제  3.738146e+06\n",
       "70          글러브  3.504876e+06\n",
       "53            퀵  3.263172e+06\n",
       "48          도가니  3.181761e+06\n",
       "77      남영동1985  2.553446e+06"
      ]
     },
     "execution_count": 920,
     "metadata": {},
     "output_type": "execute_result"
    }
   ],
   "source": [
    "submission.sort_values(by = 'box_off_num', ascending = False)[:10]"
   ]
  },
  {
   "cell_type": "code",
   "execution_count": 921,
   "metadata": {},
   "outputs": [],
   "source": [
    "submission.to_csv(\"basic1010.csv\", index = False)"
   ]
  },
  {
   "cell_type": "code",
   "execution_count": 215,
   "metadata": {
    "scrolled": true
   },
   "outputs": [
    {
     "data": {
      "text/plain": [
       "-2.6376215964161442"
      ]
     },
     "execution_count": 215,
     "metadata": {},
     "output_type": "execute_result"
    }
   ],
   "source": [
    "vot = VotingRegressor(estimators = [('lgbm', lgbm), ('gbm', gbm), ('rf',rf), (], weights = [.2, .5, .3])\n",
    "cv_vot = cross_val_score(vot, X, y, cv = KFold(10, shuffle = True, random_state = 100), n_jobs = -1, scoring = 'neg_mean_squared_error')\n",
    "cv_vot.mean()"
   ]
  },
  {
   "cell_type": "code",
   "execution_count": 216,
   "metadata": {},
   "outputs": [
    {
     "ename": "NotFittedError",
     "evalue": "This VotingRegressor instance is not fitted yet. Call 'fit' with appropriate arguments before using this estimator.",
     "output_type": "error",
     "traceback": [
      "\u001b[1;31m---------------------------------------------------------------------------\u001b[0m",
      "\u001b[1;31mNotFittedError\u001b[0m                            Traceback (most recent call last)",
      "\u001b[1;32m<ipython-input-216-b5376600a5db>\u001b[0m in \u001b[0;36m<module>\u001b[1;34m\u001b[0m\n\u001b[1;32m----> 1\u001b[1;33m \u001b[0mpred_vot\u001b[0m \u001b[1;33m=\u001b[0m \u001b[0mnp\u001b[0m\u001b[1;33m.\u001b[0m\u001b[0mexpm1\u001b[0m\u001b[1;33m(\u001b[0m\u001b[0mvot\u001b[0m\u001b[1;33m.\u001b[0m\u001b[0mpredict\u001b[0m\u001b[1;33m(\u001b[0m\u001b[0mtarget\u001b[0m\u001b[1;33m)\u001b[0m\u001b[1;33m)\u001b[0m\u001b[1;33m\u001b[0m\u001b[1;33m\u001b[0m\u001b[0m\n\u001b[0m",
      "\u001b[1;32m~\\Anaconda3\\lib\\site-packages\\sklearn\\ensemble\\_voting.py\u001b[0m in \u001b[0;36mpredict\u001b[1;34m(self, X)\u001b[0m\n\u001b[0;32m    475\u001b[0m             \u001b[0mThe\u001b[0m \u001b[0mpredicted\u001b[0m \u001b[0mvalues\u001b[0m\u001b[1;33m.\u001b[0m\u001b[1;33m\u001b[0m\u001b[1;33m\u001b[0m\u001b[0m\n\u001b[0;32m    476\u001b[0m         \"\"\"\n\u001b[1;32m--> 477\u001b[1;33m         \u001b[0mcheck_is_fitted\u001b[0m\u001b[1;33m(\u001b[0m\u001b[0mself\u001b[0m\u001b[1;33m)\u001b[0m\u001b[1;33m\u001b[0m\u001b[1;33m\u001b[0m\u001b[0m\n\u001b[0m\u001b[0;32m    478\u001b[0m         return np.average(self._predict(X), axis=1,\n\u001b[0;32m    479\u001b[0m                           weights=self._weights_not_none)\n",
      "\u001b[1;32m~\\Anaconda3\\lib\\site-packages\\sklearn\\utils\\validation.py\u001b[0m in \u001b[0;36minner_f\u001b[1;34m(*args, **kwargs)\u001b[0m\n\u001b[0;32m     71\u001b[0m                           FutureWarning)\n\u001b[0;32m     72\u001b[0m         \u001b[0mkwargs\u001b[0m\u001b[1;33m.\u001b[0m\u001b[0mupdate\u001b[0m\u001b[1;33m(\u001b[0m\u001b[1;33m{\u001b[0m\u001b[0mk\u001b[0m\u001b[1;33m:\u001b[0m \u001b[0marg\u001b[0m \u001b[1;32mfor\u001b[0m \u001b[0mk\u001b[0m\u001b[1;33m,\u001b[0m \u001b[0marg\u001b[0m \u001b[1;32min\u001b[0m \u001b[0mzip\u001b[0m\u001b[1;33m(\u001b[0m\u001b[0msig\u001b[0m\u001b[1;33m.\u001b[0m\u001b[0mparameters\u001b[0m\u001b[1;33m,\u001b[0m \u001b[0margs\u001b[0m\u001b[1;33m)\u001b[0m\u001b[1;33m}\u001b[0m\u001b[1;33m)\u001b[0m\u001b[1;33m\u001b[0m\u001b[1;33m\u001b[0m\u001b[0m\n\u001b[1;32m---> 73\u001b[1;33m         \u001b[1;32mreturn\u001b[0m \u001b[0mf\u001b[0m\u001b[1;33m(\u001b[0m\u001b[1;33m**\u001b[0m\u001b[0mkwargs\u001b[0m\u001b[1;33m)\u001b[0m\u001b[1;33m\u001b[0m\u001b[1;33m\u001b[0m\u001b[0m\n\u001b[0m\u001b[0;32m     74\u001b[0m     \u001b[1;32mreturn\u001b[0m \u001b[0minner_f\u001b[0m\u001b[1;33m\u001b[0m\u001b[1;33m\u001b[0m\u001b[0m\n\u001b[0;32m     75\u001b[0m \u001b[1;33m\u001b[0m\u001b[0m\n",
      "\u001b[1;32m~\\Anaconda3\\lib\\site-packages\\sklearn\\utils\\validation.py\u001b[0m in \u001b[0;36mcheck_is_fitted\u001b[1;34m(estimator, attributes, msg, all_or_any)\u001b[0m\n\u001b[0;32m   1018\u001b[0m \u001b[1;33m\u001b[0m\u001b[0m\n\u001b[0;32m   1019\u001b[0m     \u001b[1;32mif\u001b[0m \u001b[1;32mnot\u001b[0m \u001b[0mattrs\u001b[0m\u001b[1;33m:\u001b[0m\u001b[1;33m\u001b[0m\u001b[1;33m\u001b[0m\u001b[0m\n\u001b[1;32m-> 1020\u001b[1;33m         \u001b[1;32mraise\u001b[0m \u001b[0mNotFittedError\u001b[0m\u001b[1;33m(\u001b[0m\u001b[0mmsg\u001b[0m \u001b[1;33m%\u001b[0m \u001b[1;33m{\u001b[0m\u001b[1;34m'name'\u001b[0m\u001b[1;33m:\u001b[0m \u001b[0mtype\u001b[0m\u001b[1;33m(\u001b[0m\u001b[0mestimator\u001b[0m\u001b[1;33m)\u001b[0m\u001b[1;33m.\u001b[0m\u001b[0m__name__\u001b[0m\u001b[1;33m}\u001b[0m\u001b[1;33m)\u001b[0m\u001b[1;33m\u001b[0m\u001b[1;33m\u001b[0m\u001b[0m\n\u001b[0m\u001b[0;32m   1021\u001b[0m \u001b[1;33m\u001b[0m\u001b[0m\n\u001b[0;32m   1022\u001b[0m \u001b[1;33m\u001b[0m\u001b[0m\n",
      "\u001b[1;31mNotFittedError\u001b[0m: This VotingRegressor instance is not fitted yet. Call 'fit' with appropriate arguments before using this estimator."
     ]
    }
   ],
   "source": [
    "pred_vot = np.expm1(vot.predict(target))"
   ]
  },
  {
   "cell_type": "code",
   "execution_count": null,
   "metadata": {},
   "outputs": [],
   "source": [
    "submission['box_off_num'] = pred_vot"
   ]
  },
  {
   "cell_type": "code",
   "execution_count": null,
   "metadata": {
    "scrolled": true
   },
   "outputs": [],
   "source": [
    "submission.sort_values(by = 'box_off_num', ascending = False)[:10]"
   ]
  },
  {
   "cell_type": "code",
   "execution_count": 313,
   "metadata": {},
   "outputs": [],
   "source": [
    "submission.to_csv(\"basic1010.csv\", index = False)"
   ]
  },
  {
   "cell_type": "code",
   "execution_count": 324,
   "metadata": {},
   "outputs": [],
   "source": [
    "submission['box_off_num'] = 0.5 * pred_gbm + 0.3 * pred_rf + 0.2 * pred_lgbm"
   ]
  },
  {
   "cell_type": "code",
   "execution_count": 325,
   "metadata": {
    "scrolled": false
   },
   "outputs": [
    {
     "data": {
      "text/html": [
       "<div>\n",
       "<style scoped>\n",
       "    .dataframe tbody tr th:only-of-type {\n",
       "        vertical-align: middle;\n",
       "    }\n",
       "\n",
       "    .dataframe tbody tr th {\n",
       "        vertical-align: top;\n",
       "    }\n",
       "\n",
       "    .dataframe thead th {\n",
       "        text-align: right;\n",
       "    }\n",
       "</style>\n",
       "<table border=\"1\" class=\"dataframe\">\n",
       "  <thead>\n",
       "    <tr style=\"text-align: right;\">\n",
       "      <th></th>\n",
       "      <th>title</th>\n",
       "      <th>box_off_num</th>\n",
       "    </tr>\n",
       "  </thead>\n",
       "  <tbody>\n",
       "    <tr>\n",
       "      <th>178</th>\n",
       "      <td>명량</td>\n",
       "      <td>3.791475e+06</td>\n",
       "    </tr>\n",
       "    <tr>\n",
       "      <th>179</th>\n",
       "      <td>군도: 민란의 시대</td>\n",
       "      <td>3.554449e+06</td>\n",
       "    </tr>\n",
       "    <tr>\n",
       "      <th>229</th>\n",
       "      <td>베테랑</td>\n",
       "      <td>3.424879e+06</td>\n",
       "    </tr>\n",
       "    <tr>\n",
       "      <th>135</th>\n",
       "      <td>용의자</td>\n",
       "      <td>3.174623e+06</td>\n",
       "    </tr>\n",
       "    <tr>\n",
       "      <th>227</th>\n",
       "      <td>미쓰 와이프</td>\n",
       "      <td>2.756855e+06</td>\n",
       "    </tr>\n",
       "    <tr>\n",
       "      <th>106</th>\n",
       "      <td>댄싱퀸</td>\n",
       "      <td>2.751606e+06</td>\n",
       "    </tr>\n",
       "    <tr>\n",
       "      <th>142</th>\n",
       "      <td>박수건달</td>\n",
       "      <td>2.732386e+06</td>\n",
       "    </tr>\n",
       "    <tr>\n",
       "      <th>15</th>\n",
       "      <td>포화 속으로</td>\n",
       "      <td>2.381330e+06</td>\n",
       "    </tr>\n",
       "    <tr>\n",
       "      <th>108</th>\n",
       "      <td>신세계</td>\n",
       "      <td>2.362684e+06</td>\n",
       "    </tr>\n",
       "    <tr>\n",
       "      <th>166</th>\n",
       "      <td>방황하는 칼날</td>\n",
       "      <td>2.309629e+06</td>\n",
       "    </tr>\n",
       "  </tbody>\n",
       "</table>\n",
       "</div>"
      ],
      "text/plain": [
       "          title   box_off_num\n",
       "178          명량  3.791475e+06\n",
       "179  군도: 민란의 시대  3.554449e+06\n",
       "229         베테랑  3.424879e+06\n",
       "135         용의자  3.174623e+06\n",
       "227      미쓰 와이프  2.756855e+06\n",
       "106         댄싱퀸  2.751606e+06\n",
       "142        박수건달  2.732386e+06\n",
       "15       포화 속으로  2.381330e+06\n",
       "108         신세계  2.362684e+06\n",
       "166     방황하는 칼날  2.309629e+06"
      ]
     },
     "execution_count": 325,
     "metadata": {},
     "output_type": "execute_result"
    }
   ],
   "source": [
    "submission.sort_values(by = 'box_off_num', ascending = False)[:10]"
   ]
  },
  {
   "cell_type": "code",
   "execution_count": 326,
   "metadata": {},
   "outputs": [],
   "source": [
    "submission.to_csv(\"basic1010.csv\", index = False)"
   ]
  }
 ],
 "metadata": {
  "kernelspec": {
   "display_name": "Python 3",
   "language": "python",
   "name": "python3"
  },
  "language_info": {
   "codemirror_mode": {
    "name": "ipython",
    "version": 3
   },
   "file_extension": ".py",
   "mimetype": "text/x-python",
   "name": "python",
   "nbconvert_exporter": "python",
   "pygments_lexer": "ipython3",
   "version": "3.7.6"
  }
 },
 "nbformat": 4,
 "nbformat_minor": 4
}
