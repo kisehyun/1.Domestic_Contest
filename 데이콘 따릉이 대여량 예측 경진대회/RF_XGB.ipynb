{
 "cells": [
  {
   "cell_type": "code",
   "execution_count": 207,
   "id": "57d25115",
   "metadata": {},
   "outputs": [],
   "source": [
    "import pandas as pd\n",
    "import numpy as np\n",
    "import warnings\n",
    "warnings.filterwarnings('ignore')"
   ]
  },
  {
   "cell_type": "code",
   "execution_count": 227,
   "id": "34aef2b1",
   "metadata": {},
   "outputs": [],
   "source": [
    "train = pd.read_csv(\"train.csv\")\n",
    "test = pd.read_csv('test.csv')"
   ]
  },
  {
   "cell_type": "code",
   "execution_count": 228,
   "id": "1729f4d1",
   "metadata": {},
   "outputs": [],
   "source": [
    "train['date_time'] = pd.to_datetime(train['date_time'])\n",
    "test['date_time'] = pd.to_datetime(test['date_time'])"
   ]
  },
  {
   "cell_type": "code",
   "execution_count": 229,
   "id": "faac2cc0",
   "metadata": {},
   "outputs": [],
   "source": [
    "train['month'] = pd.DatetimeIndex(train['date_time']).month\n",
    "test['month'] = pd.DatetimeIndex(test['date_time']).month"
   ]
  },
  {
   "cell_type": "code",
   "execution_count": 230,
   "id": "aa1bb99d",
   "metadata": {},
   "outputs": [],
   "source": [
    "train['year'] = pd.DatetimeIndex(train['date_time']).year\n",
    "test['year'] = pd.DatetimeIndex(test['date_time']).year"
   ]
  },
  {
   "cell_type": "code",
   "execution_count": 231,
   "id": "a1104091",
   "metadata": {},
   "outputs": [],
   "source": [
    "train['weekday'] = pd.DatetimeIndex(train['date_time']).weekday\n",
    "test['weekday'] = pd.DatetimeIndex(test['date_time']).weekday"
   ]
  },
  {
   "cell_type": "code",
   "execution_count": 232,
   "id": "c9bb8190",
   "metadata": {},
   "outputs": [],
   "source": [
    "train['day'] = train['date_time'].dt.day_of_year - 90\n",
    "test['day'] = test['date_time'].dt.day_of_year - 90"
   ]
  },
  {
   "cell_type": "code",
   "execution_count": 244,
   "id": "d95a8820",
   "metadata": {},
   "outputs": [],
   "source": [
    "X = train.drop(['low_temp', 'date_time','wind_direction', 'Precipitation_Probability', 'month', 'number_of_rentals'], axis = 1)\n",
    "y = train.number_of_rentals\n",
    "test = test[X.columns]"
   ]
  },
  {
   "cell_type": "code",
   "execution_count": 234,
   "id": "821209f9",
   "metadata": {},
   "outputs": [],
   "source": [
    "from sklearn.ensemble import RandomForestRegressor\n",
    "from sklearn.tree import DecisionTreeRegressor, ExtraTreeRegressor\n",
    "from xgboost import XGBRegressor\n",
    "from lightgbm import LGBMRegressor\n",
    "from sklearn.model_selection import KFold, cross_val_score"
   ]
  },
  {
   "cell_type": "code",
   "execution_count": 246,
   "id": "3eb808b7",
   "metadata": {},
   "outputs": [],
   "source": [
    "kf = KFold(n_splits = 5, random_state = 42, shuffle = True)"
   ]
  },
  {
   "cell_type": "code",
   "execution_count": 247,
   "id": "20735687",
   "metadata": {},
   "outputs": [],
   "source": [
    "lgbm = LGBMRegressor(random_state = 42, learning_rate = 0.1, max_depth = 3)"
   ]
  },
  {
   "cell_type": "code",
   "execution_count": 248,
   "id": "221d12e4",
   "metadata": {},
   "outputs": [],
   "source": [
    "cv = cross_val_score(lgbm, X, y, scoring = 'neg_mean_absolute_error', cv = kf, n_jobs = -1)"
   ]
  },
  {
   "cell_type": "code",
   "execution_count": 249,
   "id": "7d1af856",
   "metadata": {
    "scrolled": true
   },
   "outputs": [
    {
     "data": {
      "text/plain": [
       "6810.776228023811"
      ]
     },
     "execution_count": 249,
     "metadata": {},
     "output_type": "execute_result"
    }
   ],
   "source": [
    "abs(cv.mean())"
   ]
  },
  {
   "cell_type": "code",
   "execution_count": 256,
   "id": "9db72275",
   "metadata": {},
   "outputs": [],
   "source": [
    "xgb = XGBRegressor(random_state = 42, learning_rate = 0.09, max_depth = 3)"
   ]
  },
  {
   "cell_type": "code",
   "execution_count": 257,
   "id": "9983a6fc",
   "metadata": {},
   "outputs": [],
   "source": [
    "cv = cross_val_score(xgb, X, y, scoring = 'neg_mean_absolute_error', cv = kf, n_jobs = -1)"
   ]
  },
  {
   "cell_type": "code",
   "execution_count": 258,
   "id": "bb697db7",
   "metadata": {
    "scrolled": true
   },
   "outputs": [
    {
     "data": {
      "text/plain": [
       "6761.9225920993795"
      ]
     },
     "execution_count": 258,
     "metadata": {},
     "output_type": "execute_result"
    }
   ],
   "source": [
    "abs(cv.mean())"
   ]
  },
  {
   "cell_type": "code",
   "execution_count": 259,
   "id": "393ea7df",
   "metadata": {},
   "outputs": [],
   "source": [
    "rf = RandomForestRegressor(random_state = 42, n_estimators = 70)"
   ]
  },
  {
   "cell_type": "code",
   "execution_count": 260,
   "id": "8bd121ef",
   "metadata": {},
   "outputs": [],
   "source": [
    "cv = cross_val_score(rf, X, y, scoring = 'neg_mean_absolute_error', cv = kf, n_jobs = -1)"
   ]
  },
  {
   "cell_type": "code",
   "execution_count": 261,
   "id": "fa45d52f",
   "metadata": {
    "scrolled": true
   },
   "outputs": [
    {
     "data": {
      "text/plain": [
       "6822.106388648388"
      ]
     },
     "execution_count": 261,
     "metadata": {},
     "output_type": "execute_result"
    }
   ],
   "source": [
    "abs(cv.mean())"
   ]
  },
  {
   "cell_type": "code",
   "execution_count": 262,
   "id": "99ce0e5f",
   "metadata": {
    "scrolled": true
   },
   "outputs": [
    {
     "data": {
      "text/plain": [
       "LGBMRegressor(max_depth=3, random_state=42)"
      ]
     },
     "execution_count": 262,
     "metadata": {},
     "output_type": "execute_result"
    }
   ],
   "source": [
    "rf.fit(X, y)\n",
    "xgb.fit(X, y)\n",
    "lgbm.fit(X, y)"
   ]
  },
  {
   "cell_type": "code",
   "execution_count": 263,
   "id": "6253dbaa",
   "metadata": {},
   "outputs": [],
   "source": [
    "rf_pred = rf.predict(test)\n",
    "xgb_pred = xgb.predict(test)\n",
    "lgbm_pred = lgbm.predict(test)"
   ]
  },
  {
   "cell_type": "code",
   "execution_count": 264,
   "id": "78e4e247",
   "metadata": {},
   "outputs": [],
   "source": [
    "submission = pd.read_csv('sample_submission.csv')"
   ]
  },
  {
   "cell_type": "code",
   "execution_count": 265,
   "id": "0eeda658",
   "metadata": {},
   "outputs": [],
   "source": [
    "submission['number_of_rentals'] = (rf_pred + xgb_pred + lgbm_pred) / 3"
   ]
  },
  {
   "cell_type": "code",
   "execution_count": 267,
   "id": "70c9ba19",
   "metadata": {},
   "outputs": [],
   "source": [
    "submission.to_csv('20211104_4th.csv', index = False)"
   ]
  },
  {
   "cell_type": "code",
   "execution_count": 52,
   "id": "d21a5d6d",
   "metadata": {},
   "outputs": [],
   "source": [
    "import matplotlib.pyplot as plt\n",
    "%matplotlib inline"
   ]
  },
  {
   "cell_type": "code",
   "execution_count": 195,
   "id": "4d3a7d4f",
   "metadata": {},
   "outputs": [],
   "source": [
    "best = pd.read_csv('20211104_3rd.csv')"
   ]
  },
  {
   "cell_type": "code",
   "execution_count": 268,
   "id": "6aadc034",
   "metadata": {
    "scrolled": true
   },
   "outputs": [
    {
     "data": {
      "image/png": "[encoded data removed]",
      "text/plain": [
       "<Figure size 432x288 with 1 Axes>"
      ]
     },
     "metadata": {
      "needs_background": "light"
     },
     "output_type": "display_data"
    }
   ],
   "source": [
    "plt.plot(best['number_of_rentals'], label = 'best')\n",
    "plt.plot(submission['number_of_rentals'], label = 'new')\n",
    "plt.legend()\n",
    "plt.show()"
   ]
  },
  {
   "cell_type": "code",
   "execution_count": null,
   "id": "ed78debd",
   "metadata": {},
   "outputs": [],
   "source": []
  }
 ],
 "metadata": {
  "kernelspec": {
   "display_name": "Python 3",
   "language": "python",
   "name": "python3"
  },
  "language_info": {
   "codemirror_mode": {
    "name": "ipython",
    "version": 3
   },
   "file_extension": ".py",
   "mimetype": "text/x-python",
   "name": "python",
   "nbconvert_exporter": "python",
   "pygments_lexer": "ipython3",
   "version": "3.8.8"
  }
 },
 "nbformat": 4,
 "nbformat_minor": 5
}
