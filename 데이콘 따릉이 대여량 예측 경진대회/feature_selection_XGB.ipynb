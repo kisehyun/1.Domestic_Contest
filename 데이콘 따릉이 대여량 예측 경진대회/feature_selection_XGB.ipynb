{
 "cells": [
  {
   "cell_type": "code",
   "execution_count": 1,
   "id": "7f58a1d3",
   "metadata": {},
   "outputs": [],
   "source": [
    "import pandas as pd\n",
    "import numpy as np\n",
    "import warnings\n",
    "warnings.filterwarnings('ignore')"
   ]
  },
  {
   "cell_type": "code",
   "execution_count": 9,
   "id": "95749351",
   "metadata": {},
   "outputs": [],
   "source": [
    "train = pd.read_csv('train.csv')\n",
    "test = pd.read_csv('test.csv')"
   ]
  },
  {
   "cell_type": "code",
   "execution_count": 10,
   "id": "69f008a4",
   "metadata": {},
   "outputs": [],
   "source": [
    "train['date_time'] = pd.to_datetime(train['date_time'])\n",
    "test['date_time'] = pd.to_datetime(test['date_time'])"
   ]
  },
  {
   "cell_type": "code",
   "execution_count": 13,
   "id": "232b703f",
   "metadata": {},
   "outputs": [],
   "source": [
    "train['year'] = train['date_time'].dt.year\n",
    "train['month'] = train['date_time'].dt.month\n",
    "train['day'] = train['date_time'].dt.day_of_year - 90\n",
    "train['week'] = train['date_time'].dt.week\n",
    "train['weekday'] = train['date_time'].dt.weekday"
   ]
  },
  {
   "cell_type": "code",
   "execution_count": 14,
   "id": "9d0ae8cd",
   "metadata": {},
   "outputs": [],
   "source": [
    "test['year'] = test['date_time'].dt.year\n",
    "test['month'] = test['date_time'].dt.month\n",
    "test['day'] = test['date_time'].dt.day_of_year - 90\n",
    "test['week'] = test['date_time'].dt.week\n",
    "test['weekday'] = test['date_time'].dt.weekday"
   ]
  },
  {
   "cell_type": "code",
   "execution_count": 29,
   "id": "d9643059",
   "metadata": {},
   "outputs": [],
   "source": [
    "X = train.drop(['date_time', 'number_of_rentals'], axis = 1)\n",
    "y = train.number_of_rentals"
   ]
  },
  {
   "cell_type": "code",
   "execution_count": 115,
   "id": "5914a101",
   "metadata": {},
   "outputs": [],
   "source": [
    "from sklearn.model_selection import KFold, train_test_split, cross_val_score\n",
    "from lightgbm import LGBMRegressor\n",
    "from xgboost import XGBRegressor\n",
    "from itertools import combinations\n",
    "from sklearn.metrics import make_scorer"
   ]
  },
  {
   "cell_type": "code",
   "execution_count": 41,
   "id": "bf28c953",
   "metadata": {},
   "outputs": [],
   "source": [
    "kf = KFold(n_splits = 10, random_state = 42, shuffle = True)"
   ]
  },
  {
   "cell_type": "code",
   "execution_count": 116,
   "id": "edd2d563",
   "metadata": {},
   "outputs": [],
   "source": [
    "xgb = XGBRegressor(random_state = 42, learning_rate = 0.1, max_depth = 4)"
   ]
  },
  {
   "cell_type": "code",
   "execution_count": 117,
   "id": "9864d7ab",
   "metadata": {
    "scrolled": true
   },
   "outputs": [
    {
     "name": "stdout",
     "output_type": "stream",
     "text": [
      "CPU times: user 4h 52min 34s, sys: 48min 11s, total: 5h 40min 45s\n",
      "Wall time: 45min 33s\n"
     ]
    }
   ],
   "source": [
    "%%time\n",
    "nmae_list = []\n",
    "features = []\n",
    "for n in range(5, X.shape[1] + 1) :\n",
    "    combs = list(combinations(X.columns, n))\n",
    "    \n",
    "    for comb in combs :\n",
    "        feature = list(comb)\n",
    "        features.append(feature)\n",
    "        samp = X[feature]\n",
    "        xgb_cv = cross_val_score(xgb, samp, y, cv = kf, scoring = 'neg_mean_absolute_error')\n",
    "        nmae = xgb_cv.mean()\n",
    "        nmae_list.append(nmae)"
   ]
  },
  {
   "cell_type": "code",
   "execution_count": 118,
   "id": "f12d3adb",
   "metadata": {},
   "outputs": [],
   "source": [
    "result = pd.DataFrame({'features' : features, 'NMAE' : nmae_list})"
   ]
  },
  {
   "cell_type": "code",
   "execution_count": 125,
   "id": "ed645d24",
   "metadata": {},
   "outputs": [],
   "source": [
    "f = result.sort_values(by = 'NMAE').tail(1).features.values[0]"
   ]
  },
  {
   "cell_type": "code",
   "execution_count": 141,
   "id": "b6f73ba7",
   "metadata": {},
   "outputs": [],
   "source": [
    "xgb = XGBRegressor(random_state = 42)"
   ]
  },
  {
   "cell_type": "code",
   "execution_count": 143,
   "id": "0aa7dae6",
   "metadata": {},
   "outputs": [
    {
     "data": {
      "text/plain": [
       "XGBRegressor(base_score=0.5, booster='gbtree', colsample_bylevel=1,\n",
       "             colsample_bynode=1, colsample_bytree=1, gamma=0, gpu_id=-1,\n",
       "             importance_type='gain', interaction_constraints='',\n",
       "             learning_rate=0.12, max_delta_step=0, max_depth=3,\n",
       "             min_child_weight=1, missing=nan, monotone_constraints='()',\n",
       "             n_estimators=100, n_jobs=8, num_parallel_tree=1, random_state=42,\n",
       "             reg_alpha=0, reg_lambda=1, scale_pos_weight=1, subsample=1,\n",
       "             tree_method='exact', validate_parameters=1, verbosity=None)"
      ]
     },
     "execution_count": 143,
     "metadata": {},
     "output_type": "execute_result"
    }
   ],
   "source": [
    "xgb.fit(X[f], y)"
   ]
  },
  {
   "cell_type": "code",
   "execution_count": 144,
   "id": "804a91d8",
   "metadata": {},
   "outputs": [],
   "source": [
    "pred = xgb.predict(test[f])"
   ]
  },
  {
   "cell_type": "code",
   "execution_count": 107,
   "id": "2e95db01",
   "metadata": {},
   "outputs": [],
   "source": [
    "submission = pd.read_csv('sample_submission.csv')"
   ]
  },
  {
   "cell_type": "code",
   "execution_count": 145,
   "id": "26896785",
   "metadata": {},
   "outputs": [],
   "source": [
    "submission['number_of_rentals'] = pred"
   ]
  },
  {
   "cell_type": "code",
   "execution_count": 148,
   "id": "0fd85672",
   "metadata": {},
   "outputs": [],
   "source": [
    "best = pd.read_csv('20211105_2nd.csv')"
   ]
  },
  {
   "cell_type": "code",
   "execution_count": 111,
   "id": "689b3555",
   "metadata": {},
   "outputs": [],
   "source": [
    "import matplotlib.pyplot as plt\n",
    "%matplotlib inline"
   ]
  },
  {
   "cell_type": "code",
   "execution_count": 150,
   "id": "01b77236",
   "metadata": {},
   "outputs": [
    {
     "data": {
      "image/png": "[encoded data removed]",
      "text/plain": [
       "<Figure size 432x288 with 1 Axes>"
      ]
     },
     "metadata": {
      "needs_background": "light"
     },
     "output_type": "display_data"
    }
   ],
   "source": [
    "plt.plot(best['number_of_rentals'], label = 'best')\n",
    "plt.plot(pred, label = 'new')\n",
    "plt.legend()\n",
    "plt.show()"
   ]
  },
  {
   "cell_type": "code",
   "execution_count": 151,
   "id": "0ab58295",
   "metadata": {},
   "outputs": [],
   "source": [
    "submission.to_csv('20211105_3rd.csv', index = False)"
   ]
  }
 ],
 "metadata": {
  "kernelspec": {
   "display_name": "Python 3",
   "language": "python",
   "name": "python3"
  },
  "language_info": {
   "codemirror_mode": {
    "name": "ipython",
    "version": 3
   },
   "file_extension": ".py",
   "mimetype": "text/x-python",
   "name": "python",
   "nbconvert_exporter": "python",
   "pygments_lexer": "ipython3",
   "version": "3.8.8"
  }
 },
 "nbformat": 4,
 "nbformat_minor": 5
}
