{
 "cells": [
  {
   "cell_type": "markdown",
   "metadata": {},
   "source": [
    "# DACON - 태양광 발전량 예측 competition\n",
    "***\n",
    "\n",
    "## 1. Package Import"
   ]
  },
  {
   "cell_type": "code",
   "execution_count": 343,
   "metadata": {},
   "outputs": [],
   "source": [
    "import warnings\n",
    "warnings.filterwarnings('ignore')\n",
    "\n",
    "import pandas as pd\n",
    "import numpy as np\n",
    "import seaborn as sns\n",
    "import matplotlib.pyplot as plt\n",
    "%matplotlib inline\n",
    "\n",
    "import itertools\n",
    "import time\n",
    "\n",
    "import statsmodels.api as sm\n",
    "from statsmodels.regression.quantile_regression import QuantReg as qreg\n",
    "import statsmodels.formula.api as smf\n",
    "\n",
    "from tqdm import tnrange, tqdm_notebook\n",
    "\n",
    "from sklearn.ensemble import RandomForestRegressor, GradientBoostingRegressor\n",
    "import os\n",
    "from lightgbm import LGBMRegressor\n",
    "import datetime\n",
    "#from skgarden import RandomForestQuantileRegressor, DecisionTreeQuantileRegressor, ExtraTreeQuantileRegressor, ExtraTreesQuantileRegressor"
   ]
  },
  {
   "cell_type": "markdown",
   "metadata": {},
   "source": [
    "***\n",
    "\n",
    "## 2. Load Data"
   ]
  },
  {
   "cell_type": "code",
   "execution_count": 344,
   "metadata": {
    "executionInfo": {
     "elapsed": 1983,
     "status": "ok",
     "timestamp": 1608808720934,
     "user": {
      "displayName": "기세현",
      "photoUrl": "",
      "userId": "06743460080794396829"
     },
     "user_tz": -540
    },
    "id": "imDPo2ot9uim",
    "scrolled": true
   },
   "outputs": [],
   "source": [
    "train = pd.read_csv('/Users/kisehyun/DACON/SUN/train/train.csv')"
   ]
  },
  {
   "cell_type": "code",
   "execution_count": 345,
   "metadata": {
    "executionInfo": {
     "elapsed": 24844,
     "status": "ok",
     "timestamp": 1608808744222,
     "user": {
      "displayName": "기세현",
      "photoUrl": "",
      "userId": "06743460080794396829"
     },
     "user_tz": -540
    },
    "id": "NOmG0rI69uin"
   },
   "outputs": [],
   "source": [
    "for i in range(81) :\n",
    "    globals() [f'test_{i}'] = pd.read_csv(f'/Users/kisehyun/DACON/SUN/test/{i}.csv')\n",
    "    globals() [f'test_{i}']['sep_day'] = i"
   ]
  },
  {
   "cell_type": "code",
   "execution_count": 346,
   "metadata": {
    "executionInfo": {
     "elapsed": 24659,
     "status": "ok",
     "timestamp": 1608808744225,
     "user": {
      "displayName": "기세현",
      "photoUrl": "",
      "userId": "06743460080794396829"
     },
     "user_tz": -540
    },
    "id": "dUGnZ7_I9uin"
   },
   "outputs": [],
   "source": [
    "### 각 데이터를 하나의 데이터로 통합\n",
    "test = pd.DataFrame()\n",
    "idx_list = []\n",
    "for i in range(81):\n",
    "    test = pd.concat([test, globals()[f'test_{i}']], axis = 0, ignore_index = True)"
   ]
  },
  {
   "cell_type": "code",
   "execution_count": 347,
   "metadata": {
    "executionInfo": {
     "elapsed": 24764,
     "status": "ok",
     "timestamp": 1608808744934,
     "user": {
      "displayName": "기세현",
      "photoUrl": "",
      "userId": "06743460080794396829"
     },
     "user_tz": -540
    },
    "id": "Zdc-gNOx9uin"
   },
   "outputs": [],
   "source": [
    "submission = pd.read_csv('sample_submission.csv')"
   ]
  },
  {
   "cell_type": "markdown",
   "metadata": {},
   "source": [
    "***\n",
    "\n",
    "## 3. Make DataSet\n",
    "\n",
    "- after 1 day\n",
    "\n",
    "- after 2 days"
   ]
  },
  {
   "cell_type": "markdown",
   "metadata": {},
   "source": [
    "### Loss Function Definition"
   ]
  },
  {
   "cell_type": "code",
   "execution_count": 348,
   "metadata": {},
   "outputs": [],
   "source": [
    "def pb_loss(true, pred, q) :\n",
    "    \n",
    "    L_list = []\n",
    "    \n",
    "    for i in range(len(true)) :\n",
    "        \n",
    "        if true.iloc[i] >= pred[i] :\n",
    "            L = true.iloc[i] - pred[i]\n",
    "            L *= q\n",
    "            \n",
    "        else :\n",
    "            L1 = pred[i] - true.iloc[i]\n",
    "            L2 = 1 - q\n",
    "            L = L1 * L2\n",
    "            \n",
    "        L_list.append(L)\n",
    "        \n",
    "    return np.mean(L_list)"
   ]
  },
  {
   "cell_type": "code",
   "execution_count": 349,
   "metadata": {},
   "outputs": [],
   "source": [
    "def make_data() :\n",
    "    ### 1일 후 데이터\n",
    "    train_after_1 = train.loc[train.Day <= 1093]\n",
    "    train_after_1['TARGET1'] = list(train.loc[train.Day >= 1].TARGET)\n",
    "    \n",
    "    ### 2일 후 데이터\n",
    "    train_after_2 = train.loc[train.Day <= 1092]\n",
    "    train_after_2['TARGET2'] = list(train.loc[train.Day >= 2].TARGET)\n",
    "    \n",
    "    ### after 1 day data \n",
    "    a_1day = test.loc[test.Day != 6].drop(['Day', 'Minute','sep_day'], axis = 1)\n",
    "    \n",
    "    ### after 2 day data \n",
    "    a_2day = test.query('Day not in [5, 6]').drop(['Day', 'Minute','sep_day'], axis = 1)\n",
    "    \n",
    "    ### after 1 day train data\n",
    "    X_1 = train_after_1.drop(['Day','Minute', 'TARGET1'], axis = 1)\n",
    "    y_1 = train_after_1.TARGET1\n",
    "    \n",
    "    ### after 2 days train data\n",
    "    X_2 = train_after_2.drop(['Day','Minute', 'TARGET2'], axis = 1)\n",
    "    y_2 = train_after_2.TARGET2\n",
    "    \n",
    "    ### actual values\n",
    "    real_1 = test.loc[test.Day != 0].TARGET\n",
    "    real_2 = test.query('Day not in [0, 1]').TARGET\n",
    "    \n",
    "    target = test.loc[test.Day == 6].drop(['Day', 'sep_day', 'Minute'], axis = 1)\n",
    "    \n",
    "    return a_1day, a_2day, X_1, y_1, X_2, y_2, real_1, real_2, target"
   ]
  },
  {
   "cell_type": "code",
   "execution_count": 350,
   "metadata": {
    "scrolled": true
   },
   "outputs": [],
   "source": [
    "a_1day, a_2day, X_1, y_1, X_2, y_2, real_1, real_2, target = make_data()"
   ]
  },
  {
   "cell_type": "code",
   "execution_count": 351,
   "metadata": {
    "scrolled": false
   },
   "outputs": [
    {
     "name": "stdout",
     "output_type": "stream",
     "text": [
      "###### 1번째 학습 및 검증 시작 ######\n",
      "best loss는 1.296308308542097\n",
      "\n",
      "###### 2번째 학습 및 검증 시작 ######\n",
      "best loss는 2.225359462801439\n",
      "\n",
      "###### 3번째 학습 및 검증 시작 ######\n",
      "best loss는 2.683056715429791\n",
      "\n",
      "###### 4번째 학습 및 검증 시작 ######\n",
      "best loss는 2.866210056182411\n",
      "\n",
      "###### 5번째 학습 및 검증 시작 ######\n",
      "best loss는 2.818455207478417\n",
      "\n",
      "###### 6번째 학습 및 검증 시작 ######\n",
      "best loss는 2.5309774991396257\n",
      "\n",
      "###### 7번째 학습 및 검증 시작 ######\n",
      "best loss는 2.0737625275132427\n",
      "\n",
      "###### 8번째 학습 및 검증 시작 ######\n",
      "best loss는 1.5964557435597864\n",
      "\n",
      "###### 9번째 학습 및 검증 시작 ######\n",
      "best loss는 1.0507466872998945\n",
      "\n",
      "전체 loss 평균은 2.12681\n",
      "전체 loss 편차는 0.6359\n"
     ]
    }
   ],
   "source": [
    "t_loss = []\n",
    "qt_list = [.09, .19, .28, .37, .48, .59, .702, .8, .9]\n",
    "\n",
    "for qt in range(9) :\n",
    "    print(f'###### {qt + 1}번째 학습 및 검증 시작 ######')\n",
    "    lgbm = LGBMRegressor(random_state = 519, objective = 'quantile', n_estimators = 10000, learning_rate=0.027, metric = 'quantile', alpha = qt_list[qt], max_depth = 4)\n",
    "    lgbm.fit(X_1, y_1, eval_set = [(a_1day, real_1)], early_stopping_rounds = 1000, verbose = 0)\n",
    "    best_loss = float(str(lgbm.best_score_['valid_0']).split(',')[-1][1:-3])\n",
    "    print(f'best loss는 {best_loss}\\n')\n",
    "    t_loss.append(best_loss)\n",
    "    lgbm_pred = [0 if x < 0 else x for x in lgbm.predict(target)]\n",
    "    submission.loc[submission.id.str.contains('y7'), submission.columns[1+ qt]] = lgbm_pred\n",
    "lgbm_submission = submission.copy()\n",
    "print(f'전체 loss 평균은 {round(np.mean(t_loss), 5)}')\n",
    "print(f'전체 loss 편차는 {round(np.std(t_loss), 5)}')"
   ]
  },
  {
   "cell_type": "code",
   "execution_count": 352,
   "metadata": {},
   "outputs": [
    {
     "name": "stdout",
     "output_type": "stream",
     "text": [
      "###### 1번째 학습 및 검증 시작 ######\n",
      "best loss는 1.3520693834328736\n",
      "\n",
      "###### 2번째 학습 및 검증 시작 ######\n",
      "best loss는 2.3644907997506266\n",
      "\n",
      "###### 3번째 학습 및 검증 시작 ######\n",
      "best loss는 2.8645001845634166\n",
      "\n",
      "###### 4번째 학습 및 검증 시작 ######\n",
      "best loss는 3.0593901696180907\n",
      "\n",
      "###### 5번째 학습 및 검증 시작 ######\n",
      "best loss는 2.979032697627367\n",
      "\n",
      "###### 6번째 학습 및 검증 시작 ######\n",
      "best loss는 2.6709871602913022\n",
      "\n",
      "###### 7번째 학습 및 검증 시작 ######\n",
      "best loss는 2.197453213031728\n",
      "\n",
      "###### 8번째 학습 및 검증 시작 ######\n",
      "best loss는 1.6758170882178407\n",
      "\n",
      "###### 9번째 학습 및 검증 시작 ######\n",
      "best loss는 1.1069548469318813\n",
      "\n",
      "전체 loss 평균은 2.2523\n",
      "전체 loss 편차는 0.68311\n"
     ]
    }
   ],
   "source": [
    "t_loss = []\n",
    "qt_list = [.09, .19, .28, .37, .48, .59, .702, .8, .9]\n",
    "\n",
    "for qt in range(9) :\n",
    "    print(f'###### {qt + 1}번째 학습 및 검증 시작 ######')\n",
    "    lgbm = LGBMRegressor(random_state = 519, objective = 'quantile', n_estimators = 10000, learning_rate=0.027, metric = 'quantile', alpha = qt_list[qt], max_depth = 4)\n",
    "    lgbm.fit(X_2, y_2, eval_set = [(a_2day, real_2)], early_stopping_rounds = 1000, verbose = 0)\n",
    "    best_loss = float(str(lgbm.best_score_['valid_0']).split(',')[-1][1:-3])\n",
    "    print(f'best loss는 {best_loss}\\n')\n",
    "    t_loss.append(best_loss)\n",
    "    lgbm_pred = [0 if x < 0 else x for x in lgbm.predict(target)]\n",
    "    lgbm_submission.loc[lgbm_submission.id.str.contains('y8'), lgbm_submission.columns[1+ qt]] = lgbm_pred\n",
    "lgbm_submission = submission.copy()\n",
    "print(f'전체 loss 평균은 {round(np.mean(t_loss), 5)}')\n",
    "print(f'전체 loss 편차는 {round(np.std(t_loss), 5)}')"
   ]
  },
  {
   "cell_type": "code",
   "execution_count": 353,
   "metadata": {
    "scrolled": false
   },
   "outputs": [
    {
     "data": {
      "text/html": [
       "<div>\n",
       "<style scoped>\n",
       "    .dataframe tbody tr th:only-of-type {\n",
       "        vertical-align: middle;\n",
       "    }\n",
       "\n",
       "    .dataframe tbody tr th {\n",
       "        vertical-align: top;\n",
       "    }\n",
       "\n",
       "    .dataframe thead th {\n",
       "        text-align: right;\n",
       "    }\n",
       "</style>\n",
       "<table border=\"1\" class=\"dataframe\">\n",
       "  <thead>\n",
       "    <tr style=\"text-align: right;\">\n",
       "      <th></th>\n",
       "      <th>q_0.1</th>\n",
       "      <th>q_0.2</th>\n",
       "      <th>q_0.3</th>\n",
       "      <th>q_0.4</th>\n",
       "      <th>q_0.5</th>\n",
       "      <th>q_0.6</th>\n",
       "      <th>q_0.7</th>\n",
       "      <th>q_0.8</th>\n",
       "      <th>q_0.9</th>\n",
       "    </tr>\n",
       "  </thead>\n",
       "  <tbody>\n",
       "    <tr>\n",
       "      <th>count</th>\n",
       "      <td>7776.000000</td>\n",
       "      <td>7776.000000</td>\n",
       "      <td>7776.000000</td>\n",
       "      <td>7776.000000</td>\n",
       "      <td>7776.000000</td>\n",
       "      <td>7776.000000</td>\n",
       "      <td>7776.000000</td>\n",
       "      <td>7776.000000</td>\n",
       "      <td>7776.000000</td>\n",
       "    </tr>\n",
       "    <tr>\n",
       "      <th>mean</th>\n",
       "      <td>3.473755</td>\n",
       "      <td>5.949389</td>\n",
       "      <td>7.533428</td>\n",
       "      <td>8.688090</td>\n",
       "      <td>9.690834</td>\n",
       "      <td>10.398359</td>\n",
       "      <td>10.966340</td>\n",
       "      <td>11.415540</td>\n",
       "      <td>11.932410</td>\n",
       "    </tr>\n",
       "    <tr>\n",
       "      <th>std</th>\n",
       "      <td>8.136573</td>\n",
       "      <td>13.178814</td>\n",
       "      <td>16.282242</td>\n",
       "      <td>18.600089</td>\n",
       "      <td>20.550173</td>\n",
       "      <td>21.826507</td>\n",
       "      <td>22.917675</td>\n",
       "      <td>23.703502</td>\n",
       "      <td>24.477242</td>\n",
       "    </tr>\n",
       "    <tr>\n",
       "      <th>min</th>\n",
       "      <td>0.000000</td>\n",
       "      <td>0.000000</td>\n",
       "      <td>0.000000</td>\n",
       "      <td>0.000000</td>\n",
       "      <td>0.000000</td>\n",
       "      <td>0.000000</td>\n",
       "      <td>0.000000</td>\n",
       "      <td>0.000000</td>\n",
       "      <td>0.000000</td>\n",
       "    </tr>\n",
       "    <tr>\n",
       "      <th>25%</th>\n",
       "      <td>0.000000</td>\n",
       "      <td>0.000000</td>\n",
       "      <td>0.000000</td>\n",
       "      <td>0.000000</td>\n",
       "      <td>0.000000</td>\n",
       "      <td>0.000000</td>\n",
       "      <td>0.000000</td>\n",
       "      <td>0.000000</td>\n",
       "      <td>0.000000</td>\n",
       "    </tr>\n",
       "    <tr>\n",
       "      <th>50%</th>\n",
       "      <td>0.000000</td>\n",
       "      <td>0.000000</td>\n",
       "      <td>0.000000</td>\n",
       "      <td>0.000000</td>\n",
       "      <td>0.000000</td>\n",
       "      <td>0.000000</td>\n",
       "      <td>0.000000</td>\n",
       "      <td>0.000000</td>\n",
       "      <td>0.000000</td>\n",
       "    </tr>\n",
       "    <tr>\n",
       "      <th>75%</th>\n",
       "      <td>0.119105</td>\n",
       "      <td>0.492141</td>\n",
       "      <td>0.793375</td>\n",
       "      <td>0.996254</td>\n",
       "      <td>1.271076</td>\n",
       "      <td>1.701379</td>\n",
       "      <td>1.708906</td>\n",
       "      <td>1.807710</td>\n",
       "      <td>2.587139</td>\n",
       "    </tr>\n",
       "    <tr>\n",
       "      <th>max</th>\n",
       "      <td>49.758318</td>\n",
       "      <td>70.731638</td>\n",
       "      <td>78.711214</td>\n",
       "      <td>86.316575</td>\n",
       "      <td>92.574597</td>\n",
       "      <td>91.845909</td>\n",
       "      <td>97.524431</td>\n",
       "      <td>96.147168</td>\n",
       "      <td>96.965336</td>\n",
       "    </tr>\n",
       "  </tbody>\n",
       "</table>\n",
       "</div>"
      ],
      "text/plain": [
       "             q_0.1        q_0.2        q_0.3        q_0.4        q_0.5  \\\n",
       "count  7776.000000  7776.000000  7776.000000  7776.000000  7776.000000   \n",
       "mean      3.473755     5.949389     7.533428     8.688090     9.690834   \n",
       "std       8.136573    13.178814    16.282242    18.600089    20.550173   \n",
       "min       0.000000     0.000000     0.000000     0.000000     0.000000   \n",
       "25%       0.000000     0.000000     0.000000     0.000000     0.000000   \n",
       "50%       0.000000     0.000000     0.000000     0.000000     0.000000   \n",
       "75%       0.119105     0.492141     0.793375     0.996254     1.271076   \n",
       "max      49.758318    70.731638    78.711214    86.316575    92.574597   \n",
       "\n",
       "             q_0.6        q_0.7        q_0.8        q_0.9  \n",
       "count  7776.000000  7776.000000  7776.000000  7776.000000  \n",
       "mean     10.398359    10.966340    11.415540    11.932410  \n",
       "std      21.826507    22.917675    23.703502    24.477242  \n",
       "min       0.000000     0.000000     0.000000     0.000000  \n",
       "25%       0.000000     0.000000     0.000000     0.000000  \n",
       "50%       0.000000     0.000000     0.000000     0.000000  \n",
       "75%       1.701379     1.708906     1.807710     2.587139  \n",
       "max      91.845909    97.524431    96.147168    96.965336  "
      ]
     },
     "execution_count": 353,
     "metadata": {},
     "output_type": "execute_result"
    }
   ],
   "source": [
    "lgbm_submission.describe()"
   ]
  },
  {
   "cell_type": "code",
   "execution_count": 354,
   "metadata": {},
   "outputs": [],
   "source": [
    "lgbm_submission.to_csv('lgbm_baseline.csv', index = False)"
   ]
  },
  {
   "cell_type": "markdown",
   "metadata": {},
   "source": [
    "### Make Features"
   ]
  },
  {
   "cell_type": "code",
   "execution_count": 355,
   "metadata": {},
   "outputs": [],
   "source": [
    "tr_times = []\n",
    "for day in train.Day.unique() :\n",
    "    d = train.loc[train.Day == day]\n",
    "    try :\n",
    "        start = d.loc[d.DNI > 0].index[0]\n",
    "        end = d.loc[d.DNI > 0].index[-1]\n",
    "        gap = (end - start) / 2\n",
    "    except :\n",
    "        gap = 0\n",
    "\n",
    "    tr_times.append(gap)"
   ]
  },
  {
   "cell_type": "code",
   "execution_count": 356,
   "metadata": {},
   "outputs": [],
   "source": [
    "test['sep'] = test.index // 48 # test 데이터의 경우 시계열 고려가 안되었기 때문에 48(하루 시간)으로 나눈 몫으로 day 구분자 생성\n",
    "\n",
    "\n",
    "te_times = []\n",
    "for day in test.sep.unique() :\n",
    "    d = test.loc[test.sep == day]\n",
    "    try :\n",
    "        start = d.loc[d.DNI > 0].index[0]\n",
    "        end = d.loc[d.DNI > 0].index[-1]\n",
    "        gap = (end - start) / 2\n",
    "    except :\n",
    "        gap = 0\n",
    "\n",
    "    te_times.append(gap)"
   ]
  },
  {
   "cell_type": "code",
   "execution_count": 357,
   "metadata": {},
   "outputs": [],
   "source": [
    "train_sun_time = pd.DataFrame({'Day' : train.Day.unique(), 'sun_time' : tr_times})\n",
    "test_sun_time = pd.DataFrame({'sep' : test.sep.unique(), 'sun_time' : te_times})"
   ]
  },
  {
   "cell_type": "code",
   "execution_count": 358,
   "metadata": {},
   "outputs": [],
   "source": [
    "train = pd.merge(train, train_sun_time, how = 'left', on = 'Day')\n",
    "test = pd.merge(test, test_sun_time, how = 'left', on = 'sep').drop('sep', axis = 1)"
   ]
  },
  {
   "cell_type": "code",
   "execution_count": 359,
   "metadata": {},
   "outputs": [],
   "source": [
    "a_1day, a_2day, X_1, y_1, X_2, y_2, real_1, real_2, target = make_data()"
   ]
  },
  {
   "cell_type": "code",
   "execution_count": 373,
   "metadata": {},
   "outputs": [
    {
     "name": "stdout",
     "output_type": "stream",
     "text": [
      "##### 1번째 학습 및 검증 시작 #####\n",
      "best loss는 1.3137526113140525\n",
      "\n",
      "##### 2번째 학습 및 검증 시작 #####\n",
      "best loss는 2.245721204159991\n",
      "\n",
      "##### 3번째 학습 및 검증 시작 #####\n",
      "best loss는 2.717155305173473\n",
      "\n",
      "##### 4번째 학습 및 검증 시작 #####\n",
      "best loss는 2.903114023251322\n",
      "\n",
      "##### 5번째 학습 및 검증 시작 #####\n",
      "best loss는 2.816610818867936\n",
      "\n",
      "##### 6번째 학습 및 검증 시작 #####\n",
      "best loss는 2.479443807925773\n",
      "\n",
      "##### 7번째 학습 및 검증 시작 #####\n",
      "best loss는 2.0164447892175286\n",
      "\n",
      "##### 8번째 학습 및 검증 시작 #####\n",
      "best loss는 1.5403299774319916\n",
      "\n",
      "##### 9번째 학습 및 검증 시작 #####\n",
      "best loss는 1.00165617252876\n",
      "\n",
      "전체 loss 평균은 2.11491\n",
      "전체 loss 편차는 0.65382\n"
     ]
    }
   ],
   "source": [
    "t_loss = []\n",
    "qt_list = [.09, .19, .28, .37, .48, .59, .702, .8, .9]\n",
    "\n",
    "for qt in range(9) :\n",
    "    print(f'##### {qt + 1}번째 학습 및 검증 시작 #####')\n",
    "    lgbm = LGBMRegressor(random_state = 519, objective = 'quantile', n_estimators = 10000, learning_rate=0.027, metric = 'quantile', alpha = qt_list[qt], max_depth = 4)\n",
    "    lgbm.fit(X_1, y_1, eval_set = [(a_1day, real_1)], early_stopping_rounds = 1000, verbose = 0)\n",
    "    best_loss = float(str(lgbm.best_score_['valid_0']).split(',')[-1][1:-3])\n",
    "    print(f'best loss는 {best_loss}\\n')\n",
    "    t_loss.append(best_loss)\n",
    "    lgbm_pred = [0 if x < 0 else x for x in lgbm.predict(target)]\n",
    "    submission.loc[submission.id.str.contains('y7'), submission.columns[1+ qt]] = lgbm_pred\n",
    "lgbm_submission = submission.copy()\n",
    "\n",
    "print(f'전체 loss 평균은 {round(np.mean(t_loss), 5)}')\n",
    "print(f'전체 loss 편차는 {round(np.std(t_loss), 5)}')"
   ]
  },
  {
   "cell_type": "code",
   "execution_count": 374,
   "metadata": {},
   "outputs": [
    {
     "name": "stdout",
     "output_type": "stream",
     "text": [
      "##### 1번째 학습 및 검증 시작 #####\n",
      "best loss는 1.3567499646938965\n",
      "\n",
      "##### 2번째 학습 및 검증 시작 #####\n",
      "best loss는 2.368558711269472\n",
      "\n",
      "##### 3번째 학습 및 검증 시작 #####\n",
      "best loss는 2.874029998366806\n",
      "\n",
      "##### 4번째 학습 및 검증 시작 #####\n",
      "best loss는 3.056172091731876\n",
      "\n",
      "##### 5번째 학습 및 검증 시작 #####\n",
      "best loss는 2.9661943659583176\n",
      "\n",
      "##### 6번째 학습 및 검증 시작 #####\n",
      "best loss는 2.635459605653439\n",
      "\n",
      "##### 7번째 학습 및 검증 시작 #####\n",
      "best loss는 2.169600282775306\n",
      "\n",
      "##### 8번째 학습 및 검증 시작 #####\n",
      "best loss는 1.6529535515116358\n",
      "\n",
      "##### 9번째 학습 및 검증 시작 #####\n",
      "best loss는 1.0762487822632187\n",
      "\n",
      "전체 loss 평균은 2.23955\n",
      "전체 loss 편차는 0.68738\n"
     ]
    }
   ],
   "source": [
    "t_loss = []\n",
    "qt_list = [.09, .19, .28, .37, .48, .59, .702, .8, .9]\n",
    "\n",
    "for qt in range(9) :\n",
    "    print(f'##### {qt + 1}번째 학습 및 검증 시작 #####')\n",
    "    lgbm = LGBMRegressor(random_state = 519, objective = 'quantile',learning_rate=0.027,  n_estimators = 1000, metric = 'quantile', alpha = qt_list[qt], max_depth = 4)\n",
    "    lgbm.fit(X_2, y_2, eval_set = [(a_2day, real_2)], early_stopping_rounds = 1000, verbose = 0)\n",
    "    best_loss = float(str(lgbm.best_score_['valid_0']).split(',')[-1][1:-3])\n",
    "    print(f'best loss는 {best_loss}\\n')\n",
    "    t_loss.append(best_loss)\n",
    "    lgbm_pred = [0 if x < 0 else x for x in lgbm.predict(target)]\n",
    "    lgbm_submission.loc[lgbm_submission.id.str.contains('y8'), lgbm_submission.columns[1+ qt]] = lgbm_pred\n",
    "lgbm_submission = submission.copy()\n",
    "print(f'전체 loss 평균은 {round(np.mean(t_loss), 5)}')\n",
    "print(f'전체 loss 편차는 {round(np.std(t_loss), 5)}')"
   ]
  },
  {
   "cell_type": "code",
   "execution_count": 375,
   "metadata": {
    "scrolled": false
   },
   "outputs": [
    {
     "data": {
      "text/html": [
       "<div>\n",
       "<style scoped>\n",
       "    .dataframe tbody tr th:only-of-type {\n",
       "        vertical-align: middle;\n",
       "    }\n",
       "\n",
       "    .dataframe tbody tr th {\n",
       "        vertical-align: top;\n",
       "    }\n",
       "\n",
       "    .dataframe thead th {\n",
       "        text-align: right;\n",
       "    }\n",
       "</style>\n",
       "<table border=\"1\" class=\"dataframe\">\n",
       "  <thead>\n",
       "    <tr style=\"text-align: right;\">\n",
       "      <th></th>\n",
       "      <th>q_0.1</th>\n",
       "      <th>q_0.2</th>\n",
       "      <th>q_0.3</th>\n",
       "      <th>q_0.4</th>\n",
       "      <th>q_0.5</th>\n",
       "      <th>q_0.6</th>\n",
       "      <th>q_0.7</th>\n",
       "      <th>q_0.8</th>\n",
       "      <th>q_0.9</th>\n",
       "    </tr>\n",
       "  </thead>\n",
       "  <tbody>\n",
       "    <tr>\n",
       "      <th>count</th>\n",
       "      <td>7776.000000</td>\n",
       "      <td>7776.000000</td>\n",
       "      <td>7776.000000</td>\n",
       "      <td>7776.000000</td>\n",
       "      <td>7776.000000</td>\n",
       "      <td>7776.000000</td>\n",
       "      <td>7776.000000</td>\n",
       "      <td>7776.000000</td>\n",
       "      <td>7776.000000</td>\n",
       "    </tr>\n",
       "    <tr>\n",
       "      <th>mean</th>\n",
       "      <td>6.740263</td>\n",
       "      <td>11.813034</td>\n",
       "      <td>14.931732</td>\n",
       "      <td>17.694354</td>\n",
       "      <td>19.799049</td>\n",
       "      <td>21.245290</td>\n",
       "      <td>22.285437</td>\n",
       "      <td>23.202550</td>\n",
       "      <td>24.406108</td>\n",
       "    </tr>\n",
       "    <tr>\n",
       "      <th>std</th>\n",
       "      <td>9.825923</td>\n",
       "      <td>16.210388</td>\n",
       "      <td>19.997879</td>\n",
       "      <td>23.465053</td>\n",
       "      <td>25.895843</td>\n",
       "      <td>27.647803</td>\n",
       "      <td>28.857821</td>\n",
       "      <td>29.735650</td>\n",
       "      <td>30.621683</td>\n",
       "    </tr>\n",
       "    <tr>\n",
       "      <th>min</th>\n",
       "      <td>0.000000</td>\n",
       "      <td>0.000000</td>\n",
       "      <td>0.000000</td>\n",
       "      <td>0.000000</td>\n",
       "      <td>0.000000</td>\n",
       "      <td>0.000000</td>\n",
       "      <td>0.000000</td>\n",
       "      <td>0.000000</td>\n",
       "      <td>0.000000</td>\n",
       "    </tr>\n",
       "    <tr>\n",
       "      <th>25%</th>\n",
       "      <td>0.000000</td>\n",
       "      <td>0.000000</td>\n",
       "      <td>0.000000</td>\n",
       "      <td>0.000000</td>\n",
       "      <td>0.000000</td>\n",
       "      <td>0.000204</td>\n",
       "      <td>0.000631</td>\n",
       "      <td>0.001098</td>\n",
       "      <td>0.002068</td>\n",
       "    </tr>\n",
       "    <tr>\n",
       "      <th>50%</th>\n",
       "      <td>0.190297</td>\n",
       "      <td>0.618613</td>\n",
       "      <td>1.038507</td>\n",
       "      <td>1.603675</td>\n",
       "      <td>1.927387</td>\n",
       "      <td>1.748206</td>\n",
       "      <td>2.204167</td>\n",
       "      <td>2.742290</td>\n",
       "      <td>3.423611</td>\n",
       "    </tr>\n",
       "    <tr>\n",
       "      <th>75%</th>\n",
       "      <td>12.135023</td>\n",
       "      <td>22.055097</td>\n",
       "      <td>28.556017</td>\n",
       "      <td>34.797362</td>\n",
       "      <td>39.027873</td>\n",
       "      <td>42.516595</td>\n",
       "      <td>44.551444</td>\n",
       "      <td>46.273874</td>\n",
       "      <td>49.405559</td>\n",
       "    </tr>\n",
       "    <tr>\n",
       "      <th>max</th>\n",
       "      <td>53.652994</td>\n",
       "      <td>74.408896</td>\n",
       "      <td>78.625188</td>\n",
       "      <td>82.808364</td>\n",
       "      <td>93.587002</td>\n",
       "      <td>93.856848</td>\n",
       "      <td>96.478742</td>\n",
       "      <td>97.219400</td>\n",
       "      <td>98.492248</td>\n",
       "    </tr>\n",
       "  </tbody>\n",
       "</table>\n",
       "</div>"
      ],
      "text/plain": [
       "             q_0.1        q_0.2        q_0.3        q_0.4        q_0.5  \\\n",
       "count  7776.000000  7776.000000  7776.000000  7776.000000  7776.000000   \n",
       "mean      6.740263    11.813034    14.931732    17.694354    19.799049   \n",
       "std       9.825923    16.210388    19.997879    23.465053    25.895843   \n",
       "min       0.000000     0.000000     0.000000     0.000000     0.000000   \n",
       "25%       0.000000     0.000000     0.000000     0.000000     0.000000   \n",
       "50%       0.190297     0.618613     1.038507     1.603675     1.927387   \n",
       "75%      12.135023    22.055097    28.556017    34.797362    39.027873   \n",
       "max      53.652994    74.408896    78.625188    82.808364    93.587002   \n",
       "\n",
       "             q_0.6        q_0.7        q_0.8        q_0.9  \n",
       "count  7776.000000  7776.000000  7776.000000  7776.000000  \n",
       "mean     21.245290    22.285437    23.202550    24.406108  \n",
       "std      27.647803    28.857821    29.735650    30.621683  \n",
       "min       0.000000     0.000000     0.000000     0.000000  \n",
       "25%       0.000204     0.000631     0.001098     0.002068  \n",
       "50%       1.748206     2.204167     2.742290     3.423611  \n",
       "75%      42.516595    44.551444    46.273874    49.405559  \n",
       "max      93.856848    96.478742    97.219400    98.492248  "
      ]
     },
     "execution_count": 375,
     "metadata": {},
     "output_type": "execute_result"
    }
   ],
   "source": [
    "lgbm_submission.describe()"
   ]
  },
  {
   "cell_type": "code",
   "execution_count": 376,
   "metadata": {},
   "outputs": [],
   "source": [
    "lgbm_submission.to_csv('lgbm_일조시간.csv', index = False)"
   ]
  },
  {
   "cell_type": "code",
   "execution_count": 378,
   "metadata": {
    "scrolled": false
   },
   "outputs": [
    {
     "name": "stdout",
     "output_type": "stream",
     "text": [
      "##### 1번째 학습 및 검증 시작 #####\n",
      "loss는 1.3192144224615532\n",
      "\n",
      "##### 2번째 학습 및 검증 시작 #####\n",
      "loss는 2.2627977531303918\n",
      "\n",
      "##### 3번째 학습 및 검증 시작 #####\n",
      "loss는 2.7367220403726638\n",
      "\n",
      "##### 4번째 학습 및 검증 시작 #####\n",
      "loss는 2.9244022751270027\n",
      "\n",
      "##### 5번째 학습 및 검증 시작 #####\n",
      "loss는 2.8290201636924626\n",
      "\n",
      "##### 6번째 학습 및 검증 시작 #####\n",
      "loss는 2.5254748252349866\n",
      "\n",
      "##### 7번째 학습 및 검증 시작 #####\n",
      "loss는 2.061312731232972\n",
      "\n",
      "##### 8번째 학습 및 검증 시작 #####\n",
      "loss는 1.5824196567983055\n",
      "\n",
      "##### 9번째 학습 및 검증 시작 #####\n",
      "loss는 1.041502460192829\n",
      "\n",
      "전체 loss 평균은 2.14254\n",
      "전체 loss 편차는 0.6504\n"
     ]
    }
   ],
   "source": [
    "t_loss = []\n",
    "qt_list = [.09, .19, .28, .37, .48, .59, .702, .8, .9]\n",
    "\n",
    "for qt in range(9) :\n",
    "    print(f'##### {qt + 1}번째 학습 및 검증 시작 #####')\n",
    "    gbm = GradientBoostingRegressor(random_state = 519, loss = 'quantile', alpha = qt_list[qt], max_depth = 4)\n",
    "    gbm.fit(X_1, y_1)\n",
    "    gbm_pred = gbm.predict(a_1day)\n",
    "    loss = pb_loss(real_1, gbm_pred, qt_list[qt])\n",
    "    print(f'loss는 {loss}\\n')\n",
    "    t_loss.append(loss)\n",
    "    gbm_pred = [0 if x < 0 else x for x in gbm.predict(target)]\n",
    "    submission.loc[submission.id.str.contains('y7'), submission.columns[1+ qt]] = gbm_pred\n",
    "gbm_submission = submission.copy()\n",
    "print(f'전체 loss 평균은 {round(np.mean(t_loss), 5)}')\n",
    "print(f'전체 loss 편차는 {round(np.std(t_loss), 5)}')"
   ]
  },
  {
   "cell_type": "code",
   "execution_count": 372,
   "metadata": {},
   "outputs": [
    {
     "name": "stdout",
     "output_type": "stream",
     "text": [
      "##### 1번째 학습 및 검증 시작 #####\n",
      "loss는 1.4021321082973661\n",
      "\n",
      "##### 2번째 학습 및 검증 시작 #####\n",
      "loss는 2.409493664002174\n",
      "\n",
      "##### 3번째 학습 및 검증 시작 #####\n",
      "loss는 2.8875889493232787\n",
      "\n",
      "##### 4번째 학습 및 검증 시작 #####\n",
      "loss는 3.064509460817417\n",
      "\n",
      "##### 5번째 학습 및 검증 시작 #####\n",
      "loss는 2.996613361336362\n",
      "\n",
      "##### 6번째 학습 및 검증 시작 #####\n",
      "loss는 2.665274156233715\n",
      "\n",
      "##### 7번째 학습 및 검증 시작 #####\n",
      "loss는 2.1982054347509377\n",
      "\n",
      "##### 8번째 학습 및 검증 시작 #####\n",
      "loss는 1.669543044647454\n",
      "\n",
      "##### 9번째 학습 및 검증 시작 #####\n",
      "loss는 1.0811805137024992\n",
      "\n",
      "전체 loss 평균은 2.26384\n",
      "전체 loss 편차는 0.68704\n"
     ]
    }
   ],
   "source": [
    "t_loss = []\n",
    "qt_list = [.09, .19, .28, .37, .48, .59, .702, .8, .9]\n",
    "\n",
    "for qt in range(9) :\n",
    "    print(f'##### {qt + 1}번째 학습 및 검증 시작 #####')\n",
    "    gbm = GradientBoostingRegressor(random_state = 519, loss = 'quantile', alpha = qt_list[qt], max_depth = 4)\n",
    "    gbm.fit(X_2, y_2)\n",
    "    gbm_pred = gbm.predict(a_2day)\n",
    "    loss = pb_loss(real_2, gbm_pred, qt_list[qt])\n",
    "    print(f'loss는 {loss}\\n')\n",
    "    t_loss.append(loss)\n",
    "    gbm_pred = [0 if x < 0 else x for x in gbm.predict(target)]\n",
    "    submission.loc[submission.id.str.contains('y8'), submission.columns[1+ qt]] = gbm_pred\n",
    "gbm_submission = submission.copy()\n",
    "print(f'전체 loss 평균은 {round(np.mean(t_loss), 5)}')\n",
    "print(f'전체 loss 편차는 {round(np.std(t_loss), 5)}')"
   ]
  },
  {
   "cell_type": "code",
   "execution_count": null,
   "metadata": {},
   "outputs": [],
   "source": []
  }
 ],
 "metadata": {
  "kernelspec": {
   "display_name": "Python 3",
   "language": "python",
   "name": "python3"
  },
  "language_info": {
   "codemirror_mode": {
    "name": "ipython",
    "version": 3
   },
   "file_extension": ".py",
   "mimetype": "text/x-python",
   "name": "python",
   "nbconvert_exporter": "python",
   "pygments_lexer": "ipython3",
   "version": "3.8.5"
  }
 },
 "nbformat": 4,
 "nbformat_minor": 4
}
