{
  "nbformat": 4,
  "nbformat_minor": 0,
  "metadata": {
    "kernelspec": {
      "display_name": "Python 3",
      "language": "python",
      "name": "python3"
    },
    "language_info": {
      "codemirror_mode": {
        "name": "ipython",
        "version": 3
      },
      "file_extension": ".py",
      "mimetype": "text/x-python",
      "name": "python",
      "nbconvert_exporter": "python",
      "pygments_lexer": "ipython3",
      "version": "3.8.3"
    },
    "colab": {
      "name": "day1216.ipynb",
      "provenance": [],
      "collapsed_sections": []
    }
  },
  "cells": [
    {
      "cell_type": "markdown",
      "metadata": {
        "id": "hJBWkta59uif"
      },
      "source": [
        "# 태양광\n",
        "***\n",
        "### 3년(Day 0 ~ Day 1094) 동안의 기상 데이터, 발전량(TARGET) 데이터\n",
        "\n",
        "### test는 2년동안의 기상데이터, 발전량(TARGET) 데이터\n",
        "\n",
        "### 각 파일의 7일 동안의 데이터 전체 혹은 일부 활용하여 향후 2일 동안의 30분 간격 발전량 예측\n",
        "****\n",
        "- Hour - 시간\n",
        "- Minute - 분\n",
        "- DHI - 수평면 산란일사량(Diffuse Horizontal Irradiance (W/m2))\n",
        "- DNI - 직달일사량(Direct Normal Irradiance (W/m2))\n",
        "- WS - 풍속(Wind Speed (m/s))\n",
        "- RH - 상대습도(Relative Humidity (%))\n",
        "- T - 기온(Temperature (Degree C))\n",
        "- Target - 태양광 발전량 (kW)"
      ]
    },
    {
      "cell_type": "code",
      "metadata": {
        "colab": {
          "base_uri": "https://localhost:8080/"
        },
        "id": "I62rHpxp9v1K",
        "outputId": "bac275ed-c67d-4aa8-a9ad-e5c5aede21ed"
      },
      "source": [
        "from google.colab import drive\r\n",
        "drive.mount('/content/gdrive/', force_remount = True)"
      ],
      "execution_count": 1,
      "outputs": [
        {
          "output_type": "stream",
          "text": [
            "Mounted at /content/gdrive/\n"
          ],
          "name": "stdout"
        }
      ]
    },
    {
      "cell_type": "code",
      "metadata": {
        "id": "Dp5CIGft9uil"
      },
      "source": [
        "import warnings\n",
        "warnings.filterwarnings('ignore')\n",
        "\n",
        "import pandas as pd\n",
        "import numpy as np\n",
        "import seaborn as sns\n",
        "import matplotlib.pyplot as plt\n",
        "%matplotlib inline\n",
        "\n",
        "import itertools\n",
        "import time\n",
        "\n",
        "import statsmodels.api as sm\n",
        "from statsmodels.regression.quantile_regression import QuantReg as qreg\n",
        "import statsmodels.formula.api as smf\n",
        "\n",
        "from tqdm import tnrange, tqdm_notebook\n",
        "\n",
        "from sklearn.model_selection import train_test_split\n",
        "from sklearn.linear_model import LinearRegression\n",
        "from sklearn.metrics import *\n",
        "from sklearn.ensemble import RandomForestRegressor, GradientBoostingRegressor\n",
        "from lightgbm import LGBMRegressor"
      ],
      "execution_count": 316,
      "outputs": []
    },
    {
      "cell_type": "code",
      "metadata": {
        "colab": {
          "base_uri": "https://localhost:8080/"
        },
        "id": "og27rZv9-ugQ",
        "outputId": "d5413793-212b-4692-81e6-3173a2bcd27d"
      },
      "source": [
        "cd /content/gdrive/My Drive/dacon/sun/data/train"
      ],
      "execution_count": 555,
      "outputs": [
        {
          "output_type": "stream",
          "text": [
            "/content/gdrive/My Drive/dacon/sun/data/train\n"
          ],
          "name": "stdout"
        }
      ]
    },
    {
      "cell_type": "code",
      "metadata": {
        "scrolled": true,
        "id": "imDPo2ot9uim"
      },
      "source": [
        "train = pd.read_csv('train.csv')"
      ],
      "execution_count": 556,
      "outputs": []
    },
    {
      "cell_type": "code",
      "metadata": {
        "colab": {
          "base_uri": "https://localhost:8080/"
        },
        "id": "MUECMcRe-4BC",
        "outputId": "6c1ca49b-8f63-4544-f344-49da494e3c03"
      },
      "source": [
        "cd /content/gdrive/My Drive/dacon/sun/data/test"
      ],
      "execution_count": 557,
      "outputs": [
        {
          "output_type": "stream",
          "text": [
            "/content/gdrive/My Drive/dacon/sun/data/test\n"
          ],
          "name": "stdout"
        }
      ]
    },
    {
      "cell_type": "code",
      "metadata": {
        "id": "NOmG0rI69uin"
      },
      "source": [
        "for i in range(81) :\n",
        "    globals() [f'test_{i}'] = pd.read_csv(f'{i}.csv')"
      ],
      "execution_count": 558,
      "outputs": []
    },
    {
      "cell_type": "code",
      "metadata": {
        "id": "dUGnZ7_I9uin"
      },
      "source": [
        "### 각 데이터를 하나의 데이터로 통합\n",
        "test = pd.DataFrame()\n",
        "for i in range(81):\n",
        "    test = pd.concat([test, globals()[f'test_{i}']], axis = 0, ignore_index = True)"
      ],
      "execution_count": 559,
      "outputs": []
    },
    {
      "cell_type": "code",
      "metadata": {
        "colab": {
          "base_uri": "https://localhost:8080/"
        },
        "id": "Dj9kkLZ-_E9E",
        "outputId": "8a13e49d-bbfd-4247-a0fd-8aa78e9327a9"
      },
      "source": [
        "cd /content/gdrive/My Drive/dacon/sun/data"
      ],
      "execution_count": 560,
      "outputs": [
        {
          "output_type": "stream",
          "text": [
            "/content/gdrive/My Drive/dacon/sun/data\n"
          ],
          "name": "stdout"
        }
      ]
    },
    {
      "cell_type": "code",
      "metadata": {
        "id": "Zdc-gNOx9uin"
      },
      "source": [
        "submission = pd.read_csv('sample_submission.csv')"
      ],
      "execution_count": 561,
      "outputs": []
    },
    {
      "cell_type": "code",
      "metadata": {
        "colab": {
          "base_uri": "https://localhost:8080/",
          "height": 204
        },
        "id": "aGk66wrg9uio",
        "outputId": "236a034d-36bf-4bc8-cddd-c9561123eac7"
      },
      "source": [
        "train.head()"
      ],
      "execution_count": 562,
      "outputs": [
        {
          "output_type": "execute_result",
          "data": {
            "text/html": [
              "<div>\n",
              "<style scoped>\n",
              "    .dataframe tbody tr th:only-of-type {\n",
              "        vertical-align: middle;\n",
              "    }\n",
              "\n",
              "    .dataframe tbody tr th {\n",
              "        vertical-align: top;\n",
              "    }\n",
              "\n",
              "    .dataframe thead th {\n",
              "        text-align: right;\n",
              "    }\n",
              "</style>\n",
              "<table border=\"1\" class=\"dataframe\">\n",
              "  <thead>\n",
              "    <tr style=\"text-align: right;\">\n",
              "      <th></th>\n",
              "      <th>Day</th>\n",
              "      <th>Hour</th>\n",
              "      <th>Minute</th>\n",
              "      <th>DHI</th>\n",
              "      <th>DNI</th>\n",
              "      <th>WS</th>\n",
              "      <th>RH</th>\n",
              "      <th>T</th>\n",
              "      <th>TARGET</th>\n",
              "    </tr>\n",
              "  </thead>\n",
              "  <tbody>\n",
              "    <tr>\n",
              "      <th>0</th>\n",
              "      <td>0</td>\n",
              "      <td>0</td>\n",
              "      <td>0</td>\n",
              "      <td>0</td>\n",
              "      <td>0</td>\n",
              "      <td>1.5</td>\n",
              "      <td>69.08</td>\n",
              "      <td>-12</td>\n",
              "      <td>0.0</td>\n",
              "    </tr>\n",
              "    <tr>\n",
              "      <th>1</th>\n",
              "      <td>0</td>\n",
              "      <td>0</td>\n",
              "      <td>30</td>\n",
              "      <td>0</td>\n",
              "      <td>0</td>\n",
              "      <td>1.5</td>\n",
              "      <td>69.06</td>\n",
              "      <td>-12</td>\n",
              "      <td>0.0</td>\n",
              "    </tr>\n",
              "    <tr>\n",
              "      <th>2</th>\n",
              "      <td>0</td>\n",
              "      <td>1</td>\n",
              "      <td>0</td>\n",
              "      <td>0</td>\n",
              "      <td>0</td>\n",
              "      <td>1.6</td>\n",
              "      <td>71.78</td>\n",
              "      <td>-12</td>\n",
              "      <td>0.0</td>\n",
              "    </tr>\n",
              "    <tr>\n",
              "      <th>3</th>\n",
              "      <td>0</td>\n",
              "      <td>1</td>\n",
              "      <td>30</td>\n",
              "      <td>0</td>\n",
              "      <td>0</td>\n",
              "      <td>1.6</td>\n",
              "      <td>71.75</td>\n",
              "      <td>-12</td>\n",
              "      <td>0.0</td>\n",
              "    </tr>\n",
              "    <tr>\n",
              "      <th>4</th>\n",
              "      <td>0</td>\n",
              "      <td>2</td>\n",
              "      <td>0</td>\n",
              "      <td>0</td>\n",
              "      <td>0</td>\n",
              "      <td>1.6</td>\n",
              "      <td>75.20</td>\n",
              "      <td>-12</td>\n",
              "      <td>0.0</td>\n",
              "    </tr>\n",
              "  </tbody>\n",
              "</table>\n",
              "</div>"
            ],
            "text/plain": [
              "   Day  Hour  Minute  DHI  DNI   WS     RH   T  TARGET\n",
              "0    0     0       0    0    0  1.5  69.08 -12     0.0\n",
              "1    0     0      30    0    0  1.5  69.06 -12     0.0\n",
              "2    0     1       0    0    0  1.6  71.78 -12     0.0\n",
              "3    0     1      30    0    0  1.6  71.75 -12     0.0\n",
              "4    0     2       0    0    0  1.6  75.20 -12     0.0"
            ]
          },
          "metadata": {
            "tags": []
          },
          "execution_count": 562
        }
      ]
    },
    {
      "cell_type": "code",
      "metadata": {
        "scrolled": true,
        "colab": {
          "base_uri": "https://localhost:8080/",
          "height": 204
        },
        "id": "aRJaidAe9uip",
        "outputId": "1e38d811-12ce-4e6d-80a1-55d118db60ca"
      },
      "source": [
        "test.head()"
      ],
      "execution_count": 563,
      "outputs": [
        {
          "output_type": "execute_result",
          "data": {
            "text/html": [
              "<div>\n",
              "<style scoped>\n",
              "    .dataframe tbody tr th:only-of-type {\n",
              "        vertical-align: middle;\n",
              "    }\n",
              "\n",
              "    .dataframe tbody tr th {\n",
              "        vertical-align: top;\n",
              "    }\n",
              "\n",
              "    .dataframe thead th {\n",
              "        text-align: right;\n",
              "    }\n",
              "</style>\n",
              "<table border=\"1\" class=\"dataframe\">\n",
              "  <thead>\n",
              "    <tr style=\"text-align: right;\">\n",
              "      <th></th>\n",
              "      <th>Day</th>\n",
              "      <th>Hour</th>\n",
              "      <th>Minute</th>\n",
              "      <th>DHI</th>\n",
              "      <th>DNI</th>\n",
              "      <th>WS</th>\n",
              "      <th>RH</th>\n",
              "      <th>T</th>\n",
              "      <th>TARGET</th>\n",
              "    </tr>\n",
              "  </thead>\n",
              "  <tbody>\n",
              "    <tr>\n",
              "      <th>0</th>\n",
              "      <td>0</td>\n",
              "      <td>0</td>\n",
              "      <td>0</td>\n",
              "      <td>0</td>\n",
              "      <td>0</td>\n",
              "      <td>2.7</td>\n",
              "      <td>34.42</td>\n",
              "      <td>0.0</td>\n",
              "      <td>0.0</td>\n",
              "    </tr>\n",
              "    <tr>\n",
              "      <th>1</th>\n",
              "      <td>0</td>\n",
              "      <td>0</td>\n",
              "      <td>30</td>\n",
              "      <td>0</td>\n",
              "      <td>0</td>\n",
              "      <td>2.7</td>\n",
              "      <td>34.17</td>\n",
              "      <td>0.1</td>\n",
              "      <td>0.0</td>\n",
              "    </tr>\n",
              "    <tr>\n",
              "      <th>2</th>\n",
              "      <td>0</td>\n",
              "      <td>1</td>\n",
              "      <td>0</td>\n",
              "      <td>0</td>\n",
              "      <td>0</td>\n",
              "      <td>2.7</td>\n",
              "      <td>34.23</td>\n",
              "      <td>0.2</td>\n",
              "      <td>0.0</td>\n",
              "    </tr>\n",
              "    <tr>\n",
              "      <th>3</th>\n",
              "      <td>0</td>\n",
              "      <td>1</td>\n",
              "      <td>30</td>\n",
              "      <td>0</td>\n",
              "      <td>0</td>\n",
              "      <td>2.7</td>\n",
              "      <td>33.99</td>\n",
              "      <td>0.3</td>\n",
              "      <td>0.0</td>\n",
              "    </tr>\n",
              "    <tr>\n",
              "      <th>4</th>\n",
              "      <td>0</td>\n",
              "      <td>2</td>\n",
              "      <td>0</td>\n",
              "      <td>0</td>\n",
              "      <td>0</td>\n",
              "      <td>2.8</td>\n",
              "      <td>33.97</td>\n",
              "      <td>0.4</td>\n",
              "      <td>0.0</td>\n",
              "    </tr>\n",
              "  </tbody>\n",
              "</table>\n",
              "</div>"
            ],
            "text/plain": [
              "   Day  Hour  Minute  DHI  DNI   WS     RH    T  TARGET\n",
              "0    0     0       0    0    0  2.7  34.42  0.0     0.0\n",
              "1    0     0      30    0    0  2.7  34.17  0.1     0.0\n",
              "2    0     1       0    0    0  2.7  34.23  0.2     0.0\n",
              "3    0     1      30    0    0  2.7  33.99  0.3     0.0\n",
              "4    0     2       0    0    0  2.8  33.97  0.4     0.0"
            ]
          },
          "metadata": {
            "tags": []
          },
          "execution_count": 563
        }
      ]
    },
    {
      "cell_type": "code",
      "metadata": {
        "id": "psUSJs-n9uip"
      },
      "source": [
        "train['DNI'] = np.log1p(train['DNI'])\n",
        "train['DHI'] = np.log1p(train['DHI'])\n",
        "train['WS'] = np.log1p(train['WS'])"
      ],
      "execution_count": 564,
      "outputs": []
    },
    {
      "cell_type": "code",
      "metadata": {
        "id": "zXrKnGtI9uip"
      },
      "source": [
        "test['DNI'] = np.log1p(test['DNI'])\n",
        "test['DHI'] = np.log1p(test['DHI'])\n",
        "test['WS'] = np.log1p(test['WS'])"
      ],
      "execution_count": 565,
      "outputs": []
    },
    {
      "cell_type": "code",
      "metadata": {
        "id": "sJwte7Qt9uiq"
      },
      "source": [
        "train.Minute = train.Minute.map({30 : 1, 0: 0})\n",
        "test.Minute = test.Minute.map({30 : 1, 0: 0})"
      ],
      "execution_count": 566,
      "outputs": []
    },
    {
      "cell_type": "code",
      "metadata": {
        "id": "2WQQLjW79uiq"
      },
      "source": [
        "train['hour_mean'] = train.Hour.map(train.groupby('Hour').TARGET.mean())\n",
        "test['hour_mean'] = test.Hour.map(test.groupby('Hour').TARGET.mean())"
      ],
      "execution_count": 567,
      "outputs": []
    },
    {
      "cell_type": "code",
      "metadata": {
        "id": "Oq-tQgEh9uiq"
      },
      "source": [
        "train['day_mean'] = train.Day.map(train.groupby('Day').TARGET.mean())\n",
        "test['day_mean'] = test.Day.map(test.groupby('Day').TARGET.mean())"
      ],
      "execution_count": 568,
      "outputs": []
    },
    {
      "cell_type": "code",
      "metadata": {
        "id": "tOPPOv_iRZWP"
      },
      "source": [
        "train_after_2 = train.loc[train.Day <= 1092]\r\n",
        "train_after_2['TARGET2'] = list(train.loc[train.Day >= 2].TARGET)\r\n",
        "train_after_2['Day'] = train_after_2.Day % 9"
      ],
      "execution_count": 569,
      "outputs": []
    },
    {
      "cell_type": "code",
      "metadata": {
        "colab": {
          "base_uri": "https://localhost:8080/",
          "height": 824
        },
        "id": "u-mSHrJsmOqw",
        "outputId": "c27dc42d-9663-4f19-8155-7fe594b5a588"
      },
      "source": [
        "pd.crosstab(train_after_2.Hour, train_after_2.Day, aggfunc = 'mean', values = train_after_2.TARGET2)"
      ],
      "execution_count": 577,
      "outputs": [
        {
          "output_type": "execute_result",
          "data": {
            "text/html": [
              "<div>\n",
              "<style scoped>\n",
              "    .dataframe tbody tr th:only-of-type {\n",
              "        vertical-align: middle;\n",
              "    }\n",
              "\n",
              "    .dataframe tbody tr th {\n",
              "        vertical-align: top;\n",
              "    }\n",
              "\n",
              "    .dataframe thead th {\n",
              "        text-align: right;\n",
              "    }\n",
              "</style>\n",
              "<table border=\"1\" class=\"dataframe\">\n",
              "  <thead>\n",
              "    <tr style=\"text-align: right;\">\n",
              "      <th>Day</th>\n",
              "      <th>0</th>\n",
              "      <th>1</th>\n",
              "      <th>2</th>\n",
              "      <th>3</th>\n",
              "      <th>4</th>\n",
              "      <th>5</th>\n",
              "      <th>6</th>\n",
              "      <th>7</th>\n",
              "      <th>8</th>\n",
              "    </tr>\n",
              "    <tr>\n",
              "      <th>Hour</th>\n",
              "      <th></th>\n",
              "      <th></th>\n",
              "      <th></th>\n",
              "      <th></th>\n",
              "      <th></th>\n",
              "      <th></th>\n",
              "      <th></th>\n",
              "      <th></th>\n",
              "      <th></th>\n",
              "    </tr>\n",
              "  </thead>\n",
              "  <tbody>\n",
              "    <tr>\n",
              "      <th>0</th>\n",
              "      <td>0.000000</td>\n",
              "      <td>0.000000</td>\n",
              "      <td>0.000000</td>\n",
              "      <td>0.000000</td>\n",
              "      <td>0.000000</td>\n",
              "      <td>0.000000</td>\n",
              "      <td>0.000000</td>\n",
              "      <td>0.000000</td>\n",
              "      <td>0.000000</td>\n",
              "    </tr>\n",
              "    <tr>\n",
              "      <th>1</th>\n",
              "      <td>0.000000</td>\n",
              "      <td>0.000000</td>\n",
              "      <td>0.000000</td>\n",
              "      <td>0.000000</td>\n",
              "      <td>0.000000</td>\n",
              "      <td>0.000000</td>\n",
              "      <td>0.000000</td>\n",
              "      <td>0.000000</td>\n",
              "      <td>0.000000</td>\n",
              "    </tr>\n",
              "    <tr>\n",
              "      <th>2</th>\n",
              "      <td>0.000000</td>\n",
              "      <td>0.000000</td>\n",
              "      <td>0.000000</td>\n",
              "      <td>0.000000</td>\n",
              "      <td>0.000000</td>\n",
              "      <td>0.000000</td>\n",
              "      <td>0.000000</td>\n",
              "      <td>0.000000</td>\n",
              "      <td>0.000000</td>\n",
              "    </tr>\n",
              "    <tr>\n",
              "      <th>3</th>\n",
              "      <td>0.000000</td>\n",
              "      <td>0.000000</td>\n",
              "      <td>0.000000</td>\n",
              "      <td>0.000000</td>\n",
              "      <td>0.000000</td>\n",
              "      <td>0.000000</td>\n",
              "      <td>0.000000</td>\n",
              "      <td>0.000000</td>\n",
              "      <td>0.000000</td>\n",
              "    </tr>\n",
              "    <tr>\n",
              "      <th>4</th>\n",
              "      <td>0.000000</td>\n",
              "      <td>0.000000</td>\n",
              "      <td>0.000000</td>\n",
              "      <td>0.000000</td>\n",
              "      <td>0.000000</td>\n",
              "      <td>0.000000</td>\n",
              "      <td>0.000000</td>\n",
              "      <td>0.000000</td>\n",
              "      <td>0.000000</td>\n",
              "    </tr>\n",
              "    <tr>\n",
              "      <th>5</th>\n",
              "      <td>1.290995</td>\n",
              "      <td>1.162550</td>\n",
              "      <td>1.235629</td>\n",
              "      <td>1.133332</td>\n",
              "      <td>1.252809</td>\n",
              "      <td>1.207061</td>\n",
              "      <td>1.287319</td>\n",
              "      <td>1.287320</td>\n",
              "      <td>1.397052</td>\n",
              "    </tr>\n",
              "    <tr>\n",
              "      <th>6</th>\n",
              "      <td>6.982467</td>\n",
              "      <td>6.699481</td>\n",
              "      <td>6.781786</td>\n",
              "      <td>6.784110</td>\n",
              "      <td>6.787019</td>\n",
              "      <td>7.190665</td>\n",
              "      <td>7.047917</td>\n",
              "      <td>7.434500</td>\n",
              "      <td>7.643912</td>\n",
              "    </tr>\n",
              "    <tr>\n",
              "      <th>7</th>\n",
              "      <td>17.288151</td>\n",
              "      <td>17.455947</td>\n",
              "      <td>17.607411</td>\n",
              "      <td>17.307457</td>\n",
              "      <td>16.603308</td>\n",
              "      <td>18.053373</td>\n",
              "      <td>17.693468</td>\n",
              "      <td>18.699256</td>\n",
              "      <td>18.398005</td>\n",
              "    </tr>\n",
              "    <tr>\n",
              "      <th>8</th>\n",
              "      <td>31.118618</td>\n",
              "      <td>31.544084</td>\n",
              "      <td>32.444681</td>\n",
              "      <td>31.092606</td>\n",
              "      <td>30.086744</td>\n",
              "      <td>32.367160</td>\n",
              "      <td>32.242244</td>\n",
              "      <td>34.181260</td>\n",
              "      <td>33.043662</td>\n",
              "    </tr>\n",
              "    <tr>\n",
              "      <th>9</th>\n",
              "      <td>45.832419</td>\n",
              "      <td>45.026156</td>\n",
              "      <td>44.840788</td>\n",
              "      <td>43.284115</td>\n",
              "      <td>42.614001</td>\n",
              "      <td>44.841308</td>\n",
              "      <td>45.033427</td>\n",
              "      <td>47.858427</td>\n",
              "      <td>47.357124</td>\n",
              "    </tr>\n",
              "    <tr>\n",
              "      <th>10</th>\n",
              "      <td>57.070083</td>\n",
              "      <td>54.880198</td>\n",
              "      <td>53.088241</td>\n",
              "      <td>52.132226</td>\n",
              "      <td>51.587279</td>\n",
              "      <td>52.898460</td>\n",
              "      <td>52.504871</td>\n",
              "      <td>56.744585</td>\n",
              "      <td>54.126784</td>\n",
              "    </tr>\n",
              "    <tr>\n",
              "      <th>11</th>\n",
              "      <td>60.343318</td>\n",
              "      <td>56.144573</td>\n",
              "      <td>56.393336</td>\n",
              "      <td>55.650152</td>\n",
              "      <td>55.560602</td>\n",
              "      <td>57.748874</td>\n",
              "      <td>54.436350</td>\n",
              "      <td>58.147147</td>\n",
              "      <td>59.673872</td>\n",
              "    </tr>\n",
              "    <tr>\n",
              "      <th>12</th>\n",
              "      <td>60.120690</td>\n",
              "      <td>55.377354</td>\n",
              "      <td>52.975337</td>\n",
              "      <td>55.074122</td>\n",
              "      <td>56.214942</td>\n",
              "      <td>56.888933</td>\n",
              "      <td>55.523137</td>\n",
              "      <td>57.669354</td>\n",
              "      <td>58.666149</td>\n",
              "    </tr>\n",
              "    <tr>\n",
              "      <th>13</th>\n",
              "      <td>50.975570</td>\n",
              "      <td>50.934188</td>\n",
              "      <td>48.695603</td>\n",
              "      <td>49.090565</td>\n",
              "      <td>52.622750</td>\n",
              "      <td>52.686635</td>\n",
              "      <td>50.359660</td>\n",
              "      <td>53.781945</td>\n",
              "      <td>51.388566</td>\n",
              "    </tr>\n",
              "    <tr>\n",
              "      <th>14</th>\n",
              "      <td>42.889461</td>\n",
              "      <td>42.941109</td>\n",
              "      <td>40.304302</td>\n",
              "      <td>42.509154</td>\n",
              "      <td>42.129317</td>\n",
              "      <td>43.863770</td>\n",
              "      <td>41.604642</td>\n",
              "      <td>45.029853</td>\n",
              "      <td>44.236803</td>\n",
              "    </tr>\n",
              "    <tr>\n",
              "      <th>15</th>\n",
              "      <td>31.315975</td>\n",
              "      <td>31.546342</td>\n",
              "      <td>30.578293</td>\n",
              "      <td>31.953960</td>\n",
              "      <td>32.807020</td>\n",
              "      <td>33.006999</td>\n",
              "      <td>30.830689</td>\n",
              "      <td>31.782289</td>\n",
              "      <td>31.469866</td>\n",
              "    </tr>\n",
              "    <tr>\n",
              "      <th>16</th>\n",
              "      <td>18.981311</td>\n",
              "      <td>18.509513</td>\n",
              "      <td>19.477073</td>\n",
              "      <td>20.060578</td>\n",
              "      <td>18.941199</td>\n",
              "      <td>21.035567</td>\n",
              "      <td>18.505208</td>\n",
              "      <td>20.643360</td>\n",
              "      <td>19.401235</td>\n",
              "    </tr>\n",
              "    <tr>\n",
              "      <th>17</th>\n",
              "      <td>7.641000</td>\n",
              "      <td>8.305019</td>\n",
              "      <td>8.206263</td>\n",
              "      <td>9.570567</td>\n",
              "      <td>8.110034</td>\n",
              "      <td>9.038602</td>\n",
              "      <td>8.548463</td>\n",
              "      <td>9.225467</td>\n",
              "      <td>9.068047</td>\n",
              "    </tr>\n",
              "    <tr>\n",
              "      <th>18</th>\n",
              "      <td>2.505675</td>\n",
              "      <td>2.561067</td>\n",
              "      <td>2.107323</td>\n",
              "      <td>3.115975</td>\n",
              "      <td>2.406606</td>\n",
              "      <td>2.676041</td>\n",
              "      <td>2.711331</td>\n",
              "      <td>2.797809</td>\n",
              "      <td>2.981579</td>\n",
              "    </tr>\n",
              "    <tr>\n",
              "      <th>19</th>\n",
              "      <td>0.203808</td>\n",
              "      <td>0.203039</td>\n",
              "      <td>0.149204</td>\n",
              "      <td>0.250725</td>\n",
              "      <td>0.168659</td>\n",
              "      <td>0.205491</td>\n",
              "      <td>0.216349</td>\n",
              "      <td>0.222552</td>\n",
              "      <td>0.237672</td>\n",
              "    </tr>\n",
              "    <tr>\n",
              "      <th>20</th>\n",
              "      <td>0.000000</td>\n",
              "      <td>0.000000</td>\n",
              "      <td>0.000000</td>\n",
              "      <td>0.000000</td>\n",
              "      <td>0.000000</td>\n",
              "      <td>0.000000</td>\n",
              "      <td>0.000000</td>\n",
              "      <td>0.000000</td>\n",
              "      <td>0.000000</td>\n",
              "    </tr>\n",
              "    <tr>\n",
              "      <th>21</th>\n",
              "      <td>0.000000</td>\n",
              "      <td>0.000000</td>\n",
              "      <td>0.000000</td>\n",
              "      <td>0.000000</td>\n",
              "      <td>0.000000</td>\n",
              "      <td>0.000000</td>\n",
              "      <td>0.000000</td>\n",
              "      <td>0.000000</td>\n",
              "      <td>0.000000</td>\n",
              "    </tr>\n",
              "    <tr>\n",
              "      <th>22</th>\n",
              "      <td>0.000000</td>\n",
              "      <td>0.000000</td>\n",
              "      <td>0.000000</td>\n",
              "      <td>0.000000</td>\n",
              "      <td>0.000000</td>\n",
              "      <td>0.000000</td>\n",
              "      <td>0.000000</td>\n",
              "      <td>0.000000</td>\n",
              "      <td>0.000000</td>\n",
              "    </tr>\n",
              "    <tr>\n",
              "      <th>23</th>\n",
              "      <td>0.000000</td>\n",
              "      <td>0.000000</td>\n",
              "      <td>0.000000</td>\n",
              "      <td>0.000000</td>\n",
              "      <td>0.000000</td>\n",
              "      <td>0.000000</td>\n",
              "      <td>0.000000</td>\n",
              "      <td>0.000000</td>\n",
              "      <td>0.000000</td>\n",
              "    </tr>\n",
              "  </tbody>\n",
              "</table>\n",
              "</div>"
            ],
            "text/plain": [
              "Day           0          1          2  ...          6          7          8\n",
              "Hour                                   ...                                 \n",
              "0      0.000000   0.000000   0.000000  ...   0.000000   0.000000   0.000000\n",
              "1      0.000000   0.000000   0.000000  ...   0.000000   0.000000   0.000000\n",
              "2      0.000000   0.000000   0.000000  ...   0.000000   0.000000   0.000000\n",
              "3      0.000000   0.000000   0.000000  ...   0.000000   0.000000   0.000000\n",
              "4      0.000000   0.000000   0.000000  ...   0.000000   0.000000   0.000000\n",
              "5      1.290995   1.162550   1.235629  ...   1.287319   1.287320   1.397052\n",
              "6      6.982467   6.699481   6.781786  ...   7.047917   7.434500   7.643912\n",
              "7     17.288151  17.455947  17.607411  ...  17.693468  18.699256  18.398005\n",
              "8     31.118618  31.544084  32.444681  ...  32.242244  34.181260  33.043662\n",
              "9     45.832419  45.026156  44.840788  ...  45.033427  47.858427  47.357124\n",
              "10    57.070083  54.880198  53.088241  ...  52.504871  56.744585  54.126784\n",
              "11    60.343318  56.144573  56.393336  ...  54.436350  58.147147  59.673872\n",
              "12    60.120690  55.377354  52.975337  ...  55.523137  57.669354  58.666149\n",
              "13    50.975570  50.934188  48.695603  ...  50.359660  53.781945  51.388566\n",
              "14    42.889461  42.941109  40.304302  ...  41.604642  45.029853  44.236803\n",
              "15    31.315975  31.546342  30.578293  ...  30.830689  31.782289  31.469866\n",
              "16    18.981311  18.509513  19.477073  ...  18.505208  20.643360  19.401235\n",
              "17     7.641000   8.305019   8.206263  ...   8.548463   9.225467   9.068047\n",
              "18     2.505675   2.561067   2.107323  ...   2.711331   2.797809   2.981579\n",
              "19     0.203808   0.203039   0.149204  ...   0.216349   0.222552   0.237672\n",
              "20     0.000000   0.000000   0.000000  ...   0.000000   0.000000   0.000000\n",
              "21     0.000000   0.000000   0.000000  ...   0.000000   0.000000   0.000000\n",
              "22     0.000000   0.000000   0.000000  ...   0.000000   0.000000   0.000000\n",
              "23     0.000000   0.000000   0.000000  ...   0.000000   0.000000   0.000000\n",
              "\n",
              "[24 rows x 9 columns]"
            ]
          },
          "metadata": {
            "tags": []
          },
          "execution_count": 577
        }
      ]
    },
    {
      "cell_type": "code",
      "metadata": {
        "scrolled": false,
        "colab": {
          "base_uri": "https://localhost:8080/",
          "height": 297
        },
        "id": "7ZSafcXb9uir",
        "outputId": "8be30374-390e-42b5-cb3f-6dccd2de2a96"
      },
      "source": [
        "sns.scatterplot(train_after_2.Hour, train_after_2.TARGET2)"
      ],
      "execution_count": 570,
      "outputs": [
        {
          "output_type": "execute_result",
          "data": {
            "text/plain": [
              "<matplotlib.axes._subplots.AxesSubplot at 0x7f66332ca3c8>"
            ]
          },
          "metadata": {
            "tags": []
          },
          "execution_count": 570
        },
        {
          "output_type": "display_data",
          "data": {
            "image/png": "[encoded data removed]",
            "text/plain": [
              "<Figure size 432x288 with 1 Axes>"
            ]
          },
          "metadata": {
            "tags": [],
            "needs_background": "light"
          }
        }
      ]
    },
    {
      "cell_type": "code",
      "metadata": {
        "colab": {
          "base_uri": "https://localhost:8080/",
          "height": 297
        },
        "id": "WbWAPXNp9uis",
        "outputId": "bf70991d-e922-4d5b-809e-c8424550f4f3"
      },
      "source": [
        "sns.scatterplot(test.Hour, test.TARGET)"
      ],
      "execution_count": 383,
      "outputs": [
        {
          "output_type": "execute_result",
          "data": {
            "text/plain": [
              "<matplotlib.axes._subplots.AxesSubplot at 0x7f6642308f98>"
            ]
          },
          "metadata": {
            "tags": []
          },
          "execution_count": 383
        },
        {
          "output_type": "display_data",
          "data": {
            "image/png": "[encoded data removed]",
            "text/plain": [
              "<Figure size 432x288 with 1 Axes>"
            ]
          },
          "metadata": {
            "tags": [],
            "needs_background": "light"
          }
        }
      ]
    },
    {
      "cell_type": "code",
      "metadata": {
        "colab": {
          "base_uri": "https://localhost:8080/",
          "height": 297
        },
        "id": "Xp2aUVXR9uis",
        "outputId": "302c6354-bd10-4e20-a742-91049032b6be"
      },
      "source": [
        "sns.scatterplot(train_after_2.DNI, train_after_2.TARGET)"
      ],
      "execution_count": 384,
      "outputs": [
        {
          "output_type": "execute_result",
          "data": {
            "text/plain": [
              "<matplotlib.axes._subplots.AxesSubplot at 0x7f664211d588>"
            ]
          },
          "metadata": {
            "tags": []
          },
          "execution_count": 384
        },
        {
          "output_type": "display_data",
          "data": {
            "image/png": "[encoded data removed]",
            "text/plain": [
              "<Figure size 432x288 with 1 Axes>"
            ]
          },
          "metadata": {
            "tags": [],
            "needs_background": "light"
          }
        }
      ]
    },
    {
      "cell_type": "code",
      "metadata": {
        "colab": {
          "base_uri": "https://localhost:8080/",
          "height": 297
        },
        "id": "JrRpf1Uv9uis",
        "outputId": "ecf97c0b-9993-4d4a-cc6d-5bd7c5886360"
      },
      "source": [
        "sns.scatterplot(train_after_2.DHI, train_after_2.TARGET)"
      ],
      "execution_count": 385,
      "outputs": [
        {
          "output_type": "execute_result",
          "data": {
            "text/plain": [
              "<matplotlib.axes._subplots.AxesSubplot at 0x7f66420de4e0>"
            ]
          },
          "metadata": {
            "tags": []
          },
          "execution_count": 385
        },
        {
          "output_type": "display_data",
          "data": {
            "image/png": "[encoded data removed]",
            "text/plain": [
              "<Figure size 432x288 with 1 Axes>"
            ]
          },
          "metadata": {
            "tags": [],
            "needs_background": "light"
          }
        }
      ]
    },
    {
      "cell_type": "code",
      "metadata": {
        "colab": {
          "base_uri": "https://localhost:8080/",
          "height": 297
        },
        "id": "ZqsevNBS9uit",
        "outputId": "6e69285e-e75c-4e2c-8055-7ddbb3cf58a5"
      },
      "source": [
        "sns.scatterplot(train_after_2.WS, train_after_2.TARGET)"
      ],
      "execution_count": 386,
      "outputs": [
        {
          "output_type": "execute_result",
          "data": {
            "text/plain": [
              "<matplotlib.axes._subplots.AxesSubplot at 0x7f66420ab3c8>"
            ]
          },
          "metadata": {
            "tags": []
          },
          "execution_count": 386
        },
        {
          "output_type": "display_data",
          "data": {
            "image/png": "[encoded data removed]",
            "text/plain": [
              "<Figure size 432x288 with 1 Axes>"
            ]
          },
          "metadata": {
            "tags": [],
            "needs_background": "light"
          }
        }
      ]
    },
    {
      "cell_type": "code",
      "metadata": {
        "scrolled": false,
        "colab": {
          "base_uri": "https://localhost:8080/",
          "height": 297
        },
        "id": "uaM_NF7X9uit",
        "outputId": "6391ad0d-9c79-4a9d-d1f8-e5b227e64e51"
      },
      "source": [
        "sns.scatterplot(train_after_2['T'], train_after_2.TARGET)"
      ],
      "execution_count": 387,
      "outputs": [
        {
          "output_type": "execute_result",
          "data": {
            "text/plain": [
              "<matplotlib.axes._subplots.AxesSubplot at 0x7f6642042eb8>"
            ]
          },
          "metadata": {
            "tags": []
          },
          "execution_count": 387
        },
        {
          "output_type": "display_data",
          "data": {
            "image/png": "[encoded data removed]",
            "text/plain": [
              "<Figure size 432x288 with 1 Axes>"
            ]
          },
          "metadata": {
            "tags": [],
            "needs_background": "light"
          }
        }
      ]
    },
    {
      "cell_type": "code",
      "metadata": {
        "id": "sqcW8fwJ9uit"
      },
      "source": [
        "train_after_2.drop(['Hour', 'Minute'], axis =1 ,inplace = True)"
      ],
      "execution_count": 508,
      "outputs": []
    },
    {
      "cell_type": "code",
      "metadata": {
        "id": "q23GM8-99uit"
      },
      "source": [
        "target1 = test.query('Day in [0, 1]').drop(['Hour', 'Minute'], axis =1)\n",
        "target2 = test.query('Day in [1, 2]').drop(['Hour', 'Minute'], axis =1)\n",
        "target3 = test.query('Day in [2, 3]').drop(['Hour', 'Minute'], axis =1)\n",
        "target4 = test.query('Day in [3, 4]').drop(['Hour', 'Minute'], axis =1)\n",
        "\n",
        "target_list = [target1, target2, target3, target4]"
      ],
      "execution_count": 509,
      "outputs": []
    },
    {
      "cell_type": "code",
      "metadata": {
        "id": "s1ISPi209uiu"
      },
      "source": [
        "actual1 = test.query('Day in [2,3]').TARGET\n",
        "actual2 = test.query('Day in [3,4]').TARGET\n",
        "actual3 = test.query('Day in [4,5]').TARGET\n",
        "actual4 = test.query('Day in [5,6]').TARGET\n",
        "\n",
        "actual_list = [actual1, actual2, actual3, actual4]"
      ],
      "execution_count": 510,
      "outputs": []
    },
    {
      "cell_type": "code",
      "metadata": {
        "id": "G28Xex-q9uiu"
      },
      "source": [
        "tr_X = train_after_2.drop('TARGET2', axis = 1).iloc[:int(train.shape[0] * .8), :]\n",
        "tr_y = train_after_2.TARGET2.iloc[:int(train.shape[0] * .8)]"
      ],
      "execution_count": 511,
      "outputs": []
    },
    {
      "cell_type": "code",
      "metadata": {
        "id": "mJLNlZeNPYAB"
      },
      "source": [
        "val_X = train_after_2.drop('TARGET2', axis = 1).iloc[int(train.shape[0] * .8):, :]\r\n",
        "val_y = train_after_2.TARGET2.iloc[int(train.shape[0] * .8):]"
      ],
      "execution_count": 512,
      "outputs": []
    },
    {
      "cell_type": "code",
      "metadata": {
        "id": "ROjyaIvP9uiu"
      },
      "source": [
        "target = test.query('Day in [5,6]').drop(['Hour', 'Minute'], axis = 1)"
      ],
      "execution_count": 513,
      "outputs": []
    },
    {
      "cell_type": "code",
      "metadata": {
        "id": "u_xR04qf9uiu"
      },
      "source": [
        "def pb_loss(true, pred, q) :\n",
        "    \n",
        "    L_list = []\n",
        "    \n",
        "    for i in range(len(true)) :\n",
        "        \n",
        "        if true.iloc[i] >= pred[i] :\n",
        "            L = true.iloc[i] - pred[i]\n",
        "            L *= q\n",
        "            \n",
        "        else :\n",
        "            L1 = pred[i] - true.iloc[i]\n",
        "            L2 = 1 - q\n",
        "            L = L1 * L2\n",
        "            \n",
        "        L_list.append(L)\n",
        "        \n",
        "    return np.mean(L_list)"
      ],
      "execution_count": 269,
      "outputs": []
    },
    {
      "cell_type": "code",
      "metadata": {
        "id": "ioNNBcBl_xZX"
      },
      "source": [
        "import tensorflow as tf\r\n",
        "from tensorflow import keras\r\n",
        "from tensorflow.keras.layers import *\r\n",
        "from tensorflow.keras.optimizers import *\r\n",
        "from tensorflow.keras.callbacks import *\r\n",
        "from tensorflow.keras.models import load_model\r\n",
        "from sklearn.preprocessing import StandardScaler, MinMaxScaler"
      ],
      "execution_count": 533,
      "outputs": []
    },
    {
      "cell_type": "code",
      "metadata": {
        "id": "Df8lorlo_NRI"
      },
      "source": [
        "def tilted_loss(q, y, f):\r\n",
        "    e = (y - f)\r\n",
        "    return keras.backend.mean(keras.backend.maximum(q * e, (q - 1) * e), \r\n",
        "                              axis=-1)"
      ],
      "execution_count": 271,
      "outputs": []
    },
    {
      "cell_type": "code",
      "metadata": {
        "colab": {
          "base_uri": "https://localhost:8080/",
          "height": 297
        },
        "id": "Y1x7VO6dhIE1",
        "outputId": "cf172f59-1418-43df-e1b4-6dc1aa44e3bc"
      },
      "source": [
        "train_after_2.describe()"
      ],
      "execution_count": 535,
      "outputs": [
        {
          "output_type": "execute_result",
          "data": {
            "text/html": [
              "<div>\n",
              "<style scoped>\n",
              "    .dataframe tbody tr th:only-of-type {\n",
              "        vertical-align: middle;\n",
              "    }\n",
              "\n",
              "    .dataframe tbody tr th {\n",
              "        vertical-align: top;\n",
              "    }\n",
              "\n",
              "    .dataframe thead th {\n",
              "        text-align: right;\n",
              "    }\n",
              "</style>\n",
              "<table border=\"1\" class=\"dataframe\">\n",
              "  <thead>\n",
              "    <tr style=\"text-align: right;\">\n",
              "      <th></th>\n",
              "      <th>Day</th>\n",
              "      <th>DHI</th>\n",
              "      <th>DNI</th>\n",
              "      <th>WS</th>\n",
              "      <th>RH</th>\n",
              "      <th>T</th>\n",
              "      <th>TARGET</th>\n",
              "      <th>hour_mean</th>\n",
              "      <th>day_mean</th>\n",
              "      <th>TARGET2</th>\n",
              "    </tr>\n",
              "  </thead>\n",
              "  <tbody>\n",
              "    <tr>\n",
              "      <th>count</th>\n",
              "      <td>52464.000000</td>\n",
              "      <td>52464.000000</td>\n",
              "      <td>52464.000000</td>\n",
              "      <td>52464.000000</td>\n",
              "      <td>52464.000000</td>\n",
              "      <td>52464.000000</td>\n",
              "      <td>52464.000000</td>\n",
              "      <td>52464.000000</td>\n",
              "      <td>52464.000000</td>\n",
              "      <td>52464.000000</td>\n",
              "    </tr>\n",
              "    <tr>\n",
              "      <th>mean</th>\n",
              "      <td>3.990851</td>\n",
              "      <td>2.220452</td>\n",
              "      <td>2.513576</td>\n",
              "      <td>1.160736</td>\n",
              "      <td>56.795208</td>\n",
              "      <td>9.297842</td>\n",
              "      <td>17.805046</td>\n",
              "      <td>17.790630</td>\n",
              "      <td>17.805046</td>\n",
              "      <td>17.807131</td>\n",
              "    </tr>\n",
              "    <tr>\n",
              "      <th>std</th>\n",
              "      <td>2.582588</td>\n",
              "      <td>2.344608</td>\n",
              "      <td>3.013604</td>\n",
              "      <td>0.397622</td>\n",
              "      <td>22.065222</td>\n",
              "      <td>10.179041</td>\n",
              "      <td>25.773161</td>\n",
              "      <td>21.489073</td>\n",
              "      <td>7.840329</td>\n",
              "      <td>25.773169</td>\n",
              "    </tr>\n",
              "    <tr>\n",
              "      <th>min</th>\n",
              "      <td>0.000000</td>\n",
              "      <td>0.000000</td>\n",
              "      <td>0.000000</td>\n",
              "      <td>0.000000</td>\n",
              "      <td>7.590000</td>\n",
              "      <td>-19.000000</td>\n",
              "      <td>0.000000</td>\n",
              "      <td>0.000000</td>\n",
              "      <td>1.958976</td>\n",
              "      <td>0.000000</td>\n",
              "    </tr>\n",
              "    <tr>\n",
              "      <th>25%</th>\n",
              "      <td>2.000000</td>\n",
              "      <td>0.000000</td>\n",
              "      <td>0.000000</td>\n",
              "      <td>0.875469</td>\n",
              "      <td>39.667500</td>\n",
              "      <td>1.000000</td>\n",
              "      <td>0.000000</td>\n",
              "      <td>0.000000</td>\n",
              "      <td>11.392848</td>\n",
              "      <td>0.000000</td>\n",
              "    </tr>\n",
              "    <tr>\n",
              "      <th>50%</th>\n",
              "      <td>4.000000</td>\n",
              "      <td>0.000000</td>\n",
              "      <td>0.000000</td>\n",
              "      <td>1.163151</td>\n",
              "      <td>57.600000</td>\n",
              "      <td>9.000000</td>\n",
              "      <td>0.000000</td>\n",
              "      <td>4.835883</td>\n",
              "      <td>17.353834</td>\n",
              "      <td>0.000000</td>\n",
              "    </tr>\n",
              "    <tr>\n",
              "      <th>75%</th>\n",
              "      <td>6.000000</td>\n",
              "      <td>4.477337</td>\n",
              "      <td>6.152733</td>\n",
              "      <td>1.435085</td>\n",
              "      <td>72.780000</td>\n",
              "      <td>17.000000</td>\n",
              "      <td>32.096062</td>\n",
              "      <td>34.676414</td>\n",
              "      <td>23.602189</td>\n",
              "      <td>32.180978</td>\n",
              "    </tr>\n",
              "    <tr>\n",
              "      <th>max</th>\n",
              "      <td>8.000000</td>\n",
              "      <td>6.270988</td>\n",
              "      <td>6.966024</td>\n",
              "      <td>2.564949</td>\n",
              "      <td>100.000000</td>\n",
              "      <td>35.000000</td>\n",
              "      <td>99.913939</td>\n",
              "      <td>57.088312</td>\n",
              "      <td>36.376067</td>\n",
              "      <td>99.913939</td>\n",
              "    </tr>\n",
              "  </tbody>\n",
              "</table>\n",
              "</div>"
            ],
            "text/plain": [
              "                Day           DHI  ...      day_mean       TARGET2\n",
              "count  52464.000000  52464.000000  ...  52464.000000  52464.000000\n",
              "mean       3.990851      2.220452  ...     17.805046     17.807131\n",
              "std        2.582588      2.344608  ...      7.840329     25.773169\n",
              "min        0.000000      0.000000  ...      1.958976      0.000000\n",
              "25%        2.000000      0.000000  ...     11.392848      0.000000\n",
              "50%        4.000000      0.000000  ...     17.353834      0.000000\n",
              "75%        6.000000      4.477337  ...     23.602189     32.180978\n",
              "max        8.000000      6.270988  ...     36.376067     99.913939\n",
              "\n",
              "[8 rows x 10 columns]"
            ]
          },
          "metadata": {
            "tags": []
          },
          "execution_count": 535
        }
      ]
    },
    {
      "cell_type": "code",
      "metadata": {
        "id": "6BJc3ijag8UX"
      },
      "source": [
        "scaler = StandardScaler()\r\n",
        "train_after_2[['RH', \"T\"]] = scaler.fit_transform(train_after_2[['RH','T']])"
      ],
      "execution_count": 536,
      "outputs": []
    },
    {
      "cell_type": "code",
      "metadata": {
        "id": "_PGA2rCxhRFk"
      },
      "source": [
        "tr_X = train_after_2.drop('TARGET2', axis = 1).iloc[:int(train.shape[0] * .8), :]\r\n",
        "tr_y = train_after_2.TARGET2.iloc[:int(train.shape[0] * .8)]\r\n",
        "\r\n",
        "val_X = train_after_2.drop('TARGET2', axis = 1).iloc[int(train.shape[0] * .8):, :]\r\n",
        "val_y = train_after_2.TARGET2.iloc[int(train.shape[0] * .8):]"
      ],
      "execution_count": 537,
      "outputs": []
    },
    {
      "cell_type": "code",
      "metadata": {
        "id": "LuCVTGjHheCm"
      },
      "source": [
        "test[['RH','T']] = scaler.transform(test[['RH','T']])"
      ],
      "execution_count": 538,
      "outputs": []
    },
    {
      "cell_type": "code",
      "metadata": {
        "id": "kNyniHlrhX4l"
      },
      "source": [
        "target1 = test.query('Day in [0, 1]').drop(['Hour', 'Minute'], axis =1)\r\n",
        "target2 = test.query('Day in [1, 2]').drop(['Hour', 'Minute'], axis =1)\r\n",
        "target3 = test.query('Day in [2, 3]').drop(['Hour', 'Minute'], axis =1)\r\n",
        "target4 = test.query('Day in [3, 4]').drop(['Hour', 'Minute'], axis =1)\r\n",
        "\r\n",
        "target_list = [target1, target2, target3, target4]\r\n",
        "\r\n",
        "target = test.query('Day in [5,6]').drop(['Hour', 'Minute'], axis = 1)"
      ],
      "execution_count": 539,
      "outputs": []
    },
    {
      "cell_type": "code",
      "metadata": {
        "colab": {
          "base_uri": "https://localhost:8080/"
        },
        "id": "XFe10wynEFAM",
        "outputId": "f2dc82cf-687e-4a09-ae23-27e86d84d80e"
      },
      "source": [
        "for i, data in enumerate(zip(target_list, actual_list)) :\r\n",
        "  print(f'{i + 1}번째 데이터셋으로 학습 및 검증 시작')\r\n",
        "  for q in [.1, .2, .3, .4, .5, .6, .7, .8, .9] :\r\n",
        "    pb_loss_list = []\r\n",
        "    n = int(q * 10)\r\n",
        "    print(f'quantile {q} regression start')\r\n",
        "    model = keras.Sequential([\r\n",
        "    Dense(32, activation='relu', input_shape=[tr_X.shape[1]]),\r\n",
        "    Dropout(.3),\r\n",
        "    Dense(32, activation='relu'),\r\n",
        "    Dense(1)])\r\n",
        "    optimizer = tf.keras.optimizers.RMSprop(0.0005)\r\n",
        "    es = EarlyStopping(monitor = 'val_loss', patience = 3, mode = 'min', restore_best_weights = True, verbose = 0)\r\n",
        "    mc = ModelCheckpoint(f'1218keras_{n}.h5', mode = 'min', monitor = 'val_loss', patience = 3, save_weights_only=True, verbose = 0)\r\n",
        "    model.compile(loss=lambda y, f: tilted_loss(q, y, f), optimizer=optimizer)\r\n",
        "    \r\n",
        "    model.fit(tr_X, tr_y, epochs=30, batch_size=32, verbose=0, validation_data = (val_X, val_y), callbacks = [es, mc])\r\n",
        "    model.load_weights(f'1218keras_{n}.h5')\r\n",
        "    pred = model.predict(data[0]).reshape(-1)\r\n",
        "    pred = [0 if x < 0 else x for x in pred]\r\n",
        "    loss = pb_loss(data[1], pred, q)\r\n",
        "    pb_loss_list.append(loss)\r\n",
        "  print(f'평균 loss는 {np.mean(pb_loss_list)}')"
      ],
      "execution_count": 540,
      "outputs": [
        {
          "output_type": "stream",
          "text": [
            "1번째 데이터셋으로 학습 및 검증 시작\n",
            "quantile 0.1 regression start\n",
            "quantile 0.2 regression start\n",
            "quantile 0.3 regression start\n",
            "quantile 0.4 regression start\n",
            "quantile 0.5 regression start\n",
            "quantile 0.6 regression start\n",
            "quantile 0.7 regression start\n",
            "quantile 0.8 regression start\n",
            "quantile 0.9 regression start\n",
            "평균 loss는 1.3373921781616955\n",
            "2번째 데이터셋으로 학습 및 검증 시작\n",
            "quantile 0.1 regression start\n",
            "quantile 0.2 regression start\n",
            "quantile 0.3 regression start\n",
            "quantile 0.4 regression start\n",
            "quantile 0.5 regression start\n",
            "quantile 0.6 regression start\n",
            "quantile 0.7 regression start\n",
            "quantile 0.8 regression start\n",
            "quantile 0.9 regression start\n",
            "평균 loss는 1.453166277144172\n",
            "3번째 데이터셋으로 학습 및 검증 시작\n",
            "quantile 0.1 regression start\n",
            "quantile 0.2 regression start\n",
            "quantile 0.3 regression start\n",
            "quantile 0.4 regression start\n",
            "quantile 0.5 regression start\n",
            "quantile 0.6 regression start\n",
            "quantile 0.7 regression start\n",
            "quantile 0.8 regression start\n",
            "quantile 0.9 regression start\n",
            "평균 loss는 1.60398727509496\n",
            "4번째 데이터셋으로 학습 및 검증 시작\n",
            "quantile 0.1 regression start\n",
            "quantile 0.2 regression start\n",
            "quantile 0.3 regression start\n",
            "quantile 0.4 regression start\n",
            "quantile 0.5 regression start\n",
            "quantile 0.6 regression start\n",
            "quantile 0.7 regression start\n",
            "quantile 0.8 regression start\n",
            "quantile 0.9 regression start\n",
            "평균 loss는 1.435713744989284\n"
          ],
          "name": "stdout"
        }
      ]
    },
    {
      "cell_type": "code",
      "metadata": {
        "id": "AoP8P7uTU8aM"
      },
      "source": [
        "for q in [.1, .2, .3, .4, .5, .6, .7, .8, .9] :\r\n",
        "    n = int(q * 10)\r\n",
        "    model = keras.Sequential([\r\n",
        "    Dense(32, activation='relu', input_shape=[tr_X.shape[1]]),\r\n",
        "    Dropout(.3),\r\n",
        "    Dense(32, activation='relu'),\r\n",
        "    Dense(1)])\r\n",
        "    model.load_weights(f'1218keras_{n}.h5')\r\n",
        "    pred = model.predict(data[0]).reshape(-1)\r\n",
        "    pred = [0 if x < 0 else x for x in pred]\r\n",
        "    submission[f'q_{q}'] = pred\r\n",
        "keras_submission = submission.copy()"
      ],
      "execution_count": 541,
      "outputs": []
    },
    {
      "cell_type": "code",
      "metadata": {
        "colab": {
          "base_uri": "https://localhost:8080/",
          "height": 419
        },
        "id": "Tu0PqLbCVeQy",
        "outputId": "4885610c-db36-4a93-ee1e-56af60212a5c"
      },
      "source": [
        "keras_submission"
      ],
      "execution_count": 542,
      "outputs": [
        {
          "output_type": "execute_result",
          "data": {
            "text/html": [
              "<div>\n",
              "<style scoped>\n",
              "    .dataframe tbody tr th:only-of-type {\n",
              "        vertical-align: middle;\n",
              "    }\n",
              "\n",
              "    .dataframe tbody tr th {\n",
              "        vertical-align: top;\n",
              "    }\n",
              "\n",
              "    .dataframe thead th {\n",
              "        text-align: right;\n",
              "    }\n",
              "</style>\n",
              "<table border=\"1\" class=\"dataframe\">\n",
              "  <thead>\n",
              "    <tr style=\"text-align: right;\">\n",
              "      <th></th>\n",
              "      <th>id</th>\n",
              "      <th>q_0.1</th>\n",
              "      <th>q_0.2</th>\n",
              "      <th>q_0.3</th>\n",
              "      <th>q_0.4</th>\n",
              "      <th>q_0.5</th>\n",
              "      <th>q_0.6</th>\n",
              "      <th>q_0.7</th>\n",
              "      <th>q_0.8</th>\n",
              "      <th>q_0.9</th>\n",
              "    </tr>\n",
              "  </thead>\n",
              "  <tbody>\n",
              "    <tr>\n",
              "      <th>0</th>\n",
              "      <td>0.csv_Day7_0h00m</td>\n",
              "      <td>0.0</td>\n",
              "      <td>0.0</td>\n",
              "      <td>0.0</td>\n",
              "      <td>0.0</td>\n",
              "      <td>0.000000</td>\n",
              "      <td>0.049334</td>\n",
              "      <td>0.093436</td>\n",
              "      <td>0.128385</td>\n",
              "      <td>0.431603</td>\n",
              "    </tr>\n",
              "    <tr>\n",
              "      <th>1</th>\n",
              "      <td>0.csv_Day7_0h30m</td>\n",
              "      <td>0.0</td>\n",
              "      <td>0.0</td>\n",
              "      <td>0.0</td>\n",
              "      <td>0.0</td>\n",
              "      <td>0.000000</td>\n",
              "      <td>0.048241</td>\n",
              "      <td>0.092594</td>\n",
              "      <td>0.123386</td>\n",
              "      <td>0.424042</td>\n",
              "    </tr>\n",
              "    <tr>\n",
              "      <th>2</th>\n",
              "      <td>0.csv_Day7_1h00m</td>\n",
              "      <td>0.0</td>\n",
              "      <td>0.0</td>\n",
              "      <td>0.0</td>\n",
              "      <td>0.0</td>\n",
              "      <td>0.000000</td>\n",
              "      <td>0.046228</td>\n",
              "      <td>0.092346</td>\n",
              "      <td>0.116116</td>\n",
              "      <td>0.419595</td>\n",
              "    </tr>\n",
              "    <tr>\n",
              "      <th>3</th>\n",
              "      <td>0.csv_Day7_1h30m</td>\n",
              "      <td>0.0</td>\n",
              "      <td>0.0</td>\n",
              "      <td>0.0</td>\n",
              "      <td>0.0</td>\n",
              "      <td>0.000000</td>\n",
              "      <td>0.045305</td>\n",
              "      <td>0.091934</td>\n",
              "      <td>0.114513</td>\n",
              "      <td>0.416284</td>\n",
              "    </tr>\n",
              "    <tr>\n",
              "      <th>4</th>\n",
              "      <td>0.csv_Day7_2h00m</td>\n",
              "      <td>0.0</td>\n",
              "      <td>0.0</td>\n",
              "      <td>0.0</td>\n",
              "      <td>0.0</td>\n",
              "      <td>0.000000</td>\n",
              "      <td>0.043394</td>\n",
              "      <td>0.092034</td>\n",
              "      <td>0.109666</td>\n",
              "      <td>0.411521</td>\n",
              "    </tr>\n",
              "    <tr>\n",
              "      <th>...</th>\n",
              "      <td>...</td>\n",
              "      <td>...</td>\n",
              "      <td>...</td>\n",
              "      <td>...</td>\n",
              "      <td>...</td>\n",
              "      <td>...</td>\n",
              "      <td>...</td>\n",
              "      <td>...</td>\n",
              "      <td>...</td>\n",
              "      <td>...</td>\n",
              "    </tr>\n",
              "    <tr>\n",
              "      <th>7771</th>\n",
              "      <td>80.csv_Day8_21h30m</td>\n",
              "      <td>0.0</td>\n",
              "      <td>0.0</td>\n",
              "      <td>0.0</td>\n",
              "      <td>0.0</td>\n",
              "      <td>0.012189</td>\n",
              "      <td>0.041566</td>\n",
              "      <td>0.100346</td>\n",
              "      <td>0.222247</td>\n",
              "      <td>0.577880</td>\n",
              "    </tr>\n",
              "    <tr>\n",
              "      <th>7772</th>\n",
              "      <td>80.csv_Day8_22h00m</td>\n",
              "      <td>0.0</td>\n",
              "      <td>0.0</td>\n",
              "      <td>0.0</td>\n",
              "      <td>0.0</td>\n",
              "      <td>0.011023</td>\n",
              "      <td>0.041866</td>\n",
              "      <td>0.100488</td>\n",
              "      <td>0.217018</td>\n",
              "      <td>0.552392</td>\n",
              "    </tr>\n",
              "    <tr>\n",
              "      <th>7773</th>\n",
              "      <td>80.csv_Day8_22h30m</td>\n",
              "      <td>0.0</td>\n",
              "      <td>0.0</td>\n",
              "      <td>0.0</td>\n",
              "      <td>0.0</td>\n",
              "      <td>0.009948</td>\n",
              "      <td>0.041712</td>\n",
              "      <td>0.100738</td>\n",
              "      <td>0.212366</td>\n",
              "      <td>0.522321</td>\n",
              "    </tr>\n",
              "    <tr>\n",
              "      <th>7774</th>\n",
              "      <td>80.csv_Day8_23h00m</td>\n",
              "      <td>0.0</td>\n",
              "      <td>0.0</td>\n",
              "      <td>0.0</td>\n",
              "      <td>0.0</td>\n",
              "      <td>0.009015</td>\n",
              "      <td>0.042115</td>\n",
              "      <td>0.100806</td>\n",
              "      <td>0.208120</td>\n",
              "      <td>0.504407</td>\n",
              "    </tr>\n",
              "    <tr>\n",
              "      <th>7775</th>\n",
              "      <td>80.csv_Day8_23h30m</td>\n",
              "      <td>0.0</td>\n",
              "      <td>0.0</td>\n",
              "      <td>0.0</td>\n",
              "      <td>0.0</td>\n",
              "      <td>0.008153</td>\n",
              "      <td>0.041984</td>\n",
              "      <td>0.101008</td>\n",
              "      <td>0.204392</td>\n",
              "      <td>0.480185</td>\n",
              "    </tr>\n",
              "  </tbody>\n",
              "</table>\n",
              "<p>7776 rows × 10 columns</p>\n",
              "</div>"
            ],
            "text/plain": [
              "                      id  q_0.1  q_0.2  ...     q_0.7     q_0.8     q_0.9\n",
              "0       0.csv_Day7_0h00m    0.0    0.0  ...  0.093436  0.128385  0.431603\n",
              "1       0.csv_Day7_0h30m    0.0    0.0  ...  0.092594  0.123386  0.424042\n",
              "2       0.csv_Day7_1h00m    0.0    0.0  ...  0.092346  0.116116  0.419595\n",
              "3       0.csv_Day7_1h30m    0.0    0.0  ...  0.091934  0.114513  0.416284\n",
              "4       0.csv_Day7_2h00m    0.0    0.0  ...  0.092034  0.109666  0.411521\n",
              "...                  ...    ...    ...  ...       ...       ...       ...\n",
              "7771  80.csv_Day8_21h30m    0.0    0.0  ...  0.100346  0.222247  0.577880\n",
              "7772  80.csv_Day8_22h00m    0.0    0.0  ...  0.100488  0.217018  0.552392\n",
              "7773  80.csv_Day8_22h30m    0.0    0.0  ...  0.100738  0.212366  0.522321\n",
              "7774  80.csv_Day8_23h00m    0.0    0.0  ...  0.100806  0.208120  0.504407\n",
              "7775  80.csv_Day8_23h30m    0.0    0.0  ...  0.101008  0.204392  0.480185\n",
              "\n",
              "[7776 rows x 10 columns]"
            ]
          },
          "metadata": {
            "tags": []
          },
          "execution_count": 542
        }
      ]
    },
    {
      "cell_type": "code",
      "metadata": {
        "colab": {
          "base_uri": "https://localhost:8080/",
          "height": 297
        },
        "id": "UkcZJdBRXKn_",
        "outputId": "bf036ab6-7216-41e9-872b-6df466252e73"
      },
      "source": [
        "keras_submission.describe()"
      ],
      "execution_count": 517,
      "outputs": [
        {
          "output_type": "execute_result",
          "data": {
            "text/html": [
              "<div>\n",
              "<style scoped>\n",
              "    .dataframe tbody tr th:only-of-type {\n",
              "        vertical-align: middle;\n",
              "    }\n",
              "\n",
              "    .dataframe tbody tr th {\n",
              "        vertical-align: top;\n",
              "    }\n",
              "\n",
              "    .dataframe thead th {\n",
              "        text-align: right;\n",
              "    }\n",
              "</style>\n",
              "<table border=\"1\" class=\"dataframe\">\n",
              "  <thead>\n",
              "    <tr style=\"text-align: right;\">\n",
              "      <th></th>\n",
              "      <th>q_0.1</th>\n",
              "      <th>q_0.2</th>\n",
              "      <th>q_0.3</th>\n",
              "      <th>q_0.4</th>\n",
              "      <th>q_0.5</th>\n",
              "      <th>q_0.6</th>\n",
              "      <th>q_0.7</th>\n",
              "      <th>q_0.8</th>\n",
              "      <th>q_0.9</th>\n",
              "    </tr>\n",
              "  </thead>\n",
              "  <tbody>\n",
              "    <tr>\n",
              "      <th>count</th>\n",
              "      <td>7776.000000</td>\n",
              "      <td>7776.000000</td>\n",
              "      <td>7776.000000</td>\n",
              "      <td>7776.000000</td>\n",
              "      <td>7776.000000</td>\n",
              "      <td>7776.000000</td>\n",
              "      <td>7776.000000</td>\n",
              "      <td>7776.000000</td>\n",
              "      <td>7776.000000</td>\n",
              "    </tr>\n",
              "    <tr>\n",
              "      <th>mean</th>\n",
              "      <td>5.186897</td>\n",
              "      <td>9.655154</td>\n",
              "      <td>12.919978</td>\n",
              "      <td>14.455328</td>\n",
              "      <td>16.759580</td>\n",
              "      <td>18.997797</td>\n",
              "      <td>20.660004</td>\n",
              "      <td>21.438742</td>\n",
              "      <td>23.464161</td>\n",
              "    </tr>\n",
              "    <tr>\n",
              "      <th>std</th>\n",
              "      <td>7.387596</td>\n",
              "      <td>13.210887</td>\n",
              "      <td>17.304444</td>\n",
              "      <td>18.835122</td>\n",
              "      <td>21.227780</td>\n",
              "      <td>23.618212</td>\n",
              "      <td>25.777468</td>\n",
              "      <td>25.332878</td>\n",
              "      <td>27.820374</td>\n",
              "    </tr>\n",
              "    <tr>\n",
              "      <th>min</th>\n",
              "      <td>0.000000</td>\n",
              "      <td>0.000000</td>\n",
              "      <td>0.000000</td>\n",
              "      <td>0.000000</td>\n",
              "      <td>0.000000</td>\n",
              "      <td>0.000000</td>\n",
              "      <td>0.000000</td>\n",
              "      <td>0.000000</td>\n",
              "      <td>0.254150</td>\n",
              "    </tr>\n",
              "    <tr>\n",
              "      <th>25%</th>\n",
              "      <td>0.000000</td>\n",
              "      <td>0.000000</td>\n",
              "      <td>0.000000</td>\n",
              "      <td>0.000000</td>\n",
              "      <td>0.047113</td>\n",
              "      <td>0.000000</td>\n",
              "      <td>0.037936</td>\n",
              "      <td>0.036378</td>\n",
              "      <td>0.396109</td>\n",
              "    </tr>\n",
              "    <tr>\n",
              "      <th>50%</th>\n",
              "      <td>0.158063</td>\n",
              "      <td>0.880677</td>\n",
              "      <td>0.289929</td>\n",
              "      <td>0.623198</td>\n",
              "      <td>1.847452</td>\n",
              "      <td>2.195431</td>\n",
              "      <td>2.323933</td>\n",
              "      <td>3.943882</td>\n",
              "      <td>5.366031</td>\n",
              "    </tr>\n",
              "    <tr>\n",
              "      <th>75%</th>\n",
              "      <td>9.183468</td>\n",
              "      <td>18.500843</td>\n",
              "      <td>25.435527</td>\n",
              "      <td>29.174971</td>\n",
              "      <td>34.098569</td>\n",
              "      <td>39.467806</td>\n",
              "      <td>41.698201</td>\n",
              "      <td>44.872931</td>\n",
              "      <td>49.281040</td>\n",
              "    </tr>\n",
              "    <tr>\n",
              "      <th>max</th>\n",
              "      <td>29.848942</td>\n",
              "      <td>52.155571</td>\n",
              "      <td>63.556541</td>\n",
              "      <td>65.793991</td>\n",
              "      <td>74.430763</td>\n",
              "      <td>78.996613</td>\n",
              "      <td>89.468643</td>\n",
              "      <td>83.832108</td>\n",
              "      <td>92.936836</td>\n",
              "    </tr>\n",
              "  </tbody>\n",
              "</table>\n",
              "</div>"
            ],
            "text/plain": [
              "             q_0.1        q_0.2  ...        q_0.8        q_0.9\n",
              "count  7776.000000  7776.000000  ...  7776.000000  7776.000000\n",
              "mean      5.186897     9.655154  ...    21.438742    23.464161\n",
              "std       7.387596    13.210887  ...    25.332878    27.820374\n",
              "min       0.000000     0.000000  ...     0.000000     0.254150\n",
              "25%       0.000000     0.000000  ...     0.036378     0.396109\n",
              "50%       0.158063     0.880677  ...     3.943882     5.366031\n",
              "75%       9.183468    18.500843  ...    44.872931    49.281040\n",
              "max      29.848942    52.155571  ...    83.832108    92.936836\n",
              "\n",
              "[8 rows x 9 columns]"
            ]
          },
          "metadata": {
            "tags": []
          },
          "execution_count": 517
        }
      ]
    },
    {
      "cell_type": "code",
      "metadata": {
        "id": "UdcrmzkHVq7I"
      },
      "source": [
        "X = train_after_2.drop('TARGET2', axis = 1)\r\n",
        "y = train_after_2.TARGET2"
      ],
      "execution_count": 543,
      "outputs": []
    },
    {
      "cell_type": "code",
      "metadata": {
        "scrolled": true,
        "colab": {
          "base_uri": "https://localhost:8080/"
        },
        "id": "lIFeknCj9uiu",
        "outputId": "455fdc0b-e707-47a3-cf87-8554a23d6bc2"
      },
      "source": [
        "for i, data in enumerate(zip(target_list, actual_list)) :\n",
        "    loss_list = []\n",
        "    print(f'{i + 1}번째 데이터셋으로 학습 및 검증 시작')\n",
        "    for qt in [.1, .2, .3, .4, .5, .6, .7, .8, .9] :\n",
        "        \n",
        "        gbm = GradientBoostingRegressor(random_state = 1216, loss = 'quantile', alpha = qt)\n",
        "        gbm.fit(X, y)\n",
        "\n",
        "        pred = gbm.predict(data[0])\n",
        "\n",
        "        loss = pb_loss(data[1], pred, qt)\n",
        "        loss_list.append(loss)\n",
        "        print(f'{qt} quantile pinball_loss는 {np.mean(loss_list)}')"
      ],
      "execution_count": 544,
      "outputs": [
        {
          "output_type": "stream",
          "text": [
            "1번째 데이터셋으로 학습 및 검증 시작\n",
            "0.1 quantile pinball_loss는 1.460588464190225\n",
            "0.2 quantile pinball_loss는 1.8949782380613807\n",
            "0.3 quantile pinball_loss는 2.188983277961136\n",
            "0.4 quantile pinball_loss는 2.37405025630916\n",
            "0.5 quantile pinball_loss는 2.461315362302894\n",
            "0.6 quantile pinball_loss는 2.4721849093457373\n",
            "0.7 quantile pinball_loss는 2.428827368577736\n",
            "0.8 quantile pinball_loss는 2.333348917692275\n",
            "0.9 quantile pinball_loss는 2.1902322055548864\n",
            "2번째 데이터셋으로 학습 및 검증 시작\n",
            "0.1 quantile pinball_loss는 1.4848481464869634\n",
            "0.2 quantile pinball_loss는 1.963254215806804\n",
            "0.3 quantile pinball_loss는 2.293459483460534\n",
            "0.4 quantile pinball_loss는 2.4973044164863403\n",
            "0.5 quantile pinball_loss는 2.5960947984350264\n",
            "0.6 quantile pinball_loss는 2.6142702500637074\n",
            "0.7 quantile pinball_loss는 2.5714449099804826\n",
            "0.8 quantile pinball_loss는 2.471747511611989\n",
            "0.9 quantile pinball_loss는 2.317403149569612\n",
            "3번째 데이터셋으로 학습 및 검증 시작\n",
            "0.1 quantile pinball_loss는 1.5744062627958002\n",
            "0.2 quantile pinball_loss는 2.1094315937503993\n",
            "0.3 quantile pinball_loss는 2.4787653226525386\n",
            "0.4 quantile pinball_loss는 2.701536377942305\n",
            "0.5 quantile pinball_loss는 2.8085293145514614\n",
            "0.6 quantile pinball_loss는 2.826640412587615\n",
            "0.7 quantile pinball_loss는 2.772208761645874\n",
            "0.8 quantile pinball_loss는 2.656482529622047\n",
            "0.9 quantile pinball_loss는 2.485405756226152\n",
            "4번째 데이터셋으로 학습 및 검증 시작\n",
            "0.1 quantile pinball_loss는 1.55213992078778\n",
            "0.2 quantile pinball_loss는 2.0750912852383316\n",
            "0.3 quantile pinball_loss는 2.437570083004047\n",
            "0.4 quantile pinball_loss는 2.6554080785972283\n",
            "0.5 quantile pinball_loss는 2.7643934818016644\n",
            "0.6 quantile pinball_loss는 2.788379228071932\n",
            "0.7 quantile pinball_loss는 2.738058558330216\n",
            "0.8 quantile pinball_loss는 2.6299344925292196\n",
            "0.9 quantile pinball_loss는 2.467680356923472\n"
          ],
          "name": "stdout"
        }
      ]
    },
    {
      "cell_type": "code",
      "metadata": {
        "id": "2EeWj0L79uiv"
      },
      "source": [
        "for q in [.1, .2, .3, .4, .5, .6, .7, .8, .9] :\n",
        "    \n",
        "    gbm = GradientBoostingRegressor(random_state = 1216, loss = 'quantile', alpha = q)\n",
        "    gbm.fit(X, y)\n",
        "\n",
        "    gbm_pred = gbm.predict(target)\n",
        "    submission[f'q_{q}'] = gbm_pred\n",
        "gbm_submission = submission.copy()"
      ],
      "execution_count": 545,
      "outputs": []
    },
    {
      "cell_type": "code",
      "metadata": {
        "colab": {
          "base_uri": "https://localhost:8080/",
          "height": 419
        },
        "id": "l2bwd7p5XInR",
        "outputId": "97e04a28-8fd3-49c3-e896-1776d74e4312"
      },
      "source": [
        "gbm_submission"
      ],
      "execution_count": 546,
      "outputs": [
        {
          "output_type": "execute_result",
          "data": {
            "text/html": [
              "<div>\n",
              "<style scoped>\n",
              "    .dataframe tbody tr th:only-of-type {\n",
              "        vertical-align: middle;\n",
              "    }\n",
              "\n",
              "    .dataframe tbody tr th {\n",
              "        vertical-align: top;\n",
              "    }\n",
              "\n",
              "    .dataframe thead th {\n",
              "        text-align: right;\n",
              "    }\n",
              "</style>\n",
              "<table border=\"1\" class=\"dataframe\">\n",
              "  <thead>\n",
              "    <tr style=\"text-align: right;\">\n",
              "      <th></th>\n",
              "      <th>id</th>\n",
              "      <th>q_0.1</th>\n",
              "      <th>q_0.2</th>\n",
              "      <th>q_0.3</th>\n",
              "      <th>q_0.4</th>\n",
              "      <th>q_0.5</th>\n",
              "      <th>q_0.6</th>\n",
              "      <th>q_0.7</th>\n",
              "      <th>q_0.8</th>\n",
              "      <th>q_0.9</th>\n",
              "    </tr>\n",
              "  </thead>\n",
              "  <tbody>\n",
              "    <tr>\n",
              "      <th>0</th>\n",
              "      <td>0.csv_Day7_0h00m</td>\n",
              "      <td>0.0</td>\n",
              "      <td>0.0</td>\n",
              "      <td>0.0</td>\n",
              "      <td>0.0</td>\n",
              "      <td>0.0</td>\n",
              "      <td>0.000237</td>\n",
              "      <td>0.000621</td>\n",
              "      <td>0.001104</td>\n",
              "      <td>0.002267</td>\n",
              "    </tr>\n",
              "    <tr>\n",
              "      <th>1</th>\n",
              "      <td>0.csv_Day7_0h30m</td>\n",
              "      <td>0.0</td>\n",
              "      <td>0.0</td>\n",
              "      <td>0.0</td>\n",
              "      <td>0.0</td>\n",
              "      <td>0.0</td>\n",
              "      <td>0.000237</td>\n",
              "      <td>0.000621</td>\n",
              "      <td>0.001104</td>\n",
              "      <td>0.002267</td>\n",
              "    </tr>\n",
              "    <tr>\n",
              "      <th>2</th>\n",
              "      <td>0.csv_Day7_1h00m</td>\n",
              "      <td>0.0</td>\n",
              "      <td>0.0</td>\n",
              "      <td>0.0</td>\n",
              "      <td>0.0</td>\n",
              "      <td>0.0</td>\n",
              "      <td>0.000237</td>\n",
              "      <td>0.000621</td>\n",
              "      <td>0.001104</td>\n",
              "      <td>0.002267</td>\n",
              "    </tr>\n",
              "    <tr>\n",
              "      <th>3</th>\n",
              "      <td>0.csv_Day7_1h30m</td>\n",
              "      <td>0.0</td>\n",
              "      <td>0.0</td>\n",
              "      <td>0.0</td>\n",
              "      <td>0.0</td>\n",
              "      <td>0.0</td>\n",
              "      <td>0.000237</td>\n",
              "      <td>0.000621</td>\n",
              "      <td>0.001104</td>\n",
              "      <td>0.002267</td>\n",
              "    </tr>\n",
              "    <tr>\n",
              "      <th>4</th>\n",
              "      <td>0.csv_Day7_2h00m</td>\n",
              "      <td>0.0</td>\n",
              "      <td>0.0</td>\n",
              "      <td>0.0</td>\n",
              "      <td>0.0</td>\n",
              "      <td>0.0</td>\n",
              "      <td>0.000237</td>\n",
              "      <td>0.000621</td>\n",
              "      <td>0.001104</td>\n",
              "      <td>0.002267</td>\n",
              "    </tr>\n",
              "    <tr>\n",
              "      <th>...</th>\n",
              "      <td>...</td>\n",
              "      <td>...</td>\n",
              "      <td>...</td>\n",
              "      <td>...</td>\n",
              "      <td>...</td>\n",
              "      <td>...</td>\n",
              "      <td>...</td>\n",
              "      <td>...</td>\n",
              "      <td>...</td>\n",
              "      <td>...</td>\n",
              "    </tr>\n",
              "    <tr>\n",
              "      <th>7771</th>\n",
              "      <td>80.csv_Day8_21h30m</td>\n",
              "      <td>0.0</td>\n",
              "      <td>0.0</td>\n",
              "      <td>0.0</td>\n",
              "      <td>0.0</td>\n",
              "      <td>0.0</td>\n",
              "      <td>0.000237</td>\n",
              "      <td>0.000621</td>\n",
              "      <td>0.001104</td>\n",
              "      <td>0.002267</td>\n",
              "    </tr>\n",
              "    <tr>\n",
              "      <th>7772</th>\n",
              "      <td>80.csv_Day8_22h00m</td>\n",
              "      <td>0.0</td>\n",
              "      <td>0.0</td>\n",
              "      <td>0.0</td>\n",
              "      <td>0.0</td>\n",
              "      <td>0.0</td>\n",
              "      <td>0.000237</td>\n",
              "      <td>0.000621</td>\n",
              "      <td>0.001104</td>\n",
              "      <td>0.002267</td>\n",
              "    </tr>\n",
              "    <tr>\n",
              "      <th>7773</th>\n",
              "      <td>80.csv_Day8_22h30m</td>\n",
              "      <td>0.0</td>\n",
              "      <td>0.0</td>\n",
              "      <td>0.0</td>\n",
              "      <td>0.0</td>\n",
              "      <td>0.0</td>\n",
              "      <td>0.000237</td>\n",
              "      <td>0.000621</td>\n",
              "      <td>0.001104</td>\n",
              "      <td>0.002267</td>\n",
              "    </tr>\n",
              "    <tr>\n",
              "      <th>7774</th>\n",
              "      <td>80.csv_Day8_23h00m</td>\n",
              "      <td>0.0</td>\n",
              "      <td>0.0</td>\n",
              "      <td>0.0</td>\n",
              "      <td>0.0</td>\n",
              "      <td>0.0</td>\n",
              "      <td>0.000237</td>\n",
              "      <td>0.000621</td>\n",
              "      <td>0.001104</td>\n",
              "      <td>0.002267</td>\n",
              "    </tr>\n",
              "    <tr>\n",
              "      <th>7775</th>\n",
              "      <td>80.csv_Day8_23h30m</td>\n",
              "      <td>0.0</td>\n",
              "      <td>0.0</td>\n",
              "      <td>0.0</td>\n",
              "      <td>0.0</td>\n",
              "      <td>0.0</td>\n",
              "      <td>0.000237</td>\n",
              "      <td>0.000621</td>\n",
              "      <td>0.001104</td>\n",
              "      <td>0.002267</td>\n",
              "    </tr>\n",
              "  </tbody>\n",
              "</table>\n",
              "<p>7776 rows × 10 columns</p>\n",
              "</div>"
            ],
            "text/plain": [
              "                      id  q_0.1  q_0.2  ...     q_0.7     q_0.8     q_0.9\n",
              "0       0.csv_Day7_0h00m    0.0    0.0  ...  0.000621  0.001104  0.002267\n",
              "1       0.csv_Day7_0h30m    0.0    0.0  ...  0.000621  0.001104  0.002267\n",
              "2       0.csv_Day7_1h00m    0.0    0.0  ...  0.000621  0.001104  0.002267\n",
              "3       0.csv_Day7_1h30m    0.0    0.0  ...  0.000621  0.001104  0.002267\n",
              "4       0.csv_Day7_2h00m    0.0    0.0  ...  0.000621  0.001104  0.002267\n",
              "...                  ...    ...    ...  ...       ...       ...       ...\n",
              "7771  80.csv_Day8_21h30m    0.0    0.0  ...  0.000621  0.001104  0.002267\n",
              "7772  80.csv_Day8_22h00m    0.0    0.0  ...  0.000621  0.001104  0.002267\n",
              "7773  80.csv_Day8_22h30m    0.0    0.0  ...  0.000621  0.001104  0.002267\n",
              "7774  80.csv_Day8_23h00m    0.0    0.0  ...  0.000621  0.001104  0.002267\n",
              "7775  80.csv_Day8_23h30m    0.0    0.0  ...  0.000621  0.001104  0.002267\n",
              "\n",
              "[7776 rows x 10 columns]"
            ]
          },
          "metadata": {
            "tags": []
          },
          "execution_count": 546
        }
      ]
    },
    {
      "cell_type": "code",
      "metadata": {
        "scrolled": true,
        "colab": {
          "base_uri": "https://localhost:8080/"
        },
        "id": "J-3iR0Yb9uiv",
        "outputId": "9d3fa019-3811-4d88-ed59-cacb0d7f588f"
      },
      "source": [
        "for i, data in enumerate(zip(target_list, actual_list)) :\n",
        "    loss_list = []\n",
        "    print(f'{i + 1}번째 데이터셋으로 학습 및 검증 시작')\n",
        "    for qt in [.1, .2, .3, .4, .5, .6, .7, .8, .9] :\n",
        "\n",
        "        lgbm = LGBMRegressor(random_state = 1218, objective = 'quantile', metric = 'quantile', alpha = qt)\n",
        "        lgbm.fit(X, y)\n",
        "\n",
        "        pred = lgbm.predict(data[0])\n",
        "\n",
        "        loss = pb_loss(data[1], pred, qt)\n",
        "\n",
        "        loss_list.append(loss)\n",
        "        print(f'{qt} quantile pinball_loss는 {np.mean(loss_list)}')"
      ],
      "execution_count": 547,
      "outputs": [
        {
          "output_type": "stream",
          "text": [
            "1번째 데이터셋으로 학습 및 검증 시작\n",
            "0.1 quantile pinball_loss는 1.4602032131803944\n",
            "0.2 quantile pinball_loss는 1.92548853095514\n",
            "0.3 quantile pinball_loss는 2.244711950574458\n",
            "0.4 quantile pinball_loss는 2.431887141607729\n",
            "0.5 quantile pinball_loss는 2.5205416846787125\n",
            "0.6 quantile pinball_loss는 2.5301982516465924\n",
            "0.7 quantile pinball_loss는 2.467483500195677\n",
            "0.8 quantile pinball_loss는 2.3538169942835623\n",
            "0.9 quantile pinball_loss는 2.202380641792617\n",
            "2번째 데이터셋으로 학습 및 검증 시작\n",
            "0.1 quantile pinball_loss는 1.5062812212470986\n",
            "0.2 quantile pinball_loss는 2.026852808272829\n",
            "0.3 quantile pinball_loss는 2.3665627153450473\n",
            "0.4 quantile pinball_loss는 2.5632941095911974\n",
            "0.5 quantile pinball_loss는 2.6628567096212135\n",
            "0.6 quantile pinball_loss는 2.6779674272740563\n",
            "0.7 quantile pinball_loss는 2.615512774839489\n",
            "0.8 quantile pinball_loss는 2.4960996142626657\n",
            "0.9 quantile pinball_loss는 2.331111136649175\n",
            "3번째 데이터셋으로 학습 및 검증 시작\n",
            "0.1 quantile pinball_loss는 1.6319584451847193\n",
            "0.2 quantile pinball_loss는 2.1984015375104606\n",
            "0.3 quantile pinball_loss는 2.532831682220133\n",
            "0.4 quantile pinball_loss는 2.741441219035364\n",
            "0.5 quantile pinball_loss는 2.837480358125095\n",
            "0.6 quantile pinball_loss는 2.84398837128275\n",
            "0.7 quantile pinball_loss는 2.7719847710050023\n",
            "0.8 quantile pinball_loss는 2.6393268395448475\n",
            "0.9 quantile pinball_loss는 2.461237616091122\n",
            "4번째 데이터셋으로 학습 및 검증 시작\n",
            "0.1 quantile pinball_loss는 1.588558607434997\n",
            "0.2 quantile pinball_loss는 2.1186676862362996\n",
            "0.3 quantile pinball_loss는 2.443232204104542\n",
            "0.4 quantile pinball_loss는 2.654934359963845\n",
            "0.5 quantile pinball_loss는 2.750704103440453\n",
            "0.6 quantile pinball_loss는 2.7577783256472386\n",
            "0.7 quantile pinball_loss는 2.6960472241848095\n",
            "0.8 quantile pinball_loss는 2.5761418839699446\n",
            "0.9 quantile pinball_loss는 2.4127833551727775\n"
          ],
          "name": "stdout"
        }
      ]
    },
    {
      "cell_type": "code",
      "metadata": {
        "id": "V2zABIDX9uiv"
      },
      "source": [
        "for q in [.1, .2, .3, .4, .5, .6, .7, .8, .9] :\n",
        "    \n",
        "    lgbm = LGBMRegressor(random_state = 1218, objective = 'quantile', metric = 'quantile', alpha = q)\n",
        "    lgbm.fit(X, y)\n",
        "\n",
        "    lgbm_pred = lgbm.predict(data[0])\n",
        "    submission[f'q_{q}'] = lgbm_pred\n",
        "lgbm_submission = submission.copy()"
      ],
      "execution_count": 548,
      "outputs": []
    },
    {
      "cell_type": "code",
      "metadata": {
        "id": "-_ixToP09uiw"
      },
      "source": [
        "keras_submission.iloc[:, 1:] *= .4\n",
        "lgbm_submission.iloc[:, 1:] *= .2\n",
        "gbm_submission.iloc[:, 1:] *= .4"
      ],
      "execution_count": 549,
      "outputs": []
    },
    {
      "cell_type": "code",
      "metadata": {
        "id": "3gbTtS9p9uiw"
      },
      "source": [
        "submission.iloc[:, 1:] = lgbm_submission.iloc[:, 1:] + gbm_submission.iloc[:, 1:] + keras_submission.iloc[:, 1:]"
      ],
      "execution_count": 550,
      "outputs": []
    },
    {
      "cell_type": "code",
      "metadata": {
        "id": "lj1D5JEY9uiw"
      },
      "source": [
        "submission.iloc[:, 1:] = submission.iloc[:, 1:].applymap(lambda x : 0 if x < 0 else x)"
      ],
      "execution_count": 551,
      "outputs": []
    },
    {
      "cell_type": "code",
      "metadata": {
        "colab": {
          "base_uri": "https://localhost:8080/",
          "height": 297
        },
        "id": "sGkwhjIe9uiw",
        "outputId": "9f4aa7bd-a2f6-4e08-b901-7533dcb336a5"
      },
      "source": [
        "submission.describe()"
      ],
      "execution_count": 552,
      "outputs": [
        {
          "output_type": "execute_result",
          "data": {
            "text/html": [
              "<div>\n",
              "<style scoped>\n",
              "    .dataframe tbody tr th:only-of-type {\n",
              "        vertical-align: middle;\n",
              "    }\n",
              "\n",
              "    .dataframe tbody tr th {\n",
              "        vertical-align: top;\n",
              "    }\n",
              "\n",
              "    .dataframe thead th {\n",
              "        text-align: right;\n",
              "    }\n",
              "</style>\n",
              "<table border=\"1\" class=\"dataframe\">\n",
              "  <thead>\n",
              "    <tr style=\"text-align: right;\">\n",
              "      <th></th>\n",
              "      <th>q_0.1</th>\n",
              "      <th>q_0.2</th>\n",
              "      <th>q_0.3</th>\n",
              "      <th>q_0.4</th>\n",
              "      <th>q_0.5</th>\n",
              "      <th>q_0.6</th>\n",
              "      <th>q_0.7</th>\n",
              "      <th>q_0.8</th>\n",
              "      <th>q_0.9</th>\n",
              "    </tr>\n",
              "  </thead>\n",
              "  <tbody>\n",
              "    <tr>\n",
              "      <th>count</th>\n",
              "      <td>7776.000000</td>\n",
              "      <td>7776.000000</td>\n",
              "      <td>7776.000000</td>\n",
              "      <td>7776.000000</td>\n",
              "      <td>7776.000000</td>\n",
              "      <td>7776.000000</td>\n",
              "      <td>7776.000000</td>\n",
              "      <td>7776.000000</td>\n",
              "      <td>7776.000000</td>\n",
              "    </tr>\n",
              "    <tr>\n",
              "      <th>mean</th>\n",
              "      <td>6.003677</td>\n",
              "      <td>10.472187</td>\n",
              "      <td>14.605124</td>\n",
              "      <td>16.360396</td>\n",
              "      <td>18.362976</td>\n",
              "      <td>20.058803</td>\n",
              "      <td>20.035817</td>\n",
              "      <td>23.618301</td>\n",
              "      <td>26.302442</td>\n",
              "    </tr>\n",
              "    <tr>\n",
              "      <th>std</th>\n",
              "      <td>8.184948</td>\n",
              "      <td>13.897139</td>\n",
              "      <td>18.934368</td>\n",
              "      <td>21.240912</td>\n",
              "      <td>23.562544</td>\n",
              "      <td>25.330102</td>\n",
              "      <td>25.115499</td>\n",
              "      <td>28.730052</td>\n",
              "      <td>30.843311</td>\n",
              "    </tr>\n",
              "    <tr>\n",
              "      <th>min</th>\n",
              "      <td>0.000000</td>\n",
              "      <td>0.000000</td>\n",
              "      <td>0.000000</td>\n",
              "      <td>0.000000</td>\n",
              "      <td>0.000000</td>\n",
              "      <td>0.004080</td>\n",
              "      <td>0.000000</td>\n",
              "      <td>0.000000</td>\n",
              "      <td>0.098552</td>\n",
              "    </tr>\n",
              "    <tr>\n",
              "      <th>25%</th>\n",
              "      <td>0.000000</td>\n",
              "      <td>0.000000</td>\n",
              "      <td>0.000000</td>\n",
              "      <td>0.000000</td>\n",
              "      <td>0.001277</td>\n",
              "      <td>0.017234</td>\n",
              "      <td>0.038060</td>\n",
              "      <td>0.076027</td>\n",
              "      <td>0.187177</td>\n",
              "    </tr>\n",
              "    <tr>\n",
              "      <th>50%</th>\n",
              "      <td>0.165135</td>\n",
              "      <td>0.280664</td>\n",
              "      <td>0.829278</td>\n",
              "      <td>0.833230</td>\n",
              "      <td>1.317070</td>\n",
              "      <td>1.941796</td>\n",
              "      <td>2.692641</td>\n",
              "      <td>3.508924</td>\n",
              "      <td>5.883267</td>\n",
              "    </tr>\n",
              "    <tr>\n",
              "      <th>75%</th>\n",
              "      <td>12.151415</td>\n",
              "      <td>21.709971</td>\n",
              "      <td>30.918938</td>\n",
              "      <td>34.374000</td>\n",
              "      <td>37.958861</td>\n",
              "      <td>41.595670</td>\n",
              "      <td>41.325947</td>\n",
              "      <td>49.986844</td>\n",
              "      <td>55.640232</td>\n",
              "    </tr>\n",
              "    <tr>\n",
              "      <th>max</th>\n",
              "      <td>32.006014</td>\n",
              "      <td>50.354392</td>\n",
              "      <td>62.220165</td>\n",
              "      <td>69.938861</td>\n",
              "      <td>75.875752</td>\n",
              "      <td>81.585045</td>\n",
              "      <td>79.650967</td>\n",
              "      <td>89.532962</td>\n",
              "      <td>94.056048</td>\n",
              "    </tr>\n",
              "  </tbody>\n",
              "</table>\n",
              "</div>"
            ],
            "text/plain": [
              "             q_0.1        q_0.2  ...        q_0.8        q_0.9\n",
              "count  7776.000000  7776.000000  ...  7776.000000  7776.000000\n",
              "mean      6.003677    10.472187  ...    23.618301    26.302442\n",
              "std       8.184948    13.897139  ...    28.730052    30.843311\n",
              "min       0.000000     0.000000  ...     0.000000     0.098552\n",
              "25%       0.000000     0.000000  ...     0.076027     0.187177\n",
              "50%       0.165135     0.280664  ...     3.508924     5.883267\n",
              "75%      12.151415    21.709971  ...    49.986844    55.640232\n",
              "max      32.006014    50.354392  ...    89.532962    94.056048\n",
              "\n",
              "[8 rows x 9 columns]"
            ]
          },
          "metadata": {
            "tags": []
          },
          "execution_count": 552
        }
      ]
    },
    {
      "cell_type": "code",
      "metadata": {
        "colab": {
          "base_uri": "https://localhost:8080/",
          "height": 419
        },
        "id": "X2F4NaUc9uiw",
        "outputId": "5dda948a-df38-4bb5-ba3d-bfac5a4a80ad"
      },
      "source": [
        "submission"
      ],
      "execution_count": 553,
      "outputs": [
        {
          "output_type": "execute_result",
          "data": {
            "text/html": [
              "<div>\n",
              "<style scoped>\n",
              "    .dataframe tbody tr th:only-of-type {\n",
              "        vertical-align: middle;\n",
              "    }\n",
              "\n",
              "    .dataframe tbody tr th {\n",
              "        vertical-align: top;\n",
              "    }\n",
              "\n",
              "    .dataframe thead th {\n",
              "        text-align: right;\n",
              "    }\n",
              "</style>\n",
              "<table border=\"1\" class=\"dataframe\">\n",
              "  <thead>\n",
              "    <tr style=\"text-align: right;\">\n",
              "      <th></th>\n",
              "      <th>id</th>\n",
              "      <th>q_0.1</th>\n",
              "      <th>q_0.2</th>\n",
              "      <th>q_0.3</th>\n",
              "      <th>q_0.4</th>\n",
              "      <th>q_0.5</th>\n",
              "      <th>q_0.6</th>\n",
              "      <th>q_0.7</th>\n",
              "      <th>q_0.8</th>\n",
              "      <th>q_0.9</th>\n",
              "    </tr>\n",
              "  </thead>\n",
              "  <tbody>\n",
              "    <tr>\n",
              "      <th>0</th>\n",
              "      <td>0.csv_Day7_0h00m</td>\n",
              "      <td>0.0</td>\n",
              "      <td>0.0</td>\n",
              "      <td>0.0</td>\n",
              "      <td>0.0</td>\n",
              "      <td>0.000000</td>\n",
              "      <td>0.019876</td>\n",
              "      <td>0.037747</td>\n",
              "      <td>0.052013</td>\n",
              "      <td>0.173967</td>\n",
              "    </tr>\n",
              "    <tr>\n",
              "      <th>1</th>\n",
              "      <td>0.csv_Day7_0h30m</td>\n",
              "      <td>0.0</td>\n",
              "      <td>0.0</td>\n",
              "      <td>0.0</td>\n",
              "      <td>0.0</td>\n",
              "      <td>0.000000</td>\n",
              "      <td>0.019438</td>\n",
              "      <td>0.037410</td>\n",
              "      <td>0.050013</td>\n",
              "      <td>0.170942</td>\n",
              "    </tr>\n",
              "    <tr>\n",
              "      <th>2</th>\n",
              "      <td>0.csv_Day7_1h00m</td>\n",
              "      <td>0.0</td>\n",
              "      <td>0.0</td>\n",
              "      <td>0.0</td>\n",
              "      <td>0.0</td>\n",
              "      <td>0.000000</td>\n",
              "      <td>0.018633</td>\n",
              "      <td>0.037311</td>\n",
              "      <td>0.047105</td>\n",
              "      <td>0.169164</td>\n",
              "    </tr>\n",
              "    <tr>\n",
              "      <th>3</th>\n",
              "      <td>0.csv_Day7_1h30m</td>\n",
              "      <td>0.0</td>\n",
              "      <td>0.0</td>\n",
              "      <td>0.0</td>\n",
              "      <td>0.0</td>\n",
              "      <td>0.000000</td>\n",
              "      <td>0.018264</td>\n",
              "      <td>0.037146</td>\n",
              "      <td>0.046463</td>\n",
              "      <td>0.167839</td>\n",
              "    </tr>\n",
              "    <tr>\n",
              "      <th>4</th>\n",
              "      <td>0.csv_Day7_2h00m</td>\n",
              "      <td>0.0</td>\n",
              "      <td>0.0</td>\n",
              "      <td>0.0</td>\n",
              "      <td>0.0</td>\n",
              "      <td>0.000000</td>\n",
              "      <td>0.017500</td>\n",
              "      <td>0.037186</td>\n",
              "      <td>0.044525</td>\n",
              "      <td>0.165934</td>\n",
              "    </tr>\n",
              "    <tr>\n",
              "      <th>...</th>\n",
              "      <td>...</td>\n",
              "      <td>...</td>\n",
              "      <td>...</td>\n",
              "      <td>...</td>\n",
              "      <td>...</td>\n",
              "      <td>...</td>\n",
              "      <td>...</td>\n",
              "      <td>...</td>\n",
              "      <td>...</td>\n",
              "      <td>...</td>\n",
              "    </tr>\n",
              "    <tr>\n",
              "      <th>7771</th>\n",
              "      <td>80.csv_Day8_21h30m</td>\n",
              "      <td>0.0</td>\n",
              "      <td>0.0</td>\n",
              "      <td>0.0</td>\n",
              "      <td>0.0</td>\n",
              "      <td>0.004876</td>\n",
              "      <td>0.016768</td>\n",
              "      <td>0.040511</td>\n",
              "      <td>0.089557</td>\n",
              "      <td>0.232478</td>\n",
              "    </tr>\n",
              "    <tr>\n",
              "      <th>7772</th>\n",
              "      <td>80.csv_Day8_22h00m</td>\n",
              "      <td>0.0</td>\n",
              "      <td>0.0</td>\n",
              "      <td>0.0</td>\n",
              "      <td>0.0</td>\n",
              "      <td>0.004409</td>\n",
              "      <td>0.016889</td>\n",
              "      <td>0.040568</td>\n",
              "      <td>0.087466</td>\n",
              "      <td>0.222283</td>\n",
              "    </tr>\n",
              "    <tr>\n",
              "      <th>7773</th>\n",
              "      <td>80.csv_Day8_22h30m</td>\n",
              "      <td>0.0</td>\n",
              "      <td>0.0</td>\n",
              "      <td>0.0</td>\n",
              "      <td>0.0</td>\n",
              "      <td>0.003979</td>\n",
              "      <td>0.016827</td>\n",
              "      <td>0.040668</td>\n",
              "      <td>0.085605</td>\n",
              "      <td>0.210254</td>\n",
              "    </tr>\n",
              "    <tr>\n",
              "      <th>7774</th>\n",
              "      <td>80.csv_Day8_23h00m</td>\n",
              "      <td>0.0</td>\n",
              "      <td>0.0</td>\n",
              "      <td>0.0</td>\n",
              "      <td>0.0</td>\n",
              "      <td>0.003606</td>\n",
              "      <td>0.016988</td>\n",
              "      <td>0.040695</td>\n",
              "      <td>0.083907</td>\n",
              "      <td>0.203089</td>\n",
              "    </tr>\n",
              "    <tr>\n",
              "      <th>7775</th>\n",
              "      <td>80.csv_Day8_23h30m</td>\n",
              "      <td>0.0</td>\n",
              "      <td>0.0</td>\n",
              "      <td>0.0</td>\n",
              "      <td>0.0</td>\n",
              "      <td>0.003261</td>\n",
              "      <td>0.016936</td>\n",
              "      <td>0.040776</td>\n",
              "      <td>0.082415</td>\n",
              "      <td>0.193400</td>\n",
              "    </tr>\n",
              "  </tbody>\n",
              "</table>\n",
              "<p>7776 rows × 10 columns</p>\n",
              "</div>"
            ],
            "text/plain": [
              "                      id  q_0.1  q_0.2  ...     q_0.7     q_0.8     q_0.9\n",
              "0       0.csv_Day7_0h00m    0.0    0.0  ...  0.037747  0.052013  0.173967\n",
              "1       0.csv_Day7_0h30m    0.0    0.0  ...  0.037410  0.050013  0.170942\n",
              "2       0.csv_Day7_1h00m    0.0    0.0  ...  0.037311  0.047105  0.169164\n",
              "3       0.csv_Day7_1h30m    0.0    0.0  ...  0.037146  0.046463  0.167839\n",
              "4       0.csv_Day7_2h00m    0.0    0.0  ...  0.037186  0.044525  0.165934\n",
              "...                  ...    ...    ...  ...       ...       ...       ...\n",
              "7771  80.csv_Day8_21h30m    0.0    0.0  ...  0.040511  0.089557  0.232478\n",
              "7772  80.csv_Day8_22h00m    0.0    0.0  ...  0.040568  0.087466  0.222283\n",
              "7773  80.csv_Day8_22h30m    0.0    0.0  ...  0.040668  0.085605  0.210254\n",
              "7774  80.csv_Day8_23h00m    0.0    0.0  ...  0.040695  0.083907  0.203089\n",
              "7775  80.csv_Day8_23h30m    0.0    0.0  ...  0.040776  0.082415  0.193400\n",
              "\n",
              "[7776 rows x 10 columns]"
            ]
          },
          "metadata": {
            "tags": []
          },
          "execution_count": 553
        }
      ]
    },
    {
      "cell_type": "code",
      "metadata": {
        "id": "l779up-M9uix"
      },
      "source": [
        "submission.to_csv('1218_2nd.csv', index = False)"
      ],
      "execution_count": 532,
      "outputs": []
    }
  ]
}