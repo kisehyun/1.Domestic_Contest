{
 "cells": [
  {
   "cell_type": "markdown",
   "metadata": {
    "id": "hJBWkta59uif"
   },
   "source": [
    "# 태양광\n",
    "***\n",
    "### 3년(Day 0 ~ Day 1094) 동안의 기상 데이터, 발전량(TARGET) 데이터\n",
    "\n",
    "### test는 2년동안의 기상데이터, 발전량(TARGET) 데이터\n",
    "\n",
    "### 각 파일의 7일 동안의 데이터 전체 혹은 일부 활용하여 향후 2일 동안의 30분 간격 발전량 예측\n",
    "****\n",
    "- Hour - 시간\n",
    "- Minute - 분\n",
    "- DHI - 수평면 산란일사량(Diffuse Horizontal Irradiance (W/m2))\n",
    "- DNI - 직달일사량(Direct Normal Irradiance (W/m2))\n",
    "- WS - 풍속(Wind Speed (m/s))\n",
    "- RH - 상대습도(Relative Humidity (%))\n",
    "- T - 기온(Temperature (Degree C))\n",
    "- Target - 태양광 발전량 (kW)\n",
    "***\n",
    "\n",
    "## 1. Package Import"
   ]
  },
  {
   "cell_type": "code",
   "execution_count": 1,
   "metadata": {
    "executionInfo": {
     "elapsed": 2604,
     "status": "ok",
     "timestamp": 1608808718413,
     "user": {
      "displayName": "기세현",
      "photoUrl": "",
      "userId": "06743460080794396829"
     },
     "user_tz": -540
    },
    "id": "Dp5CIGft9uil"
   },
   "outputs": [],
   "source": [
    "import warnings\n",
    "warnings.filterwarnings('ignore')\n",
    "\n",
    "import pandas as pd\n",
    "import numpy as np\n",
    "import seaborn as sns\n",
    "import matplotlib.pyplot as plt\n",
    "%matplotlib inline\n",
    "\n",
    "import itertools\n",
    "import time\n",
    "\n",
    "import statsmodels.api as sm\n",
    "from statsmodels.regression.quantile_regression import QuantReg as qreg\n",
    "import statsmodels.formula.api as smf\n",
    "\n",
    "from tqdm import tnrange, tqdm_notebook\n",
    "\n",
    "from sklearn.model_selection import train_test_split\n",
    "from sklearn.linear_model import LinearRegression\n",
    "from sklearn.metrics import *\n",
    "from sklearn.ensemble import RandomForestRegressor, GradientBoostingRegressor\n",
    "import os\n",
    "from lightgbm import LGBMRegressor\n",
    "import datetime\n",
    "#from skgarden import RandomForestQuantileRegressor, DecisionTreeQuantileRegressor, ExtraTreeQuantileRegressor, ExtraTreesQuantileRegressor"
   ]
  },
  {
   "cell_type": "markdown",
   "metadata": {},
   "source": [
    "***\n",
    "## 2. Load Data"
   ]
  },
  {
   "cell_type": "code",
   "execution_count": 160,
   "metadata": {
    "executionInfo": {
     "elapsed": 1983,
     "status": "ok",
     "timestamp": 1608808720934,
     "user": {
      "displayName": "기세현",
      "photoUrl": "",
      "userId": "06743460080794396829"
     },
     "user_tz": -540
    },
    "id": "imDPo2ot9uim",
    "scrolled": true
   },
   "outputs": [],
   "source": [
    "train = pd.read_csv('/Users/kisehyun/DACON/SUN/train/train.csv')"
   ]
  },
  {
   "cell_type": "code",
   "execution_count": 161,
   "metadata": {
    "executionInfo": {
     "elapsed": 24844,
     "status": "ok",
     "timestamp": 1608808744222,
     "user": {
      "displayName": "기세현",
      "photoUrl": "",
      "userId": "06743460080794396829"
     },
     "user_tz": -540
    },
    "id": "NOmG0rI69uin"
   },
   "outputs": [],
   "source": [
    "for i in range(81) :\n",
    "    globals() [f'test_{i}'] = pd.read_csv(f'/Users/kisehyun/DACON/SUN/test/{i}.csv')\n",
    "    globals() [f'test_{i}']['sep_day'] = i"
   ]
  },
  {
   "cell_type": "code",
   "execution_count": 162,
   "metadata": {
    "executionInfo": {
     "elapsed": 24659,
     "status": "ok",
     "timestamp": 1608808744225,
     "user": {
      "displayName": "기세현",
      "photoUrl": "",
      "userId": "06743460080794396829"
     },
     "user_tz": -540
    },
    "id": "dUGnZ7_I9uin"
   },
   "outputs": [],
   "source": [
    "### 각 데이터를 하나의 데이터로 통합\n",
    "test = pd.DataFrame()\n",
    "idx_list = []\n",
    "for i in range(81):\n",
    "    test = pd.concat([test, globals()[f'test_{i}']], axis = 0, ignore_index = True)"
   ]
  },
  {
   "cell_type": "code",
   "execution_count": 163,
   "metadata": {
    "executionInfo": {
     "elapsed": 24764,
     "status": "ok",
     "timestamp": 1608808744934,
     "user": {
      "displayName": "기세현",
      "photoUrl": "",
      "userId": "06743460080794396829"
     },
     "user_tz": -540
    },
    "id": "Zdc-gNOx9uin"
   },
   "outputs": [],
   "source": [
    "submission = pd.read_csv('sample_submission.csv')"
   ]
  },
  {
   "cell_type": "code",
   "execution_count": 164,
   "metadata": {
    "colab": {
     "base_uri": "https://localhost:8080/",
     "height": 204
    },
    "executionInfo": {
     "elapsed": 24312,
     "status": "ok",
     "timestamp": 1608808744944,
     "user": {
      "displayName": "기세현",
      "photoUrl": "",
      "userId": "06743460080794396829"
     },
     "user_tz": -540
    },
    "id": "aGk66wrg9uio",
    "outputId": "98478daa-8820-4e7a-ef91-d0a931251989",
    "scrolled": false
   },
   "outputs": [
    {
     "data": {
      "text/html": [
       "<div>\n",
       "<style scoped>\n",
       "    .dataframe tbody tr th:only-of-type {\n",
       "        vertical-align: middle;\n",
       "    }\n",
       "\n",
       "    .dataframe tbody tr th {\n",
       "        vertical-align: top;\n",
       "    }\n",
       "\n",
       "    .dataframe thead th {\n",
       "        text-align: right;\n",
       "    }\n",
       "</style>\n",
       "<table border=\"1\" class=\"dataframe\">\n",
       "  <thead>\n",
       "    <tr style=\"text-align: right;\">\n",
       "      <th></th>\n",
       "      <th>Day</th>\n",
       "      <th>Hour</th>\n",
       "      <th>Minute</th>\n",
       "      <th>DHI</th>\n",
       "      <th>DNI</th>\n",
       "      <th>WS</th>\n",
       "      <th>RH</th>\n",
       "      <th>T</th>\n",
       "      <th>TARGET</th>\n",
       "    </tr>\n",
       "  </thead>\n",
       "  <tbody>\n",
       "    <tr>\n",
       "      <th>0</th>\n",
       "      <td>0</td>\n",
       "      <td>0</td>\n",
       "      <td>0</td>\n",
       "      <td>0</td>\n",
       "      <td>0</td>\n",
       "      <td>1.5</td>\n",
       "      <td>69.08</td>\n",
       "      <td>-12</td>\n",
       "      <td>0.0</td>\n",
       "    </tr>\n",
       "    <tr>\n",
       "      <th>1</th>\n",
       "      <td>0</td>\n",
       "      <td>0</td>\n",
       "      <td>30</td>\n",
       "      <td>0</td>\n",
       "      <td>0</td>\n",
       "      <td>1.5</td>\n",
       "      <td>69.06</td>\n",
       "      <td>-12</td>\n",
       "      <td>0.0</td>\n",
       "    </tr>\n",
       "    <tr>\n",
       "      <th>2</th>\n",
       "      <td>0</td>\n",
       "      <td>1</td>\n",
       "      <td>0</td>\n",
       "      <td>0</td>\n",
       "      <td>0</td>\n",
       "      <td>1.6</td>\n",
       "      <td>71.78</td>\n",
       "      <td>-12</td>\n",
       "      <td>0.0</td>\n",
       "    </tr>\n",
       "    <tr>\n",
       "      <th>3</th>\n",
       "      <td>0</td>\n",
       "      <td>1</td>\n",
       "      <td>30</td>\n",
       "      <td>0</td>\n",
       "      <td>0</td>\n",
       "      <td>1.6</td>\n",
       "      <td>71.75</td>\n",
       "      <td>-12</td>\n",
       "      <td>0.0</td>\n",
       "    </tr>\n",
       "    <tr>\n",
       "      <th>4</th>\n",
       "      <td>0</td>\n",
       "      <td>2</td>\n",
       "      <td>0</td>\n",
       "      <td>0</td>\n",
       "      <td>0</td>\n",
       "      <td>1.6</td>\n",
       "      <td>75.20</td>\n",
       "      <td>-12</td>\n",
       "      <td>0.0</td>\n",
       "    </tr>\n",
       "  </tbody>\n",
       "</table>\n",
       "</div>"
      ],
      "text/plain": [
       "   Day  Hour  Minute  DHI  DNI   WS     RH   T  TARGET\n",
       "0    0     0       0    0    0  1.5  69.08 -12     0.0\n",
       "1    0     0      30    0    0  1.5  69.06 -12     0.0\n",
       "2    0     1       0    0    0  1.6  71.78 -12     0.0\n",
       "3    0     1      30    0    0  1.6  71.75 -12     0.0\n",
       "4    0     2       0    0    0  1.6  75.20 -12     0.0"
      ]
     },
     "execution_count": 164,
     "metadata": {},
     "output_type": "execute_result"
    }
   ],
   "source": [
    "train.head()"
   ]
  },
  {
   "cell_type": "code",
   "execution_count": 165,
   "metadata": {
    "colab": {
     "base_uri": "https://localhost:8080/",
     "height": 204
    },
    "executionInfo": {
     "elapsed": 23909,
     "status": "ok",
     "timestamp": 1608808744945,
     "user": {
      "displayName": "기세현",
      "photoUrl": "",
      "userId": "06743460080794396829"
     },
     "user_tz": -540
    },
    "id": "aRJaidAe9uip",
    "outputId": "88d33198-f4ff-42a3-8ad9-083412073569",
    "scrolled": false
   },
   "outputs": [
    {
     "data": {
      "text/html": [
       "<div>\n",
       "<style scoped>\n",
       "    .dataframe tbody tr th:only-of-type {\n",
       "        vertical-align: middle;\n",
       "    }\n",
       "\n",
       "    .dataframe tbody tr th {\n",
       "        vertical-align: top;\n",
       "    }\n",
       "\n",
       "    .dataframe thead th {\n",
       "        text-align: right;\n",
       "    }\n",
       "</style>\n",
       "<table border=\"1\" class=\"dataframe\">\n",
       "  <thead>\n",
       "    <tr style=\"text-align: right;\">\n",
       "      <th></th>\n",
       "      <th>Day</th>\n",
       "      <th>Hour</th>\n",
       "      <th>Minute</th>\n",
       "      <th>DHI</th>\n",
       "      <th>DNI</th>\n",
       "      <th>WS</th>\n",
       "      <th>RH</th>\n",
       "      <th>T</th>\n",
       "      <th>TARGET</th>\n",
       "      <th>sep_day</th>\n",
       "    </tr>\n",
       "  </thead>\n",
       "  <tbody>\n",
       "    <tr>\n",
       "      <th>0</th>\n",
       "      <td>0</td>\n",
       "      <td>0</td>\n",
       "      <td>0</td>\n",
       "      <td>0</td>\n",
       "      <td>0</td>\n",
       "      <td>2.7</td>\n",
       "      <td>34.42</td>\n",
       "      <td>0.0</td>\n",
       "      <td>0.0</td>\n",
       "      <td>0</td>\n",
       "    </tr>\n",
       "    <tr>\n",
       "      <th>1</th>\n",
       "      <td>0</td>\n",
       "      <td>0</td>\n",
       "      <td>30</td>\n",
       "      <td>0</td>\n",
       "      <td>0</td>\n",
       "      <td>2.7</td>\n",
       "      <td>34.17</td>\n",
       "      <td>0.1</td>\n",
       "      <td>0.0</td>\n",
       "      <td>0</td>\n",
       "    </tr>\n",
       "    <tr>\n",
       "      <th>2</th>\n",
       "      <td>0</td>\n",
       "      <td>1</td>\n",
       "      <td>0</td>\n",
       "      <td>0</td>\n",
       "      <td>0</td>\n",
       "      <td>2.7</td>\n",
       "      <td>34.23</td>\n",
       "      <td>0.2</td>\n",
       "      <td>0.0</td>\n",
       "      <td>0</td>\n",
       "    </tr>\n",
       "    <tr>\n",
       "      <th>3</th>\n",
       "      <td>0</td>\n",
       "      <td>1</td>\n",
       "      <td>30</td>\n",
       "      <td>0</td>\n",
       "      <td>0</td>\n",
       "      <td>2.7</td>\n",
       "      <td>33.99</td>\n",
       "      <td>0.3</td>\n",
       "      <td>0.0</td>\n",
       "      <td>0</td>\n",
       "    </tr>\n",
       "    <tr>\n",
       "      <th>4</th>\n",
       "      <td>0</td>\n",
       "      <td>2</td>\n",
       "      <td>0</td>\n",
       "      <td>0</td>\n",
       "      <td>0</td>\n",
       "      <td>2.8</td>\n",
       "      <td>33.97</td>\n",
       "      <td>0.4</td>\n",
       "      <td>0.0</td>\n",
       "      <td>0</td>\n",
       "    </tr>\n",
       "  </tbody>\n",
       "</table>\n",
       "</div>"
      ],
      "text/plain": [
       "   Day  Hour  Minute  DHI  DNI   WS     RH    T  TARGET  sep_day\n",
       "0    0     0       0    0    0  2.7  34.42  0.0     0.0        0\n",
       "1    0     0      30    0    0  2.7  34.17  0.1     0.0        0\n",
       "2    0     1       0    0    0  2.7  34.23  0.2     0.0        0\n",
       "3    0     1      30    0    0  2.7  33.99  0.3     0.0        0\n",
       "4    0     2       0    0    0  2.8  33.97  0.4     0.0        0"
      ]
     },
     "execution_count": 165,
     "metadata": {},
     "output_type": "execute_result"
    }
   ],
   "source": [
    "test.head()"
   ]
  },
  {
   "cell_type": "markdown",
   "metadata": {},
   "source": [
    "***\n",
    "## 3. Make Features\n",
    "\n",
    "<br>\n",
    "<br>\n",
    "\n",
    "일조시간 변수 생성\n"
   ]
  },
  {
   "cell_type": "code",
   "execution_count": 166,
   "metadata": {
    "executionInfo": {
     "elapsed": 25582,
     "status": "ok",
     "timestamp": 1608808747038,
     "user": {
      "displayName": "기세현",
      "photoUrl": "",
      "userId": "06743460080794396829"
     },
     "user_tz": -540
    },
    "id": "p1_54jHNDe6U"
   },
   "outputs": [],
   "source": [
    "tr_times = []\n",
    "for day in train.Day.unique() :\n",
    "    d = train.loc[train.Day == day]\n",
    "    try :\n",
    "        start = d.loc[d.DNI > 0].index[0]\n",
    "        end = d.loc[d.DNI > 0].index[-1]\n",
    "        gap = (end - start) / 2\n",
    "    except :\n",
    "        gap = 0\n",
    "\n",
    "    tr_times.append(gap)"
   ]
  },
  {
   "cell_type": "code",
   "execution_count": 167,
   "metadata": {
    "executionInfo": {
     "elapsed": 25173,
     "status": "ok",
     "timestamp": 1608808747044,
     "user": {
      "displayName": "기세현",
      "photoUrl": "",
      "userId": "06743460080794396829"
     },
     "user_tz": -540
    },
    "id": "iQgcic0GFwEs"
   },
   "outputs": [],
   "source": [
    "test['sep'] = test.index // 48\n",
    "te_times = []\n",
    "for day in test.sep.unique() :\n",
    "    d = test.loc[test.sep == day]\n",
    "    try :\n",
    "        start = d.loc[d.DNI > 0].index[0]\n",
    "        end = d.loc[d.DNI > 0].index[-1]\n",
    "        gap = (end - start) / 2\n",
    "    except :\n",
    "        gap = 0\n",
    "\n",
    "    te_times.append(gap)"
   ]
  },
  {
   "cell_type": "code",
   "execution_count": 168,
   "metadata": {
    "executionInfo": {
     "elapsed": 24708,
     "status": "ok",
     "timestamp": 1608808747046,
     "user": {
      "displayName": "기세현",
      "photoUrl": "",
      "userId": "06743460080794396829"
     },
     "user_tz": -540
    },
    "id": "f0X30dDrF2A5"
   },
   "outputs": [],
   "source": [
    "train_sun_time = pd.DataFrame({'Day' : train.Day.unique(), 'sun_time' : tr_times})\n",
    "test_sun_time = pd.DataFrame({'sep' : test.sep.unique(), 'sun_time' : te_times})"
   ]
  },
  {
   "cell_type": "code",
   "execution_count": 169,
   "metadata": {
    "executionInfo": {
     "elapsed": 24247,
     "status": "ok",
     "timestamp": 1608808747048,
     "user": {
      "displayName": "기세현",
      "photoUrl": "",
      "userId": "06743460080794396829"
     },
     "user_tz": -540
    },
    "id": "H6NlC-FxF-zs"
   },
   "outputs": [],
   "source": [
    "train = pd.merge(train, train_sun_time, how = 'left', on = 'Day')\n",
    "test = pd.merge(test, test_sun_time, how = 'left', on = 'sep').drop('sep', axis = 1)"
   ]
  },
  {
   "cell_type": "code",
   "execution_count": 170,
   "metadata": {
    "colab": {
     "base_uri": "https://localhost:8080/",
     "height": 283
    },
    "executionInfo": {
     "elapsed": 23943,
     "status": "ok",
     "timestamp": 1608808747050,
     "user": {
      "displayName": "기세현",
      "photoUrl": "",
      "userId": "06743460080794396829"
     },
     "user_tz": -540
    },
    "id": "niU1wa4nhXIJ",
    "outputId": "64423884-5e71-40bc-c881-9dd48fffeab1",
    "scrolled": true
   },
   "outputs": [
    {
     "data": {
      "image/png": "[encoded data removed]",
      "text/plain": [
       "<Figure size 432x288 with 1 Axes>"
      ]
     },
     "metadata": {
      "needs_background": "light"
     },
     "output_type": "display_data"
    }
   ],
   "source": [
    "train.sun_time.hist(color = 'red')\n",
    "plt.show()"
   ]
  },
  {
   "cell_type": "code",
   "execution_count": 171,
   "metadata": {
    "colab": {
     "base_uri": "https://localhost:8080/",
     "height": 283
    },
    "executionInfo": {
     "elapsed": 24448,
     "status": "ok",
     "timestamp": 1608808747771,
     "user": {
      "displayName": "기세현",
      "photoUrl": "",
      "userId": "06743460080794396829"
     },
     "user_tz": -540
    },
    "id": "PvJ8azemiIwI",
    "outputId": "7932aa9e-90f3-4bcf-86d4-e9ce7fb1ef3b"
   },
   "outputs": [
    {
     "data": {
      "image/png": "[encoded data removed]",
      "text/plain": [
       "<Figure size 432x288 with 1 Axes>"
      ]
     },
     "metadata": {
      "needs_background": "light"
     },
     "output_type": "display_data"
    }
   ],
   "source": [
    "test.sun_time.hist()\n",
    "plt.show()"
   ]
  },
  {
   "cell_type": "markdown",
   "metadata": {},
   "source": [
    "계절 변수 생성(온도를 기준으로)"
   ]
  },
  {
   "cell_type": "code",
   "execution_count": 172,
   "metadata": {
    "executionInfo": {
     "elapsed": 24297,
     "status": "ok",
     "timestamp": 1608808747777,
     "user": {
      "displayName": "기세현",
      "photoUrl": "",
      "userId": "06743460080794396829"
     },
     "user_tz": -540
    },
    "id": "aXtvJEWnwEe-"
   },
   "outputs": [],
   "source": [
    "def season(x) :\n",
    "    if x < 5 :\n",
    "        return 0\n",
    "    elif 5 <= x < 24 :\n",
    "        return 1\n",
    "    else :\n",
    "        return 2"
   ]
  },
  {
   "cell_type": "code",
   "execution_count": 173,
   "metadata": {
    "executionInfo": {
     "elapsed": 24095,
     "status": "ok",
     "timestamp": 1608808747779,
     "user": {
      "displayName": "기세현",
      "photoUrl": "",
      "userId": "06743460080794396829"
     },
     "user_tz": -540
    },
    "id": "F7nsYotbvUkf"
   },
   "outputs": [],
   "source": [
    "train_temp_mean = train.groupby('Day')['T'].mean().reset_index(name = 'temp_mean')\n",
    "train_temp_mean['season'] = train_temp_mean['temp_mean'].apply(season)"
   ]
  },
  {
   "cell_type": "code",
   "execution_count": 174,
   "metadata": {
    "colab": {
     "base_uri": "https://localhost:8080/",
     "height": 279
    },
    "executionInfo": {
     "elapsed": 23913,
     "status": "ok",
     "timestamp": 1608808747780,
     "user": {
      "displayName": "기세현",
      "photoUrl": "",
      "userId": "06743460080794396829"
     },
     "user_tz": -540
    },
    "id": "C5ClBqtgwrTA",
    "outputId": "330e4585-9564-40cc-e1fd-6c5dd73d1bac"
   },
   "outputs": [
    {
     "data": {
      "image/png": "[encoded data removed]",
      "text/plain": [
       "<Figure size 432x288 with 1 Axes>"
      ]
     },
     "metadata": {
      "needs_background": "light"
     },
     "output_type": "display_data"
    }
   ],
   "source": [
    "sns.countplot(train_temp_mean.season, edgecolor = (0,0,0))\n",
    "plt.show()"
   ]
  },
  {
   "cell_type": "code",
   "execution_count": 175,
   "metadata": {
    "executionInfo": {
     "elapsed": 23732,
     "status": "ok",
     "timestamp": 1608808747781,
     "user": {
      "displayName": "기세현",
      "photoUrl": "",
      "userId": "06743460080794396829"
     },
     "user_tz": -540
    },
    "id": "WnVESy8F0rTM"
   },
   "outputs": [],
   "source": [
    "#train = pd.merge(train, train_temp_mean, how = 'left', on = 'Day')"
   ]
  },
  {
   "cell_type": "code",
   "execution_count": 176,
   "metadata": {
    "executionInfo": {
     "elapsed": 23026,
     "status": "ok",
     "timestamp": 1608808747782,
     "user": {
      "displayName": "기세현",
      "photoUrl": "",
      "userId": "06743460080794396829"
     },
     "user_tz": -540
    },
    "id": "rU4KahZBt97e"
   },
   "outputs": [],
   "source": [
    "test_temp_mean = test.groupby('sep_day')['T'].mean().reset_index(name = 'temp_mean')\n",
    "test_temp_mean['season'] = test_temp_mean['temp_mean'].apply(season)"
   ]
  },
  {
   "cell_type": "code",
   "execution_count": 177,
   "metadata": {
    "colab": {
     "base_uri": "https://localhost:8080/",
     "height": 279
    },
    "executionInfo": {
     "elapsed": 22192,
     "status": "ok",
     "timestamp": 1608808747783,
     "user": {
      "displayName": "기세현",
      "photoUrl": "",
      "userId": "06743460080794396829"
     },
     "user_tz": -540
    },
    "id": "tagOWGW1xGPH",
    "outputId": "23a305bd-a1e6-4a82-dc65-7a5c4ae2c9c9"
   },
   "outputs": [
    {
     "data": {
      "image/png": "[encoded data removed]",
      "text/plain": [
       "<Figure size 432x288 with 1 Axes>"
      ]
     },
     "metadata": {
      "needs_background": "light"
     },
     "output_type": "display_data"
    }
   ],
   "source": [
    "sns.countplot(test_temp_mean.season, edgecolor = (0,0,0))\n",
    "plt.show()"
   ]
  },
  {
   "cell_type": "code",
   "execution_count": 178,
   "metadata": {
    "executionInfo": {
     "elapsed": 21454,
     "status": "ok",
     "timestamp": 1608808747785,
     "user": {
      "displayName": "기세현",
      "photoUrl": "",
      "userId": "06743460080794396829"
     },
     "user_tz": -540
    },
    "id": "Rg9CTHCzvkZd"
   },
   "outputs": [],
   "source": [
    "#test = pd.merge(test, test_temp_mean, how = 'left', on = 'sep_day')"
   ]
  },
  {
   "cell_type": "code",
   "execution_count": 179,
   "metadata": {
    "executionInfo": {
     "elapsed": 21069,
     "status": "ok",
     "timestamp": 1608808747787,
     "user": {
      "displayName": "기세현",
      "photoUrl": "",
      "userId": "06743460080794396829"
     },
     "user_tz": -540
    },
    "id": "GTQnP1tP1Z6R"
   },
   "outputs": [],
   "source": [
    "#train.groupby('season').TARGET.mean().plot(kind = 'bar')\n",
    "#plt.show()"
   ]
  },
  {
   "cell_type": "code",
   "execution_count": 180,
   "metadata": {
    "executionInfo": {
     "elapsed": 20821,
     "status": "ok",
     "timestamp": 1608808747790,
     "user": {
      "displayName": "기세현",
      "photoUrl": "",
      "userId": "06743460080794396829"
     },
     "user_tz": -540
    },
    "id": "DvMN23r-1c_S"
   },
   "outputs": [],
   "source": [
    "#test.groupby('season').TARGET.mean().plot(kind = 'bar')\n",
    "#plt.show()"
   ]
  },
  {
   "cell_type": "code",
   "execution_count": 181,
   "metadata": {
    "executionInfo": {
     "elapsed": 20635,
     "status": "ok",
     "timestamp": 1608808747791,
     "user": {
      "displayName": "기세현",
      "photoUrl": "",
      "userId": "06743460080794396829"
     },
     "user_tz": -540
    },
    "id": "pC75xB9i7ox2"
   },
   "outputs": [],
   "source": [
    "#train.season = train.season.map({'summer' : 2, 'spring_or_fall' : 1, 'winter' : 0})\n",
    "#test.season = test.season.map({'summer' : 2, 'spring_or_fall' : 1, 'winter' : 0})\n",
    "\n",
    "train['season'] = train['T'].apply(season)\n",
    "test['season'] = test['T'].apply(season)"
   ]
  },
  {
   "cell_type": "code",
   "execution_count": 182,
   "metadata": {
    "colab": {
     "base_uri": "https://localhost:8080/",
     "height": 388
    },
    "executionInfo": {
     "elapsed": 20993,
     "status": "ok",
     "timestamp": 1608808748386,
     "user": {
      "displayName": "기세현",
      "photoUrl": "",
      "userId": "06743460080794396829"
     },
     "user_tz": -540
    },
    "id": "e7W-QfAgv2tH",
    "outputId": "dcb031f9-19fb-4aca-af72-fbb675a51c66"
   },
   "outputs": [
    {
     "data": {
      "image/png": "[encoded data removed]",
      "text/plain": [
       "<Figure size 720x432 with 1 Axes>"
      ]
     },
     "metadata": {
      "needs_background": "light"
     },
     "output_type": "display_data"
    }
   ],
   "source": [
    "plt.figure(figsize = (10, 6))\n",
    "train.groupby('T').TARGET.mean().plot()\n",
    "plt.show()"
   ]
  },
  {
   "cell_type": "code",
   "execution_count": 183,
   "metadata": {
    "colab": {
     "base_uri": "https://localhost:8080/",
     "height": 388
    },
    "executionInfo": {
     "elapsed": 20797,
     "status": "ok",
     "timestamp": 1608808748390,
     "user": {
      "displayName": "기세현",
      "photoUrl": "",
      "userId": "06743460080794396829"
     },
     "user_tz": -540
    },
    "id": "ZkbXYD5D55iO",
    "outputId": "375f468a-7add-49c4-a6d1-50b74a84d2b7"
   },
   "outputs": [
    {
     "data": {
      "image/png": "[encoded data removed]",
      "text/plain": [
       "<Figure size 720x432 with 1 Axes>"
      ]
     },
     "metadata": {
      "needs_background": "light"
     },
     "output_type": "display_data"
    }
   ],
   "source": [
    "plt.figure(figsize = (10, 6))\n",
    "test.groupby('T').TARGET.mean().plot()\n",
    "plt.show()"
   ]
  },
  {
   "cell_type": "code",
   "execution_count": 184,
   "metadata": {
    "executionInfo": {
     "elapsed": 20610,
     "status": "ok",
     "timestamp": 1608808748391,
     "user": {
      "displayName": "기세현",
      "photoUrl": "",
      "userId": "06743460080794396829"
     },
     "user_tz": -540
    },
    "id": "yOyeJtEaXqCk"
   },
   "outputs": [],
   "source": [
    "def eff_gap(x) :\n",
    "  if 0 < x < 25 :\n",
    "    return (25 - x) * 0.5\n",
    "  elif x == 25 :\n",
    "    return 0\n",
    "  else :\n",
    "    return (25 - x) * .05"
   ]
  },
  {
   "cell_type": "code",
   "execution_count": 185,
   "metadata": {
    "executionInfo": {
     "elapsed": 20547,
     "status": "ok",
     "timestamp": 1608808748393,
     "user": {
      "displayName": "기세현",
      "photoUrl": "",
      "userId": "06743460080794396829"
     },
     "user_tz": -540
    },
    "id": "MP_YbOANqkw5"
   },
   "outputs": [],
   "source": [
    "#train['eff_gap'] = train['T'].apply(eff_gap)\n",
    "#test['eff_gap'] = test['T'].apply(eff_gap)"
   ]
  },
  {
   "cell_type": "code",
   "execution_count": 186,
   "metadata": {
    "executionInfo": {
     "elapsed": 20371,
     "status": "ok",
     "timestamp": 1608808748394,
     "user": {
      "displayName": "기세현",
      "photoUrl": "",
      "userId": "06743460080794396829"
     },
     "user_tz": -540
    },
    "id": "psUSJs-n9uip"
   },
   "outputs": [],
   "source": [
    "train['DNI'] = np.log1p(train['DNI'])\n",
    "train['DHI'] = np.log1p(train['DHI'])\n",
    "train['WS'] = np.log1p(train['WS'])"
   ]
  },
  {
   "cell_type": "code",
   "execution_count": 187,
   "metadata": {
    "executionInfo": {
     "elapsed": 20204,
     "status": "ok",
     "timestamp": 1608808748395,
     "user": {
      "displayName": "기세현",
      "photoUrl": "",
      "userId": "06743460080794396829"
     },
     "user_tz": -540
    },
    "id": "zXrKnGtI9uip"
   },
   "outputs": [],
   "source": [
    "test['DNI'] = np.log1p(test['DNI'])\n",
    "test['DHI'] = np.log1p(test['DHI'])\n",
    "test['WS'] = np.log1p(test['WS'])"
   ]
  },
  {
   "cell_type": "code",
   "execution_count": 188,
   "metadata": {
    "executionInfo": {
     "elapsed": 20032,
     "status": "ok",
     "timestamp": 1608808748396,
     "user": {
      "displayName": "기세현",
      "photoUrl": "",
      "userId": "06743460080794396829"
     },
     "user_tz": -540
    },
    "id": "sJwte7Qt9uiq"
   },
   "outputs": [],
   "source": [
    "train.Minute = train.Minute.map({30 : 1, 0: 0})\n",
    "test.Minute = test.Minute.map({30 : 1, 0: 0})"
   ]
  },
  {
   "cell_type": "code",
   "execution_count": 189,
   "metadata": {
    "executionInfo": {
     "elapsed": 19877,
     "status": "ok",
     "timestamp": 1608808748397,
     "user": {
      "displayName": "기세현",
      "photoUrl": "",
      "userId": "06743460080794396829"
     },
     "user_tz": -540
    },
    "id": "2WQQLjW79uiq"
   },
   "outputs": [],
   "source": [
    "train['hour_mean'] = train.Hour.map(train.groupby('Hour').TARGET.mean())\n",
    "test['hour_mean'] = test.Hour.map(test.groupby('Hour').TARGET.mean())"
   ]
  },
  {
   "cell_type": "code",
   "execution_count": 190,
   "metadata": {
    "executionInfo": {
     "elapsed": 19750,
     "status": "ok",
     "timestamp": 1608808748398,
     "user": {
      "displayName": "기세현",
      "photoUrl": "",
      "userId": "06743460080794396829"
     },
     "user_tz": -540
    },
    "id": "Oq-tQgEh9uiq"
   },
   "outputs": [],
   "source": [
    "#train['day_mean'] = train.Day.map(train.groupby('Day').TARGET.mean())\n",
    "#test['day_mean'] = test.Day.map(test.groupby('Day').TARGET.mean())"
   ]
  },
  {
   "cell_type": "code",
   "execution_count": 191,
   "metadata": {
    "executionInfo": {
     "elapsed": 19588,
     "status": "ok",
     "timestamp": 1608808748399,
     "user": {
      "displayName": "기세현",
      "photoUrl": "",
      "userId": "06743460080794396829"
     },
     "user_tz": -540
    },
    "id": "tOPPOv_iRZWP"
   },
   "outputs": [],
   "source": [
    "train_after_2 = train.loc[train.Day <= 1092]\n",
    "train_after_2['TARGET2'] = list(train.loc[train.Day >= 2].TARGET)\n",
    "train_after_2['Day'] = train_after_2.Day % 9"
   ]
  },
  {
   "cell_type": "code",
   "execution_count": 192,
   "metadata": {
    "executionInfo": {
     "elapsed": 19419,
     "status": "ok",
     "timestamp": 1608808748405,
     "user": {
      "displayName": "기세현",
      "photoUrl": "",
      "userId": "06743460080794396829"
     },
     "user_tz": -540
    },
    "id": "sqcW8fwJ9uit"
   },
   "outputs": [],
   "source": [
    "train_after_2.drop(['Day', 'Minute'], axis =1 ,inplace = True)\n",
    "test.drop('sep_day', axis = 1, inplace = True)"
   ]
  },
  {
   "cell_type": "code",
   "execution_count": 193,
   "metadata": {
    "executionInfo": {
     "elapsed": 19263,
     "status": "ok",
     "timestamp": 1608808748406,
     "user": {
      "displayName": "기세현",
      "photoUrl": "",
      "userId": "06743460080794396829"
     },
     "user_tz": -540
    },
    "id": "s1ISPi209uiu"
   },
   "outputs": [],
   "source": [
    "actual1 = test.query('Day in [2,3]').TARGET\n",
    "actual2 = test.query('Day in [3,4]').TARGET\n",
    "actual3 = test.query('Day in [4,5]').TARGET\n",
    "actual4 = test.query('Day in [5,6]').TARGET\n",
    "\n",
    "actual_list = [actual1, actual2, actual3, actual4]"
   ]
  },
  {
   "cell_type": "code",
   "execution_count": 194,
   "metadata": {
    "executionInfo": {
     "elapsed": 19084,
     "status": "ok",
     "timestamp": 1608808748410,
     "user": {
      "displayName": "기세현",
      "photoUrl": "",
      "userId": "06743460080794396829"
     },
     "user_tz": -540
    },
    "id": "ROjyaIvP9uiu"
   },
   "outputs": [],
   "source": [
    "target = test.query('Day in [5,6]').drop(['Day', 'Minute'], axis = 1)"
   ]
  },
  {
   "cell_type": "code",
   "execution_count": 195,
   "metadata": {
    "executionInfo": {
     "elapsed": 18968,
     "status": "ok",
     "timestamp": 1608808748411,
     "user": {
      "displayName": "기세현",
      "photoUrl": "",
      "userId": "06743460080794396829"
     },
     "user_tz": -540
    },
    "id": "u_xR04qf9uiu"
   },
   "outputs": [],
   "source": [
    "def pb_loss(true, pred, q) :\n",
    "    \n",
    "    L_list = []\n",
    "    \n",
    "    for i in range(len(true)) :\n",
    "        \n",
    "        if true.iloc[i] >= pred[i] :\n",
    "            L = true.iloc[i] - pred[i]\n",
    "            L *= q\n",
    "            \n",
    "        else :\n",
    "            L1 = pred[i] - true.iloc[i]\n",
    "            L2 = 1 - q\n",
    "            L = L1 * L2\n",
    "            \n",
    "        L_list.append(L)\n",
    "        \n",
    "    return np.mean(L_list)"
   ]
  },
  {
   "cell_type": "code",
   "execution_count": null,
   "metadata": {},
   "outputs": [],
   "source": [
    "import tensorflow as tf"
   ]
  },
  {
   "cell_type": "code",
   "execution_count": null,
   "metadata": {
    "executionInfo": {
     "elapsed": 20290,
     "status": "ok",
     "timestamp": 1608808749896,
     "user": {
      "displayName": "기세현",
      "photoUrl": "",
      "userId": "06743460080794396829"
     },
     "user_tz": -540
    },
    "id": "ioNNBcBl_xZX"
   },
   "outputs": [],
   "source": [
    "\n",
    "from tensorflow import keras\n",
    "from tensorflow.keras.layers import *\n",
    "from tensorflow.keras.optimizers import *\n",
    "from tensorflow.keras.callbacks import *\n",
    "from tensorflow.keras.models import load_model\n",
    "from sklearn.preprocessing import StandardScaler, MinMaxScaler"
   ]
  },
  {
   "cell_type": "code",
   "execution_count": 1,
   "metadata": {
    "executionInfo": {
     "elapsed": 20136,
     "status": "ok",
     "timestamp": 1608808749901,
     "user": {
      "displayName": "기세현",
      "photoUrl": "",
      "userId": "06743460080794396829"
     },
     "user_tz": -540
    },
    "id": "Df8lorlo_NRI"
   },
   "outputs": [],
   "source": [
    "def tilted_loss(q, y, f):\n",
    "    e = (y - f)\n",
    "    return keras.backend.mean(keras.backend.maximum(q * e, (q - 1) * e), axis=-1)"
   ]
  },
  {
   "cell_type": "code",
   "execution_count": 1,
   "metadata": {
    "executionInfo": {
     "elapsed": 19906,
     "status": "ok",
     "timestamp": 1608808749902,
     "user": {
      "displayName": "기세현",
      "photoUrl": "",
      "userId": "06743460080794396829"
     },
     "user_tz": -540
    },
    "id": "RPWQ3QglIwta"
   },
   "outputs": [
    {
     "ename": "NameError",
     "evalue": "name 'train_after_2' is not defined",
     "output_type": "error",
     "traceback": [
      "\u001b[0;31m---------------------------------------------------------------------------\u001b[0m",
      "\u001b[0;31mNameError\u001b[0m                                 Traceback (most recent call last)",
      "\u001b[0;32m<ipython-input-1-a7befbd9d4de>\u001b[0m in \u001b[0;36m<module>\u001b[0;34m\u001b[0m\n\u001b[0;32m----> 1\u001b[0;31m \u001b[0mkr_tr\u001b[0m \u001b[0;34m=\u001b[0m \u001b[0mtrain_after_2\u001b[0m\u001b[0;34m.\u001b[0m\u001b[0mcopy\u001b[0m\u001b[0;34m(\u001b[0m\u001b[0;34m)\u001b[0m\u001b[0;34m\u001b[0m\u001b[0;34m\u001b[0m\u001b[0m\n\u001b[0m\u001b[1;32m      2\u001b[0m \u001b[0mkr_te\u001b[0m \u001b[0;34m=\u001b[0m \u001b[0mtest\u001b[0m\u001b[0;34m.\u001b[0m\u001b[0mcopy\u001b[0m\u001b[0;34m(\u001b[0m\u001b[0;34m)\u001b[0m\u001b[0;34m\u001b[0m\u001b[0;34m\u001b[0m\u001b[0m\n",
      "\u001b[0;31mNameError\u001b[0m: name 'train_after_2' is not defined"
     ]
    }
   ],
   "source": [
    "kr_tr = train_after_2.copy()\n",
    "kr_te = test.copy()"
   ]
  },
  {
   "cell_type": "code",
   "execution_count": 45,
   "metadata": {
    "executionInfo": {
     "elapsed": 19529,
     "status": "ok",
     "timestamp": 1608808749902,
     "user": {
      "displayName": "기세현",
      "photoUrl": "",
      "userId": "06743460080794396829"
     },
     "user_tz": -540
    },
    "id": "_PGA2rCxhRFk"
   },
   "outputs": [],
   "source": [
    "tr_y = kr_tr.TARGET2.iloc[:int(kr_tr.shape[0] * .8)]\n",
    "val_y = kr_tr.TARGET2.iloc[int(kr_tr.shape[0] * .8):]\n",
    "\n",
    "\n",
    "tr_X = kr_tr.drop('TARGET2', axis = 1).iloc[:int(kr_tr.shape[0] * .8), :]\n",
    "val_X = kr_tr.drop('TARGET2', axis = 1).iloc[int(kr_tr.shape[0] * .8):, :]"
   ]
  },
  {
   "cell_type": "code",
   "execution_count": 46,
   "metadata": {
    "executionInfo": {
     "elapsed": 19307,
     "status": "ok",
     "timestamp": 1608808749903,
     "user": {
      "displayName": "기세현",
      "photoUrl": "",
      "userId": "06743460080794396829"
     },
     "user_tz": -540
    },
    "id": "e8mNqefKJsi8"
   },
   "outputs": [],
   "source": [
    "m = tr_X.mean()\n",
    "s = tr_X.std()"
   ]
  },
  {
   "cell_type": "code",
   "execution_count": 47,
   "metadata": {
    "executionInfo": {
     "elapsed": 18910,
     "status": "ok",
     "timestamp": 1608808749905,
     "user": {
      "displayName": "기세현",
      "photoUrl": "",
      "userId": "06743460080794396829"
     },
     "user_tz": -540
    },
    "id": "r6qz2NiFK08t"
   },
   "outputs": [],
   "source": [
    "tr_X = (tr_X - m) / s\n",
    "val_X = (val_X - m) / s"
   ]
  },
  {
   "cell_type": "code",
   "execution_count": 48,
   "metadata": {
    "executionInfo": {
     "elapsed": 18477,
     "status": "ok",
     "timestamp": 1608808749905,
     "user": {
      "displayName": "기세현",
      "photoUrl": "",
      "userId": "06743460080794396829"
     },
     "user_tz": -540
    },
    "id": "kNyniHlrhX4l"
   },
   "outputs": [],
   "source": [
    "target1 = kr_te.query('Day in [0, 1]')\n",
    "target2 = kr_te.query('Day in [1, 2]')\n",
    "target3 = kr_te.query('Day in [2, 3]')\n",
    "target4 = kr_te.query('Day in [3, 4]')\n",
    "\n",
    "for i in range(1,5) :\n",
    "  globals()[f'target{i}'].drop(['Day',  'Minute'], axis =1, inplace = True)\n",
    "  globals()[f'target{i}'] -= m\n",
    "  globals()[f'target{i}'] /= s\n",
    "  \n",
    "target_list = [target1, target2, target3, target4]\n",
    "\n",
    "target = kr_te.query('Day in [5,6]')\n",
    "target-= m\n",
    "target /= s\n",
    "target.drop(['Day', 'Minute'], axis = 1, inplace = True)"
   ]
  },
  {
   "cell_type": "code",
   "execution_count": 49,
   "metadata": {
    "colab": {
     "base_uri": "https://localhost:8080/"
    },
    "executionInfo": {
     "elapsed": 215590,
     "status": "ok",
     "timestamp": 1608808947479,
     "user": {
      "displayName": "기세현",
      "photoUrl": "",
      "userId": "06743460080794396829"
     },
     "user_tz": -540
    },
    "id": "cc40jGPjEPXe",
    "outputId": "499a8c7b-b054-4159-f60b-3c7c64d0c7a2"
   },
   "outputs": [
    {
     "name": "stdout",
     "output_type": "stream",
     "text": [
      "------------ 0.1 quantile 시작 ------------\n",
      "1 번 데이터셋 loss는 1.4454898\n",
      "2 번 데이터셋 loss는 1.4374165\n",
      "3 번 데이터셋 loss는 1.4853772\n",
      "4 번 데이터셋 loss는 1.5127006\n",
      "#### 0.1 qunatile 평균 loss는 1.470246 ####\n",
      "------------ 0.2 quantile 시작 ------------\n",
      "1 번 데이터셋 loss는 2.2725409\n",
      "2 번 데이터셋 loss는 2.3403147\n",
      "3 번 데이터셋 loss는 2.5184981\n",
      "4 번 데이터셋 loss는 2.5111061\n",
      "#### 0.2 qunatile 평균 loss는 2.4106149 ####\n",
      "------------ 0.3 quantile 시작 ------------\n",
      "1 번 데이터셋 loss는 2.7243777\n",
      "2 번 데이터셋 loss는 2.8678808\n",
      "3 번 데이터셋 loss는 3.1061486\n",
      "4 번 데이터셋 loss는 3.0629241\n",
      "#### 0.3 qunatile 평균 loss는 2.9403328 ####\n",
      "------------ 0.4 quantile 시작 ------------\n",
      "1 번 데이터셋 loss는 3.099965\n",
      "2 번 데이터셋 loss는 3.229001\n",
      "3 번 데이터셋 loss는 3.412962\n",
      "4 번 데이터셋 loss는 3.3907908\n",
      "#### 0.4 qunatile 평균 loss는 3.2831797 ####\n",
      "------------ 0.5 quantile 시작 ------------\n",
      "1 번 데이터셋 loss는 2.7856979\n",
      "2 번 데이터셋 loss는 2.9354802\n",
      "3 번 데이터셋 loss는 3.1491283\n",
      "4 번 데이터셋 loss는 3.0974676\n",
      "#### 0.5 qunatile 평균 loss는 2.9919435 ####\n",
      "------------ 0.6 quantile 시작 ------------\n",
      "1 번 데이터셋 loss는 2.7599878\n",
      "2 번 데이터셋 loss는 2.8656237\n",
      "3 번 데이터셋 loss는 3.0091416\n",
      "4 번 데이터셋 loss는 2.9911669\n",
      "#### 0.6 qunatile 평균 loss는 2.90648 ####\n",
      "------------ 0.7 quantile 시작 ------------\n",
      "1 번 데이터셋 loss는 2.3085602\n",
      "2 번 데이터셋 loss는 2.4058953\n",
      "3 번 데이터셋 loss는 2.4894586\n",
      "4 번 데이터셋 loss는 2.4647054\n",
      "#### 0.7 qunatile 평균 loss는 2.4171549 ####\n",
      "------------ 0.8 quantile 시작 ------------\n",
      "1 번 데이터셋 loss는 1.6297741\n",
      "2 번 데이터셋 loss는 1.6885992\n",
      "3 번 데이터셋 loss는 1.7579873\n",
      "4 번 데이터셋 loss는 1.7605426\n",
      "#### 0.8 qunatile 평균 loss는 1.7092258 ####\n",
      "------------ 0.9 quantile 시작 ------------\n",
      "1 번 데이터셋 loss는 0.9890598\n",
      "2 번 데이터셋 loss는 1.0336473\n",
      "3 번 데이터셋 loss는 1.0311236\n",
      "4 번 데이터셋 loss는 1.0438948\n",
      "#### 0.9 qunatile 평균 loss는 1.0244314 ####\n"
     ]
    }
   ],
   "source": [
    "for q in [.1, .2, .3, .4, .5, .6, .7, .8, .9] :\n",
    "  print(f'------------ {q} quantile 시작 ------------')\n",
    "  n = int(q * 10)\n",
    "  model = keras.Sequential([\n",
    "  Dense(32, activation='relu', input_shape=[tr_X.shape[1]]),\n",
    "  Dense(32, activation='relu'),\n",
    "  Dropout(.3, seed = 1225),\n",
    "  Dense(16, activation='relu'),\n",
    "  Dense(1)])\n",
    "  optimizer = Adam(0.0005)\n",
    "  es = EarlyStopping(monitor = 'val_loss', patience = 4, mode = 'min', restore_best_weights = True, verbose = 0)\n",
    "  mc = ModelCheckpoint(f'1218keras_{n}.h5', mode = 'min', monitor = 'val_loss', patience = 4, save_weights_only = True, verbose = 0)\n",
    "  model.compile(loss=lambda y, f: tilted_loss(q, y, f), optimizer=optimizer)\n",
    "  \n",
    "  model.fit(tr_X, tr_y, epochs=30, batch_size=32, verbose=0, validation_data = (val_X, val_y), callbacks = [es, mc])\n",
    "  model.load_weights(f'1218keras_{n}.h5')\n",
    "  pb_loss_list = []\n",
    "  for i, data in enumerate(zip(target_list, actual_list)) :\n",
    "    pred = model.predict(data[0]).reshape(-1)\n",
    "    pred = [0 if x < 0 else x for x in pred]\n",
    "    loss = pb_loss(data[1], pred, q)\n",
    "    pb_loss_list.append(loss)\n",
    "    print(f'{i + 1} 번 데이터셋 loss는 {round(loss, 7)}')\n",
    "  print(f'#### {q} qunatile 평균 loss는 {round(np.mean(pb_loss_list), 7)} ####')\n",
    "  \n",
    "  target_pred = model.predict(target).reshape(-1)\n",
    "  target_pred = [0 if x < 0 else x for x in target_pred]\n",
    "  submission[f'q_{q}'] = target_pred\n",
    "keras_submission = submission.copy()"
   ]
  },
  {
   "cell_type": "code",
   "execution_count": 50,
   "metadata": {
    "colab": {
     "base_uri": "https://localhost:8080/",
     "height": 419
    },
    "executionInfo": {
     "elapsed": 866,
     "status": "ok",
     "timestamp": 1608810217065,
     "user": {
      "displayName": "기세현",
      "photoUrl": "",
      "userId": "06743460080794396829"
     },
     "user_tz": -540
    },
    "id": "fwbxwb5WlF0W",
    "outputId": "bfc1ad85-f316-43ba-f6f0-2cbe8af93826"
   },
   "outputs": [
    {
     "data": {
      "text/html": [
       "<div>\n",
       "<style scoped>\n",
       "    .dataframe tbody tr th:only-of-type {\n",
       "        vertical-align: middle;\n",
       "    }\n",
       "\n",
       "    .dataframe tbody tr th {\n",
       "        vertical-align: top;\n",
       "    }\n",
       "\n",
       "    .dataframe thead th {\n",
       "        text-align: right;\n",
       "    }\n",
       "</style>\n",
       "<table border=\"1\" class=\"dataframe\">\n",
       "  <thead>\n",
       "    <tr style=\"text-align: right;\">\n",
       "      <th></th>\n",
       "      <th>id</th>\n",
       "      <th>q_0.1</th>\n",
       "      <th>q_0.2</th>\n",
       "      <th>q_0.3</th>\n",
       "      <th>q_0.4</th>\n",
       "      <th>q_0.5</th>\n",
       "      <th>q_0.6</th>\n",
       "      <th>q_0.7</th>\n",
       "      <th>q_0.8</th>\n",
       "      <th>q_0.9</th>\n",
       "    </tr>\n",
       "  </thead>\n",
       "  <tbody>\n",
       "    <tr>\n",
       "      <th>0</th>\n",
       "      <td>0.csv_Day7_0h00m</td>\n",
       "      <td>0.0</td>\n",
       "      <td>0.000387</td>\n",
       "      <td>0.0</td>\n",
       "      <td>0.000000</td>\n",
       "      <td>0.000244</td>\n",
       "      <td>0.000377</td>\n",
       "      <td>0.000401</td>\n",
       "      <td>0.000000</td>\n",
       "      <td>0.003499</td>\n",
       "    </tr>\n",
       "    <tr>\n",
       "      <th>1</th>\n",
       "      <td>0.csv_Day7_0h30m</td>\n",
       "      <td>0.0</td>\n",
       "      <td>0.000386</td>\n",
       "      <td>0.0</td>\n",
       "      <td>0.000000</td>\n",
       "      <td>0.000249</td>\n",
       "      <td>0.000360</td>\n",
       "      <td>0.000393</td>\n",
       "      <td>0.000000</td>\n",
       "      <td>0.003511</td>\n",
       "    </tr>\n",
       "    <tr>\n",
       "      <th>2</th>\n",
       "      <td>0.csv_Day7_1h00m</td>\n",
       "      <td>0.0</td>\n",
       "      <td>0.000384</td>\n",
       "      <td>0.0</td>\n",
       "      <td>0.000000</td>\n",
       "      <td>0.000281</td>\n",
       "      <td>0.000350</td>\n",
       "      <td>0.000353</td>\n",
       "      <td>0.000000</td>\n",
       "      <td>0.003557</td>\n",
       "    </tr>\n",
       "    <tr>\n",
       "      <th>3</th>\n",
       "      <td>0.csv_Day7_1h30m</td>\n",
       "      <td>0.0</td>\n",
       "      <td>0.000383</td>\n",
       "      <td>0.0</td>\n",
       "      <td>0.000000</td>\n",
       "      <td>0.000283</td>\n",
       "      <td>0.000337</td>\n",
       "      <td>0.000340</td>\n",
       "      <td>0.000000</td>\n",
       "      <td>0.003569</td>\n",
       "    </tr>\n",
       "    <tr>\n",
       "      <th>4</th>\n",
       "      <td>0.csv_Day7_2h00m</td>\n",
       "      <td>0.0</td>\n",
       "      <td>0.000383</td>\n",
       "      <td>0.0</td>\n",
       "      <td>0.000000</td>\n",
       "      <td>0.000320</td>\n",
       "      <td>0.000326</td>\n",
       "      <td>0.000303</td>\n",
       "      <td>0.000000</td>\n",
       "      <td>0.003612</td>\n",
       "    </tr>\n",
       "    <tr>\n",
       "      <th>...</th>\n",
       "      <td>...</td>\n",
       "      <td>...</td>\n",
       "      <td>...</td>\n",
       "      <td>...</td>\n",
       "      <td>...</td>\n",
       "      <td>...</td>\n",
       "      <td>...</td>\n",
       "      <td>...</td>\n",
       "      <td>...</td>\n",
       "      <td>...</td>\n",
       "    </tr>\n",
       "    <tr>\n",
       "      <th>7771</th>\n",
       "      <td>80.csv_Day8_21h30m</td>\n",
       "      <td>0.0</td>\n",
       "      <td>0.000000</td>\n",
       "      <td>0.0</td>\n",
       "      <td>0.001277</td>\n",
       "      <td>0.050567</td>\n",
       "      <td>0.000762</td>\n",
       "      <td>0.040811</td>\n",
       "      <td>0.000021</td>\n",
       "      <td>0.002753</td>\n",
       "    </tr>\n",
       "    <tr>\n",
       "      <th>7772</th>\n",
       "      <td>80.csv_Day8_22h00m</td>\n",
       "      <td>0.0</td>\n",
       "      <td>0.000000</td>\n",
       "      <td>0.0</td>\n",
       "      <td>0.001684</td>\n",
       "      <td>0.051521</td>\n",
       "      <td>0.000739</td>\n",
       "      <td>0.074228</td>\n",
       "      <td>0.000000</td>\n",
       "      <td>0.002777</td>\n",
       "    </tr>\n",
       "    <tr>\n",
       "      <th>7773</th>\n",
       "      <td>80.csv_Day8_22h30m</td>\n",
       "      <td>0.0</td>\n",
       "      <td>0.000000</td>\n",
       "      <td>0.0</td>\n",
       "      <td>0.001602</td>\n",
       "      <td>0.053191</td>\n",
       "      <td>0.000726</td>\n",
       "      <td>0.070835</td>\n",
       "      <td>0.000000</td>\n",
       "      <td>0.002782</td>\n",
       "    </tr>\n",
       "    <tr>\n",
       "      <th>7774</th>\n",
       "      <td>80.csv_Day8_23h00m</td>\n",
       "      <td>0.0</td>\n",
       "      <td>0.000000</td>\n",
       "      <td>0.0</td>\n",
       "      <td>0.002214</td>\n",
       "      <td>0.054900</td>\n",
       "      <td>0.000709</td>\n",
       "      <td>0.108454</td>\n",
       "      <td>0.000000</td>\n",
       "      <td>0.002779</td>\n",
       "    </tr>\n",
       "    <tr>\n",
       "      <th>7775</th>\n",
       "      <td>80.csv_Day8_23h30m</td>\n",
       "      <td>0.0</td>\n",
       "      <td>0.000000</td>\n",
       "      <td>0.0</td>\n",
       "      <td>0.002042</td>\n",
       "      <td>0.057333</td>\n",
       "      <td>0.000690</td>\n",
       "      <td>0.104044</td>\n",
       "      <td>0.000000</td>\n",
       "      <td>0.002786</td>\n",
       "    </tr>\n",
       "  </tbody>\n",
       "</table>\n",
       "<p>7776 rows × 10 columns</p>\n",
       "</div>"
      ],
      "text/plain": [
       "                      id  q_0.1     q_0.2  ...     q_0.7     q_0.8     q_0.9\n",
       "0       0.csv_Day7_0h00m    0.0  0.000387  ...  0.000401  0.000000  0.003499\n",
       "1       0.csv_Day7_0h30m    0.0  0.000386  ...  0.000393  0.000000  0.003511\n",
       "2       0.csv_Day7_1h00m    0.0  0.000384  ...  0.000353  0.000000  0.003557\n",
       "3       0.csv_Day7_1h30m    0.0  0.000383  ...  0.000340  0.000000  0.003569\n",
       "4       0.csv_Day7_2h00m    0.0  0.000383  ...  0.000303  0.000000  0.003612\n",
       "...                  ...    ...       ...  ...       ...       ...       ...\n",
       "7771  80.csv_Day8_21h30m    0.0  0.000000  ...  0.040811  0.000021  0.002753\n",
       "7772  80.csv_Day8_22h00m    0.0  0.000000  ...  0.074228  0.000000  0.002777\n",
       "7773  80.csv_Day8_22h30m    0.0  0.000000  ...  0.070835  0.000000  0.002782\n",
       "7774  80.csv_Day8_23h00m    0.0  0.000000  ...  0.108454  0.000000  0.002779\n",
       "7775  80.csv_Day8_23h30m    0.0  0.000000  ...  0.104044  0.000000  0.002786\n",
       "\n",
       "[7776 rows x 10 columns]"
      ]
     },
     "execution_count": 50,
     "metadata": {
      "tags": []
     },
     "output_type": "execute_result"
    }
   ],
   "source": [
    "keras_submission"
   ]
  },
  {
   "cell_type": "code",
   "execution_count": 51,
   "metadata": {
    "colab": {
     "base_uri": "https://localhost:8080/",
     "height": 297
    },
    "executionInfo": {
     "elapsed": 900,
     "status": "ok",
     "timestamp": 1608810226509,
     "user": {
      "displayName": "기세현",
      "photoUrl": "",
      "userId": "06743460080794396829"
     },
     "user_tz": -540
    },
    "id": "UkcZJdBRXKn_",
    "outputId": "3daa555a-d990-48ec-aa24-38684b547d49"
   },
   "outputs": [
    {
     "data": {
      "text/html": [
       "<div>\n",
       "<style scoped>\n",
       "    .dataframe tbody tr th:only-of-type {\n",
       "        vertical-align: middle;\n",
       "    }\n",
       "\n",
       "    .dataframe tbody tr th {\n",
       "        vertical-align: top;\n",
       "    }\n",
       "\n",
       "    .dataframe thead th {\n",
       "        text-align: right;\n",
       "    }\n",
       "</style>\n",
       "<table border=\"1\" class=\"dataframe\">\n",
       "  <thead>\n",
       "    <tr style=\"text-align: right;\">\n",
       "      <th></th>\n",
       "      <th>q_0.1</th>\n",
       "      <th>q_0.2</th>\n",
       "      <th>q_0.3</th>\n",
       "      <th>q_0.4</th>\n",
       "      <th>q_0.5</th>\n",
       "      <th>q_0.6</th>\n",
       "      <th>q_0.7</th>\n",
       "      <th>q_0.8</th>\n",
       "      <th>q_0.9</th>\n",
       "    </tr>\n",
       "  </thead>\n",
       "  <tbody>\n",
       "    <tr>\n",
       "      <th>count</th>\n",
       "      <td>7776.000000</td>\n",
       "      <td>7776.000000</td>\n",
       "      <td>7776.000000</td>\n",
       "      <td>7776.000000</td>\n",
       "      <td>7776.000000</td>\n",
       "      <td>7776.000000</td>\n",
       "      <td>7776.000000</td>\n",
       "      <td>7776.000000</td>\n",
       "      <td>7776.000000</td>\n",
       "    </tr>\n",
       "    <tr>\n",
       "      <th>mean</th>\n",
       "      <td>5.121180</td>\n",
       "      <td>10.537396</td>\n",
       "      <td>14.290669</td>\n",
       "      <td>14.734632</td>\n",
       "      <td>18.434736</td>\n",
       "      <td>18.728952</td>\n",
       "      <td>20.569085</td>\n",
       "      <td>22.282385</td>\n",
       "      <td>23.718448</td>\n",
       "    </tr>\n",
       "    <tr>\n",
       "      <th>std</th>\n",
       "      <td>7.375318</td>\n",
       "      <td>14.222133</td>\n",
       "      <td>19.189413</td>\n",
       "      <td>19.774506</td>\n",
       "      <td>24.278511</td>\n",
       "      <td>24.400953</td>\n",
       "      <td>26.542238</td>\n",
       "      <td>28.808002</td>\n",
       "      <td>30.549739</td>\n",
       "    </tr>\n",
       "    <tr>\n",
       "      <th>min</th>\n",
       "      <td>0.000000</td>\n",
       "      <td>0.000000</td>\n",
       "      <td>0.000000</td>\n",
       "      <td>0.000000</td>\n",
       "      <td>0.000000</td>\n",
       "      <td>0.000000</td>\n",
       "      <td>0.000000</td>\n",
       "      <td>0.000000</td>\n",
       "      <td>0.001983</td>\n",
       "    </tr>\n",
       "    <tr>\n",
       "      <th>25%</th>\n",
       "      <td>0.000000</td>\n",
       "      <td>0.000385</td>\n",
       "      <td>0.000000</td>\n",
       "      <td>0.000000</td>\n",
       "      <td>0.000761</td>\n",
       "      <td>0.000525</td>\n",
       "      <td>0.000574</td>\n",
       "      <td>0.000000</td>\n",
       "      <td>0.003390</td>\n",
       "    </tr>\n",
       "    <tr>\n",
       "      <th>50%</th>\n",
       "      <td>0.007526</td>\n",
       "      <td>0.230591</td>\n",
       "      <td>0.257867</td>\n",
       "      <td>0.154787</td>\n",
       "      <td>0.714733</td>\n",
       "      <td>0.880548</td>\n",
       "      <td>1.100038</td>\n",
       "      <td>1.618437</td>\n",
       "      <td>2.812349</td>\n",
       "    </tr>\n",
       "    <tr>\n",
       "      <th>75%</th>\n",
       "      <td>9.922492</td>\n",
       "      <td>21.228973</td>\n",
       "      <td>28.990911</td>\n",
       "      <td>29.933927</td>\n",
       "      <td>36.882538</td>\n",
       "      <td>38.418968</td>\n",
       "      <td>42.042907</td>\n",
       "      <td>44.650429</td>\n",
       "      <td>48.039791</td>\n",
       "    </tr>\n",
       "    <tr>\n",
       "      <th>max</th>\n",
       "      <td>27.466440</td>\n",
       "      <td>50.899860</td>\n",
       "      <td>67.314796</td>\n",
       "      <td>70.380058</td>\n",
       "      <td>81.682312</td>\n",
       "      <td>84.672699</td>\n",
       "      <td>90.217003</td>\n",
       "      <td>96.926773</td>\n",
       "      <td>102.868813</td>\n",
       "    </tr>\n",
       "  </tbody>\n",
       "</table>\n",
       "</div>"
      ],
      "text/plain": [
       "             q_0.1        q_0.2  ...        q_0.8        q_0.9\n",
       "count  7776.000000  7776.000000  ...  7776.000000  7776.000000\n",
       "mean      5.121180    10.537396  ...    22.282385    23.718448\n",
       "std       7.375318    14.222133  ...    28.808002    30.549739\n",
       "min       0.000000     0.000000  ...     0.000000     0.001983\n",
       "25%       0.000000     0.000385  ...     0.000000     0.003390\n",
       "50%       0.007526     0.230591  ...     1.618437     2.812349\n",
       "75%       9.922492    21.228973  ...    44.650429    48.039791\n",
       "max      27.466440    50.899860  ...    96.926773   102.868813\n",
       "\n",
       "[8 rows x 9 columns]"
      ]
     },
     "execution_count": 51,
     "metadata": {
      "tags": []
     },
     "output_type": "execute_result"
    }
   ],
   "source": [
    "keras_submission.describe()"
   ]
  },
  {
   "cell_type": "code",
   "execution_count": 196,
   "metadata": {
    "executionInfo": {
     "elapsed": 936,
     "status": "ok",
     "timestamp": 1608810230030,
     "user": {
      "displayName": "기세현",
      "photoUrl": "",
      "userId": "06743460080794396829"
     },
     "user_tz": -540
    },
    "id": "7zrmLrVLRL3o"
   },
   "outputs": [],
   "source": [
    "target1 = test.query('Day in [0, 1]')\n",
    "target2 = test.query('Day in [1, 2]')\n",
    "target3 = test.query('Day in [2, 3]')\n",
    "target4 = test.query('Day in [3, 4]')\n",
    "\n",
    "for i in range(1,5) :\n",
    "  globals()[f'target{i}'].drop(['Day',  'Minute'], axis =1, inplace = True)\n",
    "  \n",
    "target_list = [target1, target2, target3, target4]\n",
    "\n",
    "test = test.query('Day in [5,6]').drop(['Day', 'Minute'], axis = 1)"
   ]
  },
  {
   "cell_type": "code",
   "execution_count": 197,
   "metadata": {
    "executionInfo": {
     "elapsed": 1065,
     "status": "ok",
     "timestamp": 1608810236184,
     "user": {
      "displayName": "기세현",
      "photoUrl": "",
      "userId": "06743460080794396829"
     },
     "user_tz": -540
    },
    "id": "UdcrmzkHVq7I"
   },
   "outputs": [],
   "source": [
    "X = train_after_2.drop('TARGET2', axis = 1)\n",
    "y = train_after_2.TARGET2"
   ]
  },
  {
   "cell_type": "markdown",
   "metadata": {
    "id": "7LRrO3Lllpvq"
   },
   "source": [
    "# Model 1 = QuantReg "
   ]
  },
  {
   "cell_type": "markdown",
   "metadata": {
    "id": "x43oztaVkB4h"
   },
   "source": [
    "hour_mean = 2.43\n",
    "\n",
    "hour = 2.40\n",
    "\n",
    "DNI = 2.69\n",
    "\n",
    "DHI = 2.75\n",
    "\n",
    "WS = 2.40\n",
    "\n",
    "RH = 2.40\n",
    "\n",
    "T = 2.40\n",
    "\n",
    "sun_time = 2.40\n",
    "\n",
    "season = 2.40"
   ]
  },
  {
   "cell_type": "code",
   "execution_count": 206,
   "metadata": {
    "colab": {
     "base_uri": "https://localhost:8080/"
    },
    "executionInfo": {
     "elapsed": 37618,
     "status": "ok",
     "timestamp": 1608811164427,
     "user": {
      "displayName": "기세현",
      "photoUrl": "",
      "userId": "06743460080794396829"
     },
     "user_tz": -540
    },
    "id": "jXiAglMNQnCx",
    "outputId": "ee87061f-d1e8-4983-8ab3-97d6aeea78ea"
   },
   "outputs": [
    {
     "name": "stdout",
     "output_type": "stream",
     "text": [
      "--------------- 0.1 quantile 시작 ------------\n",
      "1번 데이터셋 loss는 1.4117525\n",
      "2번 데이터셋 loss는 1.403335\n",
      "3번 데이터셋 loss는 1.5176758\n",
      "4번 데이터셋 loss는 1.5656068\n",
      "###### 0.1 qunatile 평균 loss는 1.4745925 ######\n",
      "--------------- 0.2 quantile 시작 ------------\n",
      "1번 데이터셋 loss는 2.2951485\n",
      "2번 데이터셋 loss는 2.3551185\n",
      "3번 데이터셋 loss는 2.6370096\n",
      "4번 데이터셋 loss는 2.7112212\n",
      "###### 0.2 qunatile 평균 loss는 2.4996245 ######\n",
      "--------------- 0.3 quantile 시작 ------------\n",
      "1번 데이터셋 loss는 2.8071098\n",
      "2번 데이터셋 loss는 2.957528\n",
      "3번 데이터셋 loss는 3.2820768\n",
      "4번 데이터셋 loss는 3.3410175\n",
      "###### 0.3 qunatile 평균 loss는 3.096933 ######\n",
      "--------------- 0.4 quantile 시작 ------------\n",
      "1번 데이터셋 loss는 2.9958935\n",
      "2번 데이터셋 loss는 3.1743005\n",
      "3번 데이터셋 loss는 3.4746152\n",
      "4번 데이터셋 loss는 3.5230196\n",
      "###### 0.4 qunatile 평균 loss는 3.2919572 ######\n",
      "--------------- 0.5 quantile 시작 ------------\n",
      "1번 데이터셋 loss는 2.902615\n",
      "2번 데이터셋 loss는 3.0865399\n",
      "3번 데이터셋 loss는 3.3445208\n",
      "4번 데이터셋 loss는 3.4036034\n",
      "###### 0.5 qunatile 평균 loss는 3.1843198 ######\n",
      "--------------- 0.6 quantile 시작 ------------\n",
      "1번 데이터셋 loss는 2.6002275\n",
      "2번 데이터셋 loss는 2.7676385\n",
      "3번 데이터셋 loss는 2.9867965\n",
      "4번 데이터셋 loss는 3.0615302\n",
      "###### 0.6 qunatile 평균 loss는 2.8540482 ######\n",
      "--------------- 0.7 quantile 시작 ------------\n",
      "1번 데이터셋 loss는 2.1824658\n",
      "2번 데이터셋 loss는 2.3188235\n",
      "3번 데이터셋 loss는 2.4911941\n",
      "4번 데이터셋 loss는 2.5846559\n",
      "###### 0.7 qunatile 평균 loss는 2.3942848 ######\n",
      "--------------- 0.8 quantile 시작 ------------\n",
      "1번 데이터셋 loss는 1.6506829\n",
      "2번 데이터셋 loss는 1.7576835\n",
      "3번 데이터셋 loss는 1.878238\n",
      "4번 데이터셋 loss는 1.9627227\n",
      "###### 0.8 qunatile 평균 loss는 1.8123317 ######\n",
      "--------------- 0.9 quantile 시작 ------------\n",
      "1번 데이터셋 loss는 0.9835732\n",
      "2번 데이터셋 loss는 1.0439015\n",
      "3번 데이터셋 loss는 1.0944439\n",
      "4번 데이터셋 loss는 1.1476087\n",
      "###### 0.9 qunatile 평균 loss는 1.0673819 ######\n",
      "전체 평균 loss는 2.408386\n"
     ]
    }
   ],
   "source": [
    "total_loss = []\n",
    "for qt in [.1, .2, .3, .4, .5, .6, .7, .8, .9] :\n",
    "  print(f'--------------- {qt} quantile 시작 ------------')\n",
    "  pb_loss_list = []\n",
    "  for i, data in enumerate(zip(target_list, actual_list)) :\n",
    "  \n",
    "    quantreg = sm.QuantReg(y, X)\n",
    "    pred = [0 if x < 0 else x for x in quantreg.fit(qt).predict(data[0])]\n",
    "\n",
    "    loss = pb_loss(data[1], pred, qt)\n",
    "    pb_loss_list.append(loss)\n",
    "    print(f'{i + 1}번 데이터셋 loss는 {round(loss, 7)}')\n",
    "    total_loss.append(loss)\n",
    "  print(f'###### {qt} qunatile 평균 loss는 {round(np.mean(pb_loss_list), 7)} ######')\n",
    "\n",
    "  target_pred = [0 if x < 0 else x for x in quantreg.fit(qt).predict(target)]\n",
    "  submission[f'q_{qt}'] = target_pred\n",
    "  quantreg_submission = submission.copy()\n",
    "print(f'전체 평균 loss는 {round(np.mean(total_loss), 7)}')"
   ]
  },
  {
   "cell_type": "code",
   "execution_count": 207,
   "metadata": {
    "colab": {
     "base_uri": "https://localhost:8080/",
     "height": 419
    },
    "executionInfo": {
     "elapsed": 1120,
     "status": "ok",
     "timestamp": 1608789026840,
     "user": {
      "displayName": "기세현",
      "photoUrl": "",
      "userId": "06743460080794396829"
     },
     "user_tz": -540
    },
    "id": "kkZ9zYkjbNPX",
    "outputId": "a38017c4-4689-4499-c457-e71d3f4a8db3",
    "scrolled": true
   },
   "outputs": [
    {
     "data": {
      "text/html": [
       "<div>\n",
       "<style scoped>\n",
       "    .dataframe tbody tr th:only-of-type {\n",
       "        vertical-align: middle;\n",
       "    }\n",
       "\n",
       "    .dataframe tbody tr th {\n",
       "        vertical-align: top;\n",
       "    }\n",
       "\n",
       "    .dataframe thead th {\n",
       "        text-align: right;\n",
       "    }\n",
       "</style>\n",
       "<table border=\"1\" class=\"dataframe\">\n",
       "  <thead>\n",
       "    <tr style=\"text-align: right;\">\n",
       "      <th></th>\n",
       "      <th>id</th>\n",
       "      <th>q_0.1</th>\n",
       "      <th>q_0.2</th>\n",
       "      <th>q_0.3</th>\n",
       "      <th>q_0.4</th>\n",
       "      <th>q_0.5</th>\n",
       "      <th>q_0.6</th>\n",
       "      <th>q_0.7</th>\n",
       "      <th>q_0.8</th>\n",
       "      <th>q_0.9</th>\n",
       "    </tr>\n",
       "  </thead>\n",
       "  <tbody>\n",
       "    <tr>\n",
       "      <th>0</th>\n",
       "      <td>0.csv_Day7_0h00m</td>\n",
       "      <td>0.0</td>\n",
       "      <td>0.0</td>\n",
       "      <td>0.0</td>\n",
       "      <td>0.0</td>\n",
       "      <td>0.0</td>\n",
       "      <td>0.0</td>\n",
       "      <td>0.000000e+00</td>\n",
       "      <td>0.000000e+00</td>\n",
       "      <td>8.933914e-10</td>\n",
       "    </tr>\n",
       "    <tr>\n",
       "      <th>1</th>\n",
       "      <td>0.csv_Day7_0h30m</td>\n",
       "      <td>0.0</td>\n",
       "      <td>0.0</td>\n",
       "      <td>0.0</td>\n",
       "      <td>0.0</td>\n",
       "      <td>0.0</td>\n",
       "      <td>0.0</td>\n",
       "      <td>0.000000e+00</td>\n",
       "      <td>0.000000e+00</td>\n",
       "      <td>0.000000e+00</td>\n",
       "    </tr>\n",
       "    <tr>\n",
       "      <th>2</th>\n",
       "      <td>0.csv_Day7_1h00m</td>\n",
       "      <td>0.0</td>\n",
       "      <td>0.0</td>\n",
       "      <td>0.0</td>\n",
       "      <td>0.0</td>\n",
       "      <td>0.0</td>\n",
       "      <td>0.0</td>\n",
       "      <td>0.000000e+00</td>\n",
       "      <td>0.000000e+00</td>\n",
       "      <td>0.000000e+00</td>\n",
       "    </tr>\n",
       "    <tr>\n",
       "      <th>3</th>\n",
       "      <td>0.csv_Day7_1h30m</td>\n",
       "      <td>0.0</td>\n",
       "      <td>0.0</td>\n",
       "      <td>0.0</td>\n",
       "      <td>0.0</td>\n",
       "      <td>0.0</td>\n",
       "      <td>0.0</td>\n",
       "      <td>0.000000e+00</td>\n",
       "      <td>0.000000e+00</td>\n",
       "      <td>0.000000e+00</td>\n",
       "    </tr>\n",
       "    <tr>\n",
       "      <th>4</th>\n",
       "      <td>0.csv_Day7_2h00m</td>\n",
       "      <td>0.0</td>\n",
       "      <td>0.0</td>\n",
       "      <td>0.0</td>\n",
       "      <td>0.0</td>\n",
       "      <td>0.0</td>\n",
       "      <td>0.0</td>\n",
       "      <td>0.000000e+00</td>\n",
       "      <td>0.000000e+00</td>\n",
       "      <td>0.000000e+00</td>\n",
       "    </tr>\n",
       "    <tr>\n",
       "      <th>...</th>\n",
       "      <td>...</td>\n",
       "      <td>...</td>\n",
       "      <td>...</td>\n",
       "      <td>...</td>\n",
       "      <td>...</td>\n",
       "      <td>...</td>\n",
       "      <td>...</td>\n",
       "      <td>...</td>\n",
       "      <td>...</td>\n",
       "      <td>...</td>\n",
       "    </tr>\n",
       "    <tr>\n",
       "      <th>7771</th>\n",
       "      <td>80.csv_Day8_21h30m</td>\n",
       "      <td>0.0</td>\n",
       "      <td>0.0</td>\n",
       "      <td>0.0</td>\n",
       "      <td>0.0</td>\n",
       "      <td>0.0</td>\n",
       "      <td>0.0</td>\n",
       "      <td>3.182957e-08</td>\n",
       "      <td>2.390506e-07</td>\n",
       "      <td>5.989225e-07</td>\n",
       "    </tr>\n",
       "    <tr>\n",
       "      <th>7772</th>\n",
       "      <td>80.csv_Day8_22h00m</td>\n",
       "      <td>0.0</td>\n",
       "      <td>0.0</td>\n",
       "      <td>0.0</td>\n",
       "      <td>0.0</td>\n",
       "      <td>0.0</td>\n",
       "      <td>0.0</td>\n",
       "      <td>6.986087e-09</td>\n",
       "      <td>2.158707e-07</td>\n",
       "      <td>5.799263e-07</td>\n",
       "    </tr>\n",
       "    <tr>\n",
       "      <th>7773</th>\n",
       "      <td>80.csv_Day8_22h30m</td>\n",
       "      <td>0.0</td>\n",
       "      <td>0.0</td>\n",
       "      <td>0.0</td>\n",
       "      <td>0.0</td>\n",
       "      <td>0.0</td>\n",
       "      <td>0.0</td>\n",
       "      <td>0.000000e+00</td>\n",
       "      <td>2.054124e-07</td>\n",
       "      <td>5.701066e-07</td>\n",
       "    </tr>\n",
       "    <tr>\n",
       "      <th>7774</th>\n",
       "      <td>80.csv_Day8_23h00m</td>\n",
       "      <td>0.0</td>\n",
       "      <td>0.0</td>\n",
       "      <td>0.0</td>\n",
       "      <td>0.0</td>\n",
       "      <td>0.0</td>\n",
       "      <td>0.0</td>\n",
       "      <td>0.000000e+00</td>\n",
       "      <td>1.850926e-07</td>\n",
       "      <td>5.532880e-07</td>\n",
       "    </tr>\n",
       "    <tr>\n",
       "      <th>7775</th>\n",
       "      <td>80.csv_Day8_23h30m</td>\n",
       "      <td>0.0</td>\n",
       "      <td>0.0</td>\n",
       "      <td>0.0</td>\n",
       "      <td>0.0</td>\n",
       "      <td>0.0</td>\n",
       "      <td>0.0</td>\n",
       "      <td>0.000000e+00</td>\n",
       "      <td>1.707312e-07</td>\n",
       "      <td>5.397560e-07</td>\n",
       "    </tr>\n",
       "  </tbody>\n",
       "</table>\n",
       "<p>7776 rows × 10 columns</p>\n",
       "</div>"
      ],
      "text/plain": [
       "                      id  q_0.1  q_0.2  q_0.3  q_0.4  q_0.5  q_0.6  \\\n",
       "0       0.csv_Day7_0h00m    0.0    0.0    0.0    0.0    0.0    0.0   \n",
       "1       0.csv_Day7_0h30m    0.0    0.0    0.0    0.0    0.0    0.0   \n",
       "2       0.csv_Day7_1h00m    0.0    0.0    0.0    0.0    0.0    0.0   \n",
       "3       0.csv_Day7_1h30m    0.0    0.0    0.0    0.0    0.0    0.0   \n",
       "4       0.csv_Day7_2h00m    0.0    0.0    0.0    0.0    0.0    0.0   \n",
       "...                  ...    ...    ...    ...    ...    ...    ...   \n",
       "7771  80.csv_Day8_21h30m    0.0    0.0    0.0    0.0    0.0    0.0   \n",
       "7772  80.csv_Day8_22h00m    0.0    0.0    0.0    0.0    0.0    0.0   \n",
       "7773  80.csv_Day8_22h30m    0.0    0.0    0.0    0.0    0.0    0.0   \n",
       "7774  80.csv_Day8_23h00m    0.0    0.0    0.0    0.0    0.0    0.0   \n",
       "7775  80.csv_Day8_23h30m    0.0    0.0    0.0    0.0    0.0    0.0   \n",
       "\n",
       "             q_0.7         q_0.8         q_0.9  \n",
       "0     0.000000e+00  0.000000e+00  8.933914e-10  \n",
       "1     0.000000e+00  0.000000e+00  0.000000e+00  \n",
       "2     0.000000e+00  0.000000e+00  0.000000e+00  \n",
       "3     0.000000e+00  0.000000e+00  0.000000e+00  \n",
       "4     0.000000e+00  0.000000e+00  0.000000e+00  \n",
       "...            ...           ...           ...  \n",
       "7771  3.182957e-08  2.390506e-07  5.989225e-07  \n",
       "7772  6.986087e-09  2.158707e-07  5.799263e-07  \n",
       "7773  0.000000e+00  2.054124e-07  5.701066e-07  \n",
       "7774  0.000000e+00  1.850926e-07  5.532880e-07  \n",
       "7775  0.000000e+00  1.707312e-07  5.397560e-07  \n",
       "\n",
       "[7776 rows x 10 columns]"
      ]
     },
     "execution_count": 207,
     "metadata": {},
     "output_type": "execute_result"
    }
   ],
   "source": [
    "quantreg_submission"
   ]
  },
  {
   "cell_type": "code",
   "execution_count": 208,
   "metadata": {},
   "outputs": [
    {
     "data": {
      "text/html": [
       "<div>\n",
       "<style scoped>\n",
       "    .dataframe tbody tr th:only-of-type {\n",
       "        vertical-align: middle;\n",
       "    }\n",
       "\n",
       "    .dataframe tbody tr th {\n",
       "        vertical-align: top;\n",
       "    }\n",
       "\n",
       "    .dataframe thead th {\n",
       "        text-align: right;\n",
       "    }\n",
       "</style>\n",
       "<table border=\"1\" class=\"dataframe\">\n",
       "  <thead>\n",
       "    <tr style=\"text-align: right;\">\n",
       "      <th></th>\n",
       "      <th>q_0.1</th>\n",
       "      <th>q_0.2</th>\n",
       "      <th>q_0.3</th>\n",
       "      <th>q_0.4</th>\n",
       "      <th>q_0.5</th>\n",
       "      <th>q_0.6</th>\n",
       "      <th>q_0.7</th>\n",
       "      <th>q_0.8</th>\n",
       "      <th>q_0.9</th>\n",
       "    </tr>\n",
       "  </thead>\n",
       "  <tbody>\n",
       "    <tr>\n",
       "      <th>count</th>\n",
       "      <td>7776.000000</td>\n",
       "      <td>7776.000000</td>\n",
       "      <td>7776.000000</td>\n",
       "      <td>7776.000000</td>\n",
       "      <td>7776.000000</td>\n",
       "      <td>7776.000000</td>\n",
       "      <td>7.776000e+03</td>\n",
       "      <td>7.776000e+03</td>\n",
       "      <td>7.776000e+03</td>\n",
       "    </tr>\n",
       "    <tr>\n",
       "      <th>mean</th>\n",
       "      <td>5.581263</td>\n",
       "      <td>10.289478</td>\n",
       "      <td>14.422189</td>\n",
       "      <td>17.364563</td>\n",
       "      <td>19.600782</td>\n",
       "      <td>21.049615</td>\n",
       "      <td>2.207414e+01</td>\n",
       "      <td>2.330599e+01</td>\n",
       "      <td>2.531716e+01</td>\n",
       "    </tr>\n",
       "    <tr>\n",
       "      <th>std</th>\n",
       "      <td>7.946980</td>\n",
       "      <td>14.275356</td>\n",
       "      <td>19.427662</td>\n",
       "      <td>22.798324</td>\n",
       "      <td>25.406041</td>\n",
       "      <td>26.862925</td>\n",
       "      <td>2.775903e+01</td>\n",
       "      <td>2.883613e+01</td>\n",
       "      <td>3.068008e+01</td>\n",
       "    </tr>\n",
       "    <tr>\n",
       "      <th>min</th>\n",
       "      <td>0.000000</td>\n",
       "      <td>0.000000</td>\n",
       "      <td>0.000000</td>\n",
       "      <td>0.000000</td>\n",
       "      <td>0.000000</td>\n",
       "      <td>0.000000</td>\n",
       "      <td>0.000000e+00</td>\n",
       "      <td>0.000000e+00</td>\n",
       "      <td>0.000000e+00</td>\n",
       "    </tr>\n",
       "    <tr>\n",
       "      <th>25%</th>\n",
       "      <td>0.000000</td>\n",
       "      <td>0.000000</td>\n",
       "      <td>0.000000</td>\n",
       "      <td>0.000000</td>\n",
       "      <td>0.000000</td>\n",
       "      <td>0.000000</td>\n",
       "      <td>7.586210e-08</td>\n",
       "      <td>2.429829e-07</td>\n",
       "      <td>5.713641e-07</td>\n",
       "    </tr>\n",
       "    <tr>\n",
       "      <th>50%</th>\n",
       "      <td>0.246450</td>\n",
       "      <td>0.775603</td>\n",
       "      <td>1.265730</td>\n",
       "      <td>1.604203</td>\n",
       "      <td>1.496617</td>\n",
       "      <td>1.463237</td>\n",
       "      <td>1.615557e+00</td>\n",
       "      <td>1.914040e+00</td>\n",
       "      <td>2.968481e+00</td>\n",
       "    </tr>\n",
       "    <tr>\n",
       "      <th>75%</th>\n",
       "      <td>9.735114</td>\n",
       "      <td>18.068794</td>\n",
       "      <td>25.812275</td>\n",
       "      <td>31.515442</td>\n",
       "      <td>36.054140</td>\n",
       "      <td>40.100576</td>\n",
       "      <td>4.366898e+01</td>\n",
       "      <td>4.713623e+01</td>\n",
       "      <td>5.210444e+01</td>\n",
       "    </tr>\n",
       "    <tr>\n",
       "      <th>max</th>\n",
       "      <td>29.996323</td>\n",
       "      <td>53.349855</td>\n",
       "      <td>71.514149</td>\n",
       "      <td>82.331366</td>\n",
       "      <td>90.473455</td>\n",
       "      <td>94.072908</td>\n",
       "      <td>9.651705e+01</td>\n",
       "      <td>9.950209e+01</td>\n",
       "      <td>1.048786e+02</td>\n",
       "    </tr>\n",
       "  </tbody>\n",
       "</table>\n",
       "</div>"
      ],
      "text/plain": [
       "             q_0.1        q_0.2        q_0.3        q_0.4        q_0.5  \\\n",
       "count  7776.000000  7776.000000  7776.000000  7776.000000  7776.000000   \n",
       "mean      5.581263    10.289478    14.422189    17.364563    19.600782   \n",
       "std       7.946980    14.275356    19.427662    22.798324    25.406041   \n",
       "min       0.000000     0.000000     0.000000     0.000000     0.000000   \n",
       "25%       0.000000     0.000000     0.000000     0.000000     0.000000   \n",
       "50%       0.246450     0.775603     1.265730     1.604203     1.496617   \n",
       "75%       9.735114    18.068794    25.812275    31.515442    36.054140   \n",
       "max      29.996323    53.349855    71.514149    82.331366    90.473455   \n",
       "\n",
       "             q_0.6         q_0.7         q_0.8         q_0.9  \n",
       "count  7776.000000  7.776000e+03  7.776000e+03  7.776000e+03  \n",
       "mean     21.049615  2.207414e+01  2.330599e+01  2.531716e+01  \n",
       "std      26.862925  2.775903e+01  2.883613e+01  3.068008e+01  \n",
       "min       0.000000  0.000000e+00  0.000000e+00  0.000000e+00  \n",
       "25%       0.000000  7.586210e-08  2.429829e-07  5.713641e-07  \n",
       "50%       1.463237  1.615557e+00  1.914040e+00  2.968481e+00  \n",
       "75%      40.100576  4.366898e+01  4.713623e+01  5.210444e+01  \n",
       "max      94.072908  9.651705e+01  9.950209e+01  1.048786e+02  "
      ]
     },
     "execution_count": 208,
     "metadata": {},
     "output_type": "execute_result"
    }
   ],
   "source": [
    "quantreg_submission.describe()"
   ]
  },
  {
   "cell_type": "markdown",
   "metadata": {
    "id": "3ooy5Q6Mn6fa"
   },
   "source": [
    "DNI = 2.46\n",
    "\n",
    "DHI = 2.4630167\n",
    "\n",
    "Hour = 2.457\n",
    "\n",
    "WS = 2.436\n",
    "\n",
    "RH = "
   ]
  },
  {
   "cell_type": "code",
   "execution_count": 202,
   "metadata": {
    "colab": {
     "base_uri": "https://localhost:8080/"
    },
    "executionInfo": {
     "elapsed": 197150,
     "status": "ok",
     "timestamp": 1608812738294,
     "user": {
      "displayName": "기세현",
      "photoUrl": "",
      "userId": "06743460080794396829"
     },
     "user_tz": -540
    },
    "id": "YwNfTI9qTJan",
    "outputId": "d29db681-1d24-4436-8d58-a1be83fd9942"
   },
   "outputs": [
    {
     "name": "stdout",
     "output_type": "stream",
     "text": [
      "------------ 0.1 quantile 시작 ------------\n",
      "1번 데이터셋 loss는 1.4705056\n",
      "2번 데이터셋 loss는 1.4605348\n",
      "3번 데이터셋 loss는 1.5597363\n",
      "4번 데이터셋 loss는 1.5689183\n",
      "#### 0.1 qunatile 평균 loss는 1.5149238 ####\n",
      "------------ 0.2 quantile 시작 ------------\n",
      "1번 데이터셋 loss는 2.3350841\n",
      "2번 데이터셋 loss는 2.3914747\n",
      "3번 데이터셋 loss는 2.6326922\n",
      "4번 데이터셋 loss는 2.63361\n",
      "#### 0.2 qunatile 평균 loss는 2.4982153 ####\n",
      "------------ 0.3 quantile 시작 ------------\n",
      "1번 데이터셋 loss는 2.7321365\n",
      "2번 데이터셋 loss는 2.8649077\n",
      "3번 데이터셋 loss는 3.1570535\n",
      "4번 데이터셋 loss는 3.14564\n",
      "#### 0.3 qunatile 평균 loss는 2.9749344 ####\n",
      "------------ 0.4 quantile 시작 ------------\n",
      "1번 데이터셋 loss는 2.8386117\n",
      "2번 데이터셋 loss는 3.0139934\n",
      "3번 데이터셋 loss는 3.301449\n",
      "4번 데이터셋 loss는 3.2837675\n",
      "#### 0.4 qunatile 평균 loss는 3.1094554 ####\n",
      "------------ 0.5 quantile 시작 ------------\n",
      "1번 데이터셋 loss는 2.734146\n",
      "2번 데이터셋 loss는 2.9202376\n",
      "3번 데이터셋 loss는 3.1837903\n",
      "4번 데이터셋 loss는 3.1786833\n",
      "#### 0.5 qunatile 평균 loss는 3.0042143 ####\n",
      "------------ 0.6 quantile 시작 ------------\n",
      "1번 데이터셋 loss는 2.4449722\n",
      "2번 데이터셋 loss는 2.6301667\n",
      "3번 데이터셋 loss는 2.8444238\n",
      "4번 데이터셋 loss는 2.8500767\n",
      "#### 0.6 qunatile 평균 loss는 2.6924098 ####\n",
      "------------ 0.7 quantile 시작 ------------\n",
      "1번 데이터셋 loss는 2.0701753\n",
      "2번 데이터셋 loss는 2.2093374\n",
      "3번 데이터셋 loss는 2.3637055\n",
      "4번 데이터셋 loss는 2.3714498\n",
      "#### 0.7 qunatile 평균 loss는 2.253667 ####\n",
      "------------ 0.8 quantile 시작 ------------\n",
      "1번 데이터셋 loss는 1.5669428\n",
      "2번 데이터셋 loss는 1.6703684\n",
      "3번 데이터셋 loss는 1.7808595\n",
      "4번 데이터셋 loss는 1.8141944\n",
      "#### 0.8 qunatile 평균 loss는 1.7080913 ####\n",
      "------------ 0.9 quantile 시작 ------------\n",
      "1번 데이터셋 loss는 0.9552539\n",
      "2번 데이터셋 loss는 0.9964895\n",
      "3번 데이터셋 loss는 1.0369033\n",
      "4번 데이터셋 loss는 1.0760219\n",
      "#### 0.9 qunatile 평균 loss는 1.0161672 ####\n",
      "전체 평균 loss는 2.3080087\n"
     ]
    }
   ],
   "source": [
    "total_loss = []\n",
    "for qt in [.1, .2, .3, .4, .5, .6, .7, .8, .9] :\n",
    "  print(f'------------ {qt} quantile 시작 ------------')\n",
    "  pb_loss_list = []\n",
    "  for i, data in enumerate(zip(target_list, actual_list)) :\n",
    "    \n",
    "  \n",
    "    gbm = GradientBoostingRegressor(random_state = 1225, loss = 'quantile', alpha = qt)\n",
    "    gbm.fit(X, y)\n",
    "    pred = gbm.predict(data[0])\n",
    "\n",
    "    loss = pb_loss(data[1], pred, qt)\n",
    "    pb_loss_list.append(loss)\n",
    "    total_loss.append(loss)\n",
    "    print(f'{i + 1}번 데이터셋 loss는 {round(loss, 7)}')\n",
    "  print(f'#### {qt} qunatile 평균 loss는 {round(np.mean(pb_loss_list), 7)} ####')\n",
    "\n",
    "  gbm_pred = gbm.predict(target)\n",
    "  submission[f'q_{qt}'] = gbm_pred\n",
    "gbm_submission = submission.copy()\n",
    "print(f'전체 평균 loss는 {round(np.mean(total_loss), 7)}')"
   ]
  },
  {
   "cell_type": "code",
   "execution_count": 204,
   "metadata": {
    "colab": {
     "base_uri": "https://localhost:8080/",
     "height": 419
    },
    "executionInfo": {
     "elapsed": 274697,
     "status": "ok",
     "timestamp": 1608789374313,
     "user": {
      "displayName": "기세현",
      "photoUrl": "",
      "userId": "06743460080794396829"
     },
     "user_tz": -540
    },
    "id": "l2bwd7p5XInR",
    "outputId": "2d1a6491-7ebc-477c-d278-ff4a1506ea0c"
   },
   "outputs": [
    {
     "data": {
      "text/html": [
       "<div>\n",
       "<style scoped>\n",
       "    .dataframe tbody tr th:only-of-type {\n",
       "        vertical-align: middle;\n",
       "    }\n",
       "\n",
       "    .dataframe tbody tr th {\n",
       "        vertical-align: top;\n",
       "    }\n",
       "\n",
       "    .dataframe thead th {\n",
       "        text-align: right;\n",
       "    }\n",
       "</style>\n",
       "<table border=\"1\" class=\"dataframe\">\n",
       "  <thead>\n",
       "    <tr style=\"text-align: right;\">\n",
       "      <th></th>\n",
       "      <th>id</th>\n",
       "      <th>q_0.1</th>\n",
       "      <th>q_0.2</th>\n",
       "      <th>q_0.3</th>\n",
       "      <th>q_0.4</th>\n",
       "      <th>q_0.5</th>\n",
       "      <th>q_0.6</th>\n",
       "      <th>q_0.7</th>\n",
       "      <th>q_0.8</th>\n",
       "      <th>q_0.9</th>\n",
       "    </tr>\n",
       "  </thead>\n",
       "  <tbody>\n",
       "    <tr>\n",
       "      <th>0</th>\n",
       "      <td>0.csv_Day7_0h00m</td>\n",
       "      <td>0.0</td>\n",
       "      <td>0.0</td>\n",
       "      <td>0.0</td>\n",
       "      <td>0.0</td>\n",
       "      <td>0.0</td>\n",
       "      <td>0.000237</td>\n",
       "      <td>0.000621</td>\n",
       "      <td>0.001104</td>\n",
       "      <td>0.00228</td>\n",
       "    </tr>\n",
       "    <tr>\n",
       "      <th>1</th>\n",
       "      <td>0.csv_Day7_0h30m</td>\n",
       "      <td>0.0</td>\n",
       "      <td>0.0</td>\n",
       "      <td>0.0</td>\n",
       "      <td>0.0</td>\n",
       "      <td>0.0</td>\n",
       "      <td>0.000237</td>\n",
       "      <td>0.000621</td>\n",
       "      <td>0.001104</td>\n",
       "      <td>0.00228</td>\n",
       "    </tr>\n",
       "    <tr>\n",
       "      <th>2</th>\n",
       "      <td>0.csv_Day7_1h00m</td>\n",
       "      <td>0.0</td>\n",
       "      <td>0.0</td>\n",
       "      <td>0.0</td>\n",
       "      <td>0.0</td>\n",
       "      <td>0.0</td>\n",
       "      <td>0.000237</td>\n",
       "      <td>0.000621</td>\n",
       "      <td>0.001104</td>\n",
       "      <td>0.00228</td>\n",
       "    </tr>\n",
       "    <tr>\n",
       "      <th>3</th>\n",
       "      <td>0.csv_Day7_1h30m</td>\n",
       "      <td>0.0</td>\n",
       "      <td>0.0</td>\n",
       "      <td>0.0</td>\n",
       "      <td>0.0</td>\n",
       "      <td>0.0</td>\n",
       "      <td>0.000237</td>\n",
       "      <td>0.000621</td>\n",
       "      <td>0.001104</td>\n",
       "      <td>0.00228</td>\n",
       "    </tr>\n",
       "    <tr>\n",
       "      <th>4</th>\n",
       "      <td>0.csv_Day7_2h00m</td>\n",
       "      <td>0.0</td>\n",
       "      <td>0.0</td>\n",
       "      <td>0.0</td>\n",
       "      <td>0.0</td>\n",
       "      <td>0.0</td>\n",
       "      <td>0.000237</td>\n",
       "      <td>0.000621</td>\n",
       "      <td>0.001104</td>\n",
       "      <td>0.00228</td>\n",
       "    </tr>\n",
       "    <tr>\n",
       "      <th>...</th>\n",
       "      <td>...</td>\n",
       "      <td>...</td>\n",
       "      <td>...</td>\n",
       "      <td>...</td>\n",
       "      <td>...</td>\n",
       "      <td>...</td>\n",
       "      <td>...</td>\n",
       "      <td>...</td>\n",
       "      <td>...</td>\n",
       "      <td>...</td>\n",
       "    </tr>\n",
       "    <tr>\n",
       "      <th>7771</th>\n",
       "      <td>80.csv_Day8_21h30m</td>\n",
       "      <td>0.0</td>\n",
       "      <td>0.0</td>\n",
       "      <td>0.0</td>\n",
       "      <td>0.0</td>\n",
       "      <td>0.0</td>\n",
       "      <td>0.000237</td>\n",
       "      <td>0.000621</td>\n",
       "      <td>0.001104</td>\n",
       "      <td>0.00228</td>\n",
       "    </tr>\n",
       "    <tr>\n",
       "      <th>7772</th>\n",
       "      <td>80.csv_Day8_22h00m</td>\n",
       "      <td>0.0</td>\n",
       "      <td>0.0</td>\n",
       "      <td>0.0</td>\n",
       "      <td>0.0</td>\n",
       "      <td>0.0</td>\n",
       "      <td>0.000237</td>\n",
       "      <td>0.000621</td>\n",
       "      <td>0.001104</td>\n",
       "      <td>0.00228</td>\n",
       "    </tr>\n",
       "    <tr>\n",
       "      <th>7773</th>\n",
       "      <td>80.csv_Day8_22h30m</td>\n",
       "      <td>0.0</td>\n",
       "      <td>0.0</td>\n",
       "      <td>0.0</td>\n",
       "      <td>0.0</td>\n",
       "      <td>0.0</td>\n",
       "      <td>0.000237</td>\n",
       "      <td>0.000621</td>\n",
       "      <td>0.001104</td>\n",
       "      <td>0.00228</td>\n",
       "    </tr>\n",
       "    <tr>\n",
       "      <th>7774</th>\n",
       "      <td>80.csv_Day8_23h00m</td>\n",
       "      <td>0.0</td>\n",
       "      <td>0.0</td>\n",
       "      <td>0.0</td>\n",
       "      <td>0.0</td>\n",
       "      <td>0.0</td>\n",
       "      <td>0.000237</td>\n",
       "      <td>0.000621</td>\n",
       "      <td>0.001104</td>\n",
       "      <td>0.00228</td>\n",
       "    </tr>\n",
       "    <tr>\n",
       "      <th>7775</th>\n",
       "      <td>80.csv_Day8_23h30m</td>\n",
       "      <td>0.0</td>\n",
       "      <td>0.0</td>\n",
       "      <td>0.0</td>\n",
       "      <td>0.0</td>\n",
       "      <td>0.0</td>\n",
       "      <td>0.000237</td>\n",
       "      <td>0.000621</td>\n",
       "      <td>0.001104</td>\n",
       "      <td>0.00228</td>\n",
       "    </tr>\n",
       "  </tbody>\n",
       "</table>\n",
       "<p>7776 rows × 10 columns</p>\n",
       "</div>"
      ],
      "text/plain": [
       "                      id  q_0.1  q_0.2  q_0.3  q_0.4  q_0.5     q_0.6  \\\n",
       "0       0.csv_Day7_0h00m    0.0    0.0    0.0    0.0    0.0  0.000237   \n",
       "1       0.csv_Day7_0h30m    0.0    0.0    0.0    0.0    0.0  0.000237   \n",
       "2       0.csv_Day7_1h00m    0.0    0.0    0.0    0.0    0.0  0.000237   \n",
       "3       0.csv_Day7_1h30m    0.0    0.0    0.0    0.0    0.0  0.000237   \n",
       "4       0.csv_Day7_2h00m    0.0    0.0    0.0    0.0    0.0  0.000237   \n",
       "...                  ...    ...    ...    ...    ...    ...       ...   \n",
       "7771  80.csv_Day8_21h30m    0.0    0.0    0.0    0.0    0.0  0.000237   \n",
       "7772  80.csv_Day8_22h00m    0.0    0.0    0.0    0.0    0.0  0.000237   \n",
       "7773  80.csv_Day8_22h30m    0.0    0.0    0.0    0.0    0.0  0.000237   \n",
       "7774  80.csv_Day8_23h00m    0.0    0.0    0.0    0.0    0.0  0.000237   \n",
       "7775  80.csv_Day8_23h30m    0.0    0.0    0.0    0.0    0.0  0.000237   \n",
       "\n",
       "         q_0.7     q_0.8    q_0.9  \n",
       "0     0.000621  0.001104  0.00228  \n",
       "1     0.000621  0.001104  0.00228  \n",
       "2     0.000621  0.001104  0.00228  \n",
       "3     0.000621  0.001104  0.00228  \n",
       "4     0.000621  0.001104  0.00228  \n",
       "...        ...       ...      ...  \n",
       "7771  0.000621  0.001104  0.00228  \n",
       "7772  0.000621  0.001104  0.00228  \n",
       "7773  0.000621  0.001104  0.00228  \n",
       "7774  0.000621  0.001104  0.00228  \n",
       "7775  0.000621  0.001104  0.00228  \n",
       "\n",
       "[7776 rows x 10 columns]"
      ]
     },
     "execution_count": 204,
     "metadata": {},
     "output_type": "execute_result"
    }
   ],
   "source": [
    "gbm_submission"
   ]
  },
  {
   "cell_type": "code",
   "execution_count": 205,
   "metadata": {
    "colab": {
     "base_uri": "https://localhost:8080/",
     "height": 419
    },
    "executionInfo": {
     "elapsed": 1035,
     "status": "ok",
     "timestamp": 1608799292155,
     "user": {
      "displayName": "기세현",
      "photoUrl": "",
      "userId": "06743460080794396829"
     },
     "user_tz": -540
    },
    "id": "RlZtwdWa6OGD",
    "outputId": "658bde7b-8f02-4fcf-9757-7dcedc48e1bd"
   },
   "outputs": [
    {
     "data": {
      "text/html": [
       "<div>\n",
       "<style scoped>\n",
       "    .dataframe tbody tr th:only-of-type {\n",
       "        vertical-align: middle;\n",
       "    }\n",
       "\n",
       "    .dataframe tbody tr th {\n",
       "        vertical-align: top;\n",
       "    }\n",
       "\n",
       "    .dataframe thead th {\n",
       "        text-align: right;\n",
       "    }\n",
       "</style>\n",
       "<table border=\"1\" class=\"dataframe\">\n",
       "  <thead>\n",
       "    <tr style=\"text-align: right;\">\n",
       "      <th></th>\n",
       "      <th>q_0.1</th>\n",
       "      <th>q_0.2</th>\n",
       "      <th>q_0.3</th>\n",
       "      <th>q_0.4</th>\n",
       "      <th>q_0.5</th>\n",
       "      <th>q_0.6</th>\n",
       "      <th>q_0.7</th>\n",
       "      <th>q_0.8</th>\n",
       "      <th>q_0.9</th>\n",
       "    </tr>\n",
       "  </thead>\n",
       "  <tbody>\n",
       "    <tr>\n",
       "      <th>count</th>\n",
       "      <td>7776.000000</td>\n",
       "      <td>7776.000000</td>\n",
       "      <td>7776.000000</td>\n",
       "      <td>7776.000000</td>\n",
       "      <td>7776.000000</td>\n",
       "      <td>7776.000000</td>\n",
       "      <td>7776.000000</td>\n",
       "      <td>7776.000000</td>\n",
       "      <td>7776.000000</td>\n",
       "    </tr>\n",
       "    <tr>\n",
       "      <th>mean</th>\n",
       "      <td>6.632371</td>\n",
       "      <td>11.963303</td>\n",
       "      <td>15.505732</td>\n",
       "      <td>18.013751</td>\n",
       "      <td>19.684758</td>\n",
       "      <td>21.098269</td>\n",
       "      <td>22.330803</td>\n",
       "      <td>23.585661</td>\n",
       "      <td>25.621900</td>\n",
       "    </tr>\n",
       "    <tr>\n",
       "      <th>std</th>\n",
       "      <td>9.382891</td>\n",
       "      <td>16.148429</td>\n",
       "      <td>20.514616</td>\n",
       "      <td>23.662207</td>\n",
       "      <td>25.670103</td>\n",
       "      <td>27.297295</td>\n",
       "      <td>28.482011</td>\n",
       "      <td>29.452475</td>\n",
       "      <td>30.903231</td>\n",
       "    </tr>\n",
       "    <tr>\n",
       "      <th>min</th>\n",
       "      <td>-0.472426</td>\n",
       "      <td>-0.631306</td>\n",
       "      <td>-0.446094</td>\n",
       "      <td>-0.374853</td>\n",
       "      <td>-1.302119</td>\n",
       "      <td>-0.445035</td>\n",
       "      <td>0.000621</td>\n",
       "      <td>-0.023685</td>\n",
       "      <td>0.002280</td>\n",
       "    </tr>\n",
       "    <tr>\n",
       "      <th>25%</th>\n",
       "      <td>0.000000</td>\n",
       "      <td>0.000000</td>\n",
       "      <td>0.000000</td>\n",
       "      <td>0.000000</td>\n",
       "      <td>0.000000</td>\n",
       "      <td>0.000237</td>\n",
       "      <td>0.000621</td>\n",
       "      <td>0.001104</td>\n",
       "      <td>0.002280</td>\n",
       "    </tr>\n",
       "    <tr>\n",
       "      <th>50%</th>\n",
       "      <td>0.183922</td>\n",
       "      <td>0.663479</td>\n",
       "      <td>1.197912</td>\n",
       "      <td>1.490489</td>\n",
       "      <td>2.631051</td>\n",
       "      <td>2.411798</td>\n",
       "      <td>2.887645</td>\n",
       "      <td>3.890186</td>\n",
       "      <td>6.084986</td>\n",
       "    </tr>\n",
       "    <tr>\n",
       "      <th>75%</th>\n",
       "      <td>12.569141</td>\n",
       "      <td>24.348687</td>\n",
       "      <td>32.044217</td>\n",
       "      <td>36.332040</td>\n",
       "      <td>39.032973</td>\n",
       "      <td>42.124564</td>\n",
       "      <td>43.948512</td>\n",
       "      <td>47.031220</td>\n",
       "      <td>51.564681</td>\n",
       "    </tr>\n",
       "    <tr>\n",
       "      <th>max</th>\n",
       "      <td>45.157188</td>\n",
       "      <td>74.732884</td>\n",
       "      <td>74.243160</td>\n",
       "      <td>80.838405</td>\n",
       "      <td>84.448284</td>\n",
       "      <td>88.531861</td>\n",
       "      <td>92.408462</td>\n",
       "      <td>96.343124</td>\n",
       "      <td>97.060443</td>\n",
       "    </tr>\n",
       "  </tbody>\n",
       "</table>\n",
       "</div>"
      ],
      "text/plain": [
       "             q_0.1        q_0.2        q_0.3        q_0.4        q_0.5  \\\n",
       "count  7776.000000  7776.000000  7776.000000  7776.000000  7776.000000   \n",
       "mean      6.632371    11.963303    15.505732    18.013751    19.684758   \n",
       "std       9.382891    16.148429    20.514616    23.662207    25.670103   \n",
       "min      -0.472426    -0.631306    -0.446094    -0.374853    -1.302119   \n",
       "25%       0.000000     0.000000     0.000000     0.000000     0.000000   \n",
       "50%       0.183922     0.663479     1.197912     1.490489     2.631051   \n",
       "75%      12.569141    24.348687    32.044217    36.332040    39.032973   \n",
       "max      45.157188    74.732884    74.243160    80.838405    84.448284   \n",
       "\n",
       "             q_0.6        q_0.7        q_0.8        q_0.9  \n",
       "count  7776.000000  7776.000000  7776.000000  7776.000000  \n",
       "mean     21.098269    22.330803    23.585661    25.621900  \n",
       "std      27.297295    28.482011    29.452475    30.903231  \n",
       "min      -0.445035     0.000621    -0.023685     0.002280  \n",
       "25%       0.000237     0.000621     0.001104     0.002280  \n",
       "50%       2.411798     2.887645     3.890186     6.084986  \n",
       "75%      42.124564    43.948512    47.031220    51.564681  \n",
       "max      88.531861    92.408462    96.343124    97.060443  "
      ]
     },
     "execution_count": 205,
     "metadata": {},
     "output_type": "execute_result"
    }
   ],
   "source": [
    "gbm_submission.describe()"
   ]
  },
  {
   "cell_type": "markdown",
   "metadata": {
    "id": "XT8IIDvH9gPC"
   },
   "source": [
    "DNI = 2.388\n",
    "\n",
    "WS = 2.374\n",
    "\n",
    "Hour = 2.377\n",
    "\n",
    "RH = 2.334\n",
    "\n",
    "hour_mean = 2.35\n",
    "\n",
    "sun_time = 2.30"
   ]
  },
  {
   "cell_type": "code",
   "execution_count": 201,
   "metadata": {
    "colab": {
     "base_uri": "https://localhost:8080/"
    },
    "executionInfo": {
     "elapsed": 24088,
     "status": "ok",
     "timestamp": 1608800377851,
     "user": {
      "displayName": "기세현",
      "photoUrl": "",
      "userId": "06743460080794396829"
     },
     "user_tz": -540
    },
    "id": "5kf4jJIlTpJe",
    "outputId": "ec2c44ae-ed8c-41e5-c972-ad46c4ed164d"
   },
   "outputs": [
    {
     "name": "stdout",
     "output_type": "stream",
     "text": [
      "------------ 0.1 quantile 시작 ------------\n",
      "1번 데이터셋 loss는 1.4823443\n",
      "2번 데이터셋 loss는 1.4921591\n",
      "3번 데이터셋 loss는 1.6409117\n",
      "4번 데이터셋 loss는 1.6253166\n",
      "#### 0.1 qunatile 평균 loss는 1.5601829 ####\n",
      "------------ 0.2 quantile 시작 ------------\n",
      "1번 데이터셋 loss는 2.3378905\n",
      "2번 데이터셋 loss는 2.4129162\n",
      "3번 데이터셋 loss는 2.6183754\n",
      "4번 데이터셋 loss는 2.6163749\n",
      "#### 0.2 qunatile 평균 loss는 2.4963893 ####\n",
      "------------ 0.3 quantile 시작 ------------\n",
      "1번 데이터셋 loss는 2.7899765\n",
      "2번 데이터셋 loss는 2.9246926\n",
      "3번 데이터셋 loss는 3.1306331\n",
      "4번 데이터셋 loss는 3.1213592\n",
      "#### 0.3 qunatile 평균 loss는 2.9916654 ####\n",
      "------------ 0.4 quantile 시작 ------------\n",
      "1번 데이터셋 loss는 2.8625413\n",
      "2번 데이터셋 loss는 3.0381853\n",
      "3번 데이터셋 loss는 3.2636609\n",
      "4번 데이터셋 loss는 3.2399195\n",
      "#### 0.4 qunatile 평균 loss는 3.1010767 ####\n",
      "------------ 0.5 quantile 시작 ------------\n",
      "1번 데이터셋 loss는 2.7220121\n",
      "2번 데이터셋 loss는 2.8966482\n",
      "3번 데이터셋 loss는 3.1184937\n",
      "4번 데이터셋 loss는 3.0887901\n",
      "#### 0.5 qunatile 평균 loss는 2.956486 ####\n",
      "------------ 0.6 quantile 시작 ------------\n",
      "1번 데이터셋 loss는 2.4005574\n",
      "2번 데이터셋 loss는 2.5801113\n",
      "3번 데이터셋 loss는 2.7654187\n",
      "4번 데이터셋 loss는 2.7352174\n",
      "#### 0.6 qunatile 평균 loss는 2.6203262 ####\n",
      "------------ 0.7 quantile 시작 ------------\n",
      "1번 데이터셋 loss는 2.0035022\n",
      "2번 데이터셋 loss는 2.1377367\n",
      "3번 데이터셋 loss는 2.2679304\n",
      "4번 데이터셋 loss는 2.2554187\n",
      "#### 0.7 qunatile 평균 loss는 2.166147 ####\n",
      "------------ 0.8 quantile 시작 ------------\n",
      "1번 데이터셋 loss는 1.489451\n",
      "2번 데이터셋 loss는 1.5853983\n",
      "3번 데이터셋 loss는 1.6716841\n",
      "4번 데이터셋 loss는 1.6944906\n",
      "#### 0.8 qunatile 평균 loss는 1.610256 ####\n",
      "------------ 0.9 quantile 시작 ------------\n",
      "1번 데이터셋 loss는 0.9509366\n",
      "2번 데이터셋 loss는 0.9563273\n",
      "3번 데이터셋 loss는 0.9992503\n",
      "4번 데이터셋 loss는 1.0959988\n",
      "#### 0.9 qunatile 평균 loss는 1.0006283 ####\n",
      "전체 평균 losss는 2.2781286\n"
     ]
    }
   ],
   "source": [
    "total_loss = []\n",
    "for qt in [.1, .2, .3, .4, .5, .6, .7, .8, .9] :\n",
    "  print(f'------------ {qt} quantile 시작 ------------')\n",
    "  pb_loss_list = []\n",
    "  for i, data in enumerate(zip(target_list, actual_list)) :\n",
    "    \n",
    "  \n",
    "    lgbm = LGBMRegressor(random_state = 1225, objective = 'quantile', metric = 'quantile', alpha = qt)\n",
    "    lgbm.fit(X, y)\n",
    "    pred = lgbm.predict(data[0])\n",
    "\n",
    "    loss = pb_loss(data[1], pred, qt)\n",
    "    pb_loss_list.append(loss)\n",
    "    total_loss.append(loss)\n",
    "    print(f'{i + 1}번 데이터셋 loss는 {round(loss, 7)}')\n",
    "  print(f'#### {qt} qunatile 평균 loss는 {round(np.mean(pb_loss_list), 7)} ####')\n",
    "\n",
    "  lgbm_pred = lgbm.predict(target)\n",
    "  submission[f'q_{qt}'] = lgbm_pred\n",
    "lgbm_submission = submission.copy()\n",
    "print(f'전체 평균 losss는 {round(np.mean(total_loss), 7)}')"
   ]
  },
  {
   "cell_type": "code",
   "execution_count": 57,
   "metadata": {
    "colab": {
     "base_uri": "https://localhost:8080/",
     "height": 419
    },
    "executionInfo": {
     "elapsed": 5101,
     "status": "ok",
     "timestamp": 1608784868328,
     "user": {
      "displayName": "기세현",
      "photoUrl": "",
      "userId": "06743460080794396829"
     },
     "user_tz": -540
    },
    "id": "5-lsni0ub4Zu",
    "outputId": "05c0c34e-d15b-4d6c-9273-fd68a45b0dcc"
   },
   "outputs": [
    {
     "data": {
      "text/html": [
       "<div>\n",
       "<style scoped>\n",
       "    .dataframe tbody tr th:only-of-type {\n",
       "        vertical-align: middle;\n",
       "    }\n",
       "\n",
       "    .dataframe tbody tr th {\n",
       "        vertical-align: top;\n",
       "    }\n",
       "\n",
       "    .dataframe thead th {\n",
       "        text-align: right;\n",
       "    }\n",
       "</style>\n",
       "<table border=\"1\" class=\"dataframe\">\n",
       "  <thead>\n",
       "    <tr style=\"text-align: right;\">\n",
       "      <th></th>\n",
       "      <th>id</th>\n",
       "      <th>q_0.1</th>\n",
       "      <th>q_0.2</th>\n",
       "      <th>q_0.3</th>\n",
       "      <th>q_0.4</th>\n",
       "      <th>q_0.5</th>\n",
       "      <th>q_0.6</th>\n",
       "      <th>q_0.7</th>\n",
       "      <th>q_0.8</th>\n",
       "      <th>q_0.9</th>\n",
       "    </tr>\n",
       "  </thead>\n",
       "  <tbody>\n",
       "    <tr>\n",
       "      <th>0</th>\n",
       "      <td>0.csv_Day7_0h00m</td>\n",
       "      <td>0.0</td>\n",
       "      <td>0.0</td>\n",
       "      <td>0.0</td>\n",
       "      <td>0.0</td>\n",
       "      <td>0.0</td>\n",
       "      <td>0.000237</td>\n",
       "      <td>0.000621</td>\n",
       "      <td>0.001084</td>\n",
       "      <td>0.001961</td>\n",
       "    </tr>\n",
       "    <tr>\n",
       "      <th>1</th>\n",
       "      <td>0.csv_Day7_0h30m</td>\n",
       "      <td>0.0</td>\n",
       "      <td>0.0</td>\n",
       "      <td>0.0</td>\n",
       "      <td>0.0</td>\n",
       "      <td>0.0</td>\n",
       "      <td>0.000237</td>\n",
       "      <td>0.000621</td>\n",
       "      <td>0.001084</td>\n",
       "      <td>0.001961</td>\n",
       "    </tr>\n",
       "    <tr>\n",
       "      <th>2</th>\n",
       "      <td>0.csv_Day7_1h00m</td>\n",
       "      <td>0.0</td>\n",
       "      <td>0.0</td>\n",
       "      <td>0.0</td>\n",
       "      <td>0.0</td>\n",
       "      <td>0.0</td>\n",
       "      <td>0.000237</td>\n",
       "      <td>0.000621</td>\n",
       "      <td>0.001084</td>\n",
       "      <td>0.001961</td>\n",
       "    </tr>\n",
       "    <tr>\n",
       "      <th>3</th>\n",
       "      <td>0.csv_Day7_1h30m</td>\n",
       "      <td>0.0</td>\n",
       "      <td>0.0</td>\n",
       "      <td>0.0</td>\n",
       "      <td>0.0</td>\n",
       "      <td>0.0</td>\n",
       "      <td>0.000237</td>\n",
       "      <td>0.000621</td>\n",
       "      <td>0.001084</td>\n",
       "      <td>0.001961</td>\n",
       "    </tr>\n",
       "    <tr>\n",
       "      <th>4</th>\n",
       "      <td>0.csv_Day7_2h00m</td>\n",
       "      <td>0.0</td>\n",
       "      <td>0.0</td>\n",
       "      <td>0.0</td>\n",
       "      <td>0.0</td>\n",
       "      <td>0.0</td>\n",
       "      <td>0.000237</td>\n",
       "      <td>0.000621</td>\n",
       "      <td>0.001084</td>\n",
       "      <td>0.001961</td>\n",
       "    </tr>\n",
       "    <tr>\n",
       "      <th>...</th>\n",
       "      <td>...</td>\n",
       "      <td>...</td>\n",
       "      <td>...</td>\n",
       "      <td>...</td>\n",
       "      <td>...</td>\n",
       "      <td>...</td>\n",
       "      <td>...</td>\n",
       "      <td>...</td>\n",
       "      <td>...</td>\n",
       "      <td>...</td>\n",
       "    </tr>\n",
       "    <tr>\n",
       "      <th>7771</th>\n",
       "      <td>80.csv_Day8_21h30m</td>\n",
       "      <td>0.0</td>\n",
       "      <td>0.0</td>\n",
       "      <td>0.0</td>\n",
       "      <td>0.0</td>\n",
       "      <td>0.0</td>\n",
       "      <td>0.000237</td>\n",
       "      <td>0.000621</td>\n",
       "      <td>0.001084</td>\n",
       "      <td>0.001961</td>\n",
       "    </tr>\n",
       "    <tr>\n",
       "      <th>7772</th>\n",
       "      <td>80.csv_Day8_22h00m</td>\n",
       "      <td>0.0</td>\n",
       "      <td>0.0</td>\n",
       "      <td>0.0</td>\n",
       "      <td>0.0</td>\n",
       "      <td>0.0</td>\n",
       "      <td>0.000237</td>\n",
       "      <td>0.000621</td>\n",
       "      <td>0.001084</td>\n",
       "      <td>0.001961</td>\n",
       "    </tr>\n",
       "    <tr>\n",
       "      <th>7773</th>\n",
       "      <td>80.csv_Day8_22h30m</td>\n",
       "      <td>0.0</td>\n",
       "      <td>0.0</td>\n",
       "      <td>0.0</td>\n",
       "      <td>0.0</td>\n",
       "      <td>0.0</td>\n",
       "      <td>0.000237</td>\n",
       "      <td>0.000621</td>\n",
       "      <td>0.001084</td>\n",
       "      <td>0.001961</td>\n",
       "    </tr>\n",
       "    <tr>\n",
       "      <th>7774</th>\n",
       "      <td>80.csv_Day8_23h00m</td>\n",
       "      <td>0.0</td>\n",
       "      <td>0.0</td>\n",
       "      <td>0.0</td>\n",
       "      <td>0.0</td>\n",
       "      <td>0.0</td>\n",
       "      <td>0.000237</td>\n",
       "      <td>0.000621</td>\n",
       "      <td>0.001084</td>\n",
       "      <td>0.001961</td>\n",
       "    </tr>\n",
       "    <tr>\n",
       "      <th>7775</th>\n",
       "      <td>80.csv_Day8_23h30m</td>\n",
       "      <td>0.0</td>\n",
       "      <td>0.0</td>\n",
       "      <td>0.0</td>\n",
       "      <td>0.0</td>\n",
       "      <td>0.0</td>\n",
       "      <td>0.000237</td>\n",
       "      <td>0.000621</td>\n",
       "      <td>0.001084</td>\n",
       "      <td>0.001961</td>\n",
       "    </tr>\n",
       "  </tbody>\n",
       "</table>\n",
       "<p>7776 rows × 10 columns</p>\n",
       "</div>"
      ],
      "text/plain": [
       "                      id  q_0.1  q_0.2  q_0.3  q_0.4  q_0.5     q_0.6  \\\n",
       "0       0.csv_Day7_0h00m    0.0    0.0    0.0    0.0    0.0  0.000237   \n",
       "1       0.csv_Day7_0h30m    0.0    0.0    0.0    0.0    0.0  0.000237   \n",
       "2       0.csv_Day7_1h00m    0.0    0.0    0.0    0.0    0.0  0.000237   \n",
       "3       0.csv_Day7_1h30m    0.0    0.0    0.0    0.0    0.0  0.000237   \n",
       "4       0.csv_Day7_2h00m    0.0    0.0    0.0    0.0    0.0  0.000237   \n",
       "...                  ...    ...    ...    ...    ...    ...       ...   \n",
       "7771  80.csv_Day8_21h30m    0.0    0.0    0.0    0.0    0.0  0.000237   \n",
       "7772  80.csv_Day8_22h00m    0.0    0.0    0.0    0.0    0.0  0.000237   \n",
       "7773  80.csv_Day8_22h30m    0.0    0.0    0.0    0.0    0.0  0.000237   \n",
       "7774  80.csv_Day8_23h00m    0.0    0.0    0.0    0.0    0.0  0.000237   \n",
       "7775  80.csv_Day8_23h30m    0.0    0.0    0.0    0.0    0.0  0.000237   \n",
       "\n",
       "         q_0.7     q_0.8     q_0.9  \n",
       "0     0.000621  0.001084  0.001961  \n",
       "1     0.000621  0.001084  0.001961  \n",
       "2     0.000621  0.001084  0.001961  \n",
       "3     0.000621  0.001084  0.001961  \n",
       "4     0.000621  0.001084  0.001961  \n",
       "...        ...       ...       ...  \n",
       "7771  0.000621  0.001084  0.001961  \n",
       "7772  0.000621  0.001084  0.001961  \n",
       "7773  0.000621  0.001084  0.001961  \n",
       "7774  0.000621  0.001084  0.001961  \n",
       "7775  0.000621  0.001084  0.001961  \n",
       "\n",
       "[7776 rows x 10 columns]"
      ]
     },
     "execution_count": 57,
     "metadata": {},
     "output_type": "execute_result"
    }
   ],
   "source": [
    "lgbm_submission"
   ]
  },
  {
   "cell_type": "code",
   "execution_count": 58,
   "metadata": {},
   "outputs": [
    {
     "data": {
      "text/html": [
       "<div>\n",
       "<style scoped>\n",
       "    .dataframe tbody tr th:only-of-type {\n",
       "        vertical-align: middle;\n",
       "    }\n",
       "\n",
       "    .dataframe tbody tr th {\n",
       "        vertical-align: top;\n",
       "    }\n",
       "\n",
       "    .dataframe thead th {\n",
       "        text-align: right;\n",
       "    }\n",
       "</style>\n",
       "<table border=\"1\" class=\"dataframe\">\n",
       "  <thead>\n",
       "    <tr style=\"text-align: right;\">\n",
       "      <th></th>\n",
       "      <th>q_0.1</th>\n",
       "      <th>q_0.2</th>\n",
       "      <th>q_0.3</th>\n",
       "      <th>q_0.4</th>\n",
       "      <th>q_0.5</th>\n",
       "      <th>q_0.6</th>\n",
       "      <th>q_0.7</th>\n",
       "      <th>q_0.8</th>\n",
       "      <th>q_0.9</th>\n",
       "    </tr>\n",
       "  </thead>\n",
       "  <tbody>\n",
       "    <tr>\n",
       "      <th>count</th>\n",
       "      <td>7776.000000</td>\n",
       "      <td>7776.000000</td>\n",
       "      <td>7776.000000</td>\n",
       "      <td>7776.000000</td>\n",
       "      <td>7776.000000</td>\n",
       "      <td>7776.000000</td>\n",
       "      <td>7776.000000</td>\n",
       "      <td>7776.000000</td>\n",
       "      <td>7776.000000</td>\n",
       "    </tr>\n",
       "    <tr>\n",
       "      <th>mean</th>\n",
       "      <td>7.518943</td>\n",
       "      <td>12.013736</td>\n",
       "      <td>15.097182</td>\n",
       "      <td>17.345584</td>\n",
       "      <td>19.206128</td>\n",
       "      <td>20.671725</td>\n",
       "      <td>21.647698</td>\n",
       "      <td>22.637448</td>\n",
       "      <td>23.830373</td>\n",
       "    </tr>\n",
       "    <tr>\n",
       "      <th>std</th>\n",
       "      <td>11.467014</td>\n",
       "      <td>17.036412</td>\n",
       "      <td>20.644326</td>\n",
       "      <td>23.148810</td>\n",
       "      <td>25.371687</td>\n",
       "      <td>27.127208</td>\n",
       "      <td>28.184439</td>\n",
       "      <td>29.204539</td>\n",
       "      <td>30.043373</td>\n",
       "    </tr>\n",
       "    <tr>\n",
       "      <th>min</th>\n",
       "      <td>-0.529797</td>\n",
       "      <td>-3.416747</td>\n",
       "      <td>-0.736588</td>\n",
       "      <td>0.000000</td>\n",
       "      <td>0.000000</td>\n",
       "      <td>0.000237</td>\n",
       "      <td>-0.283593</td>\n",
       "      <td>-2.110575</td>\n",
       "      <td>-2.112658</td>\n",
       "    </tr>\n",
       "    <tr>\n",
       "      <th>25%</th>\n",
       "      <td>0.000000</td>\n",
       "      <td>0.000000</td>\n",
       "      <td>0.000000</td>\n",
       "      <td>0.000000</td>\n",
       "      <td>0.000000</td>\n",
       "      <td>0.000237</td>\n",
       "      <td>0.000621</td>\n",
       "      <td>0.001084</td>\n",
       "      <td>0.001961</td>\n",
       "    </tr>\n",
       "    <tr>\n",
       "      <th>50%</th>\n",
       "      <td>0.169375</td>\n",
       "      <td>0.478064</td>\n",
       "      <td>0.689695</td>\n",
       "      <td>1.277893</td>\n",
       "      <td>1.670394</td>\n",
       "      <td>1.543522</td>\n",
       "      <td>1.928485</td>\n",
       "      <td>2.123422</td>\n",
       "      <td>3.897047</td>\n",
       "    </tr>\n",
       "    <tr>\n",
       "      <th>75%</th>\n",
       "      <td>13.367439</td>\n",
       "      <td>22.432920</td>\n",
       "      <td>29.109925</td>\n",
       "      <td>34.435712</td>\n",
       "      <td>37.932969</td>\n",
       "      <td>40.955583</td>\n",
       "      <td>42.821482</td>\n",
       "      <td>45.327079</td>\n",
       "      <td>47.436762</td>\n",
       "    </tr>\n",
       "    <tr>\n",
       "      <th>max</th>\n",
       "      <td>78.565461</td>\n",
       "      <td>88.602748</td>\n",
       "      <td>96.436287</td>\n",
       "      <td>98.381592</td>\n",
       "      <td>94.846721</td>\n",
       "      <td>98.076853</td>\n",
       "      <td>97.495254</td>\n",
       "      <td>97.628672</td>\n",
       "      <td>97.395241</td>\n",
       "    </tr>\n",
       "  </tbody>\n",
       "</table>\n",
       "</div>"
      ],
      "text/plain": [
       "             q_0.1        q_0.2        q_0.3        q_0.4        q_0.5  \\\n",
       "count  7776.000000  7776.000000  7776.000000  7776.000000  7776.000000   \n",
       "mean      7.518943    12.013736    15.097182    17.345584    19.206128   \n",
       "std      11.467014    17.036412    20.644326    23.148810    25.371687   \n",
       "min      -0.529797    -3.416747    -0.736588     0.000000     0.000000   \n",
       "25%       0.000000     0.000000     0.000000     0.000000     0.000000   \n",
       "50%       0.169375     0.478064     0.689695     1.277893     1.670394   \n",
       "75%      13.367439    22.432920    29.109925    34.435712    37.932969   \n",
       "max      78.565461    88.602748    96.436287    98.381592    94.846721   \n",
       "\n",
       "             q_0.6        q_0.7        q_0.8        q_0.9  \n",
       "count  7776.000000  7776.000000  7776.000000  7776.000000  \n",
       "mean     20.671725    21.647698    22.637448    23.830373  \n",
       "std      27.127208    28.184439    29.204539    30.043373  \n",
       "min       0.000237    -0.283593    -2.110575    -2.112658  \n",
       "25%       0.000237     0.000621     0.001084     0.001961  \n",
       "50%       1.543522     1.928485     2.123422     3.897047  \n",
       "75%      40.955583    42.821482    45.327079    47.436762  \n",
       "max      98.076853    97.495254    97.628672    97.395241  "
      ]
     },
     "execution_count": 58,
     "metadata": {},
     "output_type": "execute_result"
    }
   ],
   "source": [
    "lgbm_submission.describe()"
   ]
  },
  {
   "cell_type": "code",
   "execution_count": 209,
   "metadata": {
    "id": "XtE4eYl0ldFm"
   },
   "outputs": [],
   "source": [
    "submission.iloc[:, 1:] = (lgbm_submission.iloc[:, 1:] + gbm_submission.iloc[:, 1:] + quantreg_submission.iloc[:, 1:]) / 3\n",
    "submission.iloc[:, 1:] = submission.iloc[:, 1:].applymap(lambda x : 0 if x < 0 else x)"
   ]
  },
  {
   "cell_type": "code",
   "execution_count": 210,
   "metadata": {
    "colab": {
     "base_uri": "https://localhost:8080/",
     "height": 297
    },
    "executionInfo": {
     "elapsed": 818,
     "status": "ok",
     "timestamp": 1608789436498,
     "user": {
      "displayName": "기세현",
      "photoUrl": "",
      "userId": "06743460080794396829"
     },
     "user_tz": -540
    },
    "id": "hxDmkYhIljY8",
    "outputId": "4dd2920a-3430-4f9a-9cc6-7b9cf2872cbb"
   },
   "outputs": [
    {
     "data": {
      "text/html": [
       "<div>\n",
       "<style scoped>\n",
       "    .dataframe tbody tr th:only-of-type {\n",
       "        vertical-align: middle;\n",
       "    }\n",
       "\n",
       "    .dataframe tbody tr th {\n",
       "        vertical-align: top;\n",
       "    }\n",
       "\n",
       "    .dataframe thead th {\n",
       "        text-align: right;\n",
       "    }\n",
       "</style>\n",
       "<table border=\"1\" class=\"dataframe\">\n",
       "  <thead>\n",
       "    <tr style=\"text-align: right;\">\n",
       "      <th></th>\n",
       "      <th>q_0.1</th>\n",
       "      <th>q_0.2</th>\n",
       "      <th>q_0.3</th>\n",
       "      <th>q_0.4</th>\n",
       "      <th>q_0.5</th>\n",
       "      <th>q_0.6</th>\n",
       "      <th>q_0.7</th>\n",
       "      <th>q_0.8</th>\n",
       "      <th>q_0.9</th>\n",
       "    </tr>\n",
       "  </thead>\n",
       "  <tbody>\n",
       "    <tr>\n",
       "      <th>count</th>\n",
       "      <td>7776.000000</td>\n",
       "      <td>7776.000000</td>\n",
       "      <td>7776.000000</td>\n",
       "      <td>7776.000000</td>\n",
       "      <td>7776.000000</td>\n",
       "      <td>7776.000000</td>\n",
       "      <td>7776.000000</td>\n",
       "      <td>7776.000000</td>\n",
       "      <td>7776.000000</td>\n",
       "    </tr>\n",
       "    <tr>\n",
       "      <th>mean</th>\n",
       "      <td>6.678419</td>\n",
       "      <td>11.698471</td>\n",
       "      <td>15.258998</td>\n",
       "      <td>17.812509</td>\n",
       "      <td>19.678733</td>\n",
       "      <td>21.157701</td>\n",
       "      <td>22.222915</td>\n",
       "      <td>23.308507</td>\n",
       "      <td>24.981925</td>\n",
       "    </tr>\n",
       "    <tr>\n",
       "      <th>std</th>\n",
       "      <td>9.295105</td>\n",
       "      <td>15.856146</td>\n",
       "      <td>20.261329</td>\n",
       "      <td>23.317399</td>\n",
       "      <td>25.534360</td>\n",
       "      <td>27.251938</td>\n",
       "      <td>28.319246</td>\n",
       "      <td>29.254275</td>\n",
       "      <td>30.502140</td>\n",
       "    </tr>\n",
       "    <tr>\n",
       "      <th>min</th>\n",
       "      <td>0.000000</td>\n",
       "      <td>0.000000</td>\n",
       "      <td>0.000000</td>\n",
       "      <td>0.000000</td>\n",
       "      <td>0.000000</td>\n",
       "      <td>0.000158</td>\n",
       "      <td>0.000414</td>\n",
       "      <td>0.000000</td>\n",
       "      <td>0.001432</td>\n",
       "    </tr>\n",
       "    <tr>\n",
       "      <th>25%</th>\n",
       "      <td>0.000000</td>\n",
       "      <td>0.000000</td>\n",
       "      <td>0.000000</td>\n",
       "      <td>0.000000</td>\n",
       "      <td>0.000000</td>\n",
       "      <td>0.000158</td>\n",
       "      <td>0.000414</td>\n",
       "      <td>0.000729</td>\n",
       "      <td>0.001433</td>\n",
       "    </tr>\n",
       "    <tr>\n",
       "      <th>50%</th>\n",
       "      <td>0.344313</td>\n",
       "      <td>0.716602</td>\n",
       "      <td>1.115655</td>\n",
       "      <td>1.637595</td>\n",
       "      <td>2.050602</td>\n",
       "      <td>2.006817</td>\n",
       "      <td>2.134144</td>\n",
       "      <td>2.855254</td>\n",
       "      <td>4.589673</td>\n",
       "    </tr>\n",
       "    <tr>\n",
       "      <th>75%</th>\n",
       "      <td>12.511995</td>\n",
       "      <td>22.443890</td>\n",
       "      <td>30.049062</td>\n",
       "      <td>35.247565</td>\n",
       "      <td>38.851002</td>\n",
       "      <td>42.211049</td>\n",
       "      <td>43.995623</td>\n",
       "      <td>46.394970</td>\n",
       "      <td>50.267877</td>\n",
       "    </tr>\n",
       "    <tr>\n",
       "      <th>max</th>\n",
       "      <td>46.283792</td>\n",
       "      <td>67.316988</td>\n",
       "      <td>79.758921</td>\n",
       "      <td>83.602699</td>\n",
       "      <td>88.252327</td>\n",
       "      <td>91.551698</td>\n",
       "      <td>94.655165</td>\n",
       "      <td>96.796664</td>\n",
       "      <td>99.866194</td>\n",
       "    </tr>\n",
       "  </tbody>\n",
       "</table>\n",
       "</div>"
      ],
      "text/plain": [
       "             q_0.1        q_0.2        q_0.3        q_0.4        q_0.5  \\\n",
       "count  7776.000000  7776.000000  7776.000000  7776.000000  7776.000000   \n",
       "mean      6.678419    11.698471    15.258998    17.812509    19.678733   \n",
       "std       9.295105    15.856146    20.261329    23.317399    25.534360   \n",
       "min       0.000000     0.000000     0.000000     0.000000     0.000000   \n",
       "25%       0.000000     0.000000     0.000000     0.000000     0.000000   \n",
       "50%       0.344313     0.716602     1.115655     1.637595     2.050602   \n",
       "75%      12.511995    22.443890    30.049062    35.247565    38.851002   \n",
       "max      46.283792    67.316988    79.758921    83.602699    88.252327   \n",
       "\n",
       "             q_0.6        q_0.7        q_0.8        q_0.9  \n",
       "count  7776.000000  7776.000000  7776.000000  7776.000000  \n",
       "mean     21.157701    22.222915    23.308507    24.981925  \n",
       "std      27.251938    28.319246    29.254275    30.502140  \n",
       "min       0.000158     0.000414     0.000000     0.001432  \n",
       "25%       0.000158     0.000414     0.000729     0.001433  \n",
       "50%       2.006817     2.134144     2.855254     4.589673  \n",
       "75%      42.211049    43.995623    46.394970    50.267877  \n",
       "max      91.551698    94.655165    96.796664    99.866194  "
      ]
     },
     "execution_count": 210,
     "metadata": {},
     "output_type": "execute_result"
    }
   ],
   "source": [
    "submission.describe()"
   ]
  },
  {
   "cell_type": "code",
   "execution_count": 211,
   "metadata": {
    "id": "xnpD46ntnFB5"
   },
   "outputs": [],
   "source": [
    "d = submission.loc[submission.id.str.contains('_0h|_1h|_2h|_3h|_4h|_22h|_23h')]\n",
    "d.iloc[:, 1:] = 0"
   ]
  },
  {
   "cell_type": "code",
   "execution_count": 212,
   "metadata": {
    "id": "gEK0FwmenXwz"
   },
   "outputs": [],
   "source": [
    "submission.loc[d.index] = d"
   ]
  },
  {
   "cell_type": "code",
   "execution_count": 213,
   "metadata": {},
   "outputs": [],
   "source": [
    "time_str = datetime.datetime.strftime(datetime.datetime.today(),'%Y%m%d_%H%M%S')\n",
    "\n",
    "submission.to_csv(f'sun_{time_str}.csv', index=False)"
   ]
  }
 ],
 "metadata": {
  "colab": {
   "collapsed_sections": [],
   "name": "day1216.ipynb",
   "provenance": []
  },
  "kernelspec": {
   "display_name": "Python 3",
   "language": "python",
   "name": "python3"
  },
  "language_info": {
   "codemirror_mode": {
    "name": "ipython",
    "version": 3
   },
   "file_extension": ".py",
   "mimetype": "text/x-python",
   "name": "python",
   "nbconvert_exporter": "python",
   "pygments_lexer": "ipython3",
   "version": "3.8.5"
  }
 },
 "nbformat": 4,
 "nbformat_minor": 4
}
