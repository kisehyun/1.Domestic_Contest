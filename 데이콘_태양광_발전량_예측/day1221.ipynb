{
  "nbformat": 4,
  "nbformat_minor": 0,
  "metadata": {
    "kernelspec": {
      "display_name": "Python 3",
      "language": "python",
      "name": "python3"
    },
    "language_info": {
      "codemirror_mode": {
        "name": "ipython",
        "version": 3
      },
      "file_extension": ".py",
      "mimetype": "text/x-python",
      "name": "python",
      "nbconvert_exporter": "python",
      "pygments_lexer": "ipython3",
      "version": "3.8.3"
    },
    "colab": {
      "name": "day1216.ipynb",
      "provenance": [],
      "collapsed_sections": []
    }
  },
  "cells": [
    {
      "cell_type": "markdown",
      "metadata": {
        "id": "hJBWkta59uif"
      },
      "source": [
        "# 태양광\n",
        "***\n",
        "### 3년(Day 0 ~ Day 1094) 동안의 기상 데이터, 발전량(TARGET) 데이터\n",
        "\n",
        "### test는 2년동안의 기상데이터, 발전량(TARGET) 데이터\n",
        "\n",
        "### 각 파일의 7일 동안의 데이터 전체 혹은 일부 활용하여 향후 2일 동안의 30분 간격 발전량 예측\n",
        "****\n",
        "- Hour - 시간\n",
        "- Minute - 분\n",
        "- DHI - 수평면 산란일사량(Diffuse Horizontal Irradiance (W/m2))\n",
        "- DNI - 직달일사량(Direct Normal Irradiance (W/m2))\n",
        "- WS - 풍속(Wind Speed (m/s))\n",
        "- RH - 상대습도(Relative Humidity (%))\n",
        "- T - 기온(Temperature (Degree C))\n",
        "- Target - 태양광 발전량 (kW)"
      ]
    },
    {
      "cell_type": "code",
      "metadata": {
        "colab": {
          "base_uri": "https://localhost:8080/"
        },
        "id": "I62rHpxp9v1K",
        "outputId": "d8c13a6c-3767-4d24-dc47-f0ee6e438ddc"
      },
      "source": [
        "from google.colab import drive\r\n",
        "drive.mount('/content/gdrive/', force_remount = True)"
      ],
      "execution_count": 6,
      "outputs": [
        {
          "output_type": "stream",
          "text": [
            "Mounted at /content/gdrive/\n"
          ],
          "name": "stdout"
        }
      ]
    },
    {
      "cell_type": "code",
      "metadata": {
        "colab": {
          "base_uri": "https://localhost:8080/"
        },
        "id": "aDFE55AELX9m",
        "outputId": "e7c873ac-6c22-4041-fa80-e3f51cd3e620"
      },
      "source": [
        "!pip install scikit-garden"
      ],
      "execution_count": 7,
      "outputs": [
        {
          "output_type": "stream",
          "text": [
            "Requirement already satisfied: scikit-garden in /usr/local/lib/python3.6/dist-packages (0.1.3)\n",
            "Requirement already satisfied: scikit-learn>=0.18 in /usr/local/lib/python3.6/dist-packages (from scikit-garden) (0.22.2.post1)\n",
            "Requirement already satisfied: cython in /usr/local/lib/python3.6/dist-packages (from scikit-garden) (0.29.21)\n",
            "Requirement already satisfied: numpy in /usr/local/lib/python3.6/dist-packages (from scikit-garden) (1.19.4)\n",
            "Requirement already satisfied: scipy in /usr/local/lib/python3.6/dist-packages (from scikit-garden) (1.4.1)\n",
            "Requirement already satisfied: joblib>=0.11 in /usr/local/lib/python3.6/dist-packages (from scikit-learn>=0.18->scikit-garden) (1.0.0)\n"
          ],
          "name": "stdout"
        }
      ]
    },
    {
      "cell_type": "code",
      "metadata": {
        "id": "Dp5CIGft9uil"
      },
      "source": [
        "import warnings\n",
        "warnings.filterwarnings('ignore')\n",
        "\n",
        "import pandas as pd\n",
        "import numpy as np\n",
        "import seaborn as sns\n",
        "import matplotlib.pyplot as plt\n",
        "%matplotlib inline\n",
        "\n",
        "import itertools\n",
        "import time\n",
        "\n",
        "import statsmodels.api as sm\n",
        "from statsmodels.regression.quantile_regression import QuantReg as qreg\n",
        "import statsmodels.formula.api as smf\n",
        "\n",
        "from tqdm import tnrange, tqdm_notebook\n",
        "\n",
        "from sklearn.model_selection import train_test_split\n",
        "from sklearn.linear_model import LinearRegression\n",
        "from sklearn.metrics import *\n",
        "from sklearn.ensemble import RandomForestRegressor, GradientBoostingRegressor\n",
        "from lightgbm import LGBMRegressor\n",
        "from skgarden import RandomForestQuantileRegressor, DecisionTreeQuantileRegressor, ExtraTreeQuantileRegressor, ExtraTreesQuantileRegressor"
      ],
      "execution_count": 9,
      "outputs": []
    },
    {
      "cell_type": "code",
      "metadata": {
        "colab": {
          "base_uri": "https://localhost:8080/"
        },
        "id": "og27rZv9-ugQ",
        "outputId": "47c09720-85ce-4cc4-b646-161c0d09d319"
      },
      "source": [
        "cd /content/gdrive/My Drive/dacon/sun/data/train"
      ],
      "execution_count": 365,
      "outputs": [
        {
          "output_type": "stream",
          "text": [
            "/content/gdrive/My Drive/dacon/sun/data/train\n"
          ],
          "name": "stdout"
        }
      ]
    },
    {
      "cell_type": "code",
      "metadata": {
        "scrolled": true,
        "id": "imDPo2ot9uim"
      },
      "source": [
        "train = pd.read_csv('train.csv')"
      ],
      "execution_count": 366,
      "outputs": []
    },
    {
      "cell_type": "code",
      "metadata": {
        "colab": {
          "base_uri": "https://localhost:8080/"
        },
        "id": "MUECMcRe-4BC",
        "outputId": "9827efcb-556e-499d-f8f5-a8b3c375ecda"
      },
      "source": [
        "cd /content/gdrive/My Drive/dacon/sun/data/test"
      ],
      "execution_count": 367,
      "outputs": [
        {
          "output_type": "stream",
          "text": [
            "/content/gdrive/My Drive/dacon/sun/data/test\n"
          ],
          "name": "stdout"
        }
      ]
    },
    {
      "cell_type": "code",
      "metadata": {
        "id": "NOmG0rI69uin"
      },
      "source": [
        "for i in range(81) :\n",
        "    globals() [f'test_{i}'] = pd.read_csv(f'{i}.csv')\n",
        "    globals() [f'test_{i}']['sep_day'] = i"
      ],
      "execution_count": 368,
      "outputs": []
    },
    {
      "cell_type": "code",
      "metadata": {
        "id": "dUGnZ7_I9uin"
      },
      "source": [
        "### 각 데이터를 하나의 데이터로 통합\n",
        "test = pd.DataFrame()\n",
        "idx_list = []\n",
        "for i in range(81):\n",
        "  test = pd.concat([test, globals()[f'test_{i}']], axis = 0, ignore_index = True)"
      ],
      "execution_count": 369,
      "outputs": []
    },
    {
      "cell_type": "code",
      "metadata": {
        "colab": {
          "base_uri": "https://localhost:8080/"
        },
        "id": "Dj9kkLZ-_E9E",
        "outputId": "86566d41-9dc0-4982-b98d-abad1b82ca37"
      },
      "source": [
        "cd /content/gdrive/My Drive/dacon/sun/data"
      ],
      "execution_count": 370,
      "outputs": [
        {
          "output_type": "stream",
          "text": [
            "/content/gdrive/My Drive/dacon/sun/data\n"
          ],
          "name": "stdout"
        }
      ]
    },
    {
      "cell_type": "code",
      "metadata": {
        "id": "Zdc-gNOx9uin"
      },
      "source": [
        "submission = pd.read_csv('sample_submission.csv')"
      ],
      "execution_count": 371,
      "outputs": []
    },
    {
      "cell_type": "code",
      "metadata": {
        "colab": {
          "base_uri": "https://localhost:8080/",
          "height": 204
        },
        "id": "aGk66wrg9uio",
        "outputId": "7d89bb5b-dfb1-4db9-ebfc-bdf0905b4939"
      },
      "source": [
        "train.head()"
      ],
      "execution_count": 260,
      "outputs": [
        {
          "output_type": "execute_result",
          "data": {
            "text/html": [
              "<div>\n",
              "<style scoped>\n",
              "    .dataframe tbody tr th:only-of-type {\n",
              "        vertical-align: middle;\n",
              "    }\n",
              "\n",
              "    .dataframe tbody tr th {\n",
              "        vertical-align: top;\n",
              "    }\n",
              "\n",
              "    .dataframe thead th {\n",
              "        text-align: right;\n",
              "    }\n",
              "</style>\n",
              "<table border=\"1\" class=\"dataframe\">\n",
              "  <thead>\n",
              "    <tr style=\"text-align: right;\">\n",
              "      <th></th>\n",
              "      <th>Day</th>\n",
              "      <th>Hour</th>\n",
              "      <th>Minute</th>\n",
              "      <th>DHI</th>\n",
              "      <th>DNI</th>\n",
              "      <th>WS</th>\n",
              "      <th>RH</th>\n",
              "      <th>T</th>\n",
              "      <th>TARGET</th>\n",
              "    </tr>\n",
              "  </thead>\n",
              "  <tbody>\n",
              "    <tr>\n",
              "      <th>0</th>\n",
              "      <td>0</td>\n",
              "      <td>0</td>\n",
              "      <td>0</td>\n",
              "      <td>0</td>\n",
              "      <td>0</td>\n",
              "      <td>1.5</td>\n",
              "      <td>69.08</td>\n",
              "      <td>-12</td>\n",
              "      <td>0.0</td>\n",
              "    </tr>\n",
              "    <tr>\n",
              "      <th>1</th>\n",
              "      <td>0</td>\n",
              "      <td>0</td>\n",
              "      <td>30</td>\n",
              "      <td>0</td>\n",
              "      <td>0</td>\n",
              "      <td>1.5</td>\n",
              "      <td>69.06</td>\n",
              "      <td>-12</td>\n",
              "      <td>0.0</td>\n",
              "    </tr>\n",
              "    <tr>\n",
              "      <th>2</th>\n",
              "      <td>0</td>\n",
              "      <td>1</td>\n",
              "      <td>0</td>\n",
              "      <td>0</td>\n",
              "      <td>0</td>\n",
              "      <td>1.6</td>\n",
              "      <td>71.78</td>\n",
              "      <td>-12</td>\n",
              "      <td>0.0</td>\n",
              "    </tr>\n",
              "    <tr>\n",
              "      <th>3</th>\n",
              "      <td>0</td>\n",
              "      <td>1</td>\n",
              "      <td>30</td>\n",
              "      <td>0</td>\n",
              "      <td>0</td>\n",
              "      <td>1.6</td>\n",
              "      <td>71.75</td>\n",
              "      <td>-12</td>\n",
              "      <td>0.0</td>\n",
              "    </tr>\n",
              "    <tr>\n",
              "      <th>4</th>\n",
              "      <td>0</td>\n",
              "      <td>2</td>\n",
              "      <td>0</td>\n",
              "      <td>0</td>\n",
              "      <td>0</td>\n",
              "      <td>1.6</td>\n",
              "      <td>75.20</td>\n",
              "      <td>-12</td>\n",
              "      <td>0.0</td>\n",
              "    </tr>\n",
              "  </tbody>\n",
              "</table>\n",
              "</div>"
            ],
            "text/plain": [
              "   Day  Hour  Minute  DHI  DNI   WS     RH   T  TARGET\n",
              "0    0     0       0    0    0  1.5  69.08 -12     0.0\n",
              "1    0     0      30    0    0  1.5  69.06 -12     0.0\n",
              "2    0     1       0    0    0  1.6  71.78 -12     0.0\n",
              "3    0     1      30    0    0  1.6  71.75 -12     0.0\n",
              "4    0     2       0    0    0  1.6  75.20 -12     0.0"
            ]
          },
          "metadata": {
            "tags": []
          },
          "execution_count": 260
        }
      ]
    },
    {
      "cell_type": "code",
      "metadata": {
        "scrolled": true,
        "colab": {
          "base_uri": "https://localhost:8080/",
          "height": 204
        },
        "id": "aRJaidAe9uip",
        "outputId": "52b21605-78fa-4a61-a7c1-2e4386f4cbe3"
      },
      "source": [
        "test.head()"
      ],
      "execution_count": 261,
      "outputs": [
        {
          "output_type": "execute_result",
          "data": {
            "text/html": [
              "<div>\n",
              "<style scoped>\n",
              "    .dataframe tbody tr th:only-of-type {\n",
              "        vertical-align: middle;\n",
              "    }\n",
              "\n",
              "    .dataframe tbody tr th {\n",
              "        vertical-align: top;\n",
              "    }\n",
              "\n",
              "    .dataframe thead th {\n",
              "        text-align: right;\n",
              "    }\n",
              "</style>\n",
              "<table border=\"1\" class=\"dataframe\">\n",
              "  <thead>\n",
              "    <tr style=\"text-align: right;\">\n",
              "      <th></th>\n",
              "      <th>Day</th>\n",
              "      <th>Hour</th>\n",
              "      <th>Minute</th>\n",
              "      <th>DHI</th>\n",
              "      <th>DNI</th>\n",
              "      <th>WS</th>\n",
              "      <th>RH</th>\n",
              "      <th>T</th>\n",
              "      <th>TARGET</th>\n",
              "      <th>sep_day</th>\n",
              "    </tr>\n",
              "  </thead>\n",
              "  <tbody>\n",
              "    <tr>\n",
              "      <th>0</th>\n",
              "      <td>0</td>\n",
              "      <td>0</td>\n",
              "      <td>0</td>\n",
              "      <td>0</td>\n",
              "      <td>0</td>\n",
              "      <td>2.7</td>\n",
              "      <td>34.42</td>\n",
              "      <td>0.0</td>\n",
              "      <td>0.0</td>\n",
              "      <td>0</td>\n",
              "    </tr>\n",
              "    <tr>\n",
              "      <th>1</th>\n",
              "      <td>0</td>\n",
              "      <td>0</td>\n",
              "      <td>30</td>\n",
              "      <td>0</td>\n",
              "      <td>0</td>\n",
              "      <td>2.7</td>\n",
              "      <td>34.17</td>\n",
              "      <td>0.1</td>\n",
              "      <td>0.0</td>\n",
              "      <td>0</td>\n",
              "    </tr>\n",
              "    <tr>\n",
              "      <th>2</th>\n",
              "      <td>0</td>\n",
              "      <td>1</td>\n",
              "      <td>0</td>\n",
              "      <td>0</td>\n",
              "      <td>0</td>\n",
              "      <td>2.7</td>\n",
              "      <td>34.23</td>\n",
              "      <td>0.2</td>\n",
              "      <td>0.0</td>\n",
              "      <td>0</td>\n",
              "    </tr>\n",
              "    <tr>\n",
              "      <th>3</th>\n",
              "      <td>0</td>\n",
              "      <td>1</td>\n",
              "      <td>30</td>\n",
              "      <td>0</td>\n",
              "      <td>0</td>\n",
              "      <td>2.7</td>\n",
              "      <td>33.99</td>\n",
              "      <td>0.3</td>\n",
              "      <td>0.0</td>\n",
              "      <td>0</td>\n",
              "    </tr>\n",
              "    <tr>\n",
              "      <th>4</th>\n",
              "      <td>0</td>\n",
              "      <td>2</td>\n",
              "      <td>0</td>\n",
              "      <td>0</td>\n",
              "      <td>0</td>\n",
              "      <td>2.8</td>\n",
              "      <td>33.97</td>\n",
              "      <td>0.4</td>\n",
              "      <td>0.0</td>\n",
              "      <td>0</td>\n",
              "    </tr>\n",
              "  </tbody>\n",
              "</table>\n",
              "</div>"
            ],
            "text/plain": [
              "   Day  Hour  Minute  DHI  DNI   WS     RH    T  TARGET  sep_day\n",
              "0    0     0       0    0    0  2.7  34.42  0.0     0.0        0\n",
              "1    0     0      30    0    0  2.7  34.17  0.1     0.0        0\n",
              "2    0     1       0    0    0  2.7  34.23  0.2     0.0        0\n",
              "3    0     1      30    0    0  2.7  33.99  0.3     0.0        0\n",
              "4    0     2       0    0    0  2.8  33.97  0.4     0.0        0"
            ]
          },
          "metadata": {
            "tags": []
          },
          "execution_count": 261
        }
      ]
    },
    {
      "cell_type": "code",
      "metadata": {
        "id": "p1_54jHNDe6U"
      },
      "source": [
        "tr_times = []\r\n",
        "for day in train.Day.unique() :\r\n",
        "  d = train.loc[train.Day == day]\r\n",
        "  try :\r\n",
        "    start = d.loc[d.DNI > 0].index[0]\r\n",
        "    end = d.loc[d.DNI > 0].index[-1]\r\n",
        "    gap = end - start\r\n",
        "  except :\r\n",
        "    gap = 0\r\n",
        "\r\n",
        "  tr_times.append(gap)"
      ],
      "execution_count": 372,
      "outputs": []
    },
    {
      "cell_type": "code",
      "metadata": {
        "id": "iQgcic0GFwEs"
      },
      "source": [
        "te_times = []\r\n",
        "for day in test.Day.unique() :\r\n",
        "  d = test.loc[train.Day == day]\r\n",
        "  try :\r\n",
        "    start = d.loc[d.DNI > 0].index[0]\r\n",
        "    end = d.loc[d.DNI > 0].index[-1]\r\n",
        "    gap = end - start\r\n",
        "  except :\r\n",
        "    gap = 0\r\n",
        "  \r\n",
        "  te_times.append(gap)"
      ],
      "execution_count": 373,
      "outputs": []
    },
    {
      "cell_type": "code",
      "metadata": {
        "id": "f0X30dDrF2A5"
      },
      "source": [
        "train_sun_time = pd.DataFrame({'Day' : train.Day.unique(), 'sun_time' : tr_times})\r\n",
        "test_sun_time = pd.DataFrame({'Day' : test.Day.unique(), 'sun_time' : te_times})"
      ],
      "execution_count": 374,
      "outputs": []
    },
    {
      "cell_type": "code",
      "metadata": {
        "id": "H6NlC-FxF-zs"
      },
      "source": [
        "train = pd.merge(train, train_sun_time, how = 'left', on = 'Day')\r\n",
        "test = pd.merge(test, test_sun_time, how = 'left', on = 'Day')"
      ],
      "execution_count": 375,
      "outputs": []
    },
    {
      "cell_type": "code",
      "metadata": {
        "id": "aXtvJEWnwEe-"
      },
      "source": [
        "def season(x) :\r\n",
        "  if x >= 24 :\r\n",
        "    return 'summer'\r\n",
        "  elif 5 <= x < 24 :\r\n",
        "    return 'spring_or_fall'\r\n",
        "  else :\r\n",
        "    return 'winter'"
      ],
      "execution_count": 379,
      "outputs": []
    },
    {
      "cell_type": "code",
      "metadata": {
        "id": "F7nsYotbvUkf"
      },
      "source": [
        "train_temp_mean = train.groupby('Day')['T'].mean().reset_index(name = 'temp_mean')\r\n",
        "train_temp_mean['season'] = train_temp_mean['temp_mean'].apply(season)"
      ],
      "execution_count": 380,
      "outputs": []
    },
    {
      "cell_type": "code",
      "metadata": {
        "colab": {
          "base_uri": "https://localhost:8080/",
          "height": 280
        },
        "id": "C5ClBqtgwrTA",
        "outputId": "65545ab7-814b-481d-cade-148ce3507117"
      },
      "source": [
        "sns.countplot(train_temp_mean.season, edgecolor = (0,0,0))\r\n",
        "plt.show()"
      ],
      "execution_count": 381,
      "outputs": [
        {
          "output_type": "display_data",
          "data": {
            "image/png": "[encoded data removed]",
            "text/plain": [
              "<Figure size 432x288 with 1 Axes>"
            ]
          },
          "metadata": {
            "tags": [],
            "needs_background": "light"
          }
        }
      ]
    },
    {
      "cell_type": "code",
      "metadata": {
        "id": "WnVESy8F0rTM"
      },
      "source": [
        "train = pd.merge(train, train_temp_mean, how = 'left', on = 'Day')"
      ],
      "execution_count": 382,
      "outputs": []
    },
    {
      "cell_type": "code",
      "metadata": {
        "id": "rU4KahZBt97e"
      },
      "source": [
        "test_temp_mean = test.groupby('sep_day')['T'].mean().reset_index(name = 'temp_mean')\r\n",
        "test_temp_mean['season'] = test_temp_mean['temp_mean'].apply(season)"
      ],
      "execution_count": 383,
      "outputs": []
    },
    {
      "cell_type": "code",
      "metadata": {
        "colab": {
          "base_uri": "https://localhost:8080/",
          "height": 280
        },
        "id": "tagOWGW1xGPH",
        "outputId": "a9dd5a0a-3570-4090-b9d4-32dc3e16ce93"
      },
      "source": [
        "sns.countplot(test_temp_mean.season, edgecolor = (0,0,0))\r\n",
        "plt.show()"
      ],
      "execution_count": 384,
      "outputs": [
        {
          "output_type": "display_data",
          "data": {
            "image/png": "[encoded data removed]",
            "text/plain": [
              "<Figure size 432x288 with 1 Axes>"
            ]
          },
          "metadata": {
            "tags": [],
            "needs_background": "light"
          }
        }
      ]
    },
    {
      "cell_type": "code",
      "metadata": {
        "id": "Rg9CTHCzvkZd"
      },
      "source": [
        "test = pd.merge(test, test_temp_mean, how = 'left', on = 'sep_day')"
      ],
      "execution_count": 385,
      "outputs": []
    },
    {
      "cell_type": "code",
      "metadata": {
        "colab": {
          "base_uri": "https://localhost:8080/",
          "height": 276
        },
        "id": "GTQnP1tP1Z6R",
        "outputId": "bed1078d-ce6a-4346-d550-3861c0257e42"
      },
      "source": [
        "train.groupby('season').TARGET.mean().plot(kind = 'bar')\r\n",
        "plt.show()"
      ],
      "execution_count": 336,
      "outputs": [
        {
          "output_type": "display_data",
          "data": {
            "image/png": "[encoded data removed]",
            "text/plain": [
              "<Figure size 432x288 with 1 Axes>"
            ]
          },
          "metadata": {
            "tags": [],
            "needs_background": "light"
          }
        }
      ]
    },
    {
      "cell_type": "code",
      "metadata": {
        "colab": {
          "base_uri": "https://localhost:8080/",
          "height": 276
        },
        "id": "DvMN23r-1c_S",
        "outputId": "1a58e76c-1a6f-4d36-fb88-14799816454d"
      },
      "source": [
        "test.groupby('season').TARGET.mean().plot(kind = 'bar')\r\n",
        "plt.show()"
      ],
      "execution_count": 335,
      "outputs": [
        {
          "output_type": "display_data",
          "data": {
            "image/png": "[encoded data removed]",
            "text/plain": [
              "<Figure size 432x288 with 1 Axes>"
            ]
          },
          "metadata": {
            "tags": [],
            "needs_background": "light"
          }
        }
      ]
    },
    {
      "cell_type": "code",
      "metadata": {
        "id": "OaIEU5re1j6A"
      },
      "source": [
        "train.season = train.season.map({'summer' : 2, 'spring_or_fall' : 1, 'winter' : 0})\r\n",
        "test.season = test.season.map({'summer' : 2, 'spring_or_fall' : 1, 'winter' : 0})"
      ],
      "execution_count": 386,
      "outputs": []
    },
    {
      "cell_type": "code",
      "metadata": {
        "id": "MP_YbOANqkw5"
      },
      "source": [
        "train['eff_gap'] = [.05 * (x - 25) if x > 25 else 0 for x in train['T']]\r\n",
        "test['eff_gap'] = [.05 * (x - 25) if x > 25 else 0 for x in test['T']]"
      ],
      "execution_count": 387,
      "outputs": []
    },
    {
      "cell_type": "code",
      "metadata": {
        "id": "psUSJs-n9uip"
      },
      "source": [
        "train['DNI'] = np.log1p(train['DNI'])\n",
        "train['DHI'] = np.log1p(train['DHI'])\n",
        "train['WS'] = np.log1p(train['WS'])"
      ],
      "execution_count": 388,
      "outputs": []
    },
    {
      "cell_type": "code",
      "metadata": {
        "id": "zXrKnGtI9uip"
      },
      "source": [
        "test['DNI'] = np.log1p(test['DNI'])\n",
        "test['DHI'] = np.log1p(test['DHI'])\n",
        "test['WS'] = np.log1p(test['WS'])"
      ],
      "execution_count": 389,
      "outputs": []
    },
    {
      "cell_type": "code",
      "metadata": {
        "id": "sJwte7Qt9uiq"
      },
      "source": [
        "train.Minute = train.Minute.map({30 : 1, 0: 0})\n",
        "test.Minute = test.Minute.map({30 : 1, 0: 0})"
      ],
      "execution_count": 390,
      "outputs": []
    },
    {
      "cell_type": "code",
      "metadata": {
        "id": "2WQQLjW79uiq"
      },
      "source": [
        "train['hour_mean'] = train.Hour.map(train.groupby('Hour').TARGET.mean())\n",
        "test['hour_mean'] = test.Hour.map(test.groupby('Hour').TARGET.mean())"
      ],
      "execution_count": 391,
      "outputs": []
    },
    {
      "cell_type": "code",
      "metadata": {
        "id": "Oq-tQgEh9uiq"
      },
      "source": [
        "train['day_mean'] = train.Day.map(train.groupby('Day').TARGET.mean())\n",
        "test['day_mean'] = test.Day.map(test.groupby('Day').TARGET.mean())"
      ],
      "execution_count": 392,
      "outputs": []
    },
    {
      "cell_type": "code",
      "metadata": {
        "id": "tOPPOv_iRZWP"
      },
      "source": [
        "train_after_2 = train.loc[train.Day <= 1092]\r\n",
        "train_after_2['TARGET2'] = list(train.loc[train.Day >= 2].TARGET)\r\n",
        "train_after_2['Day'] = train_after_2.Day % 9"
      ],
      "execution_count": 393,
      "outputs": []
    },
    {
      "cell_type": "code",
      "metadata": {
        "id": "sqcW8fwJ9uit"
      },
      "source": [
        "train_after_2.drop(['Day', 'Hour', 'Minute'], axis =1 ,inplace = True)\r\n",
        "test.drop('sep_day', axis = 1, inplace = True)"
      ],
      "execution_count": 395,
      "outputs": []
    },
    {
      "cell_type": "code",
      "metadata": {
        "id": "q23GM8-99uit"
      },
      "source": [
        "target1 = test.query('Day in [0, 1]').drop(['Day','Hour', 'Minute'], axis =1)\n",
        "target2 = test.query('Day in [1, 2]').drop(['Day','Hour', 'Minute'], axis =1)\n",
        "target3 = test.query('Day in [2, 3]').drop(['Day','Hour', 'Minute'], axis =1)\n",
        "target4 = test.query('Day in [3, 4]').drop(['Day','Hour', 'Minute'], axis =1)\n",
        "\n",
        "target_list = [target1, target2, target3, target4]"
      ],
      "execution_count": 396,
      "outputs": []
    },
    {
      "cell_type": "code",
      "metadata": {
        "id": "s1ISPi209uiu"
      },
      "source": [
        "actual1 = test.query('Day in [2,3]').TARGET\n",
        "actual2 = test.query('Day in [3,4]').TARGET\n",
        "actual3 = test.query('Day in [4,5]').TARGET\n",
        "actual4 = test.query('Day in [5,6]').TARGET\n",
        "\n",
        "actual_list = [actual1, actual2, actual3, actual4]"
      ],
      "execution_count": 397,
      "outputs": []
    },
    {
      "cell_type": "code",
      "metadata": {
        "id": "ROjyaIvP9uiu"
      },
      "source": [
        "target = test.query('Day in [5,6]').drop(['Day','Hour', 'Minute'], axis = 1)"
      ],
      "execution_count": 400,
      "outputs": []
    },
    {
      "cell_type": "code",
      "metadata": {
        "id": "u_xR04qf9uiu"
      },
      "source": [
        "def pb_loss(true, pred, q) :\n",
        "    \n",
        "    L_list = []\n",
        "    \n",
        "    for i in range(len(true)) :\n",
        "        \n",
        "        if true.iloc[i] >= pred[i] :\n",
        "            L = true.iloc[i] - pred[i]\n",
        "            L *= q\n",
        "            \n",
        "        else :\n",
        "            L1 = pred[i] - true.iloc[i]\n",
        "            L2 = 1 - q\n",
        "            L = L1 * L2\n",
        "            \n",
        "        L_list.append(L)\n",
        "        \n",
        "    return np.mean(L_list)"
      ],
      "execution_count": 86,
      "outputs": []
    },
    {
      "cell_type": "code",
      "metadata": {
        "id": "ioNNBcBl_xZX"
      },
      "source": [
        "import tensorflow as tf\r\n",
        "from tensorflow import keras\r\n",
        "from tensorflow.keras.layers import *\r\n",
        "from tensorflow.keras.optimizers import *\r\n",
        "from tensorflow.keras.callbacks import *\r\n",
        "from tensorflow.keras.models import load_model\r\n",
        "from sklearn.preprocessing import StandardScaler, MinMaxScaler"
      ],
      "execution_count": 30,
      "outputs": []
    },
    {
      "cell_type": "code",
      "metadata": {
        "id": "Df8lorlo_NRI"
      },
      "source": [
        "def tilted_loss(q, y, f):\r\n",
        "    e = (y - f)\r\n",
        "    return keras.backend.mean(keras.backend.maximum(q * e, (q - 1) * e), \r\n",
        "                              axis=-1)"
      ],
      "execution_count": 31,
      "outputs": []
    },
    {
      "cell_type": "code",
      "metadata": {
        "id": "6BJc3ijag8UX"
      },
      "source": [
        "scaler = StandardScaler()\r\n",
        "train_after_2[['RH', \"T\"]] = scaler.fit_transform(train_after_2[['RH','T']])"
      ],
      "execution_count": 401,
      "outputs": []
    },
    {
      "cell_type": "code",
      "metadata": {
        "id": "_PGA2rCxhRFk"
      },
      "source": [
        "tr_X = train_after_2.drop('TARGET2', axis = 1).iloc[:int(train.shape[0] * .8), :]\r\n",
        "tr_y = train_after_2.TARGET2.iloc[:int(train.shape[0] * .8)]\r\n",
        "\r\n",
        "val_X = train_after_2.drop('TARGET2', axis = 1).iloc[int(train.shape[0] * .8):, :]\r\n",
        "val_y = train_after_2.TARGET2.iloc[int(train.shape[0] * .8):]"
      ],
      "execution_count": 402,
      "outputs": []
    },
    {
      "cell_type": "code",
      "metadata": {
        "id": "LuCVTGjHheCm"
      },
      "source": [
        "test[['RH','T']] = scaler.transform(test[['RH','T']])"
      ],
      "execution_count": 403,
      "outputs": []
    },
    {
      "cell_type": "code",
      "metadata": {
        "id": "kNyniHlrhX4l"
      },
      "source": [
        "target1 = test.query('Day in [0, 1]').drop(['Day', 'Hour', 'Minute'], axis =1)\r\n",
        "target2 = test.query('Day in [1, 2]').drop(['Day', 'Hour', 'Minute'], axis =1)\r\n",
        "target3 = test.query('Day in [2, 3]').drop(['Day', 'Hour', 'Minute'], axis =1)\r\n",
        "target4 = test.query('Day in [3, 4]').drop(['Day', 'Hour', 'Minute'], axis =1)\r\n",
        "\r\n",
        "target_list = [target1, target2, target3, target4]\r\n",
        "\r\n",
        "target = test.query('Day in [5,6]').drop(['Day', 'Hour', 'Minute'], axis = 1)"
      ],
      "execution_count": 404,
      "outputs": []
    },
    {
      "cell_type": "code",
      "metadata": {
        "colab": {
          "base_uri": "https://localhost:8080/"
        },
        "id": "XFe10wynEFAM",
        "outputId": "a65405a0-faac-4a3c-df73-7c2606abdcab"
      },
      "source": [
        "for i, data in enumerate(zip(target_list, actual_list)) :\r\n",
        "  print(f'{i + 1}번째 데이터셋으로 학습 및 검증 시작')\r\n",
        "  for q in [.1, .2, .3, .4, .5, .6, .7, .8, .9] :\r\n",
        "    pb_loss_list = []\r\n",
        "    n = int(q * 10)\r\n",
        "    print(f'quantile {q} regression start')\r\n",
        "    model = keras.Sequential([\r\n",
        "    Dense(32, activation='relu', input_shape=[tr_X.shape[1]]),\r\n",
        "    Dropout(.3),\r\n",
        "    Dense(32, activation='relu'),\r\n",
        "    Dense(1)])\r\n",
        "    optimizer = tf.keras.optimizers.RMSprop(0.0005)\r\n",
        "    es = EarlyStopping(monitor = 'val_loss', patience = 3, mode = 'min', restore_best_weights = True, verbose = 0)\r\n",
        "    mc = ModelCheckpoint(f'1218keras_{n}.h5', mode = 'min', monitor = 'val_loss', patience = 3, save_weights_only = True, verbose = 0)\r\n",
        "    model.compile(loss=lambda y, f: tilted_loss(q, y, f), optimizer=optimizer)\r\n",
        "    \r\n",
        "    model.fit(tr_X, tr_y, epochs=30, batch_size=32, verbose=0, validation_data = (val_X, val_y), callbacks = [es, mc])\r\n",
        "    model.load_weights(f'1218keras_{n}.h5')\r\n",
        "    \r\n",
        "    pred = model.predict(data[0]).reshape(-1)\r\n",
        "    pred = [0 if x < 0 else x for x in pred]\r\n",
        "    loss = pb_loss(data[1], pred, q)\r\n",
        "    pb_loss_list.append(loss)\r\n",
        "  print(f'평균 loss는 {np.mean(pb_loss_list)}')"
      ],
      "execution_count": 405,
      "outputs": [
        {
          "output_type": "stream",
          "text": [
            "1번째 데이터셋으로 학습 및 검증 시작\n",
            "quantile 0.1 regression start\n",
            "quantile 0.2 regression start\n",
            "quantile 0.3 regression start\n",
            "quantile 0.4 regression start\n",
            "quantile 0.5 regression start\n",
            "quantile 0.6 regression start\n",
            "quantile 0.7 regression start\n",
            "quantile 0.8 regression start\n",
            "quantile 0.9 regression start\n",
            "평균 loss는 1.3289383471886769\n",
            "2번째 데이터셋으로 학습 및 검증 시작\n",
            "quantile 0.1 regression start\n",
            "quantile 0.2 regression start\n",
            "quantile 0.3 regression start\n",
            "quantile 0.4 regression start\n",
            "quantile 0.5 regression start\n",
            "quantile 0.6 regression start\n",
            "quantile 0.7 regression start\n",
            "quantile 0.8 regression start\n",
            "quantile 0.9 regression start\n",
            "평균 loss는 1.3506878660366797\n",
            "3번째 데이터셋으로 학습 및 검증 시작\n",
            "quantile 0.1 regression start\n",
            "quantile 0.2 regression start\n",
            "quantile 0.3 regression start\n",
            "quantile 0.4 regression start\n",
            "quantile 0.5 regression start\n",
            "quantile 0.6 regression start\n",
            "quantile 0.7 regression start\n",
            "quantile 0.8 regression start\n",
            "quantile 0.9 regression start\n",
            "평균 loss는 1.179703712177776\n",
            "4번째 데이터셋으로 학습 및 검증 시작\n",
            "quantile 0.1 regression start\n",
            "quantile 0.2 regression start\n",
            "quantile 0.3 regression start\n",
            "quantile 0.4 regression start\n",
            "quantile 0.5 regression start\n",
            "quantile 0.6 regression start\n",
            "quantile 0.7 regression start\n",
            "quantile 0.8 regression start\n",
            "quantile 0.9 regression start\n",
            "평균 loss는 1.5481475586924092\n"
          ],
          "name": "stdout"
        }
      ]
    },
    {
      "cell_type": "code",
      "metadata": {
        "id": "AoP8P7uTU8aM"
      },
      "source": [
        "for q in [.1, .2, .3, .4, .5, .6, .7, .8, .9] :\r\n",
        "    n = int(q * 10)\r\n",
        "    model = keras.Sequential([\r\n",
        "    Dense(32, activation='relu', input_shape=[tr_X.shape[1]]),\r\n",
        "    Dropout(.3),\r\n",
        "    Dense(32, activation='relu'),\r\n",
        "    Dense(1)])\r\n",
        "    model.load_weights(f'1218keras_{n}.h5')\r\n",
        "    pred = model.predict(data[0]).reshape(-1)\r\n",
        "    pred = [0 if x < 0 else x for x in pred]\r\n",
        "    submission[f'q_{q}'] = pred\r\n",
        "keras_submission = submission.copy()"
      ],
      "execution_count": null,
      "outputs": []
    },
    {
      "cell_type": "code",
      "metadata": {
        "colab": {
          "base_uri": "https://localhost:8080/",
          "height": 419
        },
        "id": "Tu0PqLbCVeQy",
        "outputId": "6e2c63e4-c45c-4921-fe08-566a94ec767f"
      },
      "source": [
        "keras_submission "
      ],
      "execution_count": null,
      "outputs": [
        {
          "output_type": "execute_result",
          "data": {
            "text/html": [
              "<div>\n",
              "<style scoped>\n",
              "    .dataframe tbody tr th:only-of-type {\n",
              "        vertical-align: middle;\n",
              "    }\n",
              "\n",
              "    .dataframe tbody tr th {\n",
              "        vertical-align: top;\n",
              "    }\n",
              "\n",
              "    .dataframe thead th {\n",
              "        text-align: right;\n",
              "    }\n",
              "</style>\n",
              "<table border=\"1\" class=\"dataframe\">\n",
              "  <thead>\n",
              "    <tr style=\"text-align: right;\">\n",
              "      <th></th>\n",
              "      <th>id</th>\n",
              "      <th>q_0.1</th>\n",
              "      <th>q_0.2</th>\n",
              "      <th>q_0.3</th>\n",
              "      <th>q_0.4</th>\n",
              "      <th>q_0.5</th>\n",
              "      <th>q_0.6</th>\n",
              "      <th>q_0.7</th>\n",
              "      <th>q_0.8</th>\n",
              "      <th>q_0.9</th>\n",
              "    </tr>\n",
              "  </thead>\n",
              "  <tbody>\n",
              "    <tr>\n",
              "      <th>0</th>\n",
              "      <td>0.csv_Day7_0h00m</td>\n",
              "      <td>0.0</td>\n",
              "      <td>0.0</td>\n",
              "      <td>0.000000</td>\n",
              "      <td>0.0</td>\n",
              "      <td>0.0</td>\n",
              "      <td>0.000000</td>\n",
              "      <td>0.0</td>\n",
              "      <td>0.032315</td>\n",
              "      <td>0.000000</td>\n",
              "    </tr>\n",
              "    <tr>\n",
              "      <th>1</th>\n",
              "      <td>0.csv_Day7_0h30m</td>\n",
              "      <td>0.0</td>\n",
              "      <td>0.0</td>\n",
              "      <td>0.000000</td>\n",
              "      <td>0.0</td>\n",
              "      <td>0.0</td>\n",
              "      <td>0.000000</td>\n",
              "      <td>0.0</td>\n",
              "      <td>0.032007</td>\n",
              "      <td>0.000000</td>\n",
              "    </tr>\n",
              "    <tr>\n",
              "      <th>2</th>\n",
              "      <td>0.csv_Day7_1h00m</td>\n",
              "      <td>0.0</td>\n",
              "      <td>0.0</td>\n",
              "      <td>0.000000</td>\n",
              "      <td>0.0</td>\n",
              "      <td>0.0</td>\n",
              "      <td>0.000000</td>\n",
              "      <td>0.0</td>\n",
              "      <td>0.031668</td>\n",
              "      <td>0.000000</td>\n",
              "    </tr>\n",
              "    <tr>\n",
              "      <th>3</th>\n",
              "      <td>0.csv_Day7_1h30m</td>\n",
              "      <td>0.0</td>\n",
              "      <td>0.0</td>\n",
              "      <td>0.000000</td>\n",
              "      <td>0.0</td>\n",
              "      <td>0.0</td>\n",
              "      <td>0.000000</td>\n",
              "      <td>0.0</td>\n",
              "      <td>0.031746</td>\n",
              "      <td>0.000000</td>\n",
              "    </tr>\n",
              "    <tr>\n",
              "      <th>4</th>\n",
              "      <td>0.csv_Day7_2h00m</td>\n",
              "      <td>0.0</td>\n",
              "      <td>0.0</td>\n",
              "      <td>0.000000</td>\n",
              "      <td>0.0</td>\n",
              "      <td>0.0</td>\n",
              "      <td>0.000000</td>\n",
              "      <td>0.0</td>\n",
              "      <td>0.031689</td>\n",
              "      <td>0.000000</td>\n",
              "    </tr>\n",
              "    <tr>\n",
              "      <th>...</th>\n",
              "      <td>...</td>\n",
              "      <td>...</td>\n",
              "      <td>...</td>\n",
              "      <td>...</td>\n",
              "      <td>...</td>\n",
              "      <td>...</td>\n",
              "      <td>...</td>\n",
              "      <td>...</td>\n",
              "      <td>...</td>\n",
              "      <td>...</td>\n",
              "    </tr>\n",
              "    <tr>\n",
              "      <th>7771</th>\n",
              "      <td>80.csv_Day8_21h30m</td>\n",
              "      <td>0.0</td>\n",
              "      <td>0.0</td>\n",
              "      <td>0.013312</td>\n",
              "      <td>0.0</td>\n",
              "      <td>0.0</td>\n",
              "      <td>0.046152</td>\n",
              "      <td>0.0</td>\n",
              "      <td>0.051632</td>\n",
              "      <td>0.058584</td>\n",
              "    </tr>\n",
              "    <tr>\n",
              "      <th>7772</th>\n",
              "      <td>80.csv_Day8_22h00m</td>\n",
              "      <td>0.0</td>\n",
              "      <td>0.0</td>\n",
              "      <td>0.012832</td>\n",
              "      <td>0.0</td>\n",
              "      <td>0.0</td>\n",
              "      <td>0.043391</td>\n",
              "      <td>0.0</td>\n",
              "      <td>0.043419</td>\n",
              "      <td>0.046150</td>\n",
              "    </tr>\n",
              "    <tr>\n",
              "      <th>7773</th>\n",
              "      <td>80.csv_Day8_22h30m</td>\n",
              "      <td>0.0</td>\n",
              "      <td>0.0</td>\n",
              "      <td>0.012373</td>\n",
              "      <td>0.0</td>\n",
              "      <td>0.0</td>\n",
              "      <td>0.039166</td>\n",
              "      <td>0.0</td>\n",
              "      <td>0.038550</td>\n",
              "      <td>0.033107</td>\n",
              "    </tr>\n",
              "    <tr>\n",
              "      <th>7774</th>\n",
              "      <td>80.csv_Day8_23h00m</td>\n",
              "      <td>0.0</td>\n",
              "      <td>0.0</td>\n",
              "      <td>0.011996</td>\n",
              "      <td>0.0</td>\n",
              "      <td>0.0</td>\n",
              "      <td>0.037589</td>\n",
              "      <td>0.0</td>\n",
              "      <td>0.032456</td>\n",
              "      <td>0.023755</td>\n",
              "    </tr>\n",
              "    <tr>\n",
              "      <th>7775</th>\n",
              "      <td>80.csv_Day8_23h30m</td>\n",
              "      <td>0.0</td>\n",
              "      <td>0.0</td>\n",
              "      <td>0.011627</td>\n",
              "      <td>0.0</td>\n",
              "      <td>0.0</td>\n",
              "      <td>0.034173</td>\n",
              "      <td>0.0</td>\n",
              "      <td>0.032492</td>\n",
              "      <td>0.013273</td>\n",
              "    </tr>\n",
              "  </tbody>\n",
              "</table>\n",
              "<p>7776 rows × 10 columns</p>\n",
              "</div>"
            ],
            "text/plain": [
              "                      id  q_0.1  q_0.2  ...  q_0.7     q_0.8     q_0.9\n",
              "0       0.csv_Day7_0h00m    0.0    0.0  ...    0.0  0.032315  0.000000\n",
              "1       0.csv_Day7_0h30m    0.0    0.0  ...    0.0  0.032007  0.000000\n",
              "2       0.csv_Day7_1h00m    0.0    0.0  ...    0.0  0.031668  0.000000\n",
              "3       0.csv_Day7_1h30m    0.0    0.0  ...    0.0  0.031746  0.000000\n",
              "4       0.csv_Day7_2h00m    0.0    0.0  ...    0.0  0.031689  0.000000\n",
              "...                  ...    ...    ...  ...    ...       ...       ...\n",
              "7771  80.csv_Day8_21h30m    0.0    0.0  ...    0.0  0.051632  0.058584\n",
              "7772  80.csv_Day8_22h00m    0.0    0.0  ...    0.0  0.043419  0.046150\n",
              "7773  80.csv_Day8_22h30m    0.0    0.0  ...    0.0  0.038550  0.033107\n",
              "7774  80.csv_Day8_23h00m    0.0    0.0  ...    0.0  0.032456  0.023755\n",
              "7775  80.csv_Day8_23h30m    0.0    0.0  ...    0.0  0.032492  0.013273\n",
              "\n",
              "[7776 rows x 10 columns]"
            ]
          },
          "metadata": {
            "tags": []
          },
          "execution_count": 49
        }
      ]
    },
    {
      "cell_type": "code",
      "metadata": {
        "colab": {
          "base_uri": "https://localhost:8080/",
          "height": 297
        },
        "id": "UkcZJdBRXKn_",
        "outputId": "9adaeb5c-b84a-412a-a656-21982009f1fe"
      },
      "source": [
        "keras_submission.describe()"
      ],
      "execution_count": null,
      "outputs": [
        {
          "output_type": "execute_result",
          "data": {
            "text/html": [
              "<div>\n",
              "<style scoped>\n",
              "    .dataframe tbody tr th:only-of-type {\n",
              "        vertical-align: middle;\n",
              "    }\n",
              "\n",
              "    .dataframe tbody tr th {\n",
              "        vertical-align: top;\n",
              "    }\n",
              "\n",
              "    .dataframe thead th {\n",
              "        text-align: right;\n",
              "    }\n",
              "</style>\n",
              "<table border=\"1\" class=\"dataframe\">\n",
              "  <thead>\n",
              "    <tr style=\"text-align: right;\">\n",
              "      <th></th>\n",
              "      <th>q_0.1</th>\n",
              "      <th>q_0.2</th>\n",
              "      <th>q_0.3</th>\n",
              "      <th>q_0.4</th>\n",
              "      <th>q_0.5</th>\n",
              "      <th>q_0.6</th>\n",
              "      <th>q_0.7</th>\n",
              "      <th>q_0.8</th>\n",
              "      <th>q_0.9</th>\n",
              "    </tr>\n",
              "  </thead>\n",
              "  <tbody>\n",
              "    <tr>\n",
              "      <th>count</th>\n",
              "      <td>7776.000000</td>\n",
              "      <td>7776.000000</td>\n",
              "      <td>7776.000000</td>\n",
              "      <td>7776.000000</td>\n",
              "      <td>7776.000000</td>\n",
              "      <td>7776.000000</td>\n",
              "      <td>7776.000000</td>\n",
              "      <td>7776.000000</td>\n",
              "      <td>7776.000000</td>\n",
              "    </tr>\n",
              "    <tr>\n",
              "      <th>mean</th>\n",
              "      <td>5.393203</td>\n",
              "      <td>8.492019</td>\n",
              "      <td>11.900003</td>\n",
              "      <td>13.966566</td>\n",
              "      <td>15.822503</td>\n",
              "      <td>17.463965</td>\n",
              "      <td>19.158274</td>\n",
              "      <td>20.023084</td>\n",
              "      <td>26.798681</td>\n",
              "    </tr>\n",
              "    <tr>\n",
              "      <th>std</th>\n",
              "      <td>7.470355</td>\n",
              "      <td>11.562747</td>\n",
              "      <td>16.119714</td>\n",
              "      <td>18.401180</td>\n",
              "      <td>20.257282</td>\n",
              "      <td>21.839972</td>\n",
              "      <td>23.622877</td>\n",
              "      <td>24.150015</td>\n",
              "      <td>31.300803</td>\n",
              "    </tr>\n",
              "    <tr>\n",
              "      <th>min</th>\n",
              "      <td>0.000000</td>\n",
              "      <td>0.000000</td>\n",
              "      <td>0.000000</td>\n",
              "      <td>0.000000</td>\n",
              "      <td>0.000000</td>\n",
              "      <td>0.000000</td>\n",
              "      <td>0.000000</td>\n",
              "      <td>0.000000</td>\n",
              "      <td>0.000000</td>\n",
              "    </tr>\n",
              "    <tr>\n",
              "      <th>25%</th>\n",
              "      <td>0.000000</td>\n",
              "      <td>0.000000</td>\n",
              "      <td>0.002433</td>\n",
              "      <td>0.000000</td>\n",
              "      <td>0.000000</td>\n",
              "      <td>0.000000</td>\n",
              "      <td>0.000000</td>\n",
              "      <td>0.034813</td>\n",
              "      <td>0.021617</td>\n",
              "    </tr>\n",
              "    <tr>\n",
              "      <th>50%</th>\n",
              "      <td>0.042945</td>\n",
              "      <td>0.139790</td>\n",
              "      <td>0.297398</td>\n",
              "      <td>0.445135</td>\n",
              "      <td>1.141936</td>\n",
              "      <td>1.868695</td>\n",
              "      <td>1.990904</td>\n",
              "      <td>3.244309</td>\n",
              "      <td>7.560732</td>\n",
              "    </tr>\n",
              "    <tr>\n",
              "      <th>75%</th>\n",
              "      <td>10.394801</td>\n",
              "      <td>16.137550</td>\n",
              "      <td>22.858497</td>\n",
              "      <td>28.071254</td>\n",
              "      <td>32.356520</td>\n",
              "      <td>36.496115</td>\n",
              "      <td>41.251954</td>\n",
              "      <td>42.873041</td>\n",
              "      <td>57.032084</td>\n",
              "    </tr>\n",
              "    <tr>\n",
              "      <th>max</th>\n",
              "      <td>28.142572</td>\n",
              "      <td>43.003899</td>\n",
              "      <td>61.105003</td>\n",
              "      <td>67.528259</td>\n",
              "      <td>71.654579</td>\n",
              "      <td>74.502640</td>\n",
              "      <td>75.773888</td>\n",
              "      <td>81.720047</td>\n",
              "      <td>96.256210</td>\n",
              "    </tr>\n",
              "  </tbody>\n",
              "</table>\n",
              "</div>"
            ],
            "text/plain": [
              "             q_0.1        q_0.2  ...        q_0.8        q_0.9\n",
              "count  7776.000000  7776.000000  ...  7776.000000  7776.000000\n",
              "mean      5.393203     8.492019  ...    20.023084    26.798681\n",
              "std       7.470355    11.562747  ...    24.150015    31.300803\n",
              "min       0.000000     0.000000  ...     0.000000     0.000000\n",
              "25%       0.000000     0.000000  ...     0.034813     0.021617\n",
              "50%       0.042945     0.139790  ...     3.244309     7.560732\n",
              "75%      10.394801    16.137550  ...    42.873041    57.032084\n",
              "max      28.142572    43.003899  ...    81.720047    96.256210\n",
              "\n",
              "[8 rows x 9 columns]"
            ]
          },
          "metadata": {
            "tags": []
          },
          "execution_count": 50
        }
      ]
    },
    {
      "cell_type": "code",
      "metadata": {
        "id": "UdcrmzkHVq7I"
      },
      "source": [
        "X = train_after_2.drop('TARGET2', axis = 1)\r\n",
        "y = train_after_2.TARGET2"
      ],
      "execution_count": 406,
      "outputs": []
    },
    {
      "cell_type": "code",
      "metadata": {
        "colab": {
          "base_uri": "https://localhost:8080/"
        },
        "id": "VkIrGIqvhzpB",
        "outputId": "fd203907-848d-4ad0-a472-4a9497dcdf2e"
      },
      "source": [
        "for i, data in enumerate(zip(target_list, actual_list)) :\r\n",
        "    loss_list = []\r\n",
        "    print(f'{i + 1}번째 데이터셋으로 학습 및 검증 시작')\r\n",
        "    for qt in [.1, .2, .3, .4, .5, .6, .7, .8, .9] :\r\n",
        "\r\n",
        "      quantreg = sm.QuantReg(y, X)\r\n",
        "      pred = [0 if x < 0 else x for x in quantreg.fit(qt).predict(data[0])]\r\n",
        "\r\n",
        "      loss = pb_loss(data[1], pred, qt)\r\n",
        "      loss_list.append(loss)\r\n",
        "      print(f'{qt} quantile pinball_loss는 {np.mean(loss_list)}')      "
      ],
      "execution_count": 407,
      "outputs": [
        {
          "output_type": "stream",
          "text": [
            "1번째 데이터셋으로 학습 및 검증 시작\n",
            "0.1 quantile pinball_loss는 1.4108016175261002\n",
            "0.2 quantile pinball_loss는 1.8488034113154965\n",
            "0.3 quantile pinball_loss는 2.163497500303707\n",
            "0.4 quantile pinball_loss는 2.369940847754573\n",
            "0.5 quantile pinball_loss는 2.4764365869268556\n",
            "0.6 quantile pinball_loss는 2.497167582004319\n",
            "0.7 quantile pinball_loss는 2.452112205003654\n",
            "0.8 quantile pinball_loss는 2.351799367889657\n",
            "0.9 quantile pinball_loss는 2.1995029870744403\n",
            "2번째 데이터셋으로 학습 및 검증 시작\n",
            "0.1 quantile pinball_loss는 1.404681396029594\n",
            "0.2 quantile pinball_loss는 1.88016088931034\n",
            "0.3 quantile pinball_loss는 2.2355590608080917\n",
            "0.4 quantile pinball_loss는 2.4693429289772575\n",
            "0.5 quantile pinball_loss는 2.592749177972812\n",
            "0.6 quantile pinball_loss는 2.6218898358642684\n",
            "0.7 quantile pinball_loss는 2.5784980105364927\n",
            "0.8 quantile pinball_loss는 2.4758552380299204\n",
            "0.9 quantile pinball_loss는 2.3164798096035466\n",
            "3번째 데이터셋으로 학습 및 검증 시작\n",
            "0.1 quantile pinball_loss는 1.5249825708810318\n",
            "0.2 quantile pinball_loss는 2.088314941567977\n",
            "0.3 quantile pinball_loss는 2.4897857533559953\n",
            "0.4 quantile pinball_loss는 2.7377986594875585\n",
            "0.5 quantile pinball_loss는 2.859293794323346\n",
            "0.6 quantile pinball_loss는 2.880196267815306\n",
            "0.7 quantile pinball_loss는 2.8240842209317165\n",
            "0.8 quantile pinball_loss는 2.7050895787889506\n",
            "0.9 quantile pinball_loss는 2.525313607031692\n",
            "4번째 데이터셋으로 학습 및 검증 시작\n",
            "0.1 quantile pinball_loss는 1.5739486182771802\n",
            "0.2 quantile pinball_loss는 2.15618017654408\n",
            "0.3 quantile pinball_loss는 2.5636010859786578\n",
            "0.4 quantile pinball_loss는 2.809403786274821\n",
            "0.5 quantile pinball_loss는 2.928689395141549\n",
            "0.6 quantile pinball_loss는 2.9499477929621363\n",
            "0.7 quantile pinball_loss는 2.8960385433833324\n",
            "0.8 quantile pinball_loss는 2.776553408657758\n",
            "0.9 quantile pinball_loss는 2.5928960812586133\n"
          ],
          "name": "stdout"
        }
      ]
    },
    {
      "cell_type": "code",
      "metadata": {
        "scrolled": true,
        "colab": {
          "base_uri": "https://localhost:8080/"
        },
        "id": "lIFeknCj9uiu",
        "outputId": "054559fb-84df-4cd6-f6f9-d124bb8a8335"
      },
      "source": [
        "for i, data in enumerate(zip(target_list, actual_list)) :\n",
        "    loss_list = []\n",
        "    print(f'{i + 1}번째 데이터셋으로 학습 및 검증 시작')\n",
        "    for qt in [.1, .2, .3, .4, .5, .6, .7, .8, .9] :\n",
        "        \n",
        "        gbm = GradientBoostingRegressor(random_state = 1216, max_depth = 4, loss = 'quantile', alpha = qt)\n",
        "        gbm.fit(X, y)\n",
        "\n",
        "        pred = gbm.predict(data[0])\n",
        "\n",
        "        loss = pb_loss(data[1], pred, qt)\n",
        "        loss_list.append(loss)\n",
        "        print(f'{qt} quantile pinball_loss는 {np.mean(loss_list)}')"
      ],
      "execution_count": 409,
      "outputs": [
        {
          "output_type": "stream",
          "text": [
            "1번째 데이터셋으로 학습 및 검증 시작\n",
            "0.1 quantile pinball_loss는 1.454269039145502\n",
            "0.2 quantile pinball_loss는 1.9323452323658892\n",
            "0.3 quantile pinball_loss는 2.231302007471864\n",
            "0.4 quantile pinball_loss는 2.4188676657465455\n",
            "0.5 quantile pinball_loss는 2.4990948545318776\n",
            "0.6 quantile pinball_loss는 2.504140493146037\n",
            "0.7 quantile pinball_loss는 2.450547382850611\n",
            "0.8 quantile pinball_loss는 2.3495665982657634\n",
            "0.9 quantile pinball_loss는 2.2050117002570584\n",
            "2번째 데이터셋으로 학습 및 검증 시작\n",
            "0.1 quantile pinball_loss는 1.469926418389696\n",
            "0.2 quantile pinball_loss는 1.9991185406177685\n",
            "0.3 quantile pinball_loss는 2.328100110854477\n",
            "0.4 quantile pinball_loss는 2.527511832055257\n",
            "0.5 quantile pinball_loss는 2.618044973444823\n",
            "0.6 quantile pinball_loss는 2.6321458413112375\n",
            "0.7 quantile pinball_loss는 2.580443568214846\n",
            "0.8 quantile pinball_loss는 2.4759059299473565\n",
            "0.9 quantile pinball_loss는 2.3205091210387447\n",
            "3번째 데이터셋으로 학습 및 검증 시작\n",
            "0.1 quantile pinball_loss는 1.5646071741897614\n",
            "0.2 quantile pinball_loss는 2.1095878183050925\n",
            "0.3 quantile pinball_loss는 2.47693792307067\n",
            "0.4 quantile pinball_loss는 2.688200564129856\n",
            "0.5 quantile pinball_loss는 2.7907923072295135\n",
            "0.6 quantile pinball_loss는 2.8106428286630707\n",
            "0.7 quantile pinball_loss는 2.7538502539756657\n",
            "0.8 quantile pinball_loss는 2.63978133155854\n",
            "0.9 quantile pinball_loss는 2.4712487406885058\n",
            "4번째 데이터셋으로 학습 및 검증 시작\n",
            "0.1 quantile pinball_loss는 1.5505822843535235\n",
            "0.2 quantile pinball_loss는 2.066002603095416\n",
            "0.3 quantile pinball_loss는 2.4196472457606326\n",
            "0.4 quantile pinball_loss는 2.629954666783742\n",
            "0.5 quantile pinball_loss는 2.7343318650487367\n",
            "0.6 quantile pinball_loss는 2.759594740876954\n",
            "0.7 quantile pinball_loss는 2.7141048967435024\n",
            "0.8 quantile pinball_loss는 2.610300421871969\n",
            "0.9 quantile pinball_loss는 2.4559409679502697\n"
          ],
          "name": "stdout"
        }
      ]
    },
    {
      "cell_type": "code",
      "metadata": {
        "id": "2EeWj0L79uiv"
      },
      "source": [
        "for q in [.1, .2, .3, .4, .5, .6, .7, .8, .9] :\n",
        "    \n",
        "    gbm = GradientBoostingRegressor(random_state = 1216, loss = 'quantile', alpha = q)\n",
        "    gbm.fit(X, y)\n",
        "\n",
        "    gbm_pred = gbm.predict(target)\n",
        "    submission[f'q_{q}'] = gbm_pred\n",
        "gbm_submission = submission.copy()"
      ],
      "execution_count": 410,
      "outputs": []
    },
    {
      "cell_type": "code",
      "metadata": {
        "colab": {
          "base_uri": "https://localhost:8080/",
          "height": 419
        },
        "id": "l2bwd7p5XInR",
        "outputId": "de68dc93-ed89-4b9b-bf0e-abfb4b4af6a4"
      },
      "source": [
        "gbm_submission"
      ],
      "execution_count": 411,
      "outputs": [
        {
          "output_type": "execute_result",
          "data": {
            "text/html": [
              "<div>\n",
              "<style scoped>\n",
              "    .dataframe tbody tr th:only-of-type {\n",
              "        vertical-align: middle;\n",
              "    }\n",
              "\n",
              "    .dataframe tbody tr th {\n",
              "        vertical-align: top;\n",
              "    }\n",
              "\n",
              "    .dataframe thead th {\n",
              "        text-align: right;\n",
              "    }\n",
              "</style>\n",
              "<table border=\"1\" class=\"dataframe\">\n",
              "  <thead>\n",
              "    <tr style=\"text-align: right;\">\n",
              "      <th></th>\n",
              "      <th>id</th>\n",
              "      <th>q_0.1</th>\n",
              "      <th>q_0.2</th>\n",
              "      <th>q_0.3</th>\n",
              "      <th>q_0.4</th>\n",
              "      <th>q_0.5</th>\n",
              "      <th>q_0.6</th>\n",
              "      <th>q_0.7</th>\n",
              "      <th>q_0.8</th>\n",
              "      <th>q_0.9</th>\n",
              "    </tr>\n",
              "  </thead>\n",
              "  <tbody>\n",
              "    <tr>\n",
              "      <th>0</th>\n",
              "      <td>0.csv_Day7_0h00m</td>\n",
              "      <td>0.0</td>\n",
              "      <td>0.0</td>\n",
              "      <td>0.0</td>\n",
              "      <td>0.0</td>\n",
              "      <td>0.0</td>\n",
              "      <td>0.000237</td>\n",
              "      <td>0.000621</td>\n",
              "      <td>0.001104</td>\n",
              "      <td>0.002299</td>\n",
              "    </tr>\n",
              "    <tr>\n",
              "      <th>1</th>\n",
              "      <td>0.csv_Day7_0h30m</td>\n",
              "      <td>0.0</td>\n",
              "      <td>0.0</td>\n",
              "      <td>0.0</td>\n",
              "      <td>0.0</td>\n",
              "      <td>0.0</td>\n",
              "      <td>0.000237</td>\n",
              "      <td>0.000621</td>\n",
              "      <td>0.001104</td>\n",
              "      <td>0.002299</td>\n",
              "    </tr>\n",
              "    <tr>\n",
              "      <th>2</th>\n",
              "      <td>0.csv_Day7_1h00m</td>\n",
              "      <td>0.0</td>\n",
              "      <td>0.0</td>\n",
              "      <td>0.0</td>\n",
              "      <td>0.0</td>\n",
              "      <td>0.0</td>\n",
              "      <td>0.000237</td>\n",
              "      <td>0.000621</td>\n",
              "      <td>0.001104</td>\n",
              "      <td>0.002299</td>\n",
              "    </tr>\n",
              "    <tr>\n",
              "      <th>3</th>\n",
              "      <td>0.csv_Day7_1h30m</td>\n",
              "      <td>0.0</td>\n",
              "      <td>0.0</td>\n",
              "      <td>0.0</td>\n",
              "      <td>0.0</td>\n",
              "      <td>0.0</td>\n",
              "      <td>0.000237</td>\n",
              "      <td>0.000621</td>\n",
              "      <td>0.001104</td>\n",
              "      <td>0.002299</td>\n",
              "    </tr>\n",
              "    <tr>\n",
              "      <th>4</th>\n",
              "      <td>0.csv_Day7_2h00m</td>\n",
              "      <td>0.0</td>\n",
              "      <td>0.0</td>\n",
              "      <td>0.0</td>\n",
              "      <td>0.0</td>\n",
              "      <td>0.0</td>\n",
              "      <td>0.000237</td>\n",
              "      <td>0.000621</td>\n",
              "      <td>0.001104</td>\n",
              "      <td>0.002299</td>\n",
              "    </tr>\n",
              "    <tr>\n",
              "      <th>...</th>\n",
              "      <td>...</td>\n",
              "      <td>...</td>\n",
              "      <td>...</td>\n",
              "      <td>...</td>\n",
              "      <td>...</td>\n",
              "      <td>...</td>\n",
              "      <td>...</td>\n",
              "      <td>...</td>\n",
              "      <td>...</td>\n",
              "      <td>...</td>\n",
              "    </tr>\n",
              "    <tr>\n",
              "      <th>7771</th>\n",
              "      <td>80.csv_Day8_21h30m</td>\n",
              "      <td>0.0</td>\n",
              "      <td>0.0</td>\n",
              "      <td>0.0</td>\n",
              "      <td>0.0</td>\n",
              "      <td>0.0</td>\n",
              "      <td>0.000237</td>\n",
              "      <td>0.000621</td>\n",
              "      <td>0.001104</td>\n",
              "      <td>0.002299</td>\n",
              "    </tr>\n",
              "    <tr>\n",
              "      <th>7772</th>\n",
              "      <td>80.csv_Day8_22h00m</td>\n",
              "      <td>0.0</td>\n",
              "      <td>0.0</td>\n",
              "      <td>0.0</td>\n",
              "      <td>0.0</td>\n",
              "      <td>0.0</td>\n",
              "      <td>0.000237</td>\n",
              "      <td>0.000621</td>\n",
              "      <td>0.001104</td>\n",
              "      <td>0.002299</td>\n",
              "    </tr>\n",
              "    <tr>\n",
              "      <th>7773</th>\n",
              "      <td>80.csv_Day8_22h30m</td>\n",
              "      <td>0.0</td>\n",
              "      <td>0.0</td>\n",
              "      <td>0.0</td>\n",
              "      <td>0.0</td>\n",
              "      <td>0.0</td>\n",
              "      <td>0.000237</td>\n",
              "      <td>0.000621</td>\n",
              "      <td>0.001104</td>\n",
              "      <td>0.002299</td>\n",
              "    </tr>\n",
              "    <tr>\n",
              "      <th>7774</th>\n",
              "      <td>80.csv_Day8_23h00m</td>\n",
              "      <td>0.0</td>\n",
              "      <td>0.0</td>\n",
              "      <td>0.0</td>\n",
              "      <td>0.0</td>\n",
              "      <td>0.0</td>\n",
              "      <td>0.000237</td>\n",
              "      <td>0.000621</td>\n",
              "      <td>0.001104</td>\n",
              "      <td>0.002299</td>\n",
              "    </tr>\n",
              "    <tr>\n",
              "      <th>7775</th>\n",
              "      <td>80.csv_Day8_23h30m</td>\n",
              "      <td>0.0</td>\n",
              "      <td>0.0</td>\n",
              "      <td>0.0</td>\n",
              "      <td>0.0</td>\n",
              "      <td>0.0</td>\n",
              "      <td>0.000237</td>\n",
              "      <td>0.000621</td>\n",
              "      <td>0.001104</td>\n",
              "      <td>0.002299</td>\n",
              "    </tr>\n",
              "  </tbody>\n",
              "</table>\n",
              "<p>7776 rows × 10 columns</p>\n",
              "</div>"
            ],
            "text/plain": [
              "                      id  q_0.1  q_0.2  ...     q_0.7     q_0.8     q_0.9\n",
              "0       0.csv_Day7_0h00m    0.0    0.0  ...  0.000621  0.001104  0.002299\n",
              "1       0.csv_Day7_0h30m    0.0    0.0  ...  0.000621  0.001104  0.002299\n",
              "2       0.csv_Day7_1h00m    0.0    0.0  ...  0.000621  0.001104  0.002299\n",
              "3       0.csv_Day7_1h30m    0.0    0.0  ...  0.000621  0.001104  0.002299\n",
              "4       0.csv_Day7_2h00m    0.0    0.0  ...  0.000621  0.001104  0.002299\n",
              "...                  ...    ...    ...  ...       ...       ...       ...\n",
              "7771  80.csv_Day8_21h30m    0.0    0.0  ...  0.000621  0.001104  0.002299\n",
              "7772  80.csv_Day8_22h00m    0.0    0.0  ...  0.000621  0.001104  0.002299\n",
              "7773  80.csv_Day8_22h30m    0.0    0.0  ...  0.000621  0.001104  0.002299\n",
              "7774  80.csv_Day8_23h00m    0.0    0.0  ...  0.000621  0.001104  0.002299\n",
              "7775  80.csv_Day8_23h30m    0.0    0.0  ...  0.000621  0.001104  0.002299\n",
              "\n",
              "[7776 rows x 10 columns]"
            ]
          },
          "metadata": {
            "tags": []
          },
          "execution_count": 411
        }
      ]
    },
    {
      "cell_type": "code",
      "metadata": {
        "scrolled": true,
        "colab": {
          "base_uri": "https://localhost:8080/"
        },
        "id": "J-3iR0Yb9uiv",
        "outputId": "52985bef-bd51-41b2-ac1b-570d54f4a4fc"
      },
      "source": [
        "for i, data in enumerate(zip(target_list, actual_list)) :\n",
        "    loss_list = []\n",
        "    print(f'{i + 1}번째 데이터셋으로 학습 및 검증 시작')\n",
        "    for qt in [.1, .2, .3, .4, .5, .6, .7, .8, .9] :\n",
        "\n",
        "        lgbm = LGBMRegressor(random_state = 1218, max_depth = 4, objective = 'quantile', metric = 'quantile', alpha = qt)\n",
        "        lgbm.fit(X, y)\n",
        "\n",
        "        pred = lgbm.predict(data[0])\n",
        "\n",
        "        loss = pb_loss(data[1], pred, qt)\n",
        "\n",
        "        loss_list.append(loss)\n",
        "        print(f'{qt} quantile pinball_loss는 {np.mean(loss_list)}')"
      ],
      "execution_count": 417,
      "outputs": [
        {
          "output_type": "stream",
          "text": [
            "1번째 데이터셋으로 학습 및 검증 시작\n",
            "0.1 quantile pinball_loss는 1.4288055731399927\n",
            "0.2 quantile pinball_loss는 1.886747488775805\n",
            "0.3 quantile pinball_loss는 2.196574841064874\n",
            "0.4 quantile pinball_loss는 2.383817700438793\n",
            "0.5 quantile pinball_loss는 2.4745622242386647\n",
            "0.6 quantile pinball_loss는 2.4824082897041375\n",
            "0.7 quantile pinball_loss는 2.4313488718467084\n",
            "0.8 quantile pinball_loss는 2.3344660137277096\n",
            "0.9 quantile pinball_loss는 2.190799505715389\n",
            "2번째 데이터셋으로 학습 및 검증 시작\n",
            "0.1 quantile pinball_loss는 1.443514416101745\n",
            "0.2 quantile pinball_loss는 1.9598361562926914\n",
            "0.3 quantile pinball_loss는 2.2952743213945856\n",
            "0.4 quantile pinball_loss는 2.4936028401451975\n",
            "0.5 quantile pinball_loss는 2.5912941274687724\n",
            "0.6 quantile pinball_loss는 2.6099657933757037\n",
            "0.7 quantile pinball_loss는 2.5596639916905017\n",
            "0.8 quantile pinball_loss는 2.459991533725575\n",
            "0.9 quantile pinball_loss는 2.3059612259623723\n",
            "3번째 데이터셋으로 학습 및 검증 시작\n",
            "0.1 quantile pinball_loss는 1.5601963355836586\n",
            "0.2 quantile pinball_loss는 2.0972685364357955\n",
            "0.3 quantile pinball_loss는 2.453349634957848\n",
            "0.4 quantile pinball_loss는 2.6707236235515746\n",
            "0.5 quantile pinball_loss는 2.780293842287963\n",
            "0.6 quantile pinball_loss는 2.8038044667007456\n",
            "0.7 quantile pinball_loss는 2.7470137086657167\n",
            "0.8 quantile pinball_loss는 2.6345027816000997\n",
            "0.9 quantile pinball_loss는 2.4669045823583096\n",
            "4번째 데이터셋으로 학습 및 검증 시작\n",
            "0.1 quantile pinball_loss는 1.5505839464168938\n",
            "0.2 quantile pinball_loss는 2.063809945942953\n",
            "0.3 quantile pinball_loss는 2.413929324291812\n",
            "0.4 quantile pinball_loss는 2.628893125743839\n",
            "0.5 quantile pinball_loss는 2.73868185825265\n",
            "0.6 quantile pinball_loss는 2.766347133489521\n",
            "0.7 quantile pinball_loss는 2.72014346398972\n",
            "0.8 quantile pinball_loss는 2.6148955195031607\n",
            "0.9 quantile pinball_loss는 2.4577613132484686\n"
          ],
          "name": "stdout"
        }
      ]
    },
    {
      "cell_type": "code",
      "metadata": {
        "id": "V2zABIDX9uiv"
      },
      "source": [
        "for q in [.1, .2, .3, .4, .5, .6, .7, .8, .9] :\n",
        "    \n",
        "    lgbm = LGBMRegressor(random_state = 1218, objective = 'quantile', metric = 'quantile', alpha = q)\n",
        "    lgbm.fit(X, y)\n",
        "\n",
        "    lgbm_pred = lgbm.predict(data[0])\n",
        "    submission[f'q_{q}'] = lgbm_pred\n",
        "lgbm_submission = submission.copy()"
      ],
      "execution_count": 413,
      "outputs": []
    },
    {
      "cell_type": "code",
      "metadata": {
        "id": "-_ixToP09uiw"
      },
      "source": [
        "keras_submission.iloc[:, 1:] *= .4\n",
        "lgbm_submission.iloc[:, 1:] *= .2\n",
        "gbm_submission.iloc[:, 1:] *= .4"
      ],
      "execution_count": null,
      "outputs": []
    },
    {
      "cell_type": "code",
      "metadata": {
        "id": "3gbTtS9p9uiw"
      },
      "source": [
        "submission.iloc[:, 1:] = lgbm_submission.iloc[:, 1:] + gbm_submission.iloc[:, 1:] + keras_submission.iloc[:, 1:]"
      ],
      "execution_count": null,
      "outputs": []
    },
    {
      "cell_type": "code",
      "metadata": {
        "id": "lj1D5JEY9uiw"
      },
      "source": [
        "submission.iloc[:, 1:] = submission.iloc[:, 1:].applymap(lambda x : 0 if x < 0 else x)"
      ],
      "execution_count": null,
      "outputs": []
    },
    {
      "cell_type": "code",
      "metadata": {
        "colab": {
          "base_uri": "https://localhost:8080/",
          "height": 297
        },
        "id": "sGkwhjIe9uiw",
        "outputId": "68ebec34-d12e-48e5-bf3e-71f058519bef"
      },
      "source": [
        "submission.describe()"
      ],
      "execution_count": null,
      "outputs": [
        {
          "output_type": "execute_result",
          "data": {
            "text/html": [
              "<div>\n",
              "<style scoped>\n",
              "    .dataframe tbody tr th:only-of-type {\n",
              "        vertical-align: middle;\n",
              "    }\n",
              "\n",
              "    .dataframe tbody tr th {\n",
              "        vertical-align: top;\n",
              "    }\n",
              "\n",
              "    .dataframe thead th {\n",
              "        text-align: right;\n",
              "    }\n",
              "</style>\n",
              "<table border=\"1\" class=\"dataframe\">\n",
              "  <thead>\n",
              "    <tr style=\"text-align: right;\">\n",
              "      <th></th>\n",
              "      <th>q_0.1</th>\n",
              "      <th>q_0.2</th>\n",
              "      <th>q_0.3</th>\n",
              "      <th>q_0.4</th>\n",
              "      <th>q_0.5</th>\n",
              "      <th>q_0.6</th>\n",
              "      <th>q_0.7</th>\n",
              "      <th>q_0.8</th>\n",
              "      <th>q_0.9</th>\n",
              "    </tr>\n",
              "  </thead>\n",
              "  <tbody>\n",
              "    <tr>\n",
              "      <th>count</th>\n",
              "      <td>7776.000000</td>\n",
              "      <td>7776.000000</td>\n",
              "      <td>7776.000000</td>\n",
              "      <td>7776.000000</td>\n",
              "      <td>7776.000000</td>\n",
              "      <td>7776.000000</td>\n",
              "      <td>7776.000000</td>\n",
              "      <td>7776.000000</td>\n",
              "      <td>7776.000000</td>\n",
              "    </tr>\n",
              "    <tr>\n",
              "      <th>mean</th>\n",
              "      <td>6.095077</td>\n",
              "      <td>10.208887</td>\n",
              "      <td>13.989474</td>\n",
              "      <td>16.311521</td>\n",
              "      <td>18.184547</td>\n",
              "      <td>19.588074</td>\n",
              "      <td>21.027051</td>\n",
              "      <td>22.158061</td>\n",
              "      <td>25.944825</td>\n",
              "    </tr>\n",
              "    <tr>\n",
              "      <th>std</th>\n",
              "      <td>8.248503</td>\n",
              "      <td>13.442594</td>\n",
              "      <td>18.173177</td>\n",
              "      <td>21.158142</td>\n",
              "      <td>23.152764</td>\n",
              "      <td>24.641844</td>\n",
              "      <td>26.198610</td>\n",
              "      <td>27.080559</td>\n",
              "      <td>30.652147</td>\n",
              "    </tr>\n",
              "    <tr>\n",
              "      <th>min</th>\n",
              "      <td>0.000000</td>\n",
              "      <td>0.000000</td>\n",
              "      <td>0.000000</td>\n",
              "      <td>0.000000</td>\n",
              "      <td>0.000000</td>\n",
              "      <td>0.000142</td>\n",
              "      <td>0.000000</td>\n",
              "      <td>0.000000</td>\n",
              "      <td>0.001326</td>\n",
              "    </tr>\n",
              "    <tr>\n",
              "      <th>25%</th>\n",
              "      <td>0.000000</td>\n",
              "      <td>0.000000</td>\n",
              "      <td>0.000997</td>\n",
              "      <td>0.000000</td>\n",
              "      <td>0.000000</td>\n",
              "      <td>0.000142</td>\n",
              "      <td>0.000372</td>\n",
              "      <td>0.014586</td>\n",
              "      <td>0.010050</td>\n",
              "    </tr>\n",
              "    <tr>\n",
              "      <th>50%</th>\n",
              "      <td>0.194720</td>\n",
              "      <td>0.388088</td>\n",
              "      <td>0.821742</td>\n",
              "      <td>0.863570</td>\n",
              "      <td>1.430941</td>\n",
              "      <td>1.988183</td>\n",
              "      <td>2.599526</td>\n",
              "      <td>3.350001</td>\n",
              "      <td>5.768806</td>\n",
              "    </tr>\n",
              "    <tr>\n",
              "      <th>75%</th>\n",
              "      <td>12.515031</td>\n",
              "      <td>21.276728</td>\n",
              "      <td>29.498494</td>\n",
              "      <td>34.089188</td>\n",
              "      <td>37.933423</td>\n",
              "      <td>40.665967</td>\n",
              "      <td>43.759506</td>\n",
              "      <td>46.824790</td>\n",
              "      <td>54.925541</td>\n",
              "    </tr>\n",
              "    <tr>\n",
              "      <th>max</th>\n",
              "      <td>31.596948</td>\n",
              "      <td>48.690731</td>\n",
              "      <td>60.353096</td>\n",
              "      <td>69.737799</td>\n",
              "      <td>74.260325</td>\n",
              "      <td>77.848500</td>\n",
              "      <td>81.590329</td>\n",
              "      <td>84.700136</td>\n",
              "      <td>94.296276</td>\n",
              "    </tr>\n",
              "  </tbody>\n",
              "</table>\n",
              "</div>"
            ],
            "text/plain": [
              "             q_0.1        q_0.2  ...        q_0.8        q_0.9\n",
              "count  7776.000000  7776.000000  ...  7776.000000  7776.000000\n",
              "mean      6.095077    10.208887  ...    22.158061    25.944825\n",
              "std       8.248503    13.442594  ...    27.080559    30.652147\n",
              "min       0.000000     0.000000  ...     0.000000     0.001326\n",
              "25%       0.000000     0.000000  ...     0.014586     0.010050\n",
              "50%       0.194720     0.388088  ...     3.350001     5.768806\n",
              "75%      12.515031    21.276728  ...    46.824790    54.925541\n",
              "max      31.596948    48.690731  ...    84.700136    94.296276\n",
              "\n",
              "[8 rows x 9 columns]"
            ]
          },
          "metadata": {
            "tags": []
          },
          "execution_count": 60
        }
      ]
    },
    {
      "cell_type": "code",
      "metadata": {
        "colab": {
          "base_uri": "https://localhost:8080/",
          "height": 419
        },
        "id": "X2F4NaUc9uiw",
        "outputId": "93e9af25-b5cd-4958-d050-4c5a7cdffc06"
      },
      "source": [
        "submission"
      ],
      "execution_count": null,
      "outputs": [
        {
          "output_type": "execute_result",
          "data": {
            "text/html": [
              "<div>\n",
              "<style scoped>\n",
              "    .dataframe tbody tr th:only-of-type {\n",
              "        vertical-align: middle;\n",
              "    }\n",
              "\n",
              "    .dataframe tbody tr th {\n",
              "        vertical-align: top;\n",
              "    }\n",
              "\n",
              "    .dataframe thead th {\n",
              "        text-align: right;\n",
              "    }\n",
              "</style>\n",
              "<table border=\"1\" class=\"dataframe\">\n",
              "  <thead>\n",
              "    <tr style=\"text-align: right;\">\n",
              "      <th></th>\n",
              "      <th>id</th>\n",
              "      <th>q_0.1</th>\n",
              "      <th>q_0.2</th>\n",
              "      <th>q_0.3</th>\n",
              "      <th>q_0.4</th>\n",
              "      <th>q_0.5</th>\n",
              "      <th>q_0.6</th>\n",
              "      <th>q_0.7</th>\n",
              "      <th>q_0.8</th>\n",
              "      <th>q_0.9</th>\n",
              "    </tr>\n",
              "  </thead>\n",
              "  <tbody>\n",
              "    <tr>\n",
              "      <th>0</th>\n",
              "      <td>0.csv_Day7_0h00m</td>\n",
              "      <td>0.0</td>\n",
              "      <td>0.0</td>\n",
              "      <td>0.000000</td>\n",
              "      <td>0.0</td>\n",
              "      <td>0.0</td>\n",
              "      <td>0.000142</td>\n",
              "      <td>0.000372</td>\n",
              "      <td>0.013584</td>\n",
              "      <td>0.001326</td>\n",
              "    </tr>\n",
              "    <tr>\n",
              "      <th>1</th>\n",
              "      <td>0.csv_Day7_0h30m</td>\n",
              "      <td>0.0</td>\n",
              "      <td>0.0</td>\n",
              "      <td>0.000000</td>\n",
              "      <td>0.0</td>\n",
              "      <td>0.0</td>\n",
              "      <td>0.000142</td>\n",
              "      <td>0.000372</td>\n",
              "      <td>0.013461</td>\n",
              "      <td>0.001326</td>\n",
              "    </tr>\n",
              "    <tr>\n",
              "      <th>2</th>\n",
              "      <td>0.csv_Day7_1h00m</td>\n",
              "      <td>0.0</td>\n",
              "      <td>0.0</td>\n",
              "      <td>0.000000</td>\n",
              "      <td>0.0</td>\n",
              "      <td>0.0</td>\n",
              "      <td>0.000142</td>\n",
              "      <td>0.000372</td>\n",
              "      <td>0.013325</td>\n",
              "      <td>0.001326</td>\n",
              "    </tr>\n",
              "    <tr>\n",
              "      <th>3</th>\n",
              "      <td>0.csv_Day7_1h30m</td>\n",
              "      <td>0.0</td>\n",
              "      <td>0.0</td>\n",
              "      <td>0.000000</td>\n",
              "      <td>0.0</td>\n",
              "      <td>0.0</td>\n",
              "      <td>0.000142</td>\n",
              "      <td>0.000372</td>\n",
              "      <td>0.013357</td>\n",
              "      <td>0.001326</td>\n",
              "    </tr>\n",
              "    <tr>\n",
              "      <th>4</th>\n",
              "      <td>0.csv_Day7_2h00m</td>\n",
              "      <td>0.0</td>\n",
              "      <td>0.0</td>\n",
              "      <td>0.000000</td>\n",
              "      <td>0.0</td>\n",
              "      <td>0.0</td>\n",
              "      <td>0.000142</td>\n",
              "      <td>0.000372</td>\n",
              "      <td>0.013334</td>\n",
              "      <td>0.001326</td>\n",
              "    </tr>\n",
              "    <tr>\n",
              "      <th>...</th>\n",
              "      <td>...</td>\n",
              "      <td>...</td>\n",
              "      <td>...</td>\n",
              "      <td>...</td>\n",
              "      <td>...</td>\n",
              "      <td>...</td>\n",
              "      <td>...</td>\n",
              "      <td>...</td>\n",
              "      <td>...</td>\n",
              "      <td>...</td>\n",
              "    </tr>\n",
              "    <tr>\n",
              "      <th>7771</th>\n",
              "      <td>80.csv_Day8_21h30m</td>\n",
              "      <td>0.0</td>\n",
              "      <td>0.0</td>\n",
              "      <td>0.005325</td>\n",
              "      <td>0.0</td>\n",
              "      <td>0.0</td>\n",
              "      <td>0.018603</td>\n",
              "      <td>0.000372</td>\n",
              "      <td>0.021311</td>\n",
              "      <td>0.024759</td>\n",
              "    </tr>\n",
              "    <tr>\n",
              "      <th>7772</th>\n",
              "      <td>80.csv_Day8_22h00m</td>\n",
              "      <td>0.0</td>\n",
              "      <td>0.0</td>\n",
              "      <td>0.005133</td>\n",
              "      <td>0.0</td>\n",
              "      <td>0.0</td>\n",
              "      <td>0.017498</td>\n",
              "      <td>0.000372</td>\n",
              "      <td>0.018026</td>\n",
              "      <td>0.019786</td>\n",
              "    </tr>\n",
              "    <tr>\n",
              "      <th>7773</th>\n",
              "      <td>80.csv_Day8_22h30m</td>\n",
              "      <td>0.0</td>\n",
              "      <td>0.0</td>\n",
              "      <td>0.004949</td>\n",
              "      <td>0.0</td>\n",
              "      <td>0.0</td>\n",
              "      <td>0.015808</td>\n",
              "      <td>0.000372</td>\n",
              "      <td>0.016078</td>\n",
              "      <td>0.014569</td>\n",
              "    </tr>\n",
              "    <tr>\n",
              "      <th>7774</th>\n",
              "      <td>80.csv_Day8_23h00m</td>\n",
              "      <td>0.0</td>\n",
              "      <td>0.0</td>\n",
              "      <td>0.004798</td>\n",
              "      <td>0.0</td>\n",
              "      <td>0.0</td>\n",
              "      <td>0.015178</td>\n",
              "      <td>0.000372</td>\n",
              "      <td>0.013641</td>\n",
              "      <td>0.010828</td>\n",
              "    </tr>\n",
              "    <tr>\n",
              "      <th>7775</th>\n",
              "      <td>80.csv_Day8_23h30m</td>\n",
              "      <td>0.0</td>\n",
              "      <td>0.0</td>\n",
              "      <td>0.004651</td>\n",
              "      <td>0.0</td>\n",
              "      <td>0.0</td>\n",
              "      <td>0.013811</td>\n",
              "      <td>0.000372</td>\n",
              "      <td>0.013655</td>\n",
              "      <td>0.006635</td>\n",
              "    </tr>\n",
              "  </tbody>\n",
              "</table>\n",
              "<p>7776 rows × 10 columns</p>\n",
              "</div>"
            ],
            "text/plain": [
              "                      id  q_0.1  q_0.2  ...     q_0.7     q_0.8     q_0.9\n",
              "0       0.csv_Day7_0h00m    0.0    0.0  ...  0.000372  0.013584  0.001326\n",
              "1       0.csv_Day7_0h30m    0.0    0.0  ...  0.000372  0.013461  0.001326\n",
              "2       0.csv_Day7_1h00m    0.0    0.0  ...  0.000372  0.013325  0.001326\n",
              "3       0.csv_Day7_1h30m    0.0    0.0  ...  0.000372  0.013357  0.001326\n",
              "4       0.csv_Day7_2h00m    0.0    0.0  ...  0.000372  0.013334  0.001326\n",
              "...                  ...    ...    ...  ...       ...       ...       ...\n",
              "7771  80.csv_Day8_21h30m    0.0    0.0  ...  0.000372  0.021311  0.024759\n",
              "7772  80.csv_Day8_22h00m    0.0    0.0  ...  0.000372  0.018026  0.019786\n",
              "7773  80.csv_Day8_22h30m    0.0    0.0  ...  0.000372  0.016078  0.014569\n",
              "7774  80.csv_Day8_23h00m    0.0    0.0  ...  0.000372  0.013641  0.010828\n",
              "7775  80.csv_Day8_23h30m    0.0    0.0  ...  0.000372  0.013655  0.006635\n",
              "\n",
              "[7776 rows x 10 columns]"
            ]
          },
          "metadata": {
            "tags": []
          },
          "execution_count": 61
        }
      ]
    },
    {
      "cell_type": "code",
      "metadata": {
        "id": "l779up-M9uix"
      },
      "source": [
        "submission.to_csv('1218_2nd.csv', index = False)"
      ],
      "execution_count": null,
      "outputs": []
    }
  ]
}