{
 "cells": [
  {
   "cell_type": "code",
   "execution_count": 4,
   "id": "21f96709",
   "metadata": {},
   "outputs": [],
   "source": [
    "import pandas as pd\n",
    "import numpy as np\n",
    "\n",
    "import warnings\n",
    "warnings.filterwarnings('ignore')"
   ]
  },
  {
   "cell_type": "code",
   "execution_count": 99,
   "id": "dfdac3a2",
   "metadata": {},
   "outputs": [],
   "source": [
    "train = pd.read_csv('train.csv')\n",
    "test = pd.read_csv('test.csv')"
   ]
  },
  {
   "cell_type": "code",
   "execution_count": 100,
   "id": "bedb3fbf",
   "metadata": {},
   "outputs": [],
   "source": [
    "train.iloc[:, 5:10] += 266\n",
    "test.iloc[:, 5:10] += 266"
   ]
  },
  {
   "cell_type": "code",
   "execution_count": 101,
   "id": "f8f94205",
   "metadata": {},
   "outputs": [],
   "source": [
    "train['Date'] = train['Date'].str[-4:] + '-' + train['Date'].str[3:5] + '-' + train['Date'].str[:2]\n",
    "test['Date'] = test['Date'].str[-4:] + '-' + test['Date'].str[3:5] + '-' + test['Date'].str[:2]"
   ]
  },
  {
   "cell_type": "code",
   "execution_count": 102,
   "id": "2813621d",
   "metadata": {},
   "outputs": [],
   "source": [
    "train['Date'] = pd.to_datetime(train['Date'])\n",
    "test['Date'] = pd.to_datetime(test['Date'])"
   ]
  },
  {
   "cell_type": "code",
   "execution_count": 104,
   "id": "7a375716",
   "metadata": {},
   "outputs": [],
   "source": [
    "train['Year'] = train['Date'].dt.year\n",
    "test['Year'] = test['Date'].dt.year"
   ]
  },
  {
   "cell_type": "code",
   "execution_count": 105,
   "id": "02b9c913",
   "metadata": {
    "scrolled": true
   },
   "outputs": [],
   "source": [
    "train['Week'] = train['Date'].dt.weekofyear\n",
    "test['Week'] = test['Date'].dt.weekofyear"
   ]
  },
  {
   "cell_type": "code",
   "execution_count": 106,
   "id": "1303774c",
   "metadata": {},
   "outputs": [],
   "source": [
    "train['promotion_sum'] = train.iloc[:, 5:10].sum(axis = 1)\n",
    "test['promotion_sum'] = test.iloc[:, 5:10].sum(axis = 1)"
   ]
  },
  {
   "cell_type": "code",
   "execution_count": 107,
   "id": "d2f2b9b3",
   "metadata": {},
   "outputs": [],
   "source": [
    "train.fillna(0, inplace = True)\n",
    "test.fillna(0, inplace = True)"
   ]
  },
  {
   "cell_type": "code",
   "execution_count": 115,
   "id": "fc15e1a6",
   "metadata": {},
   "outputs": [],
   "source": [
    "from catboost import CatBoostRegressor, Pool\n",
    "from sklearn.model_selection import KFold\n",
    "from lightgbm import LGBMRegressor\n",
    "from ngboost import NGBRegressor\n",
    "from xgboost import XGBRegressor\n",
    "from sklearn.metrics import mean_squared_error"
   ]
  },
  {
   "cell_type": "code",
   "execution_count": 109,
   "id": "2e4bdce8",
   "metadata": {},
   "outputs": [],
   "source": [
    "kf = KFold(n_splits = 15, random_state = 42, shuffle = True)"
   ]
  },
  {
   "cell_type": "code",
   "execution_count": 110,
   "id": "9773c580",
   "metadata": {},
   "outputs": [],
   "source": [
    "X = train.drop(['id', 'Date', 'Weekly_Sales'], axis = 1)\n",
    "y = train['Weekly_Sales']"
   ]
  },
  {
   "cell_type": "code",
   "execution_count": 111,
   "id": "cb16fde7",
   "metadata": {},
   "outputs": [],
   "source": [
    "target = test[X.columns]"
   ]
  },
  {
   "cell_type": "code",
   "execution_count": 112,
   "id": "54fca7f3",
   "metadata": {},
   "outputs": [],
   "source": [
    "X[['Promotion2', 'Promotion4', 'Promotion5']] = np.log1p(X[['Promotion2', 'Promotion4', 'Promotion5']])\n",
    "target[['Promotion2', 'Promotion4', 'Promotion5']] = np.log1p(target[['Promotion2', 'Promotion4', 'Promotion5']])"
   ]
  },
  {
   "cell_type": "code",
   "execution_count": 121,
   "id": "fed12c44",
   "metadata": {},
   "outputs": [
    {
     "name": "stderr",
     "output_type": "stream",
     "text": [
      "Custom logger is already specified. Specify more than one logger at same time is not thread safe."
     ]
    },
    {
     "name": "stdout",
     "output_type": "stream",
     "text": [
      "1 Fold RMES = 80230.77811439162\n",
      "2 Fold RMES = 70638.17509570885\n",
      "3 Fold RMES = 63342.76071211906\n",
      "4 Fold RMES = 64700.84117797445\n",
      "5 Fold RMES = 69275.57683155508\n",
      "6 Fold RMES = 75606.52901636912\n",
      "7 Fold RMES = 74310.80212071408\n",
      "8 Fold RMES = 75148.71813157207\n",
      "9 Fold RMES = 70273.06349818582\n",
      "10 Fold RMES = 63909.776374097244\n",
      "11 Fold RMES = 65711.76267621954\n",
      "12 Fold RMES = 66988.66131109039\n",
      "13 Fold RMES = 69071.98026163268\n",
      "14 Fold RMES = 67725.49256444232\n",
      "15 Fold RMES = 67105.6162382926\n",
      "CatBoostRegressor AVG of RMSE = 69602.70227495766\n"
     ]
    }
   ],
   "source": [
    "cb_rmse = []\n",
    "cb_pred = np.zeros(target.shape[0])\n",
    "for i, idx in enumerate(kf.split(X, y)) :\n",
    "    tr_x, tr_y = X.loc[idx[0]], y.iloc[idx[0]]\n",
    "    val_x, val_y = X.loc[idx[1]], y.iloc[idx[1]]\n",
    "    \n",
    "    cb = CatBoostRegressor(random_state = 42, max_depth = 4, learning_rate = 0.03, n_estimators = 10000, use_best_model = True, cat_features = ['Store'])\n",
    "    \n",
    "    cb.fit(tr_x, tr_y, eval_set = [(tr_x, tr_y), (val_x, val_y)], verbose = 0, early_stopping_rounds = 1000)\n",
    "    \n",
    "    val_pred = cb.predict(val_x)\n",
    "    val_rmse = np.sqrt(mean_squared_error(val_y, val_pred))\n",
    "    print(f\"{i + 1} Fold RMSE = {val_rmse}\")\n",
    "    cb_rmse.append(val_rmse)\n",
    "    \n",
    "    fold_pred = cb.predict(target) / kf.n_splits\n",
    "    cb_pred += fold_pred\n",
    "    \n",
    "print(f\"\\n##### {cb.__class__.__name__} AVG of RMSE = {np.mean(cb_rmse)} #####\")"
   ]
  },
  {
   "cell_type": "code",
   "execution_count": null,
   "id": "bd3a24d6",
   "metadata": {},
   "outputs": [],
   "source": [
    "ngb_rmse = []\n",
    "ngb_pred = np.zeros(target.shape[0])\n",
    "for i, idx in enumerate(kf.split(X, y)) :\n",
    "    tr_x, tr_y = X.loc[idx[0]], y.iloc[idx[0]]\n",
    "    val_x, val_y = X.loc[idx[1]], y.iloc[idx[1]]\n",
    "    \n",
    "    ngb = NGBRegressor(random_state = 42, n_estimators = 10000, verbose = 0)\n",
    "    \n",
    "    ngb.fit(tr_x, tr_y, val_x, val_y, early_stopping_rounds = 1000)\n",
    "    \n",
    "    val_pred = ngb.predict(val_x)\n",
    "    val_rmse = np.sqrt(mean_squared_error(val_y, val_pred))\n",
    "    print(f\"{i + 1} Fold RMSE = {val_rmse}\")\n",
    "    ngb_rmse.append(val_rmse)\n",
    "    \n",
    "    fold_pred = ngb.predict(target) / kf.n_splits\n",
    "    ngb_pred += fold_pred\n",
    "    \n",
    "print(f\"\\n##### {ngb.__class__.__name__} AVG of RMSE = {np.mean(ngb_rmse)} #####\")"
   ]
  },
  {
   "cell_type": "code",
   "execution_count": 126,
   "id": "dce618f6",
   "metadata": {},
   "outputs": [],
   "source": [
    "submission = pd.read_csv('sample_submission.csv')"
   ]
  },
  {
   "cell_type": "code",
   "execution_count": 127,
   "id": "1b029284",
   "metadata": {},
   "outputs": [],
   "source": [
    "submission['Weekly_Sales'] = cb_pred"
   ]
  },
  {
   "cell_type": "code",
   "execution_count": 128,
   "id": "09c88bdf",
   "metadata": {},
   "outputs": [],
   "source": [
    "submission.to_csv('1st.csv', index = False)"
   ]
  }
 ],
 "metadata": {
  "kernelspec": {
   "display_name": "Python 3",
   "language": "python",
   "name": "python3"
  },
  "language_info": {
   "codemirror_mode": {
    "name": "ipython",
    "version": 3
   },
   "file_extension": ".py",
   "mimetype": "text/x-python",
   "name": "python",
   "nbconvert_exporter": "python",
   "pygments_lexer": "ipython3",
   "version": "3.8.8"
  }
 },
 "nbformat": 4,
 "nbformat_minor": 5
}
