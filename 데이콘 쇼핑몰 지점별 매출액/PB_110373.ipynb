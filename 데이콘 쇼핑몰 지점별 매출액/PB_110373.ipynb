{
 "cells": [
  {
   "cell_type": "code",
   "execution_count": 9,
   "id": "5d43751f",
   "metadata": {},
   "outputs": [],
   "source": [
    "import pandas as pd\n",
    "import numpy as np\n",
    "import warnings\n",
    "warnings.filterwarnings('ignore')\n",
    "\n",
    "from catboost import CatBoostRegressor\n",
    "from sklearn.model_selection import train_test_split, KFold, cross_val_score\n",
    "from sklearn.ensemble import GradientBoostingRegressor\n",
    "from sklearn.metrics import mean_squared_error"
   ]
  },
  {
   "cell_type": "code",
   "execution_count": 81,
   "id": "475bd679",
   "metadata": {},
   "outputs": [],
   "source": [
    "train = pd.read_csv('train.csv')\n",
    "test = pd.read_csv('test.csv')\n",
    "submission = pd.read_csv('sample_submission.csv')"
   ]
  },
  {
   "cell_type": "code",
   "execution_count": 82,
   "id": "8eafcd0a",
   "metadata": {},
   "outputs": [
    {
     "data": {
      "text/html": [
       "<div>\n",
       "<style scoped>\n",
       "    .dataframe tbody tr th:only-of-type {\n",
       "        vertical-align: middle;\n",
       "    }\n",
       "\n",
       "    .dataframe tbody tr th {\n",
       "        vertical-align: top;\n",
       "    }\n",
       "\n",
       "    .dataframe thead th {\n",
       "        text-align: right;\n",
       "    }\n",
       "</style>\n",
       "<table border=\"1\" class=\"dataframe\">\n",
       "  <thead>\n",
       "    <tr style=\"text-align: right;\">\n",
       "      <th></th>\n",
       "      <th>id</th>\n",
       "      <th>Store</th>\n",
       "      <th>Date</th>\n",
       "      <th>Temperature</th>\n",
       "      <th>Fuel_Price</th>\n",
       "      <th>Promotion1</th>\n",
       "      <th>Promotion2</th>\n",
       "      <th>Promotion3</th>\n",
       "      <th>Promotion4</th>\n",
       "      <th>Promotion5</th>\n",
       "      <th>Unemployment</th>\n",
       "      <th>IsHoliday</th>\n",
       "      <th>Weekly_Sales</th>\n",
       "    </tr>\n",
       "  </thead>\n",
       "  <tbody>\n",
       "    <tr>\n",
       "      <th>0</th>\n",
       "      <td>1</td>\n",
       "      <td>1</td>\n",
       "      <td>05/02/2010</td>\n",
       "      <td>42.31</td>\n",
       "      <td>2.572</td>\n",
       "      <td>NaN</td>\n",
       "      <td>NaN</td>\n",
       "      <td>NaN</td>\n",
       "      <td>NaN</td>\n",
       "      <td>NaN</td>\n",
       "      <td>8.106</td>\n",
       "      <td>False</td>\n",
       "      <td>1643690.90</td>\n",
       "    </tr>\n",
       "    <tr>\n",
       "      <th>1</th>\n",
       "      <td>2</td>\n",
       "      <td>1</td>\n",
       "      <td>12/02/2010</td>\n",
       "      <td>38.51</td>\n",
       "      <td>2.548</td>\n",
       "      <td>NaN</td>\n",
       "      <td>NaN</td>\n",
       "      <td>NaN</td>\n",
       "      <td>NaN</td>\n",
       "      <td>NaN</td>\n",
       "      <td>8.106</td>\n",
       "      <td>True</td>\n",
       "      <td>1641957.44</td>\n",
       "    </tr>\n",
       "    <tr>\n",
       "      <th>2</th>\n",
       "      <td>3</td>\n",
       "      <td>1</td>\n",
       "      <td>19/02/2010</td>\n",
       "      <td>39.93</td>\n",
       "      <td>2.514</td>\n",
       "      <td>NaN</td>\n",
       "      <td>NaN</td>\n",
       "      <td>NaN</td>\n",
       "      <td>NaN</td>\n",
       "      <td>NaN</td>\n",
       "      <td>8.106</td>\n",
       "      <td>False</td>\n",
       "      <td>1611968.17</td>\n",
       "    </tr>\n",
       "    <tr>\n",
       "      <th>3</th>\n",
       "      <td>4</td>\n",
       "      <td>1</td>\n",
       "      <td>26/02/2010</td>\n",
       "      <td>46.63</td>\n",
       "      <td>2.561</td>\n",
       "      <td>NaN</td>\n",
       "      <td>NaN</td>\n",
       "      <td>NaN</td>\n",
       "      <td>NaN</td>\n",
       "      <td>NaN</td>\n",
       "      <td>8.106</td>\n",
       "      <td>False</td>\n",
       "      <td>1409727.59</td>\n",
       "    </tr>\n",
       "    <tr>\n",
       "      <th>4</th>\n",
       "      <td>5</td>\n",
       "      <td>1</td>\n",
       "      <td>05/03/2010</td>\n",
       "      <td>46.50</td>\n",
       "      <td>2.625</td>\n",
       "      <td>NaN</td>\n",
       "      <td>NaN</td>\n",
       "      <td>NaN</td>\n",
       "      <td>NaN</td>\n",
       "      <td>NaN</td>\n",
       "      <td>8.106</td>\n",
       "      <td>False</td>\n",
       "      <td>1554806.68</td>\n",
       "    </tr>\n",
       "  </tbody>\n",
       "</table>\n",
       "</div>"
      ],
      "text/plain": [
       "   id  Store        Date  Temperature  Fuel_Price  Promotion1  Promotion2  \\\n",
       "0   1      1  05/02/2010        42.31       2.572         NaN         NaN   \n",
       "1   2      1  12/02/2010        38.51       2.548         NaN         NaN   \n",
       "2   3      1  19/02/2010        39.93       2.514         NaN         NaN   \n",
       "3   4      1  26/02/2010        46.63       2.561         NaN         NaN   \n",
       "4   5      1  05/03/2010        46.50       2.625         NaN         NaN   \n",
       "\n",
       "   Promotion3  Promotion4  Promotion5  Unemployment  IsHoliday  Weekly_Sales  \n",
       "0         NaN         NaN         NaN         8.106      False    1643690.90  \n",
       "1         NaN         NaN         NaN         8.106       True    1641957.44  \n",
       "2         NaN         NaN         NaN         8.106      False    1611968.17  \n",
       "3         NaN         NaN         NaN         8.106      False    1409727.59  \n",
       "4         NaN         NaN         NaN         8.106      False    1554806.68  "
      ]
     },
     "execution_count": 82,
     "metadata": {},
     "output_type": "execute_result"
    }
   ],
   "source": [
    "train.head()"
   ]
  },
  {
   "cell_type": "code",
   "execution_count": 83,
   "id": "c4cc9945",
   "metadata": {},
   "outputs": [],
   "source": [
    "train['month'] = train['Date'].str[3:5]\n",
    "test['month'] = test['Date'].str[3:5]"
   ]
  },
  {
   "cell_type": "code",
   "execution_count": 84,
   "id": "55507ce9",
   "metadata": {},
   "outputs": [],
   "source": [
    "train['year'] = train['Date'].str[6:]\n",
    "test['year'] = test['Date'].str[6:]"
   ]
  },
  {
   "cell_type": "code",
   "execution_count": 85,
   "id": "25743bd4",
   "metadata": {},
   "outputs": [],
   "source": [
    "train['day'] = train['Date'].str[:2]\n",
    "test['day'] = test['Date'].str[:2]"
   ]
  },
  {
   "cell_type": "code",
   "execution_count": 86,
   "id": "d4b2594f",
   "metadata": {},
   "outputs": [],
   "source": [
    "train['Date'] = train['year'] + '-' + train['month'] + '-' + train['day']\n",
    "test['Date'] = test['year'] + '-' + test['month'] + '-' + test['day']"
   ]
  },
  {
   "cell_type": "code",
   "execution_count": 87,
   "id": "2f567a97",
   "metadata": {},
   "outputs": [],
   "source": [
    "train['Date'] = pd.to_datetime(train['Date'])\n",
    "test['Date'] = pd.to_datetime(test['Date'])"
   ]
  },
  {
   "cell_type": "code",
   "execution_count": 88,
   "id": "bccc769e",
   "metadata": {},
   "outputs": [],
   "source": [
    "train['week'] = train['Date'].dt.weekofyear\n",
    "test['week'] = test['Date'].dt.weekofyear"
   ]
  },
  {
   "cell_type": "code",
   "execution_count": 92,
   "id": "67b87f89",
   "metadata": {},
   "outputs": [],
   "source": [
    "train['month'] = train['Date'].dt.month\n",
    "test['month'] = test['Date'].dt.month"
   ]
  },
  {
   "cell_type": "code",
   "execution_count": 89,
   "id": "37d08ee4",
   "metadata": {
    "scrolled": false
   },
   "outputs": [],
   "source": [
    "train.fillna(train.mean(), inplace = True)\n",
    "test.fillna(test.mean(), inplace = True)"
   ]
  },
  {
   "cell_type": "code",
   "execution_count": 149,
   "id": "950a7906",
   "metadata": {},
   "outputs": [],
   "source": [
    "X = train.drop(['id', 'Date', 'day', 'Weekly_Sales'], axis = 1)"
   ]
  },
  {
   "cell_type": "code",
   "execution_count": 150,
   "id": "b1202ab3",
   "metadata": {},
   "outputs": [],
   "source": [
    "y = train['Weekly_Sales']"
   ]
  },
  {
   "cell_type": "code",
   "execution_count": 151,
   "id": "779571b6",
   "metadata": {},
   "outputs": [],
   "source": [
    "target = test[X.columns]"
   ]
  },
  {
   "cell_type": "code",
   "execution_count": 153,
   "id": "610eb357",
   "metadata": {},
   "outputs": [],
   "source": [
    "kf = KFold(n_splits = 10, random_state = 42, shuffle = True)"
   ]
  },
  {
   "cell_type": "code",
   "execution_count": 154,
   "id": "d22d109e",
   "metadata": {},
   "outputs": [
    {
     "name": "stdout",
     "output_type": "stream",
     "text": [
      "1 Fold RMSE = 102137.89188911566\n",
      "2 Fold RMSE = 96594.59887021086\n",
      "3 Fold RMSE = 84667.89180159249\n",
      "4 Fold RMSE = 88589.0946749238\n",
      "5 Fold RMSE = 81951.73279609733\n",
      "6 Fold RMSE = 85596.18464407457\n",
      "7 Fold RMSE = 76809.67720558363\n",
      "8 Fold RMSE = 73514.51202411878\n",
      "9 Fold RMSE = 80383.76416604749\n",
      "10 Fold RMSE = 78963.70119633518\n",
      "CatBoostRegressor AVG of RMSE = 84920.90492680998\n"
     ]
    }
   ],
   "source": [
    "cb_pred = np.zeros(target.shape[0])\n",
    "cb_rmse = []\n",
    "for i, idx in enumerate(kf.split(X, y)) :\n",
    "    tr_x, tr_y = X.loc[idx[0]], y.iloc[idx[0]]\n",
    "    val_x, val_y = X.loc[idx[1]], y.iloc[idx[1]]\n",
    "    \n",
    "    cb = CatBoostRegressor(random_state = 42, max_depth = 4, learning_rate = 0.02, iterations = 10000)\n",
    "    \n",
    "    cb.fit(tr_x, tr_y, eval_set = [(tr_x, tr_y), (val_x, val_y)], early_stopping_rounds = 100, verbose = 0)\n",
    "    \n",
    "    val_pred = cb.predict(val_x)\n",
    "    fold_rmse = np.sqrt(mean_squared_error(val_y, val_pred))\n",
    "    print(f'{i + 1} Fold RMSE = {fold_rmse}')\n",
    "    cb_rmse.append(fold_rmse)\n",
    "\n",
    "    fold_pred = cb.predict(target) / kf.n_splits\n",
    "    cb_pred += fold_pred\n",
    "print(f'{cb.__class__.__name__} AVG of RMSE = {np.mean(cb_rmse)}')"
   ]
  },
  {
   "cell_type": "code",
   "execution_count": 155,
   "id": "7e895219",
   "metadata": {},
   "outputs": [
    {
     "name": "stdout",
     "output_type": "stream",
     "text": [
      "1 Fold RMSE = 115837.98585618714\n",
      "2 Fold RMSE = 107242.0354979529\n",
      "3 Fold RMSE = 95187.60082954555\n",
      "4 Fold RMSE = 104892.02995472575\n",
      "5 Fold RMSE = 102311.84554041711\n",
      "6 Fold RMSE = 91500.8329599822\n",
      "7 Fold RMSE = 96942.60543736364\n",
      "8 Fold RMSE = 91944.10504120908\n",
      "9 Fold RMSE = 98434.39887139996\n",
      "10 Fold RMSE = 94489.62057509988\n",
      "GradientBoostingRegressor AVG of RMSE = 99878.30605638832\n"
     ]
    }
   ],
   "source": [
    "gbr_pred = np.zeros(target.shape[0])\n",
    "gbr_rmse = []\n",
    "for i, idx in enumerate(kf.split(X, y)) :\n",
    "    tr_x, tr_y = X.loc[idx[0]], y.iloc[idx[0]]\n",
    "    val_x, val_y = X.loc[idx[1]], y.iloc[idx[1]]\n",
    "    \n",
    "    gbr = GradientBoostingRegressor(random_state = 42, max_depth = 4, n_estimators = 1000, learning_rate = 0.03)\n",
    "    \n",
    "    gbr.fit(tr_x, tr_y)\n",
    "    \n",
    "    val_pred = gbr.predict(val_x)\n",
    "    fold_rmse = np.sqrt(mean_squared_error(val_y, val_pred))\n",
    "    print(f'{i + 1} Fold RMSE = {fold_rmse}')\n",
    "    gbr_rmse.append(fold_rmse)\n",
    "\n",
    "    fold_pred = gbr.predict(target) / kf.n_splits\n",
    "    gbr_pred += fold_pred\n",
    "print(f'{gbr.__class__.__name__} AVG of RMSE = {np.mean(gbr_rmse)}')"
   ]
  },
  {
   "cell_type": "code",
   "execution_count": 156,
   "id": "203bdfeb",
   "metadata": {},
   "outputs": [],
   "source": [
    "submission['Weekly_Sales'] = cb_pred * 0.6 + gbr_pred * 0.4"
   ]
  },
  {
   "cell_type": "code",
   "execution_count": 157,
   "id": "55d1d88d",
   "metadata": {},
   "outputs": [],
   "source": [
    "submission.to_csv('2nd.csv', index = False)"
   ]
  }
 ],
 "metadata": {
  "kernelspec": {
   "display_name": "Python 3 (ipykernel)",
   "language": "python",
   "name": "python3"
  },
  "language_info": {
   "codemirror_mode": {
    "name": "ipython",
    "version": 3
   },
   "file_extension": ".py",
   "mimetype": "text/x-python",
   "name": "python",
   "nbconvert_exporter": "python",
   "pygments_lexer": "ipython3",
   "version": "3.9.7"
  }
 },
 "nbformat": 4,
 "nbformat_minor": 5
}
