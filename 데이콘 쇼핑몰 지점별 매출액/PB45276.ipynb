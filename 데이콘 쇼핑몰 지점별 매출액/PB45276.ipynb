{
 "cells": [
  {
   "cell_type": "code",
   "execution_count": 1,
   "id": "f3fd2022",
   "metadata": {},
   "outputs": [],
   "source": [
    "import pandas as pd\n",
    "import numpy as np\n",
    "\n",
    "import warnings\n",
    "warnings.filterwarnings('ignore')\n",
    "\n",
    "import matplotlib.pyplot as plt\n",
    "import seaborn as sns\n",
    "%matplotlib inline"
   ]
  },
  {
   "cell_type": "code",
   "execution_count": 2,
   "id": "e0266266",
   "metadata": {},
   "outputs": [],
   "source": [
    "train = pd.read_csv('train.csv')\n",
    "test = pd.read_csv('test.csv')\n",
    "submission = pd.read_csv('sample_submission.csv')"
   ]
  },
  {
   "cell_type": "code",
   "execution_count": 3,
   "id": "1b270c5c",
   "metadata": {},
   "outputs": [
    {
     "data": {
      "text/html": [
       "<div>\n",
       "<style scoped>\n",
       "    .dataframe tbody tr th:only-of-type {\n",
       "        vertical-align: middle;\n",
       "    }\n",
       "\n",
       "    .dataframe tbody tr th {\n",
       "        vertical-align: top;\n",
       "    }\n",
       "\n",
       "    .dataframe thead th {\n",
       "        text-align: right;\n",
       "    }\n",
       "</style>\n",
       "<table border=\"1\" class=\"dataframe\">\n",
       "  <thead>\n",
       "    <tr style=\"text-align: right;\">\n",
       "      <th></th>\n",
       "      <th>id</th>\n",
       "      <th>Store</th>\n",
       "      <th>Date</th>\n",
       "      <th>Temperature</th>\n",
       "      <th>Fuel_Price</th>\n",
       "      <th>Promotion1</th>\n",
       "      <th>Promotion2</th>\n",
       "      <th>Promotion3</th>\n",
       "      <th>Promotion4</th>\n",
       "      <th>Promotion5</th>\n",
       "      <th>Unemployment</th>\n",
       "      <th>IsHoliday</th>\n",
       "      <th>Weekly_Sales</th>\n",
       "    </tr>\n",
       "  </thead>\n",
       "  <tbody>\n",
       "    <tr>\n",
       "      <th>0</th>\n",
       "      <td>1</td>\n",
       "      <td>1</td>\n",
       "      <td>05/02/2010</td>\n",
       "      <td>42.31</td>\n",
       "      <td>2.572</td>\n",
       "      <td>NaN</td>\n",
       "      <td>NaN</td>\n",
       "      <td>NaN</td>\n",
       "      <td>NaN</td>\n",
       "      <td>NaN</td>\n",
       "      <td>8.106</td>\n",
       "      <td>False</td>\n",
       "      <td>1643690.90</td>\n",
       "    </tr>\n",
       "    <tr>\n",
       "      <th>1</th>\n",
       "      <td>2</td>\n",
       "      <td>1</td>\n",
       "      <td>12/02/2010</td>\n",
       "      <td>38.51</td>\n",
       "      <td>2.548</td>\n",
       "      <td>NaN</td>\n",
       "      <td>NaN</td>\n",
       "      <td>NaN</td>\n",
       "      <td>NaN</td>\n",
       "      <td>NaN</td>\n",
       "      <td>8.106</td>\n",
       "      <td>True</td>\n",
       "      <td>1641957.44</td>\n",
       "    </tr>\n",
       "    <tr>\n",
       "      <th>2</th>\n",
       "      <td>3</td>\n",
       "      <td>1</td>\n",
       "      <td>19/02/2010</td>\n",
       "      <td>39.93</td>\n",
       "      <td>2.514</td>\n",
       "      <td>NaN</td>\n",
       "      <td>NaN</td>\n",
       "      <td>NaN</td>\n",
       "      <td>NaN</td>\n",
       "      <td>NaN</td>\n",
       "      <td>8.106</td>\n",
       "      <td>False</td>\n",
       "      <td>1611968.17</td>\n",
       "    </tr>\n",
       "    <tr>\n",
       "      <th>3</th>\n",
       "      <td>4</td>\n",
       "      <td>1</td>\n",
       "      <td>26/02/2010</td>\n",
       "      <td>46.63</td>\n",
       "      <td>2.561</td>\n",
       "      <td>NaN</td>\n",
       "      <td>NaN</td>\n",
       "      <td>NaN</td>\n",
       "      <td>NaN</td>\n",
       "      <td>NaN</td>\n",
       "      <td>8.106</td>\n",
       "      <td>False</td>\n",
       "      <td>1409727.59</td>\n",
       "    </tr>\n",
       "    <tr>\n",
       "      <th>4</th>\n",
       "      <td>5</td>\n",
       "      <td>1</td>\n",
       "      <td>05/03/2010</td>\n",
       "      <td>46.50</td>\n",
       "      <td>2.625</td>\n",
       "      <td>NaN</td>\n",
       "      <td>NaN</td>\n",
       "      <td>NaN</td>\n",
       "      <td>NaN</td>\n",
       "      <td>NaN</td>\n",
       "      <td>8.106</td>\n",
       "      <td>False</td>\n",
       "      <td>1554806.68</td>\n",
       "    </tr>\n",
       "  </tbody>\n",
       "</table>\n",
       "</div>"
      ],
      "text/plain": [
       "   id  Store        Date  Temperature  Fuel_Price  Promotion1  Promotion2  \\\n",
       "0   1      1  05/02/2010        42.31       2.572         NaN         NaN   \n",
       "1   2      1  12/02/2010        38.51       2.548         NaN         NaN   \n",
       "2   3      1  19/02/2010        39.93       2.514         NaN         NaN   \n",
       "3   4      1  26/02/2010        46.63       2.561         NaN         NaN   \n",
       "4   5      1  05/03/2010        46.50       2.625         NaN         NaN   \n",
       "\n",
       "   Promotion3  Promotion4  Promotion5  Unemployment  IsHoliday  Weekly_Sales  \n",
       "0         NaN         NaN         NaN         8.106      False    1643690.90  \n",
       "1         NaN         NaN         NaN         8.106       True    1641957.44  \n",
       "2         NaN         NaN         NaN         8.106      False    1611968.17  \n",
       "3         NaN         NaN         NaN         8.106      False    1409727.59  \n",
       "4         NaN         NaN         NaN         8.106      False    1554806.68  "
      ]
     },
     "execution_count": 3,
     "metadata": {},
     "output_type": "execute_result"
    }
   ],
   "source": [
    "train.head()"
   ]
  },
  {
   "cell_type": "code",
   "execution_count": 4,
   "id": "fa791cc2",
   "metadata": {},
   "outputs": [],
   "source": [
    "train.iloc[:, 5:10] += 266\n",
    "test.iloc[:, 5:10] += 266"
   ]
  },
  {
   "cell_type": "code",
   "execution_count": 5,
   "id": "4dc7c113",
   "metadata": {},
   "outputs": [],
   "source": [
    "train['Date'] = pd.to_datetime(train['Date'], format = '%d/%m/%Y')\n",
    "test['Date'] = pd.to_datetime(test['Date'], format = '%d/%m/%Y')"
   ]
  },
  {
   "cell_type": "code",
   "execution_count": 6,
   "id": "31bb201e",
   "metadata": {},
   "outputs": [],
   "source": [
    "train['Week'] = train['Date'].dt.weekofyear\n",
    "test['Week'] = test['Date'].dt.weekofyear"
   ]
  },
  {
   "cell_type": "code",
   "execution_count": 7,
   "id": "a5a6d8b4",
   "metadata": {},
   "outputs": [],
   "source": [
    "train['Year'] = train['Date'].dt.year\n",
    "test['Year'] = test['Date'].dt.year"
   ]
  },
  {
   "cell_type": "code",
   "execution_count": 8,
   "id": "075df7e8",
   "metadata": {},
   "outputs": [],
   "source": [
    "train['Month'] = train['Date'].dt.month\n",
    "test['Month'] = test['Date'].dt.month"
   ]
  },
  {
   "cell_type": "code",
   "execution_count": 9,
   "id": "28fe50cd",
   "metadata": {},
   "outputs": [],
   "source": [
    "train['Day'] = train['Date'].dt.day\n",
    "test['Day'] = test['Date'].dt.day"
   ]
  },
  {
   "cell_type": "code",
   "execution_count": 10,
   "id": "97ab9700",
   "metadata": {},
   "outputs": [],
   "source": [
    "train.fillna(0, inplace = True)\n",
    "test.fillna(0, inplace = True)"
   ]
  },
  {
   "cell_type": "code",
   "execution_count": 11,
   "id": "df18c74f",
   "metadata": {},
   "outputs": [],
   "source": [
    "train['promotion_sum'] = train.iloc[:, 5:10].sum(axis = 1)\n",
    "test['promotion_sum'] = test.iloc[:, 5:10].sum(axis = 1)"
   ]
  },
  {
   "cell_type": "code",
   "execution_count": 12,
   "id": "efdefadb",
   "metadata": {},
   "outputs": [],
   "source": [
    "from catboost import CatBoostRegressor, Pool\n",
    "from sklearn.model_selection import KFold\n",
    "from lightgbm import LGBMRegressor\n",
    "from ngboost import NGBRegressor\n",
    "from xgboost import XGBRegressor\n",
    "from sklearn.metrics import mean_squared_error"
   ]
  },
  {
   "cell_type": "code",
   "execution_count": 13,
   "id": "1087ffa7",
   "metadata": {},
   "outputs": [],
   "source": [
    "kf = KFold(n_splits = 15, random_state = 42, shuffle = True)"
   ]
  },
  {
   "cell_type": "code",
   "execution_count": 24,
   "id": "f713431c",
   "metadata": {},
   "outputs": [],
   "source": [
    "X = train[['Store', 'Year', 'Week', 'Month', 'Day']]\n",
    "y = train['Weekly_Sales']"
   ]
  },
  {
   "cell_type": "code",
   "execution_count": 25,
   "id": "4072b307",
   "metadata": {},
   "outputs": [],
   "source": [
    "target = test[X.columns]"
   ]
  },
  {
   "cell_type": "code",
   "execution_count": 26,
   "id": "779a2468",
   "metadata": {},
   "outputs": [
    {
     "name": "stderr",
     "output_type": "stream",
     "text": [
      "Custom logger is already specified. Specify more than one logger at same time is not thread safe."
     ]
    },
    {
     "name": "stdout",
     "output_type": "stream",
     "text": [
      "1 Fold RMSE = 72649.60268710609\n",
      "2 Fold RMSE = 78098.41376270179\n",
      "3 Fold RMSE = 56085.627612549804\n",
      "4 Fold RMSE = 68344.70053713185\n",
      "5 Fold RMSE = 76421.96260843344\n",
      "6 Fold RMSE = 67277.78144600712\n",
      "7 Fold RMSE = 57493.806048520026\n",
      "8 Fold RMSE = 62159.401184799906\n",
      "9 Fold RMSE = 57330.75544973902\n",
      "10 Fold RMSE = 63952.8873181059\n",
      "11 Fold RMSE = 58142.036605667374\n",
      "12 Fold RMSE = 65857.92215417988\n",
      "13 Fold RMSE = 73655.19315122526\n",
      "14 Fold RMSE = 56947.85080726911\n",
      "15 Fold RMSE = 63054.53793725812\n",
      "\n",
      "##### CatBoostRegressor AVG of RMSE = 65164.831954046305 #####\n"
     ]
    }
   ],
   "source": [
    "cb_rmse = []\n",
    "cb_pred = np.zeros(target.shape[0])\n",
    "for i, idx in enumerate(kf.split(X, y)) :\n",
    "    tr_x, tr_y = X.iloc[idx[0]], y.iloc[idx[0]]\n",
    "    val_x, val_y = X.iloc[idx[1]], y.iloc[idx[1]]\n",
    "    \n",
    "    cb = CatBoostRegressor(random_state = 42, max_depth = 4, learning_rate = 0.03, n_estimators = 10000, use_best_model = True)\n",
    "    \n",
    "    cb.fit(tr_x, tr_y, eval_set = [(tr_x, tr_y), (val_x, val_y)], verbose = 0, early_stopping_rounds = 1000)\n",
    "    \n",
    "    val_pred = cb.predict(val_x)\n",
    "    val_rmse = np.sqrt(mean_squared_error(val_y, val_pred))\n",
    "    print(f\"{i + 1} Fold RMSE = {val_rmse}\")\n",
    "    cb_rmse.append(val_rmse)\n",
    "    \n",
    "    fold_pred = cb.predict(target) / kf.n_splits\n",
    "    cb_pred += fold_pred\n",
    "    \n",
    "print(f\"\\n##### {cb.__class__.__name__} AVG of RMSE = {np.mean(cb_rmse)} #####\")"
   ]
  },
  {
   "cell_type": "code",
   "execution_count": 27,
   "id": "e8bb1e11",
   "metadata": {},
   "outputs": [],
   "source": [
    "submission['Weekly_Sales'] = cb_pred"
   ]
  },
  {
   "cell_type": "code",
   "execution_count": 28,
   "id": "458968f8",
   "metadata": {},
   "outputs": [],
   "source": [
    "submission.to_csv('1st.csv', index = False)"
   ]
  }
 ],
 "metadata": {
  "kernelspec": {
   "display_name": "Python 3",
   "language": "python",
   "name": "python3"
  },
  "language_info": {
   "codemirror_mode": {
    "name": "ipython",
    "version": 3
   },
   "file_extension": ".py",
   "mimetype": "text/x-python",
   "name": "python",
   "nbconvert_exporter": "python",
   "pygments_lexer": "ipython3",
   "version": "3.8.8"
  }
 },
 "nbformat": 4,
 "nbformat_minor": 5
}
