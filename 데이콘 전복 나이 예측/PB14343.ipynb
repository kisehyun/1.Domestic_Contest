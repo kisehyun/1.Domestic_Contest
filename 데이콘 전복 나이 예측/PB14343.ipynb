{
 "cells": [
  {
   "cell_type": "markdown",
   "id": "15b820e6",
   "metadata": {},
   "source": [
    "- id : 샘플 아이디\n",
    "- Gender : 전복 성별\n",
    "- Lenght : 전복 길이\n",
    "- Diameter : 전복 둘레\n",
    "- Height : 전복 키 \n",
    "- Whole : Weight : 전복 전체 무게\n",
    "- Shucked Weight : 껍질을 제외한 무게\n",
    "- Viscra Weight : 내장 무게\n",
    "- Shell Weight : 껍질 무게\n",
    "- Target : 전복 나이"
   ]
  },
  {
   "cell_type": "code",
   "execution_count": 300,
   "id": "37155538",
   "metadata": {},
   "outputs": [],
   "source": [
    "import pandas as pd\n",
    "import numpy as np\n",
    "\n",
    "\n",
    "import warnings\n",
    "warnings.filterwarnings(\"ignore\")"
   ]
  },
  {
   "cell_type": "code",
   "execution_count": 306,
   "id": "0a8d3761",
   "metadata": {},
   "outputs": [],
   "source": [
    "train = pd.read_csv(\"train.csv\")\n",
    "test = pd.read_csv(\"test.csv\")\n",
    "submission = pd.read_csv(\"sample_submission.csv\")"
   ]
  },
  {
   "cell_type": "code",
   "execution_count": 308,
   "id": "216f666d",
   "metadata": {},
   "outputs": [],
   "source": [
    "train['Water Weight'] = train['Shucked Weight'] - train['Viscra Weight']\n",
    "test['Water Weight'] = test['Shucked Weight'] - test['Viscra Weight']"
   ]
  },
  {
   "cell_type": "code",
   "execution_count": 309,
   "id": "1730329d",
   "metadata": {},
   "outputs": [],
   "source": [
    "train.drop([130, 847, 1035, 435], axis = 0, inplace = True)"
   ]
  },
  {
   "cell_type": "code",
   "execution_count": 348,
   "id": "8fdedaf8",
   "metadata": {},
   "outputs": [],
   "source": [
    "from sklearn.ensemble import RandomForestRegressor\n",
    "from lightgbm import LGBMRegressor\n",
    "from xgboost import XGBRegressor\n",
    "from ngboost import NGBRegressor\n",
    "from catboost import CatBoostRegressor, Pool\n",
    "from sklearn.model_selection import StratifiedKFold, train_test_split, KFold\n",
    "from sklearn.metrics import mean_absolute_error"
   ]
  },
  {
   "cell_type": "code",
   "execution_count": 311,
   "id": "f31d7a3c",
   "metadata": {},
   "outputs": [],
   "source": [
    "train['Gender'] = train['Gender'].map({'F' : 2, 'M' : 1, 'I' : 0})\n",
    "test['Gender'] = test['Gender'].map({'F' : 2, 'M' : 1, 'I' : 0})"
   ]
  },
  {
   "cell_type": "code",
   "execution_count": 312,
   "id": "b6565d4c",
   "metadata": {},
   "outputs": [],
   "source": [
    "train['heavy_weight'] = [list(i).index(i.max()) for i in train[['Viscra Weight', 'Shell Weight', 'Water Weight']].values]\n",
    "test['heavy_weight'] = [list(i).index(i.max()) for i in test[['Viscra Weight', 'Shell Weight', 'Water Weight']].values]"
   ]
  },
  {
   "cell_type": "code",
   "execution_count": 333,
   "id": "aaee0c28",
   "metadata": {},
   "outputs": [],
   "source": [
    "X = train.drop(['id', 'Shucked Weight', 'Target'], axis = 1)\n",
    "y = np.log1p(train['Target'])\n",
    "\n",
    "target = test[X.columns]"
   ]
  },
  {
   "cell_type": "code",
   "execution_count": 334,
   "id": "2fdd038e",
   "metadata": {},
   "outputs": [],
   "source": [
    "X['Viscra Weight'] /= X['Whole Weight']\n",
    "X['Water Weight'] /= X['Whole Weight']\n",
    "X['Shell Weight'] /= X['Whole Weight']"
   ]
  },
  {
   "cell_type": "code",
   "execution_count": 335,
   "id": "492351bf",
   "metadata": {},
   "outputs": [],
   "source": [
    "target['Viscra Weight'] /= target['Whole Weight']\n",
    "target['Water Weight'] /= target['Whole Weight']\n",
    "target['Shell Weight'] /= target['Whole Weight']"
   ]
  },
  {
   "cell_type": "code",
   "execution_count": 338,
   "id": "b784d19d",
   "metadata": {},
   "outputs": [],
   "source": [
    "X.drop('Whole Weight', axis = 1, inplace = True)\n",
    "target.drop('Whole Weight', axis = 1, inplace = True)"
   ]
  },
  {
   "cell_type": "code",
   "execution_count": 339,
   "id": "18447f84",
   "metadata": {},
   "outputs": [],
   "source": [
    "def get_target_group(x) :\n",
    "    if x <= 7 :\n",
    "        return 1\n",
    "    elif 7 < x <= 11 :\n",
    "        return 2\n",
    "    elif 12 < x < 20 :\n",
    "        return 3\n",
    "    else :\n",
    "        return 4"
   ]
  },
  {
   "cell_type": "code",
   "execution_count": 340,
   "id": "fec93ac0",
   "metadata": {},
   "outputs": [],
   "source": [
    "def NMAE(true, pred) -> float:\n",
    "    mae = np.mean(np.abs(true - pred))\n",
    "    score = mae / np.mean(np.abs(true))\n",
    "    return score"
   ]
  },
  {
   "cell_type": "code",
   "execution_count": 342,
   "id": "5a356582",
   "metadata": {},
   "outputs": [],
   "source": [
    "kf = KFold(n_splits = 10, random_state = 42, shuffle = True)"
   ]
  },
  {
   "cell_type": "code",
   "execution_count": 343,
   "id": "bb9d74f7",
   "metadata": {},
   "outputs": [],
   "source": [
    "skf = StratifiedKFold(n_splits = 10, random_state = 42, shuffle = True)"
   ]
  },
  {
   "cell_type": "code",
   "execution_count": 344,
   "id": "18972960",
   "metadata": {},
   "outputs": [
    {
     "name": "stdout",
     "output_type": "stream",
     "text": [
      "1 Fold NMAE = 0.1459782746734867\n",
      "2 Fold NMAE = 0.14187409359808087\n",
      "3 Fold NMAE = 0.1523499628922037\n",
      "4 Fold NMAE = 0.1420125043874067\n",
      "5 Fold NMAE = 0.1311080822811978\n",
      "6 Fold NMAE = 0.17031385705263266\n",
      "7 Fold NMAE = 0.14923233393200308\n",
      "8 Fold NMAE = 0.13952226729262457\n",
      "9 Fold NMAE = 0.13377006722861914\n",
      "10 Fold NMAE = 0.16896885834504044\n",
      "\n",
      " avg = 0.14751303016832956\n"
     ]
    }
   ],
   "source": [
    "cb_pred = np.zeros(target.shape[0])\n",
    "cb_nmae = []\n",
    "for i, (tr_idx, val_idx) in enumerate(kf.split(X, y)) :\n",
    "    tr_x, tr_y = X.iloc[tr_idx], y.iloc[tr_idx]\n",
    "    val_x, val_y = X.iloc[val_idx], y.iloc[val_idx]\n",
    "    \n",
    "    tr_data = Pool(data = tr_x, label = tr_y, cat_features = ['Gender', 'heavy_weight'])\n",
    "    val_data = Pool(data = val_x, label = val_y, cat_features = ['Gender', 'heavy_weight'])\n",
    "    \n",
    "    cb = CatBoostRegressor(random_state = 42, iterations = 2000, depth = 4, learning_rate = 0.02, cat_features = ['Gender', 'heavy_weight'], loss_function = 'MAE')\n",
    "    cb.fit(tr_data, eval_set = val_data, early_stopping_rounds = 300, verbose = 0)\n",
    "    \n",
    "    val_pred = np.expm1(cb.predict(val_data))\n",
    "    val_nmae = NMAE(np.expm1(val_y), val_pred)\n",
    "    cb_nmae.append(val_nmae)\n",
    "    print(f'{i + 1} Fold NMAE = {val_nmae}')\n",
    "    \n",
    "    fold_pred = np.expm1(cb.predict(target)) / kf.n_splits\n",
    "    cb_pred += fold_pred\n",
    "print(f'\\n avg = {np.mean(cb_nmae)}')"
   ]
  },
  {
   "cell_type": "code",
   "execution_count": 361,
   "id": "0db533d3",
   "metadata": {},
   "outputs": [
    {
     "name": "stdout",
     "output_type": "stream",
     "text": [
      "1 Fold NMAE = 0.14821890018037917\n",
      "2 Fold NMAE = 0.13982714044303307\n",
      "3 Fold NMAE = 0.1522701369227135\n",
      "4 Fold NMAE = 0.1429595116027757\n",
      "5 Fold NMAE = 0.1304903376267611\n",
      "6 Fold NMAE = 0.17381437717159687\n",
      "7 Fold NMAE = 0.15762230336567912\n",
      "8 Fold NMAE = 0.14785817601412035\n",
      "9 Fold NMAE = 0.13724232287633986\n",
      "10 Fold NMAE = 0.171118706158982\n",
      "\n",
      " avg = 0.15014219123623807\n"
     ]
    }
   ],
   "source": [
    "xgb_pred = np.zeros(target.shape[0])\n",
    "xgb_nmae = []\n",
    "for i, (tr_idx, val_idx) in enumerate(kf.split(X, y)) :\n",
    "    tr_x, tr_y = X.iloc[tr_idx], y.iloc[tr_idx]\n",
    "    val_x, val_y = X.iloc[val_idx], y.iloc[val_idx]\n",
    "    \n",
    "    xgb = XGBRegressor(random_state = 42, n_estimators = 2000, learning_rate = 0.03, max_depth = 5)\n",
    "    xgb.fit(tr_x, tr_y, eval_set = [(val_x, val_y)], early_stopping_rounds = 300, verbose = 0)\n",
    "    \n",
    "    val_pred = np.expm1(xgb.predict(val_x))\n",
    "    val_nmae = NMAE(np.expm1(val_y), val_pred)\n",
    "    xgb_nmae.append(val_nmae)\n",
    "    print(f'{i + 1} Fold NMAE = {val_nmae}')\n",
    "    \n",
    "    fold_pred = np.expm1(xgb.predict(target)) / kf.n_splits\n",
    "    xgb_pred += fold_pred\n",
    "print(f'\\n avg = {np.mean(xgb_nmae)}')"
   ]
  },
  {
   "cell_type": "code",
   "execution_count": 362,
   "id": "29f7d2f0",
   "metadata": {},
   "outputs": [],
   "source": [
    "submission['Target'] = np.round((cb_pred + xgb_pred) / 2)"
   ]
  },
  {
   "cell_type": "code",
   "execution_count": 363,
   "id": "8159f52e",
   "metadata": {},
   "outputs": [
    {
     "data": {
      "text/html": [
       "<div>\n",
       "<style scoped>\n",
       "    .dataframe tbody tr th:only-of-type {\n",
       "        vertical-align: middle;\n",
       "    }\n",
       "\n",
       "    .dataframe tbody tr th {\n",
       "        vertical-align: top;\n",
       "    }\n",
       "\n",
       "    .dataframe thead th {\n",
       "        text-align: right;\n",
       "    }\n",
       "</style>\n",
       "<table border=\"1\" class=\"dataframe\">\n",
       "  <thead>\n",
       "    <tr style=\"text-align: right;\">\n",
       "      <th></th>\n",
       "      <th>id</th>\n",
       "      <th>Target</th>\n",
       "    </tr>\n",
       "  </thead>\n",
       "  <tbody>\n",
       "    <tr>\n",
       "      <th>0</th>\n",
       "      <td>1</td>\n",
       "      <td>10.0</td>\n",
       "    </tr>\n",
       "    <tr>\n",
       "      <th>1</th>\n",
       "      <td>2</td>\n",
       "      <td>14.0</td>\n",
       "    </tr>\n",
       "    <tr>\n",
       "      <th>2</th>\n",
       "      <td>3</td>\n",
       "      <td>5.0</td>\n",
       "    </tr>\n",
       "    <tr>\n",
       "      <th>3</th>\n",
       "      <td>4</td>\n",
       "      <td>10.0</td>\n",
       "    </tr>\n",
       "    <tr>\n",
       "      <th>4</th>\n",
       "      <td>5</td>\n",
       "      <td>9.0</td>\n",
       "    </tr>\n",
       "    <tr>\n",
       "      <th>...</th>\n",
       "      <td>...</td>\n",
       "      <td>...</td>\n",
       "    </tr>\n",
       "    <tr>\n",
       "      <th>2919</th>\n",
       "      <td>2920</td>\n",
       "      <td>4.0</td>\n",
       "    </tr>\n",
       "    <tr>\n",
       "      <th>2920</th>\n",
       "      <td>2921</td>\n",
       "      <td>7.0</td>\n",
       "    </tr>\n",
       "    <tr>\n",
       "      <th>2921</th>\n",
       "      <td>2922</td>\n",
       "      <td>10.0</td>\n",
       "    </tr>\n",
       "    <tr>\n",
       "      <th>2922</th>\n",
       "      <td>2923</td>\n",
       "      <td>9.0</td>\n",
       "    </tr>\n",
       "    <tr>\n",
       "      <th>2923</th>\n",
       "      <td>2924</td>\n",
       "      <td>12.0</td>\n",
       "    </tr>\n",
       "  </tbody>\n",
       "</table>\n",
       "<p>2924 rows × 2 columns</p>\n",
       "</div>"
      ],
      "text/plain": [
       "        id  Target\n",
       "0        1    10.0\n",
       "1        2    14.0\n",
       "2        3     5.0\n",
       "3        4    10.0\n",
       "4        5     9.0\n",
       "...    ...     ...\n",
       "2919  2920     4.0\n",
       "2920  2921     7.0\n",
       "2921  2922    10.0\n",
       "2922  2923     9.0\n",
       "2923  2924    12.0\n",
       "\n",
       "[2924 rows x 2 columns]"
      ]
     },
     "execution_count": 363,
     "metadata": {},
     "output_type": "execute_result"
    }
   ],
   "source": [
    "submission"
   ]
  },
  {
   "cell_type": "code",
   "execution_count": 364,
   "id": "1e3358a0",
   "metadata": {},
   "outputs": [],
   "source": [
    "submission.to_csv('cb_xgb_1.csv', index = False)"
   ]
  }
 ],
 "metadata": {
  "kernelspec": {
   "display_name": "Python 3",
   "language": "python",
   "name": "python3"
  },
  "language_info": {
   "codemirror_mode": {
    "name": "ipython",
    "version": 3
   },
   "file_extension": ".py",
   "mimetype": "text/x-python",
   "name": "python",
   "nbconvert_exporter": "python",
   "pygments_lexer": "ipython3",
   "version": "3.8.8"
  }
 },
 "nbformat": 4,
 "nbformat_minor": 5
}
