{
 "cells": [
  {
   "cell_type": "code",
   "execution_count": 66,
   "id": "3065123d",
   "metadata": {},
   "outputs": [],
   "source": [
    "import pandas as pd\n",
    "import numpy as np\n",
    "\n",
    "import warnings\n",
    "warnings.filterwarnings(\"ignore\")\n",
    "\n",
    "import evalml"
   ]
  },
  {
   "cell_type": "code",
   "execution_count": 90,
   "id": "d94c4823",
   "metadata": {},
   "outputs": [],
   "source": [
    "train = pd.read_csv(\"train.csv\")\n",
    "test = pd.read_csv(\"test.csv\")\n",
    "submission = pd.read_csv(\"sample_submission.csv\")"
   ]
  },
  {
   "cell_type": "code",
   "execution_count": 91,
   "id": "b21749f9",
   "metadata": {},
   "outputs": [
    {
     "data": {
      "text/html": [
       "<div>\n",
       "<style scoped>\n",
       "    .dataframe tbody tr th:only-of-type {\n",
       "        vertical-align: middle;\n",
       "    }\n",
       "\n",
       "    .dataframe tbody tr th {\n",
       "        vertical-align: top;\n",
       "    }\n",
       "\n",
       "    .dataframe thead th {\n",
       "        text-align: right;\n",
       "    }\n",
       "</style>\n",
       "<table border=\"1\" class=\"dataframe\">\n",
       "  <thead>\n",
       "    <tr style=\"text-align: right;\">\n",
       "      <th></th>\n",
       "      <th>id</th>\n",
       "      <th>Gender</th>\n",
       "      <th>Lenght</th>\n",
       "      <th>Diameter</th>\n",
       "      <th>Height</th>\n",
       "      <th>Whole Weight</th>\n",
       "      <th>Shucked Weight</th>\n",
       "      <th>Viscra Weight</th>\n",
       "      <th>Shell Weight</th>\n",
       "      <th>Target</th>\n",
       "    </tr>\n",
       "  </thead>\n",
       "  <tbody>\n",
       "    <tr>\n",
       "      <th>0</th>\n",
       "      <td>1</td>\n",
       "      <td>M</td>\n",
       "      <td>0.605</td>\n",
       "      <td>0.470</td>\n",
       "      <td>0.115</td>\n",
       "      <td>1.1140</td>\n",
       "      <td>0.3925</td>\n",
       "      <td>0.2910</td>\n",
       "      <td>0.3100</td>\n",
       "      <td>15</td>\n",
       "    </tr>\n",
       "    <tr>\n",
       "      <th>1</th>\n",
       "      <td>2</td>\n",
       "      <td>I</td>\n",
       "      <td>0.430</td>\n",
       "      <td>0.315</td>\n",
       "      <td>0.095</td>\n",
       "      <td>0.3780</td>\n",
       "      <td>0.1750</td>\n",
       "      <td>0.0800</td>\n",
       "      <td>0.1045</td>\n",
       "      <td>8</td>\n",
       "    </tr>\n",
       "    <tr>\n",
       "      <th>2</th>\n",
       "      <td>3</td>\n",
       "      <td>I</td>\n",
       "      <td>0.580</td>\n",
       "      <td>0.490</td>\n",
       "      <td>0.195</td>\n",
       "      <td>1.3165</td>\n",
       "      <td>0.5305</td>\n",
       "      <td>0.2540</td>\n",
       "      <td>0.4100</td>\n",
       "      <td>18</td>\n",
       "    </tr>\n",
       "    <tr>\n",
       "      <th>3</th>\n",
       "      <td>4</td>\n",
       "      <td>M</td>\n",
       "      <td>0.535</td>\n",
       "      <td>0.405</td>\n",
       "      <td>0.175</td>\n",
       "      <td>1.2705</td>\n",
       "      <td>0.5480</td>\n",
       "      <td>0.3265</td>\n",
       "      <td>0.3370</td>\n",
       "      <td>13</td>\n",
       "    </tr>\n",
       "    <tr>\n",
       "      <th>4</th>\n",
       "      <td>5</td>\n",
       "      <td>I</td>\n",
       "      <td>0.310</td>\n",
       "      <td>0.235</td>\n",
       "      <td>0.090</td>\n",
       "      <td>0.1270</td>\n",
       "      <td>0.0480</td>\n",
       "      <td>0.0310</td>\n",
       "      <td>0.0400</td>\n",
       "      <td>6</td>\n",
       "    </tr>\n",
       "  </tbody>\n",
       "</table>\n",
       "</div>"
      ],
      "text/plain": [
       "   id Gender  Lenght  Diameter  Height  Whole Weight  Shucked Weight  \\\n",
       "0   1      M   0.605     0.470   0.115        1.1140          0.3925   \n",
       "1   2      I   0.430     0.315   0.095        0.3780          0.1750   \n",
       "2   3      I   0.580     0.490   0.195        1.3165          0.5305   \n",
       "3   4      M   0.535     0.405   0.175        1.2705          0.5480   \n",
       "4   5      I   0.310     0.235   0.090        0.1270          0.0480   \n",
       "\n",
       "   Viscra Weight  Shell Weight  Target  \n",
       "0         0.2910        0.3100      15  \n",
       "1         0.0800        0.1045       8  \n",
       "2         0.2540        0.4100      18  \n",
       "3         0.3265        0.3370      13  \n",
       "4         0.0310        0.0400       6  "
      ]
     },
     "execution_count": 91,
     "metadata": {},
     "output_type": "execute_result"
    }
   ],
   "source": [
    "train.head()"
   ]
  },
  {
   "cell_type": "code",
   "execution_count": 92,
   "id": "bcb5dc8a",
   "metadata": {},
   "outputs": [],
   "source": [
    "train = pd.get_dummies(columns = ['Gender'], data = train, drop_first = True)\n",
    "test = pd.get_dummies(columns = ['Gender'], data = test, drop_first = True)"
   ]
  },
  {
   "cell_type": "code",
   "execution_count": 93,
   "id": "2c086c3a",
   "metadata": {},
   "outputs": [],
   "source": [
    "from sklearn.model_selection import train_test_split, KFold\n",
    "from sklearn.metrics import mean_absolute_error"
   ]
  },
  {
   "cell_type": "code",
   "execution_count": 94,
   "id": "de865281",
   "metadata": {},
   "outputs": [],
   "source": [
    "def NMAE(true, pred) -> float:\n",
    "    mae = np.mean(np.abs(true - pred))\n",
    "    score = mae / np.mean(np.abs(true))\n",
    "    return score"
   ]
  },
  {
   "cell_type": "code",
   "execution_count": 123,
   "id": "776a7779",
   "metadata": {},
   "outputs": [],
   "source": [
    "X = train.drop(['id', 'Target'], axis = 1)\n",
    "y = np.log1p(train.Target)"
   ]
  },
  {
   "cell_type": "code",
   "execution_count": 124,
   "id": "88885721",
   "metadata": {},
   "outputs": [],
   "source": [
    "target = test[X.columns]"
   ]
  },
  {
   "cell_type": "code",
   "execution_count": 125,
   "id": "0aa047d1",
   "metadata": {},
   "outputs": [],
   "source": [
    "X_train, X_val, y_train, y_val = train_test_split(X, y, test_size = 0.2, random_state = 42)"
   ]
  },
  {
   "cell_type": "code",
   "execution_count": 126,
   "id": "1012b60c",
   "metadata": {},
   "outputs": [],
   "source": [
    "from evalml.automl import AutoMLSearch"
   ]
  },
  {
   "cell_type": "code",
   "execution_count": 127,
   "id": "c07cd047",
   "metadata": {},
   "outputs": [],
   "source": [
    "automl = AutoMLSearch(X_train = X_train, y_train = y_train, problem_type = 'regression', objective = 'MAE', additional_objectives = ['MSE'], optimize_thresholds = True)"
   ]
  },
  {
   "cell_type": "code",
   "execution_count": 128,
   "id": "2cdee5b3",
   "metadata": {},
   "outputs": [],
   "source": [
    "automl.search()"
   ]
  },
  {
   "cell_type": "code",
   "execution_count": 129,
   "id": "d175203d",
   "metadata": {},
   "outputs": [],
   "source": [
    "pipeline = automl.best_pipeline"
   ]
  },
  {
   "cell_type": "code",
   "execution_count": 130,
   "id": "41bf40b1",
   "metadata": {},
   "outputs": [
    {
     "name": "stdout",
     "output_type": "stream",
     "text": [
      "\n",
      "**************************************\n",
      "* Random Forest Regressor w/ Imputer *\n",
      "**************************************\n",
      "\n",
      "Problem Type: regression\n",
      "Model Family: Random Forest\n",
      "\n",
      "Pipeline Steps\n",
      "==============\n",
      "1. Imputer\n",
      "\t * categorical_impute_strategy : most_frequent\n",
      "\t * numeric_impute_strategy : mean\n",
      "\t * categorical_fill_value : None\n",
      "\t * numeric_fill_value : None\n",
      "2. Random Forest Regressor\n",
      "\t * n_estimators : 100\n",
      "\t * max_depth : 6\n",
      "\t * n_jobs : -1\n",
      "\n",
      "Training\n",
      "========\n",
      "Training for regression problems.\n",
      "Total training time (including CV): 0.4 seconds\n",
      "\n",
      "Cross Validation\n",
      "----------------\n",
      "              MAE   MSE # Training # Validation\n",
      "0           0.141 0.038        668          334\n",
      "1           0.139 0.033        668          334\n",
      "2           0.144 0.037        668          334\n",
      "mean        0.141 0.036          -            -\n",
      "std         0.002 0.002          -            -\n",
      "coef of var 0.016 0.065          -            -\n"
     ]
    }
   ],
   "source": [
    "automl.describe_pipeline(automl.rankings.iloc[0]['id'])"
   ]
  },
  {
   "cell_type": "code",
   "execution_count": 131,
   "id": "2cef5032",
   "metadata": {},
   "outputs": [],
   "source": [
    "pred = np.expm1(pipeline.predict(X_val))"
   ]
  },
  {
   "cell_type": "code",
   "execution_count": 132,
   "id": "f495c86c",
   "metadata": {
    "scrolled": true
   },
   "outputs": [
    {
     "data": {
      "text/plain": [
       "0.14155640938074374"
      ]
     },
     "execution_count": 132,
     "metadata": {},
     "output_type": "execute_result"
    }
   ],
   "source": [
    "NMAE(np.expm1(y_val), pred)"
   ]
  },
  {
   "cell_type": "code",
   "execution_count": 133,
   "id": "142d757d",
   "metadata": {},
   "outputs": [],
   "source": [
    "automl = AutoMLSearch(X_train = X, y_train = y, problem_type = 'regression', objective = 'MAE', additional_objectives = ['MSE'], optimize_thresholds = True)"
   ]
  },
  {
   "cell_type": "code",
   "execution_count": 134,
   "id": "8efabad1",
   "metadata": {},
   "outputs": [],
   "source": [
    "automl.search()"
   ]
  },
  {
   "cell_type": "code",
   "execution_count": 135,
   "id": "720ea560",
   "metadata": {},
   "outputs": [],
   "source": [
    "pipeline = automl.best_pipeline"
   ]
  },
  {
   "cell_type": "code",
   "execution_count": 136,
   "id": "e89472b9",
   "metadata": {},
   "outputs": [
    {
     "name": "stdout",
     "output_type": "stream",
     "text": [
      "\n",
      "**************************************\n",
      "* Random Forest Regressor w/ Imputer *\n",
      "**************************************\n",
      "\n",
      "Problem Type: regression\n",
      "Model Family: Random Forest\n",
      "\n",
      "Pipeline Steps\n",
      "==============\n",
      "1. Imputer\n",
      "\t * categorical_impute_strategy : most_frequent\n",
      "\t * numeric_impute_strategy : mean\n",
      "\t * categorical_fill_value : None\n",
      "\t * numeric_fill_value : None\n",
      "2. Random Forest Regressor\n",
      "\t * n_estimators : 100\n",
      "\t * max_depth : 6\n",
      "\t * n_jobs : -1\n",
      "\n",
      "Training\n",
      "========\n",
      "Training for regression problems.\n",
      "Total training time (including CV): 0.5 seconds\n",
      "\n",
      "Cross Validation\n",
      "----------------\n",
      "              MAE   MSE # Training # Validation\n",
      "0           0.138 0.033        835          418\n",
      "1           0.144 0.037        835          418\n",
      "2           0.128 0.028        836          417\n",
      "mean        0.137 0.033          -            -\n",
      "std         0.009 0.005          -            -\n",
      "coef of var 0.062 0.143          -            -\n"
     ]
    }
   ],
   "source": [
    "automl.describe_pipeline(automl.rankings.iloc[0]['id'])"
   ]
  },
  {
   "cell_type": "code",
   "execution_count": 137,
   "id": "20d7a659",
   "metadata": {},
   "outputs": [],
   "source": [
    "pred = np.expm1(pipeline.predict(target))"
   ]
  },
  {
   "cell_type": "code",
   "execution_count": 138,
   "id": "98daa893",
   "metadata": {},
   "outputs": [],
   "source": [
    "submission['Target'] = pred"
   ]
  },
  {
   "cell_type": "code",
   "execution_count": 139,
   "id": "ab675fbc",
   "metadata": {},
   "outputs": [],
   "source": [
    "submission.to_csv('evalml_3rd.csv', index = False)"
   ]
  }
 ],
 "metadata": {
  "kernelspec": {
   "display_name": "Python 3",
   "language": "python",
   "name": "python3"
  },
  "language_info": {
   "codemirror_mode": {
    "name": "ipython",
    "version": 3
   },
   "file_extension": ".py",
   "mimetype": "text/x-python",
   "name": "python",
   "nbconvert_exporter": "python",
   "pygments_lexer": "ipython3",
   "version": "3.8.8"
  }
 },
 "nbformat": 4,
 "nbformat_minor": 5
}
