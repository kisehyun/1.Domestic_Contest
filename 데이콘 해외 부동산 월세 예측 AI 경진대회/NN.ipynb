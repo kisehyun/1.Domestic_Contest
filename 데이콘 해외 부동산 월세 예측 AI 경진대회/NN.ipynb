{
 "cells": [
  {
   "cell_type": "code",
   "execution_count": 108,
   "id": "cfab9238",
   "metadata": {},
   "outputs": [],
   "source": [
    "import torch\n",
    "import torch.nn as nn\n",
    "from torch.optim import Adam, RMSprop\n",
    "from torch.utils.data import TensorDataset, DataLoader\n",
    "\n",
    "import pandas as pd\n",
    "import numpy as np\n",
    "\n",
    "import warnings\n",
    "warnings.filterwarnings('ignore')"
   ]
  },
  {
   "cell_type": "code",
   "execution_count": 135,
   "id": "0d91ea6f",
   "metadata": {},
   "outputs": [],
   "source": [
    "train = pd.read_csv('train.csv')\n",
    "test = pd.read_csv('test.csv')"
   ]
  },
  {
   "cell_type": "code",
   "execution_count": 137,
   "id": "13f93eeb",
   "metadata": {},
   "outputs": [],
   "source": [
    "from sklearn.preprocessing import LabelEncoder"
   ]
  },
  {
   "cell_type": "code",
   "execution_count": 138,
   "id": "14553e93",
   "metadata": {},
   "outputs": [],
   "source": [
    "le = LabelEncoder()"
   ]
  },
  {
   "cell_type": "code",
   "execution_count": 139,
   "id": "2c630794",
   "metadata": {},
   "outputs": [],
   "source": [
    "train['propertyType'] = le.fit_transform(train['propertyType'])\n",
    "test['propertyType'] = le.transform(test['propertyType'])"
   ]
  },
  {
   "cell_type": "code",
   "execution_count": 140,
   "id": "1b9503ce",
   "metadata": {},
   "outputs": [],
   "source": [
    "def convert_SN(x) :\n",
    "    \n",
    "    if x == 'West Delhi' :\n",
    "        return 'Delhi West'\n",
    "    elif x == 'North Delhi' :\n",
    "        return 'Delhi North'\n",
    "    else :\n",
    "        return x"
   ]
  },
  {
   "cell_type": "code",
   "execution_count": 141,
   "id": "9db5a9f6",
   "metadata": {},
   "outputs": [],
   "source": [
    "train['suburbName'] = train['suburbName'].apply(convert_SN)\n",
    "test['suburbName'] = test['suburbName'].apply(convert_SN)"
   ]
  },
  {
   "cell_type": "code",
   "execution_count": 142,
   "id": "998b6256",
   "metadata": {},
   "outputs": [],
   "source": [
    "train['suburbName'] = le.fit_transform(train['suburbName'])\n",
    "test['suburbName'] = le.transform(test['suburbName'])"
   ]
  },
  {
   "cell_type": "code",
   "execution_count": 143,
   "id": "ae09fd9c",
   "metadata": {},
   "outputs": [],
   "source": [
    "dist_cols = train.columns[train.columns.str.contains('distance')]"
   ]
  },
  {
   "cell_type": "code",
   "execution_count": 144,
   "id": "ca71d685",
   "metadata": {},
   "outputs": [],
   "source": [
    "train['dist_skew'] = train[dist_cols].skew(axis = 1)\n",
    "test['dist_skew'] = test[dist_cols].skew(axis = 1)"
   ]
  },
  {
   "cell_type": "code",
   "execution_count": 145,
   "id": "4cf619a3",
   "metadata": {},
   "outputs": [],
   "source": [
    "from sklearn.cluster import KMeans"
   ]
  },
  {
   "cell_type": "code",
   "execution_count": 146,
   "id": "7a6d2ef3",
   "metadata": {},
   "outputs": [],
   "source": [
    "km = KMeans(n_clusters = 8, random_state = 42)"
   ]
  },
  {
   "cell_type": "code",
   "execution_count": 147,
   "id": "ff441908",
   "metadata": {},
   "outputs": [],
   "source": [
    "train['dist_cls'] = km.fit_predict(train[dist_cols])\n",
    "test['dist_cls'] = km.predict(test[dist_cols])"
   ]
  },
  {
   "cell_type": "code",
   "execution_count": 148,
   "id": "d81e68b9",
   "metadata": {},
   "outputs": [],
   "source": [
    "km = KMeans(n_clusters = 6, random_state = 42)"
   ]
  },
  {
   "cell_type": "code",
   "execution_count": 149,
   "id": "fea2e50a",
   "metadata": {},
   "outputs": [],
   "source": [
    "infra_cols = ['propertyType', 'bedrooms', 'area(square_meters)']"
   ]
  },
  {
   "cell_type": "code",
   "execution_count": 150,
   "id": "583c7f68",
   "metadata": {},
   "outputs": [],
   "source": [
    "train['infra_cls'] = km.fit_predict(train[infra_cols])\n",
    "test['infra_cls'] = km.predict(test[infra_cols])"
   ]
  },
  {
   "cell_type": "code",
   "execution_count": 151,
   "id": "29e20fd7",
   "metadata": {},
   "outputs": [],
   "source": [
    "from sklearn.model_selection import KFold\n",
    "from sklearn.metrics import mean_absolute_error\n",
    "from catboost import CatBoostRegressor"
   ]
  },
  {
   "cell_type": "code",
   "execution_count": 152,
   "id": "c84ba5f0",
   "metadata": {},
   "outputs": [],
   "source": [
    "kf = KFold(n_splits = 10, random_state = 42, shuffle = True)"
   ]
  },
  {
   "cell_type": "code",
   "execution_count": 319,
   "id": "9dbcd52f",
   "metadata": {},
   "outputs": [],
   "source": [
    "from sklearn.preprocessing import StandardScaler"
   ]
  },
  {
   "cell_type": "code",
   "execution_count": 320,
   "id": "251f224c",
   "metadata": {},
   "outputs": [],
   "source": [
    "ss = StandardScaler()"
   ]
  },
  {
   "cell_type": "code",
   "execution_count": 321,
   "id": "05d11642",
   "metadata": {},
   "outputs": [],
   "source": [
    "X = train.drop(['ID', 'monthlyRent(us_dollar)'], axis = 1)"
   ]
  },
  {
   "cell_type": "code",
   "execution_count": 322,
   "id": "74dd2abf",
   "metadata": {},
   "outputs": [],
   "source": [
    "scaled_X = ss.fit_transform(X)"
   ]
  },
  {
   "cell_type": "code",
   "execution_count": 323,
   "id": "cfd96a4b",
   "metadata": {
    "scrolled": true
   },
   "outputs": [],
   "source": [
    "X = torch.tensor(scaled_X, dtype = torch.float)\n",
    "y = torch.tensor(train['monthlyRent(us_dollar)'], dtype = torch.float)"
   ]
  },
  {
   "cell_type": "code",
   "execution_count": 325,
   "id": "df2c91f3",
   "metadata": {},
   "outputs": [],
   "source": [
    "target = ss.transform(test.iloc[:, 1:])"
   ]
  },
  {
   "cell_type": "code",
   "execution_count": 326,
   "id": "2bc50a89",
   "metadata": {
    "scrolled": true
   },
   "outputs": [],
   "source": [
    "target = torch.tensor(target, dtype = torch.float)"
   ]
  },
  {
   "cell_type": "code",
   "execution_count": 327,
   "id": "06518c3a",
   "metadata": {},
   "outputs": [],
   "source": [
    "from torch.utils.data import TensorDataset, DataLoader"
   ]
  },
  {
   "cell_type": "code",
   "execution_count": 354,
   "id": "5d4605e0",
   "metadata": {},
   "outputs": [],
   "source": [
    "class Net(nn.Module) :\n",
    "    \n",
    "    def __init__(self) :\n",
    "        super(Net, self).__init__()\n",
    "        self.layer_1 = nn.Linear(13, 128)\n",
    "        self.bn_1 = nn.BatchNorm1d(128)\n",
    "        self.relu_1 = nn.LeakyReLU()\n",
    "        \n",
    "        \n",
    "        self.layer_3 = nn.Linear(128, 32)\n",
    "        self.bn_3 = nn.BatchNorm1d(32)\n",
    "        self.relu_3 = nn.LeakyReLU()\n",
    "        \n",
    "        self.layer_4 = nn.Linear(32, 1)\n",
    "    def forward(self, x) :\n",
    "        \n",
    "        x = self.layer_1(x)\n",
    "        x = self.bn_1(x)\n",
    "        x = self.relu_1(x)\n",
    "        #x = self.layer_2(x)\n",
    "        #x = self.bn_2(x)\n",
    "        #x = self.relu_2(x)\n",
    "        x = self.layer_3(x)\n",
    "        x = self.bn_3(x)\n",
    "        x = self.relu_3(x)\n",
    "        x = self.layer_4(x)\n",
    "        return x"
   ]
  },
  {
   "cell_type": "code",
   "execution_count": 355,
   "id": "00f337ee",
   "metadata": {},
   "outputs": [],
   "source": [
    "device = 'cuda' if torch.cuda.is_available() else 'cpu'"
   ]
  },
  {
   "cell_type": "code",
   "execution_count": 356,
   "id": "a2e5e7b0",
   "metadata": {},
   "outputs": [],
   "source": [
    "criterion = nn.L1Loss()"
   ]
  },
  {
   "cell_type": "code",
   "execution_count": 357,
   "id": "55bfa5ad",
   "metadata": {},
   "outputs": [],
   "source": [
    "import torch.optim as optim\n",
    "from tqdm import tqdm_notebook"
   ]
  },
  {
   "cell_type": "code",
   "execution_count": 358,
   "id": "33d8d493",
   "metadata": {
    "scrolled": false
   },
   "outputs": [
    {
     "data": {
      "application/vnd.jupyter.widget-view+json": {
       "model_id": "5d2cee89b4f14f84977d62482d9c6735",
       "version_major": 2,
       "version_minor": 0
      },
      "text/plain": [
       "0it [00:00, ?it/s]"
      ]
     },
     "metadata": {},
     "output_type": "display_data"
    },
    {
     "name": "stdout",
     "output_type": "stream",
     "text": [
      "Fold 1...!\n"
     ]
    },
    {
     "data": {
      "application/vnd.jupyter.widget-view+json": {
       "model_id": "c1f1dd5ac55f420ab55c3ef840248f16",
       "version_major": 2,
       "version_minor": 0
      },
      "text/plain": [
       "  0%|          | 0/50 [00:00<?, ?it/s]"
      ]
     },
     "metadata": {},
     "output_type": "display_data"
    },
    {
     "name": "stdout",
     "output_type": "stream",
     "text": [
      "Early Stopping...\n",
      "1 Fold Best Val MAE : 64.8775\n",
      "\n",
      "Fold 2...!\n"
     ]
    },
    {
     "data": {
      "application/vnd.jupyter.widget-view+json": {
       "model_id": "9088bb4c47464dd9b7950ab3f7a6d339",
       "version_major": 2,
       "version_minor": 0
      },
      "text/plain": [
       "  0%|          | 0/50 [00:00<?, ?it/s]"
      ]
     },
     "metadata": {},
     "output_type": "display_data"
    },
    {
     "name": "stdout",
     "output_type": "stream",
     "text": [
      "Early Stopping...\n",
      "2 Fold Best Val MAE : 60.8053\n",
      "\n",
      "Fold 3...!\n"
     ]
    },
    {
     "data": {
      "application/vnd.jupyter.widget-view+json": {
       "model_id": "d9addfd0e3ad43509cd8d2fe32e657a5",
       "version_major": 2,
       "version_minor": 0
      },
      "text/plain": [
       "  0%|          | 0/50 [00:00<?, ?it/s]"
      ]
     },
     "metadata": {},
     "output_type": "display_data"
    },
    {
     "name": "stdout",
     "output_type": "stream",
     "text": [
      "Early Stopping...\n",
      "3 Fold Best Val MAE : 61.2306\n",
      "\n",
      "Fold 4...!\n"
     ]
    },
    {
     "data": {
      "application/vnd.jupyter.widget-view+json": {
       "model_id": "6982f0435d9d454498232badf32484b9",
       "version_major": 2,
       "version_minor": 0
      },
      "text/plain": [
       "  0%|          | 0/50 [00:00<?, ?it/s]"
      ]
     },
     "metadata": {},
     "output_type": "display_data"
    },
    {
     "name": "stdout",
     "output_type": "stream",
     "text": [
      "Early Stopping...\n",
      "4 Fold Best Val MAE : 55.2893\n",
      "\n",
      "Fold 5...!\n"
     ]
    },
    {
     "data": {
      "application/vnd.jupyter.widget-view+json": {
       "model_id": "27c1f39957354ffba0aa0465847c92ed",
       "version_major": 2,
       "version_minor": 0
      },
      "text/plain": [
       "  0%|          | 0/50 [00:00<?, ?it/s]"
      ]
     },
     "metadata": {},
     "output_type": "display_data"
    },
    {
     "name": "stdout",
     "output_type": "stream",
     "text": [
      "Early Stopping...\n",
      "5 Fold Best Val MAE : 57.9369\n",
      "\n",
      "Fold 6...!\n"
     ]
    },
    {
     "data": {
      "application/vnd.jupyter.widget-view+json": {
       "model_id": "3e83c6cf14bc49b08c0de9a4c4d54426",
       "version_major": 2,
       "version_minor": 0
      },
      "text/plain": [
       "  0%|          | 0/50 [00:00<?, ?it/s]"
      ]
     },
     "metadata": {},
     "output_type": "display_data"
    },
    {
     "name": "stdout",
     "output_type": "stream",
     "text": [
      "Early Stopping...\n",
      "6 Fold Best Val MAE : 63.817\n",
      "\n",
      "Fold 7...!\n"
     ]
    },
    {
     "data": {
      "application/vnd.jupyter.widget-view+json": {
       "model_id": "291c0d6677c24d5c9709c5363bb7b810",
       "version_major": 2,
       "version_minor": 0
      },
      "text/plain": [
       "  0%|          | 0/50 [00:00<?, ?it/s]"
      ]
     },
     "metadata": {},
     "output_type": "display_data"
    },
    {
     "name": "stdout",
     "output_type": "stream",
     "text": [
      "Early Stopping...\n",
      "7 Fold Best Val MAE : 64.6542\n",
      "\n",
      "Fold 8...!\n"
     ]
    },
    {
     "data": {
      "application/vnd.jupyter.widget-view+json": {
       "model_id": "99257b058e9940bcaf867bf9b5d25852",
       "version_major": 2,
       "version_minor": 0
      },
      "text/plain": [
       "  0%|          | 0/50 [00:00<?, ?it/s]"
      ]
     },
     "metadata": {},
     "output_type": "display_data"
    },
    {
     "name": "stdout",
     "output_type": "stream",
     "text": [
      "Early Stopping...\n",
      "8 Fold Best Val MAE : 62.4968\n",
      "\n",
      "Fold 9...!\n"
     ]
    },
    {
     "data": {
      "application/vnd.jupyter.widget-view+json": {
       "model_id": "4a920738b09f46d5a7b61123a161dde1",
       "version_major": 2,
       "version_minor": 0
      },
      "text/plain": [
       "  0%|          | 0/50 [00:00<?, ?it/s]"
      ]
     },
     "metadata": {},
     "output_type": "display_data"
    },
    {
     "name": "stdout",
     "output_type": "stream",
     "text": [
      "Early Stopping...\n",
      "9 Fold Best Val MAE : 60.747\n",
      "\n",
      "Fold 10...!\n"
     ]
    },
    {
     "data": {
      "application/vnd.jupyter.widget-view+json": {
       "model_id": "f6e83fed0147459e9993aebe9a912b17",
       "version_major": 2,
       "version_minor": 0
      },
      "text/plain": [
       "  0%|          | 0/50 [00:00<?, ?it/s]"
      ]
     },
     "metadata": {},
     "output_type": "display_data"
    },
    {
     "name": "stdout",
     "output_type": "stream",
     "text": [
      "Early Stopping...\n",
      "10 Fold Best Val MAE : 62.8633\n",
      "\n",
      "\n",
      "NN AVG of MAE : 61.47180096809251\n",
      "CPU times: user 1min 3s, sys: 8 s, total: 1min 11s\n",
      "Wall time: 1min 8s\n"
     ]
    }
   ],
   "source": [
    "%%time\n",
    "\n",
    "nn_pred = np.zeros((len(test), ))\n",
    "final_mae = 0\n",
    "\n",
    "for i, (tr_idx, val_idx) in enumerate(tqdm_notebook(kf.split(X, y))) :\n",
    "    \n",
    "    tr_x, tr_y = X[tr_idx], y[tr_idx]\n",
    "    val_x, val_y = X[val_idx], y[val_idx]\n",
    "    \n",
    "    tr_loader = DataLoader(TensorDataset(tr_x, tr_y), shuffle = True, drop_last = True, batch_size = 32)\n",
    "    val_loader = DataLoader(TensorDataset(val_x, val_y), shuffle = False, drop_last = False, batch_size = 32)\n",
    "    te_loader = DataLoader(TensorDataset(target, torch.zeros((target.shape[0], ), dtype = torch.float32)), shuffle = False, drop_last = False, batch_size = 32)\n",
    "    \n",
    "    model = Net().to(device)\n",
    "    adam = optim.Adam(model.parameters(), lr = 0.003)\n",
    "    \n",
    "    score_standard = 400\n",
    "    patience = [0] * 7\n",
    "    \n",
    "    print(f\"Fold {i + 1}...!\")\n",
    "    \n",
    "    for epoch in tqdm_notebook(range(50)) :\n",
    "        \n",
    "        model.train()\n",
    "        tr_loss = 0\n",
    "        \n",
    "        for idx, (xx, yy) in enumerate(tr_loader) :\n",
    "\n",
    "            xx, yy = xx.to(device), yy.to(device)\n",
    "            adam.zero_grad()\n",
    "            pred = model(xx).squeeze()\n",
    "            \n",
    "            loss = criterion(pred, yy)\n",
    "            loss.backward()\n",
    "            tr_loss += loss.item() / len(tr_loader)\n",
    "\n",
    "            adam.step()\n",
    "            \n",
    "        with torch.no_grad() :\n",
    "            \n",
    "            model.eval()\n",
    "            \n",
    "            val_loss = 0\n",
    "            \n",
    "            predictions = []\n",
    "            actuals = []\n",
    "            \n",
    "            for xx, yy in val_loader :\n",
    "                \n",
    "                xx, yy = xx.to(device), yy.to(device)\n",
    "                pred = model(xx).squeeze()\n",
    "                loss = criterion(pred, yy)\n",
    "                val_loss += loss.item()\n",
    "                \n",
    "                predictions += pred.tolist()\n",
    "                actuals += yy.tolist()\n",
    "                \n",
    "            score = mean_absolute_error(actuals, predictions)\n",
    "            val_loss /= len(val_loader)\n",
    "            \n",
    "            if score < score_standard :\n",
    "                \n",
    "                score_standard = score\n",
    "                patience.append(0)\n",
    "                \n",
    "                fold_pred = []\n",
    "                \n",
    "                for idx, (xx, _) in enumerate(te_loader) :\n",
    "                    \n",
    "                    xx = xx.to(device)\n",
    "                    pred = model(xx).squeeze() / kf.n_splits\n",
    "                    fold_pred += pred.tolist()\n",
    "            else :\n",
    "                patience.append(1)\n",
    "                \n",
    "            if patience[-7:] == [1] * 7 :\n",
    "                \n",
    "                print(f'Early Stopping...')\n",
    "                break\n",
    "                \n",
    "    print(f\"{i + 1} Fold Best Val MAE : {round(score_standard, 4)}\\n\")\n",
    "    final_mae += score_standard / kf.n_splits\n",
    "    nn_pred += fold_pred\n",
    "print(f\"\\nNN AVG of MAE : {final_mae}\")"
   ]
  },
  {
   "cell_type": "code",
   "execution_count": 294,
   "id": "45444db6",
   "metadata": {},
   "outputs": [],
   "source": [
    "submission = pd.read_csv('sample_submission.csv')"
   ]
  },
  {
   "cell_type": "code",
   "execution_count": 334,
   "id": "a1831a14",
   "metadata": {},
   "outputs": [],
   "source": [
    "submission['monthlyRent(us_dollar)'] = [int(round(v, 0)) for v in nn_pred]"
   ]
  },
  {
   "cell_type": "code",
   "execution_count": 336,
   "id": "62a56926",
   "metadata": {},
   "outputs": [],
   "source": [
    "submission.to_csv('nn.csv', index = False)"
   ]
  }
 ],
 "metadata": {
  "kernelspec": {
   "display_name": "Python 3 (ipykernel)",
   "language": "python",
   "name": "python3"
  },
  "language_info": {
   "codemirror_mode": {
    "name": "ipython",
    "version": 3
   },
   "file_extension": ".py",
   "mimetype": "text/x-python",
   "name": "python",
   "nbconvert_exporter": "python",
   "pygments_lexer": "ipython3",
   "version": "3.9.7"
  }
 },
 "nbformat": 4,
 "nbformat_minor": 5
}
