{
 "cells": [
  {
   "cell_type": "code",
   "execution_count": 1,
   "id": "6ccc5cd6",
   "metadata": {},
   "outputs": [],
   "source": [
    "import pandas as pd\n",
    "import numpy as np\n",
    "\n",
    "import warnings\n",
    "warnings.filterwarnings('ignore')"
   ]
  },
  {
   "cell_type": "code",
   "execution_count": 2,
   "id": "7b854372",
   "metadata": {},
   "outputs": [],
   "source": [
    "train = pd.read_csv('train.csv')\n",
    "test = pd.read_csv('test.csv')"
   ]
  },
  {
   "cell_type": "code",
   "execution_count": 3,
   "id": "6884ce5c",
   "metadata": {},
   "outputs": [],
   "source": [
    "from sklearn.preprocessing import LabelEncoder"
   ]
  },
  {
   "cell_type": "code",
   "execution_count": 4,
   "id": "5f77e3f8",
   "metadata": {},
   "outputs": [],
   "source": [
    "le = LabelEncoder()"
   ]
  },
  {
   "cell_type": "code",
   "execution_count": 5,
   "id": "02bf1cba",
   "metadata": {},
   "outputs": [],
   "source": [
    "train['propertyType'] = le.fit_transform(train['propertyType'])\n",
    "test['propertyType'] = le.transform(test['propertyType'])"
   ]
  },
  {
   "cell_type": "code",
   "execution_count": 6,
   "id": "51a6cdc1",
   "metadata": {},
   "outputs": [],
   "source": [
    "def convert_SN(x) :\n",
    "    \n",
    "    if x == 'West Delhi' :\n",
    "        return 'Delhi West'\n",
    "    elif x == 'North Delhi' :\n",
    "        return 'Delhi North'\n",
    "    else :\n",
    "        return x"
   ]
  },
  {
   "cell_type": "code",
   "execution_count": 7,
   "id": "1072fa6b",
   "metadata": {},
   "outputs": [],
   "source": [
    "train['suburbName'] = train['suburbName'].apply(convert_SN)\n",
    "test['suburbName'] = test['suburbName'].apply(convert_SN)"
   ]
  },
  {
   "cell_type": "code",
   "execution_count": 8,
   "id": "1c406f31",
   "metadata": {},
   "outputs": [],
   "source": [
    "train['suburbName'] = le.fit_transform(train['suburbName'])\n",
    "test['suburbName'] = le.transform(test['suburbName'])"
   ]
  },
  {
   "cell_type": "code",
   "execution_count": 9,
   "id": "fe9c9fd5",
   "metadata": {},
   "outputs": [],
   "source": [
    "dist_cols = train.columns[train.columns.str.contains('distance')]"
   ]
  },
  {
   "cell_type": "code",
   "execution_count": 10,
   "id": "703a61cf",
   "metadata": {},
   "outputs": [],
   "source": [
    "train['dist_skew'] = train[dist_cols].skew(axis = 1)\n",
    "test['dist_skew'] = test[dist_cols].skew(axis = 1)"
   ]
  },
  {
   "cell_type": "code",
   "execution_count": 11,
   "id": "787b0641",
   "metadata": {},
   "outputs": [],
   "source": [
    "from sklearn.cluster import KMeans"
   ]
  },
  {
   "cell_type": "code",
   "execution_count": 12,
   "id": "218c40cd",
   "metadata": {},
   "outputs": [],
   "source": [
    "km = KMeans(n_clusters = 8, max_iter = 500, n_init = 15)"
   ]
  },
  {
   "cell_type": "code",
   "execution_count": 13,
   "id": "5a4ff2a4",
   "metadata": {},
   "outputs": [],
   "source": [
    "train['dist_cls'] = km.fit_predict(train[dist_cols])\n",
    "test['dist_cls'] = km.predict(test[dist_cols])"
   ]
  },
  {
   "cell_type": "code",
   "execution_count": 14,
   "id": "1539b3f2",
   "metadata": {},
   "outputs": [],
   "source": [
    "km = KMeans(n_clusters = 6, random_state = 42)"
   ]
  },
  {
   "cell_type": "code",
   "execution_count": 15,
   "id": "b7c63ec5",
   "metadata": {},
   "outputs": [],
   "source": [
    "infra_cols = ['propertyType', 'bedrooms', 'area(square_meters)']"
   ]
  },
  {
   "cell_type": "code",
   "execution_count": 16,
   "id": "312a2769",
   "metadata": {},
   "outputs": [],
   "source": [
    "train['infra_cls'] = km.fit_predict(train[infra_cols])\n",
    "test['infra_cls'] = km.predict(test[infra_cols])"
   ]
  },
  {
   "cell_type": "code",
   "execution_count": 17,
   "id": "41693f7f",
   "metadata": {},
   "outputs": [],
   "source": [
    "from catboost import CatBoostRegressor"
   ]
  },
  {
   "cell_type": "code",
   "execution_count": 18,
   "id": "20bebbfc",
   "metadata": {},
   "outputs": [],
   "source": [
    "from sklearn.model_selection import KFold\n",
    "from sklearn.metrics import mean_absolute_error"
   ]
  },
  {
   "cell_type": "code",
   "execution_count": 19,
   "id": "fc1e9e72",
   "metadata": {},
   "outputs": [],
   "source": [
    "kf = KFold(n_splits = 10, random_state = 42, shuffle = True)"
   ]
  },
  {
   "cell_type": "code",
   "execution_count": 20,
   "id": "6b9c486f",
   "metadata": {},
   "outputs": [],
   "source": [
    "X = train.drop(['ID', 'monthlyRent(us_dollar)'], axis = 1)\n",
    "y = np.log1p(train['monthlyRent(us_dollar)'])"
   ]
  },
  {
   "cell_type": "code",
   "execution_count": 23,
   "id": "12fc43ec",
   "metadata": {},
   "outputs": [],
   "source": [
    "target = test[X.columns]"
   ]
  },
  {
   "cell_type": "code",
   "execution_count": 24,
   "id": "b54bb1b1",
   "metadata": {},
   "outputs": [
    {
     "name": "stdout",
     "output_type": "stream",
     "text": [
      "1 Fold MAE : 61.08965517241379\n",
      "2 Fold MAE : 53.11609195402299\n",
      "3 Fold MAE : 54.24050632911393\n",
      "4 Fold MAE : 47.31645569620253\n",
      "5 Fold MAE : 54.18757192174914\n",
      "6 Fold MAE : 56.026467203682394\n",
      "7 Fold MAE : 56.77905638665133\n",
      "8 Fold MAE : 55.20253164556962\n",
      "9 Fold MAE : 56.0897583429229\n",
      "10 Fold MAE : 56.478711162255465\n",
      "\n",
      "CatBoostRegressor AVG of MAE : 55.052680581458404\n"
     ]
    }
   ],
   "source": [
    "cb_pred = np.zeros((target.shape[0]))\n",
    "cb_mae = 0\n",
    "for i, idx in enumerate(kf.split(X, y)) :\n",
    "    \n",
    "    tr_x, tr_y = X.loc[idx[0]], y.loc[idx[0]]\n",
    "    val_x, val_y = X.loc[idx[1]], y.loc[idx[1]]\n",
    "    \n",
    "    cb = CatBoostRegressor(random_state = 42, max_depth = 6, learning_rate = 0.03, iterations = 10000, eval_metric = 'MAE')\n",
    "    \n",
    "    cb.fit(tr_x, tr_y, eval_set = [(tr_x, tr_y), (val_x, val_y)], early_stopping_rounds = 1000, verbose = 0)\n",
    "    val_pred = np.expm1(cb.predict(val_x)).astype(int)\n",
    "    val_mae = mean_absolute_error(np.expm1(val_y), val_pred)\n",
    "    cb_mae += val_mae / kf.n_splits\n",
    "    print(f\"{i + 1} Fold MAE : {val_mae}\")\n",
    "    \n",
    "    fold_pred = cb.predict(target) / kf.n_splits\n",
    "    cb_pred += fold_pred\n",
    "print(f\"\\n{cb.__class__.__name__} AVG of MAE : {cb_mae}\")"
   ]
  },
  {
   "cell_type": "code",
   "execution_count": 26,
   "id": "09ee64a2",
   "metadata": {},
   "outputs": [],
   "source": [
    "from lightgbm import LGBMRegressor"
   ]
  },
  {
   "cell_type": "code",
   "execution_count": 27,
   "id": "924d57b8",
   "metadata": {},
   "outputs": [
    {
     "name": "stdout",
     "output_type": "stream",
     "text": [
      "1 Fold MAE : 61.00689655172415\n",
      "2 Fold MAE : 54.63333333333333\n",
      "3 Fold MAE : 55.22554660529344\n",
      "4 Fold MAE : 49.67088607594937\n",
      "5 Fold MAE : 53.92865362485615\n",
      "6 Fold MAE : 57.647871116225566\n",
      "7 Fold MAE : 57.177215189873415\n",
      "8 Fold MAE : 56.936708860759495\n",
      "9 Fold MAE : 57.05293440736479\n",
      "10 Fold MAE : 57.01611047180668\n",
      "\n",
      "LGBMRegressor AVG of MAE : 56.029615623718634\n"
     ]
    }
   ],
   "source": [
    "lgbm_pred = np.zeros((target.shape[0]))\n",
    "lgbm_mae = 0\n",
    "for i, idx in enumerate(kf.split(X, y)) :\n",
    "    \n",
    "    tr_x, tr_y = X.loc[idx[0]], y.loc[idx[0]]\n",
    "    val_x, val_y = X.loc[idx[1]], y.loc[idx[1]]\n",
    "    \n",
    "    lgbm = LGBMRegressor(random_state = 42, max_depth = 5, learning_rate = 0.03, n_estimators = 10000, objective = 'l1')\n",
    "    \n",
    "    lgbm.fit(tr_x, tr_y, eval_set = [(tr_x, tr_y), (val_x, val_y)], early_stopping_rounds = 1000, verbose = 0, eval_metric = 'l1')\n",
    "    val_pred = np.expm1(lgbm.predict(val_x)).astype(int)\n",
    "    val_mae = mean_absolute_error(np.expm1(val_y), val_pred)\n",
    "    lgbm_mae += val_mae / kf.n_splits\n",
    "    print(f\"{i + 1} Fold MAE : {val_mae}\")\n",
    "    \n",
    "    fold_pred = lgbm.predict(target) / kf.n_splits\n",
    "    lgbm_pred += fold_pred\n",
    "print(f\"\\n{lgbm.__class__.__name__} AVG of MAE : {lgbm_mae}\")"
   ]
  },
  {
   "cell_type": "code",
   "execution_count": 28,
   "id": "85278c63",
   "metadata": {},
   "outputs": [],
   "source": [
    "from xgboost import XGBRegressor"
   ]
  },
  {
   "cell_type": "code",
   "execution_count": 29,
   "id": "7b2edfe6",
   "metadata": {},
   "outputs": [
    {
     "name": "stdout",
     "output_type": "stream",
     "text": [
      "1 Fold MAE : 60.644827586206894\n",
      "2 Fold MAE : 53.99885057471264\n",
      "3 Fold MAE : 56.307249712312995\n",
      "4 Fold MAE : 48.767548906789415\n",
      "5 Fold MAE : 54.65592635212889\n",
      "6 Fold MAE : 57.29459148446491\n",
      "7 Fold MAE : 58.27617951668584\n",
      "8 Fold MAE : 56.029919447640964\n",
      "9 Fold MAE : 57.64556962025316\n",
      "10 Fold MAE : 57.65247410817031\n",
      "\n",
      "XGBRegressor AVG of MAE : 56.127313730936606\n"
     ]
    }
   ],
   "source": [
    "xgb_pred = np.zeros((target.shape[0]))\n",
    "xgb_mae = 0\n",
    "for i, idx in enumerate(kf.split(X, y)) :\n",
    "    \n",
    "    tr_x, tr_y = X.loc[idx[0]], y.loc[idx[0]]\n",
    "    val_x, val_y = X.loc[idx[1]], y.loc[idx[1]]\n",
    "    \n",
    "    xgb = XGBRegressor(random_state = 42, max_depth = 7, learning_rate = 0.03, n_estimators = 10000)\n",
    "    \n",
    "    xgb.fit(tr_x, tr_y, eval_set = [(tr_x, tr_y), (val_x, val_y)], early_stopping_rounds = 1000, verbose = 0, eval_metric = 'mae')\n",
    "    val_pred = np.expm1(xgb.predict(val_x)).astype(int)\n",
    "    val_mae = mean_absolute_error(np.expm1(val_y), val_pred)\n",
    "    xgb_mae += val_mae / kf.n_splits\n",
    "    print(f\"{i + 1} Fold MAE : {val_mae}\")\n",
    "    \n",
    "    fold_pred = xgb.predict(target) / kf.n_splits\n",
    "    xgb_pred += fold_pred\n",
    "print(f\"\\n{xgb.__class__.__name__} AVG of MAE : {xgb_mae}\")"
   ]
  },
  {
   "cell_type": "code",
   "execution_count": 30,
   "id": "743d1905",
   "metadata": {},
   "outputs": [],
   "source": [
    "submission = pd.read_csv('sample_submission.csv')"
   ]
  },
  {
   "cell_type": "code",
   "execution_count": 31,
   "id": "e2ea393e",
   "metadata": {},
   "outputs": [],
   "source": [
    "submission['monthlyRent(us_dollar)'] = np.expm1(cb_pred * 0.5 + lgbm_pred * 0.15 + xgb_pred * 0.35)"
   ]
  },
  {
   "cell_type": "code",
   "execution_count": 32,
   "id": "89f46a91",
   "metadata": {},
   "outputs": [],
   "source": [
    "submission['monthlyRent(us_dollar)'] = submission['monthlyRent(us_dollar)'].astype(int)"
   ]
  },
  {
   "cell_type": "code",
   "execution_count": 33,
   "id": "af9c2e1a",
   "metadata": {},
   "outputs": [],
   "source": [
    "submission.to_csv('ens1.csv', index = False)"
   ]
  }
 ],
 "metadata": {
  "kernelspec": {
   "display_name": "Python 3",
   "language": "python",
   "name": "python3"
  },
  "language_info": {
   "codemirror_mode": {
    "name": "ipython",
    "version": 3
   },
   "file_extension": ".py",
   "mimetype": "text/x-python",
   "name": "python",
   "nbconvert_exporter": "python",
   "pygments_lexer": "ipython3",
   "version": "3.8.8"
  }
 },
 "nbformat": 4,
 "nbformat_minor": 5
}
