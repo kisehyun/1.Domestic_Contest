{
 "cells": [
  {
   "cell_type": "code",
   "execution_count": 1,
   "id": "64c2dc8e",
   "metadata": {},
   "outputs": [],
   "source": [
    "import pandas as pd\n",
    "import numpy as np\n",
    "\n",
    "import warnings\n",
    "warnings.filterwarnings('ignore')"
   ]
  },
  {
   "cell_type": "code",
   "execution_count": 2,
   "id": "4febb8f1",
   "metadata": {},
   "outputs": [],
   "source": [
    "train = pd.read_csv('train.csv')\n",
    "test = pd.read_csv('test.csv')"
   ]
  },
  {
   "cell_type": "code",
   "execution_count": 3,
   "id": "f0ba804d",
   "metadata": {},
   "outputs": [],
   "source": [
    "from sklearn.preprocessing import LabelEncoder"
   ]
  },
  {
   "cell_type": "code",
   "execution_count": 4,
   "id": "b49edf0c",
   "metadata": {},
   "outputs": [],
   "source": [
    "le = LabelEncoder()"
   ]
  },
  {
   "cell_type": "code",
   "execution_count": 5,
   "id": "f5d1a3c0",
   "metadata": {},
   "outputs": [],
   "source": [
    "train['propertyType'] = le.fit_transform(train['propertyType'])\n",
    "test['propertyType'] = le.transform(test['propertyType'])"
   ]
  },
  {
   "cell_type": "code",
   "execution_count": 6,
   "id": "6e96422e",
   "metadata": {},
   "outputs": [],
   "source": [
    "from sklearn.cluster import KMeans"
   ]
  },
  {
   "cell_type": "code",
   "execution_count": 7,
   "id": "09399f9c",
   "metadata": {},
   "outputs": [],
   "source": [
    "km = KMeans(n_clusters = 6, max_iter = 500, n_init = 15)"
   ]
  },
  {
   "cell_type": "code",
   "execution_count": 8,
   "id": "247d4a3b",
   "metadata": {},
   "outputs": [],
   "source": [
    "gps = ['latitude', 'longitude']"
   ]
  },
  {
   "cell_type": "code",
   "execution_count": 9,
   "id": "93ea9d34",
   "metadata": {},
   "outputs": [],
   "source": [
    "train['gps_cls'] = km.fit_predict(train[gps])"
   ]
  },
  {
   "cell_type": "code",
   "execution_count": 10,
   "id": "dcebd1d0",
   "metadata": {},
   "outputs": [],
   "source": [
    "test['gps_cls'] = km.predict(test[gps])"
   ]
  },
  {
   "cell_type": "code",
   "execution_count": 11,
   "id": "50204d42",
   "metadata": {},
   "outputs": [],
   "source": [
    "import matplotlib.pyplot as plt\n",
    "import seaborn as sns\n",
    "%matplotlib inline"
   ]
  },
  {
   "cell_type": "code",
   "execution_count": 12,
   "id": "4f00ed87",
   "metadata": {
    "scrolled": true
   },
   "outputs": [],
   "source": [
    "from catboost import CatBoostRegressor"
   ]
  },
  {
   "cell_type": "code",
   "execution_count": 13,
   "id": "2b540b6d",
   "metadata": {},
   "outputs": [],
   "source": [
    "from sklearn.model_selection import KFold\n",
    "from sklearn.metrics import mean_absolute_error"
   ]
  },
  {
   "cell_type": "code",
   "execution_count": 14,
   "id": "5d85880e",
   "metadata": {},
   "outputs": [],
   "source": [
    "kf = KFold(n_splits = 8, random_state = 42, shuffle = True)"
   ]
  },
  {
   "cell_type": "code",
   "execution_count": 15,
   "id": "38a4f063",
   "metadata": {},
   "outputs": [],
   "source": [
    "X = train.drop(['ID', 'suburbName', 'monthlyRent(us_dollar)'], axis = 1)\n",
    "y = np.log1p(train['monthlyRent(us_dollar)'])"
   ]
  },
  {
   "cell_type": "code",
   "execution_count": 16,
   "id": "cd0c8805",
   "metadata": {},
   "outputs": [],
   "source": [
    "target = test[X.columns]"
   ]
  },
  {
   "cell_type": "code",
   "execution_count": 19,
   "id": "b4e03ca9",
   "metadata": {},
   "outputs": [
    {
     "name": "stdout",
     "output_type": "stream",
     "text": [
      "1 Fold MAE : 58.74241030358786\n",
      "2 Fold MAE : 53.873045078196874\n",
      "3 Fold MAE : 50.29990800367985\n",
      "4 Fold MAE : 53.48942042318306\n",
      "5 Fold MAE : 55.82688766114182\n",
      "6 Fold MAE : 56.5902394106814\n",
      "7 Fold MAE : 56.52209944751381\n",
      "8 Fold MAE : 56.61786372007366\n",
      "\n",
      "CatBoostRegressor AVG of MAE : 55.2452342560073\n"
     ]
    }
   ],
   "source": [
    "cb_pred = np.zeros((target.shape[0]))\n",
    "cb_mae = 0\n",
    "for i, idx in enumerate(kf.split(X, y)) :\n",
    "    \n",
    "    tr_x, tr_y = X.loc[idx[0]], y.loc[idx[0]]\n",
    "    val_x, val_y = X.loc[idx[1]], y.loc[idx[1]]\n",
    "    \n",
    "    cb = CatBoostRegressor(random_state = 42, max_depth = 6, learning_rate = 0.03, iterations = 10000, eval_metric = 'MAE')\n",
    "    \n",
    "    cb.fit(tr_x, tr_y, eval_set = [(tr_x, tr_y), (val_x, val_y)], early_stopping_rounds = 1000, verbose = 0)\n",
    "    val_pred = np.expm1(cb.predict(val_x)).astype(int)\n",
    "    val_mae = mean_absolute_error(np.expm1(val_y), val_pred)\n",
    "    cb_mae += val_mae / kf.n_splits\n",
    "    print(f\"{i + 1} Fold MAE : {val_mae}\")\n",
    "    \n",
    "    fold_pred = cb.predict(target) / kf.n_splits\n",
    "    cb_pred += fold_pred\n",
    "print(f\"\\n{cb.__class__.__name__} AVG of MAE : {cb_mae}\")"
   ]
  },
  {
   "cell_type": "code",
   "execution_count": 20,
   "id": "3f1dcd58",
   "metadata": {
    "scrolled": true
   },
   "outputs": [],
   "source": [
    "submission = pd.read_csv('sample_submission.csv')"
   ]
  },
  {
   "cell_type": "code",
   "execution_count": 23,
   "id": "f721607b",
   "metadata": {},
   "outputs": [],
   "source": [
    "submission['monthlyRent(us_dollar)'] = np.expm1(cb_pred).astype(int)"
   ]
  },
  {
   "cell_type": "code",
   "execution_count": 24,
   "id": "ee6a357b",
   "metadata": {},
   "outputs": [
    {
     "data": {
      "text/html": [
       "<div>\n",
       "<style scoped>\n",
       "    .dataframe tbody tr th:only-of-type {\n",
       "        vertical-align: middle;\n",
       "    }\n",
       "\n",
       "    .dataframe tbody tr th {\n",
       "        vertical-align: top;\n",
       "    }\n",
       "\n",
       "    .dataframe thead th {\n",
       "        text-align: right;\n",
       "    }\n",
       "</style>\n",
       "<table border=\"1\" class=\"dataframe\">\n",
       "  <thead>\n",
       "    <tr style=\"text-align: right;\">\n",
       "      <th></th>\n",
       "      <th>ID</th>\n",
       "      <th>monthlyRent(us_dollar)</th>\n",
       "    </tr>\n",
       "  </thead>\n",
       "  <tbody>\n",
       "    <tr>\n",
       "      <th>0</th>\n",
       "      <td>Test_0000</td>\n",
       "      <td>176</td>\n",
       "    </tr>\n",
       "    <tr>\n",
       "      <th>1</th>\n",
       "      <td>Test_0001</td>\n",
       "      <td>248</td>\n",
       "    </tr>\n",
       "    <tr>\n",
       "      <th>2</th>\n",
       "      <td>Test_0002</td>\n",
       "      <td>324</td>\n",
       "    </tr>\n",
       "    <tr>\n",
       "      <th>3</th>\n",
       "      <td>Test_0003</td>\n",
       "      <td>173</td>\n",
       "    </tr>\n",
       "    <tr>\n",
       "      <th>4</th>\n",
       "      <td>Test_0004</td>\n",
       "      <td>79</td>\n",
       "    </tr>\n",
       "    <tr>\n",
       "      <th>...</th>\n",
       "      <td>...</td>\n",
       "      <td>...</td>\n",
       "    </tr>\n",
       "    <tr>\n",
       "      <th>8688</th>\n",
       "      <td>Test_8688</td>\n",
       "      <td>361</td>\n",
       "    </tr>\n",
       "    <tr>\n",
       "      <th>8689</th>\n",
       "      <td>Test_8689</td>\n",
       "      <td>357</td>\n",
       "    </tr>\n",
       "    <tr>\n",
       "      <th>8690</th>\n",
       "      <td>Test_8690</td>\n",
       "      <td>213</td>\n",
       "    </tr>\n",
       "    <tr>\n",
       "      <th>8691</th>\n",
       "      <td>Test_8691</td>\n",
       "      <td>154</td>\n",
       "    </tr>\n",
       "    <tr>\n",
       "      <th>8692</th>\n",
       "      <td>Test_8692</td>\n",
       "      <td>162</td>\n",
       "    </tr>\n",
       "  </tbody>\n",
       "</table>\n",
       "<p>8693 rows × 2 columns</p>\n",
       "</div>"
      ],
      "text/plain": [
       "             ID  monthlyRent(us_dollar)\n",
       "0     Test_0000                     176\n",
       "1     Test_0001                     248\n",
       "2     Test_0002                     324\n",
       "3     Test_0003                     173\n",
       "4     Test_0004                      79\n",
       "...         ...                     ...\n",
       "8688  Test_8688                     361\n",
       "8689  Test_8689                     357\n",
       "8690  Test_8690                     213\n",
       "8691  Test_8691                     154\n",
       "8692  Test_8692                     162\n",
       "\n",
       "[8693 rows x 2 columns]"
      ]
     },
     "execution_count": 24,
     "metadata": {},
     "output_type": "execute_result"
    }
   ],
   "source": [
    "submission"
   ]
  },
  {
   "cell_type": "code",
   "execution_count": 25,
   "id": "e194851e",
   "metadata": {},
   "outputs": [],
   "source": [
    "submission.to_csv('catboost_2.csv', index = False)"
   ]
  }
 ],
 "metadata": {
  "kernelspec": {
   "display_name": "Python 3 (ipykernel)",
   "language": "python",
   "name": "python3"
  },
  "language_info": {
   "codemirror_mode": {
    "name": "ipython",
    "version": 3
   },
   "file_extension": ".py",
   "mimetype": "text/x-python",
   "name": "python",
   "nbconvert_exporter": "python",
   "pygments_lexer": "ipython3",
   "version": "3.9.7"
  }
 },
 "nbformat": 4,
 "nbformat_minor": 5
}
