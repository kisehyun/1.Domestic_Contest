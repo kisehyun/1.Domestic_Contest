{
 "cells": [
  {
   "cell_type": "markdown",
   "id": "c98012fe",
   "metadata": {},
   "source": [
    "# Import"
   ]
  },
  {
   "cell_type": "code",
   "execution_count": 1,
   "id": "6ccc5cd6",
   "metadata": {},
   "outputs": [],
   "source": [
    "import pandas as pd\n",
    "import numpy as np\n",
    "\n",
    "import warnings\n",
    "warnings.filterwarnings('ignore')\n",
    "\n",
    "from sklearn.cluster import KMeans\n",
    "from sklearn.preprocessing import LabelEncoder\n",
    "\n",
    "from catboost import CatBoostRegressor\n",
    "from lightgbm import LGBMRegressor\n",
    "from sklearn.model_selection import KFold\n",
    "from sklearn.metrics import mean_absolute_error"
   ]
  },
  {
   "cell_type": "markdown",
   "id": "4fb5db32",
   "metadata": {},
   "source": [
    "# Data Load"
   ]
  },
  {
   "cell_type": "code",
   "execution_count": 20,
   "id": "7b854372",
   "metadata": {},
   "outputs": [],
   "source": [
    "train = pd.read_csv('train.csv')\n",
    "test = pd.read_csv('test.csv')"
   ]
  },
  {
   "cell_type": "markdown",
   "id": "4f1d1fd8",
   "metadata": {},
   "source": [
    "# Data Pre-processing"
   ]
  },
  {
   "cell_type": "code",
   "execution_count": 21,
   "id": "5f77e3f8",
   "metadata": {},
   "outputs": [],
   "source": [
    "le = LabelEncoder()"
   ]
  },
  {
   "cell_type": "markdown",
   "id": "a97f1a52",
   "metadata": {},
   "source": [
    "### propertyType LabelEncoding"
   ]
  },
  {
   "cell_type": "code",
   "execution_count": 22,
   "id": "02bf1cba",
   "metadata": {},
   "outputs": [],
   "source": [
    "train['propertyType'] = le.fit_transform(train['propertyType'])\n",
    "\n",
    "for label in np.unique(test['propertyType']):\n",
    "    if label not in le.classes_: \n",
    "        le.classes_ = np.append(le.classes_, label)\n",
    "test['propertyType'] = le.transform(test['propertyType'])"
   ]
  },
  {
   "cell_type": "markdown",
   "id": "3d647432",
   "metadata": {},
   "source": [
    "### suburbName LabelEncoding"
   ]
  },
  {
   "cell_type": "code",
   "execution_count": 23,
   "id": "51a6cdc1",
   "metadata": {},
   "outputs": [],
   "source": [
    "def convert_SN(x) :\n",
    "    \n",
    "    if x == 'West Delhi' :\n",
    "        return 'Delhi West'\n",
    "    elif x == 'North Delhi' :\n",
    "        return 'Delhi North'\n",
    "    else :\n",
    "        return x"
   ]
  },
  {
   "cell_type": "code",
   "execution_count": 24,
   "id": "1072fa6b",
   "metadata": {},
   "outputs": [],
   "source": [
    "train['suburbName'] = train['suburbName'].apply(convert_SN)\n",
    "test['suburbName'] = test['suburbName'].apply(convert_SN)"
   ]
  },
  {
   "cell_type": "code",
   "execution_count": 25,
   "id": "1c406f31",
   "metadata": {},
   "outputs": [],
   "source": [
    "train['suburbName'] = le.fit_transform(train['suburbName'])\n",
    "\n",
    "for label in np.unique(test['suburbName']):\n",
    "    if label not in le.classes_: \n",
    "        le.classes_ = np.append(le.classes_, label)\n",
    "test['suburbName'] = le.transform(test['suburbName'])"
   ]
  },
  {
   "cell_type": "markdown",
   "id": "f3cfa51e",
   "metadata": {},
   "source": [
    "### dist_ranking\n",
    "\n",
    "- distance 중 최소 거리의 index : Metro는 제외\n",
    "- 결과는 0, 1, 2 중 하나의 값"
   ]
  },
  {
   "cell_type": "code",
   "execution_count": 26,
   "id": "507e829b",
   "metadata": {},
   "outputs": [],
   "source": [
    "dist_cols = train.columns[train.columns.str.contains('distance')]"
   ]
  },
  {
   "cell_type": "code",
   "execution_count": 27,
   "id": "b223b412",
   "metadata": {},
   "outputs": [
    {
     "data": {
      "text/plain": [
       "['distanceMetro(km)',\n",
       " 'distanceAirport(km)',\n",
       " 'distanceHospital(km)',\n",
       " 'distanceRailway(km)']"
      ]
     },
     "execution_count": 27,
     "metadata": {},
     "output_type": "execute_result"
    }
   ],
   "source": [
    "list(dist_cols)"
   ]
  },
  {
   "cell_type": "code",
   "execution_count": 28,
   "id": "569b0f0c",
   "metadata": {},
   "outputs": [],
   "source": [
    "train['dist_ranking'] = [np.argmin(v) for v in train[dist_cols[1:]].values]"
   ]
  },
  {
   "cell_type": "code",
   "execution_count": 29,
   "id": "97d69471",
   "metadata": {},
   "outputs": [],
   "source": [
    "test['dist_ranking'] = [np.argmin(v) for v in test[dist_cols[1:]].values]"
   ]
  },
  {
   "cell_type": "markdown",
   "id": "dca453a8",
   "metadata": {},
   "source": [
    "### dist_skew\n",
    "- distance 값들의 왜도"
   ]
  },
  {
   "cell_type": "code",
   "execution_count": 30,
   "id": "703a61cf",
   "metadata": {},
   "outputs": [],
   "source": [
    "train['dist_skew'] = train[dist_cols].skew(axis = 1)"
   ]
  },
  {
   "cell_type": "code",
   "execution_count": 31,
   "id": "267c5b14",
   "metadata": {},
   "outputs": [],
   "source": [
    "test['dist_skew'] = test[dist_cols].skew(axis = 1)"
   ]
  },
  {
   "cell_type": "markdown",
   "id": "0d1f9936",
   "metadata": {},
   "source": [
    "### dist_cls\n",
    "- 각 시설까지의 거리 값들로 k-means clustering"
   ]
  },
  {
   "cell_type": "code",
   "execution_count": 32,
   "id": "218c40cd",
   "metadata": {},
   "outputs": [],
   "source": [
    "km = KMeans(n_clusters = 8, max_iter = 500, n_init = 15)"
   ]
  },
  {
   "cell_type": "code",
   "execution_count": 33,
   "id": "5a4ff2a4",
   "metadata": {},
   "outputs": [],
   "source": [
    "train['dist_cls'] = km.fit_predict(train[dist_cols])\n",
    "test['dist_cls'] = km.predict(test[dist_cols])"
   ]
  },
  {
   "cell_type": "markdown",
   "id": "6a0e7d6a",
   "metadata": {},
   "source": [
    "### infra_cls\n",
    "- 부동산과 관련된 지표로 k-means clustering"
   ]
  },
  {
   "cell_type": "code",
   "execution_count": 34,
   "id": "d609a935",
   "metadata": {},
   "outputs": [],
   "source": [
    "infra_cols = ['propertyType', 'bedrooms', 'area(square_meters)']"
   ]
  },
  {
   "cell_type": "code",
   "execution_count": 35,
   "id": "1539b3f2",
   "metadata": {},
   "outputs": [],
   "source": [
    "km = KMeans(n_clusters = 6, random_state = 42)"
   ]
  },
  {
   "cell_type": "code",
   "execution_count": 36,
   "id": "312a2769",
   "metadata": {},
   "outputs": [],
   "source": [
    "train['infra_cls'] = km.fit_predict(train[infra_cols])\n",
    "test['infra_cls'] = km.predict(test[infra_cols])"
   ]
  },
  {
   "cell_type": "markdown",
   "id": "261d2e89",
   "metadata": {},
   "source": [
    "***\n",
    "# Modeling\n",
    "\n",
    "- 10-fold로 앙상블\n",
    "- 타겟 값을 로그 변환하여 예측 후 지수 변환\n",
    "- CatBoost LGBM 6:4로 앙상블"
   ]
  },
  {
   "cell_type": "code",
   "execution_count": 37,
   "id": "fc1e9e72",
   "metadata": {},
   "outputs": [],
   "source": [
    "kf = KFold(n_splits = 10, random_state = 42, shuffle = True)"
   ]
  },
  {
   "cell_type": "code",
   "execution_count": 38,
   "id": "6b9c486f",
   "metadata": {},
   "outputs": [],
   "source": [
    "X = train.drop(['ID', 'monthlyRent(us_dollar)'], axis = 1)\n",
    "y = np.log1p(train['monthlyRent(us_dollar)'])"
   ]
  },
  {
   "cell_type": "code",
   "execution_count": 39,
   "id": "12fc43ec",
   "metadata": {},
   "outputs": [],
   "source": [
    "target = test[X.columns]"
   ]
  },
  {
   "cell_type": "markdown",
   "id": "d044aad4",
   "metadata": {},
   "source": [
    "### CatBoost"
   ]
  },
  {
   "cell_type": "code",
   "execution_count": 41,
   "id": "b54bb1b1",
   "metadata": {
    "scrolled": true
   },
   "outputs": [
    {
     "name": "stdout",
     "output_type": "stream",
     "text": [
      "1 Fold MAE : 60.622988505747124\n",
      "2 Fold MAE : 53.420689655172424\n",
      "3 Fold MAE : 54.448791714614494\n",
      "4 Fold MAE : 47.51783659378596\n",
      "5 Fold MAE : 53.85155350978136\n",
      "6 Fold MAE : 55.918296892980436\n",
      "7 Fold MAE : 56.780207134637514\n",
      "8 Fold MAE : 54.570771001150746\n",
      "9 Fold MAE : 56.364787111622555\n",
      "10 Fold MAE : 56.15074798619102\n",
      "\n",
      "CatBoostRegressor AVG of MAE : 54.96466701056837\n"
     ]
    }
   ],
   "source": [
    "cb_pred = np.zeros((target.shape[0]))\n",
    "cb_mae = 0\n",
    "for i, idx in enumerate(kf.split(X, y)) :\n",
    "    \n",
    "    tr_x, tr_y = X.loc[idx[0]], y.loc[idx[0]]\n",
    "    val_x, val_y = X.loc[idx[1]], y.loc[idx[1]]\n",
    "    \n",
    "    cb = CatBoostRegressor(random_state = 42, max_depth = 6, learning_rate = 0.03, iterations = 10000, eval_metric = 'MAE')\n",
    "    cb.fit(tr_x, tr_y, eval_set = [(tr_x, tr_y), (val_x, val_y)], early_stopping_rounds = 1000, verbose = 0)\n",
    "    \n",
    "    val_pred = np.expm1(cb.predict(val_x)).astype(int)\n",
    "    val_mae = mean_absolute_error(np.expm1(val_y), val_pred)\n",
    "    cb_mae += val_mae / kf.n_splits\n",
    "    print(f\"{i + 1} Fold MAE : {val_mae}\")\n",
    "    \n",
    "    fold_pred = cb.predict(target) / kf.n_splits\n",
    "    cb_pred += fold_pred\n",
    "    \n",
    "print(f\"\\n{cb.__class__.__name__} AVG of MAE : {cb_mae}\")"
   ]
  },
  {
   "cell_type": "markdown",
   "id": "e8f17a25",
   "metadata": {},
   "source": [
    "### LGBM"
   ]
  },
  {
   "cell_type": "code",
   "execution_count": 43,
   "id": "924d57b8",
   "metadata": {},
   "outputs": [
    {
     "name": "stdout",
     "output_type": "stream",
     "text": [
      "1 Fold MAE : 60.65172413793104\n",
      "2 Fold MAE : 54.272413793103446\n",
      "3 Fold MAE : 55.555811277330264\n",
      "4 Fold MAE : 48.61910241657077\n",
      "5 Fold MAE : 54.013808975834294\n",
      "6 Fold MAE : 57.25431530494822\n",
      "7 Fold MAE : 57.379746835443036\n",
      "8 Fold MAE : 56.74798619102417\n",
      "9 Fold MAE : 56.72382048331416\n",
      "10 Fold MAE : 56.06559263521288\n",
      "\n",
      "LGBMRegressor AVG of MAE : 55.72843220507123\n"
     ]
    }
   ],
   "source": [
    "lgbm_pred = np.zeros((target.shape[0]))\n",
    "lgbm_mae = 0\n",
    "for i, idx in enumerate(kf.split(X, y)) :\n",
    "    \n",
    "    tr_x, tr_y = X.loc[idx[0]], y.loc[idx[0]]\n",
    "    val_x, val_y = X.loc[idx[1]], y.loc[idx[1]]\n",
    "    \n",
    "    lgbm = LGBMRegressor(random_state = 42, max_depth = 7, learning_rate = 0.03, n_estimators = 10000, objective = 'l1')\n",
    "    \n",
    "    lgbm.fit(tr_x, tr_y, eval_set = [(tr_x, tr_y), (val_x, val_y)], early_stopping_rounds = 1000, verbose = 0, eval_metric = 'l1')\n",
    "    val_pred = np.expm1(lgbm.predict(val_x)).astype(int)\n",
    "    val_mae = mean_absolute_error(np.expm1(val_y), val_pred)\n",
    "    lgbm_mae += val_mae / kf.n_splits\n",
    "    print(f\"{i + 1} Fold MAE : {val_mae}\")\n",
    "    \n",
    "    fold_pred = lgbm.predict(target) / kf.n_splits\n",
    "    lgbm_pred += fold_pred\n",
    "print(f\"\\n{lgbm.__class__.__name__} AVG of MAE : {lgbm_mae}\")"
   ]
  },
  {
   "cell_type": "markdown",
   "id": "a1ac8767",
   "metadata": {},
   "source": [
    "***\n",
    "# Submission"
   ]
  },
  {
   "cell_type": "code",
   "execution_count": 44,
   "id": "743d1905",
   "metadata": {},
   "outputs": [],
   "source": [
    "submission = pd.read_csv('sample_submission.csv')"
   ]
  },
  {
   "cell_type": "code",
   "execution_count": 45,
   "id": "e2ea393e",
   "metadata": {},
   "outputs": [],
   "source": [
    "submission['monthlyRent(us_dollar)'] = np.expm1(cb_pred * 0.6 + lgbm_pred * 0.4)"
   ]
  },
  {
   "cell_type": "code",
   "execution_count": 46,
   "id": "89f46a91",
   "metadata": {},
   "outputs": [],
   "source": [
    "submission['monthlyRent(us_dollar)'] = submission['monthlyRent(us_dollar)'].astype(int)"
   ]
  },
  {
   "cell_type": "code",
   "execution_count": 47,
   "id": "af9c2e1a",
   "metadata": {},
   "outputs": [],
   "source": [
    "submission.to_csv('catboost_lgbm.csv', index = False)"
   ]
  }
 ],
 "metadata": {
  "kernelspec": {
   "display_name": "Python 3",
   "language": "python",
   "name": "python3"
  },
  "language_info": {
   "codemirror_mode": {
    "name": "ipython",
    "version": 3
   },
   "file_extension": ".py",
   "mimetype": "text/x-python",
   "name": "python",
   "nbconvert_exporter": "python",
   "pygments_lexer": "ipython3",
   "version": "3.8.8"
  }
 },
 "nbformat": 4,
 "nbformat_minor": 5
}
