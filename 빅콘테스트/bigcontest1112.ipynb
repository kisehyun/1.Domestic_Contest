{
 "cells": [
  {
   "cell_type": "markdown",
   "metadata": {},
   "source": [
    "# Big Contest\n",
    "\n",
    "## Single\n",
    "\n",
    "****\n",
    "\n",
    "## 1. Package Import"
   ]
  },
  {
   "cell_type": "code",
   "execution_count": 1,
   "metadata": {},
   "outputs": [],
   "source": [
    "# Data Wrangling\n",
    "import pandas as pd\n",
    "import numpy as np\n",
    "import re\n",
    "\n",
    "# EDA\n",
    "import matplotlib.pyplot as plt\n",
    "import seaborn as sns\n",
    "from matplotlib import rc\n",
    "rc('font', family='malgun gothic')\n",
    "rc('axes', unicode_minus=False)\n",
    "%matplotlib inline\n",
    "\n",
    "# Settings\n",
    "import warnings\n",
    "warnings.filterwarnings(\"ignore\")\n",
    "\n",
    "from tqdm import tqdm\n",
    "from scipy.stats import skew"
   ]
  },
  {
   "cell_type": "markdown",
   "metadata": {},
   "source": [
    "****\n",
    "\n",
    "## 2. Load Data"
   ]
  },
  {
   "cell_type": "code",
   "execution_count": 92,
   "metadata": {},
   "outputs": [],
   "source": [
    "data = pd.read_excel('2020 빅콘테스트 데이터분석분야-챔피언리그_2019년 실적데이터.xlsx', header = 1) # train\n",
    "test = pd.read_excel(\"2020 빅콘테스트 데이터분석분야-챔피언리그_2020년 6월 판매실적예측데이터(평가데이터).xlsx\", header = 1) # test"
   ]
  },
  {
   "cell_type": "code",
   "execution_count": 34,
   "metadata": {
    "scrolled": true
   },
   "outputs": [
    {
     "data": {
      "text/html": [
       "<div>\n",
       "<style scoped>\n",
       "    .dataframe tbody tr th:only-of-type {\n",
       "        vertical-align: middle;\n",
       "    }\n",
       "\n",
       "    .dataframe tbody tr th {\n",
       "        vertical-align: top;\n",
       "    }\n",
       "\n",
       "    .dataframe thead th {\n",
       "        text-align: right;\n",
       "    }\n",
       "</style>\n",
       "<table border=\"1\" class=\"dataframe\">\n",
       "  <thead>\n",
       "    <tr style=\"text-align: right;\">\n",
       "      <th></th>\n",
       "      <th>방송일시</th>\n",
       "      <th>노출(분)</th>\n",
       "      <th>마더코드</th>\n",
       "      <th>상품코드</th>\n",
       "      <th>상품명</th>\n",
       "      <th>상품군</th>\n",
       "      <th>판매단가</th>\n",
       "      <th>취급액</th>\n",
       "    </tr>\n",
       "  </thead>\n",
       "  <tbody>\n",
       "    <tr>\n",
       "      <th>0</th>\n",
       "      <td>2019-01-01 06:00:00</td>\n",
       "      <td>20.0</td>\n",
       "      <td>100346</td>\n",
       "      <td>201072</td>\n",
       "      <td>테이트 남성 셀린니트3종</td>\n",
       "      <td>의류</td>\n",
       "      <td>39900</td>\n",
       "      <td>2099000.0</td>\n",
       "    </tr>\n",
       "    <tr>\n",
       "      <th>1</th>\n",
       "      <td>2019-01-01 06:00:00</td>\n",
       "      <td>NaN</td>\n",
       "      <td>100346</td>\n",
       "      <td>201079</td>\n",
       "      <td>테이트 여성 셀린니트3종</td>\n",
       "      <td>의류</td>\n",
       "      <td>39900</td>\n",
       "      <td>4371000.0</td>\n",
       "    </tr>\n",
       "    <tr>\n",
       "      <th>2</th>\n",
       "      <td>2019-01-01 06:20:00</td>\n",
       "      <td>20.0</td>\n",
       "      <td>100346</td>\n",
       "      <td>201072</td>\n",
       "      <td>테이트 남성 셀린니트3종</td>\n",
       "      <td>의류</td>\n",
       "      <td>39900</td>\n",
       "      <td>3262000.0</td>\n",
       "    </tr>\n",
       "    <tr>\n",
       "      <th>3</th>\n",
       "      <td>2019-01-01 06:20:00</td>\n",
       "      <td>NaN</td>\n",
       "      <td>100346</td>\n",
       "      <td>201079</td>\n",
       "      <td>테이트 여성 셀린니트3종</td>\n",
       "      <td>의류</td>\n",
       "      <td>39900</td>\n",
       "      <td>6955000.0</td>\n",
       "    </tr>\n",
       "    <tr>\n",
       "      <th>4</th>\n",
       "      <td>2019-01-01 06:40:00</td>\n",
       "      <td>20.0</td>\n",
       "      <td>100346</td>\n",
       "      <td>201072</td>\n",
       "      <td>테이트 남성 셀린니트3종</td>\n",
       "      <td>의류</td>\n",
       "      <td>39900</td>\n",
       "      <td>6672000.0</td>\n",
       "    </tr>\n",
       "  </tbody>\n",
       "</table>\n",
       "</div>"
      ],
      "text/plain": [
       "                 방송일시  노출(분)    마더코드    상품코드            상품명 상품군   판매단가  \\\n",
       "0 2019-01-01 06:00:00   20.0  100346  201072  테이트 남성 셀린니트3종  의류  39900   \n",
       "1 2019-01-01 06:00:00    NaN  100346  201079  테이트 여성 셀린니트3종  의류  39900   \n",
       "2 2019-01-01 06:20:00   20.0  100346  201072  테이트 남성 셀린니트3종  의류  39900   \n",
       "3 2019-01-01 06:20:00    NaN  100346  201079  테이트 여성 셀린니트3종  의류  39900   \n",
       "4 2019-01-01 06:40:00   20.0  100346  201072  테이트 남성 셀린니트3종  의류  39900   \n",
       "\n",
       "         취급액  \n",
       "0  2099000.0  \n",
       "1  4371000.0  \n",
       "2  3262000.0  \n",
       "3  6955000.0  \n",
       "4  6672000.0  "
      ]
     },
     "execution_count": 34,
     "metadata": {},
     "output_type": "execute_result"
    }
   ],
   "source": [
    "data.head()"
   ]
  },
  {
   "cell_type": "code",
   "execution_count": 35,
   "metadata": {
    "scrolled": true
   },
   "outputs": [
    {
     "name": "stdout",
     "output_type": "stream",
     "text": [
      "<class 'pandas.core.frame.DataFrame'>\n",
      "RangeIndex: 38309 entries, 0 to 38308\n",
      "Data columns (total 8 columns):\n",
      " #   Column  Non-Null Count  Dtype         \n",
      "---  ------  --------------  -----         \n",
      " 0   방송일시    38309 non-null  datetime64[ns]\n",
      " 1   노출(분)   21525 non-null  float64       \n",
      " 2   마더코드    38309 non-null  int64         \n",
      " 3   상품코드    38309 non-null  int64         \n",
      " 4   상품명     38309 non-null  object        \n",
      " 5   상품군     38309 non-null  object        \n",
      " 6   판매단가    38309 non-null  int64         \n",
      " 7   취급액     37372 non-null  float64       \n",
      "dtypes: datetime64[ns](1), float64(2), int64(3), object(2)\n",
      "memory usage: 2.3+ MB\n"
     ]
    }
   ],
   "source": [
    "data.info()"
   ]
  },
  {
   "cell_type": "code",
   "execution_count": 119,
   "metadata": {},
   "outputs": [
    {
     "data": {
      "text/html": [
       "<div>\n",
       "<style scoped>\n",
       "    .dataframe tbody tr th:only-of-type {\n",
       "        vertical-align: middle;\n",
       "    }\n",
       "\n",
       "    .dataframe tbody tr th {\n",
       "        vertical-align: top;\n",
       "    }\n",
       "\n",
       "    .dataframe thead th {\n",
       "        text-align: right;\n",
       "    }\n",
       "</style>\n",
       "<table border=\"1\" class=\"dataframe\">\n",
       "  <thead>\n",
       "    <tr style=\"text-align: right;\">\n",
       "      <th></th>\n",
       "      <th>방송일시</th>\n",
       "      <th>노출(분)</th>\n",
       "      <th>마더코드</th>\n",
       "      <th>상품코드</th>\n",
       "      <th>상품명</th>\n",
       "      <th>상품군</th>\n",
       "      <th>판매단가</th>\n",
       "      <th>취급액</th>\n",
       "    </tr>\n",
       "  </thead>\n",
       "  <tbody>\n",
       "    <tr>\n",
       "      <th>0</th>\n",
       "      <td>2020-06-01 06:20:00</td>\n",
       "      <td>20.0</td>\n",
       "      <td>100650</td>\n",
       "      <td>201971</td>\n",
       "      <td>잭필드 남성  반팔셔츠 4종</td>\n",
       "      <td>의류</td>\n",
       "      <td>59800</td>\n",
       "      <td>NaN</td>\n",
       "    </tr>\n",
       "    <tr>\n",
       "      <th>1</th>\n",
       "      <td>2020-06-01 06:40:00</td>\n",
       "      <td>20.0</td>\n",
       "      <td>100650</td>\n",
       "      <td>201971</td>\n",
       "      <td>잭필드 남성  반팔셔츠 4종</td>\n",
       "      <td>의류</td>\n",
       "      <td>59800</td>\n",
       "      <td>NaN</td>\n",
       "    </tr>\n",
       "    <tr>\n",
       "      <th>2</th>\n",
       "      <td>2020-06-01 07:00:00</td>\n",
       "      <td>20.0</td>\n",
       "      <td>100650</td>\n",
       "      <td>201971</td>\n",
       "      <td>잭필드 남성  반팔셔츠 4종</td>\n",
       "      <td>의류</td>\n",
       "      <td>59800</td>\n",
       "      <td>NaN</td>\n",
       "    </tr>\n",
       "    <tr>\n",
       "      <th>3</th>\n",
       "      <td>2020-06-01 07:20:00</td>\n",
       "      <td>20.0</td>\n",
       "      <td>100445</td>\n",
       "      <td>202278</td>\n",
       "      <td>쿠미투니카 쿨 레이시 란쥬쉐이퍼&amp;팬티</td>\n",
       "      <td>속옷</td>\n",
       "      <td>69900</td>\n",
       "      <td>NaN</td>\n",
       "    </tr>\n",
       "    <tr>\n",
       "      <th>4</th>\n",
       "      <td>2020-06-01 07:40:00</td>\n",
       "      <td>20.0</td>\n",
       "      <td>100445</td>\n",
       "      <td>202278</td>\n",
       "      <td>쿠미투니카 쿨 레이시 란쥬쉐이퍼&amp;팬티</td>\n",
       "      <td>속옷</td>\n",
       "      <td>69900</td>\n",
       "      <td>NaN</td>\n",
       "    </tr>\n",
       "  </tbody>\n",
       "</table>\n",
       "</div>"
      ],
      "text/plain": [
       "                 방송일시  노출(분)    마더코드    상품코드                   상품명 상품군   판매단가  \\\n",
       "0 2020-06-01 06:20:00   20.0  100650  201971       잭필드 남성  반팔셔츠 4종  의류  59800   \n",
       "1 2020-06-01 06:40:00   20.0  100650  201971       잭필드 남성  반팔셔츠 4종  의류  59800   \n",
       "2 2020-06-01 07:00:00   20.0  100650  201971       잭필드 남성  반팔셔츠 4종  의류  59800   \n",
       "3 2020-06-01 07:20:00   20.0  100445  202278  쿠미투니카 쿨 레이시 란쥬쉐이퍼&팬티  속옷  69900   \n",
       "4 2020-06-01 07:40:00   20.0  100445  202278  쿠미투니카 쿨 레이시 란쥬쉐이퍼&팬티  속옷  69900   \n",
       "\n",
       "   취급액  \n",
       "0  NaN  \n",
       "1  NaN  \n",
       "2  NaN  \n",
       "3  NaN  \n",
       "4  NaN  "
      ]
     },
     "execution_count": 119,
     "metadata": {},
     "output_type": "execute_result"
    }
   ],
   "source": [
    "test.head()"
   ]
  },
  {
   "cell_type": "markdown",
   "metadata": {},
   "source": [
    "****\n",
    "\n",
    "## 3. Data Wrangling\n",
    "\n",
    "\n",
    "\n",
    "* Target = '취급액'"
   ]
  },
  {
   "cell_type": "code",
   "execution_count": 36,
   "metadata": {
    "scrolled": true
   },
   "outputs": [
    {
     "data": {
      "image/png": "[encoded data removed]",
      "text/plain": [
       "<Figure size 432x288 with 1 Axes>"
      ]
     },
     "metadata": {
      "needs_background": "light"
     },
     "output_type": "display_data"
    },
    {
     "name": "stdout",
     "output_type": "stream",
     "text": [
      "Target 값인 취급액의 분산은 : 407692796704447.56이고 왜도는 1.814이다.\n"
     ]
    }
   ],
   "source": [
    "data.취급액.hist(color = 'r', bins = 30)\n",
    "plt.show()\n",
    "print('Target 값인 취급액의 분산은 : {}이고 왜도는 {}이다.'.format(np.round(data.취급액.var(), 3), np.round(data.취급액.skew(), 3)))"
   ]
  },
  {
   "cell_type": "code",
   "execution_count": 37,
   "metadata": {},
   "outputs": [
    {
     "data": {
      "image/png": "[encoded data removed]",
      "text/plain": [
       "<Figure size 432x288 with 1 Axes>"
      ]
     },
     "metadata": {
      "needs_background": "light"
     },
     "output_type": "display_data"
    },
    {
     "name": "stdout",
     "output_type": "stream",
     "text": [
      "Target 값인 취급액의 분산은 : 2.58이고 왜도는 -1.968이다.\n"
     ]
    }
   ],
   "source": [
    "np.log1p(data.취급액).hist(color = 'r', bins = 30)\n",
    "plt.show()\n",
    "print('Target 값인 취급액의 분산은 : {}이고 왜도는 {}이다.'.format(np.round(np.log1p(data.취급액).var(), 3), np.round(np.log1p(data.취급액).skew(), 3)))"
   ]
  },
  {
   "cell_type": "markdown",
   "metadata": {},
   "source": [
    "#### 실제 문제에서 주어진 예측 값은 '취급액'이지만 해당 변수의 분산과 왜도가 크다고 판단하여 '판매량' = '취급액' / '판매단가'의 식으로부터 New Target인 판매량을 예측하는 문제로 접근\n",
    "\n",
    "* New Target인 판매량의 통계량 비교"
   ]
  },
  {
   "cell_type": "code",
   "execution_count": 163,
   "metadata": {},
   "outputs": [],
   "source": [
    "data['판매량'] = data.취급액 / data.판매단가"
   ]
  },
  {
   "cell_type": "code",
   "execution_count": 39,
   "metadata": {},
   "outputs": [
    {
     "data": {
      "image/png": "[encoded data removed]",
      "text/plain": [
       "<Figure size 432x288 with 1 Axes>"
      ]
     },
     "metadata": {
      "needs_background": "light"
     },
     "output_type": "display_data"
    },
    {
     "name": "stdout",
     "output_type": "stream",
     "text": [
      "Target 값인 판매량의 분산은 : 178275.721이고 왜도는 2.54이다.\n"
     ]
    }
   ],
   "source": [
    "data.판매량.hist(color = 'g', bins = 30)\n",
    "plt.show()\n",
    "print('Target 값인 판매량의 분산은 : {}이고 왜도는 {}이다.'.format(np.round(data.판매량.var(), 3), np.round(data.판매량.skew(), 3)))"
   ]
  },
  {
   "cell_type": "code",
   "execution_count": 40,
   "metadata": {},
   "outputs": [
    {
     "data": {
      "image/png": "[encoded data removed]",
      "text/plain": [
       "<Figure size 432x288 with 1 Axes>"
      ]
     },
     "metadata": {
      "needs_background": "light"
     },
     "output_type": "display_data"
    },
    {
     "name": "stdout",
     "output_type": "stream",
     "text": [
      "Target 값인 판매량의 분산은 : 3.941이고 왜도는 -0.5이다.\n"
     ]
    }
   ],
   "source": [
    "np.log1p(data.판매량).hist(color = 'g', bins = 30)\n",
    "plt.show()\n",
    "print('Target 값인 판매량의 분산은 : {}이고 왜도는 {}이다.'.format(np.round(np.log1p(data.판매량).var(), 3), np.round(np.log1p(data.판매량).skew(), 3)))"
   ]
  },
  {
   "cell_type": "markdown",
   "metadata": {},
   "source": [
    "#### New Target인 '판매량' 예측 문제가 통계적으로 적합하다고 판단하여 판매량을 예측한 후 해당 제품의 판매단가를 곱하여 최종적으로 취급액을 예측하는 문제로 전환하였다."
   ]
  },
  {
   "cell_type": "code",
   "execution_count": 41,
   "metadata": {
    "scrolled": true
   },
   "outputs": [
    {
     "name": "stdout",
     "output_type": "stream",
     "text": [
      "첫 방송일시는 2019-01-01 06:00:00 마지막 방송일시는 2020-01-01 01:40:00\n"
     ]
    }
   ],
   "source": [
    "print('첫 방송일시는 {} 마지막 방송일시는 {}'.format(data.방송일시.min(), data.방송일시.max()))"
   ]
  },
  {
   "cell_type": "markdown",
   "metadata": {},
   "source": [
    "### 3-1) NA Values"
   ]
  },
  {
   "cell_type": "code",
   "execution_count": 93,
   "metadata": {},
   "outputs": [],
   "source": [
    "data = data.loc[(data.상품군 != '무형') & (data.취급액 != 50000)].fillna(0) # 상품군이 무형이고 취급액이 50000인 데이터는 제외\n",
    "data = data.loc[data.취급액 != 0] ### 취급액이 50000이었다가 0이 된 데이터 삭제\n",
    "data.index = range(data.shape[0]) ### 인덱스 재설정"
   ]
  },
  {
   "cell_type": "code",
   "execution_count": 110,
   "metadata": {},
   "outputs": [],
   "source": [
    "exposure_zero = data.loc[data['노출(분)'] == 0].drop('노출(분)', axis = 1)\n",
    "exposure_zero.fillna(20, inplace = True)"
   ]
  },
  {
   "cell_type": "code",
   "execution_count": 112,
   "metadata": {},
   "outputs": [],
   "source": [
    "exposure_nonzero = data.loc[data['노출(분)'] != 0]"
   ]
  },
  {
   "cell_type": "code",
   "execution_count": 113,
   "metadata": {},
   "outputs": [],
   "source": [
    "exposure_zero = pd.merge(exposure_zero, exposure_nonzero[['방송일시', '노출(분)']], how = 'left', on = '방송일시')"
   ]
  },
  {
   "cell_type": "code",
   "execution_count": 114,
   "metadata": {},
   "outputs": [],
   "source": [
    "data = pd.concat([exposure_zero, exposure_nonzero], axis = 0, ignore_index = True).fillna(20)"
   ]
  },
  {
   "cell_type": "markdown",
   "metadata": {},
   "source": [
    "#### 3-2) 파생변수"
   ]
  },
  {
   "cell_type": "code",
   "execution_count": 131,
   "metadata": {},
   "outputs": [],
   "source": [
    "data.방송일시 = pd.to_datetime(data.방송일시)"
   ]
  },
  {
   "cell_type": "code",
   "execution_count": 143,
   "metadata": {},
   "outputs": [],
   "source": [
    "data['방송월'] = data.방송일시.dt.month"
   ]
  },
  {
   "cell_type": "code",
   "execution_count": 173,
   "metadata": {
    "scrolled": false
   },
   "outputs": [
    {
     "data": {
      "image/png": "[encoded data removed]",
      "text/plain": [
       "<Figure size 720x432 with 1 Axes>"
      ]
     },
     "metadata": {
      "needs_background": "light"
     },
     "output_type": "display_data"
    }
   ],
   "source": [
    "plt.figure(figsize = (10, 6))\n",
    "plt.title(\"월별 판매량 추이\", size = 20)\n",
    "sns.barplot(data.방송월, data.판매량, edgecolor = (0,0,0), palette = 'bright')\n",
    "plt.show()"
   ]
  },
  {
   "cell_type": "markdown",
   "metadata": {},
   "source": [
    "#### 월별 판매량 추이를 살펴본 결과 연말(11, 12월), 설 전(1월), 추석 및 휴가철(8월)에 판매량이 높은 것을 알 수 있다."
   ]
  },
  {
   "cell_type": "code",
   "execution_count": 134,
   "metadata": {},
   "outputs": [],
   "source": [
    "def season(x):\n",
    "    if x in ['01', '02', '12'] :\n",
    "        return '겨울'\n",
    "    elif x in ['03', '04', '05'] :\n",
    "        return '봄'\n",
    "    elif x in ['06', '07', '08'] :\n",
    "        return '여름'\n",
    "    else :\n",
    "        return '가을'"
   ]
  },
  {
   "cell_type": "code",
   "execution_count": 135,
   "metadata": {},
   "outputs": [],
   "source": [
    "data['방송계절'] = data.방송월.apply(season)"
   ]
  },
  {
   "cell_type": "code",
   "execution_count": 175,
   "metadata": {
    "scrolled": false
   },
   "outputs": [
    {
     "data": {
      "image/png": "[encoded data removed]",
      "text/plain": [
       "<Figure size 576x360 with 1 Axes>"
      ]
     },
     "metadata": {
      "needs_background": "light"
     },
     "output_type": "display_data"
    }
   ],
   "source": [
    "plt.figure(figsize = (8, 5))\n",
    "plt.title(\"계절별 판매량 추이\", size = 15)\n",
    "sns.barplot(data.방송계절, data.판매량, edgecolor = (0,0,0), palette = 'bright', order = ['봄','여름','가을','겨울'])\n",
    "plt.show()"
   ]
  },
  {
   "cell_type": "markdown",
   "metadata": {},
   "source": [
    "#### 봄(3월 ~ 5월)이 판매량이 가장 적은 것을 알 수 있고 겨울(12월 ~ 2월)로 갈 수록 판매량이 많아지는 것을 알 수 있다."
   ]
  },
  {
   "cell_type": "code",
   "execution_count": 139,
   "metadata": {},
   "outputs": [],
   "source": [
    "data['분기'] = data.방송일시.dt.quarter"
   ]
  },
  {
   "cell_type": "code",
   "execution_count": 178,
   "metadata": {
    "scrolled": true
   },
   "outputs": [
    {
     "data": {
      "image/png": "[encoded data removed]",
      "text/plain": [
       "<Figure size 576x360 with 1 Axes>"
      ]
     },
     "metadata": {
      "needs_background": "light"
     },
     "output_type": "display_data"
    }
   ],
   "source": [
    "plt.figure(figsize = (8, 5))\n",
    "plt.title(\"분기별 판매량 추이\", size = 15)\n",
    "sns.barplot(data.분기, data.판매량, edgecolor = (0,0,0), palette = 'bright')\n",
    "plt.show()"
   ]
  },
  {
   "cell_type": "markdown",
   "metadata": {},
   "source": [
    "#### 방송분기별 판매량을 살펴본 결과 연말로 갈수록 판매량이 급증하는 것을 알 수 있다."
   ]
  },
  {
   "cell_type": "code",
   "execution_count": 142,
   "metadata": {},
   "outputs": [],
   "source": [
    "data['방송시간'] = data.방송일시.dt.hour"
   ]
  },
  {
   "cell_type": "code",
   "execution_count": 181,
   "metadata": {},
   "outputs": [
    {
     "data": {
      "image/png": "[encoded data removed]",
      "text/plain": [
       "<Figure size 720x360 with 1 Axes>"
      ]
     },
     "metadata": {
      "needs_background": "light"
     },
     "output_type": "display_data"
    }
   ],
   "source": [
    "plt.figure(figsize = (10, 5))\n",
    "plt.title(\"방송시간별 판매량 추이\", size = 15)\n",
    "sns.barplot(data.방송시간, data.판매량, edgecolor = (0,0,0), palette = 'bright')\n",
    "plt.show()"
   ]
  },
  {
   "cell_type": "code",
   "execution_count": 144,
   "metadata": {},
   "outputs": [],
   "source": [
    "data['방송주차'] = data.방송일시.dt.weekofyear"
   ]
  },
  {
   "cell_type": "code",
   "execution_count": 183,
   "metadata": {
    "scrolled": false
   },
   "outputs": [
    {
     "data": {
      "image/png": "[encoded data removed]",
      "text/plain": [
       "<Figure size 1080x504 with 1 Axes>"
      ]
     },
     "metadata": {
      "needs_background": "light"
     },
     "output_type": "display_data"
    }
   ],
   "source": [
    "plt.figure(figsize = (15, 7))\n",
    "plt.title(\"방송주차별 판매량 추이\", size = 15)\n",
    "sns.barplot(data.방송주차, data.판매량, edgecolor = (0,0,0), palette = 'bright')\n",
    "plt.show()"
   ]
  },
  {
   "cell_type": "code",
   "execution_count": 210,
   "metadata": {},
   "outputs": [
    {
     "data": {
      "text/plain": [
       "array(['2019-08-26', '2019-08-27', '2019-08-28', '2019-08-29',\n",
       "       '2019-08-30', '2019-08-31', '2019-09-01'], dtype=object)"
      ]
     },
     "execution_count": 210,
     "metadata": {},
     "output_type": "execute_result"
    }
   ],
   "source": [
    "data.loc[data.방송주차 == 35].방송날짜.unique()"
   ]
  },
  {
   "cell_type": "markdown",
   "metadata": {},
   "source": [
    "#### 방송주차별 판매량 추이를 살펴본 결과 35주차(8/26 ~ 9/1)에 가장 많은 판매량을 기록한 것을 알 수 있다. 배송기간을 고려했을 때 추석 전에 물품을 많이 구매한 것으로 추측할 수 있다."
   ]
  },
  {
   "cell_type": "code",
   "execution_count": 149,
   "metadata": {},
   "outputs": [],
   "source": [
    "data['방송요일'] = data.방송일시.dt.day_name()"
   ]
  },
  {
   "cell_type": "code",
   "execution_count": 187,
   "metadata": {},
   "outputs": [
    {
     "data": {
      "image/png": "[encoded data removed]",
      "text/plain": [
       "<Figure size 720x360 with 1 Axes>"
      ]
     },
     "metadata": {
      "needs_background": "light"
     },
     "output_type": "display_data"
    }
   ],
   "source": [
    "plt.figure(figsize = (10, 5))\n",
    "plt.title(\"방송요일별 판매량 추이\", size = 15)\n",
    "sns.barplot(data.방송요일, data.판매량, edgecolor = (0,0,0), palette = 'bright', order = ['Monday', 'Tuesday', 'Wednesday', 'Thursday','Friday','Saturday','Sunday'])\n",
    "plt.show()"
   ]
  },
  {
   "cell_type": "markdown",
   "metadata": {},
   "source": [
    "#### 방송요일별 판매량을 살펴본 결과 주말(토, 일)이 판매량이 압도적으로 높은 것을 알 수 있다."
   ]
  },
  {
   "cell_type": "code",
   "execution_count": 157,
   "metadata": {},
   "outputs": [],
   "source": [
    "data['주말'] = [1 if x in ['Saturday', 'Sunday'] else 0 for x in data.방송요일]"
   ]
  },
  {
   "cell_type": "code",
   "execution_count": 191,
   "metadata": {},
   "outputs": [
    {
     "data": {
      "image/png": "[encoded data removed]",
      "text/plain": [
       "<Figure size 576x360 with 1 Axes>"
      ]
     },
     "metadata": {
      "needs_background": "light"
     },
     "output_type": "display_data"
    }
   ],
   "source": [
    "plt.figure(figsize = (8, 5))\n",
    "plt.title(\"평일주말 판매량 추이\", size = 15)\n",
    "sns.barplot(data.주말, data.판매량, edgecolor = (0,0,0), palette = 'bright')\n",
    "plt.xticks([0, 1], ['평일','주말'])\n",
    "plt.show()"
   ]
  },
  {
   "cell_type": "code",
   "execution_count": 151,
   "metadata": {},
   "outputs": [],
   "source": [
    "def 일시불_무이자(x):\n",
    "    if '일시불' in x :\n",
    "        return '일시불'\n",
    "    elif x.startswith('일)'):\n",
    "        return '일시불'\n",
    "    elif '(일)' in x :\n",
    "        return '일시불'\n",
    "    elif '무이자' in x :\n",
    "        return '무이자'\n",
    "    elif x.startswith('무)'):\n",
    "        return '무이자'\n",
    "    elif '(무)' in x :\n",
    "        return '무이자'\n",
    "    else :\n",
    "        return '해당없음'"
   ]
  },
  {
   "cell_type": "code",
   "execution_count": 152,
   "metadata": {},
   "outputs": [],
   "source": [
    "data['일시불무이자'] = data.상품명.apply(일시불_무이자)"
   ]
  },
  {
   "cell_type": "code",
   "execution_count": 153,
   "metadata": {},
   "outputs": [],
   "source": [
    "def set_pack(x):\n",
    "    if '세트' in x :\n",
    "        return 1\n",
    "    elif '패키지' in x :\n",
    "        return 1\n",
    "    elif '+' in x:\n",
    "        return 1\n",
    "    elif len(re.findall('[0-9]+종', x)) > 0 and re.findall('[0-9]+종', x)[0] != '1종':\n",
    "        return 1\n",
    "    else :\n",
    "        return 0"
   ]
  },
  {
   "cell_type": "code",
   "execution_count": 154,
   "metadata": {},
   "outputs": [],
   "source": [
    "data['구성'] = data.상품명.apply(set_pack)"
   ]
  },
  {
   "cell_type": "code",
   "execution_count": 155,
   "metadata": {},
   "outputs": [],
   "source": [
    "def m_or_f(x):\n",
    "    if '여성' in x or '브라' in x or '란쥬' in x or '블라우스' in x or '밍크' in x or '립스틱' in x or '퍼 베스트' in x or '원피스' in x or '귀걸이' in x or '목걸이' in x or '반지' in x or '팔찌' in x or '고데기' in x :\n",
    "        return '여성'\n",
    "    elif '남성' in x or '면도' in x :\n",
    "        return '남성'\n",
    "    else :\n",
    "        return '해당없음'"
   ]
  },
  {
   "cell_type": "code",
   "execution_count": 156,
   "metadata": {},
   "outputs": [],
   "source": [
    "data['성별'] = data.상품명.apply(m_or_f)"
   ]
  },
  {
   "cell_type": "code",
   "execution_count": 159,
   "metadata": {},
   "outputs": [],
   "source": [
    "data['상품명'] = data['상품명'].apply(lambda x :x.upper())"
   ]
  },
  {
   "cell_type": "code",
   "execution_count": 193,
   "metadata": {
    "scrolled": true
   },
   "outputs": [],
   "source": [
    "def brand(x):\n",
    "    if ('장수 흙' in x) or ('장수흙' in x) or ('장수' in x) :\n",
    "        return '장수'\n",
    "    elif '한샘' in x:\n",
    "        return '한샘'\n",
    "    elif '푸마' in x :\n",
    "        return '푸마'\n",
    "    elif '삼익' in x :\n",
    "        return '삼익'\n",
    "    elif '보루네오' in x :\n",
    "        return '보루네오'\n",
    "    elif 'LG' in x :\n",
    "        return 'LG'\n",
    "    elif '삼성' in x :\n",
    "        return '삼성'\n",
    "    elif '로베르타' in x :\n",
    "        return '로베르타'\n",
    "    elif '딤채' in x :\n",
    "        return '딤채'\n",
    "    elif '루에띠에' in x :\n",
    "        return '루이띠에'\n",
    "    elif '헤스티지' in x :\n",
    "        return '헤스티지'\n",
    "    elif '구찌' in x :\n",
    "        return '구찌'\n",
    "    elif '그렉노먼' in x :\n",
    "        return '그렉노먼'\n",
    "    elif '노송' in x :\n",
    "        return '노송'\n",
    "    elif '도스문도스' in x :\n",
    "        return '도스문도스'\n",
    "    elif '레이프릴' in x :\n",
    "        return '레이프릴'\n",
    "    elif '루이띠에' in x :\n",
    "        return '루이띠에'\n",
    "    elif '마르엘라로사티' in x :\n",
    "        return '마르엘라로사티'\n",
    "    elif '마리끌레르' in x :\n",
    "        return '마리끌레르'\n",
    "    elif '대우' in x :\n",
    "        return '대우'\n",
    "    elif '프라다' in x :\n",
    "        return '프라다'\n",
    "    elif '알비에로' in x :\n",
    "        return '알비에로'\n",
    "    elif '뉴트리원' in x :\n",
    "        return '뉴트리원'\n",
    "    elif '가이거' in x :\n",
    "        return '가이거'\n",
    "    elif '오슬로' in x :\n",
    "        return '오슬로'\n",
    "    elif '알비에로' in x :\n",
    "        return '알비에로'\n",
    "    elif '메디아글램' in x :\n",
    "        return '메디아글램'\n",
    "    elif '블랙모어스' in x :\n",
    "        return '블랙모어스'\n",
    "    elif '일월' in x :\n",
    "        return '일월'\n",
    "    elif (('크로커다일' in x) & ('팬티' in x )) | (('크로커다일' in x) & ('브라' in x )) :\n",
    "        return '크로커다일'\n",
    "    elif '한솔' in x :\n",
    "        return '한솔'\n",
    "    elif '쿠쿠' in x :\n",
    "        return '쿠쿠'\n",
    "    elif '안드레아바나' in x :\n",
    "        return '안드레아바나'\n",
    "    elif '모나코사놀' in x :\n",
    "        return '뉴트리원'\n",
    "    elif '이누스바스' in x :\n",
    "        return '이누스바스'\n",
    "    elif '라니' in x :\n",
    "        return '라니'\n",
    "    elif '엘렌실라' in x :\n",
    "        return '엘렌실라'\n",
    "    elif '헤드' in x :\n",
    "        return '헤드'\n",
    "    elif '올리고' in x :\n",
    "        return '올리고'\n",
    "    elif '종근당' in x :\n",
    "        return '종근당'\n",
    "    elif '쿠첸' in x :\n",
    "        return '쿠첸'\n",
    "    elif '보국' in x :\n",
    "        return '보국'\n",
    "    elif '디즈니' in x :\n",
    "        return '디즈니'\n",
    "    elif 'USPA' in x :\n",
    "        return 'USPA'\n",
    "    elif '마리노블' in x :\n",
    "        return '마리노블'\n",
    "    elif '기라로쉬' in x :\n",
    "        return '기라로쉬'\n",
    "    elif '엘리자베스아덴' in x :\n",
    "        return '엘리자베스아덴'\n",
    "    elif '글라스락' in x :\n",
    "        return '글라스락'\n",
    "    elif 'AHC' in x :\n",
    "        return 'AHC'\n",
    "    elif ('BBC' in x) & ('IZUMI' in x) :\n",
    "        return 'BBC_IZUMI'\n",
    "    elif 'CERINI BY PAT' in x :\n",
    "        return 'CERINI_BY_PAT'\n",
    "    elif 'EXR' in x :\n",
    "        return 'EXR'\n",
    "    elif 'K-SWISS' in x :\n",
    "        return 'K-SWISS'\n",
    "    elif 'LSX' in x :\n",
    "        return 'LSX'\n",
    "    elif 'NNF' in x :\n",
    "        return 'NNF'\n",
    "    elif 'SK' in x :\n",
    "        return 'SK'\n",
    "    elif 'RYN' in x :\n",
    "        return 'RYN'\n",
    "    elif ('광동' in x) | ('피부약방' in x ) :\n",
    "        return '광동제약'\n",
    "    elif '농협' in x :\n",
    "        return '농협'\n",
    "    elif '본죽' in x :\n",
    "        return '본죽'\n",
    "    elif '페플럼제이' in x :\n",
    "        return '페플럼제이'\n",
    "    elif '플로쥬' in x :\n",
    "        return '플로쥬'\n",
    "    elif '경남제약' in x :\n",
    "        return '경남제약'\n",
    "    elif '구찌' in x :\n",
    "        return '구찌'\n",
    "    elif '굿프렌드' in x :\n",
    "        return '굿프렌드'\n",
    "    elif '까사마루' in x :\n",
    "        return '까사마루'\n",
    "    elif '남영비비안' in x :\n",
    "        return '남영비비안'\n",
    "    elif '네오젠' in x :\n",
    "        return '네오젠'\n",
    "    elif '네페르티티' in x :\n",
    "        return '네페르티티'\n",
    "    elif '노비타' in x :\n",
    "        return '노비타'\n",
    "    elif '노와' in x :\n",
    "        return '노와'\n",
    "    elif '클레린' in x :\n",
    "        return '클레린'\n",
    "    elif '벨라홈' in x :\n",
    "        return '벨라홈'\n",
    "    elif '뉴욕맘' in x :\n",
    "        return '뉴욕맘'\n",
    "    elif '닥터' in x :\n",
    "        return 'HL사이언스'\n",
    "    elif '대동모피' in x :\n",
    "        return '대동모피'\n",
    "    elif '대웅모닝컴' in x :\n",
    "        return '대웅모닝컴'\n",
    "    elif '댄스킨' in x :\n",
    "        return '댄스킨'\n",
    "    elif '더블모 ' in x :\n",
    "        return '더블모'\n",
    "    elif '더블유베일' in x :\n",
    "        return '더블유베일'\n",
    "    elif '델첸' in x :\n",
    "        return '델첸'\n",
    "    elif '도네이' in x :\n",
    "        return '도네이'\n",
    "    elif '도루코' in x :\n",
    "        return '도루코'\n",
    "    elif '두꺼비 매직' in x :\n",
    "        return '두꺼비'\n",
    "    elif '디비노' in x :\n",
    "        return '디비노'\n",
    "    elif '디키즈' in x :\n",
    "        return '디키즈'\n",
    "    elif '디베이지' in x :\n",
    "        return '디베이지'\n",
    "    elif '라라쎄' in x :\n",
    "        return '라라쎄'\n",
    "    elif '라라츄' in x :\n",
    "        return '라라츄'\n",
    "    elif '락앤락' in x :\n",
    "        return '락앤락'\n",
    "    elif '란체티' in x :\n",
    "        return '란체티'\n",
    "    elif '램프쿡' in x :\n",
    "        return '램프쿡'\n",
    "    elif '라쉬반' in x :\n",
    "        return '라쉬반'\n",
    "    elif '레노마' in x :\n",
    "        return '레노마'\n",
    "    elif '레드캠프' in x :\n",
    "        return '레드캠프'\n",
    "    elif '레스토닉' in x :\n",
    "        return '레스토닉'\n",
    "    elif '레코바' in x :\n",
    "        return '레코바'\n",
    "    elif '로벤탈' in x :\n",
    "        return '로벤탈'\n",
    "    elif '롯데' in x :\n",
    "        return '롯데'\n",
    "    elif '르까프' in x :\n",
    "        return '르까프'\n",
    "    elif '리복' in x :\n",
    "        return '리복'\n",
    "    elif '리앤' in x :\n",
    "        return '리앤'\n",
    "    elif '마담팰리스' in x :\n",
    "        return '마담팰리스'\n",
    "    elif '마모트' in x :\n",
    "        return '마모트'\n",
    "    elif '마스케라' in x :\n",
    "        return '마스케라'\n",
    "    elif '마이클코어스' in x :\n",
    "        return '마이클코어스'\n",
    "    elif '멋진밥상' in x :\n",
    "        return '멋진밥상'\n",
    "    elif '메디앤서' in x :\n",
    "        return '메디앤서'\n",
    "    elif '메시제이' in x :\n",
    "        return '메시제이'\n",
    "    elif '메이듀' in x :\n",
    "        return '메이듀'\n",
    "    elif '목우촌' in x :\n",
    "        return '목우촌'\n",
    "    elif '몬테밀라노' in x :\n",
    "        return '몬테밀라노'\n",
    "    elif '자미코코' in x :\n",
    "        return '자미코코'\n",
    "    elif '린나이' in x :\n",
    "        return '린나이'\n",
    "    elif '모즈' in x :\n",
    "        return '모즈'\n",
    "    elif '아이넥스' in x :\n",
    "        return '아이넥스'\n",
    "    elif '뱅뱅' in x :\n",
    "        return '뱅뱅'\n",
    "    elif '보몽드' in x :\n",
    "        return '보몽드'\n",
    "    elif '보코' in x :\n",
    "        return '보코'\n",
    "    elif '뷰티플렉스' in x :\n",
    "        return '뷰티플렉스'\n",
    "    elif '비버리힐스폴로클럽' in x :\n",
    "        return '비버리힐스폴로클럽'\n",
    "    elif '사운드룩' in x :\n",
    "        return '사운드룩'\n",
    "    elif '삭루츠' in x :\n",
    "        return '삭루츠'\n",
    "    elif ('생쥴랑' in x) | ('생줄랑' in x ) :\n",
    "        return '생쥴랑'\n",
    "    elif '스칸디나비아' in x :\n",
    "        return '스칸디나비아'\n",
    "    elif '스프리스' in x :\n",
    "        return '스프리스'\n",
    "    elif '세인트스코트' in x :\n",
    "        return '세인트스코트'\n",
    "    elif '센스톰' in x :\n",
    "        return '센스톰'\n",
    "    elif '센스톰' in x :\n",
    "        return\n",
    "    elif '셀렉프로' in x :\n",
    "        return '셀렉프로'\n",
    "    elif '셰프웨이' in x :\n",
    "        return '셰프웨이'\n",
    "    elif '소들녘' in x :\n",
    "        return '소들녘'\n",
    "    elif '시스마르스' in x :\n",
    "        return '시스마르스'\n",
    "    elif '스칼프솔루션' in x :\n",
    "        return '스칼프솔루션'\n",
    "    elif '스텔라테일러' in x :\n",
    "        return '스텔라테일러'\n",
    "    elif '스튜디오럭스' in x :\n",
    "        return '스튜디오럭스'\n",
    "    elif '스포메틱스' in x :\n",
    "        return '스포메틱스'\n",
    "    elif '스피드랙' in x :\n",
    "        return '스피드랙'\n",
    "    elif '실바트' in x :\n",
    "        return '실바트'\n",
    "    elif '실크트리' in x :\n",
    "        return '실크트리'\n",
    "    elif '썸덱스' in x :\n",
    "        return '썸덱스'\n",
    "    elif '쓰임' in x :\n",
    "        return '쓰임'\n",
    "    elif '아가타' in x :\n",
    "        return '아가타'\n",
    "    elif '아르테사노' in x :\n",
    "        return '아르테사노'\n",
    "    elif '아리스토우' in x :\n",
    "        return '아리스토우'\n",
    "    elif '아문센' in x :\n",
    "        return '아문센'\n",
    "    elif '아미니' in x :\n",
    "        return '아미니'\n",
    "    elif '아이넥스' in x :\n",
    "        return '아이넥스'\n",
    "    elif '아키' in x :\n",
    "        return '아키'\n",
    "    elif '알렉스하운드' in x :\n",
    "        return '알렉스하운드'\n",
    "    elif '에델코첸' in x :\n",
    "        return '에델코첸'\n",
    "    elif '에르나벨' in x :\n",
    "        return '에르나벨'\n",
    "    elif '에버라스트' in x :\n",
    "        return '에버라스트'\n",
    "    elif '에코라믹' in x :\n",
    "        return '에코라믹'\n",
    "    elif '에트로' in x :\n",
    "        return '에트로'\n",
    "    elif '에펨' in x :\n",
    "        return '에펨'\n",
    "    elif '메르시' in x :\n",
    "        return '메르시'\n",
    "    elif '오가닉뷰티' in x :\n",
    "        return '오가닉뷰티'\n",
    "    elif '오델로' in x :\n",
    "        return '오델로'\n",
    "    elif '오렐리안' in x :\n",
    "        return '오렐리안'\n",
    "    elif '오모떼' in x :\n",
    "        return '오모떼'\n",
    "    elif '월드컵' in x :\n",
    "        return '월드컵'\n",
    "    elif '유캐슬' in x :\n",
    "        return '유캐슬'\n",
    "    elif '제옥스' in x :\n",
    "        return '제옥스'\n",
    "    elif '칼리베이직' in x :\n",
    "        return '칼리베이직'\n",
    "    elif '코몽트' in x :\n",
    "        return '코몽트'\n",
    "    elif '코튼플러스' in x :\n",
    "        return '코튼플러스'\n",
    "    elif '코펜하겐럭스' in x :\n",
    "        return '코펜하겐럭스'\n",
    "    elif '키친아트' in x :\n",
    "        return '키친아트'\n",
    "    elif '키친플라워' in x :\n",
    "        return '키친플라워'\n",
    "    elif '타운젠트' in x :\n",
    "        return '타운젠트'\n",
    "    elif '트라이' in x :\n",
    "        return '트라이'\n",
    "    elif '트레스패스' in x :\n",
    "        return '트레스패스'\n",
    "    elif '팜스프링스' in x :\n",
    "        return '팜스프링스'\n",
    "    elif '한빛' in x :\n",
    "        return '한빛'\n",
    "    elif '해피콜' in x :\n",
    "        return '해피콜'\n",
    "    elif '히트융' in x :\n",
    "        return '히트융'\n",
    "    elif '카파' in x :\n",
    "        return '카파'\n",
    "    elif '휴테크' in x :\n",
    "        return '휴테크'\n",
    "    elif '효재' in x :\n",
    "        return '효재'\n",
    "    elif '헤비추얼' in x :\n",
    "        return '헤비추얼'\n",
    "    elif '피시원' in x :\n",
    "        return '피시원'\n",
    "    elif '페르소나' in x :\n",
    "        return '페르소나'\n",
    "    elif '파뷔에' in x :\n",
    "        return '파뷔에'\n",
    "    elif '파로마' in x :\n",
    "        return '파로마'\n",
    "    elif '테이트' in x :\n",
    "        return '테이트'\n",
    "    elif '크리스티나앤코' in x :\n",
    "        return '크리스티나앤코'\n",
    "    elif '쿠미투니카' in x :\n",
    "        return '쿠미투니카'\n",
    "    elif '코치 ' in x :\n",
    "        return '코치'\n",
    "    elif '컬럼비아' in x :\n",
    "        return '컬럼비아'\n",
    "    elif '청정수산' in x :\n",
    "        return '청정수산'\n",
    "    elif '젠트웰' in x :\n",
    "        return '젠트웰'\n",
    "    elif '임페리얼' in x :\n",
    "        return '임페리얼'\n",
    "    elif '강레오' in x :\n",
    "        return '강레오'\n",
    "    elif '이봉원' in x :\n",
    "        return '이봉원'\n",
    "    elif '이정섭' in x :\n",
    "        return '이정섭'\n",
    "    elif '이동수' in x :\n",
    "        return '이동수'\n",
    "    elif '이경제' in x :\n",
    "        return '이경제'\n",
    "    elif '유귀열' in x :\n",
    "        return '유귀열'\n",
    "    elif '오세득' in x :\n",
    "        return '오세득'\n",
    "    elif '송도순' in x :\n",
    "        return '송도순'\n",
    "    elif '하림' in x :\n",
    "        return '하림'\n",
    "    elif '김병만' in x :\n",
    "        return '김병만'\n",
    "    elif '김병지' in x :\n",
    "        return '김병지'\n",
    "    elif '김선영' in x :\n",
    "        return '김선영'\n",
    "    elif '김정문' in x :\n",
    "        return '김정문'\n",
    "    elif '김정배' in x :\n",
    "        return '김정배'\n",
    "    elif '팽현숙' in x :\n",
    "        return '팽현숙'\n",
    "    elif 'PN풍년' in x :\n",
    "        return '원팟'\n",
    "    elif '루미테라피' in x :\n",
    "        return '루미테라피'\n",
    "    elif'리큅' in x :\n",
    "        return '리큅'\n",
    "    elif '매직쉐프' in x :\n",
    "        return '매직쉐프'\n",
    "    elif '마이베비' in x :\n",
    "        return '마이베비'\n",
    "    elif '메디쉴드' in x :\n",
    "        return '메디쉴드'\n",
    "    elif '메디컬드림' in x :\n",
    "        return '메디컬드림'\n",
    "    elif '밸런스파워' in x :\n",
    "        return '밸런스파워'\n",
    "    elif '브람스' in x :\n",
    "        return '브람스'\n",
    "    elif '선일금고'in x :\n",
    "        return '선일금고'\n",
    "    elif '센스락' in x :\n",
    "        return '센스락'\n",
    "    elif '비앙코' in x :\n",
    "        return '비앙코'\n",
    "    elif '스위스밀리터리' in x :\n",
    "        return '스위스밀리터리'\n",
    "    elif '실리만' in x :\n",
    "        return '실리만'\n",
    "    elif '아이오 ' in x :\n",
    "        return '아이오'\n",
    "    elif '에버홈' in x :\n",
    "        return '에버홈'\n",
    "    elif '에지리' in x :\n",
    "        return '에지리'\n",
    "    elif '에코바이런' in x :\n",
    "        return '에코바이런'\n",
    "    elif '오스터' in x :\n",
    "        return '오스터'\n",
    "    elif '드럼쿡' in x :\n",
    "        return '드럼쿡'\n",
    "    elif ('캐리어' in x ) & ('에어컨' in x):\n",
    "        return '캐리어'\n",
    "    elif '코지마' in x :\n",
    "        return '코지마'\n",
    "    elif '쿠진' in x :\n",
    "        return '쿠진'\n",
    "    elif '테팔' in x :\n",
    "        return '테팔'\n",
    "    elif '프로피쿡' in x :\n",
    "        return '프로피쿡'\n",
    "    elif '하우홈' in x :\n",
    "        return '하우홈'\n",
    "    elif '한삼인' in x :\n",
    "        return '한삼인'\n",
    "    elif '휴롬' in x :\n",
    "        return '휴롬'\n",
    "    elif '미바' in x :\n",
    "        return '미바'\n",
    "    elif '바다먹자' in x :\n",
    "        return '바다먹자'\n",
    "    elif '바두기' in x :\n",
    "        return '바두기'\n",
    "    elif '바로바로' in x :\n",
    "        return '바로바로'\n",
    "    elif '바바코코' in x :\n",
    "        return '바바코코'\n",
    "    elif '바치' in x :\n",
    "        return '바치'\n",
    "    elif '발레리' in x :\n",
    "        return '발레리'\n",
    "    elif '발렌티노루디' in x :\n",
    "        return '발렌티노루디'\n",
    "    elif ('베스트하임' in x) | ('베스트 하임' in x) :\n",
    "        return '베스트하임'\n",
    "    elif '베지밀' in x :\n",
    "        return '베지밀'\n",
    "    elif '벨레즈온' in x :\n",
    "        return '벨레즈온'\n",
    "    elif '블루콤' in x :\n",
    "        return '블루콤'\n",
    "    elif '블링썸' in x :\n",
    "        return '블링썸'\n",
    "    elif '산머루농원' in x :\n",
    "        return '산머루농원'\n",
    "    elif '스팀큐' in x :\n",
    "        return '스팀큐'\n",
    "    elif '시크릿뮤즈' in x :\n",
    "        return '시크릿뮤즈'\n",
    "    elif '라메종' in x :\n",
    "        return '라메종'\n",
    "    elif '씨엔지코리아' in x :\n",
    "        return '씨엔지코리아'\n",
    "    elif '아이앤아이' in x :\n",
    "        return '아이앤아이'\n",
    "    elif '안타고' in x :\n",
    "        return '안타고'\n",
    "    elif '어반시크릿' in x :\n",
    "        return '어반시크릿'\n",
    "    elif '에이온에이' in x :\n",
    "        return '에이온에이'\n",
    "    elif '에이유플러스' in x :\n",
    "        return '에이유플러스'\n",
    "    elif '엑사이더' in x :\n",
    "        return '엑사이더'\n",
    "    elif '엔셀라두스' in x :\n",
    "        return '엔셀라두스'\n",
    "    elif '레드빈 티톡' in x :\n",
    "        return '티스토리'\n",
    "    elif '영산포' in x :\n",
    "        return '영산포'\n",
    "    elif '예천' in x :\n",
    "        return '예천'\n",
    "    elif '올바로' in x :\n",
    "        return '올바로'\n",
    "    elif '완도' in x :\n",
    "        return '완도'\n",
    "    elif '바로톡' in x :\n",
    "        return '바로톡'\n",
    "    elif '이보은' in x :\n",
    "        return '이보은'\n",
    "    elif '이조농방' in x :\n",
    "        return '이조농방'\n",
    "    elif '이지스' in x :\n",
    "        return '이지스'\n",
    "    elif '이지엔' in x :\n",
    "        return '이지엔'\n",
    "    elif '자미코코' in x :\n",
    "        return '자미코코'\n",
    "    elif '바치' in x :\n",
    "        return\n",
    "    elif '자올' in x :\n",
    "        return '자올'\n",
    "    elif '잔다리' in x :\n",
    "        return '잔다리'\n",
    "    elif '저스트마이사이즈' in x :\n",
    "        return '저스트마이사이즈'\n",
    "    elif '전철우' in x :\n",
    "        return '전철우'\n",
    "    elif '제주' in x :\n",
    "        return '제주'\n",
    "    elif '창녕' in x :\n",
    "        return '창녕'\n",
    "    elif '천연담아' in x :\n",
    "        return '천연담아'\n",
    "    elif '센스하우스' in x :\n",
    "        return '센스하우스'\n",
    "    elif '히팅맘' in x :\n",
    "        return '히팅맘'\n",
    "    elif '최인선' in x :\n",
    "        return '최인선'\n",
    "    elif '캐치온' in x :\n",
    "        return '캐치온'\n",
    "    elif '컨시크' in x :\n",
    "        return '컨시크'\n",
    "    elif '코이모' in x :\n",
    "        return '코이모'\n",
    "    elif '코튼데이' in x :\n",
    "        return '코튼데이'\n",
    "    elif '아임파인' in x :\n",
    "        return '케이뉴트라'\n",
    "    elif '크린조이' in x :\n",
    "        return '크린조이'\n",
    "    elif '니봇' in x :\n",
    "        return '니봇'\n",
    "    elif '현대어찬' in x :\n",
    "        return '현대어찬'\n",
    "    elif '안지' in x :\n",
    "        return '안지'\n",
    "    elif '버버리' in x :\n",
    "        return '버버리'\n",
    "    elif '월시스' in x :\n",
    "        return '월시스'\n",
    "    elif '이만기' in x :\n",
    "        return '이만기'\n",
    "    elif '엘로엘' in x :\n",
    "        return '엘로엘'\n",
    "    elif '구스터' in x :\n",
    "        return '구스터'\n",
    "    elif '중외신약' in x :\n",
    "        return '중외신약'\n",
    "    elif '삼립' in x :\n",
    "        return '삼립'\n",
    "    elif '헤스떼벨' in x :\n",
    "        return '헤스떼벨'\n",
    "    elif '릴리젼' in x :\n",
    "        return '릴리젼'\n",
    "    elif '루이바셋' in x :\n",
    "        return '루이바셋'\n",
    "    elif '루시헨느' in x :\n",
    "        return '루시헨느'\n",
    "    elif '따스림' in x :\n",
    "        return '따스림'\n",
    "    elif '안국' in x :\n",
    "        return '안국'\n",
    "    elif '안동' in x :\n",
    "        return '안동'\n",
    "    elif '영광' in x :\n",
    "        return '영광'\n",
    "    elif '김규흔' in x :\n",
    "        return '김규흔'\n",
    "    elif '뉴웨이' in x :\n",
    "        return '뉴웨이'\n",
    "    elif '임성근' in x :\n",
    "        return '임성근'\n",
    "    elif '풍기인견' in x :\n",
    "        return '풍기인견'\n",
    "    elif '한일' in  x:\n",
    "        return '한일'\n",
    "    elif '센티멘탈' in x :\n",
    "        return '센티멘탈'\n",
    "    elif 'AM마카롱' in x :\n",
    "        return 'AM마카롱'\n",
    "    elif 'IH' in x :\n",
    "        return 'IH'\n",
    "    elif 'TS샴푸' in x :\n",
    "        return 'TS샴푸'\n",
    "    elif 'DIOR' in x :\n",
    "        return 'DIOR'\n",
    "    elif '보닌' in x :\n",
    "        return '보닌'\n",
    "    elif '바다원' in x :\n",
    "        return '바다원'\n",
    "    elif '살롱클리닉' in x :\n",
    "        return '살롱클리닉'\n",
    "    elif '세라맥스' in x :\n",
    "        return '세라맥스'\n",
    "    elif '슬로푸드' in x :\n",
    "        return '슬로푸드'\n",
    "    elif '유리진' in x :\n",
    "        return '유리진'\n",
    "    elif '통영' in x :\n",
    "        return '통영'\n",
    "    elif '김천' in x :\n",
    "        return '김천'\n",
    "    elif '거창' in x :\n",
    "        return '거창'\n",
    "    elif '고창' in x :\n",
    "        return '고창'\n",
    "    elif '세렌셉템버' in x :\n",
    "        return '세렌셉템버'\n",
    "    elif '강원도' in x :\n",
    "        return '강원도'\n",
    "    elif '거미손' in x :\n",
    "        return '거미손'\n",
    "    elif '골드파일' in x :\n",
    "        return '골드파일'\n",
    "    elif '궁중' in x :\n",
    "        return '궁중'\n",
    "    elif '달바' in x :\n",
    "        return '달바'\n",
    "    elif '로이몬스터' in x :\n",
    "        return '로이몬스터'\n",
    "    elif '모리츠' in x :\n",
    "        return '모리츠'\n",
    "    elif '얼리젼' in x :\n",
    "        return '얼리젼'\n",
    "    elif '타이거' in x :\n",
    "        return '타이거'\n",
    "    elif '조방할매' in x :\n",
    "        return '조방할매'\n",
    "    elif '참바다' in x :\n",
    "        return '참바다'\n",
    "    elif '참존' in x :\n",
    "        return '참존'\n",
    "    elif '퀸메이드' in x :\n",
    "        return '퀸메이드'\n",
    "    elif '킹스스파' in x :\n",
    "        return '킹스스파'\n",
    "    elif '황성주' in x :\n",
    "        return '황성주'\n",
    "    elif '티젠' in x :\n",
    "        return '티젠'\n",
    "    elif '파시노' in x :\n",
    "        return '파시노'\n",
    "    elif '하동' in x :\n",
    "        return '하동'\n",
    "    elif '우리바다' in x :\n",
    "        return '우리바다'\n",
    "    elif '수련' in x :\n",
    "        return '수련'\n",
    "    elif '속초' in x :\n",
    "        return '속초'\n",
    "    elif '실크테라피' in x :\n",
    "        return '실크테라피'\n",
    "    elif '갈란테' in x :\n",
    "        return '갈란테'\n",
    "    elif '옥샘쿡' in x :\n",
    "        return '옥샘쿡'\n",
    "    elif '웰스락' in x :\n",
    "        return '웰스락'\n",
    "    elif '숀리' in x :\n",
    "        return '숀리'\n",
    "    elif '레스트업' in x :\n",
    "        return '레스트업'\n",
    "    elif '클란츠' in x :\n",
    "        return '클란츠'\n",
    "    else :\n",
    "        return '없음'"
   ]
  },
  {
   "cell_type": "code",
   "execution_count": 194,
   "metadata": {},
   "outputs": [],
   "source": [
    "data['브랜드'] = data.상품명.apply(brand)"
   ]
  }
 ],
 "metadata": {
  "kernelspec": {
   "display_name": "Python 3",
   "language": "python",
   "name": "python3"
  },
  "language_info": {
   "codemirror_mode": {
    "name": "ipython",
    "version": 3
   },
   "file_extension": ".py",
   "mimetype": "text/x-python",
   "name": "python",
   "nbconvert_exporter": "python",
   "pygments_lexer": "ipython3",
   "version": "3.7.6"
  }
 },
 "nbformat": 4,
 "nbformat_minor": 4
}
