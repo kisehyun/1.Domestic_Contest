{
 "cells": [
  {
   "cell_type": "code",
   "execution_count": 326,
   "id": "46ec8acc",
   "metadata": {},
   "outputs": [],
   "source": [
    "import pandas as pd\n",
    "import numpy as np\n",
    "\n",
    "import warnings\n",
    "warnings.filterwarnings('ignore')"
   ]
  },
  {
   "cell_type": "code",
   "execution_count": 327,
   "id": "e5e63935",
   "metadata": {},
   "outputs": [],
   "source": [
    "train = pd.read_csv('./train.csv')\n",
    "test = pd.read_csv('./test.csv')"
   ]
  },
  {
   "cell_type": "code",
   "execution_count": 328,
   "id": "fc329d1b",
   "metadata": {},
   "outputs": [],
   "source": [
    "train = train.iloc[:, 1:]\n",
    "test = test.iloc[:, 1:]"
   ]
  },
  {
   "cell_type": "code",
   "execution_count": 329,
   "id": "aae9cac5",
   "metadata": {},
   "outputs": [],
   "source": [
    "def sep_area(x) :\n",
    "    \n",
    "    if 'L' in x :\n",
    "        return 1\n",
    "    elif 'R' in x :\n",
    "        return 2\n",
    "    else :\n",
    "        return 3"
   ]
  },
  {
   "cell_type": "code",
   "execution_count": 330,
   "id": "3235d1e7",
   "metadata": {},
   "outputs": [],
   "source": [
    "train['Position_Area'] = train['Position'].apply(sep_area)\n",
    "test['Position_Area'] = test['Position'].apply(sep_area)"
   ]
  },
  {
   "cell_type": "code",
   "execution_count": 331,
   "id": "2b6d704a",
   "metadata": {},
   "outputs": [],
   "source": [
    "def position_category(x) :\n",
    "    \n",
    "    if x.endswith('M') :\n",
    "        return 1\n",
    "    elif x.endswith('B') :\n",
    "        return 2\n",
    "    elif x == 'GK' :\n",
    "        return 3\n",
    "    else :\n",
    "        return 4"
   ]
  },
  {
   "cell_type": "code",
   "execution_count": 332,
   "id": "883469a7",
   "metadata": {},
   "outputs": [],
   "source": [
    "train['Position_Category'] = train['Position'].apply(position_category)\n",
    "test['Position_Category'] = test['Position'].apply(position_category)"
   ]
  },
  {
   "cell_type": "code",
   "execution_count": 333,
   "id": "d1c949de",
   "metadata": {},
   "outputs": [],
   "source": [
    "train['BMI'] = train['Weight'] / ((train['Height'] / 100) ** 2)\n",
    "test['BMI'] = test['Weight'] / ((test['Height'] / 100) ** 2)"
   ]
  },
  {
   "cell_type": "code",
   "execution_count": 334,
   "id": "f3e07973",
   "metadata": {},
   "outputs": [],
   "source": [
    "train['AttackingWorkRate'] = train['AttackingWorkRate'].map({'High' : 3, 'Medium' : 2, 'Low' : 1})\n",
    "test['AttackingWorkRate'] = test['AttackingWorkRate'].map({'High' : 3, 'Medium' : 2, 'Low' : 1})"
   ]
  },
  {
   "cell_type": "code",
   "execution_count": 335,
   "id": "e8a0889b",
   "metadata": {},
   "outputs": [],
   "source": [
    "train['DefensiveWorkRate'] = train['DefensiveWorkRate'].map({'High' : 3, 'Medium' : 2, 'Low' : 1})\n",
    "test['DefensiveWorkRate'] = test['DefensiveWorkRate'].map({'High' : 3, 'Medium' : 2, 'Low' : 1})"
   ]
  },
  {
   "cell_type": "code",
   "execution_count": 336,
   "id": "a526d24c",
   "metadata": {},
   "outputs": [],
   "source": [
    "train['PreferredFoot'] = [1 if pf == 'Right' else 0 for pf in train['PreferredFoot']]\n",
    "test['PreferredFoot'] = [1 if pf == 'Right' else 0 for pf in test['PreferredFoot']]"
   ]
  },
  {
   "cell_type": "code",
   "execution_count": 337,
   "id": "fbc76b56",
   "metadata": {},
   "outputs": [],
   "source": [
    "train['Oppsite_Foot_Side'] = ((train['PreferredFoot'] == 1) & (train['Position_Area'] == 1)) | ((train['PreferredFoot'] == 0) & (train['Position_Area'] == 2))\n",
    "test['Oppsite_Foot_Side'] = ((test['PreferredFoot'] == 1) & (test['Position_Area'] == 1)) | ((test['PreferredFoot'] == 0) & (test['Position_Area'] == 2))"
   ]
  },
  {
   "cell_type": "code",
   "execution_count": 338,
   "id": "c7035669",
   "metadata": {},
   "outputs": [],
   "source": [
    "gk_ability = ['GKDiving', 'GKHandling', 'GKKicking', 'GKPositioning', 'GKReflexes']"
   ]
  },
  {
   "cell_type": "code",
   "execution_count": 339,
   "id": "604218e0",
   "metadata": {},
   "outputs": [],
   "source": [
    "forward_rating = train.columns[train.columns.str.contains('WRating|TRating|FRating')].tolist()\n",
    "midfielder_rating = train.columns[train.columns.str.contains('MRating')].tolist()\n",
    "defense_rating = train.columns[train.columns.str.contains('BRating')].tolist()\n",
    "gk_rating = train.columns[train.columns.str.contains('GKRating')].tolist()"
   ]
  },
  {
   "cell_type": "code",
   "execution_count": 340,
   "id": "3fbdd515",
   "metadata": {},
   "outputs": [],
   "source": [
    "import matplotlib.pyplot as plt\n",
    "import seaborn as sns\n",
    "%matplotlib inline"
   ]
  },
  {
   "cell_type": "code",
   "execution_count": 341,
   "id": "dfce3f65",
   "metadata": {},
   "outputs": [],
   "source": [
    "from sklearn.ensemble import RandomForestClassifier\n",
    "from sklearn.preprocessing import LabelEncoder\n",
    "from lightgbm import LGBMClassifier\n",
    "from catboost import CatBoostClassifier"
   ]
  },
  {
   "cell_type": "code",
   "execution_count": 342,
   "id": "c193af37",
   "metadata": {},
   "outputs": [],
   "source": [
    "from sklearn.metrics import f1_score\n",
    "from sklearn.model_selection import StratifiedKFold"
   ]
  },
  {
   "cell_type": "code",
   "execution_count": 343,
   "id": "334a914e",
   "metadata": {},
   "outputs": [],
   "source": [
    "le = LabelEncoder()"
   ]
  },
  {
   "cell_type": "code",
   "execution_count": 344,
   "id": "55ccfa4f",
   "metadata": {},
   "outputs": [],
   "source": [
    "skf = StratifiedKFold(n_splits = 8, random_state = 42, shuffle = True)"
   ]
  },
  {
   "cell_type": "markdown",
   "id": "2fff4e6d",
   "metadata": {},
   "source": [
    "### Forward"
   ]
  },
  {
   "cell_type": "code",
   "execution_count": 442,
   "id": "f0c1ff62",
   "metadata": {},
   "outputs": [],
   "source": [
    "f = train[train['Position_Category'] == 4]"
   ]
  },
  {
   "cell_type": "code",
   "execution_count": 443,
   "id": "deb9fe54",
   "metadata": {},
   "outputs": [],
   "source": [
    "te_f = test[test['Position_Category'] == 4]"
   ]
  },
  {
   "cell_type": "code",
   "execution_count": 444,
   "id": "7267c93d",
   "metadata": {},
   "outputs": [],
   "source": [
    "f.drop(defense_rating + midfielder_rating + gk_rating, inplace = True, axis = 1)"
   ]
  },
  {
   "cell_type": "code",
   "execution_count": 445,
   "id": "65c1dd65",
   "metadata": {},
   "outputs": [],
   "source": [
    "f['Centrailty'] = f[forward_rating].max(axis = 1) / (f[forward_rating].max(axis = 1) - f[forward_rating].min(axis = 1))"
   ]
  },
  {
   "cell_type": "code",
   "execution_count": 446,
   "id": "21423ec0",
   "metadata": {},
   "outputs": [],
   "source": [
    "te_f['Centrailty'] = te_f[forward_rating].max(axis = 1) / (te_f[forward_rating].max(axis = 1) - te_f[forward_rating].min(axis = 1))"
   ]
  },
  {
   "cell_type": "code",
   "execution_count": 447,
   "id": "f4568ae1",
   "metadata": {},
   "outputs": [],
   "source": [
    "f.drop(forward_rating + gk_ability, axis = 1, inplace = True)"
   ]
  },
  {
   "cell_type": "code",
   "execution_count": 448,
   "id": "f4a35dbf",
   "metadata": {},
   "outputs": [],
   "source": [
    "f['Position'] = le.fit_transform(f['Position'])"
   ]
  },
  {
   "cell_type": "code",
   "execution_count": 449,
   "id": "148562b7",
   "metadata": {},
   "outputs": [],
   "source": [
    "te_f['Position'] = le.transform(te_f['Position'])"
   ]
  },
  {
   "cell_type": "code",
   "execution_count": 450,
   "id": "cdddcc53",
   "metadata": {},
   "outputs": [],
   "source": [
    "X = f.drop(['Prospect', 'Position_Category'], axis = 1)"
   ]
  },
  {
   "cell_type": "code",
   "execution_count": 451,
   "id": "52d5fbd7",
   "metadata": {},
   "outputs": [],
   "source": [
    "y = f['Prospect']"
   ]
  },
  {
   "cell_type": "code",
   "execution_count": 452,
   "id": "b0fec501",
   "metadata": {},
   "outputs": [],
   "source": [
    "target = te_f[X.columns]"
   ]
  },
  {
   "cell_type": "code",
   "execution_count": 454,
   "id": "cc9e4b85",
   "metadata": {
    "scrolled": true
   },
   "outputs": [
    {
     "name": "stdout",
     "output_type": "stream",
     "text": [
      "1 Fold F1 = 0.7324561403508771\n",
      "2 Fold F1 = 0.8124126362873917\n",
      "3 Fold F1 = 0.776829268292683\n",
      "4 Fold F1 = 0.8063492063492064\n",
      "5 Fold F1 = 0.911976911976912\n",
      "6 Fold F1 = 0.8680877355576151\n",
      "7 Fold F1 = 0.8775867094141651\n",
      "8 Fold F1 = 0.8400000000000001\n",
      "\n",
      "CatBoostClassifier AVG of F1 = 0.8282123260286063\n"
     ]
    }
   ],
   "source": [
    "cb_f1 = []\n",
    "i = 0\n",
    "cb_f = np.zeros((target.shape[0]))\n",
    "for tr_idx, val_idx in skf.split(X, y) :\n",
    "    \n",
    "    tr_x, tr_y = X.iloc[tr_idx], y.iloc[tr_idx]\n",
    "    val_x, val_y = X.iloc[val_idx], y.iloc[val_idx]\n",
    "    \n",
    "    cb = CatBoostClassifier(random_state = 42, max_depth = 6, learning_rate = 0.03, n_estimators = 5000, eval_metric = 'F1')\n",
    "    \n",
    "    cb.fit(tr_x, tr_y, eval_set = [(tr_x, tr_y), (val_x, val_y)], early_stopping_rounds = 1000, verbose = 0)\n",
    "    pred = cb.predict(val_x)\n",
    "    f1 = f1_score(val_y, pred, average = 'macro')\n",
    "    cb_f1.append(f1)\n",
    "    print(f'{i + 1} Fold F1 = {f1}')\n",
    "    i += 1\n",
    "    \n",
    "    pred = cb.predict_proba(target)[:, 1] / skf.n_splits\n",
    "    cb_f += pred\n",
    "print(f'\\n{cb.__class__.__name__} AVG of F1 = {np.mean(cb_f1)}')"
   ]
  },
  {
   "cell_type": "markdown",
   "id": "ab71abed",
   "metadata": {},
   "source": [
    "### Midfielder"
   ]
  },
  {
   "cell_type": "code",
   "execution_count": 429,
   "id": "e8c0d8da",
   "metadata": {},
   "outputs": [],
   "source": [
    "m = train[train['Position_Category'] == 1]"
   ]
  },
  {
   "cell_type": "code",
   "execution_count": 430,
   "id": "e0c1633b",
   "metadata": {},
   "outputs": [],
   "source": [
    "te_m = test[test['Position_Category'] == 1]"
   ]
  },
  {
   "cell_type": "code",
   "execution_count": 431,
   "id": "193e8a3b",
   "metadata": {},
   "outputs": [],
   "source": [
    "m.drop(defense_rating + forward_rating + gk_rating, inplace = True, axis = 1)"
   ]
  },
  {
   "cell_type": "code",
   "execution_count": 432,
   "id": "bf0fecd6",
   "metadata": {},
   "outputs": [],
   "source": [
    "m['Centrailty'] = m[midfielder_rating].max(axis = 1) / (m[midfielder_rating].max(axis = 1) - m[midfielder_rating].min(axis = 1))"
   ]
  },
  {
   "cell_type": "code",
   "execution_count": 433,
   "id": "b0271ded",
   "metadata": {},
   "outputs": [],
   "source": [
    "te_m['Centrailty'] = te_m[forward_rating].max(axis = 1) / (te_m[forward_rating].max(axis = 1) - te_m[forward_rating].min(axis = 1))"
   ]
  },
  {
   "cell_type": "code",
   "execution_count": 434,
   "id": "6dc75f52",
   "metadata": {},
   "outputs": [],
   "source": [
    "m.drop(midfielder_rating + gk_ability, axis = 1, inplace = True)"
   ]
  },
  {
   "cell_type": "code",
   "execution_count": 435,
   "id": "34d39244",
   "metadata": {},
   "outputs": [],
   "source": [
    "m['Position'] = le.fit_transform(m['Position'])"
   ]
  },
  {
   "cell_type": "code",
   "execution_count": 436,
   "id": "aa644d1a",
   "metadata": {},
   "outputs": [],
   "source": [
    "te_m['Position'] = le.transform(te_m['Position'])"
   ]
  },
  {
   "cell_type": "code",
   "execution_count": 437,
   "id": "98a6497e",
   "metadata": {},
   "outputs": [],
   "source": [
    "X = m.drop(['Prospect', 'Position_Category'], axis = 1)"
   ]
  },
  {
   "cell_type": "code",
   "execution_count": 438,
   "id": "5d30171c",
   "metadata": {},
   "outputs": [],
   "source": [
    "y = m['Prospect']"
   ]
  },
  {
   "cell_type": "code",
   "execution_count": 439,
   "id": "6e368599",
   "metadata": {},
   "outputs": [],
   "source": [
    "target = te_m[X.columns]"
   ]
  },
  {
   "cell_type": "code",
   "execution_count": 441,
   "id": "5ed38225",
   "metadata": {},
   "outputs": [
    {
     "name": "stdout",
     "output_type": "stream",
     "text": [
      "1 Fold F1 = 0.8073479969214566\n",
      "2 Fold F1 = 0.7809209492377809\n",
      "3 Fold F1 = 0.7940616518815571\n",
      "4 Fold F1 = 0.8101169800774545\n",
      "5 Fold F1 = 0.7737931034482759\n",
      "6 Fold F1 = 0.7970215993931409\n",
      "7 Fold F1 = 0.7839262187088274\n",
      "8 Fold F1 = 0.7370243576122457\n",
      "\n",
      "CatBoostClassifier AVG of F1 = 0.7855266071600924\n"
     ]
    }
   ],
   "source": [
    "cb_f1 = []\n",
    "i = 0\n",
    "cb_m = np.zeros((target.shape[0]))\n",
    "for tr_idx, val_idx in skf.split(X, y) :\n",
    "    \n",
    "    tr_x, tr_y = X.iloc[tr_idx], y.iloc[tr_idx]\n",
    "    val_x, val_y = X.iloc[val_idx], y.iloc[val_idx]\n",
    "    \n",
    "    cb = CatBoostClassifier(random_state = 42, max_depth = 7, learning_rate = 0.03, n_estimators = 5000, eval_metric = 'F1')\n",
    "    \n",
    "    cb.fit(tr_x, tr_y, eval_set = [(tr_x, tr_y), (val_x, val_y)], early_stopping_rounds = 1000, verbose = 0)\n",
    "    pred = cb.predict(val_x)\n",
    "    f1 = f1_score(val_y, pred, average = 'macro')\n",
    "    cb_f1.append(f1)\n",
    "    print(f'{i + 1} Fold F1 = {f1}')\n",
    "    i += 1\n",
    "    \n",
    "    pred = cb.predict_proba(target)[:, 1] / skf.n_splits\n",
    "    cb_m += pred\n",
    "print(f'\\n{cb.__class__.__name__} AVG of F1 = {np.mean(cb_f1)}')"
   ]
  },
  {
   "cell_type": "markdown",
   "id": "342dae1c",
   "metadata": {},
   "source": [
    "### GK"
   ]
  },
  {
   "cell_type": "code",
   "execution_count": 418,
   "id": "6d0fe0a6",
   "metadata": {},
   "outputs": [],
   "source": [
    "g = train[train['Position_Category'] == 3]"
   ]
  },
  {
   "cell_type": "code",
   "execution_count": 419,
   "id": "88bf4e53",
   "metadata": {},
   "outputs": [],
   "source": [
    "te_g = test[test['Position_Category'] == 3]"
   ]
  },
  {
   "cell_type": "code",
   "execution_count": 420,
   "id": "04b15f49",
   "metadata": {},
   "outputs": [],
   "source": [
    "g.drop(defense_rating + forward_rating + midfielder_rating, inplace = True, axis = 1)"
   ]
  },
  {
   "cell_type": "code",
   "execution_count": 421,
   "id": "6a1a15b6",
   "metadata": {},
   "outputs": [],
   "source": [
    "del g['Position']"
   ]
  },
  {
   "cell_type": "code",
   "execution_count": 422,
   "id": "2eb09f63",
   "metadata": {},
   "outputs": [],
   "source": [
    "del g['Position_Area']"
   ]
  },
  {
   "cell_type": "code",
   "execution_count": 423,
   "id": "d57b8f7b",
   "metadata": {},
   "outputs": [],
   "source": [
    "del g['Position_Category']"
   ]
  },
  {
   "cell_type": "code",
   "execution_count": 424,
   "id": "55c316c1",
   "metadata": {},
   "outputs": [],
   "source": [
    "del g['Oppsite_Foot_Side']"
   ]
  },
  {
   "cell_type": "code",
   "execution_count": 425,
   "id": "6393c8fa",
   "metadata": {},
   "outputs": [],
   "source": [
    "X = g.drop(['Prospect'], axis = 1)"
   ]
  },
  {
   "cell_type": "code",
   "execution_count": 426,
   "id": "2b511c62",
   "metadata": {},
   "outputs": [],
   "source": [
    "y = g['Prospect']"
   ]
  },
  {
   "cell_type": "code",
   "execution_count": 427,
   "id": "990d90aa",
   "metadata": {},
   "outputs": [],
   "source": [
    "target = te_g[X.columns]"
   ]
  },
  {
   "cell_type": "code",
   "execution_count": 379,
   "id": "f2b26cd5",
   "metadata": {},
   "outputs": [
    {
     "name": "stdout",
     "output_type": "stream",
     "text": [
      "1 Fold F1 = 0.8043326345213136\n",
      "2 Fold F1 = 0.7737272155876807\n",
      "3 Fold F1 = 0.8627726952850105\n",
      "4 Fold F1 = 0.8627726952850105\n",
      "5 Fold F1 = 0.6432090077410274\n",
      "6 Fold F1 = 0.832857142857143\n",
      "7 Fold F1 = 0.6290760869565217\n",
      "8 Fold F1 = 0.6871657754010695\n",
      "\n",
      "CatBoostClassifier AVG of F1 = 0.7619891567043471\n"
     ]
    }
   ],
   "source": [
    "cb_f1 = []\n",
    "i = 0\n",
    "cb_g = np.zeros((target.shape[0]))\n",
    "for tr_idx, val_idx in skf.split(X, y) :\n",
    "    \n",
    "    tr_x, tr_y = X.iloc[tr_idx], y.iloc[tr_idx]\n",
    "    val_x, val_y = X.iloc[val_idx], y.iloc[val_idx]\n",
    "    \n",
    "    cb = CatBoostClassifier(random_state = 42, max_depth = 5, learning_rate = 0.03, n_estimators = 5000, eval_metric = 'F1')\n",
    "    \n",
    "    cb.fit(tr_x, tr_y, eval_set = [(tr_x, tr_y), (val_x, val_y)], early_stopping_rounds = 1000, verbose = 0)\n",
    "    pred = cb.predict(val_x)\n",
    "    f1 = f1_score(val_y, pred, average = 'macro')\n",
    "    cb_f1.append(f1)\n",
    "    print(f'{i + 1} Fold F1 = {f1}')\n",
    "    i += 1\n",
    "    \n",
    "    pred = cb.predict_proba(target)[:, 1] / skf.n_splits\n",
    "    cb_g += pred\n",
    "print(f'\\n{cb.__class__.__name__} AVG of F1 = {np.mean(cb_f1)}')"
   ]
  },
  {
   "cell_type": "markdown",
   "id": "8cdd2220",
   "metadata": {},
   "source": [
    "### DF"
   ]
  },
  {
   "cell_type": "code",
   "execution_count": 406,
   "id": "7845fa60",
   "metadata": {},
   "outputs": [],
   "source": [
    "d = train[train['Position_Category'] == 2]"
   ]
  },
  {
   "cell_type": "code",
   "execution_count": 407,
   "id": "8a5b050b",
   "metadata": {},
   "outputs": [],
   "source": [
    "te_d = test[test['Position_Category'] == 2]"
   ]
  },
  {
   "cell_type": "code",
   "execution_count": 408,
   "id": "0da3e9e2",
   "metadata": {},
   "outputs": [],
   "source": [
    "d.drop(midfielder_rating + forward_rating + gk_rating, inplace = True, axis = 1)"
   ]
  },
  {
   "cell_type": "code",
   "execution_count": 409,
   "id": "dfc4da11",
   "metadata": {},
   "outputs": [],
   "source": [
    "d['Centrailty'] = d[defense_rating].max(axis = 1) / (d[defense_rating].max(axis = 1) - d[defense_rating].min(axis = 1))"
   ]
  },
  {
   "cell_type": "code",
   "execution_count": 410,
   "id": "faa8dcbe",
   "metadata": {},
   "outputs": [],
   "source": [
    "te_d['Centrailty'] = te_d[forward_rating].max(axis = 1) / (te_d[forward_rating].max(axis = 1) - te_d[forward_rating].min(axis = 1))"
   ]
  },
  {
   "cell_type": "code",
   "execution_count": 411,
   "id": "9aa32257",
   "metadata": {},
   "outputs": [],
   "source": [
    "d.drop(defense_rating + gk_ability, axis = 1, inplace = True)"
   ]
  },
  {
   "cell_type": "code",
   "execution_count": 412,
   "id": "5dc43af0",
   "metadata": {},
   "outputs": [],
   "source": [
    "d['Position'] = le.fit_transform(d['Position'])"
   ]
  },
  {
   "cell_type": "code",
   "execution_count": 413,
   "id": "0abe4032",
   "metadata": {},
   "outputs": [],
   "source": [
    "te_d['Position'] = le.transform(te_d['Position'])"
   ]
  },
  {
   "cell_type": "code",
   "execution_count": 414,
   "id": "0fd1d1ed",
   "metadata": {},
   "outputs": [],
   "source": [
    "X = d.drop(['Prospect', 'Position_Category'], axis = 1)"
   ]
  },
  {
   "cell_type": "code",
   "execution_count": 415,
   "id": "c2291337",
   "metadata": {},
   "outputs": [],
   "source": [
    "y = d['Prospect']"
   ]
  },
  {
   "cell_type": "code",
   "execution_count": 416,
   "id": "c790d625",
   "metadata": {},
   "outputs": [],
   "source": [
    "target = te_d[X.columns]"
   ]
  },
  {
   "cell_type": "code",
   "execution_count": 417,
   "id": "1c65e969",
   "metadata": {},
   "outputs": [
    {
     "name": "stdout",
     "output_type": "stream",
     "text": [
      "1 Fold F1 = 0.8649165983046212\n",
      "2 Fold F1 = 0.7821354383049439\n",
      "3 Fold F1 = 0.7904411764705883\n",
      "4 Fold F1 = 0.6998946998946999\n",
      "5 Fold F1 = 0.7600849256900212\n",
      "6 Fold F1 = 0.8527550260610574\n",
      "7 Fold F1 = 0.7931665649786455\n",
      "8 Fold F1 = 0.8665152203543844\n",
      "\n",
      "CatBoostClassifier AVG of F1 = 0.8012387062573703\n"
     ]
    }
   ],
   "source": [
    "cb_f1 = []\n",
    "i = 0\n",
    "cb_d = np.zeros((target.shape[0]))\n",
    "for tr_idx, val_idx in skf.split(X, y) :\n",
    "    \n",
    "    tr_x, tr_y = X.iloc[tr_idx], y.iloc[tr_idx]\n",
    "    val_x, val_y = X.iloc[val_idx], y.iloc[val_idx]\n",
    "    \n",
    "    cb = CatBoostClassifier(random_state = 42, max_depth = 5, learning_rate = 0.03, n_estimators = 5000, eval_metric = 'F1')\n",
    "    \n",
    "    cb.fit(tr_x, tr_y, eval_set = [(tr_x, tr_y), (val_x, val_y)], early_stopping_rounds = 1000, verbose = 0)\n",
    "    pred = cb.predict(val_x)\n",
    "    f1 = f1_score(val_y, pred, average = 'macro')\n",
    "    cb_f1.append(f1)\n",
    "    print(f'{i + 1} Fold F1 = {f1}')\n",
    "    i += 1\n",
    "    \n",
    "    pred = cb.predict_proba(target)[:, 1] / skf.n_splits\n",
    "    cb_d += pred\n",
    "print(f'\\n{cb.__class__.__name__} AVG of F1 = {np.mean(cb_f1)}')"
   ]
  },
  {
   "cell_type": "code",
   "execution_count": 391,
   "id": "ed4ef377",
   "metadata": {},
   "outputs": [
    {
     "name": "stdout",
     "output_type": "stream",
     "text": [
      "1 Fold F1 = 0.8556962025316455\n",
      "2 Fold F1 = 0.7744904102519996\n",
      "3 Fold F1 = 0.7780661907852044\n",
      "4 Fold F1 = 0.7111486486486486\n",
      "5 Fold F1 = 0.7638346206269877\n",
      "6 Fold F1 = 0.836940836940837\n",
      "7 Fold F1 = 0.8215789473684212\n",
      "8 Fold F1 = 0.8665152203543844\n",
      "\n",
      "CatBoostClassifier AVG of F1 = 0.801033884688516\n"
     ]
    }
   ],
   "source": [
    "cb_f1 = []\n",
    "i = 0\n",
    "cb_d = np.zeros((target.shape[0]))\n",
    "for tr_idx, val_idx in skf.split(X, y) :\n",
    "    \n",
    "    tr_x, tr_y = X.iloc[tr_idx], y.iloc[tr_idx]\n",
    "    val_x, val_y = X.iloc[val_idx], y.iloc[val_idx]\n",
    "    \n",
    "    cb = CatBoostClassifier(random_state = 42, max_depth = 6, learning_rate = 0.03, n_estimators = 5000, eval_metric = 'F1')\n",
    "    \n",
    "    cb.fit(tr_x, tr_y, eval_set = [(tr_x, tr_y), (val_x, val_y)], early_stopping_rounds = 1000, verbose = 0)\n",
    "    pred = cb.predict(val_x)\n",
    "    f1 = f1_score(val_y, pred, average = 'macro')\n",
    "    cb_f1.append(f1)\n",
    "    print(f'{i + 1} Fold F1 = {f1}')\n",
    "    i += 1\n",
    "    \n",
    "    pred = cb.predict_proba(target)[:, 1] / skf.n_splits\n",
    "    cb_d += pred\n",
    "print(f'\\n{cb.__class__.__name__} AVG of F1 = {np.mean(cb_f1)}')"
   ]
  },
  {
   "cell_type": "code",
   "execution_count": 392,
   "id": "843ad9e3",
   "metadata": {},
   "outputs": [],
   "source": [
    "submission = pd.read_csv('sample_submission.csv')"
   ]
  },
  {
   "cell_type": "code",
   "execution_count": 400,
   "id": "1ec518cd",
   "metadata": {},
   "outputs": [],
   "source": [
    "submission.loc[test[test['Position_Category'] == 4].index, 'Prospect'] = cb_f\n",
    "submission.loc[test[test['Position_Category'] == 1].index, 'Prospect'] = cb_m\n",
    "submission.loc[test[test['Position_Category'] == 3].index, 'Prospect'] = cb_g\n",
    "submission.loc[test[test['Position_Category'] == 2].index, 'Prospect'] = cb_d"
   ]
  },
  {
   "cell_type": "code",
   "execution_count": 402,
   "id": "a2708679",
   "metadata": {},
   "outputs": [],
   "source": [
    "submission['Prospect'] = np.where(submission['Prospect'] >= 0.5, 1, 0)"
   ]
  },
  {
   "cell_type": "code",
   "execution_count": 404,
   "id": "62157a4e",
   "metadata": {},
   "outputs": [
    {
     "data": {
      "text/plain": [
       "0    1069\n",
       "1     557\n",
       "Name: Prospect, dtype: int64"
      ]
     },
     "execution_count": 404,
     "metadata": {},
     "output_type": "execute_result"
    }
   ],
   "source": [
    "submission['Prospect'].value_counts()"
   ]
  },
  {
   "cell_type": "code",
   "execution_count": 405,
   "id": "2bee8939",
   "metadata": {},
   "outputs": [],
   "source": [
    "submission.to_csv('baseline.csv', index = False)"
   ]
  }
 ],
 "metadata": {
  "kernelspec": {
   "display_name": "Python 3",
   "language": "python",
   "name": "python3"
  },
  "language_info": {
   "codemirror_mode": {
    "name": "ipython",
    "version": 3
   },
   "file_extension": ".py",
   "mimetype": "text/x-python",
   "name": "python",
   "nbconvert_exporter": "python",
   "pygments_lexer": "ipython3",
   "version": "3.8.8"
  }
 },
 "nbformat": 4,
 "nbformat_minor": 5
}
