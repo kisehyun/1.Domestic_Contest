{
 "cells": [
  {
   "cell_type": "code",
   "execution_count": 1,
   "id": "134d5055",
   "metadata": {},
   "outputs": [],
   "source": [
    "import pandas as pd\n",
    "import numpy as np\n",
    "\n",
    "import warnings\n",
    "warnings.filterwarnings('ignore')"
   ]
  },
  {
   "cell_type": "code",
   "execution_count": 2,
   "id": "419c6fc0",
   "metadata": {},
   "outputs": [],
   "source": [
    "train = pd.read_csv('train.csv')\n",
    "test = pd.read_csv('test.csv')"
   ]
  },
  {
   "cell_type": "code",
   "execution_count": 3,
   "id": "23652e62",
   "metadata": {},
   "outputs": [],
   "source": [
    "from sklearn.preprocessing import LabelEncoder"
   ]
  },
  {
   "cell_type": "code",
   "execution_count": 4,
   "id": "d73516ff",
   "metadata": {},
   "outputs": [],
   "source": [
    "le = LabelEncoder()"
   ]
  },
  {
   "cell_type": "code",
   "execution_count": 5,
   "id": "db298b2d",
   "metadata": {},
   "outputs": [],
   "source": [
    "train['Position'] = le.fit_transform(train['Position'])\n",
    "test['Position'] = le.transform(test['Position'])"
   ]
  },
  {
   "cell_type": "code",
   "execution_count": 6,
   "id": "6487f638",
   "metadata": {},
   "outputs": [],
   "source": [
    "train['PreferredFoot'] = le.fit_transform(train['PreferredFoot'])\n",
    "test['PreferredFoot'] = le.transform(test['PreferredFoot'])"
   ]
  },
  {
   "cell_type": "code",
   "execution_count": 7,
   "id": "c572d74f",
   "metadata": {},
   "outputs": [],
   "source": [
    "train['AttackingWorkRate'] = le.fit_transform(train['AttackingWorkRate'])\n",
    "test['AttackingWorkRate'] = le.transform(test['AttackingWorkRate'])"
   ]
  },
  {
   "cell_type": "code",
   "execution_count": 8,
   "id": "8ca066aa",
   "metadata": {},
   "outputs": [],
   "source": [
    "train['DefensiveWorkRate'] = le.fit_transform(train['DefensiveWorkRate'])\n",
    "test['DefensiveWorkRate'] = le.transform(test['DefensiveWorkRate'])"
   ]
  },
  {
   "cell_type": "code",
   "execution_count": 9,
   "id": "569d9341",
   "metadata": {},
   "outputs": [],
   "source": [
    "from torch.utils.data import TensorDataset, DataLoader"
   ]
  },
  {
   "cell_type": "code",
   "execution_count": 10,
   "id": "e3a91677",
   "metadata": {},
   "outputs": [],
   "source": [
    "import torch"
   ]
  },
  {
   "cell_type": "code",
   "execution_count": 11,
   "id": "94fcbfa6",
   "metadata": {},
   "outputs": [],
   "source": [
    "X = torch.tensor(train.iloc[:, 1:-1].values, dtype = torch.float32)"
   ]
  },
  {
   "cell_type": "code",
   "execution_count": 12,
   "id": "1162f45f",
   "metadata": {},
   "outputs": [],
   "source": [
    "y = torch.tensor(train['Prospect'], dtype = torch.float32)"
   ]
  },
  {
   "cell_type": "code",
   "execution_count": 13,
   "id": "39755caa",
   "metadata": {},
   "outputs": [],
   "source": [
    "target = torch.tensor(test.iloc[:, 1:].values, dtype = torch.float32)"
   ]
  },
  {
   "cell_type": "code",
   "execution_count": 14,
   "id": "c74f2c9b",
   "metadata": {},
   "outputs": [],
   "source": [
    "from sklearn.model_selection import StratifiedKFold"
   ]
  },
  {
   "cell_type": "code",
   "execution_count": 15,
   "id": "dfe2e57a",
   "metadata": {},
   "outputs": [],
   "source": [
    "from tqdm import tqdm_notebook"
   ]
  },
  {
   "cell_type": "code",
   "execution_count": 16,
   "id": "882e72e5",
   "metadata": {},
   "outputs": [],
   "source": [
    "skf = StratifiedKFold(n_splits = 6, random_state = 42, shuffle = True)"
   ]
  },
  {
   "cell_type": "code",
   "execution_count": 17,
   "id": "82a3cfff",
   "metadata": {},
   "outputs": [],
   "source": [
    "import torch.nn as nn"
   ]
  },
  {
   "cell_type": "code",
   "execution_count": 18,
   "id": "c6c7cddb",
   "metadata": {},
   "outputs": [],
   "source": [
    "import torch.optim as optim"
   ]
  },
  {
   "cell_type": "code",
   "execution_count": 19,
   "id": "3bbe0d92",
   "metadata": {},
   "outputs": [],
   "source": [
    "class Prospect_Net(nn.Module) :\n",
    "    \n",
    "    def __init__(self) :\n",
    "        super(Prospect_Net, self).__init__()\n",
    "        self.layer_1 = nn.Linear(64, 256)\n",
    "        self.relu_1 = nn.LeakyReLU()\n",
    "        self.layer_2 = nn.Linear(256, 128)\n",
    "        self.bn_1 = nn.BatchNorm1d(128)\n",
    "        self.relu_2 = nn.LeakyReLU()\n",
    "        self.layer_3 = nn.Linear(128, 32)\n",
    "        self.do_1 = nn.Dropout(0.2)\n",
    "        self.relu_3 = nn.LeakyReLU()\n",
    "        self.layer_4 = nn.Linear(32, 1)\n",
    "    def forward(self, x) :\n",
    "        \n",
    "        x = self.layer_1(x)\n",
    "        x = self.relu_1(x)\n",
    "        x = self.layer_2(x)\n",
    "        x = self.relu_2(x)\n",
    "        x = self.bn_1(x)\n",
    "        x = self.layer_3(x)\n",
    "        x = self.do_1(x)\n",
    "        x = self.relu_3(x)\n",
    "        x = self.layer_4(x)\n",
    "        return x"
   ]
  },
  {
   "cell_type": "code",
   "execution_count": 20,
   "id": "646bbb49",
   "metadata": {},
   "outputs": [],
   "source": [
    "device = 'cuda' if torch.cuda.is_available() else 'cpu'"
   ]
  },
  {
   "cell_type": "code",
   "execution_count": 21,
   "id": "0eac8934",
   "metadata": {},
   "outputs": [],
   "source": [
    "criterion = nn.BCEWithLogitsLoss()"
   ]
  },
  {
   "cell_type": "code",
   "execution_count": 22,
   "id": "4b8a4b8f",
   "metadata": {},
   "outputs": [],
   "source": [
    "from sklearn.metrics import f1_score"
   ]
  },
  {
   "cell_type": "code",
   "execution_count": 23,
   "id": "c603ffaa",
   "metadata": {},
   "outputs": [],
   "source": [
    "nn_pred = np.zeros((target.shape[0], ))"
   ]
  },
  {
   "cell_type": "code",
   "execution_count": 24,
   "id": "fd1c02fe",
   "metadata": {
    "scrolled": true
   },
   "outputs": [
    {
     "data": {
      "application/vnd.jupyter.widget-view+json": {
       "model_id": "e68a26cf2c464558800fd712f91d2486",
       "version_major": 2,
       "version_minor": 0
      },
      "text/plain": [
       "0it [00:00, ?it/s]"
      ]
     },
     "metadata": {},
     "output_type": "display_data"
    },
    {
     "name": "stdout",
     "output_type": "stream",
     "text": [
      "Fold 1...!\n",
      "1 Epoch Train Loss : 7.4223 Val Loss : 0.8097 Val F1 : 0.4255 Best Score : 0.4255\n",
      "2 Epoch Train Loss : 6.4392 Val Loss : 0.9142 Val F1 : 0.2723 Best Score : 0.4255\n",
      "3 Epoch Train Loss : 6.3896 Val Loss : 0.7462 Val F1 : 0.6978 Best Score : 0.6978\n",
      "4 Epoch Train Loss : 6.0634 Val Loss : 0.69 Val F1 : 0.7053 Best Score : 0.7053\n",
      "5 Epoch Train Loss : 6.1066 Val Loss : 0.7484 Val F1 : 0.6587 Best Score : 0.7053\n",
      "6 Epoch Train Loss : 6.2239 Val Loss : 0.7455 Val F1 : 0.6527 Best Score : 0.7053\n",
      "7 Epoch Train Loss : 6.0356 Val Loss : 0.7441 Val F1 : 0.6959 Best Score : 0.7053\n",
      "8 Epoch Train Loss : 6.1333 Val Loss : 0.6813 Val F1 : 0.7248 Best Score : 0.7248\n",
      "9 Epoch Train Loss : 6.0597 Val Loss : 0.7125 Val F1 : 0.725 Best Score : 0.725\n",
      "10 Epoch Train Loss : 6.0242 Val Loss : 0.725 Val F1 : 0.7324 Best Score : 0.7324\n",
      "11 Epoch Train Loss : 6.0559 Val Loss : 0.7526 Val F1 : 0.6567 Best Score : 0.7324\n",
      "12 Epoch Train Loss : 5.9771 Val Loss : 0.6721 Val F1 : 0.6562 Best Score : 0.7324\n",
      "13 Epoch Train Loss : 6.056 Val Loss : 0.8732 Val F1 : 0.2994 Best Score : 0.7324\n",
      "14 Epoch Train Loss : 5.9848 Val Loss : 0.6767 Val F1 : 0.6493 Best Score : 0.7324\n",
      "Early Stopping...\n",
      "\n",
      "\n",
      "Fold 2...!\n",
      "1 Epoch Train Loss : 7.4124 Val Loss : 0.6773 Val F1 : 0.4983 Best Score : 0.4983\n",
      "2 Epoch Train Loss : 6.4292 Val Loss : 0.8985 Val F1 : 0.2784 Best Score : 0.4983\n",
      "3 Epoch Train Loss : 6.5217 Val Loss : 0.6866 Val F1 : 0.4022 Best Score : 0.4983\n",
      "4 Epoch Train Loss : 6.312 Val Loss : 0.7084 Val F1 : 0.7548 Best Score : 0.7548\n",
      "5 Epoch Train Loss : 6.201 Val Loss : 0.7022 Val F1 : 0.7497 Best Score : 0.7548\n",
      "6 Epoch Train Loss : 6.1264 Val Loss : 0.6732 Val F1 : 0.7227 Best Score : 0.7548\n",
      "7 Epoch Train Loss : 6.1678 Val Loss : 0.6947 Val F1 : 0.7645 Best Score : 0.7645\n",
      "8 Epoch Train Loss : 6.0785 Val Loss : 0.6643 Val F1 : 0.7099 Best Score : 0.7645\n",
      "9 Epoch Train Loss : 5.9891 Val Loss : 0.715 Val F1 : 0.7425 Best Score : 0.7645\n",
      "10 Epoch Train Loss : 6.0737 Val Loss : 0.6927 Val F1 : 0.7422 Best Score : 0.7645\n",
      "11 Epoch Train Loss : 6.1393 Val Loss : 0.6805 Val F1 : 0.4474 Best Score : 0.7645\n",
      "Early Stopping...\n",
      "\n",
      "\n",
      "Fold 3...!\n",
      "1 Epoch Train Loss : 7.6033 Val Loss : 0.689 Val F1 : 0.4022 Best Score : 0.4022\n",
      "2 Epoch Train Loss : 6.3845 Val Loss : 0.8909 Val F1 : 0.2681 Best Score : 0.4022\n",
      "3 Epoch Train Loss : 6.3971 Val Loss : 0.6872 Val F1 : 0.3963 Best Score : 0.4022\n",
      "4 Epoch Train Loss : 6.2838 Val Loss : 0.7252 Val F1 : 0.7275 Best Score : 0.7275\n",
      "5 Epoch Train Loss : 6.1831 Val Loss : 0.6756 Val F1 : 0.7063 Best Score : 0.7275\n",
      "6 Epoch Train Loss : 6.3436 Val Loss : 0.6868 Val F1 : 0.3903 Best Score : 0.7275\n",
      "7 Epoch Train Loss : 6.1131 Val Loss : 0.7245 Val F1 : 0.7369 Best Score : 0.7369\n",
      "8 Epoch Train Loss : 6.0559 Val Loss : 0.6849 Val F1 : 0.7105 Best Score : 0.7369\n",
      "9 Epoch Train Loss : 6.1822 Val Loss : 0.835 Val F1 : 0.3203 Best Score : 0.7369\n",
      "10 Epoch Train Loss : 6.1441 Val Loss : 0.7481 Val F1 : 0.666 Best Score : 0.7369\n",
      "11 Epoch Train Loss : 6.03 Val Loss : 0.6983 Val F1 : 0.7668 Best Score : 0.7668\n",
      "12 Epoch Train Loss : 6.1438 Val Loss : 0.6762 Val F1 : 0.7328 Best Score : 0.7668\n",
      "13 Epoch Train Loss : 6.0469 Val Loss : 0.7454 Val F1 : 0.6932 Best Score : 0.7668\n",
      "14 Epoch Train Loss : 6.1751 Val Loss : 0.6783 Val F1 : 0.7491 Best Score : 0.7668\n",
      "15 Epoch Train Loss : 6.0873 Val Loss : 0.6765 Val F1 : 0.4792 Best Score : 0.7668\n",
      "Early Stopping...\n",
      "\n",
      "\n",
      "Fold 4...!\n",
      "1 Epoch Train Loss : 7.3025 Val Loss : 0.6809 Val F1 : 0.6678 Best Score : 0.6678\n",
      "2 Epoch Train Loss : 6.4056 Val Loss : 0.6889 Val F1 : 0.3896 Best Score : 0.6678\n",
      "3 Epoch Train Loss : 6.3284 Val Loss : 0.7929 Val F1 : 0.423 Best Score : 0.6678\n",
      "4 Epoch Train Loss : 6.2518 Val Loss : 0.7577 Val F1 : 0.672 Best Score : 0.672\n",
      "5 Epoch Train Loss : 5.9956 Val Loss : 0.6755 Val F1 : 0.7075 Best Score : 0.7075\n",
      "6 Epoch Train Loss : 6.1994 Val Loss : 0.722 Val F1 : 0.7161 Best Score : 0.7161\n",
      "7 Epoch Train Loss : 6.2134 Val Loss : 0.7884 Val F1 : 0.5767 Best Score : 0.7161\n",
      "8 Epoch Train Loss : 6.0802 Val Loss : 0.6876 Val F1 : 0.6999 Best Score : 0.7161\n",
      "9 Epoch Train Loss : 6.0503 Val Loss : 0.7982 Val F1 : 0.537 Best Score : 0.7161\n",
      "10 Epoch Train Loss : 6.0997 Val Loss : 0.6901 Val F1 : 0.7558 Best Score : 0.7558\n",
      "11 Epoch Train Loss : 6.0684 Val Loss : 0.7142 Val F1 : 0.7491 Best Score : 0.7558\n",
      "12 Epoch Train Loss : 6.0257 Val Loss : 0.6747 Val F1 : 0.4847 Best Score : 0.7558\n",
      "13 Epoch Train Loss : 6.1253 Val Loss : 0.6937 Val F1 : 0.7514 Best Score : 0.7558\n",
      "14 Epoch Train Loss : 6.0696 Val Loss : 0.6794 Val F1 : 0.735 Best Score : 0.7558\n",
      "Early Stopping...\n",
      "\n",
      "\n",
      "Fold 5...!\n",
      "1 Epoch Train Loss : 7.4462 Val Loss : 0.6893 Val F1 : 0.3955 Best Score : 0.3955\n",
      "2 Epoch Train Loss : 6.5025 Val Loss : 0.9149 Val F1 : 0.2657 Best Score : 0.3955\n",
      "3 Epoch Train Loss : 6.2884 Val Loss : 0.6904 Val F1 : 0.3955 Best Score : 0.3955\n",
      "4 Epoch Train Loss : 6.4531 Val Loss : 0.7014 Val F1 : 0.719 Best Score : 0.719\n",
      "5 Epoch Train Loss : 6.2069 Val Loss : 0.6726 Val F1 : 0.5078 Best Score : 0.719\n",
      "6 Epoch Train Loss : 6.1214 Val Loss : 0.6754 Val F1 : 0.7584 Best Score : 0.7584\n",
      "7 Epoch Train Loss : 6.1927 Val Loss : 0.6745 Val F1 : 0.7606 Best Score : 0.7606\n",
      "8 Epoch Train Loss : 6.1629 Val Loss : 0.6719 Val F1 : 0.5091 Best Score : 0.7606\n",
      "9 Epoch Train Loss : 6.0428 Val Loss : 0.6838 Val F1 : 0.4464 Best Score : 0.7606\n",
      "10 Epoch Train Loss : 6.1488 Val Loss : 0.7058 Val F1 : 0.7617 Best Score : 0.7617\n",
      "11 Epoch Train Loss : 6.1118 Val Loss : 0.7507 Val F1 : 0.6756 Best Score : 0.7617\n",
      "12 Epoch Train Loss : 6.0821 Val Loss : 0.664 Val F1 : 0.6698 Best Score : 0.7617\n",
      "13 Epoch Train Loss : 6.2273 Val Loss : 0.6703 Val F1 : 0.6092 Best Score : 0.7617\n",
      "14 Epoch Train Loss : 6.0136 Val Loss : 0.7036 Val F1 : 0.7262 Best Score : 0.7617\n",
      "Early Stopping...\n",
      "\n",
      "\n",
      "Fold 6...!\n",
      "1 Epoch Train Loss : 7.4582 Val Loss : 0.6931 Val F1 : 0.3896 Best Score : 0.3896\n",
      "2 Epoch Train Loss : 6.4991 Val Loss : 0.7283 Val F1 : 0.7094 Best Score : 0.7094\n",
      "3 Epoch Train Loss : 6.3056 Val Loss : 0.8256 Val F1 : 0.3449 Best Score : 0.7094\n",
      "4 Epoch Train Loss : 6.2262 Val Loss : 0.6688 Val F1 : 0.6341 Best Score : 0.7094\n",
      "5 Epoch Train Loss : 6.1226 Val Loss : 0.6839 Val F1 : 0.4225 Best Score : 0.7094\n",
      "6 Epoch Train Loss : 6.0918 Val Loss : 0.6785 Val F1 : 0.7063 Best Score : 0.7094\n",
      "7 Epoch Train Loss : 6.1485 Val Loss : 0.6722 Val F1 : 0.7153 Best Score : 0.7153\n",
      "8 Epoch Train Loss : 6.0203 Val Loss : 0.711 Val F1 : 0.7421 Best Score : 0.7421\n",
      "9 Epoch Train Loss : 6.087 Val Loss : 0.6823 Val F1 : 0.7728 Best Score : 0.7728\n",
      "10 Epoch Train Loss : 5.9367 Val Loss : 0.7683 Val F1 : 0.6258 Best Score : 0.7728\n",
      "11 Epoch Train Loss : 6.0344 Val Loss : 0.6673 Val F1 : 0.6811 Best Score : 0.7728\n",
      "12 Epoch Train Loss : 6.1183 Val Loss : 0.7689 Val F1 : 0.6246 Best Score : 0.7728\n",
      "13 Epoch Train Loss : 6.0449 Val Loss : 0.664 Val F1 : 0.6508 Best Score : 0.7728\n",
      "Early Stopping...\n",
      "\n",
      "\n"
     ]
    }
   ],
   "source": [
    "for i, (tr_idx, val_idx) in enumerate(tqdm_notebook(skf.split(X, y))) :\n",
    "    \n",
    "    tr_x, tr_y = X[tr_idx], y[tr_idx]\n",
    "    val_x, val_y = X[val_idx], y[val_idx]\n",
    "    \n",
    "    tr_loader = DataLoader(TensorDataset(tr_x, tr_y), shuffle = True, drop_last = True, batch_size = 32)\n",
    "    val_loader = DataLoader(TensorDataset(val_x, val_y), shuffle = False, drop_last = False, batch_size = 32)\n",
    "    te_loader = DataLoader(TensorDataset(target, torch.zeros((target.shape[0], ), dtype = torch.float32)), shuffle = False, drop_last = False, batch_size = 32)\n",
    "    \n",
    "    model = Prospect_Net().to(device)\n",
    "    adam = optim.AdamW(model.parameters(), lr = 0.003)\n",
    "    \n",
    "    score_standard = 0\n",
    "    patience = [0] * 5\n",
    "    \n",
    "    print(f\"Fold {i + 1}...!\")\n",
    "    \n",
    "    for epoch in range(20) :\n",
    "        \n",
    "        model.train()\n",
    "        tr_loss = 0\n",
    "        \n",
    "        for idx, (xx, yy) in enumerate(tr_loader) :\n",
    "\n",
    "            xx, yy = xx.to(device), yy.to(device)\n",
    "            adam.zero_grad()\n",
    "            pred = model(xx).squeeze()\n",
    "            \n",
    "            loss = criterion(pred, yy)\n",
    "            loss.backward()\n",
    "            tr_loss += loss.item() / skf.n_splits\n",
    "\n",
    "            adam.step()\n",
    "            \n",
    "        with torch.no_grad() :\n",
    "            \n",
    "            model.eval()\n",
    "            \n",
    "            val_loss = 0\n",
    "            \n",
    "            predictions = []\n",
    "            actuals = []\n",
    "            \n",
    "            for xx, yy in val_loader :\n",
    "                \n",
    "                xx, yy = xx.to(device), yy.to(device)\n",
    "                pred = torch.sigmoid(model(xx).squeeze())\n",
    "                loss = criterion(pred, yy)\n",
    "                val_loss += loss.item()\n",
    "                \n",
    "                predictions += [1 if p >= 0.47 else 0 for p in pred]\n",
    "                actuals += yy.tolist()\n",
    "                \n",
    "            score = f1_score(actuals, predictions, average = 'macro')\n",
    "            val_loss /= len(val_loader)\n",
    "            \n",
    "            if score > score_standard :\n",
    "                \n",
    "                score_standard = score\n",
    "                patience.append(0)\n",
    "                torch.save(model.state_dict(), f'best_model_{len(patience) - 5}.pth')\n",
    "                fold_pred = []\n",
    "                \n",
    "                for idx, (xx, _) in enumerate(te_loader) :\n",
    "                    \n",
    "                    xx = xx.to(device)\n",
    "                    pred = torch.sigmoid(model(xx).squeeze()) / skf.n_splits\n",
    "                    fold_pred += pred.tolist()\n",
    "            else :\n",
    "                patience.append(1)\n",
    "                \n",
    "            if patience[-5:] == [1] * 5 :\n",
    "                \n",
    "                print(f'Early Stopping...')\n",
    "                break\n",
    "                \n",
    "        print(f\"{epoch + 1} Epoch Train Loss : {round(tr_loss, 4)} Val Loss : {round(val_loss, 4)} Val F1 : {round(score, 4)} Best Score : {round(score_standard, 4)}\")\n",
    "    nn_pred += fold_pred\n",
    "            \n",
    "        \n",
    "    print('\\n')"
   ]
  },
  {
   "cell_type": "code",
   "execution_count": 25,
   "id": "8f5e406d",
   "metadata": {},
   "outputs": [],
   "source": [
    "submission = pd.read_csv('sample_submission.csv')"
   ]
  },
  {
   "cell_type": "code",
   "execution_count": 26,
   "id": "8249f920",
   "metadata": {},
   "outputs": [],
   "source": [
    "submission['Prospect'] = [1 if p >= 0.5 else 0 for p in nn_pred]"
   ]
  },
  {
   "cell_type": "code",
   "execution_count": 27,
   "id": "7db7efc1",
   "metadata": {},
   "outputs": [],
   "source": [
    "submission.to_csv('nn.csv', index = False)"
   ]
  }
 ],
 "metadata": {
  "kernelspec": {
   "display_name": "Python 3 (ipykernel)",
   "language": "python",
   "name": "python3"
  },
  "language_info": {
   "codemirror_mode": {
    "name": "ipython",
    "version": 3
   },
   "file_extension": ".py",
   "mimetype": "text/x-python",
   "name": "python",
   "nbconvert_exporter": "python",
   "pygments_lexer": "ipython3",
   "version": "3.9.7"
  }
 },
 "nbformat": 4,
 "nbformat_minor": 5
}
