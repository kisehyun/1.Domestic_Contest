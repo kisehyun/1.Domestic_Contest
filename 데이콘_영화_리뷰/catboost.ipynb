{
 "cells": [
  {
   "cell_type": "code",
   "execution_count": 182,
   "id": "e1e32720",
   "metadata": {},
   "outputs": [],
   "source": [
    "import pandas as pd\n",
    "import numpy as np"
   ]
  },
  {
   "cell_type": "code",
   "execution_count": 76,
   "id": "7416735e",
   "metadata": {},
   "outputs": [],
   "source": [
    "train = pd.read_csv('train.csv')"
   ]
  },
  {
   "cell_type": "code",
   "execution_count": 77,
   "id": "93ee6966",
   "metadata": {},
   "outputs": [],
   "source": [
    "test = pd.read_csv('test.csv')"
   ]
  },
  {
   "cell_type": "code",
   "execution_count": 78,
   "id": "1b14ccff",
   "metadata": {},
   "outputs": [],
   "source": [
    "from konlpy.tag import Mecab"
   ]
  },
  {
   "cell_type": "code",
   "execution_count": 18,
   "id": "2f90a889",
   "metadata": {},
   "outputs": [],
   "source": [
    "mc = Mecab()"
   ]
  },
  {
   "cell_type": "code",
   "execution_count": 138,
   "id": "f16cb3fe",
   "metadata": {},
   "outputs": [],
   "source": [
    "def mecab_pos_process(data) :\n",
    "    pos_list = []\n",
    "    pos_token = []\n",
    "    \n",
    "    for doc in data['document'] :\n",
    "        doc_pos = mc.pos(doc)\n",
    "        poss = ''\n",
    "        for pos in doc_pos :\n",
    "            if pos[1].startswith('V') or pos[1].startswith('N') or pos[1].startswith('MA'):\n",
    "                poss += f' {pos[0]}'\n",
    "            else :\n",
    "                pass\n",
    "        pos_token.append(poss[1:])\n",
    "            \n",
    "    data['pos_token'] = pos_token\n",
    "    return data"
   ]
  },
  {
   "cell_type": "code",
   "execution_count": 218,
   "id": "08c34272",
   "metadata": {},
   "outputs": [],
   "source": [
    "train = mecab_pos_process(train)\n",
    "test = mecab_pos_process(test)"
   ]
  },
  {
   "cell_type": "code",
   "execution_count": 219,
   "id": "08992519",
   "metadata": {},
   "outputs": [],
   "source": [
    "train['document'] = train.document.str.replace('ㅡㅡ', '화남')\n",
    "test['document'] = test.document.str.replace('ㅡㅡ', '화남')"
   ]
  },
  {
   "cell_type": "code",
   "execution_count": 220,
   "id": "98d225df",
   "metadata": {},
   "outputs": [],
   "source": [
    "train['cnt'] = [mc.morphs(text) for text in train['document']]"
   ]
  },
  {
   "cell_type": "code",
   "execution_count": 221,
   "id": "e34db4bb",
   "metadata": {},
   "outputs": [],
   "source": [
    "from sklearn.feature_extraction.text import TfidfVectorizer"
   ]
  },
  {
   "cell_type": "code",
   "execution_count": 222,
   "id": "83347f8b",
   "metadata": {},
   "outputs": [],
   "source": [
    "tfidf = TfidfVectorizer(max_features = 1500, lowercase = False)"
   ]
  },
  {
   "cell_type": "code",
   "execution_count": 223,
   "id": "ccba435e",
   "metadata": {},
   "outputs": [],
   "source": [
    "tfidf_vect = tfidf.fit_transform(train['pos_token'])"
   ]
  },
  {
   "cell_type": "code",
   "execution_count": 224,
   "id": "f6eb4b49",
   "metadata": {},
   "outputs": [],
   "source": [
    "tr_result = pd.DataFrame(tfidf_vect.todense(), columns = tfidf.get_feature_names())"
   ]
  },
  {
   "cell_type": "code",
   "execution_count": 225,
   "id": "7ae189e2",
   "metadata": {},
   "outputs": [],
   "source": [
    "te_result = pd.DataFrame(tfidf.transform(test['pos_token']).todense(), columns = tfidf.get_feature_names())"
   ]
  },
  {
   "cell_type": "code",
   "execution_count": 226,
   "id": "95f89a17",
   "metadata": {},
   "outputs": [],
   "source": [
    "from sklearn.model_selection import StratifiedKFold\n",
    "from sklearn.metrics import accuracy_score\n",
    "from sklearn.ensemble import RandomForestClassifier\n",
    "from lightgbm import LGBMClassifier\n",
    "from catboost import CatBoostClassifier, Pool"
   ]
  },
  {
   "cell_type": "code",
   "execution_count": 227,
   "id": "9f2b4be5",
   "metadata": {},
   "outputs": [],
   "source": [
    "y = train.label"
   ]
  },
  {
   "cell_type": "code",
   "execution_count": 228,
   "id": "9a9cc27c",
   "metadata": {},
   "outputs": [],
   "source": [
    "skf = StratifiedKFold(n_splits = 10, random_state = 42, shuffle = True)"
   ]
  },
  {
   "cell_type": "code",
   "execution_count": 230,
   "id": "102e6aac",
   "metadata": {},
   "outputs": [
    {
     "name": "stderr",
     "output_type": "stream",
     "text": [
      "Custom logger is already specified. Specify more than one logger at same time is not thread safe."
     ]
    },
    {
     "name": "stdout",
     "output_type": "stream",
     "text": [
      "0:\tlearn: 0.6730334\ttest: 0.6716686\tbest: 0.6716686 (0)\ttotal: 7.55ms\tremaining: 22.7s\n",
      "1000:\tlearn: 0.2102869\ttest: 0.4280185\tbest: 0.4263824 (827)\ttotal: 8.27s\tremaining: 16.5s\n",
      "Stopped by overfitting detector  (500 iterations wait)\n",
      "\n",
      "bestTest = 0.4263824321\n",
      "bestIteration = 827\n",
      "\n",
      "Shrink model to first 828 iterations.\n",
      "1FOLD ACC = 0.778\n",
      "\n",
      "0:\tlearn: 0.6736628\ttest: 0.6704995\tbest: 0.6704995 (0)\ttotal: 7.92ms\tremaining: 23.7s\n",
      "1000:\tlearn: 0.2118764\ttest: 0.4260571\tbest: 0.4260483 (947)\ttotal: 8.24s\tremaining: 16.5s\n",
      "Stopped by overfitting detector  (500 iterations wait)\n",
      "\n",
      "bestTest = 0.4251656861\n",
      "bestIteration = 1037\n",
      "\n",
      "Shrink model to first 1038 iterations.\n",
      "2FOLD ACC = 0.796\n",
      "\n",
      "0:\tlearn: 0.6762765\ttest: 0.6775324\tbest: 0.6775324 (0)\ttotal: 8.1ms\tremaining: 24.3s\n",
      "1000:\tlearn: 0.2099441\ttest: 0.4332353\tbest: 0.4313734 (946)\ttotal: 8.25s\tremaining: 16.5s\n",
      "Stopped by overfitting detector  (500 iterations wait)\n",
      "\n",
      "bestTest = 0.431373356\n",
      "bestIteration = 946\n",
      "\n",
      "Shrink model to first 947 iterations.\n",
      "3FOLD ACC = 0.774\n",
      "\n",
      "0:\tlearn: 0.6749588\ttest: 0.6787048\tbest: 0.6787048 (0)\ttotal: 7.93ms\tremaining: 23.8s\n",
      "1000:\tlearn: 0.2104198\ttest: 0.4452006\tbest: 0.4422765 (776)\ttotal: 8.75s\tremaining: 17.5s\n",
      "Stopped by overfitting detector  (500 iterations wait)\n",
      "\n",
      "bestTest = 0.4422764747\n",
      "bestIteration = 776\n",
      "\n",
      "Shrink model to first 777 iterations.\n",
      "4FOLD ACC = 0.792\n",
      "\n",
      "0:\tlearn: 0.6752059\ttest: 0.6704950\tbest: 0.6704950 (0)\ttotal: 7.62ms\tremaining: 22.9s\n",
      "1000:\tlearn: 0.2117633\ttest: 0.4322820\tbest: 0.4263391 (640)\ttotal: 8.51s\tremaining: 17s\n",
      "Stopped by overfitting detector  (500 iterations wait)\n",
      "\n",
      "bestTest = 0.4263391389\n",
      "bestIteration = 640\n",
      "\n",
      "Shrink model to first 641 iterations.\n",
      "5FOLD ACC = 0.788\n",
      "\n",
      "0:\tlearn: 0.6726011\ttest: 0.6726895\tbest: 0.6726895 (0)\ttotal: 7.6ms\tremaining: 22.8s\n",
      "1000:\tlearn: 0.2154248\ttest: 0.3667711\tbest: 0.3667707 (999)\ttotal: 8.44s\tremaining: 16.8s\n",
      "2000:\tlearn: 0.1434290\ttest: 0.3595367\tbest: 0.3576611 (1704)\ttotal: 16.7s\tremaining: 8.32s\n",
      "Stopped by overfitting detector  (500 iterations wait)\n",
      "\n",
      "bestTest = 0.3576611296\n",
      "bestIteration = 1704\n",
      "\n",
      "Shrink model to first 1705 iterations.\n",
      "6FOLD ACC = 0.834\n",
      "\n",
      "0:\tlearn: 0.6722293\ttest: 0.6755053\tbest: 0.6755053 (0)\ttotal: 7.58ms\tremaining: 22.7s\n",
      "1000:\tlearn: 0.2096942\ttest: 0.4349041\tbest: 0.4344335 (999)\ttotal: 9.09s\tremaining: 18.1s\n",
      "Stopped by overfitting detector  (500 iterations wait)\n",
      "\n",
      "bestTest = 0.4330481584\n",
      "bestIteration = 1410\n",
      "\n",
      "Shrink model to first 1411 iterations.\n",
      "7FOLD ACC = 0.79\n",
      "\n",
      "0:\tlearn: 0.6744015\ttest: 0.6784223\tbest: 0.6784223 (0)\ttotal: 7.72ms\tremaining: 23.2s\n",
      "1000:\tlearn: 0.2079108\ttest: 0.4831825\tbest: 0.4827701 (579)\ttotal: 8.28s\tremaining: 16.5s\n",
      "Stopped by overfitting detector  (500 iterations wait)\n",
      "\n",
      "bestTest = 0.4827701222\n",
      "bestIteration = 579\n",
      "\n",
      "Shrink model to first 580 iterations.\n",
      "8FOLD ACC = 0.764\n",
      "\n",
      "0:\tlearn: 0.6732126\ttest: 0.6738975\tbest: 0.6738975 (0)\ttotal: 7.98ms\tremaining: 23.9s\n",
      "1000:\tlearn: 0.2089870\ttest: 0.4559381\tbest: 0.4542167 (971)\ttotal: 8.44s\tremaining: 16.8s\n",
      "Stopped by overfitting detector  (500 iterations wait)\n",
      "\n",
      "bestTest = 0.4542166547\n",
      "bestIteration = 971\n",
      "\n",
      "Shrink model to first 972 iterations.\n",
      "9FOLD ACC = 0.776\n",
      "\n",
      "0:\tlearn: 0.6736494\ttest: 0.6756178\tbest: 0.6756178 (0)\ttotal: 8.2ms\tremaining: 24.6s\n",
      "1000:\tlearn: 0.2107567\ttest: 0.4335182\tbest: 0.4312404 (671)\ttotal: 8.77s\tremaining: 17.5s\n",
      "Stopped by overfitting detector  (500 iterations wait)\n",
      "\n",
      "bestTest = 0.430676489\n",
      "bestIteration = 1086\n",
      "\n",
      "Shrink model to first 1087 iterations.\n",
      "10FOLD ACC = 0.804\n",
      "\n",
      "CatBoostClassifier의 10FOLD 평균 정확도는 0.7896000000000001이고 편차는 0.018564482217395657\n"
     ]
    }
   ],
   "source": [
    "cb_acc = []\n",
    "cb_pred = np.zeros(test.shape[0])\n",
    "\n",
    "for i, (tr_idx, val_idx) in enumerate(skf.split(tr_result, y)) :\n",
    "    tr_x, tr_y = tr_result.iloc[tr_idx], y.iloc[tr_idx]\n",
    "    val_x, val_y = tr_result.iloc[val_idx], y.iloc[val_idx]\n",
    "    \n",
    "    tr_data = Pool(data = tr_x, label = tr_y)\n",
    "    val_data = Pool(data = val_x, label = val_y)\n",
    "    \n",
    "    cb = CatBoostClassifier(random_state = 42, n_estimators = 3000, max_depth = 6, learning_rate = 0.1, use_best_model = True)\n",
    "    cb.fit(tr_data, eval_set = val_data, early_stopping_rounds = 500, verbose = 1000)\n",
    "    \n",
    "    val_pred = cb.predict_proba(val_x)[:, 1]\n",
    "    val_cls = [1 if p >= 0.5 else 0 for p in val_pred]\n",
    "    val_acc = accuracy_score(val_y, val_cls)\n",
    "    cb_acc.append(val_acc)\n",
    "    print(f'{i + 1}FOLD ACC = {val_acc}\\n')\n",
    "    \n",
    "    fold_pred = cb.predict_proba(te_result)[:, 1]\n",
    "    cb_pred += (fold_pred / 10)\n",
    "print(f'{cb.__class__.__name__}의 10FOLD 평균 정확도는 {np.mean(cb_acc)}이고 편차는 {np.std(cb_acc)}')"
   ]
  },
  {
   "cell_type": "code",
   "execution_count": 231,
   "id": "206cb55e",
   "metadata": {},
   "outputs": [],
   "source": [
    "submission = pd.read_csv('sample_submission.csv')"
   ]
  },
  {
   "cell_type": "code",
   "execution_count": 232,
   "id": "5336b79d",
   "metadata": {},
   "outputs": [],
   "source": [
    "submission['label'] = [1 if p >= 0.5 else 0 for p in cb_pred]"
   ]
  },
  {
   "cell_type": "code",
   "execution_count": 233,
   "id": "76119ed5",
   "metadata": {},
   "outputs": [
    {
     "data": {
      "text/plain": [
       "0    2770\n",
       "1    2230\n",
       "Name: label, dtype: int64"
      ]
     },
     "execution_count": 233,
     "metadata": {},
     "output_type": "execute_result"
    }
   ],
   "source": [
    "submission.label.value_counts()"
   ]
  },
  {
   "cell_type": "code",
   "execution_count": 202,
   "id": "cd2aacd0",
   "metadata": {},
   "outputs": [],
   "source": [
    "submission.to_csv(\"0110_cb.csv\", index = False)"
   ]
  }
 ],
 "metadata": {
  "kernelspec": {
   "display_name": "Python 3",
   "language": "python",
   "name": "python3"
  },
  "language_info": {
   "codemirror_mode": {
    "name": "ipython",
    "version": 3
   },
   "file_extension": ".py",
   "mimetype": "text/x-python",
   "name": "python",
   "nbconvert_exporter": "python",
   "pygments_lexer": "ipython3",
   "version": "3.8.8"
  }
 },
 "nbformat": 4,
 "nbformat_minor": 5
}
