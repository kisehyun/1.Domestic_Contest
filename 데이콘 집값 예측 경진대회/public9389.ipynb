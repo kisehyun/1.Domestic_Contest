{
 "cells": [
  {
   "cell_type": "code",
   "execution_count": 164,
   "id": "c809ab58",
   "metadata": {},
   "outputs": [],
   "source": [
    "import pandas as pd\n",
    "import numpy as np\n",
    "\n",
    "import warnings\n",
    "warnings.filterwarnings('ignore')"
   ]
  },
  {
   "cell_type": "markdown",
   "id": "501e574d",
   "metadata": {},
   "source": [
    "- id : 데이터 고유 id\n",
    "- OverallQual : 전반적 재료와 마감 품질\n",
    "- YearBuilt : 완공 연도\n",
    "- YearRemodAdd : 리모델링 연도\n",
    "- ExterQual : 외관 재료 품질\n",
    "- BsmtQual : 지하실 높이\n",
    "- TotalBsmtSF : 지하실 면적 \n",
    "- 1stFlrSF : 1층 면적 \n",
    "- GrLivArea : 지상층 생활 면적\n",
    "- FullBath : 지상층 화장실 개수 \n",
    "- KitchenQual : 부억 품질 \n",
    "- GarageYrBlt : 차고 완공 연도\n",
    "- GarageCars: 차고 자리 개수\n",
    "- GarageArea: 차고 면적 \n",
    "- target : 집값(달러 단위)"
   ]
  },
  {
   "cell_type": "code",
   "execution_count": 207,
   "id": "3d68719b",
   "metadata": {},
   "outputs": [],
   "source": [
    "train = pd.read_csv('train.csv')\n",
    "test = pd.read_csv('test.csv')\n",
    "submission = pd.read_csv('sample_submission.csv')"
   ]
  },
  {
   "cell_type": "code",
   "execution_count": 208,
   "id": "3df461db",
   "metadata": {},
   "outputs": [],
   "source": [
    "train = train.iloc[:, 1:]\n",
    "test = test.iloc[:, 1:]"
   ]
  },
  {
   "cell_type": "code",
   "execution_count": 209,
   "id": "8c1f6e9b",
   "metadata": {},
   "outputs": [],
   "source": [
    "train = train[train['Garage Yr Blt'] < 2050]"
   ]
  },
  {
   "cell_type": "code",
   "execution_count": 210,
   "id": "cc7370dc",
   "metadata": {},
   "outputs": [],
   "source": [
    "train['new1'] = 2022 - train['Year Remod/Add']\n",
    "test['new1'] = 2022 - test['Year Remod/Add']"
   ]
  },
  {
   "cell_type": "code",
   "execution_count": 211,
   "id": "0699dad6",
   "metadata": {},
   "outputs": [],
   "source": [
    "train['new2'] = train['Total Bsmt SF'] / train['1st Flr SF']\n",
    "test['new2'] = test['Total Bsmt SF'] / test['1st Flr SF']"
   ]
  },
  {
   "cell_type": "code",
   "execution_count": 212,
   "id": "05b5b809",
   "metadata": {},
   "outputs": [],
   "source": [
    "train['new3'] = train['Gr Liv Area'] / train['1st Flr SF']\n",
    "test['new3'] = test['Gr Liv Area'] / test['1st Flr SF']"
   ]
  },
  {
   "cell_type": "code",
   "execution_count": 216,
   "id": "dcc37b81",
   "metadata": {},
   "outputs": [],
   "source": [
    "cat_cols = ['Exter Qual', 'Kitchen Qual', 'Bsmt Qual']"
   ]
  },
  {
   "cell_type": "code",
   "execution_count": 217,
   "id": "0332d1f8",
   "metadata": {},
   "outputs": [],
   "source": [
    "for c in cat_cols :\n",
    "    ord_df = train.groupby(c).target.median().reset_index(name = f'ord_{c}')\n",
    "    train = pd.merge(train, ord_df, how = 'left')\n",
    "    test = pd.merge(test, ord_df, how = 'left')"
   ]
  },
  {
   "cell_type": "code",
   "execution_count": 219,
   "id": "b3b71b8b",
   "metadata": {},
   "outputs": [],
   "source": [
    "train.drop(cat_cols, axis = 1, inplace = True)\n",
    "test.drop(cat_cols, axis = 1, inplace = True)"
   ]
  },
  {
   "cell_type": "code",
   "execution_count": 220,
   "id": "f4711d52",
   "metadata": {},
   "outputs": [],
   "source": [
    "X = train.drop(['Garage Area', '1st Flr SF', 'target'], axis = 1)\n",
    "y = np.log1p(train.target)\n",
    "\n",
    "target = test[X.columns]"
   ]
  },
  {
   "cell_type": "code",
   "execution_count": 221,
   "id": "e02d4273",
   "metadata": {},
   "outputs": [],
   "source": [
    "target.fillna(target.mean(), inplace = True)"
   ]
  },
  {
   "cell_type": "code",
   "execution_count": 222,
   "id": "bf810b92",
   "metadata": {},
   "outputs": [],
   "source": [
    "fold_pred = np.zeros(target.shape[0])\n",
    "val_nmae = []"
   ]
  },
  {
   "cell_type": "code",
   "execution_count": 177,
   "id": "5765f74f",
   "metadata": {},
   "outputs": [
    {
     "name": "stdout",
     "output_type": "stream",
     "text": [
      "1 FOLD Training.....\n",
      "RandomForestRegressor Training...\n",
      "GradientBoostingRegressor Training...\n",
      "CatBoostRegressor Training...\n",
      "NGBRegressor Training...\n",
      "XGBRegressor Training...\n",
      "1 FOLD Training Done...Then Validation NMAE = 0.08542399105821648\n",
      "\n",
      "2 FOLD Training.....\n",
      "RandomForestRegressor Training...\n",
      "GradientBoostingRegressor Training...\n",
      "CatBoostRegressor Training...\n",
      "NGBRegressor Training...\n",
      "XGBRegressor Training...\n",
      "2 FOLD Training Done...Then Validation NMAE = 0.1032520237395069\n",
      "\n",
      "3 FOLD Training.....\n",
      "RandomForestRegressor Training...\n",
      "GradientBoostingRegressor Training...\n",
      "CatBoostRegressor Training...\n",
      "NGBRegressor Training...\n",
      "XGBRegressor Training...\n",
      "3 FOLD Training Done...Then Validation NMAE = 0.08798005132210708\n",
      "\n",
      "4 FOLD Training.....\n",
      "RandomForestRegressor Training...\n",
      "GradientBoostingRegressor Training...\n",
      "CatBoostRegressor Training...\n",
      "NGBRegressor Training...\n",
      "XGBRegressor Training...\n",
      "4 FOLD Training Done...Then Validation NMAE = 0.10444093250764225\n",
      "\n",
      "5 FOLD Training.....\n",
      "RandomForestRegressor Training...\n",
      "GradientBoostingRegressor Training...\n",
      "CatBoostRegressor Training...\n",
      "NGBRegressor Training...\n",
      "XGBRegressor Training...\n",
      "5 FOLD Training Done...Then Validation NMAE = 0.0954208142925834\n",
      "\n",
      "6 FOLD Training.....\n",
      "RandomForestRegressor Training...\n",
      "GradientBoostingRegressor Training...\n",
      "CatBoostRegressor Training...\n",
      "NGBRegressor Training...\n",
      "XGBRegressor Training...\n",
      "6 FOLD Training Done...Then Validation NMAE = 0.09460345633773037\n",
      "\n",
      "7 FOLD Training.....\n",
      "RandomForestRegressor Training...\n",
      "GradientBoostingRegressor Training...\n",
      "CatBoostRegressor Training...\n",
      "NGBRegressor Training...\n",
      "XGBRegressor Training...\n",
      "7 FOLD Training Done...Then Validation NMAE = 0.08574226865339546\n",
      "\n",
      "8 FOLD Training.....\n",
      "RandomForestRegressor Training...\n",
      "GradientBoostingRegressor Training...\n",
      "CatBoostRegressor Training...\n",
      "NGBRegressor Training...\n",
      "XGBRegressor Training...\n",
      "8 FOLD Training Done...Then Validation NMAE = 0.09396214448914178\n",
      "\n",
      "9 FOLD Training.....\n",
      "RandomForestRegressor Training...\n",
      "GradientBoostingRegressor Training...\n",
      "CatBoostRegressor Training...\n",
      "NGBRegressor Training...\n",
      "XGBRegressor Training...\n",
      "9 FOLD Training Done...Then Validation NMAE = 0.1024164417628674\n",
      "\n",
      "10 FOLD Training.....\n",
      "RandomForestRegressor Training...\n",
      "GradientBoostingRegressor Training...\n",
      "CatBoostRegressor Training...\n",
      "NGBRegressor Training...\n",
      "XGBRegressor Training...\n",
      "10 FOLD Training Done...Then Validation NMAE = 0.09281227276774084\n",
      "\n",
      "10FOLD Mean of NMAE = 0.0946054396930932 & std = 0.00666000581759333\n"
     ]
    }
   ],
   "source": [
    "for n, (tr_idx, val_idx) in enumerate(kf.split(X, y)) :\n",
    "    print(f'{n + 1} FOLD Training.....')\n",
    "    \n",
    "    tr_x, tr_y = X.iloc[tr_idx], y.iloc[tr_idx]\n",
    "    val_x, val_y = X.iloc[val_idx], np.expm1(y.iloc[val_idx])\n",
    "    \n",
    "    tr_data = Pool(data = tr_x, label = tr_y)\n",
    "    val_data = Pool(data = val_x, label = val_y)\n",
    "    target_data = Pool(data = target, label = None)\n",
    "    \n",
    "    rf = RandomForestRegressor(random_state = 42, criterion = 'mae')\n",
    "    gbr = GradientBoostingRegressor(random_state = 42, max_depth = 4, learning_rate = 0.05, n_estimators = 1000)\n",
    "    cb = CatBoostRegressor(depth = 4, random_state = 42, loss_function = 'MAE', n_estimators = 3000, learning_rate = 0.03, verbose = 0)\n",
    "    ngb = NGBRegressor(random_state = 42, n_estimators = 1000, verbose = 0, learning_rate = 0.03)\n",
    "    xgb = XGBRegressor(random_state = 42, max_depth = 4, n_estimators = 2000, learning_rate = 0.03, objective = 'reg:squarederror')\n",
    "    \n",
    "    print(f'{rf.__class__.__name__} Training...')\n",
    "    rf.fit(tr_x, tr_y)\n",
    "    print(f'{gbr.__class__.__name__} Training...')\n",
    "    gbr.fit(tr_x, tr_y)\n",
    "    print(f'{cb.__class__.__name__} Training...')\n",
    "    cb.fit(tr_data, eval_set = val_data, early_stopping_rounds = 750, verbose = 0)\n",
    "    print(f'{ngb.__class__.__name__} Training...')\n",
    "    ngb.fit(tr_x, tr_y, val_x, val_y, early_stopping_rounds = 300)\n",
    "    print(f'{xgb.__class__.__name__} Training...')\n",
    "    xgb.fit(tr_x, tr_y, eval_set = [(tr_x, tr_y), (val_x, val_y)], early_stopping_rounds = 300, verbose = 0, eval_metric = 'mae')\n",
    "    \n",
    "    rf_val = np.expm1(rf.predict(val_x)) / 5\n",
    "    gbr_val = np.expm1(gbr.predict(val_x)) / 5\n",
    "    cb_val = np.expm1(cb.predict(val_data)) / 5\n",
    "    ngb_val = np.expm1(ngb.predict(val_x)) / 5\n",
    "    xgb_val = np.expm1(xgb.predict(val_x)) / 5\n",
    "    val_pred = (rf_val + gbr_val + cb_val + ngb_val + xgb_val)\n",
    "    \n",
    "    fold_nmae = NMAE(val_y, val_pred)\n",
    "    val_nmae.append(fold_nmae)\n",
    "    print(f'{n + 1} FOLD Training Done...Then Validation NMAE = {fold_nmae}\\n')\n",
    "    \n",
    "    rf_fold = rf.predict(target) / 50\n",
    "    gbr_fold = gbr.predict(target) / 50\n",
    "    cb_fold = cb.predict(target_data) / 50\n",
    "    ngb_fold = ngb.predict(target) / 50\n",
    "    xgb_fold = xgb.predict(target) / 50\n",
    "    fold_pred += (rf_fold + gbr_fold + cb_fold + ngb_fold + xgb_fold)\n",
    "    \n",
    "print(f'10FOLD Mean of NMAE = {np.mean(val_nmae)} & std = {np.std(val_nmae)}')"
   ]
  },
  {
   "cell_type": "code",
   "execution_count": 178,
   "id": "31d1a281",
   "metadata": {},
   "outputs": [],
   "source": [
    "final = (rf_pred + xgb_pred + ngb_pred + cb_pred + gbr_pred) / 5"
   ]
  },
  {
   "cell_type": "code",
   "execution_count": 179,
   "id": "41ae54d6",
   "metadata": {},
   "outputs": [],
   "source": [
    "submission['target'] = np.expm1(fold_pred)"
   ]
  },
  {
   "cell_type": "code",
   "execution_count": 180,
   "id": "8cfe3d9d",
   "metadata": {},
   "outputs": [],
   "source": [
    "submission.to_csv('1st.csv', index = False)"
   ]
  },
  {
   "cell_type": "code",
   "execution_count": 181,
   "id": "82df4194",
   "metadata": {},
   "outputs": [
    {
     "data": {
      "text/html": [
       "<div>\n",
       "<style scoped>\n",
       "    .dataframe tbody tr th:only-of-type {\n",
       "        vertical-align: middle;\n",
       "    }\n",
       "\n",
       "    .dataframe tbody tr th {\n",
       "        vertical-align: top;\n",
       "    }\n",
       "\n",
       "    .dataframe thead th {\n",
       "        text-align: right;\n",
       "    }\n",
       "</style>\n",
       "<table border=\"1\" class=\"dataframe\">\n",
       "  <thead>\n",
       "    <tr style=\"text-align: right;\">\n",
       "      <th></th>\n",
       "      <th>id</th>\n",
       "      <th>target</th>\n",
       "    </tr>\n",
       "  </thead>\n",
       "  <tbody>\n",
       "    <tr>\n",
       "      <th>0</th>\n",
       "      <td>1</td>\n",
       "      <td>325811.740877</td>\n",
       "    </tr>\n",
       "    <tr>\n",
       "      <th>1</th>\n",
       "      <td>2</td>\n",
       "      <td>127029.983100</td>\n",
       "    </tr>\n",
       "    <tr>\n",
       "      <th>2</th>\n",
       "      <td>3</td>\n",
       "      <td>177040.326194</td>\n",
       "    </tr>\n",
       "    <tr>\n",
       "      <th>3</th>\n",
       "      <td>4</td>\n",
       "      <td>239331.746179</td>\n",
       "    </tr>\n",
       "    <tr>\n",
       "      <th>4</th>\n",
       "      <td>5</td>\n",
       "      <td>133204.736743</td>\n",
       "    </tr>\n",
       "    <tr>\n",
       "      <th>...</th>\n",
       "      <td>...</td>\n",
       "      <td>...</td>\n",
       "    </tr>\n",
       "    <tr>\n",
       "      <th>1345</th>\n",
       "      <td>1346</td>\n",
       "      <td>329106.241305</td>\n",
       "    </tr>\n",
       "    <tr>\n",
       "      <th>1346</th>\n",
       "      <td>1347</td>\n",
       "      <td>127072.747177</td>\n",
       "    </tr>\n",
       "    <tr>\n",
       "      <th>1347</th>\n",
       "      <td>1348</td>\n",
       "      <td>70728.175651</td>\n",
       "    </tr>\n",
       "    <tr>\n",
       "      <th>1348</th>\n",
       "      <td>1349</td>\n",
       "      <td>191231.181824</td>\n",
       "    </tr>\n",
       "    <tr>\n",
       "      <th>1349</th>\n",
       "      <td>1350</td>\n",
       "      <td>133661.541416</td>\n",
       "    </tr>\n",
       "  </tbody>\n",
       "</table>\n",
       "<p>1350 rows × 2 columns</p>\n",
       "</div>"
      ],
      "text/plain": [
       "        id         target\n",
       "0        1  325811.740877\n",
       "1        2  127029.983100\n",
       "2        3  177040.326194\n",
       "3        4  239331.746179\n",
       "4        5  133204.736743\n",
       "...    ...            ...\n",
       "1345  1346  329106.241305\n",
       "1346  1347  127072.747177\n",
       "1347  1348   70728.175651\n",
       "1348  1349  191231.181824\n",
       "1349  1350  133661.541416\n",
       "\n",
       "[1350 rows x 2 columns]"
      ]
     },
     "execution_count": 181,
     "metadata": {},
     "output_type": "execute_result"
    }
   ],
   "source": [
    "submission"
   ]
  }
 ],
 "metadata": {
  "kernelspec": {
   "display_name": "Python 3",
   "language": "python",
   "name": "python3"
  },
  "language_info": {
   "codemirror_mode": {
    "name": "ipython",
    "version": 3
   },
   "file_extension": ".py",
   "mimetype": "text/x-python",
   "name": "python",
   "nbconvert_exporter": "python",
   "pygments_lexer": "ipython3",
   "version": "3.8.8"
  }
 },
 "nbformat": 4,
 "nbformat_minor": 5
}
