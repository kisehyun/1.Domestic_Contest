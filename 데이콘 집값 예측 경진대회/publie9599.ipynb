{
 "cells": [
  {
   "cell_type": "code",
   "execution_count": 74,
   "id": "1d12ae86",
   "metadata": {},
   "outputs": [],
   "source": [
    "import pandas as pd\n",
    "import numpy as np\n",
    "\n",
    "import warnings\n",
    "warnings.filterwarnings('ignore')"
   ]
  },
  {
   "cell_type": "code",
   "execution_count": 92,
   "id": "18d6ac1d",
   "metadata": {},
   "outputs": [],
   "source": [
    "train = pd.read_csv('train.csv')\n",
    "test = pd.read_csv('test.csv')\n",
    "submission = pd.read_csv('sample_submission.csv')"
   ]
  },
  {
   "cell_type": "code",
   "execution_count": 76,
   "id": "bee32813",
   "metadata": {},
   "outputs": [],
   "source": [
    "train = train.iloc[:, 1:]\n",
    "test = test.iloc[:, 1:]"
   ]
  },
  {
   "cell_type": "markdown",
   "id": "91688b63",
   "metadata": {},
   "source": [
    "id 변수 제거"
   ]
  },
  {
   "cell_type": "code",
   "execution_count": 77,
   "id": "f8026160",
   "metadata": {
    "scrolled": true
   },
   "outputs": [
    {
     "name": "stdout",
     "output_type": "stream",
     "text": [
      "<class 'pandas.core.frame.DataFrame'>\n",
      "RangeIndex: 1350 entries, 0 to 1349\n",
      "Data columns (total 14 columns):\n",
      " #   Column          Non-Null Count  Dtype \n",
      "---  ------          --------------  ----- \n",
      " 0   Overall Qual    1350 non-null   int64 \n",
      " 1   Gr Liv Area     1350 non-null   int64 \n",
      " 2   Exter Qual      1350 non-null   object\n",
      " 3   Garage Cars     1350 non-null   int64 \n",
      " 4   Garage Area     1350 non-null   int64 \n",
      " 5   Kitchen Qual    1350 non-null   object\n",
      " 6   Total Bsmt SF   1350 non-null   int64 \n",
      " 7   1st Flr SF      1350 non-null   int64 \n",
      " 8   Bsmt Qual       1350 non-null   object\n",
      " 9   Full Bath       1350 non-null   int64 \n",
      " 10  Year Built      1350 non-null   int64 \n",
      " 11  Year Remod/Add  1350 non-null   int64 \n",
      " 12  Garage Yr Blt   1350 non-null   int64 \n",
      " 13  target          1350 non-null   int64 \n",
      "dtypes: int64(11), object(3)\n",
      "memory usage: 147.8+ KB\n"
     ]
    }
   ],
   "source": [
    "train.info()"
   ]
  },
  {
   "cell_type": "code",
   "execution_count": 78,
   "id": "d9856a19",
   "metadata": {},
   "outputs": [
    {
     "name": "stdout",
     "output_type": "stream",
     "text": [
      "<class 'pandas.core.frame.DataFrame'>\n",
      "RangeIndex: 1350 entries, 0 to 1349\n",
      "Data columns (total 13 columns):\n",
      " #   Column          Non-Null Count  Dtype \n",
      "---  ------          --------------  ----- \n",
      " 0   Overall Qual    1350 non-null   int64 \n",
      " 1   Gr Liv Area     1350 non-null   int64 \n",
      " 2   Exter Qual      1350 non-null   object\n",
      " 3   Garage Cars     1350 non-null   int64 \n",
      " 4   Garage Area     1350 non-null   int64 \n",
      " 5   Kitchen Qual    1350 non-null   object\n",
      " 6   Total Bsmt SF   1350 non-null   int64 \n",
      " 7   1st Flr SF      1350 non-null   int64 \n",
      " 8   Bsmt Qual       1350 non-null   object\n",
      " 9   Full Bath       1350 non-null   int64 \n",
      " 10  Year Built      1350 non-null   int64 \n",
      " 11  Year Remod/Add  1350 non-null   int64 \n",
      " 12  Garage Yr Blt   1350 non-null   int64 \n",
      "dtypes: int64(10), object(3)\n",
      "memory usage: 137.2+ KB\n"
     ]
    }
   ],
   "source": [
    "test.info()"
   ]
  },
  {
   "cell_type": "code",
   "execution_count": 79,
   "id": "be560dc2",
   "metadata": {},
   "outputs": [
    {
     "data": {
      "text/html": [
       "<div>\n",
       "<style scoped>\n",
       "    .dataframe tbody tr th:only-of-type {\n",
       "        vertical-align: middle;\n",
       "    }\n",
       "\n",
       "    .dataframe tbody tr th {\n",
       "        vertical-align: top;\n",
       "    }\n",
       "\n",
       "    .dataframe thead th {\n",
       "        text-align: right;\n",
       "    }\n",
       "</style>\n",
       "<table border=\"1\" class=\"dataframe\">\n",
       "  <thead>\n",
       "    <tr style=\"text-align: right;\">\n",
       "      <th></th>\n",
       "      <th>Overall Qual</th>\n",
       "      <th>Gr Liv Area</th>\n",
       "      <th>Garage Cars</th>\n",
       "      <th>Garage Area</th>\n",
       "      <th>Total Bsmt SF</th>\n",
       "      <th>1st Flr SF</th>\n",
       "      <th>Full Bath</th>\n",
       "      <th>Year Built</th>\n",
       "      <th>Year Remod/Add</th>\n",
       "      <th>Garage Yr Blt</th>\n",
       "      <th>target</th>\n",
       "    </tr>\n",
       "  </thead>\n",
       "  <tbody>\n",
       "    <tr>\n",
       "      <th>count</th>\n",
       "      <td>1350.000000</td>\n",
       "      <td>1350.000000</td>\n",
       "      <td>1350.000000</td>\n",
       "      <td>1350.000000</td>\n",
       "      <td>1350.000000</td>\n",
       "      <td>1350.000000</td>\n",
       "      <td>1350.000000</td>\n",
       "      <td>1350.000000</td>\n",
       "      <td>1350.000000</td>\n",
       "      <td>1350.000000</td>\n",
       "      <td>1350.000000</td>\n",
       "    </tr>\n",
       "    <tr>\n",
       "      <th>mean</th>\n",
       "      <td>6.208889</td>\n",
       "      <td>1513.542222</td>\n",
       "      <td>1.870370</td>\n",
       "      <td>502.014815</td>\n",
       "      <td>1082.644444</td>\n",
       "      <td>1167.474074</td>\n",
       "      <td>1.560741</td>\n",
       "      <td>1972.987407</td>\n",
       "      <td>1985.099259</td>\n",
       "      <td>1978.471852</td>\n",
       "      <td>186406.312593</td>\n",
       "    </tr>\n",
       "    <tr>\n",
       "      <th>std</th>\n",
       "      <td>1.338015</td>\n",
       "      <td>487.523239</td>\n",
       "      <td>0.652483</td>\n",
       "      <td>191.389956</td>\n",
       "      <td>384.067713</td>\n",
       "      <td>375.061407</td>\n",
       "      <td>0.551646</td>\n",
       "      <td>29.307257</td>\n",
       "      <td>20.153244</td>\n",
       "      <td>25.377278</td>\n",
       "      <td>78435.424758</td>\n",
       "    </tr>\n",
       "    <tr>\n",
       "      <th>min</th>\n",
       "      <td>2.000000</td>\n",
       "      <td>480.000000</td>\n",
       "      <td>1.000000</td>\n",
       "      <td>100.000000</td>\n",
       "      <td>105.000000</td>\n",
       "      <td>480.000000</td>\n",
       "      <td>0.000000</td>\n",
       "      <td>1880.000000</td>\n",
       "      <td>1950.000000</td>\n",
       "      <td>1900.000000</td>\n",
       "      <td>12789.000000</td>\n",
       "    </tr>\n",
       "    <tr>\n",
       "      <th>25%</th>\n",
       "      <td>5.000000</td>\n",
       "      <td>1144.000000</td>\n",
       "      <td>1.000000</td>\n",
       "      <td>368.000000</td>\n",
       "      <td>816.000000</td>\n",
       "      <td>886.250000</td>\n",
       "      <td>1.000000</td>\n",
       "      <td>1955.000000</td>\n",
       "      <td>1968.000000</td>\n",
       "      <td>1961.000000</td>\n",
       "      <td>135000.000000</td>\n",
       "    </tr>\n",
       "    <tr>\n",
       "      <th>50%</th>\n",
       "      <td>6.000000</td>\n",
       "      <td>1445.500000</td>\n",
       "      <td>2.000000</td>\n",
       "      <td>484.000000</td>\n",
       "      <td>1009.000000</td>\n",
       "      <td>1092.500000</td>\n",
       "      <td>2.000000</td>\n",
       "      <td>1976.000000</td>\n",
       "      <td>1993.000000</td>\n",
       "      <td>1978.500000</td>\n",
       "      <td>165375.000000</td>\n",
       "    </tr>\n",
       "    <tr>\n",
       "      <th>75%</th>\n",
       "      <td>7.000000</td>\n",
       "      <td>1774.500000</td>\n",
       "      <td>2.000000</td>\n",
       "      <td>588.000000</td>\n",
       "      <td>1309.500000</td>\n",
       "      <td>1396.500000</td>\n",
       "      <td>2.000000</td>\n",
       "      <td>2002.000000</td>\n",
       "      <td>2004.000000</td>\n",
       "      <td>2002.000000</td>\n",
       "      <td>217875.000000</td>\n",
       "    </tr>\n",
       "    <tr>\n",
       "      <th>max</th>\n",
       "      <td>10.000000</td>\n",
       "      <td>4476.000000</td>\n",
       "      <td>5.000000</td>\n",
       "      <td>1488.000000</td>\n",
       "      <td>2660.000000</td>\n",
       "      <td>2898.000000</td>\n",
       "      <td>4.000000</td>\n",
       "      <td>2010.000000</td>\n",
       "      <td>2010.000000</td>\n",
       "      <td>2207.000000</td>\n",
       "      <td>745000.000000</td>\n",
       "    </tr>\n",
       "  </tbody>\n",
       "</table>\n",
       "</div>"
      ],
      "text/plain": [
       "       Overall Qual  Gr Liv Area  Garage Cars  Garage Area  Total Bsmt SF  \\\n",
       "count   1350.000000  1350.000000  1350.000000  1350.000000    1350.000000   \n",
       "mean       6.208889  1513.542222     1.870370   502.014815    1082.644444   \n",
       "std        1.338015   487.523239     0.652483   191.389956     384.067713   \n",
       "min        2.000000   480.000000     1.000000   100.000000     105.000000   \n",
       "25%        5.000000  1144.000000     1.000000   368.000000     816.000000   \n",
       "50%        6.000000  1445.500000     2.000000   484.000000    1009.000000   \n",
       "75%        7.000000  1774.500000     2.000000   588.000000    1309.500000   \n",
       "max       10.000000  4476.000000     5.000000  1488.000000    2660.000000   \n",
       "\n",
       "        1st Flr SF    Full Bath   Year Built  Year Remod/Add  Garage Yr Blt  \\\n",
       "count  1350.000000  1350.000000  1350.000000     1350.000000    1350.000000   \n",
       "mean   1167.474074     1.560741  1972.987407     1985.099259    1978.471852   \n",
       "std     375.061407     0.551646    29.307257       20.153244      25.377278   \n",
       "min     480.000000     0.000000  1880.000000     1950.000000    1900.000000   \n",
       "25%     886.250000     1.000000  1955.000000     1968.000000    1961.000000   \n",
       "50%    1092.500000     2.000000  1976.000000     1993.000000    1978.500000   \n",
       "75%    1396.500000     2.000000  2002.000000     2004.000000    2002.000000   \n",
       "max    2898.000000     4.000000  2010.000000     2010.000000    2207.000000   \n",
       "\n",
       "              target  \n",
       "count    1350.000000  \n",
       "mean   186406.312593  \n",
       "std     78435.424758  \n",
       "min     12789.000000  \n",
       "25%    135000.000000  \n",
       "50%    165375.000000  \n",
       "75%    217875.000000  \n",
       "max    745000.000000  "
      ]
     },
     "execution_count": 79,
     "metadata": {},
     "output_type": "execute_result"
    }
   ],
   "source": [
    "train.describe()"
   ]
  },
  {
   "cell_type": "code",
   "execution_count": 80,
   "id": "fcdbd630",
   "metadata": {},
   "outputs": [
    {
     "data": {
      "text/html": [
       "<div>\n",
       "<style scoped>\n",
       "    .dataframe tbody tr th:only-of-type {\n",
       "        vertical-align: middle;\n",
       "    }\n",
       "\n",
       "    .dataframe tbody tr th {\n",
       "        vertical-align: top;\n",
       "    }\n",
       "\n",
       "    .dataframe thead th {\n",
       "        text-align: right;\n",
       "    }\n",
       "</style>\n",
       "<table border=\"1\" class=\"dataframe\">\n",
       "  <thead>\n",
       "    <tr style=\"text-align: right;\">\n",
       "      <th></th>\n",
       "      <th>Overall Qual</th>\n",
       "      <th>Gr Liv Area</th>\n",
       "      <th>Garage Cars</th>\n",
       "      <th>Garage Area</th>\n",
       "      <th>Total Bsmt SF</th>\n",
       "      <th>1st Flr SF</th>\n",
       "      <th>Full Bath</th>\n",
       "      <th>Year Built</th>\n",
       "      <th>Year Remod/Add</th>\n",
       "      <th>Garage Yr Blt</th>\n",
       "    </tr>\n",
       "  </thead>\n",
       "  <tbody>\n",
       "    <tr>\n",
       "      <th>count</th>\n",
       "      <td>1350.000000</td>\n",
       "      <td>1350.000000</td>\n",
       "      <td>1350.000000</td>\n",
       "      <td>1350.000000</td>\n",
       "      <td>1350.000000</td>\n",
       "      <td>1350.000000</td>\n",
       "      <td>1350.000000</td>\n",
       "      <td>1350.000000</td>\n",
       "      <td>1350.000000</td>\n",
       "      <td>1350.000000</td>\n",
       "    </tr>\n",
       "    <tr>\n",
       "      <th>mean</th>\n",
       "      <td>6.237037</td>\n",
       "      <td>1524.071111</td>\n",
       "      <td>1.871852</td>\n",
       "      <td>499.867407</td>\n",
       "      <td>1101.222222</td>\n",
       "      <td>1175.714815</td>\n",
       "      <td>1.597778</td>\n",
       "      <td>1973.537778</td>\n",
       "      <td>1985.258519</td>\n",
       "      <td>1978.457037</td>\n",
       "    </tr>\n",
       "    <tr>\n",
       "      <th>std</th>\n",
       "      <td>1.370057</td>\n",
       "      <td>514.410852</td>\n",
       "      <td>0.651639</td>\n",
       "      <td>186.267579</td>\n",
       "      <td>431.641042</td>\n",
       "      <td>406.858231</td>\n",
       "      <td>0.549002</td>\n",
       "      <td>29.799448</td>\n",
       "      <td>20.818442</td>\n",
       "      <td>25.771750</td>\n",
       "    </tr>\n",
       "    <tr>\n",
       "      <th>min</th>\n",
       "      <td>2.000000</td>\n",
       "      <td>407.000000</td>\n",
       "      <td>1.000000</td>\n",
       "      <td>160.000000</td>\n",
       "      <td>173.000000</td>\n",
       "      <td>407.000000</td>\n",
       "      <td>0.000000</td>\n",
       "      <td>1879.000000</td>\n",
       "      <td>1950.000000</td>\n",
       "      <td>1895.000000</td>\n",
       "    </tr>\n",
       "    <tr>\n",
       "      <th>25%</th>\n",
       "      <td>5.000000</td>\n",
       "      <td>1169.750000</td>\n",
       "      <td>1.000000</td>\n",
       "      <td>365.250000</td>\n",
       "      <td>825.250000</td>\n",
       "      <td>887.250000</td>\n",
       "      <td>1.000000</td>\n",
       "      <td>1956.000000</td>\n",
       "      <td>1966.000000</td>\n",
       "      <td>1961.000000</td>\n",
       "    </tr>\n",
       "    <tr>\n",
       "      <th>50%</th>\n",
       "      <td>6.000000</td>\n",
       "      <td>1472.500000</td>\n",
       "      <td>2.000000</td>\n",
       "      <td>484.000000</td>\n",
       "      <td>1024.000000</td>\n",
       "      <td>1098.000000</td>\n",
       "      <td>2.000000</td>\n",
       "      <td>1976.000000</td>\n",
       "      <td>1995.000000</td>\n",
       "      <td>1982.000000</td>\n",
       "    </tr>\n",
       "    <tr>\n",
       "      <th>75%</th>\n",
       "      <td>7.000000</td>\n",
       "      <td>1742.250000</td>\n",
       "      <td>2.000000</td>\n",
       "      <td>578.750000</td>\n",
       "      <td>1338.750000</td>\n",
       "      <td>1409.500000</td>\n",
       "      <td>2.000000</td>\n",
       "      <td>2002.000000</td>\n",
       "      <td>2004.000000</td>\n",
       "      <td>2002.000000</td>\n",
       "    </tr>\n",
       "    <tr>\n",
       "      <th>max</th>\n",
       "      <td>10.000000</td>\n",
       "      <td>5642.000000</td>\n",
       "      <td>4.000000</td>\n",
       "      <td>1418.000000</td>\n",
       "      <td>6110.000000</td>\n",
       "      <td>5095.000000</td>\n",
       "      <td>4.000000</td>\n",
       "      <td>2010.000000</td>\n",
       "      <td>2010.000000</td>\n",
       "      <td>2010.000000</td>\n",
       "    </tr>\n",
       "  </tbody>\n",
       "</table>\n",
       "</div>"
      ],
      "text/plain": [
       "       Overall Qual  Gr Liv Area  Garage Cars  Garage Area  Total Bsmt SF  \\\n",
       "count   1350.000000  1350.000000  1350.000000  1350.000000    1350.000000   \n",
       "mean       6.237037  1524.071111     1.871852   499.867407    1101.222222   \n",
       "std        1.370057   514.410852     0.651639   186.267579     431.641042   \n",
       "min        2.000000   407.000000     1.000000   160.000000     173.000000   \n",
       "25%        5.000000  1169.750000     1.000000   365.250000     825.250000   \n",
       "50%        6.000000  1472.500000     2.000000   484.000000    1024.000000   \n",
       "75%        7.000000  1742.250000     2.000000   578.750000    1338.750000   \n",
       "max       10.000000  5642.000000     4.000000  1418.000000    6110.000000   \n",
       "\n",
       "        1st Flr SF    Full Bath   Year Built  Year Remod/Add  Garage Yr Blt  \n",
       "count  1350.000000  1350.000000  1350.000000     1350.000000    1350.000000  \n",
       "mean   1175.714815     1.597778  1973.537778     1985.258519    1978.457037  \n",
       "std     406.858231     0.549002    29.799448       20.818442      25.771750  \n",
       "min     407.000000     0.000000  1879.000000     1950.000000    1895.000000  \n",
       "25%     887.250000     1.000000  1956.000000     1966.000000    1961.000000  \n",
       "50%    1098.000000     2.000000  1976.000000     1995.000000    1982.000000  \n",
       "75%    1409.500000     2.000000  2002.000000     2004.000000    2002.000000  \n",
       "max    5095.000000     4.000000  2010.000000     2010.000000    2010.000000  "
      ]
     },
     "execution_count": 80,
     "metadata": {},
     "output_type": "execute_result"
    }
   ],
   "source": [
    "test.describe()"
   ]
  },
  {
   "cell_type": "code",
   "execution_count": 82,
   "id": "6bb875c6",
   "metadata": {},
   "outputs": [],
   "source": [
    "train = train[train['Garage Yr Blt'] < 2050]"
   ]
  },
  {
   "cell_type": "markdown",
   "id": "cc1cf3d1",
   "metadata": {},
   "source": [
    "### Target Encoding\n",
    "\n",
    "- 다음 컬럼들은 변수 값별 target의 중위값으로 인코딩하였습니다."
   ]
  },
  {
   "cell_type": "code",
   "execution_count": 85,
   "id": "b0935d45",
   "metadata": {},
   "outputs": [],
   "source": [
    "cat_cols = ['Exter Qual', 'Kitchen Qual', 'Bsmt Qual']"
   ]
  },
  {
   "cell_type": "code",
   "execution_count": 86,
   "id": "39e84df7",
   "metadata": {},
   "outputs": [],
   "source": [
    "for c in cat_cols :\n",
    "    ord_df = train.groupby(c).target.median().reset_index(name = f'ord_{c}')\n",
    "    train = pd.merge(train, ord_df, how = 'left')\n",
    "    test = pd.merge(test, ord_df, how = 'left')"
   ]
  },
  {
   "cell_type": "code",
   "execution_count": 87,
   "id": "91118360",
   "metadata": {},
   "outputs": [],
   "source": [
    "train.drop(cat_cols, axis = 1, inplace = True)\n",
    "test.drop(cat_cols, axis = 1, inplace = True)"
   ]
  },
  {
   "cell_type": "markdown",
   "id": "d4354884",
   "metadata": {},
   "source": [
    "인코딩을 했기 때문에 기존 컬럼은 삭제합니다."
   ]
  },
  {
   "cell_type": "code",
   "execution_count": 127,
   "id": "cec32cfa",
   "metadata": {
    "scrolled": true
   },
   "outputs": [
    {
     "name": "stdout",
     "output_type": "stream",
     "text": [
      "로그 변환 전 타겟 왜도 = 1.7175856695235343 / 로그 변환 후 타겟 왜도 = 0.08072456642342422\n"
     ]
    }
   ],
   "source": [
    "print(f'로그 변환 전 타겟 왜도 = {train.target.skew()} / 로그 변환 후 타겟 왜도 = {np.log1p(train.target).skew()}')"
   ]
  },
  {
   "cell_type": "code",
   "execution_count": 88,
   "id": "db6980a5",
   "metadata": {},
   "outputs": [],
   "source": [
    "X = train.drop('target', axis = 1)\n",
    "y = np.log1p(train.target)\n",
    "\n",
    "target = test[X.columns]"
   ]
  },
  {
   "cell_type": "markdown",
   "id": "d3ff5101",
   "metadata": {},
   "source": [
    "예측 대상인 target 변수는 로그 변환시 왜도가 줄어들어 로그변환을 해주었습니다."
   ]
  },
  {
   "cell_type": "code",
   "execution_count": 98,
   "id": "fca769f8",
   "metadata": {},
   "outputs": [],
   "source": [
    "target.fillna(target.mean(), inplace = True)"
   ]
  },
  {
   "cell_type": "markdown",
   "id": "82017155",
   "metadata": {},
   "source": [
    "타겟 인코딩을 하면서 결측값(1개)이 발생했기 때문에 평균 값으로 대치합니다.\n",
    "***\n",
    "## Modeling\n",
    "- RandomForest, GradientBoosting, Catboost, NGBoost 4가지 모델을 사용했고 10FOLD로 앙상블했습니다.\n",
    "\n",
    "#### 모델별로 10fold의 target 예측값을 만들어 평균 값을 취해주었습니다."
   ]
  },
  {
   "cell_type": "code",
   "execution_count": 100,
   "id": "7b843432",
   "metadata": {},
   "outputs": [],
   "source": [
    "from sklearn.ensemble import GradientBoostingRegressor, RandomForestRegressor\n",
    "from catboost import CatBoostRegressor, Pool\n",
    "from ngboost import NGBRegressor\n",
    "from sklearn.metrics import make_scorer\n",
    "from sklearn.model_selection import KFold"
   ]
  },
  {
   "cell_type": "code",
   "execution_count": 101,
   "id": "1ffe510b",
   "metadata": {},
   "outputs": [],
   "source": [
    "def NMAE(true, pred) -> float:\n",
    "    mae = np.mean(np.abs(true - pred))\n",
    "    score = mae / np.mean(np.abs(true))\n",
    "    return score"
   ]
  },
  {
   "cell_type": "code",
   "execution_count": null,
   "id": "7088b5ce",
   "metadata": {},
   "outputs": [],
   "source": [
    "nmae_score = make_scorer(NMAE, greater_is_better=False)"
   ]
  },
  {
   "cell_type": "code",
   "execution_count": 102,
   "id": "2a4f024a",
   "metadata": {},
   "outputs": [],
   "source": [
    "kf = KFold(n_splits = 10, random_state = 42, shuffle = True)"
   ]
  },
  {
   "cell_type": "markdown",
   "id": "e5de17c8",
   "metadata": {},
   "source": [
    "#### RandomForest"
   ]
  },
  {
   "cell_type": "code",
   "execution_count": 138,
   "id": "003dd5b8",
   "metadata": {
    "scrolled": true
   },
   "outputs": [
    {
     "name": "stdout",
     "output_type": "stream",
     "text": [
      "1 FOLD Training.....\n",
      "1 FOLD NMAE = 0.09368698156423985\n",
      "\n",
      "2 FOLD Training.....\n",
      "2 FOLD NMAE = 0.11364409590276257\n",
      "\n",
      "3 FOLD Training.....\n",
      "3 FOLD NMAE = 0.09442517917188785\n",
      "\n",
      "4 FOLD Training.....\n",
      "4 FOLD NMAE = 0.10951429437846574\n",
      "\n",
      "5 FOLD Training.....\n",
      "5 FOLD NMAE = 0.0898527550293215\n",
      "\n",
      "6 FOLD Training.....\n",
      "6 FOLD NMAE = 0.0998867074895177\n",
      "\n",
      "7 FOLD Training.....\n",
      "7 FOLD NMAE = 0.08960230649097915\n",
      "\n",
      "8 FOLD Training.....\n",
      "8 FOLD NMAE = 0.10569501920345062\n",
      "\n",
      "9 FOLD Training.....\n",
      "9 FOLD NMAE = 0.09527452116714286\n",
      "\n",
      "10 FOLD Training.....\n",
      "10 FOLD NMAE = 0.10044458008293747\n",
      "\n",
      "10FOLD Mean of NMAE = 0.09920264404807053 & std = 0.007793014216539946\n"
     ]
    }
   ],
   "source": [
    "rf_pred = np.zeros(target.shape[0])\n",
    "rf_val = []\n",
    "for n, (tr_idx, val_idx) in enumerate(kf.split(X, y)) :\n",
    "    print(f'{n + 1} FOLD Training.....')\n",
    "    tr_x, tr_y = X.iloc[tr_idx], y.iloc[tr_idx]\n",
    "    val_x, val_y = X.iloc[val_idx], np.expm1(y.iloc[val_idx])\n",
    "    \n",
    "    rf = RandomForestRegressor(random_state = 42, criterion = 'mae')\n",
    "    rf.fit(tr_x, tr_y)\n",
    "    \n",
    "    val_pred = np.expm1(rf.predict(val_x))\n",
    "    val_nmae = NMAE(val_y, val_pred)\n",
    "    rf_val.append(val_nmae)\n",
    "    print(f'{n + 1} FOLD NMAE = {val_nmae}\\n')\n",
    "    \n",
    "    fold_pred = rf.predict(target) / 10\n",
    "    rf_pred += fold_pred\n",
    "print(f'10FOLD Mean of NMAE = {np.mean(rf_val)} & std = {np.std(rf_val)}')"
   ]
  },
  {
   "cell_type": "markdown",
   "id": "daf9558f",
   "metadata": {},
   "source": [
    "#### GradientBoosting"
   ]
  },
  {
   "cell_type": "code",
   "execution_count": 133,
   "id": "27464038",
   "metadata": {},
   "outputs": [
    {
     "name": "stdout",
     "output_type": "stream",
     "text": [
      "1 FOLD Training.....\n",
      "1 FOLD NMAE = 0.09367372438745104\n",
      "\n",
      "2 FOLD Training.....\n",
      "2 FOLD NMAE = 0.10452949253790084\n",
      "\n",
      "3 FOLD Training.....\n",
      "3 FOLD NMAE = 0.0822404359570606\n",
      "\n",
      "4 FOLD Training.....\n",
      "4 FOLD NMAE = 0.10848179566764837\n",
      "\n",
      "5 FOLD Training.....\n",
      "5 FOLD NMAE = 0.09544021807976989\n",
      "\n",
      "6 FOLD Training.....\n",
      "6 FOLD NMAE = 0.09940533669629993\n",
      "\n",
      "7 FOLD Training.....\n",
      "7 FOLD NMAE = 0.0887301932752426\n",
      "\n",
      "8 FOLD Training.....\n",
      "8 FOLD NMAE = 0.10423773655894364\n",
      "\n",
      "9 FOLD Training.....\n",
      "9 FOLD NMAE = 0.10540905806087426\n",
      "\n",
      "10 FOLD Training.....\n",
      "10 FOLD NMAE = 0.0939495270409796\n",
      "\n",
      "10FOLD Mean of NMAE = 0.09760975182621709 & std = 0.007891302159289525\n"
     ]
    }
   ],
   "source": [
    "gbr_pred = np.zeros(target.shape[0])\n",
    "gbr_val = []\n",
    "for n, (tr_idx, val_idx) in enumerate(kf.split(X, y)) :\n",
    "    print(f'{n + 1} FOLD Training.....')\n",
    "    tr_x, tr_y = X.iloc[tr_idx], y.iloc[tr_idx]\n",
    "    val_x, val_y = X.iloc[val_idx], np.expm1(y.iloc[val_idx])\n",
    "    \n",
    "    gbr = GradientBoostingRegressor(random_state = 42, max_depth = 4, learning_rate = 0.05, n_estimators = 1000)\n",
    "    gbr.fit(tr_x, tr_y)\n",
    "    \n",
    "    val_pred = np.expm1(gbr.predict(val_x))\n",
    "    val_nmae = NMAE(val_y, val_pred)\n",
    "    gbr_val.append(val_nmae)\n",
    "    print(f'{n + 1} FOLD NMAE = {val_nmae}\\n')\n",
    "    \n",
    "    fold_pred = gbr.predict(target) / 10\n",
    "    gbr_pred += fold_pred\n",
    "print(f'10FOLD Mean of NMAE = {np.mean(gbr_val)} & std = {np.std(gbr_val)}')"
   ]
  },
  {
   "cell_type": "markdown",
   "id": "1e154ac5",
   "metadata": {},
   "source": [
    "#### CatBoost"
   ]
  },
  {
   "cell_type": "code",
   "execution_count": 116,
   "id": "92cf873c",
   "metadata": {
    "scrolled": true
   },
   "outputs": [
    {
     "name": "stdout",
     "output_type": "stream",
     "text": [
      "1 FOLD Training.....\n",
      "0:\tlearn: 0.2928192\ttest: 189506.6733447\tbest: 189506.6733447 (0)\ttotal: 1.74ms\tremaining: 5.22s\n",
      "Stopped by overfitting detector  (750 iterations wait)\n",
      "\n",
      "bestTest = 189506.5933\n",
      "bestIteration = 182\n",
      "\n",
      "Shrink model to first 183 iterations.\n",
      "1 FOLD NMAE = 0.09777341102660746\n",
      "\n",
      "2 FOLD Training.....\n",
      "0:\tlearn: 0.2929645\ttest: 186991.7521093\tbest: 186991.7521093 (0)\ttotal: 414us\tremaining: 1.24s\n",
      "1000:\tlearn: 0.0677636\ttest: 186991.7205303\tbest: 186991.7187119 (578)\ttotal: 519ms\tremaining: 1.04s\n",
      "Stopped by overfitting detector  (750 iterations wait)\n",
      "\n",
      "bestTest = 186991.7187\n",
      "bestIteration = 578\n",
      "\n",
      "Shrink model to first 579 iterations.\n",
      "2 FOLD NMAE = 0.10260214892787216\n",
      "\n",
      "3 FOLD Training.....\n",
      "0:\tlearn: 0.2919462\ttest: 176765.4793246\tbest: 176765.4793246 (0)\ttotal: 1.26ms\tremaining: 3.78s\n",
      "Stopped by overfitting detector  (750 iterations wait)\n",
      "\n",
      "bestTest = 176765.4658\n",
      "bestIteration = 66\n",
      "\n",
      "Shrink model to first 67 iterations.\n",
      "3 FOLD NMAE = 0.12234936741494888\n",
      "\n",
      "4 FOLD Training.....\n",
      "0:\tlearn: 0.2928466\ttest: 187437.9592515\tbest: 187437.9592515 (0)\ttotal: 426us\tremaining: 1.28s\n",
      "1000:\tlearn: 0.0680655\ttest: 187437.9124453\tbest: 187437.9117464 (564)\ttotal: 525ms\tremaining: 1.05s\n",
      "Stopped by overfitting detector  (750 iterations wait)\n",
      "\n",
      "bestTest = 187437.9117\n",
      "bestIteration = 564\n",
      "\n",
      "Shrink model to first 565 iterations.\n",
      "4 FOLD NMAE = 0.10216496915878984\n",
      "\n",
      "5 FOLD Training.....\n",
      "0:\tlearn: 0.2888456\ttest: 192915.6544942\tbest: 192915.6544942 (0)\ttotal: 625us\tremaining: 1.88s\n",
      "Stopped by overfitting detector  (750 iterations wait)\n",
      "\n",
      "bestTest = 192915.6008\n",
      "bestIteration = 198\n",
      "\n",
      "Shrink model to first 199 iterations.\n",
      "5 FOLD NMAE = 0.10200876686264962\n",
      "\n",
      "6 FOLD Training.....\n",
      "0:\tlearn: 0.2898561\ttest: 188506.9523046\tbest: 188506.9523046 (0)\ttotal: 549us\tremaining: 1.65s\n",
      "Stopped by overfitting detector  (750 iterations wait)\n",
      "\n",
      "bestTest = 188506.8951\n",
      "bestIteration = 151\n",
      "\n",
      "Shrink model to first 152 iterations.\n",
      "6 FOLD NMAE = 0.08405276281785276\n",
      "\n",
      "7 FOLD Training.....\n",
      "0:\tlearn: 0.2932652\ttest: 194497.7718628\tbest: 194497.7718628 (0)\ttotal: 419us\tremaining: 1.26s\n",
      "1000:\tlearn: 0.0669996\ttest: 194497.6730782\tbest: 194497.6720627 (479)\ttotal: 519ms\tremaining: 1.03s\n",
      "Stopped by overfitting detector  (750 iterations wait)\n",
      "\n",
      "bestTest = 194497.6721\n",
      "bestIteration = 479\n",
      "\n",
      "Shrink model to first 480 iterations.\n",
      "7 FOLD NMAE = 0.08901641687559723\n",
      "\n",
      "8 FOLD Training.....\n",
      "0:\tlearn: 0.2939647\ttest: 174503.5921733\tbest: 174503.5921733 (0)\ttotal: 453us\tremaining: 1.36s\n",
      "Stopped by overfitting detector  (750 iterations wait)\n",
      "\n",
      "bestTest = 174503.5699\n",
      "bestIteration = 60\n",
      "\n",
      "Shrink model to first 61 iterations.\n",
      "8 FOLD NMAE = 0.1336428807901599\n",
      "\n",
      "9 FOLD Training.....\n",
      "0:\tlearn: 0.2913289\ttest: 181768.1424972\tbest: 181768.1424972 (0)\ttotal: 416us\tremaining: 1.25s\n",
      "Stopped by overfitting detector  (750 iterations wait)\n",
      "\n",
      "bestTest = 181768.1017\n",
      "bestIteration = 92\n",
      "\n",
      "Shrink model to first 93 iterations.\n",
      "9 FOLD NMAE = 0.11803267930641798\n",
      "\n",
      "10 FOLD Training.....\n",
      "0:\tlearn: 0.2900080\ttest: 190480.0213943\tbest: 190480.0213943 (0)\ttotal: 406us\tremaining: 1.22s\n",
      "1000:\tlearn: 0.0669407\ttest: 190479.9406481\tbest: 190479.9405925 (994)\ttotal: 524ms\tremaining: 1.04s\n",
      "Stopped by overfitting detector  (750 iterations wait)\n",
      "\n",
      "bestTest = 190479.9405\n",
      "bestIteration = 1105\n",
      "\n",
      "Shrink model to first 1106 iterations.\n",
      "10 FOLD NMAE = 0.10060124889099538\n",
      "\n",
      "10FOLD Mean of NMAE = 0.10522446520718912 & std = 0.01441988520465959\n"
     ]
    }
   ],
   "source": [
    "cb_pred = np.zeros(target.shape[0])\n",
    "cb_val = []\n",
    "for n, (tr_idx, val_idx) in enumerate(kf.split(X, y)) :\n",
    "    print(f'{n + 1} FOLD Training.....')\n",
    "    tr_x, tr_y = X.iloc[tr_idx], y.iloc[tr_idx]\n",
    "    val_x, val_y = X.iloc[val_idx], np.expm1(y.iloc[val_idx])\n",
    "    \n",
    "    tr_data = Pool(data = tr_x, label = tr_y)\n",
    "    val_data = Pool(data = val_x, label = val_y)\n",
    "    \n",
    "    cb = CatBoostRegressor(depth = 4, random_state = 42, loss_function = 'MAE', n_estimators = 3000, learning_rate = 0.03, verbose = 0)\n",
    "    cb.fit(tr_data, eval_set = val_data, early_stopping_rounds = 750, verbose = 1000)\n",
    "    \n",
    "    val_pred = np.expm1(cb.predict(val_x))\n",
    "    val_nmae = NMAE(val_y, val_pred)\n",
    "    cb_val.append(val_nmae)\n",
    "    print(f'{n + 1} FOLD NMAE = {val_nmae}\\n')\n",
    "    \n",
    "    target_data = Pool(data = target, label = None)\n",
    "    fold_pred = cb.predict(target) / 10\n",
    "    cb_pred += fold_pred\n",
    "print(f'10FOLD Mean of NMAE = {np.mean(cb_val)} & std = {np.std(cb_val)}')"
   ]
  },
  {
   "cell_type": "markdown",
   "id": "9d4288bc",
   "metadata": {},
   "source": [
    "#### NGBoost"
   ]
  },
  {
   "cell_type": "code",
   "execution_count": 132,
   "id": "87240226",
   "metadata": {},
   "outputs": [
    {
     "name": "stdout",
     "output_type": "stream",
     "text": [
      "1 FOLD Training.....\n",
      "1 FOLD NMAE = 0.09139105186947728\n",
      "\n",
      "2 FOLD Training.....\n",
      "2 FOLD NMAE = 0.10448077875173191\n",
      "\n",
      "3 FOLD Training.....\n",
      "3 FOLD NMAE = 0.08945836397438957\n",
      "\n",
      "4 FOLD Training.....\n",
      "4 FOLD NMAE = 0.10370500824408162\n",
      "\n",
      "5 FOLD Training.....\n",
      "5 FOLD NMAE = 0.08751314747354343\n",
      "\n",
      "6 FOLD Training.....\n",
      "6 FOLD NMAE = 0.0988802288811046\n",
      "\n",
      "7 FOLD Training.....\n",
      "7 FOLD NMAE = 0.09021976165753566\n",
      "\n",
      "8 FOLD Training.....\n",
      "8 FOLD NMAE = 0.09901283897320236\n",
      "\n",
      "9 FOLD Training.....\n",
      "9 FOLD NMAE = 0.10069763690666884\n",
      "\n",
      "10 FOLD Training.....\n",
      "10 FOLD NMAE = 0.09603712543190125\n",
      "\n",
      "10FOLD Mean of NMAE = 0.09613959421636366 & std = 0.0058310480068190906\n"
     ]
    }
   ],
   "source": [
    "ngb_pred = np.zeros(target.shape[0])\n",
    "ngb_val = []\n",
    "for n, (tr_idx, val_idx) in enumerate(kf.split(X, y)) :\n",
    "    print(f'{n + 1} FOLD Training.....')\n",
    "    tr_x, tr_y = X.iloc[tr_idx], y.iloc[tr_idx]\n",
    "    val_x, val_y = X.iloc[val_idx], np.expm1(y.iloc[val_idx])\n",
    "    \n",
    "    ngb = NGBRegressor(random_state = 42, n_estimators = 1000, verbose = 0, learning_rate = 0.03)\n",
    "    ngb.fit(tr_x, tr_y, val_x, val_y, early_stopping_rounds = 300)\n",
    "    \n",
    "    val_pred = np.expm1(ngb.predict(val_x))\n",
    "    val_nmae = NMAE(val_y, val_pred)\n",
    "    ngb_val.append(val_nmae)\n",
    "    print(f'{n + 1} FOLD NMAE = {val_nmae}\\n')\n",
    "    \n",
    "    target_data = Pool(data = target, label = None)\n",
    "    fold_pred = ngb.predict(target) / 10\n",
    "    ngb_pred += fold_pred\n",
    "print(f'10FOLD Mean of NMAE = {np.mean(ngb_val)} & std = {np.std(ngb_val)}')"
   ]
  },
  {
   "cell_type": "code",
   "execution_count": 140,
   "id": "b254f749",
   "metadata": {
    "scrolled": true
   },
   "outputs": [
    {
     "data": {
      "text/plain": [
       "array([12.71934207, 11.76947926, 12.07734597, ..., 11.28888927,\n",
       "       12.18784488, 11.86900045])"
      ]
     },
     "execution_count": 140,
     "metadata": {},
     "output_type": "execute_result"
    }
   ],
   "source": [
    "(ngb_pred + cb_pred + rf_pred + gbr_pred) / 4"
   ]
  },
  {
   "cell_type": "markdown",
   "id": "012ed2ed",
   "metadata": {},
   "source": [
    "각 모델이 10fold마다 만든 예측값의 산술평균입니다.\n",
    "\n",
    "총 모델이 10(fold 수) * 4(모델 수) = 40개가 만들어졌고 각 모델이 예측한 값의 평균을 최종 예측값으로 사용했다고 생각하시면 됩니다."
   ]
  },
  {
   "cell_type": "code",
   "execution_count": 141,
   "id": "89787cd0",
   "metadata": {},
   "outputs": [],
   "source": [
    "submission['target'] = np.expm1((ngb_pred + cb_pred + rf_pred + gbr_pred) / 4)"
   ]
  },
  {
   "cell_type": "markdown",
   "id": "24793427",
   "metadata": {},
   "source": [
    "로그 변환된 값을 지수변환을 통해 원래의 값으로 복원하여 target값으로 지정합니다."
   ]
  },
  {
   "cell_type": "code",
   "execution_count": 142,
   "id": "935f364c",
   "metadata": {},
   "outputs": [],
   "source": [
    "submission.to_csv('1st.csv', index = False)"
   ]
  }
 ],
 "metadata": {
  "kernelspec": {
   "display_name": "Python 3 (ipykernel)",
   "language": "python",
   "name": "python3"
  },
  "language_info": {
   "codemirror_mode": {
    "name": "ipython",
    "version": 3
   },
   "file_extension": ".py",
   "mimetype": "text/x-python",
   "name": "python",
   "nbconvert_exporter": "python",
   "pygments_lexer": "ipython3",
   "version": "3.9.7"
  }
 },
 "nbformat": 4,
 "nbformat_minor": 5
}
