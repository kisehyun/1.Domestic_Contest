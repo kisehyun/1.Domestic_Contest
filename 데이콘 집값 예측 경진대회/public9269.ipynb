{
 "cells": [
  {
   "cell_type": "code",
   "execution_count": 212,
   "id": "c809ab58",
   "metadata": {},
   "outputs": [],
   "source": [
    "import pandas as pd\n",
    "import numpy as np\n",
    "\n",
    "import warnings\n",
    "warnings.filterwarnings('ignore')\n",
    "\n",
    "import seaborn as sns\n",
    "import matplotlib.pyplot as plt\n",
    "%matplotlib inline\n",
    "\n",
    "from sklearn.ensemble import GradientBoostingRegressor, RandomForestRegressor\n",
    "from sklearn.linear_model import LinearRegression, Ridge, Lasso\n",
    "from xgboost import XGBRegressor\n",
    "from catboost import CatBoostRegressor, Pool\n",
    "from ngboost import NGBRegressor\n",
    "from lightgbm import LGBMRegressor\n",
    "from sklearn.model_selection import KFold"
   ]
  },
  {
   "cell_type": "markdown",
   "id": "16f33c71",
   "metadata": {},
   "source": [
    "- id : 데이터 고유 id\n",
    "- OverallQual : 전반적 재료와 마감 품질\n",
    "- YearBuilt : 완공 연도\n",
    "- YearRemodAdd : 리모델링 연도\n",
    "- ExterQual : 외관 재료 품질\n",
    "- BsmtQual : 지하실 높이\n",
    "- TotalBsmtSF : 지하실 면적 \n",
    "- 1stFlrSF : 1층 면적 \n",
    "- GrLivArea : 지상층 생활 면적\n",
    "- FullBath : 지상층 화장실 개수 \n",
    "- KitchenQual : 부억 품질 \n",
    "- GarageYrBlt : 차고 완공 연도\n",
    "- GarageCars: 차고 자리 개수\n",
    "- GarageArea: 차고 면적 \n",
    "- target : 집값(달러 단위)"
   ]
  },
  {
   "cell_type": "code",
   "execution_count": 213,
   "id": "3d68719b",
   "metadata": {},
   "outputs": [],
   "source": [
    "train = pd.read_csv('train.csv')\n",
    "test = pd.read_csv('test.csv')\n",
    "submission = pd.read_csv('sample_submission.csv')"
   ]
  },
  {
   "cell_type": "code",
   "execution_count": 214,
   "id": "3df461db",
   "metadata": {},
   "outputs": [],
   "source": [
    "train = train.iloc[:, 1:]\n",
    "test = test.iloc[:, 1:]"
   ]
  },
  {
   "cell_type": "code",
   "execution_count": 215,
   "id": "8c1f6e9b",
   "metadata": {},
   "outputs": [],
   "source": [
    "train = train[train['Garage Yr Blt'] < 2050]"
   ]
  },
  {
   "cell_type": "code",
   "execution_count": 216,
   "id": "cc7370dc",
   "metadata": {},
   "outputs": [],
   "source": [
    "train['new1'] = 2022 - train['Year Remod/Add']\n",
    "test['new1'] = 2022 - test['Year Remod/Add']"
   ]
  },
  {
   "cell_type": "code",
   "execution_count": 217,
   "id": "0699dad6",
   "metadata": {},
   "outputs": [],
   "source": [
    "train['new2'] = train['Total Bsmt SF'] / train['1st Flr SF']\n",
    "test['new2'] = test['Total Bsmt SF'] / test['1st Flr SF']"
   ]
  },
  {
   "cell_type": "code",
   "execution_count": 218,
   "id": "55bc913e",
   "metadata": {},
   "outputs": [],
   "source": [
    "train['new3'] = train['Gr Liv Area'] / train['1st Flr SF']\n",
    "test['new3'] = test['Gr Liv Area'] / test['1st Flr SF']"
   ]
  },
  {
   "cell_type": "code",
   "execution_count": 220,
   "id": "9ee12ab2",
   "metadata": {},
   "outputs": [],
   "source": [
    "train['EQ'] = train['Exter Qual'].map({'Ex' : 5, 'Gd' : 4, 'TA' : 3, 'Fa' : 2, 'Po' : 1})\n",
    "test['EQ'] = test['Exter Qual'].map({'Ex' : 5, 'Gd' : 4, 'TA' : 3, 'Fa' : 2, 'Po' : 1})"
   ]
  },
  {
   "cell_type": "code",
   "execution_count": 221,
   "id": "fd035b13",
   "metadata": {},
   "outputs": [],
   "source": [
    "train['KQ'] = train['Kitchen Qual'].map({'Ex' : 5, 'Gd' : 4, 'TA' : 3, 'Fa' : 2, 'Po' : 1})\n",
    "test['KQ'] = test['Kitchen Qual'].map({'Ex' : 5, 'Gd' : 4, 'TA' : 3, 'Fa' : 2, 'Po' : 1})"
   ]
  },
  {
   "cell_type": "code",
   "execution_count": 222,
   "id": "c2955a6e",
   "metadata": {},
   "outputs": [],
   "source": [
    "train['BQ'] = train['Bsmt Qual'].map({'Ex' : 5, 'Gd' : 4, 'TA' : 3, 'Fa' : 2, 'Po' : 1})\n",
    "test['BQ'] = test['Bsmt Qual'].map({'Ex' : 5, 'Gd' : 4, 'TA' : 3, 'Fa' : 2, 'Po' : 1})"
   ]
  },
  {
   "cell_type": "code",
   "execution_count": 223,
   "id": "5d224c3a",
   "metadata": {},
   "outputs": [],
   "source": [
    "train['TQ'] = train['Overall Qual'] * 0.5 + train['EQ'] * 0.3 + train['KQ'] * 0.15 + train['BQ'] * 0.05\n",
    "test['TQ'] = test['Overall Qual'] * 0.5 + test['EQ'] * 0.3 + test['KQ'] * 0.15 + test['BQ'] * 0.05"
   ]
  },
  {
   "cell_type": "code",
   "execution_count": 224,
   "id": "a858111c",
   "metadata": {},
   "outputs": [],
   "source": [
    "cat_cols = ['Exter Qual', 'Kitchen Qual', 'Bsmt Qual']"
   ]
  },
  {
   "cell_type": "code",
   "execution_count": 225,
   "id": "590ff879",
   "metadata": {},
   "outputs": [],
   "source": [
    "for c in cat_cols :\n",
    "    ord_df = train.groupby(c).target.median().reset_index(name = f'ord_{c}')\n",
    "    train = pd.merge(train, ord_df, how = 'left')\n",
    "    test = pd.merge(test, ord_df, how = 'left')"
   ]
  },
  {
   "cell_type": "code",
   "execution_count": 226,
   "id": "e79d8a78",
   "metadata": {},
   "outputs": [],
   "source": [
    "train.drop(cat_cols, axis = 1, inplace = True)\n",
    "test.drop(cat_cols, axis = 1, inplace = True)"
   ]
  },
  {
   "cell_type": "code",
   "execution_count": 227,
   "id": "48ef064e",
   "metadata": {},
   "outputs": [],
   "source": [
    "X = train.drop(['KQ', 'EQ', 'BQ', 'Overall Qual', 'Garage Area', '1st Flr SF', 'target'], axis = 1)\n",
    "y = np.log1p(train.target)\n",
    "\n",
    "target = test[X.columns]"
   ]
  },
  {
   "cell_type": "code",
   "execution_count": 228,
   "id": "bb60e3fd",
   "metadata": {},
   "outputs": [],
   "source": [
    "target.fillna(target.median(), inplace = True)"
   ]
  },
  {
   "cell_type": "code",
   "execution_count": 229,
   "id": "0ec2714d",
   "metadata": {},
   "outputs": [],
   "source": [
    "kf = KFold(n_splits = 10, random_state = 42, shuffle = True)"
   ]
  },
  {
   "cell_type": "code",
   "execution_count": 230,
   "id": "b8d9b1d1",
   "metadata": {},
   "outputs": [],
   "source": [
    "n_models = 5"
   ]
  },
  {
   "cell_type": "code",
   "execution_count": 231,
   "id": "8e7a6f14",
   "metadata": {},
   "outputs": [],
   "source": [
    "def NMAE(true, pred) -> float:\n",
    "    mae = np.mean(np.abs(true - pred))\n",
    "    score = mae / np.mean(np.abs(true))\n",
    "    return score"
   ]
  },
  {
   "cell_type": "code",
   "execution_count": 232,
   "id": "0e3d9332",
   "metadata": {},
   "outputs": [
    {
     "name": "stdout",
     "output_type": "stream",
     "text": [
      "##### 1 FOLD Training..... #####\n",
      "GradientBoostingRegressor Training Completed...NMAE = 0.08659073069993031\n",
      "RandomForestRegressor Training Completed...NMAE = 0.08178186863130457\n",
      "CatBoostRegressor Training Completed...NMAE = 0.09136121174909666\n",
      "NGBRegressor Training Completed...NMAE = 0.08756981037712237\n",
      "XGBRegressor Training Completed...NMAE = 0.092200131779733\n",
      "\n",
      "1 FOLD Validation NMAE = 0.08395875618845233\n",
      "\n",
      "##### 2 FOLD Training..... #####\n",
      "GradientBoostingRegressor Training Completed...NMAE = 0.10821467852802548\n",
      "RandomForestRegressor Training Completed...NMAE = 0.10142607371948074\n",
      "CatBoostRegressor Training Completed...NMAE = 0.10133544991906651\n",
      "NGBRegressor Training Completed...NMAE = 0.10308002973764664\n",
      "XGBRegressor Training Completed...NMAE = 0.11461251601968098\n",
      "\n",
      "2 FOLD Validation NMAE = 0.10280905939159607\n",
      "\n",
      "##### 3 FOLD Training..... #####\n",
      "GradientBoostingRegressor Training Completed...NMAE = 0.08996626914593947\n",
      "RandomForestRegressor Training Completed...NMAE = 0.0882920375123224\n",
      "CatBoostRegressor Training Completed...NMAE = 0.11306848008304975\n",
      "NGBRegressor Training Completed...NMAE = 0.08610837343584582\n",
      "XGBRegressor Training Completed...NMAE = 0.09139332002183789\n",
      "\n",
      "3 FOLD Validation NMAE = 0.08566792787257851\n",
      "\n",
      "##### 4 FOLD Training..... #####\n",
      "GradientBoostingRegressor Training Completed...NMAE = 0.10631192814560152\n",
      "RandomForestRegressor Training Completed...NMAE = 0.10481782692882895\n",
      "CatBoostRegressor Training Completed...NMAE = 0.09907493137771484\n",
      "NGBRegressor Training Completed...NMAE = 0.10446500527916387\n",
      "XGBRegressor Training Completed...NMAE = 0.10999918720291087\n",
      "\n",
      "4 FOLD Validation NMAE = 0.101945349046366\n",
      "\n",
      "##### 5 FOLD Training..... #####\n",
      "GradientBoostingRegressor Training Completed...NMAE = 0.09762522577920302\n",
      "RandomForestRegressor Training Completed...NMAE = 0.10761818772933573\n",
      "CatBoostRegressor Training Completed...NMAE = 0.09858653573556031\n",
      "NGBRegressor Training Completed...NMAE = 0.09745081960596914\n",
      "XGBRegressor Training Completed...NMAE = 0.0993007926818826\n",
      "\n",
      "5 FOLD Validation NMAE = 0.09604722824878155\n",
      "\n",
      "##### 6 FOLD Training..... #####\n",
      "GradientBoostingRegressor Training Completed...NMAE = 0.09318636931353891\n",
      "RandomForestRegressor Training Completed...NMAE = 0.10138054491576878\n",
      "CatBoostRegressor Training Completed...NMAE = 0.08455444757457592\n",
      "NGBRegressor Training Completed...NMAE = 0.09781203151913981\n",
      "XGBRegressor Training Completed...NMAE = 0.09406405606822509\n",
      "\n",
      "6 FOLD Validation NMAE = 0.09079705302704166\n",
      "\n",
      "##### 7 FOLD Training..... #####\n",
      "GradientBoostingRegressor Training Completed...NMAE = 0.08760101122245743\n",
      "RandomForestRegressor Training Completed...NMAE = 0.08789737469158411\n",
      "CatBoostRegressor Training Completed...NMAE = 0.08999347809005241\n",
      "NGBRegressor Training Completed...NMAE = 0.08577566357520648\n",
      "XGBRegressor Training Completed...NMAE = 0.0881859756765165\n",
      "\n",
      "7 FOLD Validation NMAE = 0.08363618280914784\n",
      "\n",
      "##### 8 FOLD Training..... #####\n",
      "GradientBoostingRegressor Training Completed...NMAE = 0.0940826778775582\n",
      "RandomForestRegressor Training Completed...NMAE = 0.10428607824822121\n",
      "CatBoostRegressor Training Completed...NMAE = 0.11913924542418501\n",
      "NGBRegressor Training Completed...NMAE = 0.09847155727738578\n",
      "XGBRegressor Training Completed...NMAE = 0.10180271384355019\n",
      "\n",
      "8 FOLD Validation NMAE = 0.0945411098526651\n",
      "\n",
      "##### 9 FOLD Training..... #####\n",
      "GradientBoostingRegressor Training Completed...NMAE = 0.09734497756992064\n",
      "RandomForestRegressor Training Completed...NMAE = 0.10860990653052777\n",
      "CatBoostRegressor Training Completed...NMAE = 0.1187048882968064\n",
      "NGBRegressor Training Completed...NMAE = 0.10733062226646335\n",
      "XGBRegressor Training Completed...NMAE = 0.09935268887517039\n",
      "\n",
      "9 FOLD Validation NMAE = 0.10111325641242273\n",
      "\n",
      "##### 10 FOLD Training..... #####\n",
      "GradientBoostingRegressor Training Completed...NMAE = 0.10165759248307601\n",
      "RandomForestRegressor Training Completed...NMAE = 0.09121033982668049\n",
      "CatBoostRegressor Training Completed...NMAE = 0.09522251854506747\n",
      "NGBRegressor Training Completed...NMAE = 0.09650235831875052\n",
      "XGBRegressor Training Completed...NMAE = 0.09932266114425671\n",
      "\n",
      "10 FOLD Validation NMAE = 0.09381459436088477\n",
      "\n",
      "##############################\n",
      "10FOLD Mean of NMAE = 0.09343305172099367 & std = 0.006932157745133956\n",
      "##### 각 모델별 NMAE #####\n",
      "RandomForestRegressor 10 FOLD Mean of NMAE = 0.09625814607652511\n",
      "CatBoostRegressor 10 FOLD Mean of NMAE = 0.10110411867951755\n",
      "NGBRegressor 10 FOLD Mean of NMAE = 0.09645662713926939\n",
      "GradientBoostingRegressor 10 FOLD Mean of NMAE = 0.09773202387340546\n",
      "XGBRegressor 10 FOLD Mean of NMAE = 0.09902340433137642\n"
     ]
    }
   ],
   "source": [
    "val_nmae = []\n",
    "rf_nmae = []\n",
    "ngb_nmae = []\n",
    "xgb_nmae = []\n",
    "cb_nmae = []\n",
    "gbr_nmae = []\n",
    "fold_pred = np.zeros(target.shape[0])\n",
    "for n, (tr_idx, val_idx) in enumerate(kf.split(X, y)) :\n",
    "    print(f'##### {n + 1} FOLD Training..... #####')\n",
    "    \n",
    "    tr_x, tr_y = X.iloc[tr_idx], y.iloc[tr_idx]\n",
    "    val_x, val_y = X.iloc[val_idx], np.expm1(y.iloc[val_idx])\n",
    "    \n",
    "    tr_data = Pool(data = tr_x, label = tr_y)\n",
    "    val_data = Pool(data = val_x, label = val_y)\n",
    "    target_data = Pool(data = target, label = None)\n",
    "    \n",
    "    rf = RandomForestRegressor(random_state = 2022, criterion = 'mae')\n",
    "    cb = CatBoostRegressor(depth = 4, random_state = 2, loss_function = 'MAE', n_estimators = 3000, learning_rate = 0.03, verbose = 0)\n",
    "    ngb = NGBRegressor(random_state = 1, n_estimators = 3000, verbose = 0, learning_rate = 0.03)\n",
    "    xgb = XGBRegressor(random_state = 28, max_depth = 4, n_estimators = 3000, learning_rate = 0.03, objective = 'reg:squarederror')\n",
    "    gbr = GradientBoostingRegressor(random_state = 67, max_depth = 4, learning_rate = 0.03, n_estimators = 1500)\n",
    "    \n",
    "    rf.fit(tr_x, tr_y)\n",
    "    rf_val = np.expm1(rf.predict(val_x))\n",
    "    rf_score = NMAE(val_y, rf_val)\n",
    "    rf_nmae.append(rf_score)\n",
    "    print(f'{gbr.__class__.__name__} Training Completed...NMAE = {NMAE(val_y, rf_val)}')\n",
    "    gbr.fit(tr_x, tr_y)\n",
    "    gbr_val = np.expm1(gbr.predict(val_x))\n",
    "    gbr_score = NMAE(val_y, gbr_val)\n",
    "    gbr_nmae.append(gbr_score)\n",
    "    print(f'{rf.__class__.__name__} Training Completed...NMAE = {NMAE(val_y, gbr_val)}')\n",
    "    cb.fit(tr_data, eval_set = val_data, early_stopping_rounds = 750, verbose = 0)\n",
    "    cb_val = np.expm1(cb.predict(val_data))\n",
    "    cb_score = NMAE(val_y, cb_val)\n",
    "    cb_nmae.append(cb_score)\n",
    "    print(f'{cb.__class__.__name__} Training Completed...NMAE = {NMAE(val_y, cb_val)}')\n",
    "    ngb.fit(tr_x, tr_y, val_x, val_y, early_stopping_rounds = 500)\n",
    "    ngb_val = np.expm1(ngb.predict(val_x))\n",
    "    ngb_score = NMAE(val_y, ngb_val)\n",
    "    ngb_nmae.append(ngb_score)\n",
    "    print(f'{ngb.__class__.__name__} Training Completed...NMAE = {NMAE(val_y, ngb_val)}')\n",
    "    xgb.fit(tr_x, tr_y, eval_set = [(tr_x, tr_y), (val_x, val_y)], early_stopping_rounds = 500, verbose = 0, eval_metric = 'mae')\n",
    "    xgb_val = np.expm1(xgb.predict(val_x))\n",
    "    xgb_score = NMAE(val_y, xgb_val)\n",
    "    xgb_nmae.append(xgb_score)\n",
    "    print(f'{xgb.__class__.__name__} Training Completed...NMAE = {NMAE(val_y, xgb_val)}\\n')\n",
    "    val_pred = (rf_val + ngb_val + cb_val + xgb_val + gbr_val) / n_models\n",
    "    \n",
    "    fold_nmae = NMAE(val_y, val_pred)\n",
    "    val_nmae.append(fold_nmae)\n",
    "    print(f'{n + 1} FOLD Validation NMAE = {fold_nmae}\\n')\n",
    "    \n",
    "    rf_fold = rf.predict(target) / (n_models * kf.n_splits)\n",
    "    cb_fold = cb.predict(target_data) / (n_models * kf.n_splits)\n",
    "    ngb_fold = ngb.predict(target) / (n_models * kf.n_splits)\n",
    "    xgb_fold = xgb.predict(target) / (n_models * kf.n_splits)\n",
    "    gbr_fold = gbr.predict(target) / (n_models * kf.n_splits)\n",
    "    \n",
    "    fold_pred += (gbr_fold + rf_fold  + cb_fold + ngb_fold + xgb_fold)\n",
    "    \n",
    "print(f'{\"#\" * 30}')\n",
    "print(f'{kf.n_splits}FOLD Mean of NMAE = {np.mean(val_nmae)} & std = {np.std(val_nmae)}')\n",
    "print(f'##### 각 모델별 NMAE #####')\n",
    "print(f'{rf.__class__.__name__} {kf.n_splits} FOLD Mean of NMAE = {np.mean(rf_nmae)}')\n",
    "print(f'{cb.__class__.__name__} {kf.n_splits} FOLD Mean of NMAE = {np.mean(cb_nmae)}')\n",
    "print(f'{ngb.__class__.__name__} {kf.n_splits} FOLD Mean of NMAE = {np.mean(ngb_nmae)}')\n",
    "print(f'{gbr.__class__.__name__} {kf.n_splits} FOLD Mean of NMAE = {np.mean(gbr_nmae)}')\n",
    "print(f'{xgb.__class__.__name__} {kf.n_splits} FOLD Mean of NMAE = {np.mean(xgb_nmae)}')"
   ]
  },
  {
   "cell_type": "code",
   "execution_count": 237,
   "id": "31d1a281",
   "metadata": {
    "scrolled": true
   },
   "outputs": [],
   "source": [
    "final = (rf_fold + xgb_fold + ngb_fold + cb_fold + gbr_fold) / 5"
   ]
  },
  {
   "cell_type": "code",
   "execution_count": 238,
   "id": "41ae54d6",
   "metadata": {},
   "outputs": [],
   "source": [
    "submission['target'] = np.expm1(fold_pred)"
   ]
  },
  {
   "cell_type": "code",
   "execution_count": 242,
   "id": "8cfe3d9d",
   "metadata": {},
   "outputs": [],
   "source": [
    "submission.to_csv('0202.csv', index = False)"
   ]
  },
  {
   "cell_type": "code",
   "execution_count": 243,
   "id": "82df4194",
   "metadata": {
    "scrolled": true
   },
   "outputs": [
    {
     "data": {
      "text/html": [
       "<div>\n",
       "<style scoped>\n",
       "    .dataframe tbody tr th:only-of-type {\n",
       "        vertical-align: middle;\n",
       "    }\n",
       "\n",
       "    .dataframe tbody tr th {\n",
       "        vertical-align: top;\n",
       "    }\n",
       "\n",
       "    .dataframe thead th {\n",
       "        text-align: right;\n",
       "    }\n",
       "</style>\n",
       "<table border=\"1\" class=\"dataframe\">\n",
       "  <thead>\n",
       "    <tr style=\"text-align: right;\">\n",
       "      <th></th>\n",
       "      <th>id</th>\n",
       "      <th>target</th>\n",
       "    </tr>\n",
       "  </thead>\n",
       "  <tbody>\n",
       "    <tr>\n",
       "      <th>0</th>\n",
       "      <td>1</td>\n",
       "      <td>321506.700692</td>\n",
       "    </tr>\n",
       "    <tr>\n",
       "      <th>1</th>\n",
       "      <td>2</td>\n",
       "      <td>128587.806387</td>\n",
       "    </tr>\n",
       "    <tr>\n",
       "      <th>2</th>\n",
       "      <td>3</td>\n",
       "      <td>177809.876568</td>\n",
       "    </tr>\n",
       "    <tr>\n",
       "      <th>3</th>\n",
       "      <td>4</td>\n",
       "      <td>240225.990805</td>\n",
       "    </tr>\n",
       "    <tr>\n",
       "      <th>4</th>\n",
       "      <td>5</td>\n",
       "      <td>132912.741959</td>\n",
       "    </tr>\n",
       "    <tr>\n",
       "      <th>...</th>\n",
       "      <td>...</td>\n",
       "      <td>...</td>\n",
       "    </tr>\n",
       "    <tr>\n",
       "      <th>1345</th>\n",
       "      <td>1346</td>\n",
       "      <td>329607.201451</td>\n",
       "    </tr>\n",
       "    <tr>\n",
       "      <th>1346</th>\n",
       "      <td>1347</td>\n",
       "      <td>127432.703337</td>\n",
       "    </tr>\n",
       "    <tr>\n",
       "      <th>1347</th>\n",
       "      <td>1348</td>\n",
       "      <td>73577.077991</td>\n",
       "    </tr>\n",
       "    <tr>\n",
       "      <th>1348</th>\n",
       "      <td>1349</td>\n",
       "      <td>184039.929560</td>\n",
       "    </tr>\n",
       "    <tr>\n",
       "      <th>1349</th>\n",
       "      <td>1350</td>\n",
       "      <td>132422.411911</td>\n",
       "    </tr>\n",
       "  </tbody>\n",
       "</table>\n",
       "<p>1350 rows × 2 columns</p>\n",
       "</div>"
      ],
      "text/plain": [
       "        id         target\n",
       "0        1  321506.700692\n",
       "1        2  128587.806387\n",
       "2        3  177809.876568\n",
       "3        4  240225.990805\n",
       "4        5  132912.741959\n",
       "...    ...            ...\n",
       "1345  1346  329607.201451\n",
       "1346  1347  127432.703337\n",
       "1347  1348   73577.077991\n",
       "1348  1349  184039.929560\n",
       "1349  1350  132422.411911\n",
       "\n",
       "[1350 rows x 2 columns]"
      ]
     },
     "execution_count": 243,
     "metadata": {},
     "output_type": "execute_result"
    }
   ],
   "source": [
    "submission"
   ]
  }
 ],
 "metadata": {
  "kernelspec": {
   "display_name": "Python 3",
   "language": "python",
   "name": "python3"
  },
  "language_info": {
   "codemirror_mode": {
    "name": "ipython",
    "version": 3
   },
   "file_extension": ".py",
   "mimetype": "text/x-python",
   "name": "python",
   "nbconvert_exporter": "python",
   "pygments_lexer": "ipython3",
   "version": "3.8.8"
  }
 },
 "nbformat": 4,
 "nbformat_minor": 5
}
