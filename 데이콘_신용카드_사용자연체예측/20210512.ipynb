{
 "cells": [
  {
   "cell_type": "code",
   "execution_count": 179,
   "metadata": {},
   "outputs": [],
   "source": [
    "import pandas as pd\n",
    "import numpy as np\n",
    "import warnings\n",
    "warnings.filterwarnings('ignore')\n",
    "import matplotlib.pyplot as plt\n",
    "import seaborn as sns\n",
    "%matplotlib inline\n",
    "from sklearn.model_selection import StratifiedKFold\n",
    "from sklearn.ensemble import GradientBoostingClassifier, RandomForestClassifier\n",
    "from sklearn.metrics import log_loss\n",
    "from lightgbm import LGBMClassifier\n",
    "from xgboost import XGBClassifier, XGBRFClassifier\n",
    "from catboost import CatBoostClassifier, Pool\n",
    "from ngboost import NGBClassifier\n",
    "from ngboost.scores import LogScore, CRPScore\n",
    "from ngboost.distns import k_categorical\n",
    "from sklearn.preprocessing import *\n",
    "from scipy.stats import chisquare, chi2_contingency\n",
    "\n",
    "from kaggler.model import AutoLGB"
   ]
  },
  {
   "cell_type": "markdown",
   "metadata": {},
   "source": [
    "- 2021.04.21 : 0.7343 / 0.7380 / 0.7280/ LB = 0.7208692899\n",
    "- 2021.04.23 : 0.73368 / 0.73638 / 0.7275 / LB = 0.71992"
   ]
  },
  {
   "cell_type": "markdown",
   "metadata": {},
   "source": [
    "### 변수 설명\n",
    "\n",
    "< features >\n",
    "    \n",
    "- gender : 성별\n",
    "- car: 차량 소유 여부\n",
    "- reality: 부동산 소유 여부\n",
    "- child_num: 자녀 수\n",
    "- income_total: 연간 소득\n",
    "- income_type: 소득 분류\n",
    "- edu_type: 교육 수준\n",
    "- family_type: 결혼 여부\n",
    "- house_type: 생활 방식\n",
    "- DAYS_BIRTH: 출생일\n",
    "- DAYS_EMPLOYED: 업무 시작일(양수값은 고용상태가 아님)\n",
    "- FLAG_MOBIL: 핸드폰 소유 여부\n",
    "- work_phone: 업무용 전화 소유 여부\n",
    "- phone: 전화 소유 여부\n",
    "- email: 이메일 소유 여부\n",
    "- occyp_type: 직업 유형\t\t\t\t\t\t\t\t\t\t\t\t\t\n",
    "- family_size: 가족 규모\n",
    "- begin_month: 신용카드 발급 월\n",
    "\n",
    "\n",
    "< target >\n",
    "- credit: 사용자의 신용카드 대금 연체를 기준의 신용도"
   ]
  },
  {
   "cell_type": "code",
   "execution_count": 180,
   "metadata": {},
   "outputs": [],
   "source": [
    "train = pd.read_csv('train.csv').iloc[:, 1:]\n",
    "test = pd.read_csv('test.csv').iloc[:, 1:]"
   ]
  },
  {
   "cell_type": "code",
   "execution_count": 181,
   "metadata": {},
   "outputs": [
    {
     "data": {
      "text/html": [
       "<div>\n",
       "<style scoped>\n",
       "    .dataframe tbody tr th:only-of-type {\n",
       "        vertical-align: middle;\n",
       "    }\n",
       "\n",
       "    .dataframe tbody tr th {\n",
       "        vertical-align: top;\n",
       "    }\n",
       "\n",
       "    .dataframe thead th {\n",
       "        text-align: right;\n",
       "    }\n",
       "</style>\n",
       "<table border=\"1\" class=\"dataframe\">\n",
       "  <thead>\n",
       "    <tr style=\"text-align: right;\">\n",
       "      <th></th>\n",
       "      <th>gender</th>\n",
       "      <th>car</th>\n",
       "      <th>reality</th>\n",
       "      <th>child_num</th>\n",
       "      <th>income_total</th>\n",
       "      <th>income_type</th>\n",
       "      <th>edu_type</th>\n",
       "      <th>family_type</th>\n",
       "      <th>house_type</th>\n",
       "      <th>DAYS_BIRTH</th>\n",
       "      <th>DAYS_EMPLOYED</th>\n",
       "      <th>FLAG_MOBIL</th>\n",
       "      <th>work_phone</th>\n",
       "      <th>phone</th>\n",
       "      <th>email</th>\n",
       "      <th>occyp_type</th>\n",
       "      <th>family_size</th>\n",
       "      <th>begin_month</th>\n",
       "      <th>credit</th>\n",
       "    </tr>\n",
       "  </thead>\n",
       "  <tbody>\n",
       "    <tr>\n",
       "      <th>0</th>\n",
       "      <td>F</td>\n",
       "      <td>N</td>\n",
       "      <td>N</td>\n",
       "      <td>0</td>\n",
       "      <td>202500.0</td>\n",
       "      <td>Commercial associate</td>\n",
       "      <td>Higher education</td>\n",
       "      <td>Married</td>\n",
       "      <td>Municipal apartment</td>\n",
       "      <td>-13899</td>\n",
       "      <td>-4709</td>\n",
       "      <td>1</td>\n",
       "      <td>0</td>\n",
       "      <td>0</td>\n",
       "      <td>0</td>\n",
       "      <td>NaN</td>\n",
       "      <td>2.0</td>\n",
       "      <td>-6.0</td>\n",
       "      <td>1.0</td>\n",
       "    </tr>\n",
       "    <tr>\n",
       "      <th>1</th>\n",
       "      <td>F</td>\n",
       "      <td>N</td>\n",
       "      <td>Y</td>\n",
       "      <td>1</td>\n",
       "      <td>247500.0</td>\n",
       "      <td>Commercial associate</td>\n",
       "      <td>Secondary / secondary special</td>\n",
       "      <td>Civil marriage</td>\n",
       "      <td>House / apartment</td>\n",
       "      <td>-11380</td>\n",
       "      <td>-1540</td>\n",
       "      <td>1</td>\n",
       "      <td>0</td>\n",
       "      <td>0</td>\n",
       "      <td>1</td>\n",
       "      <td>Laborers</td>\n",
       "      <td>3.0</td>\n",
       "      <td>-5.0</td>\n",
       "      <td>1.0</td>\n",
       "    </tr>\n",
       "  </tbody>\n",
       "</table>\n",
       "</div>"
      ],
      "text/plain": [
       "  gender car reality  child_num  income_total           income_type  \\\n",
       "0      F   N       N          0      202500.0  Commercial associate   \n",
       "1      F   N       Y          1      247500.0  Commercial associate   \n",
       "\n",
       "                        edu_type     family_type           house_type  \\\n",
       "0               Higher education         Married  Municipal apartment   \n",
       "1  Secondary / secondary special  Civil marriage    House / apartment   \n",
       "\n",
       "   DAYS_BIRTH  DAYS_EMPLOYED  FLAG_MOBIL  work_phone  phone  email occyp_type  \\\n",
       "0      -13899          -4709           1           0      0      0        NaN   \n",
       "1      -11380          -1540           1           0      0      1   Laborers   \n",
       "\n",
       "   family_size  begin_month  credit  \n",
       "0          2.0         -6.0     1.0  \n",
       "1          3.0         -5.0     1.0  "
      ]
     },
     "execution_count": 181,
     "metadata": {},
     "output_type": "execute_result"
    }
   ],
   "source": [
    "train.head(2)"
   ]
  },
  {
   "cell_type": "code",
   "execution_count": 182,
   "metadata": {
    "scrolled": true
   },
   "outputs": [
    {
     "data": {
      "text/html": [
       "<div>\n",
       "<style scoped>\n",
       "    .dataframe tbody tr th:only-of-type {\n",
       "        vertical-align: middle;\n",
       "    }\n",
       "\n",
       "    .dataframe tbody tr th {\n",
       "        vertical-align: top;\n",
       "    }\n",
       "\n",
       "    .dataframe thead th {\n",
       "        text-align: right;\n",
       "    }\n",
       "</style>\n",
       "<table border=\"1\" class=\"dataframe\">\n",
       "  <thead>\n",
       "    <tr style=\"text-align: right;\">\n",
       "      <th></th>\n",
       "      <th>gender</th>\n",
       "      <th>car</th>\n",
       "      <th>reality</th>\n",
       "      <th>child_num</th>\n",
       "      <th>income_total</th>\n",
       "      <th>income_type</th>\n",
       "      <th>edu_type</th>\n",
       "      <th>family_type</th>\n",
       "      <th>house_type</th>\n",
       "      <th>DAYS_BIRTH</th>\n",
       "      <th>DAYS_EMPLOYED</th>\n",
       "      <th>FLAG_MOBIL</th>\n",
       "      <th>work_phone</th>\n",
       "      <th>phone</th>\n",
       "      <th>email</th>\n",
       "      <th>occyp_type</th>\n",
       "      <th>family_size</th>\n",
       "      <th>begin_month</th>\n",
       "    </tr>\n",
       "  </thead>\n",
       "  <tbody>\n",
       "    <tr>\n",
       "      <th>0</th>\n",
       "      <td>M</td>\n",
       "      <td>Y</td>\n",
       "      <td>N</td>\n",
       "      <td>0</td>\n",
       "      <td>112500.0</td>\n",
       "      <td>Pensioner</td>\n",
       "      <td>Secondary / secondary special</td>\n",
       "      <td>Civil marriage</td>\n",
       "      <td>House / apartment</td>\n",
       "      <td>-21990</td>\n",
       "      <td>365243</td>\n",
       "      <td>1</td>\n",
       "      <td>0</td>\n",
       "      <td>1</td>\n",
       "      <td>0</td>\n",
       "      <td>NaN</td>\n",
       "      <td>2.0</td>\n",
       "      <td>-60.0</td>\n",
       "    </tr>\n",
       "    <tr>\n",
       "      <th>1</th>\n",
       "      <td>F</td>\n",
       "      <td>N</td>\n",
       "      <td>Y</td>\n",
       "      <td>0</td>\n",
       "      <td>135000.0</td>\n",
       "      <td>State servant</td>\n",
       "      <td>Higher education</td>\n",
       "      <td>Married</td>\n",
       "      <td>House / apartment</td>\n",
       "      <td>-18964</td>\n",
       "      <td>-8671</td>\n",
       "      <td>1</td>\n",
       "      <td>0</td>\n",
       "      <td>1</td>\n",
       "      <td>0</td>\n",
       "      <td>Core staff</td>\n",
       "      <td>2.0</td>\n",
       "      <td>-36.0</td>\n",
       "    </tr>\n",
       "  </tbody>\n",
       "</table>\n",
       "</div>"
      ],
      "text/plain": [
       "  gender car reality  child_num  income_total    income_type  \\\n",
       "0      M   Y       N          0      112500.0      Pensioner   \n",
       "1      F   N       Y          0      135000.0  State servant   \n",
       "\n",
       "                        edu_type     family_type         house_type  \\\n",
       "0  Secondary / secondary special  Civil marriage  House / apartment   \n",
       "1               Higher education         Married  House / apartment   \n",
       "\n",
       "   DAYS_BIRTH  DAYS_EMPLOYED  FLAG_MOBIL  work_phone  phone  email  \\\n",
       "0      -21990         365243           1           0      1      0   \n",
       "1      -18964          -8671           1           0      1      0   \n",
       "\n",
       "   occyp_type  family_size  begin_month  \n",
       "0         NaN          2.0        -60.0  \n",
       "1  Core staff          2.0        -36.0  "
      ]
     },
     "execution_count": 182,
     "metadata": {},
     "output_type": "execute_result"
    }
   ],
   "source": [
    "test.head(2)"
   ]
  },
  {
   "cell_type": "markdown",
   "metadata": {},
   "source": [
    "#### FLAG_MOBIL 변수는 불필요함."
   ]
  },
  {
   "cell_type": "code",
   "execution_count": 183,
   "metadata": {
    "scrolled": false
   },
   "outputs": [],
   "source": [
    "train.drop('FLAG_MOBIL', axis = 1, inplace = True)\n",
    "test.drop('FLAG_MOBIL', axis = 1, inplace = True)"
   ]
  },
  {
   "cell_type": "code",
   "execution_count": 184,
   "metadata": {},
   "outputs": [],
   "source": [
    "train['begin_month'] /= (-12)\n",
    "test['begin_month'] /= (-12)"
   ]
  },
  {
   "cell_type": "code",
   "execution_count": 185,
   "metadata": {},
   "outputs": [],
   "source": [
    "train.at[train[train.income_type == 'Student'].index, 'income_type'] = 'Working'\n",
    "test.at[test[test.income_type == 'Student'].index, 'income_type'] = 'Working'"
   ]
  },
  {
   "cell_type": "code",
   "execution_count": 186,
   "metadata": {},
   "outputs": [],
   "source": [
    "train.at[train[train.DAYS_EMPLOYED > 20000].index, 'occyp_type'] = 'No job'\n",
    "test.at[test[test.DAYS_EMPLOYED > 20000].index, 'occyp_type'] = 'No job'"
   ]
  },
  {
   "cell_type": "code",
   "execution_count": 187,
   "metadata": {},
   "outputs": [],
   "source": [
    "train.DAYS_EMPLOYED = [0 if x > 500 else x for x in train.DAYS_EMPLOYED]\n",
    "test.DAYS_EMPLOYED = [0 if x > 500 else x for x in test.DAYS_EMPLOYED]"
   ]
  },
  {
   "cell_type": "code",
   "execution_count": 188,
   "metadata": {},
   "outputs": [],
   "source": [
    "train[['DAYS_BIRTH', 'DAYS_EMPLOYED']] /= (-365)\n",
    "test[['DAYS_BIRTH', 'DAYS_EMPLOYED']] /= (-365)"
   ]
  },
  {
   "cell_type": "code",
   "execution_count": 189,
   "metadata": {},
   "outputs": [],
   "source": [
    "train.fillna('Unknown', inplace = True)\n",
    "test.fillna('Unknown', inplace = True)"
   ]
  },
  {
   "cell_type": "code",
   "execution_count": 190,
   "metadata": {},
   "outputs": [],
   "source": [
    "train.income_type = ['Working' if x == 'Student' else x for x in train.income_type]\n",
    "test.income_type = ['Working' if x == 'Student' else x for x in test.income_type]"
   ]
  },
  {
   "cell_type": "code",
   "execution_count": 191,
   "metadata": {},
   "outputs": [],
   "source": [
    "tr_imb_mean = train.groupby(['family_type', 'occyp_type']).DAYS_EMPLOYED.median().reset_index(name = 'ic_oc_mean')\n",
    "te_imb_mean = test.groupby(['family_type', 'occyp_type']).DAYS_EMPLOYED.median().reset_index(name = 'ic_oc_mean')"
   ]
  },
  {
   "cell_type": "code",
   "execution_count": 192,
   "metadata": {},
   "outputs": [],
   "source": [
    "train['em/bir'] = train.DAYS_EMPLOYED / train.DAYS_BIRTH\n",
    "test['em/bir'] = test.DAYS_EMPLOYED / test.DAYS_BIRTH"
   ]
  },
  {
   "cell_type": "code",
   "execution_count": null,
   "metadata": {},
   "outputs": [],
   "source": [
    "train['gender'] = [1 if x == 'M' else 0 for x in train.gender]\n",
    "test['gender'] = [1 if x == 'M' else 0 for x in test.gender]"
   ]
  },
  {
   "cell_type": "code",
   "execution_count": null,
   "metadata": {},
   "outputs": [],
   "source": [
    "train['car'] = [1 if x == 'Y' else 0 for x in train.car]\n",
    "test['car'] = [1 if x == 'Y' else 0 for x in test.car]"
   ]
  },
  {
   "cell_type": "code",
   "execution_count": null,
   "metadata": {},
   "outputs": [],
   "source": [
    "train['reality'] = [1 if x == 'Y' else 0 for x in train.reality]\n",
    "test['reality'] = [1 if x == 'Y' else 0 for x in test.reality]"
   ]
  },
  {
   "cell_type": "code",
   "execution_count": 193,
   "metadata": {},
   "outputs": [],
   "source": [
    "#train['it/beg'] = train.begin_month / train.income_total\n",
    "#test['it/beg'] = test.begin_month / test.income_total"
   ]
  },
  {
   "cell_type": "code",
   "execution_count": 194,
   "metadata": {},
   "outputs": [],
   "source": [
    "#train['cos_it'] = np.sin(train.income_total)\n",
    "#test['cos_it'] = np.sin(test.income_total)"
   ]
  },
  {
   "cell_type": "code",
   "execution_count": 195,
   "metadata": {},
   "outputs": [
    {
     "data": {
      "image/png": "[encoded data removed]",
      "text/plain": [
       "<Figure size 864x504 with 2 Axes>"
      ]
     },
     "metadata": {
      "needs_background": "light"
     },
     "output_type": "display_data"
    }
   ],
   "source": [
    "fig, ax = plt.subplots(1, 2, figsize = (12, 7))\n",
    "plt.subplots_adjust(wspace = .5)\n",
    "sns.countplot(y = train.income_type, ax = ax[0], edgecolor = (0, 0, 0))\n",
    "sns.countplot(y = test.income_type, ax = ax[1], edgecolor = (0, 0, 0))\n",
    "plt.show()"
   ]
  },
  {
   "cell_type": "code",
   "execution_count": 196,
   "metadata": {},
   "outputs": [
    {
     "data": {
      "image/png": "[encoded data removed]",
      "text/plain": [
       "<Figure size 864x504 with 2 Axes>"
      ]
     },
     "metadata": {
      "needs_background": "light"
     },
     "output_type": "display_data"
    }
   ],
   "source": [
    "fig, ax = plt.subplots(1, 2, figsize = (12, 7))\n",
    "plt.subplots_adjust(wspace = .5)\n",
    "sns.countplot(y = train.house_type, ax = ax[0], edgecolor = (0, 0, 0))\n",
    "sns.countplot(y = test.house_type, ax = ax[1], edgecolor = (0, 0, 0))\n",
    "plt.show()"
   ]
  },
  {
   "cell_type": "code",
   "execution_count": 197,
   "metadata": {},
   "outputs": [
    {
     "data": {
      "image/png": "[encoded data removed]",
      "text/plain": [
       "<Figure size 864x504 with 2 Axes>"
      ]
     },
     "metadata": {
      "needs_background": "light"
     },
     "output_type": "display_data"
    }
   ],
   "source": [
    "fig, ax = plt.subplots(1, 2, figsize = (12, 7))\n",
    "plt.subplots_adjust(wspace = .5)\n",
    "sns.countplot(y = train.family_type, ax = ax[0], edgecolor = (0, 0, 0))\n",
    "sns.countplot(y = test.family_type, ax = ax[1], edgecolor = (0, 0, 0))\n",
    "plt.show()"
   ]
  },
  {
   "cell_type": "code",
   "execution_count": 198,
   "metadata": {},
   "outputs": [
    {
     "data": {
      "image/png": "[encoded data removed]",
      "text/plain": [
       "<Figure size 864x504 with 2 Axes>"
      ]
     },
     "metadata": {
      "needs_background": "light"
     },
     "output_type": "display_data"
    }
   ],
   "source": [
    "fig, ax = plt.subplots(1, 2, figsize = (12, 7))\n",
    "plt.subplots_adjust(wspace = .5)\n",
    "sns.countplot(y = train.occyp_type, ax = ax[0], edgecolor = (0, 0, 0))\n",
    "sns.countplot(y = test.occyp_type, ax = ax[1], edgecolor = (0, 0, 0))\n",
    "plt.show()"
   ]
  },
  {
   "cell_type": "code",
   "execution_count": 199,
   "metadata": {
    "scrolled": true
   },
   "outputs": [
    {
     "data": {
      "text/html": [
       "<div>\n",
       "<style scoped>\n",
       "    .dataframe tbody tr th:only-of-type {\n",
       "        vertical-align: middle;\n",
       "    }\n",
       "\n",
       "    .dataframe tbody tr th {\n",
       "        vertical-align: top;\n",
       "    }\n",
       "\n",
       "    .dataframe thead th {\n",
       "        text-align: right;\n",
       "    }\n",
       "</style>\n",
       "<table border=\"1\" class=\"dataframe\">\n",
       "  <thead>\n",
       "    <tr style=\"text-align: right;\">\n",
       "      <th>credit</th>\n",
       "      <th>0.0</th>\n",
       "      <th>1.0</th>\n",
       "      <th>2.0</th>\n",
       "    </tr>\n",
       "    <tr>\n",
       "      <th>occyp_type</th>\n",
       "      <th></th>\n",
       "      <th></th>\n",
       "      <th></th>\n",
       "    </tr>\n",
       "  </thead>\n",
       "  <tbody>\n",
       "    <tr>\n",
       "      <th>Accountants</th>\n",
       "      <td>118</td>\n",
       "      <td>227</td>\n",
       "      <td>557</td>\n",
       "    </tr>\n",
       "    <tr>\n",
       "      <th>Cleaning staff</th>\n",
       "      <td>40</td>\n",
       "      <td>93</td>\n",
       "      <td>270</td>\n",
       "    </tr>\n",
       "    <tr>\n",
       "      <th>Cooking staff</th>\n",
       "      <td>58</td>\n",
       "      <td>110</td>\n",
       "      <td>289</td>\n",
       "    </tr>\n",
       "    <tr>\n",
       "      <th>Core staff</th>\n",
       "      <td>347</td>\n",
       "      <td>622</td>\n",
       "      <td>1677</td>\n",
       "    </tr>\n",
       "    <tr>\n",
       "      <th>Drivers</th>\n",
       "      <td>187</td>\n",
       "      <td>358</td>\n",
       "      <td>1030</td>\n",
       "    </tr>\n",
       "    <tr>\n",
       "      <th>HR staff</th>\n",
       "      <td>7</td>\n",
       "      <td>4</td>\n",
       "      <td>51</td>\n",
       "    </tr>\n",
       "    <tr>\n",
       "      <th>High skill tech staff</th>\n",
       "      <td>123</td>\n",
       "      <td>270</td>\n",
       "      <td>647</td>\n",
       "    </tr>\n",
       "    <tr>\n",
       "      <th>IT staff</th>\n",
       "      <td>8</td>\n",
       "      <td>10</td>\n",
       "      <td>23</td>\n",
       "    </tr>\n",
       "    <tr>\n",
       "      <th>Laborers</th>\n",
       "      <td>586</td>\n",
       "      <td>1082</td>\n",
       "      <td>2844</td>\n",
       "    </tr>\n",
       "    <tr>\n",
       "      <th>Low-skill Laborers</th>\n",
       "      <td>22</td>\n",
       "      <td>21</td>\n",
       "      <td>84</td>\n",
       "    </tr>\n",
       "    <tr>\n",
       "      <th>Managers</th>\n",
       "      <td>280</td>\n",
       "      <td>458</td>\n",
       "      <td>1429</td>\n",
       "    </tr>\n",
       "    <tr>\n",
       "      <th>Medicine staff</th>\n",
       "      <td>83</td>\n",
       "      <td>191</td>\n",
       "      <td>590</td>\n",
       "    </tr>\n",
       "    <tr>\n",
       "      <th>No job</th>\n",
       "      <td>536</td>\n",
       "      <td>1084</td>\n",
       "      <td>2818</td>\n",
       "    </tr>\n",
       "    <tr>\n",
       "      <th>Private service staff</th>\n",
       "      <td>35</td>\n",
       "      <td>55</td>\n",
       "      <td>153</td>\n",
       "    </tr>\n",
       "    <tr>\n",
       "      <th>Realty agents</th>\n",
       "      <td>10</td>\n",
       "      <td>9</td>\n",
       "      <td>44</td>\n",
       "    </tr>\n",
       "    <tr>\n",
       "      <th>Sales staff</th>\n",
       "      <td>293</td>\n",
       "      <td>650</td>\n",
       "      <td>1596</td>\n",
       "    </tr>\n",
       "    <tr>\n",
       "      <th>Secretaries</th>\n",
       "      <td>9</td>\n",
       "      <td>31</td>\n",
       "      <td>57</td>\n",
       "    </tr>\n",
       "    <tr>\n",
       "      <th>Security staff</th>\n",
       "      <td>39</td>\n",
       "      <td>88</td>\n",
       "      <td>297</td>\n",
       "    </tr>\n",
       "    <tr>\n",
       "      <th>Unknown</th>\n",
       "      <td>431</td>\n",
       "      <td>854</td>\n",
       "      <td>2448</td>\n",
       "    </tr>\n",
       "    <tr>\n",
       "      <th>Waiters/barmen staff</th>\n",
       "      <td>10</td>\n",
       "      <td>50</td>\n",
       "      <td>64</td>\n",
       "    </tr>\n",
       "  </tbody>\n",
       "</table>\n",
       "</div>"
      ],
      "text/plain": [
       "credit                 0.0   1.0   2.0\n",
       "occyp_type                            \n",
       "Accountants            118   227   557\n",
       "Cleaning staff          40    93   270\n",
       "Cooking staff           58   110   289\n",
       "Core staff             347   622  1677\n",
       "Drivers                187   358  1030\n",
       "HR staff                 7     4    51\n",
       "High skill tech staff  123   270   647\n",
       "IT staff                 8    10    23\n",
       "Laborers               586  1082  2844\n",
       "Low-skill Laborers      22    21    84\n",
       "Managers               280   458  1429\n",
       "Medicine staff          83   191   590\n",
       "No job                 536  1084  2818\n",
       "Private service staff   35    55   153\n",
       "Realty agents           10     9    44\n",
       "Sales staff            293   650  1596\n",
       "Secretaries              9    31    57\n",
       "Security staff          39    88   297\n",
       "Unknown                431   854  2448\n",
       "Waiters/barmen staff    10    50    64"
      ]
     },
     "execution_count": 199,
     "metadata": {},
     "output_type": "execute_result"
    }
   ],
   "source": [
    "oc_credit = pd.crosstab(train.occyp_type, train.credit)\n",
    "oc_credit"
   ]
  },
  {
   "cell_type": "code",
   "execution_count": 200,
   "metadata": {},
   "outputs": [],
   "source": [
    "oc_credit['sum_oc'] = oc_credit.sum(axis = 1)"
   ]
  },
  {
   "cell_type": "code",
   "execution_count": 201,
   "metadata": {},
   "outputs": [],
   "source": [
    "oc_credit.iloc[:, 0] = oc_credit.iloc[:, 0].values / oc_credit.sum_oc.values\n",
    "oc_credit.iloc[:, 1] = oc_credit.iloc[:, 1].values / oc_credit.sum_oc.values\n",
    "oc_credit.iloc[:, 2] = oc_credit.iloc[:, 2].values / oc_credit.sum_oc.values"
   ]
  },
  {
   "cell_type": "code",
   "execution_count": 202,
   "metadata": {},
   "outputs": [
    {
     "data": {
      "text/html": [
       "<div>\n",
       "<style scoped>\n",
       "    .dataframe tbody tr th:only-of-type {\n",
       "        vertical-align: middle;\n",
       "    }\n",
       "\n",
       "    .dataframe tbody tr th {\n",
       "        vertical-align: top;\n",
       "    }\n",
       "\n",
       "    .dataframe thead th {\n",
       "        text-align: right;\n",
       "    }\n",
       "</style>\n",
       "<table border=\"1\" class=\"dataframe\">\n",
       "  <thead>\n",
       "    <tr style=\"text-align: right;\">\n",
       "      <th>credit</th>\n",
       "      <th>occyp_type</th>\n",
       "      <th>0.0</th>\n",
       "      <th>1.0</th>\n",
       "      <th>2.0</th>\n",
       "      <th>sum_oc</th>\n",
       "    </tr>\n",
       "  </thead>\n",
       "  <tbody>\n",
       "    <tr>\n",
       "      <th>0</th>\n",
       "      <td>Accountants</td>\n",
       "      <td>0.130820</td>\n",
       "      <td>0.251663</td>\n",
       "      <td>0.617517</td>\n",
       "      <td>902</td>\n",
       "    </tr>\n",
       "    <tr>\n",
       "      <th>1</th>\n",
       "      <td>Cleaning staff</td>\n",
       "      <td>0.099256</td>\n",
       "      <td>0.230769</td>\n",
       "      <td>0.669975</td>\n",
       "      <td>403</td>\n",
       "    </tr>\n",
       "    <tr>\n",
       "      <th>2</th>\n",
       "      <td>Cooking staff</td>\n",
       "      <td>0.126915</td>\n",
       "      <td>0.240700</td>\n",
       "      <td>0.632385</td>\n",
       "      <td>457</td>\n",
       "    </tr>\n",
       "    <tr>\n",
       "      <th>3</th>\n",
       "      <td>Core staff</td>\n",
       "      <td>0.131141</td>\n",
       "      <td>0.235072</td>\n",
       "      <td>0.633787</td>\n",
       "      <td>2646</td>\n",
       "    </tr>\n",
       "    <tr>\n",
       "      <th>4</th>\n",
       "      <td>Drivers</td>\n",
       "      <td>0.118730</td>\n",
       "      <td>0.227302</td>\n",
       "      <td>0.653968</td>\n",
       "      <td>1575</td>\n",
       "    </tr>\n",
       "    <tr>\n",
       "      <th>5</th>\n",
       "      <td>HR staff</td>\n",
       "      <td>0.112903</td>\n",
       "      <td>0.064516</td>\n",
       "      <td>0.822581</td>\n",
       "      <td>62</td>\n",
       "    </tr>\n",
       "    <tr>\n",
       "      <th>6</th>\n",
       "      <td>High skill tech staff</td>\n",
       "      <td>0.118269</td>\n",
       "      <td>0.259615</td>\n",
       "      <td>0.622115</td>\n",
       "      <td>1040</td>\n",
       "    </tr>\n",
       "    <tr>\n",
       "      <th>7</th>\n",
       "      <td>IT staff</td>\n",
       "      <td>0.195122</td>\n",
       "      <td>0.243902</td>\n",
       "      <td>0.560976</td>\n",
       "      <td>41</td>\n",
       "    </tr>\n",
       "    <tr>\n",
       "      <th>8</th>\n",
       "      <td>Laborers</td>\n",
       "      <td>0.129876</td>\n",
       "      <td>0.239805</td>\n",
       "      <td>0.630319</td>\n",
       "      <td>4512</td>\n",
       "    </tr>\n",
       "    <tr>\n",
       "      <th>9</th>\n",
       "      <td>Low-skill Laborers</td>\n",
       "      <td>0.173228</td>\n",
       "      <td>0.165354</td>\n",
       "      <td>0.661417</td>\n",
       "      <td>127</td>\n",
       "    </tr>\n",
       "    <tr>\n",
       "      <th>10</th>\n",
       "      <td>Managers</td>\n",
       "      <td>0.129211</td>\n",
       "      <td>0.211352</td>\n",
       "      <td>0.659437</td>\n",
       "      <td>2167</td>\n",
       "    </tr>\n",
       "    <tr>\n",
       "      <th>11</th>\n",
       "      <td>Medicine staff</td>\n",
       "      <td>0.096065</td>\n",
       "      <td>0.221065</td>\n",
       "      <td>0.682870</td>\n",
       "      <td>864</td>\n",
       "    </tr>\n",
       "    <tr>\n",
       "      <th>12</th>\n",
       "      <td>No job</td>\n",
       "      <td>0.120775</td>\n",
       "      <td>0.244254</td>\n",
       "      <td>0.634971</td>\n",
       "      <td>4438</td>\n",
       "    </tr>\n",
       "    <tr>\n",
       "      <th>13</th>\n",
       "      <td>Private service staff</td>\n",
       "      <td>0.144033</td>\n",
       "      <td>0.226337</td>\n",
       "      <td>0.629630</td>\n",
       "      <td>243</td>\n",
       "    </tr>\n",
       "    <tr>\n",
       "      <th>14</th>\n",
       "      <td>Realty agents</td>\n",
       "      <td>0.158730</td>\n",
       "      <td>0.142857</td>\n",
       "      <td>0.698413</td>\n",
       "      <td>63</td>\n",
       "    </tr>\n",
       "    <tr>\n",
       "      <th>15</th>\n",
       "      <td>Sales staff</td>\n",
       "      <td>0.115400</td>\n",
       "      <td>0.256006</td>\n",
       "      <td>0.628594</td>\n",
       "      <td>2539</td>\n",
       "    </tr>\n",
       "    <tr>\n",
       "      <th>16</th>\n",
       "      <td>Secretaries</td>\n",
       "      <td>0.092784</td>\n",
       "      <td>0.319588</td>\n",
       "      <td>0.587629</td>\n",
       "      <td>97</td>\n",
       "    </tr>\n",
       "    <tr>\n",
       "      <th>17</th>\n",
       "      <td>Security staff</td>\n",
       "      <td>0.091981</td>\n",
       "      <td>0.207547</td>\n",
       "      <td>0.700472</td>\n",
       "      <td>424</td>\n",
       "    </tr>\n",
       "    <tr>\n",
       "      <th>18</th>\n",
       "      <td>Unknown</td>\n",
       "      <td>0.115457</td>\n",
       "      <td>0.228770</td>\n",
       "      <td>0.655773</td>\n",
       "      <td>3733</td>\n",
       "    </tr>\n",
       "    <tr>\n",
       "      <th>19</th>\n",
       "      <td>Waiters/barmen staff</td>\n",
       "      <td>0.080645</td>\n",
       "      <td>0.403226</td>\n",
       "      <td>0.516129</td>\n",
       "      <td>124</td>\n",
       "    </tr>\n",
       "  </tbody>\n",
       "</table>\n",
       "</div>"
      ],
      "text/plain": [
       "credit             occyp_type       0.0       1.0       2.0  sum_oc\n",
       "0                 Accountants  0.130820  0.251663  0.617517     902\n",
       "1              Cleaning staff  0.099256  0.230769  0.669975     403\n",
       "2               Cooking staff  0.126915  0.240700  0.632385     457\n",
       "3                  Core staff  0.131141  0.235072  0.633787    2646\n",
       "4                     Drivers  0.118730  0.227302  0.653968    1575\n",
       "5                    HR staff  0.112903  0.064516  0.822581      62\n",
       "6       High skill tech staff  0.118269  0.259615  0.622115    1040\n",
       "7                    IT staff  0.195122  0.243902  0.560976      41\n",
       "8                    Laborers  0.129876  0.239805  0.630319    4512\n",
       "9          Low-skill Laborers  0.173228  0.165354  0.661417     127\n",
       "10                   Managers  0.129211  0.211352  0.659437    2167\n",
       "11             Medicine staff  0.096065  0.221065  0.682870     864\n",
       "12                     No job  0.120775  0.244254  0.634971    4438\n",
       "13      Private service staff  0.144033  0.226337  0.629630     243\n",
       "14              Realty agents  0.158730  0.142857  0.698413      63\n",
       "15                Sales staff  0.115400  0.256006  0.628594    2539\n",
       "16                Secretaries  0.092784  0.319588  0.587629      97\n",
       "17             Security staff  0.091981  0.207547  0.700472     424\n",
       "18                    Unknown  0.115457  0.228770  0.655773    3733\n",
       "19       Waiters/barmen staff  0.080645  0.403226  0.516129     124"
      ]
     },
     "execution_count": 202,
     "metadata": {},
     "output_type": "execute_result"
    }
   ],
   "source": [
    "oc_credit.reset_index()"
   ]
  },
  {
   "cell_type": "code",
   "execution_count": 203,
   "metadata": {},
   "outputs": [],
   "source": [
    "#train = pd.merge(train, oc_credit.reset_index())\n",
    "#test = pd.merge(test, oc_credit.reset_index())"
   ]
  },
  {
   "cell_type": "code",
   "execution_count": 204,
   "metadata": {
    "scrolled": true
   },
   "outputs": [
    {
     "data": {
      "image/png": "[encoded data removed]",
      "text/plain": [
       "<Figure size 720x432 with 2 Axes>"
      ]
     },
     "metadata": {
      "needs_background": "light"
     },
     "output_type": "display_data"
    }
   ],
   "source": [
    "plt.figure(figsize = (10, 6))\n",
    "sns.heatmap(train.corr(), annot = True)\n",
    "plt.show()"
   ]
  },
  {
   "cell_type": "markdown",
   "metadata": {},
   "source": [
    "***"
   ]
  },
  {
   "cell_type": "code",
   "execution_count": 205,
   "metadata": {},
   "outputs": [],
   "source": [
    "scaler = StandardScaler()"
   ]
  },
  {
   "cell_type": "code",
   "execution_count": 207,
   "metadata": {
    "scrolled": true
   },
   "outputs": [],
   "source": [
    "tr_scaled = scaler.fit_transform(train[['em/bir', 'family_size', 'child_num', 'begin_month', 'income_total', 'DAYS_BIRTH']])"
   ]
  },
  {
   "cell_type": "code",
   "execution_count": 208,
   "metadata": {},
   "outputs": [],
   "source": [
    "te_scaled = scaler.transform(test[['em/bir', 'family_size', 'child_num', 'begin_month', 'income_total', 'DAYS_BIRTH']])"
   ]
  },
  {
   "cell_type": "code",
   "execution_count": 209,
   "metadata": {},
   "outputs": [],
   "source": [
    "train[['em/bir', 'family_size', 'child_num', 'begin_month', 'income_total', 'DAYS_BIRTH']] = tr_scaled"
   ]
  },
  {
   "cell_type": "code",
   "execution_count": 210,
   "metadata": {},
   "outputs": [],
   "source": [
    "test[['em/bir', 'family_size', 'child_num', 'begin_month', 'income_total', 'DAYS_BIRTH']] = te_scaled"
   ]
  },
  {
   "cell_type": "code",
   "execution_count": 211,
   "metadata": {},
   "outputs": [],
   "source": [
    "train2 = pd.get_dummies(columns = train.columns[train.dtypes == 'object'], data = train)"
   ]
  },
  {
   "cell_type": "code",
   "execution_count": 212,
   "metadata": {},
   "outputs": [],
   "source": [
    "test2 = pd.get_dummies(columns = test.columns[test.dtypes == 'object'], data = test)"
   ]
  },
  {
   "cell_type": "code",
   "execution_count": 213,
   "metadata": {},
   "outputs": [],
   "source": [
    "skf = StratifiedKFold(n_splits = 8, shuffle = True, random_state = 422)"
   ]
  },
  {
   "cell_type": "code",
   "execution_count": 214,
   "metadata": {
    "scrolled": false
   },
   "outputs": [
    {
     "name": "stdout",
     "output_type": "stream",
     "text": [
      "==========================1 FOLD=========================\n",
      "Logloss of Validation = 0.7281210142313352\n",
      "\n",
      "==========================2 FOLD=========================\n",
      "Logloss of Validation = 0.7381177929727559\n",
      "\n",
      "==========================3 FOLD=========================\n",
      "Logloss of Validation = 0.7512779087133894\n",
      "\n",
      "==========================4 FOLD=========================\n",
      "Logloss of Validation = 0.7482339368980793\n",
      "\n",
      "==========================5 FOLD=========================\n",
      "Logloss of Validation = 0.7145383205583348\n",
      "\n",
      "==========================6 FOLD=========================\n",
      "Logloss of Validation = 0.7432980250156368\n",
      "\n",
      "==========================7 FOLD=========================\n",
      "Logloss of Validation = 0.723664169303257\n",
      "\n",
      "==========================8 FOLD=========================\n",
      "Logloss of Validation = 0.72948100001493\n",
      "\n",
      "==========================Finished!=========================\n",
      "\n",
      "평균 logloss는 0.7345915209634648\n"
     ]
    }
   ],
   "source": [
    "cat_pred = np.zeros((test2.shape[0], 3))\n",
    "cat_val_logloss = []\n",
    "i = 0\n",
    "for tr_idx, val_idx in skf.split(train2, train2.credit) :\n",
    "    i += 1\n",
    "    print(f'=========================={i} FOLD=========================')\n",
    "    tr_x, tr_y = train2.drop('credit', axis = 1).iloc[tr_idx], train2.credit.iloc[tr_idx]\n",
    "    val_x, val_y = train2.drop('credit', axis = 1).iloc[val_idx], train2.credit.iloc[val_idx]\n",
    "    cat = CatBoostClassifier(iterations = 2000, early_stopping_rounds = 500, loss_function = 'MultiClass', random_state = 422, silent = True, depth = 6)\n",
    "    cat.fit(tr_x, tr_y, eval_set = Pool(val_x, val_y), use_best_model = True)\n",
    "    val_logloss = cat.best_score_['validation']['MultiClass']\n",
    "    print(f'Logloss of Validation = {val_logloss}\\n')\n",
    "    cat_val_logloss.append(val_logloss)\n",
    "    pred = cat.predict_proba(test2) / 8\n",
    "    cat_pred += pred\n",
    "print('==========================Finished!=========================\\n')\n",
    "print(f'평균 logloss는 {np.mean(cat_val_logloss)}')"
   ]
  },
  {
   "cell_type": "code",
   "execution_count": 215,
   "metadata": {
    "scrolled": true
   },
   "outputs": [
    {
     "name": "stdout",
     "output_type": "stream",
     "text": [
      "========================================1 FOLD==========================================\n",
      "\n",
      "[LightGBM] [Warning] Accuracy may be bad since you didn't explicitly set num_leaves OR 2^max_depth > num_leaves. (num_leaves=31).\n",
      "Training until validation scores don't improve for 400 rounds\n",
      "[500]\ttraining's multi_logloss: 0.465719\tvalid_1's multi_logloss: 0.73265\n",
      "Early stopping, best iteration is:\n",
      "[484]\ttraining's multi_logloss: 0.470802\tvalid_1's multi_logloss: 0.732322\n",
      "0.7323220276010844\n",
      "========================================2 FOLD==========================================\n",
      "\n",
      "[LightGBM] [Warning] Accuracy may be bad since you didn't explicitly set num_leaves OR 2^max_depth > num_leaves. (num_leaves=31).\n",
      "Training until validation scores don't improve for 400 rounds\n",
      "[500]\ttraining's multi_logloss: 0.465547\tvalid_1's multi_logloss: 0.739082\n",
      "Early stopping, best iteration is:\n",
      "[380]\ttraining's multi_logloss: 0.51158\tvalid_1's multi_logloss: 0.7367\n",
      "0.7367003457386202\n",
      "========================================3 FOLD==========================================\n",
      "\n",
      "[LightGBM] [Warning] Accuracy may be bad since you didn't explicitly set num_leaves OR 2^max_depth > num_leaves. (num_leaves=31).\n",
      "Training until validation scores don't improve for 400 rounds\n",
      "[500]\ttraining's multi_logloss: 0.462272\tvalid_1's multi_logloss: 0.749369\n",
      "Early stopping, best iteration is:\n",
      "[485]\ttraining's multi_logloss: 0.467216\tvalid_1's multi_logloss: 0.748787\n",
      "0.7487868837390759\n",
      "========================================4 FOLD==========================================\n",
      "\n",
      "[LightGBM] [Warning] Accuracy may be bad since you didn't explicitly set num_leaves OR 2^max_depth > num_leaves. (num_leaves=31).\n",
      "Training until validation scores don't improve for 400 rounds\n",
      "[500]\ttraining's multi_logloss: 0.467936\tvalid_1's multi_logloss: 0.749966\n",
      "Early stopping, best iteration is:\n",
      "[391]\ttraining's multi_logloss: 0.509225\tvalid_1's multi_logloss: 0.747259\n",
      "0.7472585495888727\n",
      "========================================5 FOLD==========================================\n",
      "\n",
      "[LightGBM] [Warning] Accuracy may be bad since you didn't explicitly set num_leaves OR 2^max_depth > num_leaves. (num_leaves=31).\n",
      "Training until validation scores don't improve for 400 rounds\n",
      "[500]\ttraining's multi_logloss: 0.46449\tvalid_1's multi_logloss: 0.723282\n",
      "Early stopping, best iteration is:\n",
      "[426]\ttraining's multi_logloss: 0.491207\tvalid_1's multi_logloss: 0.720637\n",
      "0.7206367724388401\n",
      "========================================6 FOLD==========================================\n",
      "\n",
      "[LightGBM] [Warning] Accuracy may be bad since you didn't explicitly set num_leaves OR 2^max_depth > num_leaves. (num_leaves=31).\n",
      "Training until validation scores don't improve for 400 rounds\n",
      "[500]\ttraining's multi_logloss: 0.463737\tvalid_1's multi_logloss: 0.739416\n",
      "Early stopping, best iteration is:\n",
      "[507]\ttraining's multi_logloss: 0.461141\tvalid_1's multi_logloss: 0.739214\n",
      "0.7392140098525276\n",
      "========================================7 FOLD==========================================\n",
      "\n",
      "[LightGBM] [Warning] Accuracy may be bad since you didn't explicitly set num_leaves OR 2^max_depth > num_leaves. (num_leaves=31).\n",
      "Training until validation scores don't improve for 400 rounds\n",
      "[500]\ttraining's multi_logloss: 0.469388\tvalid_1's multi_logloss: 0.711547\n",
      "Early stopping, best iteration is:\n",
      "[516]\ttraining's multi_logloss: 0.463537\tvalid_1's multi_logloss: 0.711263\n",
      "0.7112628055348021\n",
      "========================================8 FOLD==========================================\n",
      "\n",
      "[LightGBM] [Warning] Accuracy may be bad since you didn't explicitly set num_leaves OR 2^max_depth > num_leaves. (num_leaves=31).\n",
      "Training until validation scores don't improve for 400 rounds\n",
      "[500]\ttraining's multi_logloss: 0.468762\tvalid_1's multi_logloss: 0.735819\n",
      "Early stopping, best iteration is:\n",
      "[450]\ttraining's multi_logloss: 0.487026\tvalid_1's multi_logloss: 0.734703\n",
      "0.7347030886484468\n",
      "==========================Finished!=========================\n",
      "\n",
      "평균 logloss는 0.7338605603927837\n"
     ]
    }
   ],
   "source": [
    "lgb_pred = np.zeros((test2.shape[0], 3))\n",
    "lgb_losses = []\n",
    "i = 0\n",
    "for tr_idx, val_idx in skf.split(train2, train2.credit) :\n",
    "    i += 1\n",
    "    print(f'========================================{i} FOLD==========================================\\n')\n",
    "    tr_x, tr_y = train2.drop('credit', axis = 1).iloc[tr_idx], train2.credit.iloc[tr_idx]\n",
    "    val_x, val_y = train2.drop('credit', axis = 1).iloc[val_idx], train2.credit.iloc[val_idx]\n",
    "    \n",
    "    lgb = LGBMClassifier(n_jobs = -1, num_iterations = 2500, metric = 'multi_logloss', objective = 'multiclass', n_estimators = 1000, random_state = 422, max_depth = 6)\n",
    "    \n",
    "    lgb.fit(tr_x, tr_y, eval_set = [(tr_x, tr_y), (val_x, val_y)],\n",
    "            early_stopping_rounds = 400, verbose = 500, eval_metric = 'multi_logloss')\n",
    "    print(lgb.best_score_['valid_1']['multi_logloss'])\n",
    "    lgb_losses.append(lgb.best_score_['valid_1']['multi_logloss'])\n",
    "    pred = lgb.predict_proba(test2) / 8\n",
    "    lgb_pred += pred\n",
    "print('==========================Finished!=========================\\n')\n",
    "print(f'평균 logloss는 {np.mean(lgb_losses)}')"
   ]
  },
  {
   "cell_type": "code",
   "execution_count": 216,
   "metadata": {},
   "outputs": [
    {
     "name": "stdout",
     "output_type": "stream",
     "text": [
      "==========================1 FOLD=========================\n",
      "[0]\tvalidation_0-mlogloss:0.97426\tvalidation_1-mlogloss:0.97766\n",
      "[475]\tvalidation_0-mlogloss:0.28731\tvalidation_1-mlogloss:0.75133\n",
      "0.7181581116861133\n",
      "==========================2 FOLD=========================\n",
      "[0]\tvalidation_0-mlogloss:0.97392\tvalidation_1-mlogloss:0.97868\n",
      "[446]\tvalidation_0-mlogloss:0.29859\tvalidation_1-mlogloss:0.76105\n",
      "0.7310638787507355\n",
      "==========================3 FOLD=========================\n",
      "[0]\tvalidation_0-mlogloss:0.97388\tvalidation_1-mlogloss:0.98007\n",
      "[443]\tvalidation_0-mlogloss:0.30243\tvalidation_1-mlogloss:0.76156\n",
      "0.7360609512233874\n",
      "==========================4 FOLD=========================\n",
      "[0]\tvalidation_0-mlogloss:0.97416\tvalidation_1-mlogloss:0.98127\n",
      "[449]\tvalidation_0-mlogloss:0.29663\tvalidation_1-mlogloss:0.77189\n",
      "0.7404796613000405\n",
      "==========================5 FOLD=========================\n",
      "[0]\tvalidation_0-mlogloss:0.97513\tvalidation_1-mlogloss:0.97486\n",
      "[413]\tvalidation_0-mlogloss:0.31205\tvalidation_1-mlogloss:0.73952\n",
      "0.7124578239337637\n",
      "==========================6 FOLD=========================\n",
      "[0]\tvalidation_0-mlogloss:0.97492\tvalidation_1-mlogloss:0.97603\n",
      "[423]\tvalidation_0-mlogloss:0.30789\tvalidation_1-mlogloss:0.76547\n",
      "0.735009678924191\n",
      "==========================7 FOLD=========================\n",
      "[0]\tvalidation_0-mlogloss:0.97454\tvalidation_1-mlogloss:0.97508\n",
      "[469]\tvalidation_0-mlogloss:0.29218\tvalidation_1-mlogloss:0.73401\n",
      "0.7069399263969579\n",
      "==========================8 FOLD=========================\n",
      "[0]\tvalidation_0-mlogloss:0.97459\tvalidation_1-mlogloss:0.97898\n",
      "[432]\tvalidation_0-mlogloss:0.30439\tvalidation_1-mlogloss:0.74902\n",
      "0.7245866547704491\n",
      "==========================Finished!=========================\n",
      "\n",
      "평균 logloss는 0.7255945858732048\n"
     ]
    }
   ],
   "source": [
    "xgb_pred = np.zeros((test2.shape[0], 3))\n",
    "i = 0\n",
    "xgb_losses = []\n",
    "for tr_idx, val_idx in skf.split(train2, train2.credit) :\n",
    "    i += 1\n",
    "    print(f'=========================={i} FOLD=========================')\n",
    "    tr_x, tr_y = train2.drop('credit', axis = 1).iloc[tr_idx], train2.credit.iloc[tr_idx]\n",
    "    val_x, val_y = train2.drop('credit', axis = 1).iloc[val_idx], train2.credit.iloc[val_idx]\n",
    "    \n",
    "    xgb = XGBClassifier(n_jobs = -1, objective = 'multi:softprob', n_estimators = 1000, random_state = 422, max_depth = 6)\n",
    "    \n",
    "    xgb.fit(tr_x, tr_y, eval_metric = 'mlogloss', eval_set = [(tr_x, tr_y), (val_x, val_y)],\n",
    "            early_stopping_rounds = 250, verbose = 500)\n",
    "    p = xgb.predict_proba(val_x, ntree_limit = xgb.best_iteration)\n",
    "    print(log_loss(val_y, p))\n",
    "    xgb_losses.append(log_loss(val_y, p))\n",
    "    pred = xgb.predict_proba(test2, ntree_limit = xgb.best_iteration) / 8\n",
    "    xgb_pred += pred\n",
    "print('==========================Finished!=========================\\n')\n",
    "print(f'평균 logloss는 {np.mean(xgb_losses)}')"
   ]
  },
  {
   "cell_type": "code",
   "execution_count": 217,
   "metadata": {},
   "outputs": [],
   "source": [
    "submission = pd.read_csv('sample_submission.csv')"
   ]
  },
  {
   "cell_type": "code",
   "execution_count": 218,
   "metadata": {},
   "outputs": [],
   "source": [
    "submission.iloc[:, 1:] = xgb_pred * 0.45 +  cat_pred * .35 + lgb_pred * .2"
   ]
  },
  {
   "cell_type": "code",
   "execution_count": 219,
   "metadata": {},
   "outputs": [
    {
     "data": {
      "text/html": [
       "<div>\n",
       "<style scoped>\n",
       "    .dataframe tbody tr th:only-of-type {\n",
       "        vertical-align: middle;\n",
       "    }\n",
       "\n",
       "    .dataframe tbody tr th {\n",
       "        vertical-align: top;\n",
       "    }\n",
       "\n",
       "    .dataframe thead th {\n",
       "        text-align: right;\n",
       "    }\n",
       "</style>\n",
       "<table border=\"1\" class=\"dataframe\">\n",
       "  <thead>\n",
       "    <tr style=\"text-align: right;\">\n",
       "      <th></th>\n",
       "      <th>index</th>\n",
       "      <th>0</th>\n",
       "      <th>1</th>\n",
       "      <th>2</th>\n",
       "    </tr>\n",
       "  </thead>\n",
       "  <tbody>\n",
       "    <tr>\n",
       "      <th>0</th>\n",
       "      <td>26457</td>\n",
       "      <td>0.043234</td>\n",
       "      <td>0.083735</td>\n",
       "      <td>0.873031</td>\n",
       "    </tr>\n",
       "    <tr>\n",
       "      <th>1</th>\n",
       "      <td>26458</td>\n",
       "      <td>0.185642</td>\n",
       "      <td>0.188623</td>\n",
       "      <td>0.625734</td>\n",
       "    </tr>\n",
       "    <tr>\n",
       "      <th>2</th>\n",
       "      <td>26459</td>\n",
       "      <td>0.058038</td>\n",
       "      <td>0.110418</td>\n",
       "      <td>0.831544</td>\n",
       "    </tr>\n",
       "    <tr>\n",
       "      <th>3</th>\n",
       "      <td>26460</td>\n",
       "      <td>0.159968</td>\n",
       "      <td>0.107038</td>\n",
       "      <td>0.732994</td>\n",
       "    </tr>\n",
       "    <tr>\n",
       "      <th>4</th>\n",
       "      <td>26461</td>\n",
       "      <td>0.069048</td>\n",
       "      <td>0.211610</td>\n",
       "      <td>0.719343</td>\n",
       "    </tr>\n",
       "    <tr>\n",
       "      <th>...</th>\n",
       "      <td>...</td>\n",
       "      <td>...</td>\n",
       "      <td>...</td>\n",
       "      <td>...</td>\n",
       "    </tr>\n",
       "    <tr>\n",
       "      <th>9995</th>\n",
       "      <td>36452</td>\n",
       "      <td>0.207116</td>\n",
       "      <td>0.194858</td>\n",
       "      <td>0.598025</td>\n",
       "    </tr>\n",
       "    <tr>\n",
       "      <th>9996</th>\n",
       "      <td>36453</td>\n",
       "      <td>0.191727</td>\n",
       "      <td>0.327426</td>\n",
       "      <td>0.480848</td>\n",
       "    </tr>\n",
       "    <tr>\n",
       "      <th>9997</th>\n",
       "      <td>36454</td>\n",
       "      <td>0.024362</td>\n",
       "      <td>0.075008</td>\n",
       "      <td>0.900630</td>\n",
       "    </tr>\n",
       "    <tr>\n",
       "      <th>9998</th>\n",
       "      <td>36455</td>\n",
       "      <td>0.069673</td>\n",
       "      <td>0.231870</td>\n",
       "      <td>0.698458</td>\n",
       "    </tr>\n",
       "    <tr>\n",
       "      <th>9999</th>\n",
       "      <td>36456</td>\n",
       "      <td>0.047267</td>\n",
       "      <td>0.246080</td>\n",
       "      <td>0.706653</td>\n",
       "    </tr>\n",
       "  </tbody>\n",
       "</table>\n",
       "<p>10000 rows × 4 columns</p>\n",
       "</div>"
      ],
      "text/plain": [
       "      index         0         1         2\n",
       "0     26457  0.043234  0.083735  0.873031\n",
       "1     26458  0.185642  0.188623  0.625734\n",
       "2     26459  0.058038  0.110418  0.831544\n",
       "3     26460  0.159968  0.107038  0.732994\n",
       "4     26461  0.069048  0.211610  0.719343\n",
       "...     ...       ...       ...       ...\n",
       "9995  36452  0.207116  0.194858  0.598025\n",
       "9996  36453  0.191727  0.327426  0.480848\n",
       "9997  36454  0.024362  0.075008  0.900630\n",
       "9998  36455  0.069673  0.231870  0.698458\n",
       "9999  36456  0.047267  0.246080  0.706653\n",
       "\n",
       "[10000 rows x 4 columns]"
      ]
     },
     "execution_count": 219,
     "metadata": {},
     "output_type": "execute_result"
    }
   ],
   "source": [
    "submission"
   ]
  },
  {
   "cell_type": "code",
   "execution_count": 220,
   "metadata": {},
   "outputs": [],
   "source": [
    "submission.to_csv('0419submission.csv', index = False)\n"
   ]
  }
 ],
 "metadata": {
  "kernelspec": {
   "display_name": "Python 3",
   "language": "python",
   "name": "python3"
  },
  "language_info": {
   "codemirror_mode": {
    "name": "ipython",
    "version": 3
   },
   "file_extension": ".py",
   "mimetype": "text/x-python",
   "name": "python",
   "nbconvert_exporter": "python",
   "pygments_lexer": "ipython3",
   "version": "3.8.5"
  }
 },
 "nbformat": 4,
 "nbformat_minor": 4
}
