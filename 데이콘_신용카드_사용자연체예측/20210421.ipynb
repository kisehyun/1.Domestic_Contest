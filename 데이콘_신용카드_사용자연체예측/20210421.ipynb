{
 "cells": [
  {
   "cell_type": "code",
   "execution_count": 49,
   "metadata": {},
   "outputs": [],
   "source": [
    "import pandas as pd\n",
    "import numpy as np\n",
    "import warnings\n",
    "warnings.filterwarnings('ignore')\n",
    "import matplotlib.pyplot as plt\n",
    "import seaborn as sns\n",
    "%matplotlib inline\n",
    "from sklearn.model_selection import StratifiedKFold\n",
    "from sklearn.ensemble import GradientBoostingClassifier, RandomForestClassifier\n",
    "from sklearn.metrics import log_loss\n",
    "from lightgbm import LGBMClassifier\n",
    "from xgboost import XGBClassifier, XGBRFClassifier\n",
    "from catboost import CatBoostClassifier, Pool\n",
    "from ngboost import NGBClassifier\n",
    "from ngboost.scores import LogScore, CRPScore\n",
    "from ngboost.distns import k_categorical\n",
    "from sklearn.preprocessing import *\n",
    "from scipy.stats import chisquare, chi2_contingency"
   ]
  },
  {
   "cell_type": "markdown",
   "metadata": {},
   "source": [
    "- 2021.04.21 : 0.7208692899\n"
   ]
  },
  {
   "cell_type": "markdown",
   "metadata": {},
   "source": [
    "### 변수 설명\n",
    "\n",
    "< features >\n",
    "    \n",
    "- gender : 성별\n",
    "- car: 차량 소유 여부\n",
    "- reality: 부동산 소유 여부\n",
    "- child_num: 자녀 수\n",
    "- income_total: 연간 소득\n",
    "- income_type: 소득 분류\n",
    "- edu_type: 교육 수준\n",
    "- family_type: 결혼 여부\n",
    "- house_type: 생활 방식\n",
    "- DAYS_BIRTH: 출생일\n",
    "- DAYS_EMPLOYED: 업무 시작일(양수값은 고용상태가 아님)\n",
    "- FLAG_MOBIL: 핸드폰 소유 여부\n",
    "- work_phone: 업무용 전화 소유 여부\n",
    "- phone: 전화 소유 여부\n",
    "- email: 이메일 소유 여부\n",
    "- occyp_type: 직업 유형\t\t\t\t\t\t\t\t\t\t\t\t\t\n",
    "- family_size: 가족 규모\n",
    "- begin_month: 신용카드 발급 월\n",
    "\n",
    "\n",
    "< target >\n",
    "- credit: 사용자의 신용카드 대금 연체를 기준의 신용도"
   ]
  },
  {
   "cell_type": "code",
   "execution_count": 50,
   "metadata": {},
   "outputs": [],
   "source": [
    "train = pd.read_csv('train.csv').iloc[:, 1:]\n",
    "test = pd.read_csv('test.csv').iloc[:, 1:]"
   ]
  },
  {
   "cell_type": "code",
   "execution_count": 51,
   "metadata": {},
   "outputs": [
    {
     "data": {
      "text/html": [
       "<div>\n",
       "<style scoped>\n",
       "    .dataframe tbody tr th:only-of-type {\n",
       "        vertical-align: middle;\n",
       "    }\n",
       "\n",
       "    .dataframe tbody tr th {\n",
       "        vertical-align: top;\n",
       "    }\n",
       "\n",
       "    .dataframe thead th {\n",
       "        text-align: right;\n",
       "    }\n",
       "</style>\n",
       "<table border=\"1\" class=\"dataframe\">\n",
       "  <thead>\n",
       "    <tr style=\"text-align: right;\">\n",
       "      <th></th>\n",
       "      <th>gender</th>\n",
       "      <th>car</th>\n",
       "      <th>reality</th>\n",
       "      <th>child_num</th>\n",
       "      <th>income_total</th>\n",
       "      <th>income_type</th>\n",
       "      <th>edu_type</th>\n",
       "      <th>family_type</th>\n",
       "      <th>house_type</th>\n",
       "      <th>DAYS_BIRTH</th>\n",
       "      <th>DAYS_EMPLOYED</th>\n",
       "      <th>FLAG_MOBIL</th>\n",
       "      <th>work_phone</th>\n",
       "      <th>phone</th>\n",
       "      <th>email</th>\n",
       "      <th>occyp_type</th>\n",
       "      <th>family_size</th>\n",
       "      <th>begin_month</th>\n",
       "      <th>credit</th>\n",
       "    </tr>\n",
       "  </thead>\n",
       "  <tbody>\n",
       "    <tr>\n",
       "      <th>0</th>\n",
       "      <td>F</td>\n",
       "      <td>N</td>\n",
       "      <td>N</td>\n",
       "      <td>0</td>\n",
       "      <td>202500.0</td>\n",
       "      <td>Commercial associate</td>\n",
       "      <td>Higher education</td>\n",
       "      <td>Married</td>\n",
       "      <td>Municipal apartment</td>\n",
       "      <td>-13899</td>\n",
       "      <td>-4709</td>\n",
       "      <td>1</td>\n",
       "      <td>0</td>\n",
       "      <td>0</td>\n",
       "      <td>0</td>\n",
       "      <td>NaN</td>\n",
       "      <td>2.0</td>\n",
       "      <td>-6.0</td>\n",
       "      <td>1.0</td>\n",
       "    </tr>\n",
       "    <tr>\n",
       "      <th>1</th>\n",
       "      <td>F</td>\n",
       "      <td>N</td>\n",
       "      <td>Y</td>\n",
       "      <td>1</td>\n",
       "      <td>247500.0</td>\n",
       "      <td>Commercial associate</td>\n",
       "      <td>Secondary / secondary special</td>\n",
       "      <td>Civil marriage</td>\n",
       "      <td>House / apartment</td>\n",
       "      <td>-11380</td>\n",
       "      <td>-1540</td>\n",
       "      <td>1</td>\n",
       "      <td>0</td>\n",
       "      <td>0</td>\n",
       "      <td>1</td>\n",
       "      <td>Laborers</td>\n",
       "      <td>3.0</td>\n",
       "      <td>-5.0</td>\n",
       "      <td>1.0</td>\n",
       "    </tr>\n",
       "  </tbody>\n",
       "</table>\n",
       "</div>"
      ],
      "text/plain": [
       "  gender car reality  child_num  income_total           income_type  \\\n",
       "0      F   N       N          0      202500.0  Commercial associate   \n",
       "1      F   N       Y          1      247500.0  Commercial associate   \n",
       "\n",
       "                        edu_type     family_type           house_type  \\\n",
       "0               Higher education         Married  Municipal apartment   \n",
       "1  Secondary / secondary special  Civil marriage    House / apartment   \n",
       "\n",
       "   DAYS_BIRTH  DAYS_EMPLOYED  FLAG_MOBIL  work_phone  phone  email occyp_type  \\\n",
       "0      -13899          -4709           1           0      0      0        NaN   \n",
       "1      -11380          -1540           1           0      0      1   Laborers   \n",
       "\n",
       "   family_size  begin_month  credit  \n",
       "0          2.0         -6.0     1.0  \n",
       "1          3.0         -5.0     1.0  "
      ]
     },
     "execution_count": 51,
     "metadata": {},
     "output_type": "execute_result"
    }
   ],
   "source": [
    "train.head(2)"
   ]
  },
  {
   "cell_type": "code",
   "execution_count": 52,
   "metadata": {
    "scrolled": true
   },
   "outputs": [
    {
     "data": {
      "text/html": [
       "<div>\n",
       "<style scoped>\n",
       "    .dataframe tbody tr th:only-of-type {\n",
       "        vertical-align: middle;\n",
       "    }\n",
       "\n",
       "    .dataframe tbody tr th {\n",
       "        vertical-align: top;\n",
       "    }\n",
       "\n",
       "    .dataframe thead th {\n",
       "        text-align: right;\n",
       "    }\n",
       "</style>\n",
       "<table border=\"1\" class=\"dataframe\">\n",
       "  <thead>\n",
       "    <tr style=\"text-align: right;\">\n",
       "      <th></th>\n",
       "      <th>gender</th>\n",
       "      <th>car</th>\n",
       "      <th>reality</th>\n",
       "      <th>child_num</th>\n",
       "      <th>income_total</th>\n",
       "      <th>income_type</th>\n",
       "      <th>edu_type</th>\n",
       "      <th>family_type</th>\n",
       "      <th>house_type</th>\n",
       "      <th>DAYS_BIRTH</th>\n",
       "      <th>DAYS_EMPLOYED</th>\n",
       "      <th>FLAG_MOBIL</th>\n",
       "      <th>work_phone</th>\n",
       "      <th>phone</th>\n",
       "      <th>email</th>\n",
       "      <th>occyp_type</th>\n",
       "      <th>family_size</th>\n",
       "      <th>begin_month</th>\n",
       "    </tr>\n",
       "  </thead>\n",
       "  <tbody>\n",
       "    <tr>\n",
       "      <th>0</th>\n",
       "      <td>M</td>\n",
       "      <td>Y</td>\n",
       "      <td>N</td>\n",
       "      <td>0</td>\n",
       "      <td>112500.0</td>\n",
       "      <td>Pensioner</td>\n",
       "      <td>Secondary / secondary special</td>\n",
       "      <td>Civil marriage</td>\n",
       "      <td>House / apartment</td>\n",
       "      <td>-21990</td>\n",
       "      <td>365243</td>\n",
       "      <td>1</td>\n",
       "      <td>0</td>\n",
       "      <td>1</td>\n",
       "      <td>0</td>\n",
       "      <td>NaN</td>\n",
       "      <td>2.0</td>\n",
       "      <td>-60.0</td>\n",
       "    </tr>\n",
       "    <tr>\n",
       "      <th>1</th>\n",
       "      <td>F</td>\n",
       "      <td>N</td>\n",
       "      <td>Y</td>\n",
       "      <td>0</td>\n",
       "      <td>135000.0</td>\n",
       "      <td>State servant</td>\n",
       "      <td>Higher education</td>\n",
       "      <td>Married</td>\n",
       "      <td>House / apartment</td>\n",
       "      <td>-18964</td>\n",
       "      <td>-8671</td>\n",
       "      <td>1</td>\n",
       "      <td>0</td>\n",
       "      <td>1</td>\n",
       "      <td>0</td>\n",
       "      <td>Core staff</td>\n",
       "      <td>2.0</td>\n",
       "      <td>-36.0</td>\n",
       "    </tr>\n",
       "  </tbody>\n",
       "</table>\n",
       "</div>"
      ],
      "text/plain": [
       "  gender car reality  child_num  income_total    income_type  \\\n",
       "0      M   Y       N          0      112500.0      Pensioner   \n",
       "1      F   N       Y          0      135000.0  State servant   \n",
       "\n",
       "                        edu_type     family_type         house_type  \\\n",
       "0  Secondary / secondary special  Civil marriage  House / apartment   \n",
       "1               Higher education         Married  House / apartment   \n",
       "\n",
       "   DAYS_BIRTH  DAYS_EMPLOYED  FLAG_MOBIL  work_phone  phone  email  \\\n",
       "0      -21990         365243           1           0      1      0   \n",
       "1      -18964          -8671           1           0      1      0   \n",
       "\n",
       "   occyp_type  family_size  begin_month  \n",
       "0         NaN          2.0        -60.0  \n",
       "1  Core staff          2.0        -36.0  "
      ]
     },
     "execution_count": 52,
     "metadata": {},
     "output_type": "execute_result"
    }
   ],
   "source": [
    "test.head(2)"
   ]
  },
  {
   "cell_type": "markdown",
   "metadata": {},
   "source": [
    "#### FLAG_MOBIL 변수는 불필요함."
   ]
  },
  {
   "cell_type": "code",
   "execution_count": 53,
   "metadata": {
    "scrolled": false
   },
   "outputs": [],
   "source": [
    "train.drop('FLAG_MOBIL', axis = 1, inplace = True)\n",
    "test.drop('FLAG_MOBIL', axis = 1, inplace = True)"
   ]
  },
  {
   "cell_type": "code",
   "execution_count": 54,
   "metadata": {},
   "outputs": [],
   "source": [
    "train['begin_month'] /= (-12)\n",
    "test['begin_month'] /= (-12)"
   ]
  },
  {
   "cell_type": "code",
   "execution_count": 55,
   "metadata": {},
   "outputs": [],
   "source": [
    "train.at[train[train.income_type == 'Student'].index, 'income_type'] = 'Working'\n",
    "test.at[test[test.income_type == 'Student'].index, 'income_type'] = 'Working'"
   ]
  },
  {
   "cell_type": "code",
   "execution_count": 56,
   "metadata": {},
   "outputs": [],
   "source": [
    "train.at[train[train.DAYS_EMPLOYED > 20000].index, 'occyp_type'] = 'No job'\n",
    "test.at[test[test.DAYS_EMPLOYED > 20000].index, 'occyp_type'] = 'No job'"
   ]
  },
  {
   "cell_type": "code",
   "execution_count": 57,
   "metadata": {},
   "outputs": [],
   "source": [
    "train[['DAYS_BIRTH', 'DAYS_EMPLOYED']] /= (-365)\n",
    "test[['DAYS_BIRTH', 'DAYS_EMPLOYED']] /= (-365)"
   ]
  },
  {
   "cell_type": "code",
   "execution_count": 58,
   "metadata": {},
   "outputs": [],
   "source": [
    "train.fillna('Unknown', inplace = True)\n",
    "test.fillna('Unknown', inplace = True)"
   ]
  },
  {
   "cell_type": "code",
   "execution_count": 26,
   "metadata": {
    "scrolled": true
   },
   "outputs": [
    {
     "data": {
      "image/png": "[encoded data removed]",
      "text/plain": [
       "<Figure size 720x432 with 2 Axes>"
      ]
     },
     "metadata": {
      "needs_background": "light"
     },
     "output_type": "display_data"
    }
   ],
   "source": [
    "plt.figure(figsize = (10, 6))\n",
    "sns.heatmap(train.corr(), annot = True)\n",
    "plt.show()"
   ]
  },
  {
   "cell_type": "markdown",
   "metadata": {},
   "source": [
    "***"
   ]
  },
  {
   "cell_type": "code",
   "execution_count": 59,
   "metadata": {},
   "outputs": [],
   "source": [
    "scaler = StandardScaler()"
   ]
  },
  {
   "cell_type": "code",
   "execution_count": 60,
   "metadata": {},
   "outputs": [],
   "source": [
    "tr_scaled = scaler.fit_transform(train[['child_num', 'family_size', 'begin_month', 'income_total', 'DAYS_BIRTH']])#, 'begin_work']])#, 'per_income', 'job_income']])"
   ]
  },
  {
   "cell_type": "code",
   "execution_count": 61,
   "metadata": {},
   "outputs": [],
   "source": [
    "te_scaled = scaler.transform(test[['child_num', 'family_size', 'begin_month', 'income_total', 'DAYS_BIRTH']])#, 'begin_work']])#, 'per_income', 'job_income']])"
   ]
  },
  {
   "cell_type": "code",
   "execution_count": 62,
   "metadata": {},
   "outputs": [],
   "source": [
    "train[['child_num', 'family_size', 'begin_month', 'income_total', 'DAYS_BIRTH']] = tr_scaled#, 'begin_work']] = tr_scaled#, 'per_income', 'job_income']] = tr_scaled"
   ]
  },
  {
   "cell_type": "code",
   "execution_count": 63,
   "metadata": {},
   "outputs": [],
   "source": [
    "test[['child_num', 'family_size', 'begin_month', 'income_total', 'DAYS_BIRTH']] = te_scaled#, 'begin_work']] = te_scaled#, 'per_income', 'job_income']] = te_scaled"
   ]
  },
  {
   "cell_type": "code",
   "execution_count": 64,
   "metadata": {},
   "outputs": [],
   "source": [
    "train2 = pd.get_dummies(columns = train.columns[train.dtypes == 'object'], data = train)"
   ]
  },
  {
   "cell_type": "code",
   "execution_count": 65,
   "metadata": {},
   "outputs": [],
   "source": [
    "test2 = pd.get_dummies(columns = test.columns[test.dtypes == 'object'], data = test)"
   ]
  },
  {
   "cell_type": "code",
   "execution_count": 66,
   "metadata": {},
   "outputs": [],
   "source": [
    "skf = StratifiedKFold(n_splits = 8, shuffle = True, random_state = 413)"
   ]
  },
  {
   "cell_type": "code",
   "execution_count": 67,
   "metadata": {},
   "outputs": [
    {
     "name": "stdout",
     "output_type": "stream",
     "text": [
      "==========================1 FOLD=========================\n",
      "Logloss of Validation = 0.7280088293219721\n",
      "\n",
      "==========================2 FOLD=========================\n",
      "Logloss of Validation = 0.7410750126879984\n",
      "\n",
      "==========================3 FOLD=========================\n",
      "Logloss of Validation = 0.7369565634905453\n",
      "\n",
      "==========================4 FOLD=========================\n",
      "Logloss of Validation = 0.7208290315604856\n",
      "\n",
      "==========================5 FOLD=========================\n",
      "Logloss of Validation = 0.7383822715164908\n",
      "\n",
      "==========================6 FOLD=========================\n",
      "Logloss of Validation = 0.7328088169790505\n",
      "\n",
      "==========================7 FOLD=========================\n",
      "Logloss of Validation = 0.7317140442809056\n",
      "\n",
      "==========================8 FOLD=========================\n",
      "Logloss of Validation = 0.7451236612817086\n",
      "\n",
      "==========================Finished!=========================\n",
      "\n",
      "평균 logloss는 0.7343622788898947\n"
     ]
    }
   ],
   "source": [
    "cat_pred = np.zeros((test2.shape[0], 3))\n",
    "cat_val_logloss = []\n",
    "i = 0\n",
    "for tr_idx, val_idx in skf.split(train2, train2.credit) :\n",
    "    i += 1\n",
    "    print(f'=========================={i} FOLD=========================')\n",
    "    tr_x, tr_y = train2.drop('credit', axis = 1).iloc[tr_idx], train2.credit.iloc[tr_idx]\n",
    "    val_x, val_y = train2.drop('credit', axis = 1).iloc[val_idx], train2.credit.iloc[val_idx]\n",
    "    cat = CatBoostClassifier(iterations = 4000, early_stopping_rounds = 500, loss_function = 'MultiClass', random_state = 413, silent = True, depth = 7)\n",
    "    cat.fit(tr_x, tr_y, eval_set = Pool(val_x, val_y), use_best_model = True)\n",
    "    val_logloss = cat.best_score_['validation']['MultiClass']\n",
    "    print(f'Logloss of Validation = {val_logloss}\\n')\n",
    "    cat_val_logloss.append(val_logloss)\n",
    "    pred = cat.predict_proba(test2) / 8\n",
    "    cat_pred += pred\n",
    "print('==========================Finished!=========================\\n')\n",
    "print(f'평균 logloss는 {np.mean(cat_val_logloss)}')"
   ]
  },
  {
   "cell_type": "code",
   "execution_count": 68,
   "metadata": {
    "scrolled": true
   },
   "outputs": [
    {
     "name": "stdout",
     "output_type": "stream",
     "text": [
      "========================================1 FOLD==========================================\n",
      "\n",
      "[LightGBM] [Warning] Accuracy may be bad since you didn't explicitly set num_leaves OR 2^max_depth > num_leaves. (num_leaves=31).\n",
      "Training until validation scores don't improve for 400 rounds\n",
      "[500]\ttraining's multi_logloss: 0.477923\tvalid_1's multi_logloss: 0.740744\n",
      "Early stopping, best iteration is:\n",
      "[397]\ttraining's multi_logloss: 0.518141\tvalid_1's multi_logloss: 0.738915\n",
      "0.7389152586515417\n",
      "========================================2 FOLD==========================================\n",
      "\n",
      "[LightGBM] [Warning] Accuracy may be bad since you didn't explicitly set num_leaves OR 2^max_depth > num_leaves. (num_leaves=31).\n",
      "Training until validation scores don't improve for 400 rounds\n",
      "[500]\ttraining's multi_logloss: 0.473963\tvalid_1's multi_logloss: 0.743451\n",
      "Early stopping, best iteration is:\n",
      "[525]\ttraining's multi_logloss: 0.465347\tvalid_1's multi_logloss: 0.743012\n",
      "0.7430115922142705\n",
      "========================================3 FOLD==========================================\n",
      "\n",
      "[LightGBM] [Warning] Accuracy may be bad since you didn't explicitly set num_leaves OR 2^max_depth > num_leaves. (num_leaves=31).\n",
      "Training until validation scores don't improve for 400 rounds\n",
      "[500]\ttraining's multi_logloss: 0.474222\tvalid_1's multi_logloss: 0.745184\n",
      "Early stopping, best iteration is:\n",
      "[410]\ttraining's multi_logloss: 0.510278\tvalid_1's multi_logloss: 0.740409\n",
      "0.7404089967873028\n",
      "========================================4 FOLD==========================================\n",
      "\n",
      "[LightGBM] [Warning] Accuracy may be bad since you didn't explicitly set num_leaves OR 2^max_depth > num_leaves. (num_leaves=31).\n",
      "Training until validation scores don't improve for 400 rounds\n",
      "[500]\ttraining's multi_logloss: 0.474821\tvalid_1's multi_logloss: 0.73288\n",
      "Early stopping, best iteration is:\n",
      "[574]\ttraining's multi_logloss: 0.449435\tvalid_1's multi_logloss: 0.730717\n",
      "0.7307165635927046\n",
      "========================================5 FOLD==========================================\n",
      "\n",
      "[LightGBM] [Warning] Accuracy may be bad since you didn't explicitly set num_leaves OR 2^max_depth > num_leaves. (num_leaves=31).\n",
      "Training until validation scores don't improve for 400 rounds\n",
      "[500]\ttraining's multi_logloss: 0.474242\tvalid_1's multi_logloss: 0.739162\n",
      "Early stopping, best iteration is:\n",
      "[338]\ttraining's multi_logloss: 0.538915\tvalid_1's multi_logloss: 0.736289\n",
      "0.7362887008579163\n",
      "========================================6 FOLD==========================================\n",
      "\n",
      "[LightGBM] [Warning] Accuracy may be bad since you didn't explicitly set num_leaves OR 2^max_depth > num_leaves. (num_leaves=31).\n",
      "Training until validation scores don't improve for 400 rounds\n",
      "[500]\ttraining's multi_logloss: 0.475264\tvalid_1's multi_logloss: 0.734746\n",
      "[1000]\ttraining's multi_logloss: 0.345987\tvalid_1's multi_logloss: 0.749752\n",
      "Early stopping, best iteration is:\n",
      "[628]\ttraining's multi_logloss: 0.43433\tvalid_1's multi_logloss: 0.733571\n",
      "0.7335712885263077\n",
      "========================================7 FOLD==========================================\n",
      "\n",
      "[LightGBM] [Warning] Accuracy may be bad since you didn't explicitly set num_leaves OR 2^max_depth > num_leaves. (num_leaves=31).\n",
      "Training until validation scores don't improve for 400 rounds\n",
      "[500]\ttraining's multi_logloss: 0.474058\tvalid_1's multi_logloss: 0.733183\n",
      "Early stopping, best iteration is:\n",
      "[479]\ttraining's multi_logloss: 0.4816\tvalid_1's multi_logloss: 0.732729\n",
      "0.7327291795619033\n",
      "========================================8 FOLD==========================================\n",
      "\n",
      "[LightGBM] [Warning] Accuracy may be bad since you didn't explicitly set num_leaves OR 2^max_depth > num_leaves. (num_leaves=31).\n",
      "Training until validation scores don't improve for 400 rounds\n",
      "[500]\ttraining's multi_logloss: 0.477338\tvalid_1's multi_logloss: 0.750571\n",
      "Early stopping, best iteration is:\n",
      "[445]\ttraining's multi_logloss: 0.496142\tvalid_1's multi_logloss: 0.748954\n",
      "0.7489542348447079\n",
      "==========================Finished!=========================\n",
      "\n",
      "평균 logloss는 0.7380744768795818\n"
     ]
    }
   ],
   "source": [
    "lgb_pred = np.zeros((test2.shape[0], 3))\n",
    "lgb_losses = []\n",
    "i = 0\n",
    "for tr_idx, val_idx in skf.split(train2, train2.credit) :\n",
    "    i += 1\n",
    "    print(f'========================================{i} FOLD==========================================\\n')\n",
    "    tr_x, tr_y = train2.drop('credit', axis = 1).iloc[tr_idx], train2.credit.iloc[tr_idx]\n",
    "    val_x, val_y = train2.drop('credit', axis = 1).iloc[val_idx], train2.credit.iloc[val_idx]\n",
    "    \n",
    "    lgb = LGBMClassifier(n_jobs = -1, num_iterations = 1500, metric = 'multi_logloss', objective = 'multiclass', boosting_type = 'gbdt', n_estimators = 800, random_state = 413, max_depth = 6)\n",
    "    \n",
    "    lgb.fit(tr_x, tr_y, eval_set = [(tr_x, tr_y), (val_x, val_y)],\n",
    "            early_stopping_rounds = 400, verbose = 500, eval_metric = 'multi_logloss')\n",
    "    print(lgb.best_score_['valid_1']['multi_logloss'])\n",
    "    lgb_losses.append(lgb.best_score_['valid_1']['multi_logloss'])\n",
    "    pred = lgb.predict_proba(test2) / 8\n",
    "    lgb_pred += pred\n",
    "print('==========================Finished!=========================\\n')\n",
    "print(f'평균 logloss는 {np.mean(lgb_losses)}')"
   ]
  },
  {
   "cell_type": "code",
   "execution_count": 69,
   "metadata": {},
   "outputs": [
    {
     "name": "stdout",
     "output_type": "stream",
     "text": [
      "==========================1 FOLD=========================\n",
      "[0]\tvalidation_0-mlogloss:0.97470\tvalidation_1-mlogloss:0.97689\n",
      "[458]\tvalidation_0-mlogloss:0.30493\tvalidation_1-mlogloss:0.76281\n",
      "0.733239357186844\n",
      "==========================2 FOLD=========================\n",
      "[0]\tvalidation_0-mlogloss:0.97409\tvalidation_1-mlogloss:0.97765\n",
      "[466]\tvalidation_0-mlogloss:0.30110\tvalidation_1-mlogloss:0.76851\n",
      "0.7396604491281992\n",
      "==========================3 FOLD=========================\n",
      "[0]\tvalidation_0-mlogloss:0.97455\tvalidation_1-mlogloss:0.97799\n",
      "[422]\tvalidation_0-mlogloss:0.32070\tvalidation_1-mlogloss:0.75238\n",
      "0.7294139260297181\n",
      "==========================4 FOLD=========================\n",
      "[0]\tvalidation_0-mlogloss:0.97396\tvalidation_1-mlogloss:0.97872\n",
      "[440]\tvalidation_0-mlogloss:0.31433\tvalidation_1-mlogloss:0.73109\n",
      "0.7145866144423595\n",
      "==========================5 FOLD=========================\n",
      "[0]\tvalidation_0-mlogloss:0.97435\tvalidation_1-mlogloss:0.97841\n",
      "[413]\tvalidation_0-mlogloss:0.32435\tvalidation_1-mlogloss:0.75812\n",
      "0.7310749203026394\n",
      "==========================6 FOLD=========================\n",
      "[0]\tvalidation_0-mlogloss:0.97467\tvalidation_1-mlogloss:0.97898\n",
      "[498]\tvalidation_0-mlogloss:0.28890\tvalidation_1-mlogloss:0.74066\n",
      "0.7162633233662556\n",
      "==========================7 FOLD=========================\n",
      "[0]\tvalidation_0-mlogloss:0.97424\tvalidation_1-mlogloss:0.97786\n",
      "[447]\tvalidation_0-mlogloss:0.30967\tvalidation_1-mlogloss:0.74629\n",
      "0.724340876000718\n",
      "==========================8 FOLD=========================\n",
      "[0]\tvalidation_0-mlogloss:0.97483\tvalidation_1-mlogloss:0.97832\n",
      "[403]\tvalidation_0-mlogloss:0.32862\tvalidation_1-mlogloss:0.76439\n",
      "0.7358313046518565\n",
      "==========================Finished!=========================\n",
      "\n",
      "평균 logloss는 0.7280513463885738\n"
     ]
    }
   ],
   "source": [
    "xgb_pred = np.zeros((test2.shape[0], 3))\n",
    "i = 0\n",
    "xgb_losses = []\n",
    "for tr_idx, val_idx in skf.split(train2, train2.credit) :\n",
    "    i += 1\n",
    "    print(f'=========================={i} FOLD=========================')\n",
    "    tr_x, tr_y = train2.drop('credit', axis = 1).iloc[tr_idx], train2.credit.iloc[tr_idx]\n",
    "    val_x, val_y = train2.drop('credit', axis = 1).iloc[val_idx], train2.credit.iloc[val_idx]\n",
    "    \n",
    "    xgb = XGBClassifier(n_jobs = -1, objective = 'multi:softprob', n_estimators = 750, random_state = 413, max_depth = 6)\n",
    "    \n",
    "    xgb.fit(tr_x, tr_y, eval_metric = 'mlogloss', eval_set = [(tr_x, tr_y), (val_x, val_y)],\n",
    "            early_stopping_rounds = 250, verbose = 500)\n",
    "    p = xgb.predict_proba(val_x, ntree_limit = xgb.best_iteration)\n",
    "    print(log_loss(val_y, p))\n",
    "    xgb_losses.append(log_loss(val_y, p))\n",
    "    pred = xgb.predict_proba(test2, ntree_limit = xgb.best_iteration) / 8\n",
    "    xgb_pred += pred\n",
    "print('==========================Finished!=========================\\n')\n",
    "print(f'평균 logloss는 {np.mean(xgb_losses)}')"
   ]
  },
  {
   "cell_type": "markdown",
   "metadata": {},
   "source": [
    "0.7409 / 0.7412 / 0.72985"
   ]
  },
  {
   "cell_type": "code",
   "execution_count": 45,
   "metadata": {},
   "outputs": [],
   "source": [
    "submission = pd.read_csv('sample_submission.csv')"
   ]
  },
  {
   "cell_type": "code",
   "execution_count": 70,
   "metadata": {},
   "outputs": [],
   "source": [
    "submission.iloc[:, 1:] = xgb_pred * .4 + lgb_pred * .3 + cat_pred * .3"
   ]
  },
  {
   "cell_type": "code",
   "execution_count": 71,
   "metadata": {},
   "outputs": [
    {
     "data": {
      "text/html": [
       "<div>\n",
       "<style scoped>\n",
       "    .dataframe tbody tr th:only-of-type {\n",
       "        vertical-align: middle;\n",
       "    }\n",
       "\n",
       "    .dataframe tbody tr th {\n",
       "        vertical-align: top;\n",
       "    }\n",
       "\n",
       "    .dataframe thead th {\n",
       "        text-align: right;\n",
       "    }\n",
       "</style>\n",
       "<table border=\"1\" class=\"dataframe\">\n",
       "  <thead>\n",
       "    <tr style=\"text-align: right;\">\n",
       "      <th></th>\n",
       "      <th>index</th>\n",
       "      <th>0</th>\n",
       "      <th>1</th>\n",
       "      <th>2</th>\n",
       "    </tr>\n",
       "  </thead>\n",
       "  <tbody>\n",
       "    <tr>\n",
       "      <th>0</th>\n",
       "      <td>26457</td>\n",
       "      <td>0.037056</td>\n",
       "      <td>0.086766</td>\n",
       "      <td>0.876178</td>\n",
       "    </tr>\n",
       "    <tr>\n",
       "      <th>1</th>\n",
       "      <td>26458</td>\n",
       "      <td>0.211175</td>\n",
       "      <td>0.164461</td>\n",
       "      <td>0.624364</td>\n",
       "    </tr>\n",
       "    <tr>\n",
       "      <th>2</th>\n",
       "      <td>26459</td>\n",
       "      <td>0.059019</td>\n",
       "      <td>0.117748</td>\n",
       "      <td>0.823233</td>\n",
       "    </tr>\n",
       "    <tr>\n",
       "      <th>3</th>\n",
       "      <td>26460</td>\n",
       "      <td>0.137450</td>\n",
       "      <td>0.129199</td>\n",
       "      <td>0.733351</td>\n",
       "    </tr>\n",
       "    <tr>\n",
       "      <th>4</th>\n",
       "      <td>26461</td>\n",
       "      <td>0.070811</td>\n",
       "      <td>0.153281</td>\n",
       "      <td>0.775908</td>\n",
       "    </tr>\n",
       "    <tr>\n",
       "      <th>...</th>\n",
       "      <td>...</td>\n",
       "      <td>...</td>\n",
       "      <td>...</td>\n",
       "      <td>...</td>\n",
       "    </tr>\n",
       "    <tr>\n",
       "      <th>9995</th>\n",
       "      <td>36452</td>\n",
       "      <td>0.228262</td>\n",
       "      <td>0.209747</td>\n",
       "      <td>0.561990</td>\n",
       "    </tr>\n",
       "    <tr>\n",
       "      <th>9996</th>\n",
       "      <td>36453</td>\n",
       "      <td>0.162307</td>\n",
       "      <td>0.345132</td>\n",
       "      <td>0.492561</td>\n",
       "    </tr>\n",
       "    <tr>\n",
       "      <th>9997</th>\n",
       "      <td>36454</td>\n",
       "      <td>0.016528</td>\n",
       "      <td>0.064102</td>\n",
       "      <td>0.919370</td>\n",
       "    </tr>\n",
       "    <tr>\n",
       "      <th>9998</th>\n",
       "      <td>36455</td>\n",
       "      <td>0.076740</td>\n",
       "      <td>0.204012</td>\n",
       "      <td>0.719248</td>\n",
       "    </tr>\n",
       "    <tr>\n",
       "      <th>9999</th>\n",
       "      <td>36456</td>\n",
       "      <td>0.048385</td>\n",
       "      <td>0.248778</td>\n",
       "      <td>0.702837</td>\n",
       "    </tr>\n",
       "  </tbody>\n",
       "</table>\n",
       "<p>10000 rows × 4 columns</p>\n",
       "</div>"
      ],
      "text/plain": [
       "      index         0         1         2\n",
       "0     26457  0.037056  0.086766  0.876178\n",
       "1     26458  0.211175  0.164461  0.624364\n",
       "2     26459  0.059019  0.117748  0.823233\n",
       "3     26460  0.137450  0.129199  0.733351\n",
       "4     26461  0.070811  0.153281  0.775908\n",
       "...     ...       ...       ...       ...\n",
       "9995  36452  0.228262  0.209747  0.561990\n",
       "9996  36453  0.162307  0.345132  0.492561\n",
       "9997  36454  0.016528  0.064102  0.919370\n",
       "9998  36455  0.076740  0.204012  0.719248\n",
       "9999  36456  0.048385  0.248778  0.702837\n",
       "\n",
       "[10000 rows x 4 columns]"
      ]
     },
     "execution_count": 71,
     "metadata": {},
     "output_type": "execute_result"
    }
   ],
   "source": [
    "submission"
   ]
  },
  {
   "cell_type": "code",
   "execution_count": 72,
   "metadata": {},
   "outputs": [],
   "source": [
    "submission.to_csv('0419submission.csv', index = False)"
   ]
  },
  {
   "cell_type": "markdown",
   "metadata": {},
   "source": [
    "0.7208692899\n"
   ]
  },
  {
   "cell_type": "code",
   "execution_count": null,
   "metadata": {},
   "outputs": [],
   "source": []
  }
 ],
 "metadata": {
  "kernelspec": {
   "display_name": "Python 3",
   "language": "python",
   "name": "python3"
  },
  "language_info": {
   "codemirror_mode": {
    "name": "ipython",
    "version": 3
   },
   "file_extension": ".py",
   "mimetype": "text/x-python",
   "name": "python",
   "nbconvert_exporter": "python",
   "pygments_lexer": "ipython3",
   "version": "3.8.5"
  }
 },
 "nbformat": 4,
 "nbformat_minor": 4
}
