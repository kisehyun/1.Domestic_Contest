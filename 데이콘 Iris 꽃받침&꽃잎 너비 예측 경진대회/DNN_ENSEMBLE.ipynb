{
 "cells": [
  {
   "cell_type": "code",
   "execution_count": 19,
   "id": "780d1fe3",
   "metadata": {},
   "outputs": [],
   "source": [
    "import pandas as pd\n",
    "import numpy as np\n",
    "\n",
    "import warnings\n",
    "warnings.filterwarnings('ignore')\n",
    "\n",
    "from sklearn.linear_model import Ridge, Lasso, LinearRegression, ElasticNet\n",
    "from sklearn.svm import LinearSVR, SVR\n",
    "from catboost import CatBoostRegressor\n",
    "from sklearn.ensemble import ExtraTreesRegressor\n",
    "from sklearn.model_selection import cross_val_score, KFold, StratifiedKFold, LeaveOneOut\n",
    "from sklearn.metrics import mean_absolute_error\n",
    "from sklearn.preprocessing import MinMaxScaler, StandardScaler"
   ]
  },
  {
   "cell_type": "code",
   "execution_count": 2,
   "id": "5b634854",
   "metadata": {},
   "outputs": [],
   "source": [
    "kf = KFold(n_splits = 15, shuffle = True, random_state = 42)"
   ]
  },
  {
   "cell_type": "markdown",
   "id": "0e01d9c4",
   "metadata": {},
   "source": [
    "#### LeaveOneOut을 사용했지만 KFold 보다 성능이 좋지 않아 15Fold를 사용했습니다."
   ]
  },
  {
   "cell_type": "code",
   "execution_count": 3,
   "id": "5d884209",
   "metadata": {},
   "outputs": [],
   "source": [
    "train = pd.read_csv(\"iris_train.csv\")\n",
    "test = pd.read_csv(\"iris_test.csv\")"
   ]
  },
  {
   "cell_type": "code",
   "execution_count": 4,
   "id": "c7c4eadc",
   "metadata": {
    "scrolled": false
   },
   "outputs": [
    {
     "data": {
      "text/html": [
       "<div>\n",
       "<style scoped>\n",
       "    .dataframe tbody tr th:only-of-type {\n",
       "        vertical-align: middle;\n",
       "    }\n",
       "\n",
       "    .dataframe tbody tr th {\n",
       "        vertical-align: top;\n",
       "    }\n",
       "\n",
       "    .dataframe thead th {\n",
       "        text-align: right;\n",
       "    }\n",
       "</style>\n",
       "<table border=\"1\" class=\"dataframe\">\n",
       "  <thead>\n",
       "    <tr style=\"text-align: right;\">\n",
       "      <th></th>\n",
       "      <th>id</th>\n",
       "      <th>species</th>\n",
       "      <th>sepal length (cm)</th>\n",
       "      <th>petal length (cm)</th>\n",
       "      <th>sepal width (cm)</th>\n",
       "      <th>petal width (cm)</th>\n",
       "    </tr>\n",
       "  </thead>\n",
       "  <tbody>\n",
       "    <tr>\n",
       "      <th>0</th>\n",
       "      <td>0</td>\n",
       "      <td>setosa</td>\n",
       "      <td>4.4</td>\n",
       "      <td>1.4</td>\n",
       "      <td>2.9</td>\n",
       "      <td>0.2</td>\n",
       "    </tr>\n",
       "    <tr>\n",
       "      <th>1</th>\n",
       "      <td>1</td>\n",
       "      <td>versicolor</td>\n",
       "      <td>6.4</td>\n",
       "      <td>4.5</td>\n",
       "      <td>3.2</td>\n",
       "      <td>1.5</td>\n",
       "    </tr>\n",
       "    <tr>\n",
       "      <th>2</th>\n",
       "      <td>2</td>\n",
       "      <td>virginica</td>\n",
       "      <td>6.2</td>\n",
       "      <td>4.8</td>\n",
       "      <td>2.8</td>\n",
       "      <td>1.8</td>\n",
       "    </tr>\n",
       "    <tr>\n",
       "      <th>3</th>\n",
       "      <td>3</td>\n",
       "      <td>virginica</td>\n",
       "      <td>7.2</td>\n",
       "      <td>6.1</td>\n",
       "      <td>3.6</td>\n",
       "      <td>2.5</td>\n",
       "    </tr>\n",
       "    <tr>\n",
       "      <th>4</th>\n",
       "      <td>4</td>\n",
       "      <td>setosa</td>\n",
       "      <td>4.9</td>\n",
       "      <td>1.4</td>\n",
       "      <td>3.0</td>\n",
       "      <td>0.2</td>\n",
       "    </tr>\n",
       "  </tbody>\n",
       "</table>\n",
       "</div>"
      ],
      "text/plain": [
       "   id     species  sepal length (cm)  petal length (cm)  sepal width (cm)  \\\n",
       "0   0      setosa                4.4                1.4               2.9   \n",
       "1   1  versicolor                6.4                4.5               3.2   \n",
       "2   2   virginica                6.2                4.8               2.8   \n",
       "3   3   virginica                7.2                6.1               3.6   \n",
       "4   4      setosa                4.9                1.4               3.0   \n",
       "\n",
       "   petal width (cm)  \n",
       "0               0.2  \n",
       "1               1.5  \n",
       "2               1.8  \n",
       "3               2.5  \n",
       "4               0.2  "
      ]
     },
     "execution_count": 4,
     "metadata": {},
     "output_type": "execute_result"
    }
   ],
   "source": [
    "train.head()"
   ]
  },
  {
   "cell_type": "code",
   "execution_count": 5,
   "id": "fa163fd9",
   "metadata": {
    "scrolled": false
   },
   "outputs": [
    {
     "data": {
      "text/html": [
       "<div>\n",
       "<style scoped>\n",
       "    .dataframe tbody tr th:only-of-type {\n",
       "        vertical-align: middle;\n",
       "    }\n",
       "\n",
       "    .dataframe tbody tr th {\n",
       "        vertical-align: top;\n",
       "    }\n",
       "\n",
       "    .dataframe thead th {\n",
       "        text-align: right;\n",
       "    }\n",
       "</style>\n",
       "<table border=\"1\" class=\"dataframe\">\n",
       "  <thead>\n",
       "    <tr style=\"text-align: right;\">\n",
       "      <th></th>\n",
       "      <th>id</th>\n",
       "      <th>species</th>\n",
       "      <th>sepal length (cm)</th>\n",
       "      <th>petal length (cm)</th>\n",
       "    </tr>\n",
       "  </thead>\n",
       "  <tbody>\n",
       "    <tr>\n",
       "      <th>0</th>\n",
       "      <td>0</td>\n",
       "      <td>setosa</td>\n",
       "      <td>5.4</td>\n",
       "      <td>1.7</td>\n",
       "    </tr>\n",
       "    <tr>\n",
       "      <th>1</th>\n",
       "      <td>1</td>\n",
       "      <td>setosa</td>\n",
       "      <td>5.7</td>\n",
       "      <td>1.5</td>\n",
       "    </tr>\n",
       "    <tr>\n",
       "      <th>2</th>\n",
       "      <td>2</td>\n",
       "      <td>setosa</td>\n",
       "      <td>5.3</td>\n",
       "      <td>1.5</td>\n",
       "    </tr>\n",
       "    <tr>\n",
       "      <th>3</th>\n",
       "      <td>3</td>\n",
       "      <td>setosa</td>\n",
       "      <td>5.1</td>\n",
       "      <td>1.9</td>\n",
       "    </tr>\n",
       "    <tr>\n",
       "      <th>4</th>\n",
       "      <td>4</td>\n",
       "      <td>virginica</td>\n",
       "      <td>6.0</td>\n",
       "      <td>4.8</td>\n",
       "    </tr>\n",
       "  </tbody>\n",
       "</table>\n",
       "</div>"
      ],
      "text/plain": [
       "   id    species  sepal length (cm)  petal length (cm)\n",
       "0   0     setosa                5.4                1.7\n",
       "1   1     setosa                5.7                1.5\n",
       "2   2     setosa                5.3                1.5\n",
       "3   3     setosa                5.1                1.9\n",
       "4   4  virginica                6.0                4.8"
      ]
     },
     "execution_count": 5,
     "metadata": {},
     "output_type": "execute_result"
    }
   ],
   "source": [
    "test.head()"
   ]
  },
  {
   "cell_type": "code",
   "execution_count": 6,
   "id": "5460d88c",
   "metadata": {},
   "outputs": [],
   "source": [
    "scaler = MinMaxScaler()"
   ]
  },
  {
   "cell_type": "markdown",
   "id": "7ce71e2d",
   "metadata": {},
   "source": [
    "#### Scaling 기법 중 MinMaxScaling이 성능이 좋아 사용했습니다.\n",
    "- 학습 데이터의 분포를 학습한 scaler를 적용하기 위해 test 데이터에 대해서는 transform만 취해줍니다."
   ]
  },
  {
   "cell_type": "code",
   "execution_count": 7,
   "id": "dc947bbe",
   "metadata": {},
   "outputs": [],
   "source": [
    "train.iloc[:, 2:4] = scaler.fit_transform(train.iloc[:, 2:4])\n",
    "test.iloc[:, 2:] = scaler.transform(test.iloc[:, 2:])"
   ]
  },
  {
   "cell_type": "code",
   "execution_count": 8,
   "id": "93c35a68",
   "metadata": {},
   "outputs": [],
   "source": [
    "train['sw'] = train['species'].map({'setosa' : 3, 'versicolor' : 1, 'virginica' : 2})\n",
    "test['sw'] = test['species'].map({'setosa' : 3, 'versicolor' : 1, 'virginica' : 2})"
   ]
  },
  {
   "cell_type": "markdown",
   "id": "527c83f0",
   "metadata": {},
   "source": [
    "#### Sepal width (cm)을 예측할 때 target encoding을 위해 species별 sepal width (cm)의 평균을 기준으로 랭크를 생성했습니다."
   ]
  },
  {
   "cell_type": "code",
   "execution_count": 9,
   "id": "6c47ef50",
   "metadata": {},
   "outputs": [],
   "source": [
    "train['pw'] = train['species'].map({'setosa' : 3, 'versicolor' : 2, 'virginica' : 1})\n",
    "test['pw'] = test['species'].map({'setosa' : 3, 'versicolor' : 2, 'virginica' : 1})"
   ]
  },
  {
   "cell_type": "markdown",
   "id": "11f8b76a",
   "metadata": {},
   "source": [
    "#### Petal width (cm)을 예측할 때 target encoding을 위해 species별 petal width (cm)의 평균을 기준으로 랭크를 생성했습니다."
   ]
  },
  {
   "cell_type": "code",
   "execution_count": 10,
   "id": "a02a0c91",
   "metadata": {},
   "outputs": [],
   "source": [
    "X1 = train.drop(['id', 'species', 'sepal width (cm)', 'petal width (cm)', 'pw'], axis = 1)\n",
    "X2 = train.drop(['id', 'species', 'sepal width (cm)', 'petal width (cm)', 'sw'], axis = 1)\n",
    "y1 = train['sepal width (cm)']\n",
    "y2 = train['petal width (cm)']\n",
    "\n",
    "target1 = test[X1.columns]\n",
    "target2 = test[X2.columns]"
   ]
  },
  {
   "cell_type": "markdown",
   "id": "04856c58",
   "metadata": {},
   "source": [
    "#### 최종적으로 2개의 데이터셋을 구성했습니다.\n",
    "- sepal width (cm) 용\n",
    "- petal width (cm) 용\n",
    "***\n",
    "### Linear Regression"
   ]
  },
  {
   "cell_type": "code",
   "execution_count": 12,
   "id": "a590161d",
   "metadata": {},
   "outputs": [
    {
     "name": "stdout",
     "output_type": "stream",
     "text": [
      "15 FOLD 평균 MAE = 0.23283224802305144\n"
     ]
    }
   ],
   "source": [
    "lr_pred1 = np.zeros((target1.shape[0]))\n",
    "vm_list = []\n",
    "for i, idx in enumerate(zip(kf.split(X1, y1))) :\n",
    "    \n",
    "    tr_x, tr_y = X1.iloc[idx[0][0]], y1.iloc[idx[0][0]]\n",
    "    val_x, val_y = X1.iloc[idx[0][1]], y1.iloc[idx[0][1]]\n",
    "    \n",
    "    ### fitting\n",
    "    lr = LinearRegression(normalize = True)\n",
    "    lr.fit(tr_x, tr_y)\n",
    "    \n",
    "    ### validation\n",
    "    val_pred = lr.predict(val_x)\n",
    "    val_mae = mean_absolute_error(val_y, val_pred)\n",
    "    vm_list.append(val_mae)\n",
    "    \n",
    "    ### prediction\n",
    "    fold_pred = lr.predict(target1) / 15\n",
    "    lr_pred1 += fold_pred\n",
    "    \n",
    "print(f'15 FOLD 평균 MAE = {np.mean(vm_list)}')"
   ]
  },
  {
   "cell_type": "code",
   "execution_count": 13,
   "id": "4defc4f6",
   "metadata": {},
   "outputs": [
    {
     "name": "stdout",
     "output_type": "stream",
     "text": [
      "15 FOLD 평균 MAE = 0.14261988003428838\n"
     ]
    }
   ],
   "source": [
    "lr_pred2 = np.zeros((target2.shape[0]))\n",
    "vm_list = []\n",
    "for i, idx in enumerate(zip(kf.split(X2, y2))) :\n",
    "    \n",
    "    tr_x, tr_y = X2.iloc[idx[0][0]], y2.iloc[idx[0][0]]\n",
    "    val_x, val_y = X2.iloc[idx[0][1]], y2.iloc[idx[0][1]]\n",
    "    \n",
    "    ### fitting\n",
    "    lr = LinearRegression()\n",
    "    lr.fit(tr_x, tr_y)\n",
    "    \n",
    "    ### validation\n",
    "    val_pred = lr.predict(val_x)\n",
    "    val_mae = mean_absolute_error(val_y, val_pred)\n",
    "    vm_list.append(val_mae)\n",
    "    \n",
    "    ### prediction\n",
    "    fold_pred = lr.predict(target2) / 15\n",
    "    lr_pred2 += fold_pred\n",
    "    \n",
    "print(f'15 FOLD 평균 MAE = {np.mean(vm_list)}')"
   ]
  },
  {
   "cell_type": "markdown",
   "id": "f4805bbd",
   "metadata": {},
   "source": [
    "***\n",
    "### SVR"
   ]
  },
  {
   "cell_type": "code",
   "execution_count": 14,
   "id": "39fb3e3b",
   "metadata": {},
   "outputs": [
    {
     "name": "stdout",
     "output_type": "stream",
     "text": [
      "15 FOLD 평균 MAE = 0.2142095202162351\n"
     ]
    }
   ],
   "source": [
    "svr_pred1 = np.zeros((target1.shape[0]))\n",
    "vm_list = []\n",
    "for i, idx in enumerate(zip(kf.split(X1, y1))) :\n",
    "\n",
    "    tr_x, tr_y = X1.iloc[idx[0][0]], y1.iloc[idx[0][0]]\n",
    "    val_x, val_y = X1.iloc[idx[0][1]], y1.iloc[idx[0][1]]\n",
    "    \n",
    "    ### fitting\n",
    "    svr = SVR(C = 5)\n",
    "    svr.fit(tr_x, tr_y)\n",
    "    \n",
    "    ### validation\n",
    "    val_pred = svr.predict(val_x)\n",
    "    val_mae = mean_absolute_error(val_y, val_pred)\n",
    "    vm_list.append(val_mae)\n",
    "    \n",
    "    ### prediction\n",
    "    fold_pred = svr.predict(target1) / 15\n",
    "    svr_pred1 += fold_pred\n",
    "\n",
    "print(f'15 FOLD 평균 MAE = {np.mean(vm_list)}')"
   ]
  },
  {
   "cell_type": "code",
   "execution_count": 17,
   "id": "ba8d74e3",
   "metadata": {},
   "outputs": [
    {
     "name": "stdout",
     "output_type": "stream",
     "text": [
      "15 FOLD 평균 MAE = 0.13891373747298283\n"
     ]
    }
   ],
   "source": [
    "svr_pred2 = np.zeros((target2.shape[0]))\n",
    "vm_list = []\n",
    "for i, idx in enumerate(zip(kf.split(X2, y2))) :\n",
    "    tr_x, tr_y = X2.iloc[idx[0][0]], y2.iloc[idx[0][0]]\n",
    "    val_x, val_y = X2.iloc[idx[0][1]], y2.iloc[idx[0][1]]\n",
    "    \n",
    "    ### fitting\n",
    "    svr = SVR(C = 5)\n",
    "    svr.fit(tr_x, tr_y)\n",
    "    \n",
    "    ### validation\n",
    "    val_pred = svr.predict(val_x)\n",
    "    val_mae = mean_absolute_error(val_y, val_pred)\n",
    "    vm_list.append(val_mae)\n",
    "    \n",
    "    ### prediction\n",
    "    fold_pred = svr.predict(target2) / 15\n",
    "    svr_pred2 += fold_pred\n",
    "\n",
    "print(f'15 FOLD 평균 MAE = {np.mean(vm_list)}')"
   ]
  },
  {
   "cell_type": "markdown",
   "id": "ce9bd416",
   "metadata": {},
   "source": [
    "***\n",
    "### ExtraTreeRegressor"
   ]
  },
  {
   "cell_type": "code",
   "execution_count": 20,
   "id": "a0fdd0c8",
   "metadata": {},
   "outputs": [
    {
     "name": "stdout",
     "output_type": "stream",
     "text": [
      "15 FOLD 평균 MAE = 0.23058993733356375\n"
     ]
    }
   ],
   "source": [
    "etr_pred1 = np.zeros((target1.shape[0]))\n",
    "vm_list = []\n",
    "for i, idx in enumerate(zip(kf.split(X1, y1))) :\n",
    "\n",
    "    tr_x, tr_y = X1.iloc[idx[0][0]], y1.iloc[idx[0][0]]\n",
    "    val_x, val_y = X1.iloc[idx[0][1]], y1.iloc[idx[0][1]]\n",
    "    \n",
    "    ### fitting\n",
    "    etr = ExtraTreesRegressor(random_state = 42, n_estimators = 15, max_depth = 3)\n",
    "    etr.fit(tr_x, tr_y)\n",
    "    \n",
    "    ### validation\n",
    "    val_pred = etr.predict(val_x)\n",
    "    val_mae = mean_absolute_error(val_y, val_pred)\n",
    "    vm_list.append(val_mae)\n",
    "\n",
    "    \n",
    "    ### prediction\n",
    "    fold_pred = etr.predict(target1) / 15\n",
    "    etr_pred1 += fold_pred\n",
    "\n",
    "print(f'15 FOLD 평균 MAE = {np.mean(vm_list)}')"
   ]
  },
  {
   "cell_type": "code",
   "execution_count": 21,
   "id": "ac6ba8c1",
   "metadata": {},
   "outputs": [
    {
     "name": "stdout",
     "output_type": "stream",
     "text": [
      "15 FOLD 평균 MAE = 0.1462207498576399\n"
     ]
    }
   ],
   "source": [
    "etr_pred2 = np.zeros((target2.shape[0]))\n",
    "vm_list = []\n",
    "for i, idx in enumerate(zip(kf.split(X2, y2))) :\n",
    "\n",
    "    tr_x, tr_y = X2.iloc[idx[0][0]], y2.iloc[idx[0][0]]\n",
    "    val_x, val_y = X2.iloc[idx[0][1]], y2.iloc[idx[0][1]]\n",
    "    \n",
    "    ###fitting\n",
    "    etr = ExtraTreesRegressor(random_state = 42, n_estimators = 15, max_depth = 3)\n",
    "    etr.fit(tr_x, tr_y)\n",
    "    \n",
    "    ### validation\n",
    "    val_pred = etr.predict(val_x)\n",
    "    val_mae = mean_absolute_error(val_y, val_pred)\n",
    "    vm_list.append(val_mae)\n",
    "\n",
    "    \n",
    "    ### prediction\n",
    "    fold_pred = etr.predict(target2) / 15\n",
    "    etr_pred2 += fold_pred\n",
    "\n",
    "print(f'15 FOLD 평균 MAE = {np.mean(vm_list)}')"
   ]
  },
  {
   "cell_type": "markdown",
   "id": "cc3cb086",
   "metadata": {},
   "source": [
    "***\n",
    "\n",
    "### CatBoost"
   ]
  },
  {
   "cell_type": "code",
   "execution_count": 22,
   "id": "7e91543f",
   "metadata": {
    "scrolled": true
   },
   "outputs": [
    {
     "name": "stdout",
     "output_type": "stream",
     "text": [
      "0:\tlearn: 0.2748562\ttest: 0.2748562\ttest1: 0.3279981\tbest: 0.3279981 (0)\ttotal: 61.5ms\tremaining: 5m 7s\n",
      "Stopped by overfitting detector  (500 iterations wait)\n",
      "\n",
      "bestTest = 0.2041686452\n",
      "bestIteration = 87\n",
      "\n",
      "Shrink model to first 88 iterations.\n",
      "0:\tlearn: 0.2755704\ttest: 0.2755704\ttest1: 0.3139988\tbest: 0.3139988 (0)\ttotal: 104us\tremaining: 522ms\n",
      "Stopped by overfitting detector  (500 iterations wait)\n",
      "\n",
      "bestTest = 0.2333379438\n",
      "bestIteration = 34\n",
      "\n",
      "Shrink model to first 35 iterations.\n",
      "0:\tlearn: 0.2877132\ttest: 0.2877132\ttest1: 0.1719992\tbest: 0.1719992 (0)\ttotal: 70us\tremaining: 351ms\n",
      "Stopped by overfitting detector  (500 iterations wait)\n",
      "\n",
      "bestTest = 0.0880096839\n",
      "bestIteration = 91\n",
      "\n",
      "Shrink model to first 92 iterations.\n",
      "0:\tlearn: 0.2839989\ttest: 0.2839989\ttest1: 0.2619991\tbest: 0.2619991 (0)\ttotal: 102us\tremaining: 512ms\n",
      "Stopped by overfitting detector  (500 iterations wait)\n",
      "\n",
      "bestTest = 0.2144369068\n",
      "bestIteration = 24\n",
      "\n",
      "Shrink model to first 25 iterations.\n",
      "0:\tlearn: 0.2822847\ttest: 0.2822847\ttest1: 0.2519985\tbest: 0.2519985 (0)\ttotal: 87us\tremaining: 436ms\n",
      "Stopped by overfitting detector  (500 iterations wait)\n",
      "\n",
      "bestTest = 0.2002413177\n",
      "bestIteration = 217\n",
      "\n",
      "Shrink model to first 218 iterations.\n",
      "0:\tlearn: 0.2862847\ttest: 0.2862847\ttest1: 0.1259993\tbest: 0.1259993 (0)\ttotal: 169us\tremaining: 847ms\n",
      "Stopped by overfitting detector  (500 iterations wait)\n",
      "\n",
      "bestTest = 0.03078917799\n",
      "bestIteration = 40\n",
      "\n",
      "Shrink model to first 41 iterations.\n",
      "0:\tlearn: 0.2802846\ttest: 0.2802846\ttest1: 0.2719992\tbest: 0.2719992 (0)\ttotal: 101us\tremaining: 506ms\n",
      "Stopped by overfitting detector  (500 iterations wait)\n",
      "\n",
      "bestTest = 0.223666609\n",
      "bestIteration = 14\n",
      "\n",
      "Shrink model to first 15 iterations.\n",
      "0:\tlearn: 0.2739990\ttest: 0.2739990\ttest1: 0.3799981\tbest: 0.3799981 (0)\ttotal: 85us\tremaining: 428ms\n",
      "Stopped by overfitting detector  (500 iterations wait)\n",
      "\n",
      "bestTest = 0.145266814\n",
      "bestIteration = 70\n",
      "\n",
      "Shrink model to first 71 iterations.\n",
      "0:\tlearn: 0.2759990\ttest: 0.2759990\ttest1: 0.3399984\tbest: 0.3399984 (0)\ttotal: 79us\tremaining: 398ms\n",
      "1000:\tlearn: 0.1122541\ttest: 0.1122541\ttest1: 0.2786933\tbest: 0.2566232 (580)\ttotal: 97.3ms\tremaining: 389ms\n",
      "Stopped by overfitting detector  (500 iterations wait)\n",
      "\n",
      "bestTest = 0.256623216\n",
      "bestIteration = 580\n",
      "\n",
      "Shrink model to first 581 iterations.\n",
      "0:\tlearn: 0.2748562\ttest: 0.2748562\ttest1: 0.2399989\tbest: 0.2399989 (0)\ttotal: 207us\tremaining: 1.03s\n",
      "Stopped by overfitting detector  (500 iterations wait)\n",
      "\n",
      "bestTest = 0.09630580426\n",
      "bestIteration = 18\n",
      "\n",
      "Shrink model to first 19 iterations.\n",
      "0:\tlearn: 0.2821418\ttest: 0.2821418\ttest1: 0.2299989\tbest: 0.2299989 (0)\ttotal: 217us\tremaining: 1.09s\n",
      "Stopped by overfitting detector  (500 iterations wait)\n",
      "\n",
      "bestTest = 0.1119116995\n",
      "bestIteration = 352\n",
      "\n",
      "Shrink model to first 353 iterations.\n",
      "0:\tlearn: 0.2865703\ttest: 0.2865703\ttest1: 0.2019985\tbest: 0.2019985 (0)\ttotal: 114us\tremaining: 574ms\n",
      "Stopped by overfitting detector  (500 iterations wait)\n",
      "\n",
      "bestTest = 0.1857984687\n",
      "bestIteration = 1\n",
      "\n",
      "Shrink model to first 2 iterations.\n",
      "0:\tlearn: 0.2774275\ttest: 0.2774275\ttest1: 0.3119984\tbest: 0.3119984 (0)\ttotal: 121us\tremaining: 606ms\n",
      "Stopped by overfitting detector  (500 iterations wait)\n",
      "\n",
      "bestTest = 0.2785022088\n",
      "bestIteration = 4\n",
      "\n",
      "Shrink model to first 5 iterations.\n",
      "0:\tlearn: 0.2621418\ttest: 0.2621418\ttest1: 0.5279993\tbest: 0.5279993 (0)\ttotal: 223us\tremaining: 1.12s\n",
      "Stopped by overfitting detector  (500 iterations wait)\n",
      "\n",
      "bestTest = 0.3469806148\n",
      "bestIteration = 148\n",
      "\n",
      "Shrink model to first 149 iterations.\n",
      "0:\tlearn: 0.2745704\ttest: 0.2745704\ttest1: 0.4059985\tbest: 0.4059985 (0)\ttotal: 76us\tremaining: 382ms\n",
      "Stopped by overfitting detector  (500 iterations wait)\n",
      "\n",
      "bestTest = 0.2137442448\n",
      "bestIteration = 194\n",
      "\n",
      "Shrink model to first 195 iterations.\n",
      "15 FOLD 평균 MAE = 0.18865322623905492\n"
     ]
    }
   ],
   "source": [
    "cb_pred1 = np.zeros((target1.shape[0]))\n",
    "vm_list = []\n",
    "for i, idx in enumerate(zip(kf.split(X1, y1))) :\n",
    "\n",
    "    tr_x, tr_y = X1.iloc[idx[0][0]], y1.iloc[idx[0][0]]\n",
    "    val_x, val_y = X1.iloc[idx[0][1]], y1.iloc[idx[0][1]]\n",
    "    \n",
    "    cb = CatBoostRegressor(iterations = 5000, learning_rate = 0.1, max_depth = 3, loss_function = 'MAE')\n",
    "    \n",
    "    cb.fit(tr_x, tr_y, eval_set = [(tr_x, tr_y), (val_x, val_y)], early_stopping_rounds = 500, verbose = 1000)\n",
    "    \n",
    "    ### validation\n",
    "    val_pred = cb.predict(val_x)\n",
    "    val_mae = mean_absolute_error(val_y, val_pred)\n",
    "    vm_list.append(val_mae)\n",
    "\n",
    "    ### prediction\n",
    "    fold_pred = cb.predict(target1) / 15\n",
    "    cb_pred1 += fold_pred\n",
    "\n",
    "print(f'15 FOLD 평균 MAE = {np.mean(vm_list)}')"
   ]
  },
  {
   "cell_type": "code",
   "execution_count": 23,
   "id": "557326d5",
   "metadata": {
    "scrolled": true
   },
   "outputs": [
    {
     "name": "stdout",
     "output_type": "stream",
     "text": [
      "0:\tlearn: 0.4625704\ttest: 0.4625704\ttest1: 0.7239986\tbest: 0.7239986 (0)\ttotal: 365us\tremaining: 1.83s\n",
      "Stopped by overfitting detector  (500 iterations wait)\n",
      "\n",
      "bestTest = 0.07832421311\n",
      "bestIteration = 23\n",
      "\n",
      "Shrink model to first 24 iterations.\n",
      "0:\tlearn: 0.4634277\ttest: 0.4634277\ttest1: 0.6199996\tbest: 0.6199996 (0)\ttotal: 82us\tremaining: 414ms\n",
      "Stopped by overfitting detector  (500 iterations wait)\n",
      "\n",
      "bestTest = 0.1945763624\n",
      "bestIteration = 28\n",
      "\n",
      "Shrink model to first 29 iterations.\n",
      "0:\tlearn: 0.4737134\ttest: 0.4737134\ttest1: 0.3599992\tbest: 0.3599992 (0)\ttotal: 79us\tremaining: 398ms\n",
      "Stopped by overfitting detector  (500 iterations wait)\n",
      "\n",
      "bestTest = 0.04103778319\n",
      "bestIteration = 208\n",
      "\n",
      "Shrink model to first 209 iterations.\n",
      "0:\tlearn: 0.4808564\ttest: 0.4808564\ttest1: 0.2600000\tbest: 0.2600000 (0)\ttotal: 81us\tremaining: 407ms\n",
      "Stopped by overfitting detector  (500 iterations wait)\n",
      "\n",
      "bestTest = 0.1408439539\n",
      "bestIteration = 60\n",
      "\n",
      "Shrink model to first 61 iterations.\n",
      "0:\tlearn: 0.4911419\ttest: 0.4911419\ttest1: 0.2839996\tbest: 0.2839996 (0)\ttotal: 92us\tremaining: 460ms\n",
      "Stopped by overfitting detector  (500 iterations wait)\n",
      "\n",
      "bestTest = 0.1281369432\n",
      "bestIteration = 17\n",
      "\n",
      "Shrink model to first 18 iterations.\n",
      "0:\tlearn: 0.4797132\ttest: 0.4797132\ttest1: 0.3919987\tbest: 0.3919987 (0)\ttotal: 71us\tremaining: 355ms\n",
      "Stopped by overfitting detector  (500 iterations wait)\n",
      "\n",
      "bestTest = 0.1479311932\n",
      "bestIteration = 67\n",
      "\n",
      "Shrink model to first 68 iterations.\n",
      "0:\tlearn: 0.4817132\ttest: 0.4817132\ttest1: 0.3519987\tbest: 0.3519987 (0)\ttotal: 243us\tremaining: 1.22s\n",
      "Stopped by overfitting detector  (500 iterations wait)\n",
      "\n",
      "bestTest = 0.2107499206\n",
      "bestIteration = 7\n",
      "\n",
      "Shrink model to first 8 iterations.\n",
      "0:\tlearn: 0.4519992\ttest: 0.4519992\ttest1: 0.7679993\tbest: 0.7679993 (0)\ttotal: 862us\tremaining: 4.31s\n",
      "Stopped by overfitting detector  (500 iterations wait)\n",
      "\n",
      "bestTest = 0.1095464043\n",
      "bestIteration = 28\n",
      "\n",
      "Shrink model to first 29 iterations.\n",
      "0:\tlearn: 0.4731420\ttest: 0.4731420\ttest1: 0.3799992\tbest: 0.3799992 (0)\ttotal: 181us\tremaining: 909ms\n",
      "Stopped by overfitting detector  (500 iterations wait)\n",
      "\n",
      "bestTest = 0.137805908\n",
      "bestIteration = 16\n",
      "\n",
      "Shrink model to first 17 iterations.\n",
      "0:\tlearn: 0.4814276\ttest: 0.4814276\ttest1: 0.3679989\tbest: 0.3679989 (0)\ttotal: 285us\tremaining: 1.43s\n",
      "Stopped by overfitting detector  (500 iterations wait)\n",
      "\n",
      "bestTest = 0.0810609422\n",
      "bestIteration = 15\n",
      "\n",
      "Shrink model to first 16 iterations.\n",
      "0:\tlearn: 0.4742850\ttest: 0.4742850\ttest1: 0.3599996\tbest: 0.3599996 (0)\ttotal: 95us\tremaining: 477ms\n",
      "Stopped by overfitting detector  (500 iterations wait)\n",
      "\n",
      "bestTest = 0.1277763439\n",
      "bestIteration = 18\n",
      "\n",
      "Shrink model to first 19 iterations.\n",
      "0:\tlearn: 0.4617132\ttest: 0.4617132\ttest1: 0.7479990\tbest: 0.7479990 (0)\ttotal: 77us\tremaining: 387ms\n",
      "1000:\tlearn: 0.0668192\ttest: 0.0668192\ttest1: 0.1502650\tbest: 0.1496784 (830)\ttotal: 92.9ms\tremaining: 371ms\n",
      "Stopped by overfitting detector  (500 iterations wait)\n",
      "\n",
      "bestTest = 0.149678361\n",
      "bestIteration = 830\n",
      "\n",
      "Shrink model to first 831 iterations.\n",
      "0:\tlearn: 0.4579993\ttest: 0.4579993\ttest1: 0.5799996\tbest: 0.5799996 (0)\ttotal: 247us\tremaining: 1.24s\n",
      "Stopped by overfitting detector  (500 iterations wait)\n",
      "\n",
      "bestTest = 0.1478708795\n",
      "bestIteration = 30\n",
      "\n",
      "Shrink model to first 31 iterations.\n",
      "0:\tlearn: 0.4765704\ttest: 0.4765704\ttest1: 0.5399989\tbest: 0.5399989 (0)\ttotal: 226us\tremaining: 1.13s\n",
      "1000:\tlearn: 0.0510710\ttest: 0.0510710\ttest1: 0.1318927\tbest: 0.1239317 (531)\ttotal: 96.9ms\tremaining: 387ms\n",
      "Stopped by overfitting detector  (500 iterations wait)\n",
      "\n",
      "bestTest = 0.1239316805\n",
      "bestIteration = 531\n",
      "\n",
      "Shrink model to first 532 iterations.\n",
      "0:\tlearn: 0.4771419\ttest: 0.4771419\ttest1: 0.3839997\tbest: 0.3839997 (0)\ttotal: 104us\tremaining: 525ms\n",
      "1000:\tlearn: 0.0549913\ttest: 0.0549913\ttest1: 0.1300916\tbest: 0.1171471 (537)\ttotal: 97ms\tremaining: 388ms\n",
      "Stopped by overfitting detector  (500 iterations wait)\n",
      "\n",
      "bestTest = 0.1171471244\n",
      "bestIteration = 537\n",
      "\n",
      "Shrink model to first 538 iterations.\n",
      "5 FOLD 평균 MAE = 0.12909553230689566\n"
     ]
    }
   ],
   "source": [
    "cb_pred2 = np.zeros((target2.shape[0]))\n",
    "vm_list = []\n",
    "for i, idx in enumerate(zip(kf.split(X2, y2))) :\n",
    "\n",
    "    tr_x, tr_y = X2.iloc[idx[0][0]], y2.iloc[idx[0][0]]\n",
    "    val_x, val_y = X2.iloc[idx[0][1]], y2.iloc[idx[0][1]]\n",
    "    \n",
    "    ### fitting\n",
    "    cb = CatBoostRegressor(iterations = 5000, learning_rate = 0.2, max_depth = 3, loss_function = 'MAE')\n",
    "    cb.fit(tr_x, tr_y, eval_set = [(tr_x, tr_y), (val_x, val_y)], early_stopping_rounds = 500, verbose = 1000)\n",
    "    \n",
    "    ### validation\n",
    "    val_pred = cb.predict(val_x)\n",
    "    val_mae = mean_absolute_error(val_y, val_pred)\n",
    "    vm_list.append(val_mae)\n",
    "\n",
    "    ### prediction\n",
    "    fold_pred = cb.predict(target2) / 15\n",
    "    cb_pred2 += fold_pred\n",
    "\n",
    "print(f'5 FOLD 평균 MAE = {np.mean(vm_list)}')"
   ]
  },
  {
   "cell_type": "markdown",
   "id": "b4249c32",
   "metadata": {},
   "source": [
    "***\n",
    "### DNN\n",
    "\n",
    "- KFold를 통한 앙상블\n",
    "- 각 Fold별 best 모델 저장 및 test 예측 데이터에 load 후 사용\n",
    "- callbacks 활용"
   ]
  },
  {
   "cell_type": "code",
   "execution_count": null,
   "id": "2eaf5396",
   "metadata": {},
   "outputs": [],
   "source": [
    "train = pd.read_csv(\"iris_train.csv\")\n",
    "test = pd.read_csv(\"iris_test.csv\")"
   ]
  },
  {
   "cell_type": "code",
   "execution_count": null,
   "id": "92117ea2",
   "metadata": {},
   "outputs": [],
   "source": [
    "train = pd.get_dummies(train)\n",
    "test = pd.get_dummies(test)"
   ]
  },
  {
   "cell_type": "code",
   "execution_count": null,
   "id": "23fa96e8",
   "metadata": {},
   "outputs": [],
   "source": [
    "X = train.drop(['id', 'sepal width (cm)', 'petal width (cm)'], axis = 1)\n",
    "y1 = train['sepal width (cm)']\n",
    "y2 = train['petal width (cm)']\n",
    "\n",
    "target = test[X.columns]"
   ]
  },
  {
   "cell_type": "code",
   "execution_count": null,
   "id": "3ec8c884",
   "metadata": {},
   "outputs": [],
   "source": [
    "X = pd.DataFrame(scaler.fit_transform(X), columns = X.columns)\n",
    "target = pd.DataFrame(scaler.transform(target), columns = X.columns)"
   ]
  },
  {
   "cell_type": "code",
   "execution_count": null,
   "id": "331230a4",
   "metadata": {},
   "outputs": [],
   "source": [
    "from tensorflow.keras.models import Sequential, load_model\n",
    "from tensorflow.keras.layers import Dense, Dropout\n",
    "from tensorflow.keras.optimizers import Adam\n",
    "from tensorflow.keras.callbacks import EarlyStopping, ModelCheckpoint"
   ]
  },
  {
   "cell_type": "code",
   "execution_count": null,
   "id": "7deabe25",
   "metadata": {},
   "outputs": [],
   "source": [
    "dnn_pred1 = np.zeros((target.shape[0]))"
   ]
  },
  {
   "cell_type": "code",
   "execution_count": null,
   "id": "a8474302",
   "metadata": {},
   "outputs": [],
   "source": [
    "for tr_idx, val_idx in kf.split(X, y1) :\n",
    "    tr_x, tr_y = X.iloc[tr_idx], y1.iloc[tr_idx]\n",
    "    val_x, val_y = X.iloc[val_idx], y1.iloc[val_idx]\n",
    "\n",
    "    model = Sequential()\n",
    "    model.add(Dense(512, activation = 'swish'))\n",
    "    model.add(Dense(256, activation = 'swish'))\n",
    "    model.add(Dropout(.2))\n",
    "    model.add(Dense(128, activation = 'swish'))\n",
    "    model.add(Dense(64, activation = 'swish'))\n",
    "    model.add(Dropout(.2))\n",
    "    model.add(Dense(8, activation = 'swish'))\n",
    "    model.add(Dense(1, activation = 'linear'))\n",
    "\n",
    "    model.compile(optimizer = Adam(learning_rate = .0003), loss = 'mse')\n",
    "\n",
    "    es = EarlyStopping(monitor = 'val_loss', mode = 'min', patience = 300, verbose = 100)\n",
    "    mc = ModelCheckpoint('best_dnn.h5', mode = 'min', monitor = 'val_loss', save_best_only = True, verbose = 100)\n",
    "\n",
    "    history = model.fit(tr_x, tr_y, epochs = 25000, verbose = 100, batch_size = 16, callbacks = [es, mc], validation_data = (val_x, val_y))\n",
    "    best_model = load_model('best_dnn.h5')\n",
    "\n",
    "    fold_pred = best_model.predict(target) / 15\n",
    "\n",
    "    dnn_pred1 += [p[0] for p in fold_pred]"
   ]
  },
  {
   "cell_type": "code",
   "execution_count": null,
   "id": "c421e22b",
   "metadata": {},
   "outputs": [],
   "source": [
    "dnn_pred2 = np.zeros((target.shape[0]))"
   ]
  },
  {
   "cell_type": "code",
   "execution_count": null,
   "id": "284fcd29",
   "metadata": {},
   "outputs": [],
   "source": [
    "for tr_idx, val_idx in kf.split(X, y2) :\n",
    "    tr_x, tr_y = X.iloc[tr_idx], y2.iloc[tr_idx]\n",
    "    val_x, val_y = X.iloc[val_idx], y2.iloc[val_idx]\n",
    "\n",
    "    model = Sequential()\n",
    "    model.add(Dense(512, activation = 'swish'))\n",
    "    model.add(Dense(256, activation = 'swish'))\n",
    "    model.add(Dropout(.2))\n",
    "    model.add(Dense(128, activation = 'swish'))\n",
    "    model.add(Dense(64, activation = 'swish'))\n",
    "    model.add(Dropout(.2))\n",
    "    model.add(Dense(8, activation = 'swish'))\n",
    "    model.add(Dense(1, activation = 'linear'))\n",
    "\n",
    "    model.compile(optimizer = Adam(learning_rate = .0003), loss = 'mse')\n",
    "\n",
    "    es = EarlyStopping(monitor = 'val_loss', mode = 'min', patience = 300, verbose = 100)\n",
    "    mc = ModelCheckpoint('best_dnn.h5', mode = 'min', monitor = 'val_loss', save_best_only = True, verbose = 100)\n",
    "\n",
    "    history = model.fit(tr_x, tr_y, epochs = 25000, verbose = 100, batch_size = 16, callbacks = [es, mc], validation_data = (val_x, val_y))\n",
    "    best_model = load_model('best_dnn.h5')\n",
    "\n",
    "    fold_pred = best_model.predict(target) / 15\n",
    "\n",
    "    dnn_pred2 += [p[0] for p in fold_pred]"
   ]
  },
  {
   "cell_type": "markdown",
   "id": "e0cba227",
   "metadata": {},
   "source": [
    "***\n",
    "### Ensemble"
   ]
  },
  {
   "cell_type": "code",
   "execution_count": 15,
   "id": "8f9b6690",
   "metadata": {},
   "outputs": [],
   "source": [
    "ml_pred1 (etr_pred1 + lr_pred1 + svr_pred1 + cb_pred1) / 4\n",
    "ml_pred2 = (etr_pred2 + lr_pred2 + svr_pred2 + cb_pred2) / 4"
   ]
  },
  {
   "cell_type": "code",
   "execution_count": 24,
   "id": "7d878b3c",
   "metadata": {},
   "outputs": [],
   "source": [
    "submission = pd.read_csv('sample_submission.csv')"
   ]
  },
  {
   "cell_type": "code",
   "execution_count": null,
   "id": "38f969c3",
   "metadata": {},
   "outputs": [],
   "source": [
    "submission['sepal width (cm)'] = (ml_pred1 + dnn_pred1) / 2\n",
    "submission['petal width (cm)'] = (ml_pred2 + dnn_pred2) / 2"
   ]
  },
  {
   "cell_type": "code",
   "execution_count": null,
   "id": "6a9fb7f0",
   "metadata": {},
   "outputs": [],
   "source": [
    "submission.to_csv(\"dnn_ensemble.csv\", index = False)"
   ]
  }
 ],
 "metadata": {
  "kernelspec": {
   "display_name": "Python 3",
   "language": "python",
   "name": "python3"
  },
  "language_info": {
   "codemirror_mode": {
    "name": "ipython",
    "version": 3
   },
   "file_extension": ".py",
   "mimetype": "text/x-python",
   "name": "python",
   "nbconvert_exporter": "python",
   "pygments_lexer": "ipython3",
   "version": "3.8.8"
  }
 },
 "nbformat": 4,
 "nbformat_minor": 5
}
