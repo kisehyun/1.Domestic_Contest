{
 "cells": [
  {
   "cell_type": "code",
   "execution_count": 90,
   "id": "780d1fe3",
   "metadata": {},
   "outputs": [],
   "source": [
    "import pandas as pd\n",
    "import numpy as np\n",
    "import warnings\n",
    "warnings.filterwarnings('ignore')\n",
    "\n",
    "from sklearn.ensemble import *\n",
    "from sklearn.linear_model import Ridge, Lasso, LinearRegression, ElasticNet\n",
    "from sklearn.tree import DecisionTreeRegressor\n",
    "from sklearn.svm import LinearSVR, SVR\n",
    "\n",
    "from sklearn.model_selection import cross_val_score, KFold, StratifiedKFold, LeaveOneOut\n",
    "from sklearn.metrics import mean_squared_error, mean_absolute_error\n",
    "from sklearn.preprocessing import LabelEncoder, MinMaxScaler, StandardScaler"
   ]
  },
  {
   "cell_type": "code",
   "execution_count": 2,
   "id": "b3f23ab2",
   "metadata": {
    "scrolled": true
   },
   "outputs": [],
   "source": [
    "from bayes_opt import BayesianOptimization\n",
    "from functools import partial   "
   ]
  },
  {
   "cell_type": "code",
   "execution_count": 14,
   "id": "5b634854",
   "metadata": {},
   "outputs": [],
   "source": [
    "lo = LeaveOneOut()\n",
    "kf = KFold(n_splits = 15)"
   ]
  },
  {
   "cell_type": "code",
   "execution_count": 4,
   "id": "5d884209",
   "metadata": {},
   "outputs": [],
   "source": [
    "train = pd.read_csv(\"iris_train.csv\")\n",
    "test = pd.read_csv(\"iris_test.csv\")"
   ]
  },
  {
   "cell_type": "code",
   "execution_count": 5,
   "id": "c7c4eadc",
   "metadata": {
    "scrolled": true
   },
   "outputs": [
    {
     "data": {
      "text/html": [
       "<div>\n",
       "<style scoped>\n",
       "    .dataframe tbody tr th:only-of-type {\n",
       "        vertical-align: middle;\n",
       "    }\n",
       "\n",
       "    .dataframe tbody tr th {\n",
       "        vertical-align: top;\n",
       "    }\n",
       "\n",
       "    .dataframe thead th {\n",
       "        text-align: right;\n",
       "    }\n",
       "</style>\n",
       "<table border=\"1\" class=\"dataframe\">\n",
       "  <thead>\n",
       "    <tr style=\"text-align: right;\">\n",
       "      <th></th>\n",
       "      <th>id</th>\n",
       "      <th>species</th>\n",
       "      <th>sepal length (cm)</th>\n",
       "      <th>petal length (cm)</th>\n",
       "      <th>sepal width (cm)</th>\n",
       "      <th>petal width (cm)</th>\n",
       "    </tr>\n",
       "  </thead>\n",
       "  <tbody>\n",
       "    <tr>\n",
       "      <th>0</th>\n",
       "      <td>0</td>\n",
       "      <td>setosa</td>\n",
       "      <td>4.4</td>\n",
       "      <td>1.4</td>\n",
       "      <td>2.9</td>\n",
       "      <td>0.2</td>\n",
       "    </tr>\n",
       "    <tr>\n",
       "      <th>1</th>\n",
       "      <td>1</td>\n",
       "      <td>versicolor</td>\n",
       "      <td>6.4</td>\n",
       "      <td>4.5</td>\n",
       "      <td>3.2</td>\n",
       "      <td>1.5</td>\n",
       "    </tr>\n",
       "    <tr>\n",
       "      <th>2</th>\n",
       "      <td>2</td>\n",
       "      <td>virginica</td>\n",
       "      <td>6.2</td>\n",
       "      <td>4.8</td>\n",
       "      <td>2.8</td>\n",
       "      <td>1.8</td>\n",
       "    </tr>\n",
       "    <tr>\n",
       "      <th>3</th>\n",
       "      <td>3</td>\n",
       "      <td>virginica</td>\n",
       "      <td>7.2</td>\n",
       "      <td>6.1</td>\n",
       "      <td>3.6</td>\n",
       "      <td>2.5</td>\n",
       "    </tr>\n",
       "    <tr>\n",
       "      <th>4</th>\n",
       "      <td>4</td>\n",
       "      <td>setosa</td>\n",
       "      <td>4.9</td>\n",
       "      <td>1.4</td>\n",
       "      <td>3.0</td>\n",
       "      <td>0.2</td>\n",
       "    </tr>\n",
       "  </tbody>\n",
       "</table>\n",
       "</div>"
      ],
      "text/plain": [
       "   id     species  sepal length (cm)  petal length (cm)  sepal width (cm)  \\\n",
       "0   0      setosa                4.4                1.4               2.9   \n",
       "1   1  versicolor                6.4                4.5               3.2   \n",
       "2   2   virginica                6.2                4.8               2.8   \n",
       "3   3   virginica                7.2                6.1               3.6   \n",
       "4   4      setosa                4.9                1.4               3.0   \n",
       "\n",
       "   petal width (cm)  \n",
       "0               0.2  \n",
       "1               1.5  \n",
       "2               1.8  \n",
       "3               2.5  \n",
       "4               0.2  "
      ]
     },
     "execution_count": 5,
     "metadata": {},
     "output_type": "execute_result"
    }
   ],
   "source": [
    "train.head()"
   ]
  },
  {
   "cell_type": "code",
   "execution_count": 6,
   "id": "fa163fd9",
   "metadata": {
    "scrolled": true
   },
   "outputs": [
    {
     "data": {
      "text/html": [
       "<div>\n",
       "<style scoped>\n",
       "    .dataframe tbody tr th:only-of-type {\n",
       "        vertical-align: middle;\n",
       "    }\n",
       "\n",
       "    .dataframe tbody tr th {\n",
       "        vertical-align: top;\n",
       "    }\n",
       "\n",
       "    .dataframe thead th {\n",
       "        text-align: right;\n",
       "    }\n",
       "</style>\n",
       "<table border=\"1\" class=\"dataframe\">\n",
       "  <thead>\n",
       "    <tr style=\"text-align: right;\">\n",
       "      <th></th>\n",
       "      <th>id</th>\n",
       "      <th>species</th>\n",
       "      <th>sepal length (cm)</th>\n",
       "      <th>petal length (cm)</th>\n",
       "    </tr>\n",
       "  </thead>\n",
       "  <tbody>\n",
       "    <tr>\n",
       "      <th>0</th>\n",
       "      <td>0</td>\n",
       "      <td>setosa</td>\n",
       "      <td>5.4</td>\n",
       "      <td>1.7</td>\n",
       "    </tr>\n",
       "    <tr>\n",
       "      <th>1</th>\n",
       "      <td>1</td>\n",
       "      <td>setosa</td>\n",
       "      <td>5.7</td>\n",
       "      <td>1.5</td>\n",
       "    </tr>\n",
       "    <tr>\n",
       "      <th>2</th>\n",
       "      <td>2</td>\n",
       "      <td>setosa</td>\n",
       "      <td>5.3</td>\n",
       "      <td>1.5</td>\n",
       "    </tr>\n",
       "    <tr>\n",
       "      <th>3</th>\n",
       "      <td>3</td>\n",
       "      <td>setosa</td>\n",
       "      <td>5.1</td>\n",
       "      <td>1.9</td>\n",
       "    </tr>\n",
       "    <tr>\n",
       "      <th>4</th>\n",
       "      <td>4</td>\n",
       "      <td>virginica</td>\n",
       "      <td>6.0</td>\n",
       "      <td>4.8</td>\n",
       "    </tr>\n",
       "  </tbody>\n",
       "</table>\n",
       "</div>"
      ],
      "text/plain": [
       "   id    species  sepal length (cm)  petal length (cm)\n",
       "0   0     setosa                5.4                1.7\n",
       "1   1     setosa                5.7                1.5\n",
       "2   2     setosa                5.3                1.5\n",
       "3   3     setosa                5.1                1.9\n",
       "4   4  virginica                6.0                4.8"
      ]
     },
     "execution_count": 6,
     "metadata": {},
     "output_type": "execute_result"
    }
   ],
   "source": [
    "test.head()"
   ]
  },
  {
   "cell_type": "code",
   "execution_count": 7,
   "id": "2eb6a5b9",
   "metadata": {},
   "outputs": [],
   "source": [
    "train = pd.get_dummies(columns = ['species'], data = train)\n",
    "test = pd.get_dummies(columns = ['species'], data = test)"
   ]
  },
  {
   "cell_type": "code",
   "execution_count": 9,
   "id": "9b081df4",
   "metadata": {},
   "outputs": [],
   "source": [
    "X = train.drop(['id', 'sepal width (cm)', 'petal width (cm)'], axis = 1)\n",
    "y1 = train['sepal width (cm)']\n",
    "y2 = train['petal width (cm)']"
   ]
  },
  {
   "cell_type": "code",
   "execution_count": 10,
   "id": "69d964e3",
   "metadata": {},
   "outputs": [],
   "source": [
    "target = test[X.columns]"
   ]
  },
  {
   "cell_type": "markdown",
   "id": "04856c58",
   "metadata": {},
   "source": [
    "***\n",
    "### Linear Regression"
   ]
  },
  {
   "cell_type": "code",
   "execution_count": 52,
   "id": "a590161d",
   "metadata": {},
   "outputs": [
    {
     "name": "stdout",
     "output_type": "stream",
     "text": [
      "75 FOLD 평균 MAE = 0.23209368457852253\n"
     ]
    }
   ],
   "source": [
    "lr_pred1 = np.zeros((target.shape[0]))\n",
    "vm_list = []\n",
    "for i, idx in enumerate(zip(kf.split(X, y1))) :\n",
    "    tr_x, tr_y = X.iloc[idx[0][0]], y1.iloc[idx[0][0]]\n",
    "    val_x, val_y = X.iloc[idx[0][1]], y1.iloc[idx[0][1]]\n",
    "    \n",
    "    lr = LinearRegression(normalize = True)\n",
    "    \n",
    "    lr.fit(tr_x, tr_y)\n",
    "    \n",
    "    ### validation\n",
    "    val_pred = lr.predict(val_x)\n",
    "    val_mae = mean_absolute_error(val_y, val_pred)\n",
    "    vm_list.append(val_mae)\n",
    "    \n",
    "    ### prediction\n",
    "    fold_pred = lr.predict(target) / 15\n",
    "    lr_pred1 += fold_pred\n",
    "\n",
    "\n",
    "print(f'75 FOLD 평균 MAE = {np.mean(vm_list)}')"
   ]
  },
  {
   "cell_type": "code",
   "execution_count": 53,
   "id": "4defc4f6",
   "metadata": {},
   "outputs": [
    {
     "name": "stdout",
     "output_type": "stream",
     "text": [
      "75 FOLD 평균 MAE = 0.1425669806932523\n"
     ]
    }
   ],
   "source": [
    "lr_pred2 = np.zeros((target.shape[0]))\n",
    "vm_list = []\n",
    "for i, idx in enumerate(zip(kf.split(X, y2))) :\n",
    "    tr_x, tr_y = X.iloc[idx[0][0]], y2.iloc[idx[0][0]]\n",
    "    val_x, val_y = X.iloc[idx[0][1]], y2.iloc[idx[0][1]]\n",
    "    \n",
    "    lr = LinearRegression()\n",
    "    \n",
    "    lr.fit(tr_x, tr_y)\n",
    "    \n",
    "    ### validation\n",
    "    val_pred = lr.predict(val_x)\n",
    "    val_mae = mean_absolute_error(val_y, val_pred)\n",
    "    vm_list.append(val_mae)\n",
    "    \n",
    "    ### prediction\n",
    "    fold_pred = lr.predict(target) / 15\n",
    "    lr_pred2 += fold_pred\n",
    "\n",
    "\n",
    "print(f'75 FOLD 평균 MAE = {np.mean(vm_list)}')"
   ]
  },
  {
   "cell_type": "markdown",
   "id": "f4805bbd",
   "metadata": {},
   "source": [
    "***\n",
    "### SVR"
   ]
  },
  {
   "cell_type": "code",
   "execution_count": 54,
   "id": "39fb3e3b",
   "metadata": {},
   "outputs": [
    {
     "name": "stdout",
     "output_type": "stream",
     "text": [
      "75 FOLD 평균 MAE = 0.2216389487498238\n"
     ]
    }
   ],
   "source": [
    "svr_pred1 = np.zeros((target.shape[0]))\n",
    "vm_list = []\n",
    "for i, idx in enumerate(zip(kf.split(X, y1))) :\n",
    "    tr_x, tr_y = X.iloc[idx[0][0]], y1.iloc[idx[0][0]]\n",
    "    val_x, val_y = X.iloc[idx[0][1]], y1.iloc[idx[0][1]]\n",
    "    \n",
    "    svr = SVR(C = 5)\n",
    "    \n",
    "    svr.fit(tr_x, tr_y)\n",
    "    \n",
    "    ### validation\n",
    "    val_pred = svr.predict(val_x)\n",
    "    val_mae = mean_absolute_error(val_y, val_pred)\n",
    "    vm_list.append(val_mae)\n",
    "    \n",
    "    ### prediction\n",
    "    fold_pred = svr.predict(target) / 15\n",
    "    svr_pred1 += fold_pred\n",
    "\n",
    "\n",
    "print(f'75 FOLD 평균 MAE = {np.mean(vm_list)}')"
   ]
  },
  {
   "cell_type": "code",
   "execution_count": 55,
   "id": "ba8d74e3",
   "metadata": {},
   "outputs": [
    {
     "name": "stdout",
     "output_type": "stream",
     "text": [
      "75 FOLD 평균 MAE = 0.1309022081353984\n"
     ]
    }
   ],
   "source": [
    "svr_pred2 = np.zeros((target.shape[0]))\n",
    "vm_list = []\n",
    "for i, idx in enumerate(zip(kf.split(X, y2))) :\n",
    "    tr_x, tr_y = X.iloc[idx[0][0]], y2.iloc[idx[0][0]]\n",
    "    val_x, val_y = X.iloc[idx[0][1]], y2.iloc[idx[0][1]]\n",
    "    \n",
    "    svr = SVR(C = 5)\n",
    "    \n",
    "    svr.fit(tr_x, tr_y)\n",
    "    \n",
    "    ### validation\n",
    "    val_pred = svr.predict(val_x)\n",
    "    val_mae = mean_absolute_error(val_y, val_pred)\n",
    "    vm_list.append(val_mae)\n",
    "    \n",
    "    ### prediction\n",
    "    fold_pred = svr.predict(target) / 15\n",
    "    svr_pred2 += fold_pred\n",
    "\n",
    "\n",
    "print(f'75 FOLD 평균 MAE = {np.mean(vm_list)}')"
   ]
  },
  {
   "cell_type": "markdown",
   "id": "e263a091",
   "metadata": {},
   "source": [
    "***\n",
    "### RandomForestRegressor"
   ]
  },
  {
   "cell_type": "code",
   "execution_count": 67,
   "id": "22d05dc8",
   "metadata": {
    "scrolled": true
   },
   "outputs": [
    {
     "name": "stdout",
     "output_type": "stream",
     "text": [
      "75 FOLD 평균 MAE = 0.23360380952380935\n"
     ]
    }
   ],
   "source": [
    "rf_pred1 = np.zeros((target.shape[0]))\n",
    "vm_list = []\n",
    "for i, idx in enumerate(zip(kf.split(X, y1))) :\n",
    "    tr_x, tr_y = X.iloc[idx[0][0]], y1.iloc[idx[0][0]]\n",
    "    val_x, val_y = X.iloc[idx[0][1]], y1.iloc[idx[0][1]]\n",
    "    \n",
    "    rf = RandomForestRegressor(random_state = 42, n_estimators = 175, criterion = 'mae', max_depth = 3)\n",
    "    \n",
    "    rf.fit(tr_x, tr_y)\n",
    "    \n",
    "    ### validation\n",
    "    val_pred = rf.predict(val_x)\n",
    "    val_mae = mean_absolute_error(val_y, val_pred)\n",
    "    vm_list.append(val_mae)\n",
    "    \n",
    "    ### prediction\n",
    "    fold_pred = rf.predict(target) / 15\n",
    "    rf_pred1 += fold_pred\n",
    "\n",
    "\n",
    "print(f'75 FOLD 평균 MAE = {np.mean(vm_list)}')"
   ]
  },
  {
   "cell_type": "code",
   "execution_count": 62,
   "id": "e228e040",
   "metadata": {
    "scrolled": true
   },
   "outputs": [
    {
     "name": "stdout",
     "output_type": "stream",
     "text": [
      "75 FOLD 평균 MAE = 0.15476194709143618\n"
     ]
    }
   ],
   "source": [
    "rf_pred2 = np.zeros((target.shape[0]))\n",
    "for i, idx in enumerate(zip(kf.split(X, y2))) :\n",
    "\n",
    "    tr_x, tr_y = X.iloc[idx[0][0]], y2.iloc[idx[0][0]]\n",
    "    val_x, val_y = X.iloc[idx[0][1]], y2.iloc[idx[0][1]]\n",
    "    \n",
    "    rf = RandomForestRegressor(random_state = 42, n_estimators = 175, criterion = 'mae', max_depth = 3)\n",
    "    \n",
    "    rf.fit(tr_x, tr_y)\n",
    "\n",
    "    val_pred = rf.predict(val_x)\n",
    "    val_mae = mean_absolute_error(val_y, val_pred)\n",
    "    vm_list.append(val_mae)\n",
    "    \n",
    "    ### prediction\n",
    "    fold_pred = rf.predict(target) / 15\n",
    "    rf_pred2 += fold_pred\n",
    "\n",
    "\n",
    "print(f'75 FOLD 평균 MAE = {np.mean(vm_list)}')"
   ]
  },
  {
   "cell_type": "markdown",
   "id": "1de14c51",
   "metadata": {},
   "source": [
    "***\n",
    "### DecisionTreeRegressor"
   ]
  },
  {
   "cell_type": "code",
   "execution_count": 76,
   "id": "26521896",
   "metadata": {},
   "outputs": [
    {
     "name": "stdout",
     "output_type": "stream",
     "text": [
      "75 FOLD 평균 MAE = 0.2441732865984806\n"
     ]
    }
   ],
   "source": [
    "dtr_pred1 = np.zeros((target.shape[0]))\n",
    "vm_list = []\n",
    "for i, idx in enumerate(zip(kf.split(X, y1))) :\n",
    "\n",
    "    tr_x, tr_y = X.iloc[idx[0][0]], y1.iloc[idx[0][0]]\n",
    "    val_x, val_y = X.iloc[idx[0][1]], y1.iloc[idx[0][1]]\n",
    "    \n",
    "    dtr = DecisionTreeRegressor(random_state = 42, max_depth = 3)\n",
    "    \n",
    "    dtr.fit(tr_x, tr_y)\n",
    "    \n",
    "    ### validation\n",
    "    val_pred = dtr.predict(val_x)\n",
    "    val_mae = mean_absolute_error(val_y, val_pred)\n",
    "    vm_list.append(val_mae)\n",
    "\n",
    "    \n",
    "    ### prediction\n",
    "    fold_pred = dtr.predict(target) / 15\n",
    "    dtr_pred1 += fold_pred\n",
    "\n",
    "print(f'75 FOLD 평균 MAE = {np.mean(vm_list)}')"
   ]
  },
  {
   "cell_type": "code",
   "execution_count": 77,
   "id": "e25a5399",
   "metadata": {},
   "outputs": [
    {
     "name": "stdout",
     "output_type": "stream",
     "text": [
      "75 FOLD 평균 MAE = 0.15127318519114186\n"
     ]
    }
   ],
   "source": [
    "dtr_pred2 = np.zeros((target.shape[0]))\n",
    "vm_list = []\n",
    "for i, idx in enumerate(zip(kf.split(X, y2))) :\n",
    "\n",
    "    tr_x, tr_y = X.iloc[idx[0][0]], y2.iloc[idx[0][0]]\n",
    "    val_x, val_y = X.iloc[idx[0][1]], y2.iloc[idx[0][1]]\n",
    "    \n",
    "    dtr = DecisionTreeRegressor(random_state = 42, max_depth = 3)\n",
    "    \n",
    "    dtr.fit(tr_x, tr_y)\n",
    "    \n",
    "    ### validation\n",
    "    val_pred = dtr.predict(val_x)\n",
    "    val_mae = mean_absolute_error(val_y, val_pred)\n",
    "    vm_list.append(val_mae)\n",
    "    \n",
    "    ### prediction\n",
    "    fold_pred = dtr.predict(target) / 15\n",
    "    dtr_pred2 += fold_pred\n",
    "\n",
    "print(f'75 FOLD 평균 MAE = {np.mean(vm_list)}')"
   ]
  },
  {
   "cell_type": "markdown",
   "id": "ce9bd416",
   "metadata": {},
   "source": [
    "***\n",
    "### ExtraTreeRegressor"
   ]
  },
  {
   "cell_type": "code",
   "execution_count": 82,
   "id": "a0fdd0c8",
   "metadata": {},
   "outputs": [
    {
     "name": "stdout",
     "output_type": "stream",
     "text": [
      "75 FOLD 평균 MAE = 0.22322380051202093\n"
     ]
    }
   ],
   "source": [
    "etr_pred1 = np.zeros((target.shape[0]))\n",
    "vm_list = []\n",
    "for i, idx in enumerate(zip(kf.split(X, y1))) :\n",
    "\n",
    "    tr_x, tr_y = X.iloc[idx[0][0]], y1.iloc[idx[0][0]]\n",
    "    val_x, val_y = X.iloc[idx[0][1]], y1.iloc[idx[0][1]]\n",
    "    \n",
    "    etr = ExtraTreesRegressor(random_state = 42, n_estimators = 175, max_depth = 3)\n",
    "    \n",
    "    etr.fit(tr_x, tr_y)\n",
    "    \n",
    "    ### validation\n",
    "    val_pred = etr.predict(val_x)\n",
    "    val_mae = mean_absolute_error(val_y, val_pred)\n",
    "    vm_list.append(val_mae)\n",
    "\n",
    "    \n",
    "    ### prediction\n",
    "    fold_pred = etr.predict(target) / 15\n",
    "    etr_pred1 += fold_pred\n",
    "\n",
    "print(f'75 FOLD 평균 MAE = {np.mean(vm_list)}')"
   ]
  },
  {
   "cell_type": "code",
   "execution_count": 83,
   "id": "ac6ba8c1",
   "metadata": {},
   "outputs": [
    {
     "name": "stdout",
     "output_type": "stream",
     "text": [
      "75 FOLD 평균 MAE = 0.15056746211179667\n"
     ]
    }
   ],
   "source": [
    "etr_pred2 = np.zeros((target.shape[0]))\n",
    "vm_list = []\n",
    "for i, idx in enumerate(zip(kf.split(X, y2))) :\n",
    "\n",
    "    tr_x, tr_y = X.iloc[idx[0][0]], y2.iloc[idx[0][0]]\n",
    "    val_x, val_y = X.iloc[idx[0][1]], y2.iloc[idx[0][1]]\n",
    "    \n",
    "    etr = ExtraTreesRegressor(random_state = 42, n_estimators = 175, max_depth = 3)\n",
    "    \n",
    "    etr.fit(tr_x, tr_y)\n",
    "    \n",
    "    ### validation\n",
    "    val_pred = etr.predict(val_x)\n",
    "    val_mae = mean_absolute_error(val_y, val_pred)\n",
    "    vm_list.append(val_mae)\n",
    "\n",
    "    \n",
    "    ### prediction\n",
    "    fold_pred = etr.predict(target) / 15\n",
    "    etr_pred2 += fold_pred\n",
    "\n",
    "print(f'75 FOLD 평균 MAE = {np.mean(vm_list)}')"
   ]
  },
  {
   "cell_type": "markdown",
   "id": "e0cba227",
   "metadata": {},
   "source": [
    "***\n",
    "### Ensemble"
   ]
  },
  {
   "cell_type": "code",
   "execution_count": 23,
   "id": "b2237ed1",
   "metadata": {},
   "outputs": [],
   "source": [
    "submission = pd.read_csv(\"sample_submission.csv\")"
   ]
  },
  {
   "cell_type": "code",
   "execution_count": 92,
   "id": "8f9b6690",
   "metadata": {},
   "outputs": [],
   "source": [
    "submission.iloc[:, 1] = (lr_pred1 + svr_pred1 + dtr_pred1 + rf_pred1) / 4\n",
    "submission.iloc[:, 2] = (lr_pred2 + svr_pred2 + dtr_pred2 + rf_pred2) / 4"
   ]
  },
  {
   "cell_type": "code",
   "execution_count": 93,
   "id": "d74edc98",
   "metadata": {},
   "outputs": [],
   "source": [
    "submission.to_csv('1027_3rd.csv', index = False)"
   ]
  },
  {
   "cell_type": "markdown",
   "id": "2fb5e5e8",
   "metadata": {},
   "source": [
    "***\n",
    "### Comparison by Best Score"
   ]
  },
  {
   "cell_type": "code",
   "execution_count": 26,
   "id": "2580e6e9",
   "metadata": {},
   "outputs": [],
   "source": [
    "import matplotlib.pyplot as plt\n",
    "%matplotlib inline"
   ]
  },
  {
   "cell_type": "code",
   "execution_count": 70,
   "id": "4f6c1062",
   "metadata": {},
   "outputs": [],
   "source": [
    "best = pd.read_csv(\"1027_1st.csv\")"
   ]
  },
  {
   "cell_type": "code",
   "execution_count": 94,
   "id": "179fc195",
   "metadata": {},
   "outputs": [
    {
     "data": {
      "image/png": "[encoded data removed]",
      "text/plain": [
       "<Figure size 432x288 with 1 Axes>"
      ]
     },
     "metadata": {
      "needs_background": "light"
     },
     "output_type": "display_data"
    }
   ],
   "source": [
    "best['sepal width (cm)'].plot(label = 'best')\n",
    "submission['sepal width (cm)'].plot(label = 'new')\n",
    "plt.legend()\n",
    "plt.show()"
   ]
  },
  {
   "cell_type": "code",
   "execution_count": 95,
   "id": "39ea2e8e",
   "metadata": {},
   "outputs": [
    {
     "data": {
      "image/png": "[encoded data removed]",
      "text/plain": [
       "<Figure size 432x288 with 1 Axes>"
      ]
     },
     "metadata": {
      "needs_background": "light"
     },
     "output_type": "display_data"
    }
   ],
   "source": [
    "best['petal width (cm)'].plot(label = 'best')\n",
    "submission['petal width (cm)'].plot(label = 'new')\n",
    "plt.legend()\n",
    "plt.show()"
   ]
  },
  {
   "cell_type": "code",
   "execution_count": null,
   "id": "7d878b3c",
   "metadata": {},
   "outputs": [],
   "source": []
  }
 ],
 "metadata": {
  "kernelspec": {
   "display_name": "Python 3",
   "language": "python",
   "name": "python3"
  },
  "language_info": {
   "codemirror_mode": {
    "name": "ipython",
    "version": 3
   },
   "file_extension": ".py",
   "mimetype": "text/x-python",
   "name": "python",
   "nbconvert_exporter": "python",
   "pygments_lexer": "ipython3",
   "version": "3.8.8"
  }
 },
 "nbformat": 4,
 "nbformat_minor": 5
}
