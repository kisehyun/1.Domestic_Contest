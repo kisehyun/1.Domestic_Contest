{
 "cells": [
  {
   "cell_type": "code",
   "execution_count": 73,
   "id": "780d1fe3",
   "metadata": {},
   "outputs": [],
   "source": [
    "import pandas as pd\n",
    "import numpy as np\n",
    "import warnings\n",
    "warnings.filterwarnings('ignore')"
   ]
  },
  {
   "cell_type": "code",
   "execution_count": 27,
   "id": "5d884209",
   "metadata": {},
   "outputs": [],
   "source": [
    "train = pd.read_csv(\"iris_train.csv\")\n",
    "test = pd.read_csv(\"iris_test.csv\")"
   ]
  },
  {
   "cell_type": "code",
   "execution_count": 28,
   "id": "c7c4eadc",
   "metadata": {},
   "outputs": [
    {
     "data": {
      "text/html": [
       "<div>\n",
       "<style scoped>\n",
       "    .dataframe tbody tr th:only-of-type {\n",
       "        vertical-align: middle;\n",
       "    }\n",
       "\n",
       "    .dataframe tbody tr th {\n",
       "        vertical-align: top;\n",
       "    }\n",
       "\n",
       "    .dataframe thead th {\n",
       "        text-align: right;\n",
       "    }\n",
       "</style>\n",
       "<table border=\"1\" class=\"dataframe\">\n",
       "  <thead>\n",
       "    <tr style=\"text-align: right;\">\n",
       "      <th></th>\n",
       "      <th>id</th>\n",
       "      <th>species</th>\n",
       "      <th>sepal length (cm)</th>\n",
       "      <th>petal length (cm)</th>\n",
       "      <th>sepal width (cm)</th>\n",
       "      <th>petal width (cm)</th>\n",
       "    </tr>\n",
       "  </thead>\n",
       "  <tbody>\n",
       "    <tr>\n",
       "      <th>0</th>\n",
       "      <td>0</td>\n",
       "      <td>setosa</td>\n",
       "      <td>4.4</td>\n",
       "      <td>1.4</td>\n",
       "      <td>2.9</td>\n",
       "      <td>0.2</td>\n",
       "    </tr>\n",
       "    <tr>\n",
       "      <th>1</th>\n",
       "      <td>1</td>\n",
       "      <td>versicolor</td>\n",
       "      <td>6.4</td>\n",
       "      <td>4.5</td>\n",
       "      <td>3.2</td>\n",
       "      <td>1.5</td>\n",
       "    </tr>\n",
       "    <tr>\n",
       "      <th>2</th>\n",
       "      <td>2</td>\n",
       "      <td>virginica</td>\n",
       "      <td>6.2</td>\n",
       "      <td>4.8</td>\n",
       "      <td>2.8</td>\n",
       "      <td>1.8</td>\n",
       "    </tr>\n",
       "    <tr>\n",
       "      <th>3</th>\n",
       "      <td>3</td>\n",
       "      <td>virginica</td>\n",
       "      <td>7.2</td>\n",
       "      <td>6.1</td>\n",
       "      <td>3.6</td>\n",
       "      <td>2.5</td>\n",
       "    </tr>\n",
       "    <tr>\n",
       "      <th>4</th>\n",
       "      <td>4</td>\n",
       "      <td>setosa</td>\n",
       "      <td>4.9</td>\n",
       "      <td>1.4</td>\n",
       "      <td>3.0</td>\n",
       "      <td>0.2</td>\n",
       "    </tr>\n",
       "  </tbody>\n",
       "</table>\n",
       "</div>"
      ],
      "text/plain": [
       "   id     species  sepal length (cm)  petal length (cm)  sepal width (cm)  \\\n",
       "0   0      setosa                4.4                1.4               2.9   \n",
       "1   1  versicolor                6.4                4.5               3.2   \n",
       "2   2   virginica                6.2                4.8               2.8   \n",
       "3   3   virginica                7.2                6.1               3.6   \n",
       "4   4      setosa                4.9                1.4               3.0   \n",
       "\n",
       "   petal width (cm)  \n",
       "0               0.2  \n",
       "1               1.5  \n",
       "2               1.8  \n",
       "3               2.5  \n",
       "4               0.2  "
      ]
     },
     "execution_count": 28,
     "metadata": {},
     "output_type": "execute_result"
    }
   ],
   "source": [
    "train.head()"
   ]
  },
  {
   "cell_type": "code",
   "execution_count": 29,
   "id": "fa163fd9",
   "metadata": {
    "scrolled": true
   },
   "outputs": [
    {
     "data": {
      "text/html": [
       "<div>\n",
       "<style scoped>\n",
       "    .dataframe tbody tr th:only-of-type {\n",
       "        vertical-align: middle;\n",
       "    }\n",
       "\n",
       "    .dataframe tbody tr th {\n",
       "        vertical-align: top;\n",
       "    }\n",
       "\n",
       "    .dataframe thead th {\n",
       "        text-align: right;\n",
       "    }\n",
       "</style>\n",
       "<table border=\"1\" class=\"dataframe\">\n",
       "  <thead>\n",
       "    <tr style=\"text-align: right;\">\n",
       "      <th></th>\n",
       "      <th>id</th>\n",
       "      <th>species</th>\n",
       "      <th>sepal length (cm)</th>\n",
       "      <th>petal length (cm)</th>\n",
       "    </tr>\n",
       "  </thead>\n",
       "  <tbody>\n",
       "    <tr>\n",
       "      <th>0</th>\n",
       "      <td>0</td>\n",
       "      <td>setosa</td>\n",
       "      <td>5.4</td>\n",
       "      <td>1.7</td>\n",
       "    </tr>\n",
       "    <tr>\n",
       "      <th>1</th>\n",
       "      <td>1</td>\n",
       "      <td>setosa</td>\n",
       "      <td>5.7</td>\n",
       "      <td>1.5</td>\n",
       "    </tr>\n",
       "    <tr>\n",
       "      <th>2</th>\n",
       "      <td>2</td>\n",
       "      <td>setosa</td>\n",
       "      <td>5.3</td>\n",
       "      <td>1.5</td>\n",
       "    </tr>\n",
       "    <tr>\n",
       "      <th>3</th>\n",
       "      <td>3</td>\n",
       "      <td>setosa</td>\n",
       "      <td>5.1</td>\n",
       "      <td>1.9</td>\n",
       "    </tr>\n",
       "    <tr>\n",
       "      <th>4</th>\n",
       "      <td>4</td>\n",
       "      <td>virginica</td>\n",
       "      <td>6.0</td>\n",
       "      <td>4.8</td>\n",
       "    </tr>\n",
       "  </tbody>\n",
       "</table>\n",
       "</div>"
      ],
      "text/plain": [
       "   id    species  sepal length (cm)  petal length (cm)\n",
       "0   0     setosa                5.4                1.7\n",
       "1   1     setosa                5.7                1.5\n",
       "2   2     setosa                5.3                1.5\n",
       "3   3     setosa                5.1                1.9\n",
       "4   4  virginica                6.0                4.8"
      ]
     },
     "execution_count": 29,
     "metadata": {},
     "output_type": "execute_result"
    }
   ],
   "source": [
    "test.head()"
   ]
  },
  {
   "cell_type": "code",
   "execution_count": 30,
   "id": "e7b26ebf",
   "metadata": {},
   "outputs": [
    {
     "data": {
      "text/plain": [
       "0.1896874250525636"
      ]
     },
     "execution_count": 30,
     "metadata": {},
     "output_type": "execute_result"
    }
   ],
   "source": [
    "train['sepal width (cm)'].skew()"
   ]
  },
  {
   "cell_type": "code",
   "execution_count": 31,
   "id": "545408ec",
   "metadata": {},
   "outputs": [
    {
     "data": {
      "text/plain": [
       "-0.593425279337102"
      ]
     },
     "execution_count": 31,
     "metadata": {},
     "output_type": "execute_result"
    }
   ],
   "source": [
    "train['petal width (cm)'].skew()"
   ]
  },
  {
   "cell_type": "code",
   "execution_count": 32,
   "id": "e73dd471",
   "metadata": {},
   "outputs": [],
   "source": [
    "from ngboost import NGBRegressor\n",
    "from catboost import CatBoostRegressor\n",
    "from xgboost import XGBRegressor\n",
    "from lightgbm import LGBMRegressor\n",
    "from sklearn.ensemble import *\n",
    "\n",
    "from sklearn.model_selection import KFold, StratifiedKFold, LeaveOneOut\n",
    "from sklearn.metrics import mean_squared_error, mean_absolute_error\n",
    "from sklearn.preprocessing import LabelEncoder"
   ]
  },
  {
   "cell_type": "code",
   "execution_count": 33,
   "id": "92083f69",
   "metadata": {},
   "outputs": [],
   "source": [
    "lo = LeaveOneOut()\n",
    "kf = KFold(n_splits = 5, random_state = 42, shuffle = True)"
   ]
  },
  {
   "cell_type": "code",
   "execution_count": 34,
   "id": "1659704f",
   "metadata": {
    "scrolled": false
   },
   "outputs": [
    {
     "data": {
      "text/plain": [
       "species\n",
       "setosa        3.346667\n",
       "versicolor    2.790000\n",
       "virginica     2.933333\n",
       "Name: sepal width (cm), dtype: float64"
      ]
     },
     "execution_count": 34,
     "metadata": {},
     "output_type": "execute_result"
    }
   ],
   "source": [
    "train.groupby('species')['sepal width (cm)'].mean()"
   ]
  },
  {
   "cell_type": "code",
   "execution_count": 35,
   "id": "cae17cc7",
   "metadata": {},
   "outputs": [],
   "source": [
    "train['species'] = train['species'].map({'setosa' : 3, 'versicolor' : 1, 'virginica' : 2})\n",
    "test['species'] = test['species'].map({'setosa' : 3, 'versicolor' : 1, 'virginica' : 2})"
   ]
  },
  {
   "cell_type": "code",
   "execution_count": 43,
   "id": "2da4f7a0",
   "metadata": {},
   "outputs": [],
   "source": [
    "X = train.iloc[:, 1:4]\n",
    "y1 = train.iloc[:, 4]\n",
    "y2 = train.iloc[:, 5]"
   ]
  },
  {
   "cell_type": "code",
   "execution_count": 76,
   "id": "f0235b10",
   "metadata": {},
   "outputs": [],
   "source": [
    "target = test.iloc[:, 1:]"
   ]
  },
  {
   "cell_type": "code",
   "execution_count": 87,
   "id": "ff8f57ee",
   "metadata": {},
   "outputs": [
    {
     "name": "stdout",
     "output_type": "stream",
     "text": [
      "1 FOLD Start!\n",
      "[iter 0] loss=0.4817 val_loss=0.4054 scale=1.0000 norm=0.6661\n",
      "\n",
      "\n",
      "2 FOLD Start!\n",
      "[iter 0] loss=0.5259 val_loss=0.2472 scale=1.0000 norm=0.6804\n",
      "\n",
      "\n",
      "3 FOLD Start!\n",
      "[iter 0] loss=0.4412 val_loss=0.5676 scale=1.0000 norm=0.6619\n",
      "== Early stopping achieved.\n",
      "== Best iteration / VAL61 (val_loss=0.4121)\n",
      "\n",
      "\n",
      "4 FOLD Start!\n",
      "[iter 0] loss=0.5237 val_loss=0.2528 scale=1.0000 norm=0.6797\n",
      "\n",
      "\n",
      "5 FOLD Start!\n",
      "[iter 0] loss=0.3278 val_loss=1.1351 scale=1.0000 norm=0.6188\n",
      "== Early stopping achieved.\n",
      "== Best iteration / VAL81 (val_loss=0.6889)\n",
      "\n",
      "\n"
     ]
    }
   ],
   "source": [
    "ngb_pred1 = np.zeros((target.shape[0]))\n",
    "for i, idx in enumerate(zip(kf.split(X, y1))) :\n",
    "    print(f'{i + 1} FOLD Start!')\n",
    "    tr_x, tr_y = X.iloc[idx[0][0]], y1.iloc[idx[0][0]]\n",
    "    val_x, val_y = X.iloc[idx[0][1]], y1.iloc[idx[0][1]]\n",
    "    \n",
    "    ngb = NGBRegressor(random_state = 42, n_estimators = 100, learning_rate = 0.008, verbose = 10)\n",
    "    \n",
    "    ngb.fit(tr_x, tr_y, val_x, val_y, early_stopping_rounds = 10)\n",
    "    fold_pred = ngb.predict(target) / 5\n",
    "    \n",
    "    ngb_pred1 += fold_pred\n",
    "    \n",
    "    print('\\n')"
   ]
  },
  {
   "cell_type": "code",
   "execution_count": 88,
   "id": "263fb161",
   "metadata": {},
   "outputs": [
    {
     "name": "stdout",
     "output_type": "stream",
     "text": [
      "1 FOLD Start!\n",
      "[iter 0] loss=1.0230 val_loss=1.1399 scale=2.0000 norm=1.5799\n",
      "\n",
      "\n",
      "2 FOLD Start!\n",
      "[iter 0] loss=1.0985 val_loss=0.8686 scale=2.0000 norm=1.6117\n",
      "\n",
      "\n",
      "3 FOLD Start!\n",
      "[iter 0] loss=1.0350 val_loss=1.0948 scale=2.0000 norm=1.5798\n",
      "\n",
      "\n",
      "4 FOLD Start!\n",
      "[iter 0] loss=1.0504 val_loss=1.0404 scale=2.0000 norm=1.5842\n",
      "\n",
      "\n",
      "5 FOLD Start!\n",
      "[iter 0] loss=1.0419 val_loss=1.0637 scale=2.0000 norm=1.5830\n",
      "\n",
      "\n"
     ]
    }
   ],
   "source": [
    "ngb_pred2 = np.zeros((target.shape[0]))\n",
    "for i, idx in enumerate(zip(kf.split(X, y2))) :\n",
    "    print(f'{i + 1} FOLD Start!')\n",
    "    tr_x, tr_y = X.iloc[idx[0][0]], y2.iloc[idx[0][0]]\n",
    "    val_x, val_y = X.iloc[idx[0][1]], y2.iloc[idx[0][1]]\n",
    "    \n",
    "    ngb = NGBRegressor(random_state = 42, n_estimators = 100, learning_rate = 0.008, verbose = 10)\n",
    "    \n",
    "    ngb.fit(tr_x, tr_y, val_x, val_y, early_stopping_rounds = 10)\n",
    "    fold_pred = ngb.predict(target) / 5\n",
    "    \n",
    "    ngb_pred2 += fold_pred\n",
    "    \n",
    "    print('\\n')"
   ]
  },
  {
   "cell_type": "code",
   "execution_count": 80,
   "id": "f85c2829",
   "metadata": {},
   "outputs": [
    {
     "name": "stdout",
     "output_type": "stream",
     "text": [
      "1 FOLD Start!\n",
      "Training until validation scores don't improve for 10 rounds\n",
      "[10]\ttraining's l1: 0.287156\tvalid_1's l1: 0.267841\n",
      "Early stopping, best iteration is:\n",
      "[1]\ttraining's l1: 0.292389\tvalid_1's l1: 0.267386\n",
      "\n",
      "\n",
      "2 FOLD Start!\n",
      "Training until validation scores don't improve for 10 rounds\n",
      "[10]\ttraining's l1: 0.300224\tvalid_1's l1: 0.21485\n",
      "[20]\ttraining's l1: 0.295805\tvalid_1's l1: 0.211799\n",
      "[30]\ttraining's l1: 0.292941\tvalid_1's l1: 0.210174\n",
      "[40]\ttraining's l1: 0.291566\tvalid_1's l1: 0.20992\n",
      "[50]\ttraining's l1: 0.29135\tvalid_1's l1: 0.210716\n",
      "Early stopping, best iteration is:\n",
      "[44]\ttraining's l1: 0.291054\tvalid_1's l1: 0.209825\n",
      "\n",
      "\n",
      "3 FOLD Start!\n",
      "Training until validation scores don't improve for 10 rounds\n",
      "[10]\ttraining's l1: 0.277633\tvalid_1's l1: 0.317395\n",
      "[20]\ttraining's l1: 0.275443\tvalid_1's l1: 0.312527\n",
      "[30]\ttraining's l1: 0.273461\tvalid_1's l1: 0.308124\n",
      "[40]\ttraining's l1: 0.27167\tvalid_1's l1: 0.304142\n",
      "[50]\ttraining's l1: 0.270049\tvalid_1's l1: 0.300541\n",
      "[60]\ttraining's l1: 0.26928\tvalid_1's l1: 0.299163\n",
      "[70]\ttraining's l1: 0.268589\tvalid_1's l1: 0.297818\n",
      "[80]\ttraining's l1: 0.268055\tvalid_1's l1: 0.296584\n",
      "[90]\ttraining's l1: 0.267825\tvalid_1's l1: 0.295961\n",
      "[100]\ttraining's l1: 0.2676\tvalid_1's l1: 0.295353\n",
      "Did not meet early stopping. Best iteration is:\n",
      "[100]\ttraining's l1: 0.2676\tvalid_1's l1: 0.295353\n",
      "\n",
      "\n",
      "4 FOLD Start!\n",
      "Training until validation scores don't improve for 10 rounds\n",
      "[10]\ttraining's l1: 0.298118\tvalid_1's l1: 0.223552\n",
      "[20]\ttraining's l1: 0.294154\tvalid_1's l1: 0.219229\n",
      "[30]\ttraining's l1: 0.292328\tvalid_1's l1: 0.218333\n",
      "Early stopping, best iteration is:\n",
      "[24]\ttraining's l1: 0.293095\tvalid_1's l1: 0.218333\n",
      "\n",
      "\n",
      "5 FOLD Start!\n",
      "Training until validation scores don't improve for 10 rounds\n",
      "[10]\ttraining's l1: 0.25624\tvalid_1's l1: 0.406576\n",
      "[20]\ttraining's l1: 0.253748\tvalid_1's l1: 0.402414\n",
      "[30]\ttraining's l1: 0.252399\tvalid_1's l1: 0.401065\n",
      "[40]\ttraining's l1: 0.251178\tvalid_1's l1: 0.399845\n",
      "[50]\ttraining's l1: 0.250075\tvalid_1's l1: 0.398742\n",
      "[60]\ttraining's l1: 0.249077\tvalid_1's l1: 0.397744\n",
      "[70]\ttraining's l1: 0.247636\tvalid_1's l1: 0.398075\n",
      "Early stopping, best iteration is:\n",
      "[61]\ttraining's l1: 0.248983\tvalid_1's l1: 0.397649\n",
      "\n",
      "\n"
     ]
    }
   ],
   "source": [
    "lgbm_pred1 = np.zeros((target.shape[0]))\n",
    "for i, idx in enumerate(zip(kf.split(X, y1))) :\n",
    "    print(f'{i + 1} FOLD Start!')\n",
    "    tr_x, tr_y = X.iloc[idx[0][0]], y1.iloc[idx[0][0]]\n",
    "    val_x, val_y = X.iloc[idx[0][1]], y1.iloc[idx[0][1]]\n",
    "    \n",
    "    lgbm = LGBMRegressor(random_state = 42, max_depth = 5, n_estimators = 100, learning_rate = 0.01, objective = 'regression', metric = 'mae')\n",
    "    \n",
    "    lgbm.fit(tr_x, tr_y, eval_set = [(tr_x, tr_y), (val_x, val_y)], eval_metric = 'mae', early_stopping_rounds = 10, verbose = 10)\n",
    "    fold_pred = lgbm.predict(target) / 5\n",
    "    \n",
    "    lgbm_pred1 += fold_pred\n",
    "    print('\\n')"
   ]
  },
  {
   "cell_type": "code",
   "execution_count": 79,
   "id": "746b67a1",
   "metadata": {
    "scrolled": true
   },
   "outputs": [
    {
     "name": "stdout",
     "output_type": "stream",
     "text": [
      "1 FOLD Start!\n",
      "Training until validation scores don't improve for 10 rounds\n",
      "[10]\ttraining's l1: 0.487082\tvalid_1's l1: 0.602591\n",
      "[20]\ttraining's l1: 0.45792\tvalid_1's l1: 0.568558\n",
      "[30]\ttraining's l1: 0.434797\tvalid_1's l1: 0.537734\n",
      "[40]\ttraining's l1: 0.416031\tvalid_1's l1: 0.509505\n",
      "[50]\ttraining's l1: 0.398811\tvalid_1's l1: 0.485006\n",
      "[60]\ttraining's l1: 0.383227\tvalid_1's l1: 0.466432\n",
      "[70]\ttraining's l1: 0.370711\tvalid_1's l1: 0.448064\n",
      "[80]\ttraining's l1: 0.359214\tvalid_1's l1: 0.432147\n",
      "[90]\ttraining's l1: 0.34862\tvalid_1's l1: 0.416255\n",
      "[100]\ttraining's l1: 0.340836\tvalid_1's l1: 0.404064\n",
      "Did not meet early stopping. Best iteration is:\n",
      "[100]\ttraining's l1: 0.340836\tvalid_1's l1: 0.404064\n",
      "\n",
      "\n",
      "2 FOLD Start!\n",
      "Training until validation scores don't improve for 10 rounds\n",
      "[10]\ttraining's l1: 0.544443\tvalid_1's l1: 0.405597\n",
      "[20]\ttraining's l1: 0.506728\tvalid_1's l1: 0.390531\n",
      "[30]\ttraining's l1: 0.474066\tvalid_1's l1: 0.378352\n",
      "[40]\ttraining's l1: 0.44532\tvalid_1's l1: 0.367338\n",
      "[50]\ttraining's l1: 0.422544\tvalid_1's l1: 0.351463\n",
      "[60]\ttraining's l1: 0.402659\tvalid_1's l1: 0.338022\n",
      "[70]\ttraining's l1: 0.38843\tvalid_1's l1: 0.327948\n",
      "[80]\ttraining's l1: 0.376314\tvalid_1's l1: 0.319845\n",
      "[90]\ttraining's l1: 0.365131\tvalid_1's l1: 0.312352\n",
      "[100]\ttraining's l1: 0.35481\tvalid_1's l1: 0.305402\n",
      "Did not meet early stopping. Best iteration is:\n",
      "[100]\ttraining's l1: 0.35481\tvalid_1's l1: 0.305402\n",
      "\n",
      "\n",
      "3 FOLD Start!\n",
      "Training until validation scores don't improve for 10 rounds\n",
      "[10]\ttraining's l1: 0.500827\tvalid_1's l1: 0.527069\n",
      "[20]\ttraining's l1: 0.468468\tvalid_1's l1: 0.490208\n",
      "[30]\ttraining's l1: 0.445736\tvalid_1's l1: 0.462256\n",
      "[40]\ttraining's l1: 0.425073\tvalid_1's l1: 0.43704\n",
      "[50]\ttraining's l1: 0.406067\tvalid_1's l1: 0.41455\n",
      "[60]\ttraining's l1: 0.388586\tvalid_1's l1: 0.397316\n",
      "[70]\ttraining's l1: 0.372507\tvalid_1's l1: 0.383993\n",
      "[80]\ttraining's l1: 0.357713\tvalid_1's l1: 0.3737\n",
      "[90]\ttraining's l1: 0.344583\tvalid_1's l1: 0.364232\n",
      "[100]\ttraining's l1: 0.333829\tvalid_1's l1: 0.356552\n",
      "Did not meet early stopping. Best iteration is:\n",
      "[100]\ttraining's l1: 0.333829\tvalid_1's l1: 0.356552\n",
      "\n",
      "\n",
      "4 FOLD Start!\n",
      "Training until validation scores don't improve for 10 rounds\n",
      "[10]\ttraining's l1: 0.508708\tvalid_1's l1: 0.539263\n",
      "[20]\ttraining's l1: 0.476933\tvalid_1's l1: 0.506441\n",
      "[30]\ttraining's l1: 0.44937\tvalid_1's l1: 0.476757\n",
      "[40]\ttraining's l1: 0.42382\tvalid_1's l1: 0.450118\n",
      "[50]\ttraining's l1: 0.403585\tvalid_1's l1: 0.425808\n",
      "[60]\ttraining's l1: 0.385614\tvalid_1's l1: 0.403421\n",
      "[70]\ttraining's l1: 0.372108\tvalid_1's l1: 0.390924\n",
      "[80]\ttraining's l1: 0.360559\tvalid_1's l1: 0.381385\n",
      "[90]\ttraining's l1: 0.349843\tvalid_1's l1: 0.373675\n",
      "[100]\ttraining's l1: 0.339686\tvalid_1's l1: 0.366248\n",
      "Did not meet early stopping. Best iteration is:\n",
      "[100]\ttraining's l1: 0.339686\tvalid_1's l1: 0.366248\n",
      "\n",
      "\n",
      "5 FOLD Start!\n",
      "Training until validation scores don't improve for 10 rounds\n",
      "[10]\ttraining's l1: 0.507798\tvalid_1's l1: 0.506131\n",
      "[20]\ttraining's l1: 0.476892\tvalid_1's l1: 0.47229\n",
      "[30]\ttraining's l1: 0.450799\tvalid_1's l1: 0.451995\n",
      "[40]\ttraining's l1: 0.427146\tvalid_1's l1: 0.43834\n",
      "[50]\ttraining's l1: 0.405159\tvalid_1's l1: 0.431295\n",
      "[60]\ttraining's l1: 0.385829\tvalid_1's l1: 0.425777\n",
      "[70]\ttraining's l1: 0.369229\tvalid_1's l1: 0.421555\n",
      "[80]\ttraining's l1: 0.353679\tvalid_1's l1: 0.416783\n",
      "[90]\ttraining's l1: 0.340669\tvalid_1's l1: 0.41313\n",
      "[100]\ttraining's l1: 0.330945\tvalid_1's l1: 0.40902\n",
      "Did not meet early stopping. Best iteration is:\n",
      "[100]\ttraining's l1: 0.330945\tvalid_1's l1: 0.40902\n",
      "\n",
      "\n"
     ]
    }
   ],
   "source": [
    "lgbm_pred2 = np.zeros((target.shape[0]))\n",
    "for i, idx in enumerate(zip(kf.split(X, y2))) :\n",
    "    print(f'{i + 1} FOLD Start!')\n",
    "    tr_x, tr_y = X.iloc[idx[0][0]], y2.iloc[idx[0][0]]\n",
    "    val_x, val_y = X.iloc[idx[0][1]], y2.iloc[idx[0][1]]\n",
    "    \n",
    "    lgbm = LGBMRegressor(random_state = 42, max_depth = 5, n_estimators = 100, learning_rate = 0.01, objective = 'regression', metric = 'mae')\n",
    "    \n",
    "    lgbm.fit(tr_x, tr_y, eval_set = [(tr_x, tr_y), (val_x, val_y)], eval_metric = 'mae', early_stopping_rounds = 10, verbose = 10)\n",
    "    fold_pred = lgbm.predict(target) / 5\n",
    "    \n",
    "    lgbm_pred2 += fold_pred\n",
    "    print('\\n')"
   ]
  },
  {
   "cell_type": "code",
   "execution_count": 81,
   "id": "b2237ed1",
   "metadata": {},
   "outputs": [],
   "source": [
    "submission = pd.read_csv(\"sample_submission.csv\")"
   ]
  },
  {
   "cell_type": "code",
   "execution_count": 91,
   "id": "8f9b6690",
   "metadata": {},
   "outputs": [],
   "source": [
    "submission.iloc[:, 1] = ngb_pred1\n",
    "submission.iloc[:, 2] = ngb_pred2"
   ]
  },
  {
   "cell_type": "code",
   "execution_count": 92,
   "id": "d74edc98",
   "metadata": {},
   "outputs": [],
   "source": [
    "submission.to_csv('1019_ngb_1st.csv', index = False)"
   ]
  },
  {
   "cell_type": "code",
   "execution_count": null,
   "id": "12107f0f",
   "metadata": {},
   "outputs": [],
   "source": []
  }
 ],
 "metadata": {
  "kernelspec": {
   "display_name": "Python 3",
   "language": "python",
   "name": "python3"
  },
  "language_info": {
   "codemirror_mode": {
    "name": "ipython",
    "version": 3
   },
   "file_extension": ".py",
   "mimetype": "text/x-python",
   "name": "python",
   "nbconvert_exporter": "python",
   "pygments_lexer": "ipython3",
   "version": "3.8.8"
  }
 },
 "nbformat": 4,
 "nbformat_minor": 5
}
