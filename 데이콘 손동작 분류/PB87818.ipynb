{
 "cells": [
  {
   "cell_type": "code",
   "execution_count": null,
   "id": "b5eb3e58",
   "metadata": {
    "executionInfo": {
     "elapsed": 2,
     "status": "ok",
     "timestamp": 1646629310378,
     "user": {
      "displayName": "기세현",
      "photoUrl": "https://lh3.googleusercontent.com/a/default-user=s64",
      "userId": "06743460080794396829"
     },
     "user_tz": -540
    },
    "id": "MqLBHpAamW7t"
   },
   "outputs": [],
   "source": [
    "import pandas as pd\n",
    "import numpy as np\n",
    "\n",
    "import warnings\n",
    "warnings.filterwarnings('ignore')\n",
    "\n",
    "import matplotlib.pyplot as plt\n",
    "%matplotlib inline\n",
    "\n",
    "\n",
    "from sklearn.preprocessing import OneHotEncoder\n",
    "from sklearn.model_selection import StratifiedKFold\n",
    "from sklearn.metrics import accuracy_score\n",
    "\n",
    "from tensorflow.keras.layers import *\n",
    "from tensorflow.keras.models import *\n",
    "from tensorflow.keras.optimizers import *\n",
    "from tensorflow.keras.callbacks import *"
   ]
  },
  {
   "cell_type": "code",
   "execution_count": 2,
   "id": "b8807454",
   "metadata": {
    "executionInfo": {
     "elapsed": 537,
     "status": "ok",
     "timestamp": 1646629110635,
     "user": {
      "displayName": "기세현",
      "photoUrl": "https://lh3.googleusercontent.com/a/default-user=s64",
      "userId": "06743460080794396829"
     },
     "user_tz": -540
    },
    "id": "b8807454"
   },
   "outputs": [],
   "source": [
    "train = pd.read_csv('train.csv')\n",
    "test = pd.read_csv('test.csv')\n",
    "submission = pd.read_csv('sample_submission.csv')"
   ]
  },
  {
   "cell_type": "markdown",
   "id": "a4847dc1",
   "metadata": {},
   "source": [
    "target 별 특징을 생각해보던 중 Image 변환을 시도해 보았습니다. groupby 후 sum을 하여 8 by 4 이미지로 변환해서 살펴봤습니다."
   ]
  },
  {
   "cell_type": "code",
   "execution_count": 3,
   "id": "Hb12oXYgtZ0f",
   "metadata": {
    "colab": {
     "base_uri": "https://localhost:8080/",
     "height": 297
    },
    "executionInfo": {
     "elapsed": 408,
     "status": "ok",
     "timestamp": 1646629117239,
     "user": {
      "displayName": "기세현",
      "photoUrl": "https://lh3.googleusercontent.com/a/default-user=s64",
      "userId": "06743460080794396829"
     },
     "user_tz": -540
    },
    "id": "Hb12oXYgtZ0f",
    "outputId": "701cfc09-3209-4ff9-a188-7e8dd2b483cf",
    "scrolled": true
   },
   "outputs": [
    {
     "data": {
      "text/html": [
       "<div>\n",
       "<style scoped>\n",
       "    .dataframe tbody tr th:only-of-type {\n",
       "        vertical-align: middle;\n",
       "    }\n",
       "\n",
       "    .dataframe tbody tr th {\n",
       "        vertical-align: top;\n",
       "    }\n",
       "\n",
       "    .dataframe thead th {\n",
       "        text-align: right;\n",
       "    }\n",
       "</style>\n",
       "<table border=\"1\" class=\"dataframe\">\n",
       "  <thead>\n",
       "    <tr style=\"text-align: right;\">\n",
       "      <th></th>\n",
       "      <th>sensor_1</th>\n",
       "      <th>sensor_2</th>\n",
       "      <th>sensor_3</th>\n",
       "      <th>sensor_4</th>\n",
       "      <th>sensor_5</th>\n",
       "      <th>sensor_6</th>\n",
       "      <th>sensor_7</th>\n",
       "      <th>sensor_8</th>\n",
       "      <th>sensor_9</th>\n",
       "      <th>sensor_10</th>\n",
       "      <th>...</th>\n",
       "      <th>sensor_23</th>\n",
       "      <th>sensor_24</th>\n",
       "      <th>sensor_25</th>\n",
       "      <th>sensor_26</th>\n",
       "      <th>sensor_27</th>\n",
       "      <th>sensor_28</th>\n",
       "      <th>sensor_29</th>\n",
       "      <th>sensor_30</th>\n",
       "      <th>sensor_31</th>\n",
       "      <th>sensor_32</th>\n",
       "    </tr>\n",
       "    <tr>\n",
       "      <th>target</th>\n",
       "      <th></th>\n",
       "      <th></th>\n",
       "      <th></th>\n",
       "      <th></th>\n",
       "      <th></th>\n",
       "      <th></th>\n",
       "      <th></th>\n",
       "      <th></th>\n",
       "      <th></th>\n",
       "      <th></th>\n",
       "      <th></th>\n",
       "      <th></th>\n",
       "      <th></th>\n",
       "      <th></th>\n",
       "      <th></th>\n",
       "      <th></th>\n",
       "      <th></th>\n",
       "      <th></th>\n",
       "      <th></th>\n",
       "      <th></th>\n",
       "      <th></th>\n",
       "    </tr>\n",
       "  </thead>\n",
       "  <tbody>\n",
       "    <tr>\n",
       "      <th>0</th>\n",
       "      <td>-242.071608</td>\n",
       "      <td>-525.174637</td>\n",
       "      <td>790.896338</td>\n",
       "      <td>318.339940</td>\n",
       "      <td>-395.003926</td>\n",
       "      <td>8.981053</td>\n",
       "      <td>451.345856</td>\n",
       "      <td>-519.794715</td>\n",
       "      <td>-319.702220</td>\n",
       "      <td>-456.367463</td>\n",
       "      <td>...</td>\n",
       "      <td>12.789078</td>\n",
       "      <td>-32.087505</td>\n",
       "      <td>-903.487899</td>\n",
       "      <td>-238.988803</td>\n",
       "      <td>515.336711</td>\n",
       "      <td>86.456027</td>\n",
       "      <td>-356.229142</td>\n",
       "      <td>-468.122673</td>\n",
       "      <td>-353.618223</td>\n",
       "      <td>-1116.399637</td>\n",
       "    </tr>\n",
       "    <tr>\n",
       "      <th>1</th>\n",
       "      <td>-397.664728</td>\n",
       "      <td>-445.573394</td>\n",
       "      <td>-596.986389</td>\n",
       "      <td>-457.274292</td>\n",
       "      <td>-411.481413</td>\n",
       "      <td>-495.964005</td>\n",
       "      <td>124.872262</td>\n",
       "      <td>-337.589194</td>\n",
       "      <td>-456.621243</td>\n",
       "      <td>-269.941762</td>\n",
       "      <td>...</td>\n",
       "      <td>-417.386270</td>\n",
       "      <td>-483.181437</td>\n",
       "      <td>-347.276559</td>\n",
       "      <td>-357.301308</td>\n",
       "      <td>147.713326</td>\n",
       "      <td>-296.095303</td>\n",
       "      <td>-506.843392</td>\n",
       "      <td>-391.673585</td>\n",
       "      <td>88.686945</td>\n",
       "      <td>-348.551367</td>\n",
       "    </tr>\n",
       "    <tr>\n",
       "      <th>2</th>\n",
       "      <td>-1391.432869</td>\n",
       "      <td>-487.575813</td>\n",
       "      <td>602.179601</td>\n",
       "      <td>47.168832</td>\n",
       "      <td>477.442263</td>\n",
       "      <td>-191.070855</td>\n",
       "      <td>-924.835541</td>\n",
       "      <td>-803.122829</td>\n",
       "      <td>-704.552192</td>\n",
       "      <td>-643.399372</td>\n",
       "      <td>...</td>\n",
       "      <td>549.351023</td>\n",
       "      <td>-333.036933</td>\n",
       "      <td>-355.122904</td>\n",
       "      <td>-350.968574</td>\n",
       "      <td>-1553.345162</td>\n",
       "      <td>-391.824645</td>\n",
       "      <td>-418.984509</td>\n",
       "      <td>-423.552477</td>\n",
       "      <td>-591.410828</td>\n",
       "      <td>-298.997937</td>\n",
       "    </tr>\n",
       "    <tr>\n",
       "      <th>3</th>\n",
       "      <td>-589.107303</td>\n",
       "      <td>-934.286454</td>\n",
       "      <td>-2367.004364</td>\n",
       "      <td>-253.169491</td>\n",
       "      <td>-435.655373</td>\n",
       "      <td>-310.730645</td>\n",
       "      <td>1927.719406</td>\n",
       "      <td>-525.098007</td>\n",
       "      <td>-381.128694</td>\n",
       "      <td>-275.497406</td>\n",
       "      <td>...</td>\n",
       "      <td>-80.662266</td>\n",
       "      <td>16.017126</td>\n",
       "      <td>-560.394083</td>\n",
       "      <td>-428.197422</td>\n",
       "      <td>700.286098</td>\n",
       "      <td>-264.381888</td>\n",
       "      <td>-415.349844</td>\n",
       "      <td>-606.913727</td>\n",
       "      <td>-299.628133</td>\n",
       "      <td>27.678038</td>\n",
       "    </tr>\n",
       "  </tbody>\n",
       "</table>\n",
       "<p>4 rows × 32 columns</p>\n",
       "</div>"
      ],
      "text/plain": [
       "           sensor_1    sensor_2     sensor_3    sensor_4    sensor_5  \\\n",
       "target                                                                 \n",
       "0       -242.071608 -525.174637   790.896338  318.339940 -395.003926   \n",
       "1       -397.664728 -445.573394  -596.986389 -457.274292 -411.481413   \n",
       "2      -1391.432869 -487.575813   602.179601   47.168832  477.442263   \n",
       "3       -589.107303 -934.286454 -2367.004364 -253.169491 -435.655373   \n",
       "\n",
       "          sensor_6     sensor_7    sensor_8    sensor_9   sensor_10  ...  \\\n",
       "target                                                               ...   \n",
       "0         8.981053   451.345856 -519.794715 -319.702220 -456.367463  ...   \n",
       "1      -495.964005   124.872262 -337.589194 -456.621243 -269.941762  ...   \n",
       "2      -191.070855  -924.835541 -803.122829 -704.552192 -643.399372  ...   \n",
       "3      -310.730645  1927.719406 -525.098007 -381.128694 -275.497406  ...   \n",
       "\n",
       "         sensor_23   sensor_24   sensor_25   sensor_26    sensor_27  \\\n",
       "target                                                                \n",
       "0        12.789078  -32.087505 -903.487899 -238.988803   515.336711   \n",
       "1      -417.386270 -483.181437 -347.276559 -357.301308   147.713326   \n",
       "2       549.351023 -333.036933 -355.122904 -350.968574 -1553.345162   \n",
       "3       -80.662266   16.017126 -560.394083 -428.197422   700.286098   \n",
       "\n",
       "         sensor_28   sensor_29   sensor_30   sensor_31    sensor_32  \n",
       "target                                                               \n",
       "0        86.456027 -356.229142 -468.122673 -353.618223 -1116.399637  \n",
       "1      -296.095303 -506.843392 -391.673585   88.686945  -348.551367  \n",
       "2      -391.824645 -418.984509 -423.552477 -591.410828  -298.997937  \n",
       "3      -264.381888 -415.349844 -606.913727 -299.628133    27.678038  \n",
       "\n",
       "[4 rows x 32 columns]"
      ]
     },
     "execution_count": 3,
     "metadata": {},
     "output_type": "execute_result"
    }
   ],
   "source": [
    "gr_sum = train.groupby('target').sum().iloc[:, 1 :]\n",
    "gr_sum"
   ]
  },
  {
   "cell_type": "code",
   "execution_count": 4,
   "id": "WGXn4Tfwv37U",
   "metadata": {
    "colab": {
     "base_uri": "https://localhost:8080/",
     "height": 797
    },
    "executionInfo": {
     "elapsed": 1598,
     "status": "ok",
     "timestamp": 1646629262832,
     "user": {
      "displayName": "기세현",
      "photoUrl": "https://lh3.googleusercontent.com/a/default-user=s64",
      "userId": "06743460080794396829"
     },
     "user_tz": -540
    },
    "id": "WGXn4Tfwv37U",
    "outputId": "e89018a7-6f72-4708-e916-4b1f1294f787"
   },
   "outputs": [
    {
     "data": {
      "image/png": "[encoded data removed]",
      "text/plain": [
       "<Figure size 432x432 with 1 Axes>"
      ]
     },
     "metadata": {
      "needs_background": "light"
     },
     "output_type": "display_data"
    },
    {
     "data": {
      "image/png": "[encoded data removed]",
      "text/plain": [
       "<Figure size 432x432 with 1 Axes>"
      ]
     },
     "metadata": {
      "needs_background": "light"
     },
     "output_type": "display_data"
    },
    {
     "data": {
      "image/png": "[encoded data removed]",
      "text/plain": [
       "<Figure size 432x432 with 1 Axes>"
      ]
     },
     "metadata": {
      "needs_background": "light"
     },
     "output_type": "display_data"
    },
    {
     "data": {
      "image/png": "[encoded data removed]",
      "text/plain": [
       "<Figure size 432x432 with 1 Axes>"
      ]
     },
     "metadata": {
      "needs_background": "light"
     },
     "output_type": "display_data"
    }
   ],
   "source": [
    "for i in range(1, 5) :\n",
    "    plt.figure(figsize = (6, 6))\n",
    "    plt.subplot(2, 2, i)\n",
    "    plt.imshow(np.array(gr_sum.iloc[i - 1]).reshape(8, 4)) \n",
    "    plt.title(f'target{i - 1} Image')"
   ]
  },
  {
   "cell_type": "markdown",
   "id": "4a193f7d",
   "metadata": {},
   "source": [
    "비록 통계량을 통해 봤지만 target별로 어느 정도 다른 형태를 띈다고 볼 수 있을 것 같습니다."
   ]
  },
  {
   "cell_type": "code",
   "execution_count": 5,
   "id": "f912ba58",
   "metadata": {
    "executionInfo": {
     "elapsed": 507,
     "status": "ok",
     "timestamp": 1646629320384,
     "user": {
      "displayName": "기세현",
      "photoUrl": "https://lh3.googleusercontent.com/a/default-user=s64",
      "userId": "06743460080794396829"
     },
     "user_tz": -540
    },
    "id": "f912ba58"
   },
   "outputs": [],
   "source": [
    "X = train.iloc[:, 1:-1]\n",
    "target = test.iloc[:, 1:]"
   ]
  },
  {
   "cell_type": "markdown",
   "id": "e21c8de0",
   "metadata": {},
   "source": [
    "sensor1 ~ 32이기 때문에 8 * 4형태로 바꾸어줍니다."
   ]
  },
  {
   "cell_type": "code",
   "execution_count": 8,
   "id": "8e621000",
   "metadata": {
    "executionInfo": {
     "elapsed": 3,
     "status": "ok",
     "timestamp": 1646628234646,
     "user": {
      "displayName": "기세현",
      "photoUrl": "https://lh3.googleusercontent.com/a/default-user=s64",
      "userId": "06743460080794396829"
     },
     "user_tz": -540
    },
    "id": "uhyp8C-mmfT2"
   },
   "outputs": [],
   "source": [
    "X = np.array(X).reshape(-1, 8, 4, 1)\n",
    "target = np.array(target).reshape(-1, 8, 4, 1)"
   ]
  },
  {
   "cell_type": "markdown",
   "id": "4018f95b",
   "metadata": {},
   "source": [
    "MultiClass를 위해 target 값에 One-Hot 인코딩을 취해줍니다."
   ]
  },
  {
   "cell_type": "code",
   "execution_count": 6,
   "id": "j1j8n4gBwXnd",
   "metadata": {
    "executionInfo": {
     "elapsed": 6,
     "status": "ok",
     "timestamp": 1646629336775,
     "user": {
      "displayName": "기세현",
      "photoUrl": "https://lh3.googleusercontent.com/a/default-user=s64",
      "userId": "06743460080794396829"
     },
     "user_tz": -540
    },
    "id": "j1j8n4gBwXnd"
   },
   "outputs": [],
   "source": [
    "ohe = OneHotEncoder(sparse = False)"
   ]
  },
  {
   "cell_type": "code",
   "execution_count": 7,
   "id": "oMj0FX0pwbCr",
   "metadata": {
    "executionInfo": {
     "elapsed": 383,
     "status": "ok",
     "timestamp": 1646629360807,
     "user": {
      "displayName": "기세현",
      "photoUrl": "https://lh3.googleusercontent.com/a/default-user=s64",
      "userId": "06743460080794396829"
     },
     "user_tz": -540
    },
    "id": "oMj0FX0pwbCr"
   },
   "outputs": [],
   "source": [
    "y = ohe.fit_transform(train[['target']])"
   ]
  },
  {
   "cell_type": "code",
   "execution_count": 10,
   "id": "_7hvPUputJdI",
   "metadata": {
    "id": "_7hvPUputJdI"
   },
   "outputs": [],
   "source": [
    "skf = StratifiedKFold(n_splits = 10, random_state = 42, shuffle = True)"
   ]
  },
  {
   "cell_type": "code",
   "execution_count": 122,
   "id": "BgPJqt17qsc7",
   "metadata": {
    "executionInfo": {
     "elapsed": 461,
     "status": "ok",
     "timestamp": 1646628145656,
     "user": {
      "displayName": "기세현",
      "photoUrl": "https://lh3.googleusercontent.com/a/default-user=s64",
      "userId": "06743460080794396829"
     },
     "user_tz": -540
    },
    "id": "BgPJqt17qsc7"
   },
   "outputs": [],
   "source": [
    "es = EarlyStopping(monitor = 'val_acc', patience = 5, mode = 'max', verbose = 0)"
   ]
  },
  {
   "cell_type": "code",
   "execution_count": 139,
   "id": "NlyGVapqqZOE",
   "metadata": {
    "colab": {
     "base_uri": "https://localhost:8080/"
    },
    "executionInfo": {
     "elapsed": 113653,
     "status": "ok",
     "timestamp": 1646628482208,
     "user": {
      "displayName": "기세현",
      "photoUrl": "https://lh3.googleusercontent.com/a/default-user=s64",
      "userId": "06743460080794396829"
     },
     "user_tz": -540
    },
    "id": "NlyGVapqqZOE",
    "outputId": "72fa347f-d20c-4dc2-9234-74bfe3a143fa"
   },
   "outputs": [
    {
     "name": "stdout",
     "output_type": "stream",
     "text": [
      "1 Fold Training.....\n",
      "1 Fold ACC of CNN = 0.8034188034188035\n",
      "2 Fold Training.....\n",
      "2 Fold ACC of CNN = 0.8205128205128205\n",
      "3 Fold Training.....\n",
      "3 Fold ACC of CNN = 0.8376068376068376\n",
      "4 Fold Training.....\n",
      "4 Fold ACC of CNN = 0.8760683760683761\n",
      "5 Fold Training.....\n",
      "5 Fold ACC of CNN = 0.8076923076923077\n",
      "6 Fold Training.....\n",
      "6 Fold ACC of CNN = 0.8197424892703863\n",
      "7 Fold Training.....\n",
      "7 Fold ACC of CNN = 0.8068669527896996\n",
      "8 Fold Training.....\n",
      "8 Fold ACC of CNN = 0.8197424892703863\n",
      "9 Fold Training.....\n",
      "9 Fold ACC of CNN = 0.8497854077253219\n",
      "10 Fold Training.....\n",
      "10 Fold ACC of CNN = 0.8412017167381974\n"
     ]
    }
   ],
   "source": [
    "cnn_acc = []\n",
    "cnn_pred = np.zeros((target.shape[0], 4))\n",
    "for i, (tr_idx, val_idx) in enumerate(skf.split(X, train.target)) :\n",
    "    print(f'{i + 1} Fold Training.....')\n",
    "    tr_x, tr_y = X[tr_idx], y[tr_idx]\n",
    "    val_x, val_y = X[val_idx], y[val_idx]\n",
    "    \n",
    "    ### CNN 모델\n",
    "    cnn = Sequential()\n",
    "    cnn.add(Conv2D(8, (2, 2), padding = \"same\", activation = 'elu', input_shape = (8, 4, 1)))\n",
    "    cnn.add(BatchNormalization())\n",
    "    cnn.add(Conv2D(16, (2, 2), padding = \"same\", activation = 'elu'))\n",
    "    cnn.add(MaxPooling2D(2, 2))\n",
    "    cnn.add(Conv2D(32, (3, 3), padding = \"same\", activation = 'elu'))\n",
    "    cnn.add(BatchNormalization())\n",
    "    cnn.add(Conv2D(32, (3, 3), padding = \"same\", activation = 'elu'))\n",
    "    cnn.add(BatchNormalization())\n",
    "    cnn.add(GlobalAveragePooling2D())\n",
    "    cnn.add(Dense(16, activation = 'relu'))\n",
    "    cnn.add(Dense(4, activation = 'softmax'))\n",
    "\n",
    "    ### ModelCheckPoint Fold마다 갱신\n",
    "    mc = ModelCheckpoint(f'model_{i + 1}.h5', save_best_only = True, monitor = 'val_acc', mode = 'max', verbose = 0)\n",
    "    \n",
    "    ### 모델 compile\n",
    "    cnn.compile(optimizer = RMSprop(learning_rate = 0.04), loss = 'categorical_crossentropy', metrics = ['acc'])\n",
    "\n",
    "    cnn.fit(tr_x, tr_y, validation_data = (val_x, val_y), epochs = 100, batch_size = 32, callbacks = [es, mc], verbose = 0)\n",
    "\n",
    "    ### 최고 성능 기록 모델 Load\n",
    "    best = load_model(f'model_{i + 1}.h5')\n",
    "    ### validation predict\n",
    "    val_pred = best.predict(val_x)\n",
    "    ### 확률값 중 최대값을 클래스로 매칭\n",
    "    val_cls = np.argmax(val_pred, axis = 1)\n",
    "    ### Fold별 정확도 산출\n",
    "    fold_cnn_acc = accuracy_score(np.argmax(val_y, axis = 1), val_cls)\n",
    "    cnn_acc.append(fold_cnn_acc)\n",
    "    print(f'{i + 1} Fold ACC of CNN = {fold_cnn_acc}\\n')\n",
    "\n",
    "    ### Fold별 test 데이터에 대한 예측값 생성 및 앙상블\n",
    "    fold_pred = best.predict(target) / skf.n_splits\n",
    "    cnn_pred += fold_pred"
   ]
  },
  {
   "cell_type": "code",
   "execution_count": 140,
   "id": "AspK0xses90C",
   "metadata": {
    "colab": {
     "base_uri": "https://localhost:8080/"
    },
    "executionInfo": {
     "elapsed": 9,
     "status": "ok",
     "timestamp": 1646628483549,
     "user": {
      "displayName": "기세현",
      "photoUrl": "https://lh3.googleusercontent.com/a/default-user=s64",
      "userId": "06743460080794396829"
     },
     "user_tz": -540
    },
    "id": "AspK0xses90C",
    "outputId": "66736b63-770d-4e73-964e-149ea4c09e1f"
   },
   "outputs": [
    {
     "data": {
      "text/plain": [
       "0.8282638201093135"
      ]
     },
     "execution_count": 140,
     "metadata": {},
     "output_type": "execute_result"
    }
   ],
   "source": [
    "np.mean(cnn_acc)"
   ]
  },
  {
   "cell_type": "code",
   "execution_count": 144,
   "id": "7f153e89",
   "metadata": {
    "executionInfo": {
     "elapsed": 685,
     "status": "ok",
     "timestamp": 1646628854525,
     "user": {
      "displayName": "기세현",
      "photoUrl": "https://lh3.googleusercontent.com/a/default-user=s64",
      "userId": "06743460080794396829"
     },
     "user_tz": -540
    },
    "id": "7f153e89"
   },
   "outputs": [],
   "source": [
    "submission['target'] = np.argmax(cnn_pred, axis = 1)"
   ]
  },
  {
   "cell_type": "code",
   "execution_count": 145,
   "id": "b394fd5b",
   "metadata": {
    "executionInfo": {
     "elapsed": 8,
     "status": "ok",
     "timestamp": 1646628857313,
     "user": {
      "displayName": "기세현",
      "photoUrl": "https://lh3.googleusercontent.com/a/default-user=s64",
      "userId": "06743460080794396829"
     },
     "user_tz": -540
    },
    "id": "b394fd5b"
   },
   "outputs": [],
   "source": [
    "submission.to_csv('1st.csv', index = False)"
   ]
  },
  {
   "cell_type": "code",
   "execution_count": 146,
   "id": "543d3167",
   "metadata": {
    "colab": {
     "base_uri": "https://localhost:8080/"
    },
    "executionInfo": {
     "elapsed": 5,
     "status": "ok",
     "timestamp": 1646628859270,
     "user": {
      "displayName": "기세현",
      "photoUrl": "https://lh3.googleusercontent.com/a/default-user=s64",
      "userId": "06743460080794396829"
     },
     "user_tz": -540
    },
    "id": "543d3167",
    "outputId": "394a832f-e1e5-4eb6-a71d-3bdadb3eb225"
   },
   "outputs": [
    {
     "data": {
      "text/plain": [
       "1    2471\n",
       "2    2367\n",
       "0    2272\n",
       "3    2233\n",
       "Name: target, dtype: int64"
      ]
     },
     "execution_count": 146,
     "metadata": {},
     "output_type": "execute_result"
    }
   ],
   "source": [
    "submission.target.value_counts()"
   ]
  }
 ],
 "metadata": {
  "colab": {
   "collapsed_sections": [],
   "name": "PB84542-Copy1.ipynb",
   "provenance": []
  },
  "kernelspec": {
   "display_name": "Python 3",
   "language": "python",
   "name": "python3"
  },
  "language_info": {
   "codemirror_mode": {
    "name": "ipython",
    "version": 3
   },
   "file_extension": ".py",
   "mimetype": "text/x-python",
   "name": "python",
   "nbconvert_exporter": "python",
   "pygments_lexer": "ipython3",
   "version": "3.8.8"
  }
 },
 "nbformat": 4,
 "nbformat_minor": 5
}
