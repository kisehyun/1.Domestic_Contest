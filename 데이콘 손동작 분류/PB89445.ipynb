{
 "cells": [
  {
   "cell_type": "code",
   "execution_count": 2,
   "id": "MqLBHpAamW7t",
   "metadata": {
    "executionInfo": {
     "elapsed": 2251,
     "status": "ok",
     "timestamp": 1646956840097,
     "user": {
      "displayName": "기세현",
      "photoUrl": "https://lh3.googleusercontent.com/a/default-user=s64",
      "userId": "06743460080794396829"
     },
     "user_tz": -540
    },
    "id": "MqLBHpAamW7t"
   },
   "outputs": [],
   "source": [
    "import pandas as pd\n",
    "import numpy as np\n",
    "\n",
    "import warnings\n",
    "warnings.filterwarnings('ignore')\n",
    "\n",
    "import matplotlib.pyplot as plt\n",
    "%matplotlib inline\n",
    "\n",
    "from sklearn.preprocessing import OneHotEncoder\n",
    "from sklearn.model_selection import StratifiedKFold\n",
    "from sklearn.metrics import accuracy_score\n",
    "from sklearn.preprocessing import StandardScaler"
   ]
  },
  {
   "cell_type": "code",
   "execution_count": 3,
   "id": "b8807454",
   "metadata": {
    "executionInfo": {
     "elapsed": 1556,
     "status": "ok",
     "timestamp": 1646956841651,
     "user": {
      "displayName": "기세현",
      "photoUrl": "https://lh3.googleusercontent.com/a/default-user=s64",
      "userId": "06743460080794396829"
     },
     "user_tz": -540
    },
    "id": "b8807454"
   },
   "outputs": [],
   "source": [
    "train = pd.read_csv('train.csv')\n",
    "test = pd.read_csv('test.csv')\n",
    "submission = pd.read_csv('sample_submission.csv')"
   ]
  },
  {
   "cell_type": "code",
   "execution_count": null,
   "id": "Hb12oXYgtZ0f",
   "metadata": {
    "colab": {
     "base_uri": "https://localhost:8080/",
     "height": 297
    },
    "executionInfo": {
     "elapsed": 305,
     "status": "ok",
     "timestamp": 1646887346230,
     "user": {
      "displayName": "기세현",
      "photoUrl": "https://lh3.googleusercontent.com/a/default-user=s64",
      "userId": "06743460080794396829"
     },
     "user_tz": -540
    },
    "id": "Hb12oXYgtZ0f",
    "outputId": "ff7be350-4c97-4ecd-92c5-a9c4b223da74",
    "scrolled": true
   },
   "outputs": [
    {
     "data": {
      "text/html": [
       "\n",
       "  <div id=\"df-b439a044-cd7e-4a44-b0e2-5e9f6096e7e5\">\n",
       "    <div class=\"colab-df-container\">\n",
       "      <div>\n",
       "<style scoped>\n",
       "    .dataframe tbody tr th:only-of-type {\n",
       "        vertical-align: middle;\n",
       "    }\n",
       "\n",
       "    .dataframe tbody tr th {\n",
       "        vertical-align: top;\n",
       "    }\n",
       "\n",
       "    .dataframe thead th {\n",
       "        text-align: right;\n",
       "    }\n",
       "</style>\n",
       "<table border=\"1\" class=\"dataframe\">\n",
       "  <thead>\n",
       "    <tr style=\"text-align: right;\">\n",
       "      <th></th>\n",
       "      <th>sensor_1</th>\n",
       "      <th>sensor_2</th>\n",
       "      <th>sensor_3</th>\n",
       "      <th>sensor_4</th>\n",
       "      <th>sensor_5</th>\n",
       "      <th>sensor_6</th>\n",
       "      <th>sensor_7</th>\n",
       "      <th>sensor_8</th>\n",
       "      <th>sensor_9</th>\n",
       "      <th>sensor_10</th>\n",
       "      <th>...</th>\n",
       "      <th>sensor_23</th>\n",
       "      <th>sensor_24</th>\n",
       "      <th>sensor_25</th>\n",
       "      <th>sensor_26</th>\n",
       "      <th>sensor_27</th>\n",
       "      <th>sensor_28</th>\n",
       "      <th>sensor_29</th>\n",
       "      <th>sensor_30</th>\n",
       "      <th>sensor_31</th>\n",
       "      <th>sensor_32</th>\n",
       "    </tr>\n",
       "    <tr>\n",
       "      <th>target</th>\n",
       "      <th></th>\n",
       "      <th></th>\n",
       "      <th></th>\n",
       "      <th></th>\n",
       "      <th></th>\n",
       "      <th></th>\n",
       "      <th></th>\n",
       "      <th></th>\n",
       "      <th></th>\n",
       "      <th></th>\n",
       "      <th></th>\n",
       "      <th></th>\n",
       "      <th></th>\n",
       "      <th></th>\n",
       "      <th></th>\n",
       "      <th></th>\n",
       "      <th></th>\n",
       "      <th></th>\n",
       "      <th></th>\n",
       "      <th></th>\n",
       "      <th></th>\n",
       "    </tr>\n",
       "  </thead>\n",
       "  <tbody>\n",
       "    <tr>\n",
       "      <th>0</th>\n",
       "      <td>68.876142</td>\n",
       "      <td>37.019238</td>\n",
       "      <td>103.986506</td>\n",
       "      <td>102.015561</td>\n",
       "      <td>66.062643</td>\n",
       "      <td>34.923040</td>\n",
       "      <td>120.046277</td>\n",
       "      <td>125.160611</td>\n",
       "      <td>74.101715</td>\n",
       "      <td>40.926462</td>\n",
       "      <td>...</td>\n",
       "      <td>121.959404</td>\n",
       "      <td>127.161055</td>\n",
       "      <td>54.052330</td>\n",
       "      <td>59.105536</td>\n",
       "      <td>101.058302</td>\n",
       "      <td>111.137925</td>\n",
       "      <td>35.895666</td>\n",
       "      <td>34.014883</td>\n",
       "      <td>99.927481</td>\n",
       "      <td>104.959621</td>\n",
       "    </tr>\n",
       "    <tr>\n",
       "      <th>1</th>\n",
       "      <td>15.861128</td>\n",
       "      <td>13.938814</td>\n",
       "      <td>88.150945</td>\n",
       "      <td>36.116640</td>\n",
       "      <td>17.006721</td>\n",
       "      <td>15.847735</td>\n",
       "      <td>75.077788</td>\n",
       "      <td>34.076014</td>\n",
       "      <td>23.137508</td>\n",
       "      <td>17.100593</td>\n",
       "      <td>...</td>\n",
       "      <td>80.164241</td>\n",
       "      <td>30.106271</td>\n",
       "      <td>16.012056</td>\n",
       "      <td>18.013143</td>\n",
       "      <td>123.179253</td>\n",
       "      <td>40.895819</td>\n",
       "      <td>14.966109</td>\n",
       "      <td>24.037756</td>\n",
       "      <td>68.033070</td>\n",
       "      <td>39.033988</td>\n",
       "    </tr>\n",
       "    <tr>\n",
       "      <th>2</th>\n",
       "      <td>47.012780</td>\n",
       "      <td>17.995209</td>\n",
       "      <td>127.124171</td>\n",
       "      <td>60.051620</td>\n",
       "      <td>89.059852</td>\n",
       "      <td>25.987871</td>\n",
       "      <td>98.887340</td>\n",
       "      <td>64.056338</td>\n",
       "      <td>63.818174</td>\n",
       "      <td>24.969617</td>\n",
       "      <td>...</td>\n",
       "      <td>102.142076</td>\n",
       "      <td>61.015064</td>\n",
       "      <td>58.113657</td>\n",
       "      <td>21.987083</td>\n",
       "      <td>76.933228</td>\n",
       "      <td>66.072924</td>\n",
       "      <td>54.098746</td>\n",
       "      <td>22.080906</td>\n",
       "      <td>105.914283</td>\n",
       "      <td>52.898395</td>\n",
       "    </tr>\n",
       "    <tr>\n",
       "      <th>3</th>\n",
       "      <td>21.058887</td>\n",
       "      <td>39.913391</td>\n",
       "      <td>113.943025</td>\n",
       "      <td>43.085918</td>\n",
       "      <td>18.342244</td>\n",
       "      <td>21.934264</td>\n",
       "      <td>118.906663</td>\n",
       "      <td>70.106275</td>\n",
       "      <td>30.896496</td>\n",
       "      <td>47.030119</td>\n",
       "      <td>...</td>\n",
       "      <td>121.877290</td>\n",
       "      <td>56.972700</td>\n",
       "      <td>13.025299</td>\n",
       "      <td>35.952587</td>\n",
       "      <td>121.897169</td>\n",
       "      <td>38.919592</td>\n",
       "      <td>35.027094</td>\n",
       "      <td>35.896503</td>\n",
       "      <td>125.974107</td>\n",
       "      <td>65.007579</td>\n",
       "    </tr>\n",
       "  </tbody>\n",
       "</table>\n",
       "<p>4 rows × 32 columns</p>\n",
       "</div>\n",
       "      <button class=\"colab-df-convert\" onclick=\"convertToInteractive('df-b439a044-cd7e-4a44-b0e2-5e9f6096e7e5')\"\n",
       "              title=\"Convert this dataframe to an interactive table.\"\n",
       "              style=\"display:none;\">\n",
       "        \n",
       "  <svg xmlns=\"http://www.w3.org/2000/svg\" height=\"24px\"viewBox=\"0 0 24 24\"\n",
       "       width=\"24px\">\n",
       "    <path d=\"M0 0h24v24H0V0z\" fill=\"none\"/>\n",
       "    <path d=\"M18.56 5.44l.94 2.06.94-2.06 2.06-.94-2.06-.94-.94-2.06-.94 2.06-2.06.94zm-11 1L8.5 8.5l.94-2.06 2.06-.94-2.06-.94L8.5 2.5l-.94 2.06-2.06.94zm10 10l.94 2.06.94-2.06 2.06-.94-2.06-.94-.94-2.06-.94 2.06-2.06.94z\"/><path d=\"M17.41 7.96l-1.37-1.37c-.4-.4-.92-.59-1.43-.59-.52 0-1.04.2-1.43.59L10.3 9.45l-7.72 7.72c-.78.78-.78 2.05 0 2.83L4 21.41c.39.39.9.59 1.41.59.51 0 1.02-.2 1.41-.59l7.78-7.78 2.81-2.81c.8-.78.8-2.07 0-2.86zM5.41 20L4 18.59l7.72-7.72 1.47 1.35L5.41 20z\"/>\n",
       "  </svg>\n",
       "      </button>\n",
       "      \n",
       "  <style>\n",
       "    .colab-df-container {\n",
       "      display:flex;\n",
       "      flex-wrap:wrap;\n",
       "      gap: 12px;\n",
       "    }\n",
       "\n",
       "    .colab-df-convert {\n",
       "      background-color: #E8F0FE;\n",
       "      border: none;\n",
       "      border-radius: 50%;\n",
       "      cursor: pointer;\n",
       "      display: none;\n",
       "      fill: #1967D2;\n",
       "      height: 32px;\n",
       "      padding: 0 0 0 0;\n",
       "      width: 32px;\n",
       "    }\n",
       "\n",
       "    .colab-df-convert:hover {\n",
       "      background-color: #E2EBFA;\n",
       "      box-shadow: 0px 1px 2px rgba(60, 64, 67, 0.3), 0px 1px 3px 1px rgba(60, 64, 67, 0.15);\n",
       "      fill: #174EA6;\n",
       "    }\n",
       "\n",
       "    [theme=dark] .colab-df-convert {\n",
       "      background-color: #3B4455;\n",
       "      fill: #D2E3FC;\n",
       "    }\n",
       "\n",
       "    [theme=dark] .colab-df-convert:hover {\n",
       "      background-color: #434B5C;\n",
       "      box-shadow: 0px 1px 3px 1px rgba(0, 0, 0, 0.15);\n",
       "      filter: drop-shadow(0px 1px 2px rgba(0, 0, 0, 0.3));\n",
       "      fill: #FFFFFF;\n",
       "    }\n",
       "  </style>\n",
       "\n",
       "      <script>\n",
       "        const buttonEl =\n",
       "          document.querySelector('#df-b439a044-cd7e-4a44-b0e2-5e9f6096e7e5 button.colab-df-convert');\n",
       "        buttonEl.style.display =\n",
       "          google.colab.kernel.accessAllowed ? 'block' : 'none';\n",
       "\n",
       "        async function convertToInteractive(key) {\n",
       "          const element = document.querySelector('#df-b439a044-cd7e-4a44-b0e2-5e9f6096e7e5');\n",
       "          const dataTable =\n",
       "            await google.colab.kernel.invokeFunction('convertToInteractive',\n",
       "                                                     [key], {});\n",
       "          if (!dataTable) return;\n",
       "\n",
       "          const docLinkHtml = 'Like what you see? Visit the ' +\n",
       "            '<a target=\"_blank\" href=https://colab.research.google.com/notebooks/data_table.ipynb>data table notebook</a>'\n",
       "            + ' to learn more about interactive tables.';\n",
       "          element.innerHTML = '';\n",
       "          dataTable['output_type'] = 'display_data';\n",
       "          await google.colab.output.renderOutput(dataTable, element);\n",
       "          const docLink = document.createElement('div');\n",
       "          docLink.innerHTML = docLinkHtml;\n",
       "          element.appendChild(docLink);\n",
       "        }\n",
       "      </script>\n",
       "    </div>\n",
       "  </div>\n",
       "  "
      ],
      "text/plain": [
       "         sensor_1   sensor_2    sensor_3    sensor_4   sensor_5   sensor_6  \\\n",
       "target                                                                       \n",
       "0       68.876142  37.019238  103.986506  102.015561  66.062643  34.923040   \n",
       "1       15.861128  13.938814   88.150945   36.116640  17.006721  15.847735   \n",
       "2       47.012780  17.995209  127.124171   60.051620  89.059852  25.987871   \n",
       "3       21.058887  39.913391  113.943025   43.085918  18.342244  21.934264   \n",
       "\n",
       "          sensor_7    sensor_8   sensor_9  sensor_10  ...   sensor_23  \\\n",
       "target                                                ...               \n",
       "0       120.046277  125.160611  74.101715  40.926462  ...  121.959404   \n",
       "1        75.077788   34.076014  23.137508  17.100593  ...   80.164241   \n",
       "2        98.887340   64.056338  63.818174  24.969617  ...  102.142076   \n",
       "3       118.906663   70.106275  30.896496  47.030119  ...  121.877290   \n",
       "\n",
       "         sensor_24  sensor_25  sensor_26   sensor_27   sensor_28  sensor_29  \\\n",
       "target                                                                        \n",
       "0       127.161055  54.052330  59.105536  101.058302  111.137925  35.895666   \n",
       "1        30.106271  16.012056  18.013143  123.179253   40.895819  14.966109   \n",
       "2        61.015064  58.113657  21.987083   76.933228   66.072924  54.098746   \n",
       "3        56.972700  13.025299  35.952587  121.897169   38.919592  35.027094   \n",
       "\n",
       "        sensor_30   sensor_31   sensor_32  \n",
       "target                                     \n",
       "0       34.014883   99.927481  104.959621  \n",
       "1       24.037756   68.033070   39.033988  \n",
       "2       22.080906  105.914283   52.898395  \n",
       "3       35.896503  125.974107   65.007579  \n",
       "\n",
       "[4 rows x 32 columns]"
      ]
     },
     "execution_count": 4,
     "metadata": {},
     "output_type": "execute_result"
    }
   ],
   "source": [
    "gr_mu = train.groupby('target').max().iloc[:, 1 :]\n",
    "gr_mu"
   ]
  },
  {
   "cell_type": "code",
   "execution_count": null,
   "id": "WGXn4Tfwv37U",
   "metadata": {
    "colab": {
     "base_uri": "https://localhost:8080/",
     "height": 797
    },
    "executionInfo": {
     "elapsed": 1728,
     "status": "ok",
     "timestamp": 1646887349616,
     "user": {
      "displayName": "기세현",
      "photoUrl": "https://lh3.googleusercontent.com/a/default-user=s64",
      "userId": "06743460080794396829"
     },
     "user_tz": -540
    },
    "id": "WGXn4Tfwv37U",
    "outputId": "9a47d91e-00d8-4c1a-9e21-ab11f6ae89a7"
   },
   "outputs": [
    {
     "data": {
      "image/png": "[encoded data removed]",
      "text/plain": [
       "<Figure size 432x432 with 1 Axes>"
      ]
     },
     "metadata": {
      "needs_background": "light"
     },
     "output_type": "display_data"
    },
    {
     "data": {
      "image/png": "[encoded data removed]",
      "text/plain": [
       "<Figure size 432x432 with 1 Axes>"
      ]
     },
     "metadata": {
      "needs_background": "light"
     },
     "output_type": "display_data"
    },
    {
     "data": {
      "image/png": "[encoded data removed]",
      "text/plain": [
       "<Figure size 432x432 with 1 Axes>"
      ]
     },
     "metadata": {
      "needs_background": "light"
     },
     "output_type": "display_data"
    },
    {
     "data": {
      "image/png": "[encoded data removed]",
      "text/plain": [
       "<Figure size 432x432 with 1 Axes>"
      ]
     },
     "metadata": {
      "needs_background": "light"
     },
     "output_type": "display_data"
    }
   ],
   "source": [
    "for i in range(1, 5) :\n",
    "  plt.figure(figsize = (6, 6))\n",
    "  plt.subplot(2, 2, i)\n",
    "  plt.imshow(np.array(gr_mu.iloc[i - 1]).reshape(8, 4)) \n",
    "  plt.title(f'target{i - 1} Image')"
   ]
  },
  {
   "cell_type": "code",
   "execution_count": 23,
   "id": "f912ba58",
   "metadata": {
    "executionInfo": {
     "elapsed": 426,
     "status": "ok",
     "timestamp": 1646957618573,
     "user": {
      "displayName": "기세현",
      "photoUrl": "https://lh3.googleusercontent.com/a/default-user=s64",
      "userId": "06743460080794396829"
     },
     "user_tz": -540
    },
    "id": "f912ba58"
   },
   "outputs": [],
   "source": [
    "X = train.drop(['id', 'target'], axis = 1)\n",
    "target = test.iloc[:, 1:]"
   ]
  },
  {
   "cell_type": "code",
   "execution_count": 24,
   "id": "dlohIN7WDhdX",
   "metadata": {
    "executionInfo": {
     "elapsed": 6,
     "status": "ok",
     "timestamp": 1646957618963,
     "user": {
      "displayName": "기세현",
      "photoUrl": "https://lh3.googleusercontent.com/a/default-user=s64",
      "userId": "06743460080794396829"
     },
     "user_tz": -540
    },
    "id": "dlohIN7WDhdX"
   },
   "outputs": [],
   "source": [
    "ss = StandardScaler()"
   ]
  },
  {
   "cell_type": "code",
   "execution_count": 25,
   "id": "LinPVX6SDna6",
   "metadata": {
    "executionInfo": {
     "elapsed": 3,
     "status": "ok",
     "timestamp": 1646957619573,
     "user": {
      "displayName": "기세현",
      "photoUrl": "https://lh3.googleusercontent.com/a/default-user=s64",
      "userId": "06743460080794396829"
     },
     "user_tz": -540
    },
    "id": "LinPVX6SDna6"
   },
   "outputs": [],
   "source": [
    "X = ss.fit_transform(X)\n",
    "target = ss.transform(target)"
   ]
  },
  {
   "cell_type": "code",
   "execution_count": 26,
   "id": "j1j8n4gBwXnd",
   "metadata": {
    "executionInfo": {
     "elapsed": 5,
     "status": "ok",
     "timestamp": 1646957620149,
     "user": {
      "displayName": "기세현",
      "photoUrl": "https://lh3.googleusercontent.com/a/default-user=s64",
      "userId": "06743460080794396829"
     },
     "user_tz": -540
    },
    "id": "j1j8n4gBwXnd"
   },
   "outputs": [],
   "source": [
    "ohe = OneHotEncoder(sparse = False)"
   ]
  },
  {
   "cell_type": "code",
   "execution_count": 27,
   "id": "oMj0FX0pwbCr",
   "metadata": {
    "executionInfo": {
     "elapsed": 3,
     "status": "ok",
     "timestamp": 1646957620542,
     "user": {
      "displayName": "기세현",
      "photoUrl": "https://lh3.googleusercontent.com/a/default-user=s64",
      "userId": "06743460080794396829"
     },
     "user_tz": -540
    },
    "id": "oMj0FX0pwbCr"
   },
   "outputs": [],
   "source": [
    "y = ohe.fit_transform(train[['target']])"
   ]
  },
  {
   "cell_type": "code",
   "execution_count": 9,
   "id": "uhyp8C-mmfT2",
   "metadata": {
    "executionInfo": {
     "elapsed": 1,
     "status": "ok",
     "timestamp": 1646956845985,
     "user": {
      "displayName": "기세현",
      "photoUrl": "https://lh3.googleusercontent.com/a/default-user=s64",
      "userId": "06743460080794396829"
     },
     "user_tz": -540
    },
    "id": "uhyp8C-mmfT2"
   },
   "outputs": [],
   "source": [
    "X = np.array(X).reshape(-1, 8, 4, 1)\n",
    "target = np.array(target).reshape(-1, 8, 4, 1)"
   ]
  },
  {
   "cell_type": "code",
   "execution_count": 10,
   "id": "rkVVRf2Tmut5",
   "metadata": {
    "colab": {
     "base_uri": "https://localhost:8080/"
    },
    "executionInfo": {
     "elapsed": 8428,
     "status": "ok",
     "timestamp": 1646956871952,
     "user": {
      "displayName": "기세현",
      "photoUrl": "https://lh3.googleusercontent.com/a/default-user=s64",
      "userId": "06743460080794396829"
     },
     "user_tz": -540
    },
    "id": "rkVVRf2Tmut5",
    "outputId": "1adeab93-cca0-421c-d746-ce70f74a569e"
   },
   "outputs": [
    {
     "name": "stdout",
     "output_type": "stream",
     "text": [
      "\u001b[?25l\r",
      "\u001b[K     |▎                               | 10 kB 20.1 MB/s eta 0:00:01\r",
      "\u001b[K     |▋                               | 20 kB 11.6 MB/s eta 0:00:01\r",
      "\u001b[K     |▉                               | 30 kB 6.8 MB/s eta 0:00:01\r",
      "\u001b[K     |█▏                              | 40 kB 6.3 MB/s eta 0:00:01\r",
      "\u001b[K     |█▌                              | 51 kB 3.4 MB/s eta 0:00:01\r",
      "\u001b[K     |█▊                              | 61 kB 4.0 MB/s eta 0:00:01\r",
      "\u001b[K     |██                              | 71 kB 4.1 MB/s eta 0:00:01\r",
      "\u001b[K     |██▍                             | 81 kB 4.4 MB/s eta 0:00:01\r",
      "\u001b[K     |██▋                             | 92 kB 4.9 MB/s eta 0:00:01\r",
      "\u001b[K     |███                             | 102 kB 3.8 MB/s eta 0:00:01\r",
      "\u001b[K     |███▏                            | 112 kB 3.8 MB/s eta 0:00:01\r",
      "\u001b[K     |███▌                            | 122 kB 3.8 MB/s eta 0:00:01\r",
      "\u001b[K     |███▉                            | 133 kB 3.8 MB/s eta 0:00:01\r",
      "\u001b[K     |████                            | 143 kB 3.8 MB/s eta 0:00:01\r",
      "\u001b[K     |████▍                           | 153 kB 3.8 MB/s eta 0:00:01\r",
      "\u001b[K     |████▊                           | 163 kB 3.8 MB/s eta 0:00:01\r",
      "\u001b[K     |█████                           | 174 kB 3.8 MB/s eta 0:00:01\r",
      "\u001b[K     |█████▎                          | 184 kB 3.8 MB/s eta 0:00:01\r",
      "\u001b[K     |█████▌                          | 194 kB 3.8 MB/s eta 0:00:01\r",
      "\u001b[K     |█████▉                          | 204 kB 3.8 MB/s eta 0:00:01\r",
      "\u001b[K     |██████▏                         | 215 kB 3.8 MB/s eta 0:00:01\r",
      "\u001b[K     |██████▍                         | 225 kB 3.8 MB/s eta 0:00:01\r",
      "\u001b[K     |██████▊                         | 235 kB 3.8 MB/s eta 0:00:01\r",
      "\u001b[K     |███████                         | 245 kB 3.8 MB/s eta 0:00:01\r",
      "\u001b[K     |███████▎                        | 256 kB 3.8 MB/s eta 0:00:01\r",
      "\u001b[K     |███████▋                        | 266 kB 3.8 MB/s eta 0:00:01\r",
      "\u001b[K     |███████▉                        | 276 kB 3.8 MB/s eta 0:00:01\r",
      "\u001b[K     |████████▏                       | 286 kB 3.8 MB/s eta 0:00:01\r",
      "\u001b[K     |████████▌                       | 296 kB 3.8 MB/s eta 0:00:01\r",
      "\u001b[K     |████████▊                       | 307 kB 3.8 MB/s eta 0:00:01\r",
      "\u001b[K     |█████████                       | 317 kB 3.8 MB/s eta 0:00:01\r",
      "\u001b[K     |█████████▍                      | 327 kB 3.8 MB/s eta 0:00:01\r",
      "\u001b[K     |█████████▋                      | 337 kB 3.8 MB/s eta 0:00:01\r",
      "\u001b[K     |██████████                      | 348 kB 3.8 MB/s eta 0:00:01\r",
      "\u001b[K     |██████████▏                     | 358 kB 3.8 MB/s eta 0:00:01\r",
      "\u001b[K     |██████████▌                     | 368 kB 3.8 MB/s eta 0:00:01\r",
      "\u001b[K     |██████████▉                     | 378 kB 3.8 MB/s eta 0:00:01\r",
      "\u001b[K     |███████████                     | 389 kB 3.8 MB/s eta 0:00:01\r",
      "\u001b[K     |███████████▍                    | 399 kB 3.8 MB/s eta 0:00:01\r",
      "\u001b[K     |███████████▊                    | 409 kB 3.8 MB/s eta 0:00:01\r",
      "\u001b[K     |████████████                    | 419 kB 3.8 MB/s eta 0:00:01\r",
      "\u001b[K     |████████████▎                   | 430 kB 3.8 MB/s eta 0:00:01\r",
      "\u001b[K     |████████████▌                   | 440 kB 3.8 MB/s eta 0:00:01\r",
      "\u001b[K     |████████████▉                   | 450 kB 3.8 MB/s eta 0:00:01\r",
      "\u001b[K     |█████████████▏                  | 460 kB 3.8 MB/s eta 0:00:01\r",
      "\u001b[K     |█████████████▍                  | 471 kB 3.8 MB/s eta 0:00:01\r",
      "\u001b[K     |█████████████▊                  | 481 kB 3.8 MB/s eta 0:00:01\r",
      "\u001b[K     |██████████████                  | 491 kB 3.8 MB/s eta 0:00:01\r",
      "\u001b[K     |██████████████▎                 | 501 kB 3.8 MB/s eta 0:00:01\r",
      "\u001b[K     |██████████████▋                 | 512 kB 3.8 MB/s eta 0:00:01\r",
      "\u001b[K     |██████████████▉                 | 522 kB 3.8 MB/s eta 0:00:01\r",
      "\u001b[K     |███████████████▏                | 532 kB 3.8 MB/s eta 0:00:01\r",
      "\u001b[K     |███████████████▌                | 542 kB 3.8 MB/s eta 0:00:01\r",
      "\u001b[K     |███████████████▊                | 552 kB 3.8 MB/s eta 0:00:01\r",
      "\u001b[K     |████████████████                | 563 kB 3.8 MB/s eta 0:00:01\r",
      "\u001b[K     |████████████████▍               | 573 kB 3.8 MB/s eta 0:00:01\r",
      "\u001b[K     |████████████████▋               | 583 kB 3.8 MB/s eta 0:00:01\r",
      "\u001b[K     |█████████████████               | 593 kB 3.8 MB/s eta 0:00:01\r",
      "\u001b[K     |█████████████████▏              | 604 kB 3.8 MB/s eta 0:00:01\r",
      "\u001b[K     |█████████████████▌              | 614 kB 3.8 MB/s eta 0:00:01\r",
      "\u001b[K     |█████████████████▉              | 624 kB 3.8 MB/s eta 0:00:01\r",
      "\u001b[K     |██████████████████              | 634 kB 3.8 MB/s eta 0:00:01\r",
      "\u001b[K     |██████████████████▍             | 645 kB 3.8 MB/s eta 0:00:01\r",
      "\u001b[K     |██████████████████▊             | 655 kB 3.8 MB/s eta 0:00:01\r",
      "\u001b[K     |███████████████████             | 665 kB 3.8 MB/s eta 0:00:01\r",
      "\u001b[K     |███████████████████▎            | 675 kB 3.8 MB/s eta 0:00:01\r",
      "\u001b[K     |███████████████████▌            | 686 kB 3.8 MB/s eta 0:00:01\r",
      "\u001b[K     |███████████████████▉            | 696 kB 3.8 MB/s eta 0:00:01\r",
      "\u001b[K     |████████████████████▏           | 706 kB 3.8 MB/s eta 0:00:01\r",
      "\u001b[K     |████████████████████▍           | 716 kB 3.8 MB/s eta 0:00:01\r",
      "\u001b[K     |████████████████████▊           | 727 kB 3.8 MB/s eta 0:00:01\r",
      "\u001b[K     |█████████████████████           | 737 kB 3.8 MB/s eta 0:00:01\r",
      "\u001b[K     |█████████████████████▎          | 747 kB 3.8 MB/s eta 0:00:01\r",
      "\u001b[K     |█████████████████████▋          | 757 kB 3.8 MB/s eta 0:00:01\r",
      "\u001b[K     |█████████████████████▉          | 768 kB 3.8 MB/s eta 0:00:01\r",
      "\u001b[K     |██████████████████████▏         | 778 kB 3.8 MB/s eta 0:00:01\r",
      "\u001b[K     |██████████████████████▌         | 788 kB 3.8 MB/s eta 0:00:01\r",
      "\u001b[K     |██████████████████████▊         | 798 kB 3.8 MB/s eta 0:00:01\r",
      "\u001b[K     |███████████████████████         | 808 kB 3.8 MB/s eta 0:00:01\r",
      "\u001b[K     |███████████████████████▍        | 819 kB 3.8 MB/s eta 0:00:01\r",
      "\u001b[K     |███████████████████████▋        | 829 kB 3.8 MB/s eta 0:00:01\r",
      "\u001b[K     |████████████████████████        | 839 kB 3.8 MB/s eta 0:00:01\r",
      "\u001b[K     |████████████████████████▏       | 849 kB 3.8 MB/s eta 0:00:01\r",
      "\u001b[K     |████████████████████████▌       | 860 kB 3.8 MB/s eta 0:00:01\r",
      "\u001b[K     |████████████████████████▉       | 870 kB 3.8 MB/s eta 0:00:01\r",
      "\u001b[K     |█████████████████████████       | 880 kB 3.8 MB/s eta 0:00:01\r",
      "\u001b[K     |█████████████████████████▍      | 890 kB 3.8 MB/s eta 0:00:01\r",
      "\u001b[K     |█████████████████████████▊      | 901 kB 3.8 MB/s eta 0:00:01\r",
      "\u001b[K     |██████████████████████████      | 911 kB 3.8 MB/s eta 0:00:01\r",
      "\u001b[K     |██████████████████████████▎     | 921 kB 3.8 MB/s eta 0:00:01\r",
      "\u001b[K     |██████████████████████████▌     | 931 kB 3.8 MB/s eta 0:00:01\r",
      "\u001b[K     |██████████████████████████▉     | 942 kB 3.8 MB/s eta 0:00:01\r",
      "\u001b[K     |███████████████████████████▏    | 952 kB 3.8 MB/s eta 0:00:01\r",
      "\u001b[K     |███████████████████████████▍    | 962 kB 3.8 MB/s eta 0:00:01\r",
      "\u001b[K     |███████████████████████████▊    | 972 kB 3.8 MB/s eta 0:00:01\r",
      "\u001b[K     |████████████████████████████    | 983 kB 3.8 MB/s eta 0:00:01\r",
      "\u001b[K     |████████████████████████████▎   | 993 kB 3.8 MB/s eta 0:00:01\r",
      "\u001b[K     |████████████████████████████▋   | 1.0 MB 3.8 MB/s eta 0:00:01\r",
      "\u001b[K     |████████████████████████████▉   | 1.0 MB 3.8 MB/s eta 0:00:01\r",
      "\u001b[K     |█████████████████████████████▏  | 1.0 MB 3.8 MB/s eta 0:00:01\r",
      "\u001b[K     |█████████████████████████████▌  | 1.0 MB 3.8 MB/s eta 0:00:01\r",
      "\u001b[K     |█████████████████████████████▊  | 1.0 MB 3.8 MB/s eta 0:00:01\r",
      "\u001b[K     |██████████████████████████████  | 1.1 MB 3.8 MB/s eta 0:00:01\r",
      "\u001b[K     |██████████████████████████████▍ | 1.1 MB 3.8 MB/s eta 0:00:01\r",
      "\u001b[K     |██████████████████████████████▋ | 1.1 MB 3.8 MB/s eta 0:00:01\r",
      "\u001b[K     |███████████████████████████████ | 1.1 MB 3.8 MB/s eta 0:00:01\r",
      "\u001b[K     |███████████████████████████████▏| 1.1 MB 3.8 MB/s eta 0:00:01\r",
      "\u001b[K     |███████████████████████████████▌| 1.1 MB 3.8 MB/s eta 0:00:01\r",
      "\u001b[K     |███████████████████████████████▉| 1.1 MB 3.8 MB/s eta 0:00:01\r",
      "\u001b[K     |████████████████████████████████| 1.1 MB 3.8 MB/s \n",
      "\u001b[?25h"
     ]
    }
   ],
   "source": [
    "from tensorflow.keras.models import *\n",
    "from tensorflow.keras.layers import *\n",
    "from tensorflow.keras.optimizers import *\n",
    "from tensorflow.keras.callbacks import *\n",
    "!pip install -q -U tensorflow-addons\n",
    "from tensorflow_addons.optimizers import RectifiedAdam, SGDW"
   ]
  },
  {
   "cell_type": "code",
   "execution_count": 11,
   "id": "_7hvPUputJdI",
   "metadata": {
    "executionInfo": {
     "elapsed": 510,
     "status": "ok",
     "timestamp": 1646956883889,
     "user": {
      "displayName": "기세현",
      "photoUrl": "https://lh3.googleusercontent.com/a/default-user=s64",
      "userId": "06743460080794396829"
     },
     "user_tz": -540
    },
    "id": "_7hvPUputJdI"
   },
   "outputs": [],
   "source": [
    "skf = StratifiedKFold(n_splits = 10, random_state = 42, shuffle = True)"
   ]
  },
  {
   "cell_type": "code",
   "execution_count": 12,
   "id": "BgPJqt17qsc7",
   "metadata": {
    "executionInfo": {
     "elapsed": 3,
     "status": "ok",
     "timestamp": 1646956884334,
     "user": {
      "displayName": "기세현",
      "photoUrl": "https://lh3.googleusercontent.com/a/default-user=s64",
      "userId": "06743460080794396829"
     },
     "user_tz": -540
    },
    "id": "BgPJqt17qsc7"
   },
   "outputs": [],
   "source": [
    "es = EarlyStopping(monitor = 'val_acc', patience = 15, mode = 'max', verbose = 0)\n",
    "reLR = ReduceLROnPlateau(patience = 5,verbose = 0, factor = 0.9)"
   ]
  },
  {
   "cell_type": "code",
   "execution_count": 15,
   "id": "slOkBThGJdOa",
   "metadata": {
    "colab": {
     "base_uri": "https://localhost:8080/"
    },
    "executionInfo": {
     "elapsed": 378984,
     "status": "ok",
     "timestamp": 1646957355341,
     "user": {
      "displayName": "기세현",
      "photoUrl": "https://lh3.googleusercontent.com/a/default-user=s64",
      "userId": "06743460080794396829"
     },
     "user_tz": -540
    },
    "id": "slOkBThGJdOa",
    "outputId": "61c04432-9653-4b30-bf6a-67381dee9635"
   },
   "outputs": [
    {
     "name": "stdout",
     "output_type": "stream",
     "text": [
      "1 Fold Training.....\n",
      "1 Fold ACC of CNN = 0.8717948717948718\n",
      "\n",
      "2 Fold Training.....\n",
      "2 Fold ACC of CNN = 0.8760683760683761\n",
      "\n",
      "3 Fold Training.....\n",
      "3 Fold ACC of CNN = 0.9188034188034188\n",
      "\n",
      "4 Fold Training.....\n",
      "4 Fold ACC of CNN = 0.8888888888888888\n",
      "\n",
      "5 Fold Training.....\n",
      "5 Fold ACC of CNN = 0.8931623931623932\n",
      "\n",
      "6 Fold Training.....\n",
      "6 Fold ACC of CNN = 0.8669527896995708\n",
      "\n",
      "7 Fold Training.....\n",
      "7 Fold ACC of CNN = 0.8927038626609443\n",
      "\n",
      "8 Fold Training.....\n",
      "8 Fold ACC of CNN = 0.8626609442060086\n",
      "\n",
      "9 Fold Training.....\n",
      "9 Fold ACC of CNN = 0.8798283261802575\n",
      "\n",
      "10 Fold Training.....\n",
      "10 Fold ACC of CNN = 0.8927038626609443\n",
      "\n"
     ]
    }
   ],
   "source": [
    "cnn_acc = []\n",
    "cnn_pred = np.zeros((target.shape[0], 4))\n",
    "for i, (tr_idx, val_idx) in enumerate(skf.split(X, train.target)) :\n",
    "    print(f'{i + 1} Fold Training.....')\n",
    "    tr_x, tr_y = X[tr_idx], y[tr_idx]\n",
    "    val_x, val_y = X[val_idx], y[val_idx]\n",
    "    \n",
    "    ### CNN 모델\n",
    "    cnn = Sequential()\n",
    "    cnn.add(Conv2D(16, (1, 1), padding = \"same\", activation = 'swish', input_shape = (8, 4, 1)))\n",
    "    cnn.add(BatchNormalization())\n",
    "    cnn.add(Conv2D(32, (2, 2), padding = \"same\", activation = 'swish'))\n",
    "    cnn.add(BatchNormalization())\n",
    "    cnn.add(Conv2D(32, (1, 1), padding = \"same\", activation = 'swish'))\n",
    "    cnn.add(BatchNormalization())\n",
    "    cnn.add(Conv2D(32, (3, 3), padding = \"same\", activation = 'swish'))\n",
    "    cnn.add(BatchNormalization())\n",
    "    cnn.add(GlobalAveragePooling2D())\n",
    "    cnn.add(Dense(8, activation = 'swish'))\n",
    "    cnn.add(Dropout(0.2))\n",
    "    cnn.add(Dense(4, activation = 'softmax'))\n",
    "\n",
    "    ### ModelCheckPoint Fold마다 갱신\n",
    "    mc = ModelCheckpoint(f'model_{i + 1}.h5', save_best_only = True, monitor = 'val_acc', mode = 'max', verbose = 0)\n",
    "    \n",
    "    ### 모델 compile\n",
    "    cnn.compile(optimizer = Adam(learning_rate = 0.02), loss = 'binary_crossentropy', metrics = ['acc'])\n",
    "\n",
    "    history = cnn.fit(tr_x, tr_y, validation_data = (val_x, val_y), epochs = 100, batch_size = 16, callbacks = [es, mc, reLR], verbose = 0)\n",
    "\n",
    "    ### 최고 성능 기록 모델 Load\n",
    "    best = load_model(f'model_{i + 1}.h5')\n",
    "    ### validation predict\n",
    "    val_pred = best.predict(val_x)\n",
    "    ### 확률값 중 최대값을 클래스로 매칭\n",
    "    val_cls = np.argmax(val_pred, axis = 1)\n",
    "    ### Fold별 정확도 산출\n",
    "    fold_cnn_acc = accuracy_score(np.argmax(val_y, axis = 1), val_cls)\n",
    "    cnn_acc.append(fold_cnn_acc)\n",
    "    print(f'{i + 1} Fold ACC of CNN = {fold_cnn_acc}\\n')\n",
    "\n",
    "    ### Fold별 test 데이터에 대한 예측값 생성 및 앙상블\n",
    "    fold_pred = best.predict(target) / skf.n_splits\n",
    "    cnn_pred += fold_pred"
   ]
  },
  {
   "cell_type": "code",
   "execution_count": 16,
   "id": "JhUhzjGNLV3H",
   "metadata": {
    "colab": {
     "base_uri": "https://localhost:8080/"
    },
    "executionInfo": {
     "elapsed": 11,
     "status": "ok",
     "timestamp": 1646957356605,
     "user": {
      "displayName": "기세현",
      "photoUrl": "https://lh3.googleusercontent.com/a/default-user=s64",
      "userId": "06743460080794396829"
     },
     "user_tz": -540
    },
    "id": "JhUhzjGNLV3H",
    "outputId": "3527473c-ef57-48f3-bd95-7680e2458297"
   },
   "outputs": [
    {
     "data": {
      "text/plain": [
       "0.8843567734125675"
      ]
     },
     "execution_count": 16,
     "metadata": {},
     "output_type": "execute_result"
    }
   ],
   "source": [
    "np.mean(cnn_acc) # 89445"
   ]
  },
  {
   "cell_type": "code",
   "execution_count": null,
   "id": "gB4PicWEPOif",
   "metadata": {
    "colab": {
     "base_uri": "https://localhost:8080/"
    },
    "executionInfo": {
     "elapsed": 375,
     "status": "ok",
     "timestamp": 1646889072537,
     "user": {
      "displayName": "기세현",
      "photoUrl": "https://lh3.googleusercontent.com/a/default-user=s64",
      "userId": "06743460080794396829"
     },
     "user_tz": -540
    },
    "id": "gB4PicWEPOif",
    "outputId": "5d5c6ed6-84f3-4ca2-e839-f1d2908350e4"
   },
   "outputs": [
    {
     "name": "stdout",
     "output_type": "stream",
     "text": [
      "Model: \"sequential_44\"\n",
      "_________________________________________________________________\n",
      " Layer (type)                Output Shape              Param #   \n",
      "=================================================================\n",
      " conv2d_176 (Conv2D)         (None, 8, 4, 16)          32        \n",
      "                                                                 \n",
      " batch_normalization_176 (Ba  (None, 8, 4, 16)         64        \n",
      " tchNormalization)                                               \n",
      "                                                                 \n",
      " conv2d_177 (Conv2D)         (None, 8, 4, 16)          1040      \n",
      "                                                                 \n",
      " batch_normalization_177 (Ba  (None, 8, 4, 16)         64        \n",
      " tchNormalization)                                               \n",
      "                                                                 \n",
      " conv2d_178 (Conv2D)         (None, 8, 4, 32)          544       \n",
      "                                                                 \n",
      " batch_normalization_178 (Ba  (None, 8, 4, 32)         128       \n",
      " tchNormalization)                                               \n",
      "                                                                 \n",
      " conv2d_179 (Conv2D)         (None, 8, 4, 32)          9248      \n",
      "                                                                 \n",
      " batch_normalization_179 (Ba  (None, 8, 4, 32)         128       \n",
      " tchNormalization)                                               \n",
      "                                                                 \n",
      " flatten_9 (Flatten)         (None, 1024)              0         \n",
      "                                                                 \n",
      " dense_88 (Dense)            (None, 16)                16400     \n",
      "                                                                 \n",
      " dropout_44 (Dropout)        (None, 16)                0         \n",
      "                                                                 \n",
      " dense_89 (Dense)            (None, 4)                 68        \n",
      "                                                                 \n",
      "=================================================================\n",
      "Total params: 27,716\n",
      "Trainable params: 27,524\n",
      "Non-trainable params: 192\n",
      "_________________________________________________________________\n"
     ]
    }
   ],
   "source": [
    "cnn.summary()"
   ]
  },
  {
   "cell_type": "markdown",
   "id": "DBC5bntCUHaG",
   "metadata": {
    "id": "DBC5bntCUHaG"
   },
   "source": [
    "### Record"
   ]
  },
  {
   "cell_type": "code",
   "execution_count": 46,
   "id": "LUR7pbSmKs00",
   "metadata": {
    "executionInfo": {
     "elapsed": 509,
     "status": "ok",
     "timestamp": 1646960131206,
     "user": {
      "displayName": "기세현",
      "photoUrl": "https://lh3.googleusercontent.com/a/default-user=s64",
      "userId": "06743460080794396829"
     },
     "user_tz": -540
    },
    "id": "LUR7pbSmKs00"
   },
   "outputs": [],
   "source": [
    "submission['target'] = np.argmax((cnn_pred + cn1n_pred) / 2, axis = 1)"
   ]
  },
  {
   "cell_type": "code",
   "execution_count": 48,
   "id": "b394fd5b",
   "metadata": {
    "executionInfo": {
     "elapsed": 416,
     "status": "ok",
     "timestamp": 1646960139909,
     "user": {
      "displayName": "기세현",
      "photoUrl": "https://lh3.googleusercontent.com/a/default-user=s64",
      "userId": "06743460080794396829"
     },
     "user_tz": -540
    },
    "id": "b394fd5b"
   },
   "outputs": [],
   "source": [
    "submission.to_csv('0311.csv', index = False)"
   ]
  },
  {
   "cell_type": "code",
   "execution_count": 47,
   "id": "543d3167",
   "metadata": {
    "colab": {
     "base_uri": "https://localhost:8080/"
    },
    "executionInfo": {
     "elapsed": 388,
     "status": "ok",
     "timestamp": 1646960135071,
     "user": {
      "displayName": "기세현",
      "photoUrl": "https://lh3.googleusercontent.com/a/default-user=s64",
      "userId": "06743460080794396829"
     },
     "user_tz": -540
    },
    "id": "543d3167",
    "outputId": "26a494d1-630f-4d54-8c9f-743af53793e3"
   },
   "outputs": [
    {
     "data": {
      "text/plain": [
       "1    2508\n",
       "2    2386\n",
       "0    2294\n",
       "3    2155\n",
       "Name: target, dtype: int64"
      ]
     },
     "execution_count": 47,
     "metadata": {},
     "output_type": "execute_result"
    }
   ],
   "source": [
    "submission.target.value_counts()"
   ]
  }
 ],
 "metadata": {
  "colab": {
   "collapsed_sections": [],
   "name": "PB89424-2.ipynb",
   "provenance": []
  },
  "kernelspec": {
   "display_name": "Python 3",
   "language": "python",
   "name": "python3"
  },
  "language_info": {
   "codemirror_mode": {
    "name": "ipython",
    "version": 3
   },
   "file_extension": ".py",
   "mimetype": "text/x-python",
   "name": "python",
   "nbconvert_exporter": "python",
   "pygments_lexer": "ipython3",
   "version": "3.8.8"
  }
 },
 "nbformat": 4,
 "nbformat_minor": 5
}
